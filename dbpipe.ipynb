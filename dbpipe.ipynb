{
 "cells": [
  {
   "attachments": {},
   "cell_type": "markdown",
   "metadata": {},
   "source": [
    "## Data Read-in"
   ]
  },
  {
   "cell_type": "code",
   "execution_count": 82,
   "metadata": {},
   "outputs": [
    {
     "name": "stdout",
     "output_type": "stream",
     "text": [
      "Found existing installation: kaleido 0.1.0\n",
      "Uninstalling kaleido-0.1.0:\n",
      "  Successfully uninstalled kaleido-0.1.0\n",
      "Collecting kaleido==0.1.*\n",
      "  Using cached kaleido-0.1.0-py2.py3-none-macosx_10_10_x86_64.whl (69.5 MB)\n",
      "Installing collected packages: kaleido\n",
      "Successfully installed kaleido-0.1.0\n",
      "0.2.1\n",
      "5.13.0\n"
     ]
    }
   ],
   "source": [
    "!pip uninstall kaleido -y\n",
    "!pip install --upgrade \"kaleido==0.1.*\"\n",
    "import kaleido #required\n",
    "print(kaleido.__version__) #0.2.1\n",
    "\n",
    "import os\n",
    "import glob\n",
    "import regex as re\n",
    "import json\n",
    "from urllib.request import urlopen\n",
    "import requests\n",
    "import time\n",
    "from geopy import Nominatim\n",
    "import sqlite3\n",
    "# dash\n",
    "import dash\n",
    "from dash import Dash, dcc, html\n",
    "import dash_bootstrap_components as dbc\n",
    "from dash.dependencies import Input, Output, State\n",
    "\n",
    "# plotting and df\n",
    "import plotly\n",
    "print(plotly.__version__)\n",
    "import plotly.graph_objs as go\n",
    "import plotly.express as px\n",
    "import numpy as np\n",
    "import pandas as pd \n",
    "\n",
    "import io\n",
    "import PIL\n",
    "r = np.random.RandomState(42)\n"
   ]
  },
  {
   "cell_type": "code",
   "execution_count": 322,
   "metadata": {},
   "outputs": [],
   "source": [
    "from matplotlib import pyplot as plt"
   ]
  },
  {
   "attachments": {},
   "cell_type": "markdown",
   "metadata": {},
   "source": [
    "1. Time-series data of fundings in different research areas (dollars in millions and rounded)\n",
    "from 2017 - 2023\n",
    "https://report.nih.gov/funding/categorical-spending#/ \n",
    "\n"
   ]
  },
  {
   "cell_type": "code",
   "execution_count": 2,
   "metadata": {},
   "outputs": [],
   "source": [
    "fund_sum = pd.read_excel(\"RCDCFundingSummary_02172023.xlsx\")"
   ]
  },
  {
   "cell_type": "code",
   "execution_count": 3,
   "metadata": {},
   "outputs": [
    {
     "data": {
      "text/html": [
       "<div>\n",
       "<style scoped>\n",
       "    .dataframe tbody tr th:only-of-type {\n",
       "        vertical-align: middle;\n",
       "    }\n",
       "\n",
       "    .dataframe tbody tr th {\n",
       "        vertical-align: top;\n",
       "    }\n",
       "\n",
       "    .dataframe thead th {\n",
       "        text-align: right;\n",
       "    }\n",
       "</style>\n",
       "<table border=\"1\" class=\"dataframe\">\n",
       "  <thead>\n",
       "    <tr style=\"text-align: right;\">\n",
       "      <th></th>\n",
       "      <th>Estimates of Funding for Various Research, Condition, and Disease Categories (RCDC)</th>\n",
       "      <th>Estimates of Funding for Various Research, Condition, and Disease Categories (RCDC).1</th>\n",
       "      <th>Estimates of Funding for Various Research, Condition, and Disease Categories (RCDC).2</th>\n",
       "      <th>Estimates of Funding for Various Research, Condition, and Disease Categories (RCDC).3</th>\n",
       "      <th>Estimates of Funding for Various Research, Condition, and Disease Categories (RCDC).4</th>\n",
       "      <th>Estimates of Funding for Various Research, Condition, and Disease Categories (RCDC).5</th>\n",
       "      <th>Estimates of Funding for Various Research, Condition, and Disease Categories (RCDC).6</th>\n",
       "      <th>Estimates of Funding for Various Research, Condition, and Disease Categories (RCDC).7</th>\n",
       "      <th>Estimates of Funding for Various Research, Condition, and Disease Categories (RCDC).8</th>\n",
       "      <th>Estimates of Funding for Various Research, Condition, and Disease Categories (RCDC).9</th>\n",
       "      <th>...</th>\n",
       "      <th>Estimates of Funding for Various Research, Condition, and Disease Categories (RCDC).11</th>\n",
       "      <th>Estimates of Funding for Various Research, Condition, and Disease Categories (RCDC).12</th>\n",
       "      <th>Estimates of Funding for Various Research, Condition, and Disease Categories (RCDC).13</th>\n",
       "      <th>Estimates of Funding for Various Research, Condition, and Disease Categories (RCDC).14</th>\n",
       "      <th>Estimates of Funding for Various Research, Condition, and Disease Categories (RCDC).15</th>\n",
       "      <th>Estimates of Funding for Various Research, Condition, and Disease Categories (RCDC).16</th>\n",
       "      <th>Estimates of Funding for Various Research, Condition, and Disease Categories (RCDC).17</th>\n",
       "      <th>Estimates of Funding for Various Research, Condition, and Disease Categories (RCDC).18</th>\n",
       "      <th>Estimates of Funding for Various Research, Condition, and Disease Categories (RCDC).19</th>\n",
       "      <th>Estimates of Funding for Various Research, Condition, and Disease Categories (RCDC).20</th>\n",
       "    </tr>\n",
       "  </thead>\n",
       "  <tbody>\n",
       "    <tr>\n",
       "      <th>0</th>\n",
       "      <td>NaN</td>\n",
       "      <td>NaN</td>\n",
       "      <td>NaN</td>\n",
       "      <td>NaN</td>\n",
       "      <td>NaN</td>\n",
       "      <td>NaN</td>\n",
       "      <td>NaN</td>\n",
       "      <td>NaN</td>\n",
       "      <td>NaN</td>\n",
       "      <td>NaN</td>\n",
       "      <td>...</td>\n",
       "      <td>NaN</td>\n",
       "      <td>NaN</td>\n",
       "      <td>NaN</td>\n",
       "      <td>NaN</td>\n",
       "      <td>NaN</td>\n",
       "      <td>NaN</td>\n",
       "      <td>NaN</td>\n",
       "      <td>NaN</td>\n",
       "      <td>NaN</td>\n",
       "      <td>NaN</td>\n",
       "    </tr>\n",
       "    <tr>\n",
       "      <th>1</th>\n",
       "      <td>Research/Disease Areas \\n (Dollars in millions...</td>\n",
       "      <td>2008</td>\n",
       "      <td>2009</td>\n",
       "      <td>2009 ARRA</td>\n",
       "      <td>2010</td>\n",
       "      <td>2010 ARRA</td>\n",
       "      <td>2011</td>\n",
       "      <td>2012</td>\n",
       "      <td>2013</td>\n",
       "      <td>2014</td>\n",
       "      <td>...</td>\n",
       "      <td>2016</td>\n",
       "      <td>2017</td>\n",
       "      <td>2018</td>\n",
       "      <td>2019</td>\n",
       "      <td>2020</td>\n",
       "      <td>2021</td>\n",
       "      <td>2022 Estimated</td>\n",
       "      <td>2023 Estimated</td>\n",
       "      <td>2019 US Mortality 19</td>\n",
       "      <td>2019 US Prevalence SE 19</td>\n",
       "    </tr>\n",
       "    <tr>\n",
       "      <th>2</th>\n",
       "      <td>Acquired Cognitive Impairment</td>\n",
       "      <td>+</td>\n",
       "      <td>+</td>\n",
       "      <td>+</td>\n",
       "      <td>+</td>\n",
       "      <td>+</td>\n",
       "      <td>+</td>\n",
       "      <td>+</td>\n",
       "      <td>+</td>\n",
       "      <td>+</td>\n",
       "      <td>...</td>\n",
       "      <td>1132</td>\n",
       "      <td>1560</td>\n",
       "      <td>1978</td>\n",
       "      <td>2423</td>\n",
       "      <td>2897</td>\n",
       "      <td>3259</td>\n",
       "      <td>3555</td>\n",
       "      <td>3354</td>\n",
       "      <td>-</td>\n",
       "      <td>-</td>\n",
       "    </tr>\n",
       "    <tr>\n",
       "      <th>3</th>\n",
       "      <td>Acute Respiratory Distress Syndrome</td>\n",
       "      <td>82</td>\n",
       "      <td>103</td>\n",
       "      <td>17</td>\n",
       "      <td>110</td>\n",
       "      <td>22</td>\n",
       "      <td>96</td>\n",
       "      <td>98</td>\n",
       "      <td>95</td>\n",
       "      <td>85</td>\n",
       "      <td>...</td>\n",
       "      <td>103</td>\n",
       "      <td>107</td>\n",
       "      <td>123</td>\n",
       "      <td>126</td>\n",
       "      <td>158</td>\n",
       "      <td>148</td>\n",
       "      <td>159</td>\n",
       "      <td>141</td>\n",
       "      <td>10482</td>\n",
       "      <td>-</td>\n",
       "    </tr>\n",
       "    <tr>\n",
       "      <th>4</th>\n",
       "      <td>Adolescent Sexual Activity</td>\n",
       "      <td>+</td>\n",
       "      <td>+</td>\n",
       "      <td>+</td>\n",
       "      <td>80</td>\n",
       "      <td>7</td>\n",
       "      <td>69</td>\n",
       "      <td>76</td>\n",
       "      <td>70</td>\n",
       "      <td>68</td>\n",
       "      <td>...</td>\n",
       "      <td>91</td>\n",
       "      <td>99</td>\n",
       "      <td>96</td>\n",
       "      <td>102</td>\n",
       "      <td>88</td>\n",
       "      <td>94</td>\n",
       "      <td>92</td>\n",
       "      <td>94</td>\n",
       "      <td>-</td>\n",
       "      <td>-</td>\n",
       "    </tr>\n",
       "  </tbody>\n",
       "</table>\n",
       "<p>5 rows × 21 columns</p>\n",
       "</div>"
      ],
      "text/plain": [
       "  Estimates of Funding for Various Research, Condition, and Disease Categories (RCDC)  \\\n",
       "0                                                NaN                                    \n",
       "1  Research/Disease Areas \\n (Dollars in millions...                                    \n",
       "2                     Acquired Cognitive Impairment                                     \n",
       "3               Acute Respiratory Distress Syndrome                                     \n",
       "4                        Adolescent Sexual Activity                                     \n",
       "\n",
       "  Estimates of Funding for Various Research, Condition, and Disease Categories (RCDC).1  \\\n",
       "0                                                NaN                                      \n",
       "1                                               2008                                      \n",
       "2                                                  +                                      \n",
       "3                                                 82                                      \n",
       "4                                                  +                                      \n",
       "\n",
       "  Estimates of Funding for Various Research, Condition, and Disease Categories (RCDC).2  \\\n",
       "0                                                NaN                                      \n",
       "1                                               2009                                      \n",
       "2                                                  +                                      \n",
       "3                                                103                                      \n",
       "4                                                  +                                      \n",
       "\n",
       "  Estimates of Funding for Various Research, Condition, and Disease Categories (RCDC).3  \\\n",
       "0                                                NaN                                      \n",
       "1                                          2009 ARRA                                      \n",
       "2                                                  +                                      \n",
       "3                                                 17                                      \n",
       "4                                                  +                                      \n",
       "\n",
       "  Estimates of Funding for Various Research, Condition, and Disease Categories (RCDC).4  \\\n",
       "0                                                NaN                                      \n",
       "1                                               2010                                      \n",
       "2                                                  +                                      \n",
       "3                                                110                                      \n",
       "4                                                 80                                      \n",
       "\n",
       "  Estimates of Funding for Various Research, Condition, and Disease Categories (RCDC).5  \\\n",
       "0                                                NaN                                      \n",
       "1                                          2010 ARRA                                      \n",
       "2                                                  +                                      \n",
       "3                                                 22                                      \n",
       "4                                                  7                                      \n",
       "\n",
       "  Estimates of Funding for Various Research, Condition, and Disease Categories (RCDC).6  \\\n",
       "0                                                NaN                                      \n",
       "1                                               2011                                      \n",
       "2                                                  +                                      \n",
       "3                                                 96                                      \n",
       "4                                                 69                                      \n",
       "\n",
       "  Estimates of Funding for Various Research, Condition, and Disease Categories (RCDC).7  \\\n",
       "0                                                NaN                                      \n",
       "1                                               2012                                      \n",
       "2                                                  +                                      \n",
       "3                                                 98                                      \n",
       "4                                                 76                                      \n",
       "\n",
       "  Estimates of Funding for Various Research, Condition, and Disease Categories (RCDC).8  \\\n",
       "0                                                NaN                                      \n",
       "1                                               2013                                      \n",
       "2                                                  +                                      \n",
       "3                                                 95                                      \n",
       "4                                                 70                                      \n",
       "\n",
       "  Estimates of Funding for Various Research, Condition, and Disease Categories (RCDC).9  \\\n",
       "0                                                NaN                                      \n",
       "1                                               2014                                      \n",
       "2                                                  +                                      \n",
       "3                                                 85                                      \n",
       "4                                                 68                                      \n",
       "\n",
       "   ...  \\\n",
       "0  ...   \n",
       "1  ...   \n",
       "2  ...   \n",
       "3  ...   \n",
       "4  ...   \n",
       "\n",
       "  Estimates of Funding for Various Research, Condition, and Disease Categories (RCDC).11  \\\n",
       "0                                                NaN                                       \n",
       "1                                               2016                                       \n",
       "2                                               1132                                       \n",
       "3                                                103                                       \n",
       "4                                                 91                                       \n",
       "\n",
       "  Estimates of Funding for Various Research, Condition, and Disease Categories (RCDC).12  \\\n",
       "0                                                NaN                                       \n",
       "1                                               2017                                       \n",
       "2                                               1560                                       \n",
       "3                                                107                                       \n",
       "4                                                 99                                       \n",
       "\n",
       "  Estimates of Funding for Various Research, Condition, and Disease Categories (RCDC).13  \\\n",
       "0                                                NaN                                       \n",
       "1                                               2018                                       \n",
       "2                                               1978                                       \n",
       "3                                                123                                       \n",
       "4                                                 96                                       \n",
       "\n",
       "  Estimates of Funding for Various Research, Condition, and Disease Categories (RCDC).14  \\\n",
       "0                                                NaN                                       \n",
       "1                                               2019                                       \n",
       "2                                               2423                                       \n",
       "3                                                126                                       \n",
       "4                                                102                                       \n",
       "\n",
       "  Estimates of Funding for Various Research, Condition, and Disease Categories (RCDC).15  \\\n",
       "0                                                NaN                                       \n",
       "1                                               2020                                       \n",
       "2                                               2897                                       \n",
       "3                                                158                                       \n",
       "4                                                 88                                       \n",
       "\n",
       "  Estimates of Funding for Various Research, Condition, and Disease Categories (RCDC).16  \\\n",
       "0                                                NaN                                       \n",
       "1                                               2021                                       \n",
       "2                                               3259                                       \n",
       "3                                                148                                       \n",
       "4                                                 94                                       \n",
       "\n",
       "  Estimates of Funding for Various Research, Condition, and Disease Categories (RCDC).17  \\\n",
       "0                                                NaN                                       \n",
       "1                                     2022 Estimated                                       \n",
       "2                                               3555                                       \n",
       "3                                                159                                       \n",
       "4                                                 92                                       \n",
       "\n",
       "  Estimates of Funding for Various Research, Condition, and Disease Categories (RCDC).18  \\\n",
       "0                                                NaN                                       \n",
       "1                                     2023 Estimated                                       \n",
       "2                                               3354                                       \n",
       "3                                                141                                       \n",
       "4                                                 94                                       \n",
       "\n",
       "  Estimates of Funding for Various Research, Condition, and Disease Categories (RCDC).19  \\\n",
       "0                                                NaN                                       \n",
       "1                               2019 US Mortality 19                                       \n",
       "2                                                  -                                       \n",
       "3                                              10482                                       \n",
       "4                                                  -                                       \n",
       "\n",
       "  Estimates of Funding for Various Research, Condition, and Disease Categories (RCDC).20  \n",
       "0                                                NaN                                      \n",
       "1                           2019 US Prevalence SE 19                                      \n",
       "2                                                  -                                      \n",
       "3                                                  -                                      \n",
       "4                                                  -                                      \n",
       "\n",
       "[5 rows x 21 columns]"
      ]
     },
     "execution_count": 3,
     "metadata": {},
     "output_type": "execute_result"
    }
   ],
   "source": [
    "fund_sum.head()"
   ]
  },
  {
   "attachments": {},
   "cell_type": "markdown",
   "metadata": {},
   "source": [
    "2. NIH Awards: by project names, prpoject number (Activity code included) Location, Organization, admin IC, funding mechanisms, direct costs, and indirect costs per fiscal year and project number \n",
    "https://report.nih.gov/award/index.cfm?ot=&fy=2023&state=&ic=&fm=&orgid=&distr=&rfa=&om=n&pid=#tab5 \n",
    "\\"
   ]
  },
  {
   "attachments": {},
   "cell_type": "markdown",
   "metadata": {},
   "source": [
    "We import a city FIPS table for geospatial data display"
   ]
  },
  {
   "cell_type": "code",
   "execution_count": 309,
   "metadata": {},
   "outputs": [
    {
     "data": {
      "text/plain": [
       "[('BALDWIN COUNTY ALABAMA', 1003),\n",
       " ('BARBOUR COUNTY ALABAMA', 1005),\n",
       " ('BIBB COUNTY ALABAMA', 1007),\n",
       " ('BLOUNT COUNTY ALABAMA', 1009)]"
      ]
     },
     "execution_count": 309,
     "metadata": {},
     "output_type": "execute_result"
    }
   ],
   "source": [
    "cfips = pd.read_csv(\"county-fips.csv\")\n",
    "cfips[\"full_name\"] = (cfips[\"county_name\"]+\" \"+cfips[\"state_name\"]).str.upper()\n",
    "fip_dict = dict(zip(list(cfips[\"full_name\"]),list(cfips[\"fips\"])))\n",
    "list(fip_dict.items())[1:5]\n"
   ]
  },
  {
   "cell_type": "markdown",
   "metadata": {},
   "source": [
    "The following would be a dict to map state full name to state two-letter code. "
   ]
  },
  {
   "cell_type": "code",
   "execution_count": 310,
   "metadata": {},
   "outputs": [],
   "source": [
    "anym = pd.read_csv(\"acronynm.csv\")\n",
    "c_dict = dict(zip(list(anym.state.str.upper()),list(anym.code)))"
   ]
  },
  {
   "cell_type": "code",
   "execution_count": 362,
   "metadata": {},
   "outputs": [
    {
     "name": "stdout",
     "output_type": "stream",
     "text": [
      "/Users/linlin/Desktop/2023/16b/dash/awardsbyloc/Worldwide2018.xls\n",
      "/Users/linlin/Desktop/2023/16b/dash/awardsbyloc/Worldwide2019.xls\n",
      "/Users/linlin/Desktop/2023/16b/dash/awardsbyloc/Worldwide2021.xls\n",
      "/Users/linlin/Desktop/2023/16b/dash/awardsbyloc/Worldwide2020.xls\n",
      "/Users/linlin/Desktop/2023/16b/dash/awardsbyloc/Worldwide2022.xls\n",
      "/Users/linlin/Desktop/2023/16b/dash/awardsbyloc/Worldwide2012.xls\n",
      "/Users/linlin/Desktop/2023/16b/dash/awardsbyloc/Worldwide2013.xls\n",
      "/Users/linlin/Desktop/2023/16b/dash/awardsbyloc/Worldwide2014.xls\n",
      "/Users/linlin/Desktop/2023/16b/dash/awardsbyloc/Worldwide2015.xls\n",
      "/Users/linlin/Desktop/2023/16b/dash/awardsbyloc/Worldwide2017.xls\n",
      "/Users/linlin/Desktop/2023/16b/dash/awardsbyloc/Worldwide2016.xls\n"
     ]
    }
   ],
   "source": [
    "\n",
    "data = pd.DataFrame()\n",
    "path = \"/Users/linlin/Desktop/2023/16b/dash/awardsbyloc\"\n",
    "xls_list = os.listdir(path)\n",
    "xlsx = glob.glob(os.path.join(path, \"*.xls\"))\n",
    "for x in xlsx:\n",
    "    if '.DS_Store' not in x:\n",
    "        print(x)\n",
    "        df = pd.read_excel(x)\n",
    "        df.columns = [s.upper() for s in list(df.columns)]\n",
    "        df[\"MONTH\"] = pd.to_datetime(df[\"AWARD NOTICE DATE\"]).dt.month\n",
    "        df[\"YEAR\"] = pd.to_datetime(df[\"AWARD NOTICE DATE\"]).dt.year\n",
    "        df[\"CITY\"] = df[\"CITY\"].str.upper()\n",
    "        df[\"STATE OR COUNTRY NAME\"] = df[\"STATE OR COUNTRY NAME\"].str.upper()\n",
    "        df[\"FULL_LOC\"] = df[\"CITY\"] + \" \" + df[\"STATE OR COUNTRY NAME\"]\n",
    "        df['CODE'] = df[\"STATE OR COUNTRY NAME\"].map(c_dict)\n",
    "        \n",
    "        if len(data) == 0:\n",
    "            data = df\n",
    "        else:\n",
    "            data = pd.concat([data, df],    # Combine vertically\n",
    "                            ignore_index = False,\n",
    "                            sort = False)\n",
    "\n",
    "        "
   ]
  },
  {
   "cell_type": "code",
   "execution_count": 371,
   "metadata": {},
   "outputs": [
    {
     "data": {
      "text/html": [
       "<div>\n",
       "<style scoped>\n",
       "    .dataframe tbody tr th:only-of-type {\n",
       "        vertical-align: middle;\n",
       "    }\n",
       "\n",
       "    .dataframe tbody tr th {\n",
       "        vertical-align: top;\n",
       "    }\n",
       "\n",
       "    .dataframe thead th {\n",
       "        text-align: right;\n",
       "    }\n",
       "</style>\n",
       "<table border=\"1\" class=\"dataframe\">\n",
       "  <thead>\n",
       "    <tr style=\"text-align: right;\">\n",
       "      <th></th>\n",
       "      <th>ORGANIZATION NAME</th>\n",
       "      <th>ORGANIZATION ID (IPF)</th>\n",
       "      <th>PROJECT NUMBER</th>\n",
       "      <th>FUNDING MECHANISM</th>\n",
       "      <th>NIH REFERENCE</th>\n",
       "      <th>PI NAME</th>\n",
       "      <th>PI PERSON ID</th>\n",
       "      <th>PROJECT TITLE</th>\n",
       "      <th>DEPT NAME</th>\n",
       "      <th>NIH DEPT COMBINING NAME</th>\n",
       "      <th>...</th>\n",
       "      <th>MEDICAL SCHOOL LOCATION</th>\n",
       "      <th>INSTITUTION TYPE</th>\n",
       "      <th>AWARD NOTICE DATE</th>\n",
       "      <th>FOA</th>\n",
       "      <th>MONTH</th>\n",
       "      <th>YEAR</th>\n",
       "      <th>FULL_LOC</th>\n",
       "      <th>CODE</th>\n",
       "      <th>NIH DEPT COMBINNING NAME</th>\n",
       "      <th>MEDICAL SCHOOL</th>\n",
       "    </tr>\n",
       "  </thead>\n",
       "  <tbody>\n",
       "    <tr>\n",
       "      <th>0</th>\n",
       "      <td>21ST CENTURY MEDICINE, INC.</td>\n",
       "      <td>4238201.0</td>\n",
       "      <td>1R43HD097690-01</td>\n",
       "      <td>RPGs - SBIR/STTR</td>\n",
       "      <td>9672321</td>\n",
       "      <td>TING, ALISON Y</td>\n",
       "      <td>10504815.0</td>\n",
       "      <td>Whole Ovary Vitrification for Fertility Preser...</td>\n",
       "      <td>NaN</td>\n",
       "      <td>NONE</td>\n",
       "      <td>...</td>\n",
       "      <td>NaN</td>\n",
       "      <td>None</td>\n",
       "      <td>2018-09-25</td>\n",
       "      <td>PA18-574</td>\n",
       "      <td>9.0</td>\n",
       "      <td>2018.0</td>\n",
       "      <td>FONTANA CALIFORNIA</td>\n",
       "      <td>CA</td>\n",
       "      <td>NaN</td>\n",
       "      <td>NaN</td>\n",
       "    </tr>\n",
       "    <tr>\n",
       "      <th>1</th>\n",
       "      <td>21ST CENTURY MEDICINE, INC.</td>\n",
       "      <td>4238201.0</td>\n",
       "      <td>1R43DK117782-01</td>\n",
       "      <td>RPGs - SBIR/STTR</td>\n",
       "      <td>9558420</td>\n",
       "      <td>FAHY, GREGORY M</td>\n",
       "      <td>6580461.0</td>\n",
       "      <td>Development of Apparatus for the Vitrification...</td>\n",
       "      <td>NaN</td>\n",
       "      <td>NONE</td>\n",
       "      <td>...</td>\n",
       "      <td>NaN</td>\n",
       "      <td>None</td>\n",
       "      <td>2018-09-17</td>\n",
       "      <td>PA17-302</td>\n",
       "      <td>9.0</td>\n",
       "      <td>2018.0</td>\n",
       "      <td>FONTANA CALIFORNIA</td>\n",
       "      <td>CA</td>\n",
       "      <td>NaN</td>\n",
       "      <td>NaN</td>\n",
       "    </tr>\n",
       "    <tr>\n",
       "      <th>2</th>\n",
       "      <td>21ST CENTURY THERAPEUTICS, INC.</td>\n",
       "      <td>4524201.0</td>\n",
       "      <td>1R43HL139196-01A1</td>\n",
       "      <td>RPGs - SBIR/STTR</td>\n",
       "      <td>9541093</td>\n",
       "      <td>SHAW, JIAJIU</td>\n",
       "      <td>1980890.0</td>\n",
       "      <td>Development of a Novel Small Molecule as a Rad...</td>\n",
       "      <td>NaN</td>\n",
       "      <td>NONE</td>\n",
       "      <td>...</td>\n",
       "      <td>NaN</td>\n",
       "      <td>None</td>\n",
       "      <td>2018-09-16</td>\n",
       "      <td>PA17-302</td>\n",
       "      <td>9.0</td>\n",
       "      <td>2018.0</td>\n",
       "      <td>DETROIT MICHIGAN</td>\n",
       "      <td>MI</td>\n",
       "      <td>NaN</td>\n",
       "      <td>NaN</td>\n",
       "    </tr>\n",
       "    <tr>\n",
       "      <th>3</th>\n",
       "      <td>3-C INSTITUTE FOR SOCIAL DEVELOPMENT</td>\n",
       "      <td>4326801.0</td>\n",
       "      <td>1R43HD094420-01A1</td>\n",
       "      <td>RPGs - SBIR/STTR</td>\n",
       "      <td>9556059</td>\n",
       "      <td>DEROSIER, MELISSA E</td>\n",
       "      <td>8194555.0</td>\n",
       "      <td>Serious game for bullying prevention to prepar...</td>\n",
       "      <td>NaN</td>\n",
       "      <td>NONE</td>\n",
       "      <td>...</td>\n",
       "      <td>NaN</td>\n",
       "      <td>Research Institutes</td>\n",
       "      <td>2018-08-03</td>\n",
       "      <td>PA17-302</td>\n",
       "      <td>8.0</td>\n",
       "      <td>2018.0</td>\n",
       "      <td>DURHAM NORTH CAROLINA</td>\n",
       "      <td>NC</td>\n",
       "      <td>NaN</td>\n",
       "      <td>NaN</td>\n",
       "    </tr>\n",
       "    <tr>\n",
       "      <th>4</th>\n",
       "      <td>3-C INSTITUTE FOR SOCIAL DEVELOPMENT</td>\n",
       "      <td>4326801.0</td>\n",
       "      <td>4R44HD090805-02</td>\n",
       "      <td>RPGs - SBIR/STTR</td>\n",
       "      <td>9644106</td>\n",
       "      <td>DEROSIER, MELISSA E</td>\n",
       "      <td>8194555.0</td>\n",
       "      <td>Development and evaluation of a serious game f...</td>\n",
       "      <td>NaN</td>\n",
       "      <td>NONE</td>\n",
       "      <td>...</td>\n",
       "      <td>NaN</td>\n",
       "      <td>Research Institutes</td>\n",
       "      <td>2018-08-24</td>\n",
       "      <td>PA16-302</td>\n",
       "      <td>8.0</td>\n",
       "      <td>2018.0</td>\n",
       "      <td>DURHAM NORTH CAROLINA</td>\n",
       "      <td>NC</td>\n",
       "      <td>NaN</td>\n",
       "      <td>NaN</td>\n",
       "    </tr>\n",
       "  </tbody>\n",
       "</table>\n",
       "<p>5 rows × 29 columns</p>\n",
       "</div>"
      ],
      "text/plain": [
       "                      ORGANIZATION NAME  ORGANIZATION ID (IPF)  \\\n",
       "0           21ST CENTURY MEDICINE, INC.              4238201.0   \n",
       "1           21ST CENTURY MEDICINE, INC.              4238201.0   \n",
       "2       21ST CENTURY THERAPEUTICS, INC.              4524201.0   \n",
       "3  3-C INSTITUTE FOR SOCIAL DEVELOPMENT              4326801.0   \n",
       "4  3-C INSTITUTE FOR SOCIAL DEVELOPMENT              4326801.0   \n",
       "\n",
       "      PROJECT NUMBER FUNDING MECHANISM  NIH REFERENCE              PI NAME  \\\n",
       "0    1R43HD097690-01  RPGs - SBIR/STTR        9672321       TING, ALISON Y   \n",
       "1    1R43DK117782-01  RPGs - SBIR/STTR        9558420      FAHY, GREGORY M   \n",
       "2  1R43HL139196-01A1  RPGs - SBIR/STTR        9541093         SHAW, JIAJIU   \n",
       "3  1R43HD094420-01A1  RPGs - SBIR/STTR        9556059  DEROSIER, MELISSA E   \n",
       "4    4R44HD090805-02  RPGs - SBIR/STTR        9644106  DEROSIER, MELISSA E   \n",
       "\n",
       "   PI PERSON ID                                      PROJECT TITLE DEPT NAME  \\\n",
       "0    10504815.0  Whole Ovary Vitrification for Fertility Preser...       NaN   \n",
       "1     6580461.0  Development of Apparatus for the Vitrification...       NaN   \n",
       "2     1980890.0  Development of a Novel Small Molecule as a Rad...       NaN   \n",
       "3     8194555.0  Serious game for bullying prevention to prepar...       NaN   \n",
       "4     8194555.0  Development and evaluation of a serious game f...       NaN   \n",
       "\n",
       "  NIH DEPT COMBINING NAME  ... MEDICAL SCHOOL LOCATION     INSTITUTION TYPE  \\\n",
       "0                    NONE  ...                     NaN                 None   \n",
       "1                    NONE  ...                     NaN                 None   \n",
       "2                    NONE  ...                     NaN                 None   \n",
       "3                    NONE  ...                     NaN  Research Institutes   \n",
       "4                    NONE  ...                     NaN  Research Institutes   \n",
       "\n",
       "   AWARD NOTICE DATE       FOA MONTH    YEAR               FULL_LOC CODE  \\\n",
       "0         2018-09-25  PA18-574   9.0  2018.0     FONTANA CALIFORNIA   CA   \n",
       "1         2018-09-17  PA17-302   9.0  2018.0     FONTANA CALIFORNIA   CA   \n",
       "2         2018-09-16  PA17-302   9.0  2018.0       DETROIT MICHIGAN   MI   \n",
       "3         2018-08-03  PA17-302   8.0  2018.0  DURHAM NORTH CAROLINA   NC   \n",
       "4         2018-08-24  PA16-302   8.0  2018.0  DURHAM NORTH CAROLINA   NC   \n",
       "\n",
       "  NIH DEPT COMBINNING NAME MEDICAL SCHOOL  \n",
       "0                      NaN            NaN  \n",
       "1                      NaN            NaN  \n",
       "2                      NaN            NaN  \n",
       "3                      NaN            NaN  \n",
       "4                      NaN            NaN  \n",
       "\n",
       "[5 rows x 29 columns]"
      ]
     },
     "execution_count": 371,
     "metadata": {},
     "output_type": "execute_result"
    }
   ],
   "source": [
    "data.head()"
   ]
  },
  {
   "cell_type": "code",
   "execution_count": 416,
   "metadata": {},
   "outputs": [],
   "source": [
    "data['INSTITUTION TYPE']= data['INSTITUTION TYPE'].fillna('None')"
   ]
  },
  {
   "cell_type": "code",
   "execution_count": 417,
   "metadata": {},
   "outputs": [
    {
     "data": {
      "text/plain": [
       "623825"
      ]
     },
     "execution_count": 417,
     "metadata": {},
     "output_type": "execute_result"
    }
   ],
   "source": [
    "# store data in database data.db table name \"decade\"\n",
    "\n",
    "conn = sqlite3.connect(\"data.db\")\n",
    "cur = conn.cursor()\n",
    "cur.execute(\"DROP TABLE IF EXISTS decade\")\n",
    "conn.commit()\n",
    "data.to_sql(\"decade\",conn,index=False)"
   ]
  },
  {
   "cell_type": "code",
   "execution_count": 418,
   "metadata": {},
   "outputs": [
    {
     "name": "stdout",
     "output_type": "stream",
     "text": [
      "             ORGANIZATION NAME  ORGANIZATION ID (IPF)   PROJECT NUMBER  \\\n",
      "0  21ST CENTURY MEDICINE, INC.              4238201.0  1R43HD097690-01   \n",
      "\n",
      "  FUNDING MECHANISM  NIH REFERENCE         PI NAME  PI PERSON ID  \\\n",
      "0  RPGs - SBIR/STTR        9672321  TING, ALISON Y    10504815.0   \n",
      "\n",
      "                                       PROJECT TITLE DEPT NAME  \\\n",
      "0  Whole Ovary Vitrification for Fertility Preser...      None   \n",
      "\n",
      "  NIH DEPT COMBINING NAME  ... MEDICAL SCHOOL LOCATION INSTITUTION TYPE  \\\n",
      "0                    NONE  ...                    None             None   \n",
      "\n",
      "     AWARD NOTICE DATE       FOA MONTH    YEAR            FULL_LOC CODE  \\\n",
      "0  2018-09-25 00:00:00  PA18-574   9.0  2018.0  FONTANA CALIFORNIA   CA   \n",
      "\n",
      "  NIH DEPT COMBINNING NAME MEDICAL SCHOOL  \n",
      "0                     None           None  \n",
      "\n",
      "[1 rows x 29 columns]\n"
     ]
    }
   ],
   "source": [
    "\n",
    "print(pd.read_sql_query(\"SELECT * FROM decade LIMIT 1\",conn))\n",
    "conn.close()"
   ]
  },
  {
   "cell_type": "code",
   "execution_count": 49,
   "metadata": {},
   "outputs": [],
   "source": [
    "# retrieving location: longitude and latitude based on city and state\n",
    "\n",
    "geolocator = Nominatim(user_agent=\"app\")\n",
    "\n",
    "#county code\n",
    "https://raw.githubusercontent.com/plotly/dash-sample-apps/main/apps/dash-opioid-epidemic/data/lat_lon_counties.csv\n"
   ]
  },
  {
   "cell_type": "code",
   "execution_count": 372,
   "metadata": {},
   "outputs": [],
   "source": [
    "# just downloaded the county and city fips code from us census data and mapped\n",
    "city = pd.read_csv(\"uscities.csv\")\n",
    "city.city = city.city.str.upper()\n",
    "city.county_name = city.county_name.str.upper()\n",
    "city.state_name = city.state_name.str.upper()\n",
    "city = city.dropna()\n",
    "# store data in database data.db table name \"decade\"\n",
    "conn = sqlite3.connect(\"data.db\")\n",
    "city.to_sql(\"city\",conn,index=False)\n",
    "conn.close()\n"
   ]
  },
  {
   "cell_type": "code",
   "execution_count": 373,
   "metadata": {},
   "outputs": [
    {
     "data": {
      "text/plain": [
       "Index(['ORGANIZATION NAME', 'ORGANIZATION ID (IPF)', 'PROJECT NUMBER',\n",
       "       'FUNDING MECHANISM', 'NIH REFERENCE', 'PI NAME', 'PI PERSON ID',\n",
       "       'PROJECT TITLE', 'DEPT NAME', 'NIH DEPT COMBINING NAME',\n",
       "       'NIH MC COMBINING NAME', 'DIRECT COST', 'INDIRECT COST', 'FUNDING',\n",
       "       'CONGRESSIONAL DISTRICT', 'CITY', 'STATE OR COUNTRY NAME', 'ZIP CODE',\n",
       "       'ATTRIBUTED TO MEDICAL SCHOOL', 'MEDICAL SCHOOL LOCATION',\n",
       "       'INSTITUTION TYPE', 'AWARD NOTICE DATE', 'FOA', 'MONTH', 'YEAR',\n",
       "       'FULL_LOC', 'CODE', 'NIH DEPT COMBINNING NAME', 'MEDICAL SCHOOL'],\n",
       "      dtype='object')"
      ]
     },
     "execution_count": 373,
     "metadata": {},
     "output_type": "execute_result"
    }
   ],
   "source": [
    "data.columns"
   ]
  },
  {
   "cell_type": "code",
   "execution_count": 375,
   "metadata": {},
   "outputs": [
    {
     "data": {
      "text/plain": [
       "array(['RPGs - SBIR/STTR', 'RPGs - Non SBIR/STTR', 'R&D Contracts',\n",
       "       'Other Research-Related', 'Training - Individual',\n",
       "       'Training - Institutional', 'Research Centers', 'Other',\n",
       "       'Construction'], dtype=object)"
      ]
     },
     "execution_count": 375,
     "metadata": {},
     "output_type": "execute_result"
    }
   ],
   "source": [
    "data['FUNDING MECHANISM'].unique()"
   ]
  },
  {
   "cell_type": "code",
   "execution_count": 415,
   "metadata": {},
   "outputs": [
    {
     "data": {
      "text/plain": [
       "array(['None', 'Research Institutes', 'Domestic Higher Education',\n",
       "       'Independent Hospitals'], dtype=object)"
      ]
     },
     "execution_count": 415,
     "metadata": {},
     "output_type": "execute_result"
    }
   ],
   "source": [
    "data['INSTITUTION TYPE'].unique()"
   ]
  },
  {
   "cell_type": "code",
   "execution_count": 374,
   "metadata": {},
   "outputs": [
    {
     "data": {
      "text/plain": [
       "Index(['city', 'city_ascii', 'state_id', 'state_name', 'county_fips',\n",
       "       'county_name', 'lat', 'lng', 'population', 'density', 'source',\n",
       "       'military', 'incorporated', 'timezone', 'ranking', 'zips', 'id'],\n",
       "      dtype='object')"
      ]
     },
     "execution_count": 374,
     "metadata": {},
     "output_type": "execute_result"
    }
   ],
   "source": [
    "city.columns"
   ]
  },
  {
   "cell_type": "code",
   "execution_count": 387,
   "metadata": {},
   "outputs": [
    {
     "name": "stdout",
     "output_type": "stream",
     "text": [
      "Empty DataFrame\n",
      "Columns: []\n",
      "Index: []\n"
     ]
    }
   ],
   "source": [
    "cmd = '''\n",
    "SELECT D.[PROJECT NUMBER], D.[FUNDING MECHANISM],D.[DIRECT COST],D.[INDIRECT COST],\n",
    "D.FUNDING,D.CITY,D.[STATE OR COUNTRY NAME],D.[INSTITUTION TYPE],D.YEAR,D.MONTH,\n",
    "D.FULL_LOC,D.CODE,COUNTY_FIPS,C.COUNTY_NAME,C.LAT,C.LNG\n",
    "FROM \n",
    "        (SELECT LNG,LAT,COUNTY_NAME,CITY,COUNTY_FIPS,STATE_ID\n",
    "        FROM city) AS C\n",
    "LEFT JOIN decade as D\n",
    "ON D.CITY = C.CITY\n",
    "WHERE year =:year AND month=:month AND D.[FUNDING MECHANISM]=:fme\n",
    "        AND D.[INSTITUTION TYPE]=:inst\n",
    "LIMIT 10\n",
    "'''\n",
    "#land size filter\n",
    "year = 2022\n",
    "fme = \"R&D Contracts\"\n",
    "inst = 'Domestic Higher Education'\n",
    "month = 11\n",
    "conn = sqlite3.connect(\"data.db\")\n",
    "cursor = conn.cursor()\n",
    "cursor.execute(cmd,{'year': year,  'month': month, 'inst': inst, 'fme': fme\n",
    "})\n",
    "df = pd.DataFrame(cursor.fetchall())\n",
    "print(df.head())\n",
    "conn.close()"
   ]
  },
  {
   "cell_type": "code",
   "execution_count": 426,
   "metadata": {},
   "outputs": [],
   "source": [
    "def map_que(year=list(np.arange(2012,2022)),month=list(np.arange(1,12)),\n",
    "            fme = list(data['INSTITUTION TYPE'].unique()),\n",
    "            inst = list(data['FUNDING MECHANISM'].unique())):\n",
    "        cmd = '''\n",
    "        SELECT D.[PROJECT NUMBER], D.[FUNDING MECHANISM],D.[DIRECT COST],D.[INDIRECT COST],\n",
    "        D.FUNDING,D.CITY,D.[STATE OR COUNTRY NAME],D.[INSTITUTION TYPE],D.YEAR,D.MONTH,\n",
    "        D.FULL_LOC,D.CODE,COUNTY_FIPS,C.COUNTY_NAME,C.LAT,C.LNG\n",
    "        FROM \n",
    "                (SELECT LNG,LAT,COUNTY_NAME,CITY,COUNTY_FIPS,STATE_ID\n",
    "                FROM city) AS C\n",
    "        LEFT JOIN decade as D\n",
    "        ON D.CITY = C.CITY\n",
    "        WHERE D.YEAR IN ''' + str(tuple(year))\\\n",
    "        + ''' AND MONTH IN ''' + str(tuple(month))\\\n",
    "        + ''' AND D.[FUNDING MECHANISM] IN ''' + str(tuple(inst))\\\n",
    "        + ''' AND D.[INSTITUTION TYPE] IN ''' + str(tuple(fme))\n",
    "        #print(cmd)\n",
    "        conn = sqlite3.connect(\"data.db\")\n",
    "        cursor = conn.cursor()\n",
    "\n",
    "        cursor.execute(cmd)\n",
    "        df = pd.DataFrame(cursor.fetchall(),columns=[\"PROJECT NUMBER\", \"FUNDING MECHANISM\",\"DIRECT COST\",\"INDIRECT COST\",\n",
    "        \"FUNDING\",\"CITY\",\"STATE OR COUNTRY NAME\",\"INSTITUTION TYPE\",\"YEAR\",\"MONTH\",\n",
    "        \"FULL_LOC\",\"CODE\",\"COUNTY_FIPS\",\"COUNTY_NAME\",\"LAT\",\"LNG\"])\n",
    "        print(df.head())\n",
    "        conn.close()\n",
    "        return df\n"
   ]
  },
  {
   "cell_type": "code",
   "execution_count": 427,
   "metadata": {},
   "outputs": [
    {
     "name": "stdout",
     "output_type": "stream",
     "text": [
      "      PROJECT NUMBER       FUNDING MECHANISM  DIRECT COST  INDIRECT COST  \\\n",
      "0    1C06OD018416-01            Construction   29376655.0            NaN   \n",
      "1    1C06OD018417-01            Construction   31459563.0            NaN   \n",
      "2    1C06OD030152-01            Construction    8000000.0            NaN   \n",
      "3  1D43TW009588-01A1  Other Research-Related     282000.0        22400.0   \n",
      "4    1D43TW009604-01  Other Research-Related     259200.0        16760.0   \n",
      "\n",
      "    FUNDING      CITY STATE OR COUNTRY NAME           INSTITUTION TYPE  \\\n",
      "0  29376655  NEW YORK              NEW YORK  Domestic Higher Education   \n",
      "1  31459563  NEW YORK              NEW YORK  Domestic Higher Education   \n",
      "2   8000000  NEW YORK              NEW YORK  Domestic Higher Education   \n",
      "3    304400  NEW YORK              NEW YORK  Domestic Higher Education   \n",
      "4    275960  NEW YORK              NEW YORK                       None   \n",
      "\n",
      "     YEAR  MONTH           FULL_LOC CODE  COUNTY_FIPS COUNTY_NAME      LAT  \\\n",
      "0  2014.0    4.0  NEW YORK NEW YORK   NY        36081      QUEENS  40.6943   \n",
      "1  2014.0    5.0  NEW YORK NEW YORK   NY        36081      QUEENS  40.6943   \n",
      "2  2020.0    9.0  NEW YORK NEW YORK   NY        36081      QUEENS  40.6943   \n",
      "3  2014.0    5.0  NEW YORK NEW YORK   NY        36081      QUEENS  40.6943   \n",
      "4  2013.0    7.0  NEW YORK NEW YORK   NY        36081      QUEENS  40.6943   \n",
      "\n",
      "       LNG  \n",
      "0 -73.9249  \n",
      "1 -73.9249  \n",
      "2 -73.9249  \n",
      "3 -73.9249  \n",
      "4 -73.9249  \n"
     ]
    }
   ],
   "source": [
    "df = map_que()"
   ]
  },
  {
   "cell_type": "code",
   "execution_count": 434,
   "metadata": {},
   "outputs": [],
   "source": [
    "def geo_encode(dat,fip_dict):\n",
    "    proj = dat.copy()\n",
    "    #BECAUSE THERE ARE DUPLICATED VALUES AND USUALLY THE FIRST OCCURENCES ARE RIGHT\n",
    "    locs = list(dat.FULL_LOC)\n",
    "    lngs =  list(dat.LNG)\n",
    "    lats = list(dat.LAT)\n",
    "    fips = list(dat.COUNTY_FIPS)\n",
    "    countys = list(dat.COUNTY_NAME)\n",
    "    \n",
    "    lon_dict = dict(zip(list(locs),list(lngs)))\n",
    "    lat_dict = dict(zip(list(locs),list(lats)))\n",
    "    ct_dict = dict(zip(list(locs),list(countys)))\n",
    "    fip_dict = dict(zip(list(locs),list(fips)))\n",
    "    notfound = (proj[proj[\"LAT\"].isna()][\"FULL_LOC\"]).unique()\n",
    "    #print(notfound)\n",
    "\n",
    "    geo = [geolocator.geocode(i) for i in notfound] \n",
    "    lat = [i.latitude if i is not None else np.nan for i in geo]\n",
    "    lon = [i.longitude if i is not None else np.nan for i in geo]\n",
    "    county = [i.address.upper().split(\", \")[1] if i is not None else np.nan for i in geo]\n",
    "    fip = [fip_dict.get(i.address.upper().split(\", \")[1] + \" \" +i.address.upper().split(\", \")[2]) \\\n",
    "           if i is not None else np.nan \n",
    "           for i in geo]\n",
    "    \n",
    "    notfoundl = list(notfound)\n",
    "    lat_add = dict(zip(notfoundl,lat))\n",
    "    lon_add = dict(zip(notfoundl,lon))\n",
    "    ct_add = dict(zip(notfoundl,county))\n",
    "    fip_add = dict(zip(notfoundl,fip))\n",
    "\n",
    "    ct_dict.update(ct_add)\n",
    "    fip_dict.update(fip_add)\n",
    "    lat_dict.update(lat_add)\n",
    "    lon_dict.update(lon_add)\n",
    "    \n",
    "    proj[\"COUNTY\"] = proj[\"FULL_LOC\"].map(ct_dict)\n",
    "    proj[\"FIPS\"] = proj[\"FULL_LOC\"].map(fip_dict)\n",
    "    proj[\"LNG\"] = proj[\"FULL_LOC\"].map(lon_dict)\n",
    "    proj[\"LAT\"] = proj[\"FULL_LOC\"].map(lat_dict)\n",
    "    return proj \n",
    "\n"
   ]
  },
  {
   "cell_type": "code",
   "execution_count": 435,
   "metadata": {},
   "outputs": [],
   "source": [
    "\n",
    "proj = geo_encode(df,fip_dict)"
   ]
  },
  {
   "cell_type": "code",
   "execution_count": 438,
   "metadata": {},
   "outputs": [],
   "source": [
    "# store data in database data.db table name \"decade\"\n",
    "\n",
    "conn = sqlite3.connect(\"data.db\")\n",
    "cur = conn.cursor()\n",
    "cur.execute(\"DROP TABLE IF EXISTS decade\")\n",
    "conn.commit()\n",
    "proj.to_sql(\"decade\",conn,index=False)\n",
    "conn.close()\n"
   ]
  },
  {
   "cell_type": "code",
   "execution_count": 439,
   "metadata": {},
   "outputs": [],
   "source": [
    "proj.to_csv(\"abl_convert.csv\")"
   ]
  },
  {
   "cell_type": "code",
   "execution_count": 13,
   "metadata": {},
   "outputs": [],
   "source": [
    "proj = pd.read_csv(\"abl_convert.csv\")"
   ]
  },
  {
   "cell_type": "code",
   "execution_count": 36,
   "metadata": {},
   "outputs": [
    {
     "data": {
      "text/plain": [
       "Index(['Unnamed: 0', 'PROJECT NUMBER', 'FUNDING MECHANISM', 'DIRECT COST',\n",
       "       'INDIRECT COST', 'FUNDING', 'CITY', 'STATE OR COUNTRY NAME',\n",
       "       'INSTITUTION TYPE', 'YEAR', 'MONTH', 'FULL_LOC', 'CODE', 'COUNTY_FIPS',\n",
       "       'COUNTY_NAME', 'LAT', 'LNG', 'COUNTY', 'FIPS'],\n",
       "      dtype='object')"
      ]
     },
     "execution_count": 36,
     "metadata": {},
     "output_type": "execute_result"
    }
   ],
   "source": [
    "proj.columns"
   ]
  },
  {
   "cell_type": "code",
   "execution_count": 96,
   "metadata": {},
   "outputs": [],
   "source": [
    "fs = proj.groupby(['CODE','YEAR','FUNDING MECHANISM'])['FUNDING'].sum()"
   ]
  },
  {
   "cell_type": "code",
   "execution_count": 97,
   "metadata": {},
   "outputs": [],
   "source": [
    "fs = fs.reset_index(0).reset_index(0).reset_index(0)"
   ]
  },
  {
   "cell_type": "code",
   "execution_count": 23,
   "metadata": {},
   "outputs": [
    {
     "data": {
      "text/plain": [
       "array(['AK', 'AL', 'AR', 'AZ', 'CA', 'CO', 'CT', 'DE', 'FL', 'GA', 'HI',\n",
       "       'IA', 'ID', 'IL', 'IN', 'KS', 'KY', 'LA', 'MA', 'MD', 'ME', 'MI',\n",
       "       'MN', 'MO', 'MS', 'MT', 'NC', 'ND', 'NE', 'NH', 'NJ', 'NM', 'NV',\n",
       "       'NY', 'OH', 'OK', 'OR', 'PA', 'RI', 'SC', 'SD', 'TN', 'TX', 'UT',\n",
       "       'VA', 'VT', 'WA', 'WI', 'WV', 'WY'], dtype=object)"
      ]
     },
     "execution_count": 23,
     "metadata": {},
     "output_type": "execute_result"
    }
   ],
   "source": [
    "fsdf = pd.DataFrame({\"CODE\":fs.index,\"FUNDING\":fs.values})\n",
    "fsdf[\"FUND.NORM\"] = (fsdf[\"FUNDING\"] - fsdf[\"FUNDING\"].min()) / (fsdf[\"FUNDING\"].max() - fsdf[\"FUNDING\"].min())\n",
    "fsdf[\"CODE\"].unique()"
   ]
  },
  {
   "cell_type": "code",
   "execution_count": 87,
   "metadata": {},
   "outputs": [],
   "source": [
    "cs = proj.groupby(['COUNTY_FIPS','YEAR','FUNDING MECHANISM'])['FUNDING'].sum()"
   ]
  },
  {
   "cell_type": "code",
   "execution_count": 88,
   "metadata": {},
   "outputs": [],
   "source": [
    "cs = cs.reset_index(0).reset_index(0).reset_index(0)"
   ]
  },
  {
   "cell_type": "code",
   "execution_count": 32,
   "metadata": {},
   "outputs": [],
   "source": [
    "#csdf = pd.DataFrame({\"FIPS\":cs.index,\"FUNDING\":cs.values})"
   ]
  },
  {
   "cell_type": "code",
   "execution_count": null,
   "metadata": {},
   "outputs": [],
   "source": [
    "\n",
    "with urlopen('https://raw.githubusercontent.com/plotly/datasets/master/geojson-counties-fips.json') as response:\n",
    "    counties = json.load(response)\n",
    "fig = px.choropleth_mapbox(csdf, geojson=counties, locations='FIPS', color='FUNDING',\n",
    "                           color_continuous_scale=\"Viridis\",\n",
    "                           #color_continuous_scale=px.colors.diverging.BrBG,\n",
    "                           color_continuous_midpoint=np.mean(csdf.FUNDING),\n",
    "                           #range_color=(0, 0.5),\n",
    "                           mapbox_style=\"carto-positron\",\n",
    "                           zoom=3, center = {\"lat\": 36.5, \"lon\": -95},\n",
    "                           opacity=0.5,\n",
    "                           labels={'FUND.NORM':'min-max norm. TOTAL PROJECT FUNDING'}\n",
    "                          )\n",
    "fig.update_layout(margin={\"r\":0,\"t\":0,\"l\":0,\"b\":0})\n",
    "fig.show()"
   ]
  },
  {
   "cell_type": "code",
   "execution_count": 72,
   "metadata": {},
   "outputs": [
    {
     "data": {
      "text/plain": [
       "'0.2.1'"
      ]
     },
     "execution_count": 72,
     "metadata": {},
     "output_type": "execute_result"
    }
   ],
   "source": [
    "kaleido.__version__"
   ]
  },
  {
   "cell_type": "code",
   "execution_count": 99,
   "metadata": {},
   "outputs": [
    {
     "data": {
      "application/vnd.plotly.v1+json": {
       "config": {
        "plotlyServerURL": "https://plot.ly"
       },
       "data": [
        {
         "coloraxis": "coloraxis",
         "geo": "geo",
         "hovertemplate": "FUNDING MECHANISM=Other Research-Related<br>CODE=%{location}<br>FUNDING=%{z}<extra></extra>",
         "ids": [
          2012,
          2013,
          2014,
          2015,
          2016,
          2017,
          2018,
          2019,
          2020,
          2021,
          2012,
          2013,
          2014,
          2015,
          2016,
          2017,
          2018,
          2019,
          2020,
          2021,
          2012,
          2013,
          2014,
          2015,
          2016,
          2017,
          2018,
          2019,
          2020,
          2021,
          2012,
          2013,
          2014,
          2015,
          2016,
          2017,
          2018,
          2019,
          2020,
          2021,
          2012,
          2013,
          2014,
          2015,
          2016,
          2017,
          2018,
          2019,
          2020,
          2021,
          2012,
          2013,
          2014,
          2015,
          2016,
          2017,
          2018,
          2019,
          2020,
          2021,
          2012,
          2013,
          2014,
          2015,
          2016,
          2017,
          2018,
          2019,
          2020,
          2021,
          2012,
          2013,
          2014,
          2015,
          2016,
          2017,
          2018,
          2019,
          2020,
          2021,
          2012,
          2013,
          2014,
          2015,
          2016,
          2017,
          2018,
          2019,
          2020,
          2021,
          2012,
          2013,
          2014,
          2015,
          2016,
          2017,
          2018,
          2019,
          2020,
          2021,
          2012,
          2013,
          2014,
          2015,
          2016,
          2017,
          2018,
          2019,
          2020,
          2021,
          2012,
          2013,
          2014,
          2015,
          2016,
          2017,
          2018,
          2019,
          2020,
          2021,
          2012,
          2013,
          2014,
          2015,
          2017,
          2018,
          2019,
          2020,
          2021,
          2012,
          2013,
          2014,
          2015,
          2016,
          2017,
          2018,
          2019,
          2020,
          2021,
          2012,
          2013,
          2014,
          2015,
          2016,
          2017,
          2018,
          2019,
          2020,
          2021,
          2012,
          2013,
          2014,
          2015,
          2016,
          2017,
          2018,
          2019,
          2020,
          2021,
          2012,
          2013,
          2014,
          2015,
          2016,
          2017,
          2018,
          2019,
          2020,
          2021,
          2012,
          2013,
          2014,
          2015,
          2016,
          2017,
          2018,
          2019,
          2020,
          2021,
          2012,
          2013,
          2014,
          2015,
          2016,
          2017,
          2018,
          2019,
          2020,
          2021,
          2012,
          2013,
          2014,
          2015,
          2016,
          2017,
          2018,
          2019,
          2020,
          2021,
          2012,
          2013,
          2014,
          2015,
          2016,
          2017,
          2018,
          2019,
          2020,
          2021,
          2012,
          2013,
          2014,
          2015,
          2016,
          2017,
          2018,
          2019,
          2020,
          2021,
          2012,
          2013,
          2014,
          2015,
          2016,
          2017,
          2018,
          2019,
          2020,
          2021,
          2012,
          2013,
          2014,
          2015,
          2016,
          2017,
          2018,
          2019,
          2020,
          2021,
          2012,
          2013,
          2014,
          2015,
          2016,
          2017,
          2018,
          2019,
          2020,
          2021,
          2012,
          2013,
          2014,
          2015,
          2016,
          2017,
          2018,
          2019,
          2020,
          2021,
          2012,
          2013,
          2014,
          2015,
          2016,
          2017,
          2018,
          2019,
          2020,
          2021,
          2012,
          2013,
          2014,
          2015,
          2016,
          2018,
          2019,
          2020,
          2021,
          2012,
          2013,
          2014,
          2015,
          2016,
          2017,
          2018,
          2019,
          2020,
          2021,
          2012,
          2013,
          2014,
          2015,
          2016,
          2017,
          2018,
          2019,
          2020,
          2021,
          2012,
          2013,
          2014,
          2015,
          2016,
          2017,
          2018,
          2019,
          2020,
          2021,
          2012,
          2013,
          2014,
          2015,
          2016,
          2017,
          2018,
          2019,
          2020,
          2021,
          2012,
          2013,
          2014,
          2015,
          2016,
          2017,
          2018,
          2019,
          2020,
          2021,
          2012,
          2013,
          2014,
          2015,
          2016,
          2017,
          2018,
          2019,
          2020,
          2021,
          2012,
          2013,
          2014,
          2015,
          2016,
          2017,
          2018,
          2019,
          2020,
          2021,
          2012,
          2013,
          2014,
          2015,
          2016,
          2017,
          2018,
          2019,
          2020,
          2021,
          2012,
          2013,
          2014,
          2015,
          2016,
          2017,
          2018,
          2019,
          2020,
          2021,
          2012,
          2013,
          2014,
          2015,
          2016,
          2017,
          2018,
          2019,
          2020,
          2021,
          2012,
          2013,
          2014,
          2015,
          2016,
          2017,
          2018,
          2019,
          2020,
          2021,
          2012,
          2013,
          2014,
          2015,
          2016,
          2017,
          2018,
          2019,
          2020,
          2021,
          2012,
          2013,
          2014,
          2015,
          2016,
          2017,
          2018,
          2019,
          2020,
          2021,
          2012,
          2013,
          2014,
          2015,
          2016,
          2017,
          2018,
          2019,
          2020,
          2021,
          2012,
          2013,
          2014,
          2015,
          2016,
          2017,
          2018,
          2019,
          2020,
          2021,
          2012,
          2013,
          2014,
          2015,
          2016,
          2017,
          2018,
          2019,
          2020,
          2021,
          2012,
          2013,
          2014,
          2015,
          2016,
          2017,
          2018,
          2019,
          2020,
          2021,
          2012,
          2013,
          2014,
          2015,
          2016,
          2017,
          2018,
          2019,
          2020,
          2021,
          2012,
          2013,
          2014,
          2015,
          2016,
          2017,
          2018,
          2019,
          2020,
          2021,
          2012,
          2013,
          2014,
          2015,
          2016,
          2017,
          2018,
          2019,
          2020,
          2021,
          2012,
          2013,
          2014,
          2015,
          2016,
          2017,
          2018,
          2019,
          2020,
          2021,
          2015,
          2019,
          2020,
          2021
         ],
         "locationmode": "USA-states",
         "locations": [
          "AK",
          "AK",
          "AK",
          "AK",
          "AK",
          "AK",
          "AK",
          "AK",
          "AK",
          "AK",
          "AL",
          "AL",
          "AL",
          "AL",
          "AL",
          "AL",
          "AL",
          "AL",
          "AL",
          "AL",
          "AR",
          "AR",
          "AR",
          "AR",
          "AR",
          "AR",
          "AR",
          "AR",
          "AR",
          "AR",
          "AZ",
          "AZ",
          "AZ",
          "AZ",
          "AZ",
          "AZ",
          "AZ",
          "AZ",
          "AZ",
          "AZ",
          "CA",
          "CA",
          "CA",
          "CA",
          "CA",
          "CA",
          "CA",
          "CA",
          "CA",
          "CA",
          "CO",
          "CO",
          "CO",
          "CO",
          "CO",
          "CO",
          "CO",
          "CO",
          "CO",
          "CO",
          "CT",
          "CT",
          "CT",
          "CT",
          "CT",
          "CT",
          "CT",
          "CT",
          "CT",
          "CT",
          "DE",
          "DE",
          "DE",
          "DE",
          "DE",
          "DE",
          "DE",
          "DE",
          "DE",
          "DE",
          "FL",
          "FL",
          "FL",
          "FL",
          "FL",
          "FL",
          "FL",
          "FL",
          "FL",
          "FL",
          "GA",
          "GA",
          "GA",
          "GA",
          "GA",
          "GA",
          "GA",
          "GA",
          "GA",
          "GA",
          "HI",
          "HI",
          "HI",
          "HI",
          "HI",
          "HI",
          "HI",
          "HI",
          "HI",
          "HI",
          "IA",
          "IA",
          "IA",
          "IA",
          "IA",
          "IA",
          "IA",
          "IA",
          "IA",
          "IA",
          "ID",
          "ID",
          "ID",
          "ID",
          "ID",
          "ID",
          "ID",
          "ID",
          "ID",
          "IL",
          "IL",
          "IL",
          "IL",
          "IL",
          "IL",
          "IL",
          "IL",
          "IL",
          "IL",
          "IN",
          "IN",
          "IN",
          "IN",
          "IN",
          "IN",
          "IN",
          "IN",
          "IN",
          "IN",
          "KS",
          "KS",
          "KS",
          "KS",
          "KS",
          "KS",
          "KS",
          "KS",
          "KS",
          "KS",
          "KY",
          "KY",
          "KY",
          "KY",
          "KY",
          "KY",
          "KY",
          "KY",
          "KY",
          "KY",
          "LA",
          "LA",
          "LA",
          "LA",
          "LA",
          "LA",
          "LA",
          "LA",
          "LA",
          "LA",
          "MA",
          "MA",
          "MA",
          "MA",
          "MA",
          "MA",
          "MA",
          "MA",
          "MA",
          "MA",
          "MD",
          "MD",
          "MD",
          "MD",
          "MD",
          "MD",
          "MD",
          "MD",
          "MD",
          "MD",
          "ME",
          "ME",
          "ME",
          "ME",
          "ME",
          "ME",
          "ME",
          "ME",
          "ME",
          "ME",
          "MI",
          "MI",
          "MI",
          "MI",
          "MI",
          "MI",
          "MI",
          "MI",
          "MI",
          "MI",
          "MN",
          "MN",
          "MN",
          "MN",
          "MN",
          "MN",
          "MN",
          "MN",
          "MN",
          "MN",
          "MO",
          "MO",
          "MO",
          "MO",
          "MO",
          "MO",
          "MO",
          "MO",
          "MO",
          "MO",
          "MS",
          "MS",
          "MS",
          "MS",
          "MS",
          "MS",
          "MS",
          "MS",
          "MS",
          "MS",
          "MT",
          "MT",
          "MT",
          "MT",
          "MT",
          "MT",
          "MT",
          "MT",
          "MT",
          "MT",
          "NC",
          "NC",
          "NC",
          "NC",
          "NC",
          "NC",
          "NC",
          "NC",
          "NC",
          "NC",
          "ND",
          "ND",
          "ND",
          "ND",
          "ND",
          "ND",
          "ND",
          "ND",
          "ND",
          "NE",
          "NE",
          "NE",
          "NE",
          "NE",
          "NE",
          "NE",
          "NE",
          "NE",
          "NE",
          "NH",
          "NH",
          "NH",
          "NH",
          "NH",
          "NH",
          "NH",
          "NH",
          "NH",
          "NH",
          "NJ",
          "NJ",
          "NJ",
          "NJ",
          "NJ",
          "NJ",
          "NJ",
          "NJ",
          "NJ",
          "NJ",
          "NM",
          "NM",
          "NM",
          "NM",
          "NM",
          "NM",
          "NM",
          "NM",
          "NM",
          "NM",
          "NV",
          "NV",
          "NV",
          "NV",
          "NV",
          "NV",
          "NV",
          "NV",
          "NV",
          "NV",
          "NY",
          "NY",
          "NY",
          "NY",
          "NY",
          "NY",
          "NY",
          "NY",
          "NY",
          "NY",
          "OH",
          "OH",
          "OH",
          "OH",
          "OH",
          "OH",
          "OH",
          "OH",
          "OH",
          "OH",
          "OK",
          "OK",
          "OK",
          "OK",
          "OK",
          "OK",
          "OK",
          "OK",
          "OK",
          "OK",
          "OR",
          "OR",
          "OR",
          "OR",
          "OR",
          "OR",
          "OR",
          "OR",
          "OR",
          "OR",
          "PA",
          "PA",
          "PA",
          "PA",
          "PA",
          "PA",
          "PA",
          "PA",
          "PA",
          "PA",
          "RI",
          "RI",
          "RI",
          "RI",
          "RI",
          "RI",
          "RI",
          "RI",
          "RI",
          "RI",
          "SC",
          "SC",
          "SC",
          "SC",
          "SC",
          "SC",
          "SC",
          "SC",
          "SC",
          "SC",
          "SD",
          "SD",
          "SD",
          "SD",
          "SD",
          "SD",
          "SD",
          "SD",
          "SD",
          "SD",
          "TN",
          "TN",
          "TN",
          "TN",
          "TN",
          "TN",
          "TN",
          "TN",
          "TN",
          "TN",
          "TX",
          "TX",
          "TX",
          "TX",
          "TX",
          "TX",
          "TX",
          "TX",
          "TX",
          "TX",
          "UT",
          "UT",
          "UT",
          "UT",
          "UT",
          "UT",
          "UT",
          "UT",
          "UT",
          "UT",
          "VA",
          "VA",
          "VA",
          "VA",
          "VA",
          "VA",
          "VA",
          "VA",
          "VA",
          "VA",
          "VT",
          "VT",
          "VT",
          "VT",
          "VT",
          "VT",
          "VT",
          "VT",
          "VT",
          "VT",
          "WA",
          "WA",
          "WA",
          "WA",
          "WA",
          "WA",
          "WA",
          "WA",
          "WA",
          "WA",
          "WI",
          "WI",
          "WI",
          "WI",
          "WI",
          "WI",
          "WI",
          "WI",
          "WI",
          "WI",
          "WV",
          "WV",
          "WV",
          "WV",
          "WV",
          "WV",
          "WV",
          "WV",
          "WV",
          "WV",
          "WY",
          "WY",
          "WY",
          "WY"
         ],
         "name": "",
         "type": "choropleth",
         "z": [
          860803,
          602353,
          2141593,
          2843086,
          4921540,
          2817152,
          4810390,
          4036783,
          4372561,
          5273668,
          78179354,
          76899956,
          91973168,
          101484527,
          159139081,
          163811845,
          145615824,
          161731349,
          175958490,
          211397696,
          14220436,
          5670820,
          8081730,
          12600125,
          225586625,
          12523115,
          15603525,
          19598445,
          77173391,
          75976406,
          14854323,
          14794454,
          18874178,
          15268286,
          6987557,
          8480777,
          11970735,
          13624237,
          21768935,
          28618863,
          560269272,
          574802868,
          665739422,
          692154183,
          731200633,
          806515930,
          970115896,
          1105836706,
          1161369612,
          1937402971,
          264503566,
          305903370,
          406050360,
          361730785,
          366042009,
          409129918,
          381790563,
          393578142,
          491260739,
          554047415,
          286002932,
          252149125,
          311235451,
          270785662,
          216367563,
          273600390,
          289448325,
          332168303,
          556770405,
          516311344,
          28573320,
          47199848,
          37391820,
          40037459,
          42133241,
          30031833,
          46975048,
          45526888,
          46564111,
          73063089,
          147655108,
          113337865,
          148766603,
          163171871,
          176622897,
          166095782,
          180660112,
          175919952,
          152734753,
          155020305,
          444261842,
          431435543,
          428250014,
          461228243,
          360152678,
          372125426,
          419611960,
          385062314,
          427814627,
          420496307,
          3590859,
          3014174,
          3672011,
          3070823,
          4278710,
          2568859,
          2714728,
          3232611,
          4145907,
          3272061,
          15237679,
          14673633,
          15369155,
          23369125,
          23608233,
          24999021,
          24749092,
          21375799,
          25952574,
          29286511,
          597982,
          136776,
          3322031,
          136807,
          228877,
          422552,
          475158,
          559187,
          356971,
          74352952,
          78201829,
          90790956,
          86512522,
          89982178,
          86134092,
          87760130,
          152444417,
          153271436,
          162948088,
          22677670,
          19174079,
          18672706,
          23619437,
          22587210,
          30200526,
          25435871,
          38064825,
          33980111,
          40954061,
          31792793,
          20905187,
          25306645,
          20359882,
          26247719,
          24462627,
          21414460,
          26380386,
          26342316,
          27179660,
          119232634,
          155668500,
          161620002,
          142537096,
          156031874,
          127564276,
          118908372,
          141133686,
          160516658,
          174855064,
          18349772,
          17142815,
          16525449,
          15647862,
          17155398,
          11259636,
          9925098,
          8290691,
          10297716,
          15862078,
          1157349554,
          1140031542,
          1053693749,
          996793207,
          1286979771,
          1341832252,
          1542180886,
          1553795694,
          1588804417,
          1710367479,
          197171807,
          165603530,
          130034098,
          184214140,
          185243644,
          176056853,
          200936083,
          241158819,
          258900357,
          260458517,
          17598538,
          16957947,
          14521472,
          35331541,
          35323671,
          41189104,
          37866905,
          33766737,
          20532407,
          19981924,
          85277119,
          76404256,
          73185689,
          76980037,
          73179679,
          83509967,
          90207766,
          96216434,
          110613611,
          112057226,
          339337977,
          360874558,
          410403665,
          419000238,
          727209267,
          781826742,
          405972021,
          449089632,
          1058384573,
          373436646,
          47905927,
          41852483,
          52699490,
          61542857,
          58689627,
          51678523,
          56011296,
          66318591,
          64196459,
          117369876,
          30065907,
          19499338,
          23365980,
          32381064,
          75860562,
          36607205,
          32292986,
          28941189,
          37016434,
          30577079,
          3242876,
          3541963,
          5507928,
          5156986,
          6785417,
          3739964,
          6014004,
          4885705,
          6701179,
          10163704,
          171179129,
          189305167,
          228867433,
          224535786,
          357169293,
          364954036,
          456391426,
          568595462,
          584042594,
          1294370417,
          868424,
          1103912,
          1319218,
          552313,
          573902,
          305249,
          264210,
          263669,
          4030721,
          46937858,
          50854488,
          28678006,
          25125388,
          32464984,
          23660250,
          22447335,
          21737397,
          27762792,
          27589178,
          39255047,
          51369446,
          45474157,
          65350834,
          91664529,
          67518452,
          63012293,
          111212885,
          69713997,
          78813783,
          76565209,
          88509392,
          73225129,
          74957142,
          50952922,
          46805564,
          100400057,
          40632788,
          88981596,
          148521431,
          9577334,
          9253810,
          10950891,
          9123902,
          12227824,
          8564769,
          9973630,
          10832654,
          13823955,
          11328439,
          2840373,
          1178572,
          2869984,
          1862764,
          2181312,
          3465827,
          3700982,
          3599506,
          3913769,
          6747430,
          516176562,
          483341152,
          436815483,
          445881124,
          473196440,
          528180986,
          673255349,
          620030128,
          637873854,
          717040828,
          683103226,
          574101085,
          674611591,
          720440741,
          617657955,
          648992284,
          707510741,
          698973006,
          728623475,
          751804274,
          1120078,
          1209592,
          2078996,
          3019092,
          6055901,
          6658665,
          6996707,
          8808846,
          11910745,
          6398742,
          204393129,
          216604231,
          411565145,
          373257379,
          282278955,
          397055552,
          556484200,
          643650723,
          694247676,
          545326576,
          450643297,
          448953077,
          674476052,
          610913089,
          552526026,
          617353359,
          688574492,
          766868845,
          805359283,
          638268764,
          45287632,
          62551122,
          49893748,
          43364356,
          56794528,
          57039417,
          46853424,
          53862510,
          71293708,
          68941215,
          123995938,
          119033238,
          151848088,
          159440786,
          174769591,
          173871528,
          175763224,
          224897538,
          190441790,
          257652707,
          2203663,
          1980371,
          2240235,
          2570946,
          1609264,
          2657456,
          2676513,
          2504040,
          2151699,
          1680977,
          393828394,
          376581238,
          433682444,
          404822264,
          548418139,
          696039223,
          508894136,
          411099204,
          737175080,
          707074845,
          508967750,
          482316707,
          435609482,
          408012803,
          424925615,
          481535072,
          394257429,
          459875141,
          563202490,
          630864792,
          8058984,
          10309892,
          10160715,
          11445666,
          17984989,
          14958374,
          17027838,
          30097420,
          32233211,
          29190357,
          132927331,
          127197891,
          116261560,
          96507008,
          106180527,
          342754491,
          364886855,
          659940528,
          215723749,
          189214360,
          67445369,
          17969414,
          38807192,
          22096447,
          57707248,
          37033973,
          43693706,
          40421257,
          30733858,
          22315441,
          93710678,
          86789286,
          99176809,
          91392428,
          82177971,
          78767201,
          118291392,
          100481507,
          178194406,
          119150122,
          302956521,
          387991110,
          331726908,
          423167030,
          402336760,
          353471647,
          363213158,
          409912943,
          624930846,
          853666677,
          8743328,
          6276333,
          6001301,
          6927778,
          14953988,
          2471233,
          3311091,
          3635470,
          13400245,
          12531870,
          802925,
          264204,
          249000,
          381102
         ]
        }
       ],
       "frames": [
        {
         "data": [
          {
           "coloraxis": "coloraxis",
           "geo": "geo",
           "hovertemplate": "FUNDING MECHANISM=Other Research-Related<br>CODE=%{location}<br>FUNDING=%{z}<extra></extra>",
           "ids": [
            2012,
            2013,
            2014,
            2015,
            2016,
            2017,
            2018,
            2019,
            2020,
            2021,
            2012,
            2013,
            2014,
            2015,
            2016,
            2017,
            2018,
            2019,
            2020,
            2021,
            2012,
            2013,
            2014,
            2015,
            2016,
            2017,
            2018,
            2019,
            2020,
            2021,
            2012,
            2013,
            2014,
            2015,
            2016,
            2017,
            2018,
            2019,
            2020,
            2021,
            2012,
            2013,
            2014,
            2015,
            2016,
            2017,
            2018,
            2019,
            2020,
            2021,
            2012,
            2013,
            2014,
            2015,
            2016,
            2017,
            2018,
            2019,
            2020,
            2021,
            2012,
            2013,
            2014,
            2015,
            2016,
            2017,
            2018,
            2019,
            2020,
            2021,
            2012,
            2013,
            2014,
            2015,
            2016,
            2017,
            2018,
            2019,
            2020,
            2021,
            2012,
            2013,
            2014,
            2015,
            2016,
            2017,
            2018,
            2019,
            2020,
            2021,
            2012,
            2013,
            2014,
            2015,
            2016,
            2017,
            2018,
            2019,
            2020,
            2021,
            2012,
            2013,
            2014,
            2015,
            2016,
            2017,
            2018,
            2019,
            2020,
            2021,
            2012,
            2013,
            2014,
            2015,
            2016,
            2017,
            2018,
            2019,
            2020,
            2021,
            2012,
            2013,
            2014,
            2015,
            2017,
            2018,
            2019,
            2020,
            2021,
            2012,
            2013,
            2014,
            2015,
            2016,
            2017,
            2018,
            2019,
            2020,
            2021,
            2012,
            2013,
            2014,
            2015,
            2016,
            2017,
            2018,
            2019,
            2020,
            2021,
            2012,
            2013,
            2014,
            2015,
            2016,
            2017,
            2018,
            2019,
            2020,
            2021,
            2012,
            2013,
            2014,
            2015,
            2016,
            2017,
            2018,
            2019,
            2020,
            2021,
            2012,
            2013,
            2014,
            2015,
            2016,
            2017,
            2018,
            2019,
            2020,
            2021,
            2012,
            2013,
            2014,
            2015,
            2016,
            2017,
            2018,
            2019,
            2020,
            2021,
            2012,
            2013,
            2014,
            2015,
            2016,
            2017,
            2018,
            2019,
            2020,
            2021,
            2012,
            2013,
            2014,
            2015,
            2016,
            2017,
            2018,
            2019,
            2020,
            2021,
            2012,
            2013,
            2014,
            2015,
            2016,
            2017,
            2018,
            2019,
            2020,
            2021,
            2012,
            2013,
            2014,
            2015,
            2016,
            2017,
            2018,
            2019,
            2020,
            2021,
            2012,
            2013,
            2014,
            2015,
            2016,
            2017,
            2018,
            2019,
            2020,
            2021,
            2012,
            2013,
            2014,
            2015,
            2016,
            2017,
            2018,
            2019,
            2020,
            2021,
            2012,
            2013,
            2014,
            2015,
            2016,
            2017,
            2018,
            2019,
            2020,
            2021,
            2012,
            2013,
            2014,
            2015,
            2016,
            2017,
            2018,
            2019,
            2020,
            2021,
            2012,
            2013,
            2014,
            2015,
            2016,
            2018,
            2019,
            2020,
            2021,
            2012,
            2013,
            2014,
            2015,
            2016,
            2017,
            2018,
            2019,
            2020,
            2021,
            2012,
            2013,
            2014,
            2015,
            2016,
            2017,
            2018,
            2019,
            2020,
            2021,
            2012,
            2013,
            2014,
            2015,
            2016,
            2017,
            2018,
            2019,
            2020,
            2021,
            2012,
            2013,
            2014,
            2015,
            2016,
            2017,
            2018,
            2019,
            2020,
            2021,
            2012,
            2013,
            2014,
            2015,
            2016,
            2017,
            2018,
            2019,
            2020,
            2021,
            2012,
            2013,
            2014,
            2015,
            2016,
            2017,
            2018,
            2019,
            2020,
            2021,
            2012,
            2013,
            2014,
            2015,
            2016,
            2017,
            2018,
            2019,
            2020,
            2021,
            2012,
            2013,
            2014,
            2015,
            2016,
            2017,
            2018,
            2019,
            2020,
            2021,
            2012,
            2013,
            2014,
            2015,
            2016,
            2017,
            2018,
            2019,
            2020,
            2021,
            2012,
            2013,
            2014,
            2015,
            2016,
            2017,
            2018,
            2019,
            2020,
            2021,
            2012,
            2013,
            2014,
            2015,
            2016,
            2017,
            2018,
            2019,
            2020,
            2021,
            2012,
            2013,
            2014,
            2015,
            2016,
            2017,
            2018,
            2019,
            2020,
            2021,
            2012,
            2013,
            2014,
            2015,
            2016,
            2017,
            2018,
            2019,
            2020,
            2021,
            2012,
            2013,
            2014,
            2015,
            2016,
            2017,
            2018,
            2019,
            2020,
            2021,
            2012,
            2013,
            2014,
            2015,
            2016,
            2017,
            2018,
            2019,
            2020,
            2021,
            2012,
            2013,
            2014,
            2015,
            2016,
            2017,
            2018,
            2019,
            2020,
            2021,
            2012,
            2013,
            2014,
            2015,
            2016,
            2017,
            2018,
            2019,
            2020,
            2021,
            2012,
            2013,
            2014,
            2015,
            2016,
            2017,
            2018,
            2019,
            2020,
            2021,
            2012,
            2013,
            2014,
            2015,
            2016,
            2017,
            2018,
            2019,
            2020,
            2021,
            2012,
            2013,
            2014,
            2015,
            2016,
            2017,
            2018,
            2019,
            2020,
            2021,
            2012,
            2013,
            2014,
            2015,
            2016,
            2017,
            2018,
            2019,
            2020,
            2021,
            2015,
            2019,
            2020,
            2021
           ],
           "locationmode": "USA-states",
           "locations": [
            "AK",
            "AK",
            "AK",
            "AK",
            "AK",
            "AK",
            "AK",
            "AK",
            "AK",
            "AK",
            "AL",
            "AL",
            "AL",
            "AL",
            "AL",
            "AL",
            "AL",
            "AL",
            "AL",
            "AL",
            "AR",
            "AR",
            "AR",
            "AR",
            "AR",
            "AR",
            "AR",
            "AR",
            "AR",
            "AR",
            "AZ",
            "AZ",
            "AZ",
            "AZ",
            "AZ",
            "AZ",
            "AZ",
            "AZ",
            "AZ",
            "AZ",
            "CA",
            "CA",
            "CA",
            "CA",
            "CA",
            "CA",
            "CA",
            "CA",
            "CA",
            "CA",
            "CO",
            "CO",
            "CO",
            "CO",
            "CO",
            "CO",
            "CO",
            "CO",
            "CO",
            "CO",
            "CT",
            "CT",
            "CT",
            "CT",
            "CT",
            "CT",
            "CT",
            "CT",
            "CT",
            "CT",
            "DE",
            "DE",
            "DE",
            "DE",
            "DE",
            "DE",
            "DE",
            "DE",
            "DE",
            "DE",
            "FL",
            "FL",
            "FL",
            "FL",
            "FL",
            "FL",
            "FL",
            "FL",
            "FL",
            "FL",
            "GA",
            "GA",
            "GA",
            "GA",
            "GA",
            "GA",
            "GA",
            "GA",
            "GA",
            "GA",
            "HI",
            "HI",
            "HI",
            "HI",
            "HI",
            "HI",
            "HI",
            "HI",
            "HI",
            "HI",
            "IA",
            "IA",
            "IA",
            "IA",
            "IA",
            "IA",
            "IA",
            "IA",
            "IA",
            "IA",
            "ID",
            "ID",
            "ID",
            "ID",
            "ID",
            "ID",
            "ID",
            "ID",
            "ID",
            "IL",
            "IL",
            "IL",
            "IL",
            "IL",
            "IL",
            "IL",
            "IL",
            "IL",
            "IL",
            "IN",
            "IN",
            "IN",
            "IN",
            "IN",
            "IN",
            "IN",
            "IN",
            "IN",
            "IN",
            "KS",
            "KS",
            "KS",
            "KS",
            "KS",
            "KS",
            "KS",
            "KS",
            "KS",
            "KS",
            "KY",
            "KY",
            "KY",
            "KY",
            "KY",
            "KY",
            "KY",
            "KY",
            "KY",
            "KY",
            "LA",
            "LA",
            "LA",
            "LA",
            "LA",
            "LA",
            "LA",
            "LA",
            "LA",
            "LA",
            "MA",
            "MA",
            "MA",
            "MA",
            "MA",
            "MA",
            "MA",
            "MA",
            "MA",
            "MA",
            "MD",
            "MD",
            "MD",
            "MD",
            "MD",
            "MD",
            "MD",
            "MD",
            "MD",
            "MD",
            "ME",
            "ME",
            "ME",
            "ME",
            "ME",
            "ME",
            "ME",
            "ME",
            "ME",
            "ME",
            "MI",
            "MI",
            "MI",
            "MI",
            "MI",
            "MI",
            "MI",
            "MI",
            "MI",
            "MI",
            "MN",
            "MN",
            "MN",
            "MN",
            "MN",
            "MN",
            "MN",
            "MN",
            "MN",
            "MN",
            "MO",
            "MO",
            "MO",
            "MO",
            "MO",
            "MO",
            "MO",
            "MO",
            "MO",
            "MO",
            "MS",
            "MS",
            "MS",
            "MS",
            "MS",
            "MS",
            "MS",
            "MS",
            "MS",
            "MS",
            "MT",
            "MT",
            "MT",
            "MT",
            "MT",
            "MT",
            "MT",
            "MT",
            "MT",
            "MT",
            "NC",
            "NC",
            "NC",
            "NC",
            "NC",
            "NC",
            "NC",
            "NC",
            "NC",
            "NC",
            "ND",
            "ND",
            "ND",
            "ND",
            "ND",
            "ND",
            "ND",
            "ND",
            "ND",
            "NE",
            "NE",
            "NE",
            "NE",
            "NE",
            "NE",
            "NE",
            "NE",
            "NE",
            "NE",
            "NH",
            "NH",
            "NH",
            "NH",
            "NH",
            "NH",
            "NH",
            "NH",
            "NH",
            "NH",
            "NJ",
            "NJ",
            "NJ",
            "NJ",
            "NJ",
            "NJ",
            "NJ",
            "NJ",
            "NJ",
            "NJ",
            "NM",
            "NM",
            "NM",
            "NM",
            "NM",
            "NM",
            "NM",
            "NM",
            "NM",
            "NM",
            "NV",
            "NV",
            "NV",
            "NV",
            "NV",
            "NV",
            "NV",
            "NV",
            "NV",
            "NV",
            "NY",
            "NY",
            "NY",
            "NY",
            "NY",
            "NY",
            "NY",
            "NY",
            "NY",
            "NY",
            "OH",
            "OH",
            "OH",
            "OH",
            "OH",
            "OH",
            "OH",
            "OH",
            "OH",
            "OH",
            "OK",
            "OK",
            "OK",
            "OK",
            "OK",
            "OK",
            "OK",
            "OK",
            "OK",
            "OK",
            "OR",
            "OR",
            "OR",
            "OR",
            "OR",
            "OR",
            "OR",
            "OR",
            "OR",
            "OR",
            "PA",
            "PA",
            "PA",
            "PA",
            "PA",
            "PA",
            "PA",
            "PA",
            "PA",
            "PA",
            "RI",
            "RI",
            "RI",
            "RI",
            "RI",
            "RI",
            "RI",
            "RI",
            "RI",
            "RI",
            "SC",
            "SC",
            "SC",
            "SC",
            "SC",
            "SC",
            "SC",
            "SC",
            "SC",
            "SC",
            "SD",
            "SD",
            "SD",
            "SD",
            "SD",
            "SD",
            "SD",
            "SD",
            "SD",
            "SD",
            "TN",
            "TN",
            "TN",
            "TN",
            "TN",
            "TN",
            "TN",
            "TN",
            "TN",
            "TN",
            "TX",
            "TX",
            "TX",
            "TX",
            "TX",
            "TX",
            "TX",
            "TX",
            "TX",
            "TX",
            "UT",
            "UT",
            "UT",
            "UT",
            "UT",
            "UT",
            "UT",
            "UT",
            "UT",
            "UT",
            "VA",
            "VA",
            "VA",
            "VA",
            "VA",
            "VA",
            "VA",
            "VA",
            "VA",
            "VA",
            "VT",
            "VT",
            "VT",
            "VT",
            "VT",
            "VT",
            "VT",
            "VT",
            "VT",
            "VT",
            "WA",
            "WA",
            "WA",
            "WA",
            "WA",
            "WA",
            "WA",
            "WA",
            "WA",
            "WA",
            "WI",
            "WI",
            "WI",
            "WI",
            "WI",
            "WI",
            "WI",
            "WI",
            "WI",
            "WI",
            "WV",
            "WV",
            "WV",
            "WV",
            "WV",
            "WV",
            "WV",
            "WV",
            "WV",
            "WV",
            "WY",
            "WY",
            "WY",
            "WY"
           ],
           "name": "",
           "type": "choropleth",
           "z": [
            860803,
            602353,
            2141593,
            2843086,
            4921540,
            2817152,
            4810390,
            4036783,
            4372561,
            5273668,
            78179354,
            76899956,
            91973168,
            101484527,
            159139081,
            163811845,
            145615824,
            161731349,
            175958490,
            211397696,
            14220436,
            5670820,
            8081730,
            12600125,
            225586625,
            12523115,
            15603525,
            19598445,
            77173391,
            75976406,
            14854323,
            14794454,
            18874178,
            15268286,
            6987557,
            8480777,
            11970735,
            13624237,
            21768935,
            28618863,
            560269272,
            574802868,
            665739422,
            692154183,
            731200633,
            806515930,
            970115896,
            1105836706,
            1161369612,
            1937402971,
            264503566,
            305903370,
            406050360,
            361730785,
            366042009,
            409129918,
            381790563,
            393578142,
            491260739,
            554047415,
            286002932,
            252149125,
            311235451,
            270785662,
            216367563,
            273600390,
            289448325,
            332168303,
            556770405,
            516311344,
            28573320,
            47199848,
            37391820,
            40037459,
            42133241,
            30031833,
            46975048,
            45526888,
            46564111,
            73063089,
            147655108,
            113337865,
            148766603,
            163171871,
            176622897,
            166095782,
            180660112,
            175919952,
            152734753,
            155020305,
            444261842,
            431435543,
            428250014,
            461228243,
            360152678,
            372125426,
            419611960,
            385062314,
            427814627,
            420496307,
            3590859,
            3014174,
            3672011,
            3070823,
            4278710,
            2568859,
            2714728,
            3232611,
            4145907,
            3272061,
            15237679,
            14673633,
            15369155,
            23369125,
            23608233,
            24999021,
            24749092,
            21375799,
            25952574,
            29286511,
            597982,
            136776,
            3322031,
            136807,
            228877,
            422552,
            475158,
            559187,
            356971,
            74352952,
            78201829,
            90790956,
            86512522,
            89982178,
            86134092,
            87760130,
            152444417,
            153271436,
            162948088,
            22677670,
            19174079,
            18672706,
            23619437,
            22587210,
            30200526,
            25435871,
            38064825,
            33980111,
            40954061,
            31792793,
            20905187,
            25306645,
            20359882,
            26247719,
            24462627,
            21414460,
            26380386,
            26342316,
            27179660,
            119232634,
            155668500,
            161620002,
            142537096,
            156031874,
            127564276,
            118908372,
            141133686,
            160516658,
            174855064,
            18349772,
            17142815,
            16525449,
            15647862,
            17155398,
            11259636,
            9925098,
            8290691,
            10297716,
            15862078,
            1157349554,
            1140031542,
            1053693749,
            996793207,
            1286979771,
            1341832252,
            1542180886,
            1553795694,
            1588804417,
            1710367479,
            197171807,
            165603530,
            130034098,
            184214140,
            185243644,
            176056853,
            200936083,
            241158819,
            258900357,
            260458517,
            17598538,
            16957947,
            14521472,
            35331541,
            35323671,
            41189104,
            37866905,
            33766737,
            20532407,
            19981924,
            85277119,
            76404256,
            73185689,
            76980037,
            73179679,
            83509967,
            90207766,
            96216434,
            110613611,
            112057226,
            339337977,
            360874558,
            410403665,
            419000238,
            727209267,
            781826742,
            405972021,
            449089632,
            1058384573,
            373436646,
            47905927,
            41852483,
            52699490,
            61542857,
            58689627,
            51678523,
            56011296,
            66318591,
            64196459,
            117369876,
            30065907,
            19499338,
            23365980,
            32381064,
            75860562,
            36607205,
            32292986,
            28941189,
            37016434,
            30577079,
            3242876,
            3541963,
            5507928,
            5156986,
            6785417,
            3739964,
            6014004,
            4885705,
            6701179,
            10163704,
            171179129,
            189305167,
            228867433,
            224535786,
            357169293,
            364954036,
            456391426,
            568595462,
            584042594,
            1294370417,
            868424,
            1103912,
            1319218,
            552313,
            573902,
            305249,
            264210,
            263669,
            4030721,
            46937858,
            50854488,
            28678006,
            25125388,
            32464984,
            23660250,
            22447335,
            21737397,
            27762792,
            27589178,
            39255047,
            51369446,
            45474157,
            65350834,
            91664529,
            67518452,
            63012293,
            111212885,
            69713997,
            78813783,
            76565209,
            88509392,
            73225129,
            74957142,
            50952922,
            46805564,
            100400057,
            40632788,
            88981596,
            148521431,
            9577334,
            9253810,
            10950891,
            9123902,
            12227824,
            8564769,
            9973630,
            10832654,
            13823955,
            11328439,
            2840373,
            1178572,
            2869984,
            1862764,
            2181312,
            3465827,
            3700982,
            3599506,
            3913769,
            6747430,
            516176562,
            483341152,
            436815483,
            445881124,
            473196440,
            528180986,
            673255349,
            620030128,
            637873854,
            717040828,
            683103226,
            574101085,
            674611591,
            720440741,
            617657955,
            648992284,
            707510741,
            698973006,
            728623475,
            751804274,
            1120078,
            1209592,
            2078996,
            3019092,
            6055901,
            6658665,
            6996707,
            8808846,
            11910745,
            6398742,
            204393129,
            216604231,
            411565145,
            373257379,
            282278955,
            397055552,
            556484200,
            643650723,
            694247676,
            545326576,
            450643297,
            448953077,
            674476052,
            610913089,
            552526026,
            617353359,
            688574492,
            766868845,
            805359283,
            638268764,
            45287632,
            62551122,
            49893748,
            43364356,
            56794528,
            57039417,
            46853424,
            53862510,
            71293708,
            68941215,
            123995938,
            119033238,
            151848088,
            159440786,
            174769591,
            173871528,
            175763224,
            224897538,
            190441790,
            257652707,
            2203663,
            1980371,
            2240235,
            2570946,
            1609264,
            2657456,
            2676513,
            2504040,
            2151699,
            1680977,
            393828394,
            376581238,
            433682444,
            404822264,
            548418139,
            696039223,
            508894136,
            411099204,
            737175080,
            707074845,
            508967750,
            482316707,
            435609482,
            408012803,
            424925615,
            481535072,
            394257429,
            459875141,
            563202490,
            630864792,
            8058984,
            10309892,
            10160715,
            11445666,
            17984989,
            14958374,
            17027838,
            30097420,
            32233211,
            29190357,
            132927331,
            127197891,
            116261560,
            96507008,
            106180527,
            342754491,
            364886855,
            659940528,
            215723749,
            189214360,
            67445369,
            17969414,
            38807192,
            22096447,
            57707248,
            37033973,
            43693706,
            40421257,
            30733858,
            22315441,
            93710678,
            86789286,
            99176809,
            91392428,
            82177971,
            78767201,
            118291392,
            100481507,
            178194406,
            119150122,
            302956521,
            387991110,
            331726908,
            423167030,
            402336760,
            353471647,
            363213158,
            409912943,
            624930846,
            853666677,
            8743328,
            6276333,
            6001301,
            6927778,
            14953988,
            2471233,
            3311091,
            3635470,
            13400245,
            12531870,
            802925,
            264204,
            249000,
            381102
           ]
          }
         ],
         "name": "Other Research-Related"
        },
        {
         "data": [
          {
           "coloraxis": "coloraxis",
           "geo": "geo",
           "hovertemplate": "FUNDING MECHANISM=RPGs - Non SBIR/STTR<br>CODE=%{location}<br>FUNDING=%{z}<extra></extra>",
           "ids": [
            2012,
            2013,
            2014,
            2015,
            2016,
            2017,
            2018,
            2019,
            2020,
            2021,
            2012,
            2013,
            2014,
            2015,
            2016,
            2017,
            2018,
            2019,
            2020,
            2021,
            2012,
            2013,
            2014,
            2015,
            2016,
            2017,
            2018,
            2019,
            2020,
            2021,
            2012,
            2013,
            2014,
            2015,
            2016,
            2017,
            2018,
            2019,
            2020,
            2021,
            2012,
            2013,
            2014,
            2015,
            2016,
            2017,
            2018,
            2019,
            2020,
            2021,
            2012,
            2013,
            2014,
            2015,
            2016,
            2017,
            2018,
            2019,
            2020,
            2021,
            2012,
            2013,
            2014,
            2015,
            2016,
            2017,
            2018,
            2019,
            2020,
            2021,
            2012,
            2013,
            2014,
            2015,
            2016,
            2017,
            2018,
            2019,
            2020,
            2021,
            2012,
            2013,
            2014,
            2015,
            2016,
            2017,
            2018,
            2019,
            2020,
            2021,
            2012,
            2013,
            2014,
            2015,
            2016,
            2017,
            2018,
            2019,
            2020,
            2021,
            2012,
            2013,
            2014,
            2015,
            2016,
            2017,
            2018,
            2019,
            2020,
            2021,
            2012,
            2013,
            2014,
            2015,
            2016,
            2017,
            2018,
            2019,
            2020,
            2021,
            2012,
            2013,
            2014,
            2015,
            2016,
            2017,
            2018,
            2019,
            2020,
            2021,
            2012,
            2013,
            2014,
            2015,
            2016,
            2017,
            2018,
            2019,
            2020,
            2021,
            2012,
            2013,
            2014,
            2015,
            2016,
            2017,
            2018,
            2019,
            2020,
            2021,
            2012,
            2013,
            2014,
            2015,
            2016,
            2017,
            2018,
            2019,
            2020,
            2021,
            2012,
            2013,
            2014,
            2015,
            2016,
            2017,
            2018,
            2019,
            2020,
            2021,
            2012,
            2013,
            2014,
            2015,
            2016,
            2017,
            2018,
            2019,
            2020,
            2021,
            2012,
            2013,
            2014,
            2015,
            2016,
            2017,
            2018,
            2019,
            2020,
            2021,
            2012,
            2013,
            2014,
            2015,
            2016,
            2017,
            2018,
            2019,
            2020,
            2021,
            2012,
            2013,
            2014,
            2015,
            2016,
            2017,
            2018,
            2019,
            2020,
            2021,
            2012,
            2013,
            2014,
            2015,
            2016,
            2017,
            2018,
            2019,
            2020,
            2021,
            2012,
            2013,
            2014,
            2015,
            2016,
            2017,
            2018,
            2019,
            2020,
            2021,
            2012,
            2013,
            2014,
            2015,
            2016,
            2017,
            2018,
            2019,
            2020,
            2021,
            2012,
            2013,
            2014,
            2015,
            2016,
            2017,
            2018,
            2019,
            2020,
            2021,
            2012,
            2013,
            2014,
            2015,
            2016,
            2017,
            2018,
            2019,
            2020,
            2021,
            2012,
            2013,
            2014,
            2015,
            2016,
            2017,
            2018,
            2019,
            2020,
            2021,
            2012,
            2013,
            2014,
            2015,
            2016,
            2017,
            2018,
            2019,
            2020,
            2021,
            2012,
            2013,
            2014,
            2015,
            2016,
            2017,
            2018,
            2019,
            2020,
            2021,
            2012,
            2013,
            2014,
            2015,
            2016,
            2017,
            2018,
            2019,
            2020,
            2021,
            2012,
            2013,
            2014,
            2015,
            2016,
            2017,
            2018,
            2019,
            2020,
            2021,
            2012,
            2013,
            2014,
            2015,
            2016,
            2017,
            2018,
            2019,
            2020,
            2021,
            2012,
            2013,
            2014,
            2015,
            2016,
            2017,
            2018,
            2019,
            2020,
            2021,
            2012,
            2013,
            2014,
            2015,
            2016,
            2017,
            2018,
            2019,
            2020,
            2021,
            2012,
            2013,
            2014,
            2015,
            2016,
            2017,
            2018,
            2019,
            2020,
            2021,
            2012,
            2013,
            2014,
            2015,
            2016,
            2017,
            2018,
            2019,
            2020,
            2021,
            2012,
            2013,
            2014,
            2015,
            2016,
            2017,
            2018,
            2019,
            2020,
            2021,
            2012,
            2013,
            2014,
            2015,
            2016,
            2017,
            2018,
            2019,
            2020,
            2021,
            2012,
            2013,
            2014,
            2015,
            2016,
            2017,
            2018,
            2019,
            2020,
            2021,
            2012,
            2013,
            2014,
            2015,
            2016,
            2017,
            2018,
            2019,
            2020,
            2021,
            2012,
            2013,
            2014,
            2015,
            2016,
            2017,
            2018,
            2019,
            2020,
            2021,
            2012,
            2013,
            2014,
            2015,
            2016,
            2017,
            2018,
            2019,
            2020,
            2021,
            2012,
            2013,
            2014,
            2015,
            2016,
            2017,
            2018,
            2019,
            2020,
            2021,
            2012,
            2013,
            2014,
            2015,
            2016,
            2017,
            2018,
            2019,
            2020,
            2021,
            2012,
            2013,
            2014,
            2015,
            2016,
            2017,
            2018,
            2019,
            2020,
            2021,
            2012,
            2013,
            2014,
            2015,
            2016,
            2017,
            2018,
            2019,
            2020,
            2021,
            2012,
            2013,
            2014,
            2015,
            2016,
            2017,
            2018,
            2019,
            2020,
            2021,
            2012,
            2013,
            2014,
            2015,
            2016,
            2017,
            2018,
            2019,
            2020,
            2021,
            2012,
            2013,
            2014,
            2015,
            2016,
            2017,
            2018,
            2019,
            2020,
            2021,
            2012,
            2013,
            2014,
            2015,
            2016,
            2017,
            2018,
            2019,
            2020,
            2021
           ],
           "locationmode": "USA-states",
           "locations": [
            "AK",
            "AK",
            "AK",
            "AK",
            "AK",
            "AK",
            "AK",
            "AK",
            "AK",
            "AK",
            "AL",
            "AL",
            "AL",
            "AL",
            "AL",
            "AL",
            "AL",
            "AL",
            "AL",
            "AL",
            "AR",
            "AR",
            "AR",
            "AR",
            "AR",
            "AR",
            "AR",
            "AR",
            "AR",
            "AR",
            "AZ",
            "AZ",
            "AZ",
            "AZ",
            "AZ",
            "AZ",
            "AZ",
            "AZ",
            "AZ",
            "AZ",
            "CA",
            "CA",
            "CA",
            "CA",
            "CA",
            "CA",
            "CA",
            "CA",
            "CA",
            "CA",
            "CO",
            "CO",
            "CO",
            "CO",
            "CO",
            "CO",
            "CO",
            "CO",
            "CO",
            "CO",
            "CT",
            "CT",
            "CT",
            "CT",
            "CT",
            "CT",
            "CT",
            "CT",
            "CT",
            "CT",
            "DE",
            "DE",
            "DE",
            "DE",
            "DE",
            "DE",
            "DE",
            "DE",
            "DE",
            "DE",
            "FL",
            "FL",
            "FL",
            "FL",
            "FL",
            "FL",
            "FL",
            "FL",
            "FL",
            "FL",
            "GA",
            "GA",
            "GA",
            "GA",
            "GA",
            "GA",
            "GA",
            "GA",
            "GA",
            "GA",
            "HI",
            "HI",
            "HI",
            "HI",
            "HI",
            "HI",
            "HI",
            "HI",
            "HI",
            "HI",
            "IA",
            "IA",
            "IA",
            "IA",
            "IA",
            "IA",
            "IA",
            "IA",
            "IA",
            "IA",
            "ID",
            "ID",
            "ID",
            "ID",
            "ID",
            "ID",
            "ID",
            "ID",
            "ID",
            "ID",
            "IL",
            "IL",
            "IL",
            "IL",
            "IL",
            "IL",
            "IL",
            "IL",
            "IL",
            "IL",
            "IN",
            "IN",
            "IN",
            "IN",
            "IN",
            "IN",
            "IN",
            "IN",
            "IN",
            "IN",
            "KS",
            "KS",
            "KS",
            "KS",
            "KS",
            "KS",
            "KS",
            "KS",
            "KS",
            "KS",
            "KY",
            "KY",
            "KY",
            "KY",
            "KY",
            "KY",
            "KY",
            "KY",
            "KY",
            "KY",
            "LA",
            "LA",
            "LA",
            "LA",
            "LA",
            "LA",
            "LA",
            "LA",
            "LA",
            "LA",
            "MA",
            "MA",
            "MA",
            "MA",
            "MA",
            "MA",
            "MA",
            "MA",
            "MA",
            "MA",
            "MD",
            "MD",
            "MD",
            "MD",
            "MD",
            "MD",
            "MD",
            "MD",
            "MD",
            "MD",
            "ME",
            "ME",
            "ME",
            "ME",
            "ME",
            "ME",
            "ME",
            "ME",
            "ME",
            "ME",
            "MI",
            "MI",
            "MI",
            "MI",
            "MI",
            "MI",
            "MI",
            "MI",
            "MI",
            "MI",
            "MN",
            "MN",
            "MN",
            "MN",
            "MN",
            "MN",
            "MN",
            "MN",
            "MN",
            "MN",
            "MO",
            "MO",
            "MO",
            "MO",
            "MO",
            "MO",
            "MO",
            "MO",
            "MO",
            "MO",
            "MS",
            "MS",
            "MS",
            "MS",
            "MS",
            "MS",
            "MS",
            "MS",
            "MS",
            "MS",
            "MT",
            "MT",
            "MT",
            "MT",
            "MT",
            "MT",
            "MT",
            "MT",
            "MT",
            "MT",
            "NC",
            "NC",
            "NC",
            "NC",
            "NC",
            "NC",
            "NC",
            "NC",
            "NC",
            "NC",
            "ND",
            "ND",
            "ND",
            "ND",
            "ND",
            "ND",
            "ND",
            "ND",
            "ND",
            "ND",
            "NE",
            "NE",
            "NE",
            "NE",
            "NE",
            "NE",
            "NE",
            "NE",
            "NE",
            "NE",
            "NH",
            "NH",
            "NH",
            "NH",
            "NH",
            "NH",
            "NH",
            "NH",
            "NH",
            "NH",
            "NJ",
            "NJ",
            "NJ",
            "NJ",
            "NJ",
            "NJ",
            "NJ",
            "NJ",
            "NJ",
            "NJ",
            "NM",
            "NM",
            "NM",
            "NM",
            "NM",
            "NM",
            "NM",
            "NM",
            "NM",
            "NM",
            "NV",
            "NV",
            "NV",
            "NV",
            "NV",
            "NV",
            "NV",
            "NV",
            "NV",
            "NV",
            "NY",
            "NY",
            "NY",
            "NY",
            "NY",
            "NY",
            "NY",
            "NY",
            "NY",
            "NY",
            "OH",
            "OH",
            "OH",
            "OH",
            "OH",
            "OH",
            "OH",
            "OH",
            "OH",
            "OH",
            "OK",
            "OK",
            "OK",
            "OK",
            "OK",
            "OK",
            "OK",
            "OK",
            "OK",
            "OK",
            "OR",
            "OR",
            "OR",
            "OR",
            "OR",
            "OR",
            "OR",
            "OR",
            "OR",
            "OR",
            "PA",
            "PA",
            "PA",
            "PA",
            "PA",
            "PA",
            "PA",
            "PA",
            "PA",
            "PA",
            "RI",
            "RI",
            "RI",
            "RI",
            "RI",
            "RI",
            "RI",
            "RI",
            "RI",
            "RI",
            "SC",
            "SC",
            "SC",
            "SC",
            "SC",
            "SC",
            "SC",
            "SC",
            "SC",
            "SC",
            "SD",
            "SD",
            "SD",
            "SD",
            "SD",
            "SD",
            "SD",
            "SD",
            "SD",
            "SD",
            "TN",
            "TN",
            "TN",
            "TN",
            "TN",
            "TN",
            "TN",
            "TN",
            "TN",
            "TN",
            "TX",
            "TX",
            "TX",
            "TX",
            "TX",
            "TX",
            "TX",
            "TX",
            "TX",
            "TX",
            "UT",
            "UT",
            "UT",
            "UT",
            "UT",
            "UT",
            "UT",
            "UT",
            "UT",
            "UT",
            "VA",
            "VA",
            "VA",
            "VA",
            "VA",
            "VA",
            "VA",
            "VA",
            "VA",
            "VA",
            "VT",
            "VT",
            "VT",
            "VT",
            "VT",
            "VT",
            "VT",
            "VT",
            "VT",
            "VT",
            "WA",
            "WA",
            "WA",
            "WA",
            "WA",
            "WA",
            "WA",
            "WA",
            "WA",
            "WA",
            "WI",
            "WI",
            "WI",
            "WI",
            "WI",
            "WI",
            "WI",
            "WI",
            "WI",
            "WI",
            "WV",
            "WV",
            "WV",
            "WV",
            "WV",
            "WV",
            "WV",
            "WV",
            "WV",
            "WV",
            "WY",
            "WY",
            "WY",
            "WY",
            "WY",
            "WY",
            "WY",
            "WY",
            "WY",
            "WY"
           ],
           "name": "",
           "type": "choropleth",
           "z": [
            5292175,
            4223106,
            2403129,
            2847670,
            3984221,
            7723490,
            7813524,
            6650166,
            5406069,
            5292534,
            677163798,
            597943874,
            730702129,
            799154481,
            760266244,
            833045704,
            1030805759,
            1034401027,
            1149094418,
            1240192024,
            175888387,
            133372658,
            128076727,
            116942912,
            169106952,
            152944587,
            153750270,
            166233071,
            190950483,
            228155890,
            192435127,
            261443621,
            139301014,
            143349631,
            147189539,
            165049835,
            220464130,
            220805401,
            282973716,
            289692540,
            5198166219,
            5053455355,
            5486745872,
            5483109132,
            5956987617,
            6477311520,
            7028470052,
            7760827099,
            8822788895,
            8931521497,
            2003922599,
            2084620412,
            2187008416,
            2357823710,
            2515578319,
            2587742015,
            2986233094,
            3251713467,
            3727246453,
            3822331167,
            3564884340,
            3417625270,
            3462151199,
            3386204421,
            3838455121,
            3827874347,
            4085534647,
            4474958405,
            4947281567,
            5073172316,
            151686750,
            101830146,
            130507916,
            125865680,
            153878251,
            175067630,
            229346479,
            296785003,
            263561054,
            304988444,
            1403760666,
            940595028,
            1180838330,
            1342876276,
            1381771456,
            1754756724,
            1552732399,
            1852066870,
            1933392932,
            2277139313,
            2825425034,
            2584726881,
            2891656286,
            3034813663,
            3315768053,
            3486277618,
            3738409770,
            4011084548,
            4694772074,
            4908442049,
            30651374,
            20915361,
            22759585,
            26300154,
            27575955,
            22711216,
            24001715,
            20489514,
            21054620,
            18861792,
            201830135,
            166361937,
            150653923,
            147737963,
            154200493,
            177744286,
            197603976,
            218794101,
            239677149,
            239991662,
            9756030,
            11041635,
            10311448,
            7542230,
            8512033,
            9731214,
            22854244,
            26870501,
            25967098,
            25998065,
            789578397,
            680372779,
            676369493,
            716693614,
            754818418,
            724336999,
            832506588,
            894542271,
            928032641,
            871461695,
            398617541,
            342377206,
            388907974,
            381686369,
            379304030,
            462125249,
            429889528,
            459086832,
            567613899,
            526082937,
            243829862,
            190240035,
            221533081,
            171955223,
            226885838,
            250530021,
            285687378,
            260527114,
            251112472,
            253836449,
            1468308730,
            1328744111,
            1493102074,
            1635095604,
            1602456330,
            1779369260,
            2183602036,
            2588648310,
            2651943978,
            2903344013,
            85941861,
            87152455,
            64051602,
            80845270,
            90787014,
            92723777,
            107311525,
            152122948,
            177287986,
            145440166,
            10770598332,
            9784472682,
            10562628013,
            10517234131,
            11864797263,
            12151723047,
            12340568489,
            13724668534,
            13728565989,
            13903539993,
            1525807968,
            1371318012,
            1431941847,
            1380216057,
            1509753876,
            1413484979,
            1502765577,
            1646450065,
            1778863022,
            1833222914,
            50864025,
            44586169,
            45844428,
            50261218,
            29839302,
            23629541,
            41236047,
            59376180,
            50875021,
            60087022,
            790507021,
            707787575,
            737622979,
            793762961,
            869358723,
            862464351,
            899035802,
            1000622464,
            1060505690,
            1125128549,
            2195082546,
            2026260994,
            2181573848,
            2191747210,
            2214095209,
            2353012773,
            2391422965,
            2620559756,
            2559822728,
            2893642225,
            487914417,
            394569002,
            426753655,
            459880144,
            483384916,
            537399145,
            577512834,
            667409607,
            806647122,
            744312663,
            230710467,
            280216970,
            256692599,
            266001159,
            246910150,
            275262420,
            315035493,
            237279416,
            220207897,
            270817735,
            12860731,
            10716456,
            11072513,
            12997033,
            14251427,
            13882237,
            19058466,
            19343213,
            19687953,
            19659446,
            2354749216,
            2191534067,
            2226668972,
            2180840258,
            2589330194,
            2893393301,
            2988425200,
            3199971873,
            4598304201,
            3560736683,
            11846691,
            14036873,
            13507874,
            18723562,
            27039783,
            19814660,
            22105366,
            16955577,
            23234013,
            24430492,
            305236446,
            303294714,
            309725213,
            305322760,
            323849858,
            364990219,
            429838797,
            459772451,
            480724101,
            420375177,
            646660413,
            593979489,
            551690593,
            654557500,
            641121325,
            653732845,
            695095366,
            757170402,
            796848754,
            759321120,
            1211319771,
            1111896945,
            1316763868,
            1212424203,
            1234601962,
            1192619114,
            1351932899,
            1480766434,
            1755054579,
            1552492183,
            60163472,
            53063927,
            57171849,
            51497225,
            54293810,
            55518935,
            52075222,
            49409791,
            67144042,
            67907947,
            32841762,
            29819015,
            32253744,
            38036399,
            47852604,
            46616035,
            56344169,
            55027820,
            68221347,
            60382686,
            4562782182,
            4150135266,
            4263767928,
            4249435836,
            3990075658,
            4132214862,
            4607003472,
            5146692088,
            5585693838,
            5390247032,
            5605861017,
            5434456008,
            5415753304,
            5777778803,
            6327108081,
            6686548382,
            6941659290,
            7603874527,
            8371240085,
            8179437902,
            70224629,
            63993471,
            61220420,
            65020263,
            72962407,
            75567893,
            85885353,
            100576168,
            99338166,
            99591190,
            1629654281,
            1504180652,
            1518037615,
            1455935139,
            1462911273,
            1655882183,
            1781941069,
            2073226219,
            2270834772,
            2169350367,
            2979723814,
            2708363927,
            2942241738,
            2881089676,
            3126052452,
            3356564166,
            3518091759,
            4033641720,
            4178742744,
            4336605761,
            573704184,
            522491007,
            476613380,
            452059390,
            488846542,
            505061640,
            662330205,
            680850878,
            710034612,
            724347385,
            760120075,
            674107486,
            798353162,
            808517300,
            919286102,
            951590910,
            1027928735,
            1039609503,
            1082104013,
            1101934610,
            15795145,
            12313171,
            13252069,
            11787541,
            14935421,
            17291975,
            18022874,
            18985650,
            23324350,
            18523660,
            2609218516,
            2450835454,
            2507969211,
            2361388315,
            2819464692,
            2635525324,
            2958898881,
            3352615531,
            3807427537,
            3891042694,
            4343857844,
            3821748537,
            4009247786,
            4114531391,
            4764167329,
            5062806724,
            5555394587,
            6200662642,
            6588428719,
            6963103880,
            127870924,
            115778151,
            131255682,
            124635463,
            132001345,
            144576228,
            161858297,
            184607816,
            187776599,
            200797243,
            985821416,
            935756081,
            980110750,
            1017200632,
            959996735,
            995007231,
            1014272418,
            1141438237,
            1150633737,
            1128270268,
            548719044,
            542701129,
            593147110,
            455202883,
            444433292,
            489723284,
            590365919,
            714978451,
            685927451,
            687194450,
            747853597,
            650294618,
            755215962,
            756510816,
            781297860,
            860371007,
            825283591,
            921327839,
            1406634076,
            1080539478,
            3558649197,
            3573082564,
            3984700107,
            4269265858,
            4316153599,
            4705885874,
            5248510907,
            5133615109,
            5482310347,
            5841927010,
            43999094,
            52731804,
            49981214,
            60848662,
            73577257,
            70829009,
            83592257,
            101171992,
            105166827,
            114504135,
            2622401,
            2991569,
            2997597,
            4862646,
            5050089,
            5412953,
            7524015,
            6020328,
            4155339,
            5364933
           ]
          }
         ],
         "name": "RPGs - Non SBIR/STTR"
        },
        {
         "data": [
          {
           "coloraxis": "coloraxis",
           "geo": "geo",
           "hovertemplate": "FUNDING MECHANISM=Research Centers<br>CODE=%{location}<br>FUNDING=%{z}<extra></extra>",
           "ids": [
            2012,
            2013,
            2014,
            2015,
            2016,
            2017,
            2018,
            2019,
            2020,
            2021,
            2012,
            2013,
            2014,
            2015,
            2016,
            2017,
            2018,
            2019,
            2020,
            2021,
            2012,
            2013,
            2014,
            2015,
            2016,
            2017,
            2018,
            2019,
            2020,
            2021,
            2012,
            2013,
            2014,
            2015,
            2016,
            2017,
            2018,
            2019,
            2020,
            2021,
            2012,
            2013,
            2014,
            2015,
            2016,
            2017,
            2018,
            2019,
            2020,
            2021,
            2012,
            2013,
            2014,
            2015,
            2016,
            2017,
            2018,
            2019,
            2020,
            2021,
            2012,
            2013,
            2014,
            2015,
            2016,
            2017,
            2018,
            2019,
            2020,
            2021,
            2012,
            2013,
            2014,
            2015,
            2016,
            2017,
            2018,
            2019,
            2020,
            2021,
            2012,
            2013,
            2014,
            2015,
            2016,
            2017,
            2018,
            2019,
            2020,
            2021,
            2012,
            2013,
            2014,
            2015,
            2016,
            2017,
            2018,
            2019,
            2020,
            2021,
            2012,
            2013,
            2014,
            2015,
            2016,
            2017,
            2018,
            2019,
            2020,
            2021,
            2012,
            2013,
            2014,
            2015,
            2016,
            2017,
            2018,
            2019,
            2020,
            2021,
            2012,
            2013,
            2014,
            2015,
            2016,
            2017,
            2018,
            2019,
            2020,
            2021,
            2012,
            2013,
            2014,
            2015,
            2016,
            2017,
            2018,
            2019,
            2020,
            2021,
            2012,
            2013,
            2014,
            2015,
            2016,
            2017,
            2018,
            2019,
            2020,
            2021,
            2012,
            2013,
            2014,
            2015,
            2016,
            2017,
            2018,
            2019,
            2020,
            2021,
            2012,
            2013,
            2014,
            2015,
            2016,
            2017,
            2018,
            2019,
            2020,
            2021,
            2012,
            2013,
            2014,
            2015,
            2016,
            2017,
            2018,
            2019,
            2020,
            2021,
            2012,
            2013,
            2014,
            2015,
            2016,
            2017,
            2018,
            2019,
            2020,
            2021,
            2012,
            2013,
            2014,
            2015,
            2016,
            2017,
            2018,
            2019,
            2020,
            2021,
            2012,
            2013,
            2014,
            2015,
            2016,
            2017,
            2018,
            2019,
            2020,
            2021,
            2012,
            2013,
            2014,
            2015,
            2016,
            2017,
            2018,
            2019,
            2020,
            2021,
            2012,
            2013,
            2014,
            2015,
            2016,
            2017,
            2018,
            2019,
            2020,
            2021,
            2012,
            2013,
            2014,
            2015,
            2016,
            2017,
            2018,
            2019,
            2020,
            2021,
            2012,
            2013,
            2014,
            2015,
            2016,
            2017,
            2018,
            2019,
            2020,
            2021,
            2012,
            2013,
            2014,
            2015,
            2016,
            2017,
            2018,
            2019,
            2020,
            2021,
            2012,
            2013,
            2014,
            2015,
            2016,
            2017,
            2018,
            2019,
            2020,
            2021,
            2012,
            2013,
            2014,
            2015,
            2016,
            2017,
            2018,
            2019,
            2020,
            2021,
            2012,
            2013,
            2014,
            2015,
            2016,
            2017,
            2018,
            2019,
            2020,
            2021,
            2012,
            2013,
            2014,
            2015,
            2016,
            2017,
            2018,
            2019,
            2020,
            2021,
            2012,
            2013,
            2014,
            2015,
            2016,
            2017,
            2018,
            2019,
            2020,
            2021,
            2012,
            2013,
            2014,
            2015,
            2016,
            2017,
            2018,
            2019,
            2020,
            2021,
            2012,
            2013,
            2014,
            2015,
            2016,
            2017,
            2018,
            2019,
            2020,
            2021,
            2012,
            2013,
            2014,
            2015,
            2016,
            2017,
            2018,
            2019,
            2020,
            2021,
            2012,
            2013,
            2014,
            2015,
            2016,
            2017,
            2018,
            2019,
            2020,
            2021,
            2012,
            2013,
            2014,
            2015,
            2016,
            2017,
            2018,
            2019,
            2020,
            2021,
            2012,
            2013,
            2014,
            2015,
            2016,
            2017,
            2018,
            2019,
            2020,
            2021,
            2012,
            2013,
            2014,
            2015,
            2016,
            2017,
            2018,
            2019,
            2020,
            2021,
            2012,
            2013,
            2014,
            2015,
            2016,
            2017,
            2018,
            2019,
            2020,
            2021,
            2012,
            2013,
            2014,
            2015,
            2016,
            2017,
            2018,
            2019,
            2020,
            2021,
            2012,
            2013,
            2014,
            2015,
            2016,
            2017,
            2018,
            2019,
            2020,
            2021,
            2012,
            2013,
            2014,
            2015,
            2016,
            2017,
            2018,
            2019,
            2020,
            2021,
            2012,
            2013,
            2014,
            2015,
            2016,
            2017,
            2018,
            2019,
            2020,
            2021,
            2012,
            2013,
            2014,
            2015,
            2016,
            2017,
            2018,
            2019,
            2020,
            2021,
            2012,
            2013,
            2014,
            2015,
            2016,
            2017,
            2018,
            2019,
            2020,
            2021,
            2012,
            2013,
            2014,
            2015,
            2016,
            2017,
            2018,
            2019,
            2020,
            2021,
            2012,
            2013,
            2014,
            2015,
            2016,
            2017,
            2018,
            2019,
            2020,
            2021,
            2012,
            2013,
            2014,
            2015,
            2016,
            2017,
            2018,
            2019,
            2020,
            2021,
            2012,
            2013,
            2014,
            2015,
            2016,
            2017,
            2018,
            2019,
            2020,
            2021,
            2012,
            2013,
            2014,
            2015,
            2016,
            2017,
            2018,
            2019,
            2020,
            2021
           ],
           "locationmode": "USA-states",
           "locations": [
            "AK",
            "AK",
            "AK",
            "AK",
            "AK",
            "AK",
            "AK",
            "AK",
            "AK",
            "AK",
            "AL",
            "AL",
            "AL",
            "AL",
            "AL",
            "AL",
            "AL",
            "AL",
            "AL",
            "AL",
            "AR",
            "AR",
            "AR",
            "AR",
            "AR",
            "AR",
            "AR",
            "AR",
            "AR",
            "AR",
            "AZ",
            "AZ",
            "AZ",
            "AZ",
            "AZ",
            "AZ",
            "AZ",
            "AZ",
            "AZ",
            "AZ",
            "CA",
            "CA",
            "CA",
            "CA",
            "CA",
            "CA",
            "CA",
            "CA",
            "CA",
            "CA",
            "CO",
            "CO",
            "CO",
            "CO",
            "CO",
            "CO",
            "CO",
            "CO",
            "CO",
            "CO",
            "CT",
            "CT",
            "CT",
            "CT",
            "CT",
            "CT",
            "CT",
            "CT",
            "CT",
            "CT",
            "DE",
            "DE",
            "DE",
            "DE",
            "DE",
            "DE",
            "DE",
            "DE",
            "DE",
            "DE",
            "FL",
            "FL",
            "FL",
            "FL",
            "FL",
            "FL",
            "FL",
            "FL",
            "FL",
            "FL",
            "GA",
            "GA",
            "GA",
            "GA",
            "GA",
            "GA",
            "GA",
            "GA",
            "GA",
            "GA",
            "HI",
            "HI",
            "HI",
            "HI",
            "HI",
            "HI",
            "HI",
            "HI",
            "HI",
            "HI",
            "IA",
            "IA",
            "IA",
            "IA",
            "IA",
            "IA",
            "IA",
            "IA",
            "IA",
            "IA",
            "ID",
            "ID",
            "ID",
            "ID",
            "ID",
            "ID",
            "ID",
            "ID",
            "ID",
            "ID",
            "IL",
            "IL",
            "IL",
            "IL",
            "IL",
            "IL",
            "IL",
            "IL",
            "IL",
            "IL",
            "IN",
            "IN",
            "IN",
            "IN",
            "IN",
            "IN",
            "IN",
            "IN",
            "IN",
            "IN",
            "KS",
            "KS",
            "KS",
            "KS",
            "KS",
            "KS",
            "KS",
            "KS",
            "KS",
            "KS",
            "KY",
            "KY",
            "KY",
            "KY",
            "KY",
            "KY",
            "KY",
            "KY",
            "KY",
            "KY",
            "LA",
            "LA",
            "LA",
            "LA",
            "LA",
            "LA",
            "LA",
            "LA",
            "LA",
            "LA",
            "MA",
            "MA",
            "MA",
            "MA",
            "MA",
            "MA",
            "MA",
            "MA",
            "MA",
            "MA",
            "MD",
            "MD",
            "MD",
            "MD",
            "MD",
            "MD",
            "MD",
            "MD",
            "MD",
            "MD",
            "ME",
            "ME",
            "ME",
            "ME",
            "ME",
            "ME",
            "ME",
            "ME",
            "ME",
            "ME",
            "MI",
            "MI",
            "MI",
            "MI",
            "MI",
            "MI",
            "MI",
            "MI",
            "MI",
            "MI",
            "MN",
            "MN",
            "MN",
            "MN",
            "MN",
            "MN",
            "MN",
            "MN",
            "MN",
            "MN",
            "MO",
            "MO",
            "MO",
            "MO",
            "MO",
            "MO",
            "MO",
            "MO",
            "MO",
            "MO",
            "MS",
            "MS",
            "MS",
            "MS",
            "MS",
            "MS",
            "MS",
            "MS",
            "MS",
            "MS",
            "MT",
            "MT",
            "MT",
            "MT",
            "MT",
            "MT",
            "MT",
            "MT",
            "MT",
            "MT",
            "NC",
            "NC",
            "NC",
            "NC",
            "NC",
            "NC",
            "NC",
            "NC",
            "NC",
            "NC",
            "ND",
            "ND",
            "ND",
            "ND",
            "ND",
            "ND",
            "ND",
            "ND",
            "ND",
            "ND",
            "NE",
            "NE",
            "NE",
            "NE",
            "NE",
            "NE",
            "NE",
            "NE",
            "NE",
            "NE",
            "NH",
            "NH",
            "NH",
            "NH",
            "NH",
            "NH",
            "NH",
            "NH",
            "NH",
            "NH",
            "NJ",
            "NJ",
            "NJ",
            "NJ",
            "NJ",
            "NJ",
            "NJ",
            "NJ",
            "NJ",
            "NJ",
            "NM",
            "NM",
            "NM",
            "NM",
            "NM",
            "NM",
            "NM",
            "NM",
            "NM",
            "NM",
            "NV",
            "NV",
            "NV",
            "NV",
            "NV",
            "NV",
            "NV",
            "NV",
            "NV",
            "NV",
            "NY",
            "NY",
            "NY",
            "NY",
            "NY",
            "NY",
            "NY",
            "NY",
            "NY",
            "NY",
            "OH",
            "OH",
            "OH",
            "OH",
            "OH",
            "OH",
            "OH",
            "OH",
            "OH",
            "OH",
            "OK",
            "OK",
            "OK",
            "OK",
            "OK",
            "OK",
            "OK",
            "OK",
            "OK",
            "OK",
            "OR",
            "OR",
            "OR",
            "OR",
            "OR",
            "OR",
            "OR",
            "OR",
            "OR",
            "OR",
            "PA",
            "PA",
            "PA",
            "PA",
            "PA",
            "PA",
            "PA",
            "PA",
            "PA",
            "PA",
            "RI",
            "RI",
            "RI",
            "RI",
            "RI",
            "RI",
            "RI",
            "RI",
            "RI",
            "RI",
            "SC",
            "SC",
            "SC",
            "SC",
            "SC",
            "SC",
            "SC",
            "SC",
            "SC",
            "SC",
            "SD",
            "SD",
            "SD",
            "SD",
            "SD",
            "SD",
            "SD",
            "SD",
            "SD",
            "SD",
            "TN",
            "TN",
            "TN",
            "TN",
            "TN",
            "TN",
            "TN",
            "TN",
            "TN",
            "TN",
            "TX",
            "TX",
            "TX",
            "TX",
            "TX",
            "TX",
            "TX",
            "TX",
            "TX",
            "TX",
            "UT",
            "UT",
            "UT",
            "UT",
            "UT",
            "UT",
            "UT",
            "UT",
            "UT",
            "UT",
            "VA",
            "VA",
            "VA",
            "VA",
            "VA",
            "VA",
            "VA",
            "VA",
            "VA",
            "VA",
            "VT",
            "VT",
            "VT",
            "VT",
            "VT",
            "VT",
            "VT",
            "VT",
            "VT",
            "VT",
            "WA",
            "WA",
            "WA",
            "WA",
            "WA",
            "WA",
            "WA",
            "WA",
            "WA",
            "WA",
            "WI",
            "WI",
            "WI",
            "WI",
            "WI",
            "WI",
            "WI",
            "WI",
            "WI",
            "WI",
            "WV",
            "WV",
            "WV",
            "WV",
            "WV",
            "WV",
            "WV",
            "WV",
            "WV",
            "WV",
            "WY",
            "WY",
            "WY",
            "WY",
            "WY",
            "WY",
            "WY",
            "WY",
            "WY",
            "WY"
           ],
           "name": "",
           "type": "choropleth",
           "z": [
            4623728,
            4603189,
            6233374,
            7301652,
            7180445,
            6157975,
            6190786,
            9351422,
            8873888,
            9561224,
            232301797,
            203178149,
            224937472,
            226091229,
            211913387,
            180957561,
            178075515,
            236851385,
            259475790,
            242045605,
            76973770,
            74487202,
            67652165,
            56972735,
            65643595,
            93336695,
            82990370,
            100046100,
            108284880,
            156719200,
            23525961,
            19018158,
            20705301,
            18647127,
            17060678,
            23160234,
            25282704,
            25711415,
            28847141,
            29565217,
            920527563,
            879782910,
            953981581,
            1006474972,
            955575127,
            913945295,
            853009808,
            919027444,
            936280493,
            936326258,
            596921564,
            537250197,
            494791167,
            427831820,
            368676927,
            373533275,
            389213490,
            350845377,
            361877301,
            483503551,
            401764118,
            416968240,
            448352904,
            508786216,
            527332880,
            524046554,
            563480136,
            495766142,
            605490908,
            654668164,
            128358965,
            138509326,
            193081850,
            172685316,
            204905761,
            181624350,
            192038204,
            151143344,
            182539179,
            226965329,
            164315365,
            103547870,
            108017451,
            121490379,
            134945157,
            123116775,
            127129794,
            179210820,
            205062505,
            179775059,
            521416629,
            585944423,
            609784399,
            614984225,
            603806564,
            529156348,
            585931048,
            614661391,
            1166072099,
            683499848,
            19830474,
            15726487,
            20185952,
            17121188,
            19402896,
            19763316,
            22034641,
            20822622,
            24746529,
            24892531,
            19938016,
            17993689,
            17724659,
            19860267,
            20653268,
            16078027,
            20189611,
            25955256,
            23527560,
            23244785,
            36034971,
            29118922,
            33416265,
            46463434,
            48594389,
            47725284,
            41101462,
            46322693,
            47955044,
            49717413,
            105840922,
            93850664,
            79441774,
            87969970,
            87551138,
            85774661,
            87427433,
            90776379,
            104678065,
            100181773,
            24902473,
            21717306,
            27917309,
            32228512,
            40375536,
            39962131,
            39874228,
            48687904,
            53855358,
            58521995,
            145644200,
            86994102,
            83846480,
            56408466,
            82042540,
            102640342,
            104631508,
            106209902,
            109068336,
            100476718,
            358825306,
            337294646,
            330621190,
            322740716,
            376643552,
            470242218,
            429862310,
            425794378,
            411611448,
            465487906,
            76578020,
            43510975,
            33139285,
            33240564,
            35313236,
            41299084,
            45277738,
            44577719,
            47849483,
            48161298,
            2326672480,
            1525759502,
            2325093542,
            1492481685,
            1227838187,
            1261075944,
            1212340274,
            1342466842,
            1511762195,
            1214109782,
            215097588,
            206095288,
            231241789,
            228544747,
            218335923,
            197767708,
            166016763,
            189108101,
            214350033,
            190614129,
            36804882,
            25738634,
            26431654,
            25965559,
            18466103,
            81832321,
            73378965,
            70863063,
            75819454,
            114425692,
            75417055,
            49290028,
            72714109,
            60085909,
            100757214,
            77748703,
            79643066,
            65906675,
            78828911,
            119510438,
            491599203,
            465489347,
            461338129,
            468332322,
            309799759,
            467487832,
            478693395,
            422502813,
            368446862,
            361578883,
            85872690,
            83023065,
            80967060,
            64929915,
            65612054,
            63478781,
            77778377,
            88151367,
            99395604,
            121243545,
            52582851,
            121262359,
            105531495,
            122247406,
            191318440,
            199008370,
            149357656,
            154864599,
            201479079,
            179686598,
            9548758,
            9785034,
            9978799,
            9675027,
            14494852,
            13884505,
            13125404,
            12091898,
            15316245,
            11117684,
            268388809,
            245549120,
            274436416,
            308254223,
            291890894,
            272567162,
            294197832,
            296457195,
            322169399,
            301667130,
            16048387,
            18483592,
            19113848,
            10533276,
            25314659,
            19027236,
            22147612,
            20274459,
            22860578,
            24071591,
            88397277,
            78078301,
            139620676,
            123280488,
            166812675,
            166576937,
            167365689,
            185162422,
            199607197,
            185650212,
            186471395,
            192729196,
            274668174,
            241231298,
            218356402,
            192057225,
            162139324,
            175346787,
            230254157,
            180775498,
            135655482,
            119998619,
            18051057,
            50911186,
            59333868,
            59744825,
            60303211,
            52239856,
            48649232,
            65220363,
            25221253,
            23913667,
            22133444,
            24519097,
            24233925,
            26807217,
            27388967,
            22944577,
            25777333,
            30004716,
            26336997,
            34158805,
            31116308,
            22955803,
            29511522,
            27623579,
            32291616,
            34258163,
            30305802,
            32017383,
            571736016,
            531720406,
            517291033,
            536545406,
            563038680,
            550988957,
            652077328,
            637622820,
            652554649,
            601168166,
            783843890,
            750131535,
            821339525,
            733745555,
            914036059,
            663724148,
            921503982,
            951203317,
            855170142,
            823599471,
            29321304,
            41110469,
            39443637,
            38386587,
            39404151,
            39510689,
            43344746,
            42094880,
            47149341,
            45739043,
            461928190,
            445790570,
            426878815,
            425578420,
            374043124,
            431251762,
            412329842,
            477992819,
            485445483,
            494701756,
            390851084,
            383143807,
            423120984,
            372058344,
            379717949,
            359026344,
            393076077,
            379897957,
            367365347,
            410065104,
            124217808,
            168806896,
            159101480,
            157943788,
            179061612,
            229067368,
            213475248,
            303518044,
            298396512,
            347495494,
            245865363,
            233900636,
            312381613,
            298140964,
            346473561,
            284041437,
            307192509,
            340493291,
            409382384,
            417610408,
            20534068,
            20376453,
            19562726,
            18069792,
            17747574,
            16559854,
            16417659,
            16223862,
            19061530,
            15866080,
            548103486,
            446097360,
            433624276,
            493773946,
            530505534,
            526627091,
            500554844,
            557638267,
            837355196,
            519084378,
            1117005327,
            887008267,
            932444334,
            1105834565,
            794163353,
            752670311,
            718781848,
            867005603,
            1123951743,
            972156874,
            15588166,
            13920535,
            15201723,
            21248329,
            17640095,
            19993983,
            27437902,
            16341382,
            21554449,
            21166999,
            119781457,
            188438832,
            250563771,
            263513667,
            182977539,
            161312499,
            179814341,
            166724829,
            196310007,
            202284668,
            146441706,
            248346812,
            249610541,
            241803070,
            191144260,
            185645032,
            222607741,
            223125374,
            291842298,
            231825753,
            144578422,
            141021685,
            122561863,
            123057809,
            117850973,
            103941415,
            105944715,
            110252941,
            140880664,
            134598622,
            750419411,
            687657806,
            729575982,
            729754387,
            783005807,
            768253222,
            735070968,
            734085161,
            702135992,
            683029686,
            137312195,
            37827292,
            51981127,
            44363866,
            40157413,
            58060325,
            90182500,
            79720910,
            116549614,
            128426452,
            4282683,
            4104343,
            3370172,
            4511261,
            3345261,
            5396605,
            5904151,
            5533821,
            6503644,
            6560410
           ]
          }
         ],
         "name": "Research Centers"
        },
        {
         "data": [
          {
           "coloraxis": "coloraxis",
           "geo": "geo",
           "hovertemplate": "FUNDING MECHANISM=Training - Institutional<br>CODE=%{location}<br>FUNDING=%{z}<extra></extra>",
           "ids": [
            2014,
            2015,
            2016,
            2017,
            2018,
            2019,
            2020,
            2021,
            2012,
            2013,
            2014,
            2015,
            2016,
            2017,
            2018,
            2019,
            2020,
            2021,
            2012,
            2013,
            2014,
            2015,
            2016,
            2017,
            2018,
            2019,
            2020,
            2021,
            2012,
            2013,
            2014,
            2015,
            2016,
            2017,
            2018,
            2019,
            2020,
            2021,
            2012,
            2013,
            2014,
            2015,
            2016,
            2017,
            2018,
            2019,
            2020,
            2021,
            2012,
            2013,
            2014,
            2015,
            2016,
            2017,
            2018,
            2019,
            2020,
            2021,
            2012,
            2013,
            2014,
            2015,
            2016,
            2017,
            2018,
            2019,
            2020,
            2021,
            2012,
            2013,
            2014,
            2015,
            2016,
            2017,
            2018,
            2019,
            2020,
            2021,
            2012,
            2013,
            2014,
            2015,
            2016,
            2017,
            2018,
            2019,
            2020,
            2021,
            2012,
            2013,
            2014,
            2015,
            2016,
            2017,
            2018,
            2019,
            2020,
            2021,
            2012,
            2013,
            2014,
            2015,
            2016,
            2017,
            2018,
            2019,
            2020,
            2021,
            2012,
            2013,
            2014,
            2015,
            2016,
            2017,
            2018,
            2019,
            2020,
            2021,
            2012,
            2013,
            2014,
            2015,
            2016,
            2017,
            2018,
            2019,
            2020,
            2021,
            2012,
            2013,
            2014,
            2015,
            2016,
            2017,
            2018,
            2019,
            2020,
            2021,
            2012,
            2013,
            2014,
            2015,
            2016,
            2017,
            2018,
            2019,
            2020,
            2021,
            2012,
            2013,
            2014,
            2015,
            2016,
            2017,
            2018,
            2019,
            2020,
            2021,
            2012,
            2013,
            2014,
            2015,
            2016,
            2017,
            2018,
            2019,
            2020,
            2021,
            2012,
            2013,
            2014,
            2015,
            2016,
            2017,
            2018,
            2019,
            2020,
            2021,
            2012,
            2013,
            2014,
            2015,
            2016,
            2017,
            2018,
            2019,
            2020,
            2021,
            2019,
            2020,
            2021,
            2012,
            2013,
            2014,
            2015,
            2016,
            2017,
            2018,
            2019,
            2020,
            2021,
            2012,
            2013,
            2014,
            2015,
            2016,
            2017,
            2018,
            2019,
            2020,
            2021,
            2012,
            2013,
            2014,
            2015,
            2016,
            2017,
            2018,
            2019,
            2020,
            2021,
            2012,
            2013,
            2014,
            2015,
            2016,
            2017,
            2018,
            2019,
            2020,
            2021,
            2012,
            2013,
            2014,
            2015,
            2016,
            2017,
            2018,
            2019,
            2020,
            2021,
            2017,
            2018,
            2019,
            2020,
            2021,
            2012,
            2013,
            2014,
            2015,
            2016,
            2017,
            2018,
            2019,
            2020,
            2021,
            2012,
            2013,
            2014,
            2015,
            2016,
            2017,
            2018,
            2019,
            2020,
            2021,
            2012,
            2013,
            2014,
            2015,
            2016,
            2017,
            2018,
            2019,
            2020,
            2021,
            2012,
            2013,
            2014,
            2015,
            2016,
            2017,
            2018,
            2019,
            2020,
            2021,
            2012,
            2013,
            2014,
            2015,
            2016,
            2017,
            2018,
            2019,
            2020,
            2021,
            2012,
            2013,
            2014,
            2015,
            2016,
            2017,
            2018,
            2019,
            2020,
            2021,
            2012,
            2013,
            2014,
            2015,
            2016,
            2017,
            2018,
            2019,
            2020,
            2021,
            2012,
            2013,
            2014,
            2015,
            2016,
            2017,
            2018,
            2019,
            2020,
            2021,
            2012,
            2013,
            2014,
            2015,
            2016,
            2017,
            2018,
            2019,
            2020,
            2021,
            2012,
            2013,
            2014,
            2015,
            2016,
            2017,
            2018,
            2019,
            2020,
            2021,
            2012,
            2013,
            2014,
            2015,
            2016,
            2017,
            2018,
            2019,
            2020,
            2021,
            2017,
            2018,
            2019,
            2020,
            2021,
            2012,
            2013,
            2014,
            2015,
            2016,
            2017,
            2018,
            2019,
            2020,
            2021,
            2012,
            2013,
            2014,
            2015,
            2016,
            2017,
            2018,
            2019,
            2020,
            2021,
            2012,
            2013,
            2014,
            2015,
            2016,
            2017,
            2018,
            2019,
            2020,
            2021,
            2012,
            2013,
            2014,
            2015,
            2016,
            2017,
            2018,
            2019,
            2020,
            2021,
            2012,
            2013,
            2014,
            2015,
            2016,
            2017,
            2018,
            2019,
            2020,
            2021,
            2012,
            2013,
            2014,
            2015,
            2016,
            2017,
            2018,
            2019,
            2020,
            2021,
            2012,
            2013,
            2014,
            2015,
            2016,
            2017,
            2018,
            2019,
            2020,
            2021,
            2012,
            2014,
            2015,
            2016,
            2017,
            2018,
            2019,
            2020,
            2021
           ],
           "locationmode": "USA-states",
           "locations": [
            "AK",
            "AK",
            "AK",
            "AK",
            "AK",
            "AK",
            "AK",
            "AK",
            "AL",
            "AL",
            "AL",
            "AL",
            "AL",
            "AL",
            "AL",
            "AL",
            "AL",
            "AL",
            "AR",
            "AR",
            "AR",
            "AR",
            "AR",
            "AR",
            "AR",
            "AR",
            "AR",
            "AR",
            "AZ",
            "AZ",
            "AZ",
            "AZ",
            "AZ",
            "AZ",
            "AZ",
            "AZ",
            "AZ",
            "AZ",
            "CA",
            "CA",
            "CA",
            "CA",
            "CA",
            "CA",
            "CA",
            "CA",
            "CA",
            "CA",
            "CO",
            "CO",
            "CO",
            "CO",
            "CO",
            "CO",
            "CO",
            "CO",
            "CO",
            "CO",
            "CT",
            "CT",
            "CT",
            "CT",
            "CT",
            "CT",
            "CT",
            "CT",
            "CT",
            "CT",
            "DE",
            "DE",
            "DE",
            "DE",
            "DE",
            "DE",
            "DE",
            "DE",
            "DE",
            "DE",
            "FL",
            "FL",
            "FL",
            "FL",
            "FL",
            "FL",
            "FL",
            "FL",
            "FL",
            "FL",
            "GA",
            "GA",
            "GA",
            "GA",
            "GA",
            "GA",
            "GA",
            "GA",
            "GA",
            "GA",
            "HI",
            "HI",
            "HI",
            "HI",
            "HI",
            "HI",
            "HI",
            "HI",
            "HI",
            "HI",
            "IA",
            "IA",
            "IA",
            "IA",
            "IA",
            "IA",
            "IA",
            "IA",
            "IA",
            "IA",
            "IL",
            "IL",
            "IL",
            "IL",
            "IL",
            "IL",
            "IL",
            "IL",
            "IL",
            "IL",
            "IN",
            "IN",
            "IN",
            "IN",
            "IN",
            "IN",
            "IN",
            "IN",
            "IN",
            "IN",
            "KS",
            "KS",
            "KS",
            "KS",
            "KS",
            "KS",
            "KS",
            "KS",
            "KS",
            "KS",
            "KY",
            "KY",
            "KY",
            "KY",
            "KY",
            "KY",
            "KY",
            "KY",
            "KY",
            "KY",
            "LA",
            "LA",
            "LA",
            "LA",
            "LA",
            "LA",
            "LA",
            "LA",
            "LA",
            "LA",
            "MA",
            "MA",
            "MA",
            "MA",
            "MA",
            "MA",
            "MA",
            "MA",
            "MA",
            "MA",
            "MD",
            "MD",
            "MD",
            "MD",
            "MD",
            "MD",
            "MD",
            "MD",
            "MD",
            "MD",
            "ME",
            "ME",
            "ME",
            "MI",
            "MI",
            "MI",
            "MI",
            "MI",
            "MI",
            "MI",
            "MI",
            "MI",
            "MI",
            "MN",
            "MN",
            "MN",
            "MN",
            "MN",
            "MN",
            "MN",
            "MN",
            "MN",
            "MN",
            "MO",
            "MO",
            "MO",
            "MO",
            "MO",
            "MO",
            "MO",
            "MO",
            "MO",
            "MO",
            "MS",
            "MS",
            "MS",
            "MS",
            "MS",
            "MS",
            "MS",
            "MS",
            "MS",
            "MS",
            "NC",
            "NC",
            "NC",
            "NC",
            "NC",
            "NC",
            "NC",
            "NC",
            "NC",
            "NC",
            "ND",
            "ND",
            "ND",
            "ND",
            "ND",
            "NE",
            "NE",
            "NE",
            "NE",
            "NE",
            "NE",
            "NE",
            "NE",
            "NE",
            "NE",
            "NH",
            "NH",
            "NH",
            "NH",
            "NH",
            "NH",
            "NH",
            "NH",
            "NH",
            "NH",
            "NJ",
            "NJ",
            "NJ",
            "NJ",
            "NJ",
            "NJ",
            "NJ",
            "NJ",
            "NJ",
            "NJ",
            "NM",
            "NM",
            "NM",
            "NM",
            "NM",
            "NM",
            "NM",
            "NM",
            "NM",
            "NM",
            "NY",
            "NY",
            "NY",
            "NY",
            "NY",
            "NY",
            "NY",
            "NY",
            "NY",
            "NY",
            "OH",
            "OH",
            "OH",
            "OH",
            "OH",
            "OH",
            "OH",
            "OH",
            "OH",
            "OH",
            "OK",
            "OK",
            "OK",
            "OK",
            "OK",
            "OK",
            "OK",
            "OK",
            "OK",
            "OK",
            "OR",
            "OR",
            "OR",
            "OR",
            "OR",
            "OR",
            "OR",
            "OR",
            "OR",
            "OR",
            "PA",
            "PA",
            "PA",
            "PA",
            "PA",
            "PA",
            "PA",
            "PA",
            "PA",
            "PA",
            "RI",
            "RI",
            "RI",
            "RI",
            "RI",
            "RI",
            "RI",
            "RI",
            "RI",
            "RI",
            "SC",
            "SC",
            "SC",
            "SC",
            "SC",
            "SC",
            "SC",
            "SC",
            "SC",
            "SC",
            "SD",
            "SD",
            "SD",
            "SD",
            "SD",
            "TN",
            "TN",
            "TN",
            "TN",
            "TN",
            "TN",
            "TN",
            "TN",
            "TN",
            "TN",
            "TX",
            "TX",
            "TX",
            "TX",
            "TX",
            "TX",
            "TX",
            "TX",
            "TX",
            "TX",
            "UT",
            "UT",
            "UT",
            "UT",
            "UT",
            "UT",
            "UT",
            "UT",
            "UT",
            "UT",
            "VA",
            "VA",
            "VA",
            "VA",
            "VA",
            "VA",
            "VA",
            "VA",
            "VA",
            "VA",
            "VT",
            "VT",
            "VT",
            "VT",
            "VT",
            "VT",
            "VT",
            "VT",
            "VT",
            "VT",
            "WA",
            "WA",
            "WA",
            "WA",
            "WA",
            "WA",
            "WA",
            "WA",
            "WA",
            "WA",
            "WI",
            "WI",
            "WI",
            "WI",
            "WI",
            "WI",
            "WI",
            "WI",
            "WI",
            "WI",
            "WV",
            "WV",
            "WV",
            "WV",
            "WV",
            "WV",
            "WV",
            "WV",
            "WV"
           ],
           "name": "",
           "type": "choropleth",
           "z": [
            692305,
            1035198,
            767853,
            1047432,
            1047432,
            523465,
            788899,
            503191,
            26458744,
            27856845,
            29097632,
            29467988,
            33246268,
            32013882,
            40768803,
            36947375,
            36685150,
            43865396,
            2384805,
            2694220,
            2530090,
            2601465,
            3549030,
            2545920,
            2780310,
            3560970,
            4933735,
            4752230,
            4240363,
            2903413,
            3363266,
            3528652,
            4004604,
            3613572,
            3668023,
            4305552,
            4099236,
            4056287,
            209599331,
            195873793,
            188873190,
            212500728,
            240445264,
            237177039,
            243523435,
            236495760,
            228297359,
            228627274,
            116217439,
            123441323,
            146657724,
            138672063,
            135062156,
            133296699,
            155865559,
            154131384,
            175718477,
            193179297,
            193664490,
            178094580,
            181125710,
            162260766,
            186985636,
            176823906,
            180182606,
            178353012,
            180666998,
            185838942,
            11924968,
            11248230,
            5312343,
            5748743,
            5697681,
            5869501,
            5872031,
            6520789,
            10883563,
            14113015,
            18311200,
            13304182,
            20126572,
            24745467,
            27252055,
            24497103,
            30384775,
            36103852,
            39767862,
            45827964,
            94541669,
            94620935,
            93068679,
            92789046,
            82947376,
            94988758,
            95352896,
            103550466,
            110920760,
            112897123,
            273312,
            548421,
            466743,
            236717,
            282405,
            47294,
            356299,
            575436,
            810625,
            1094083,
            7195268,
            7418214,
            7418831,
            6463499,
            6943794,
            7524822,
            7514408,
            8061207,
            7277711,
            6588780,
            26517142,
            24117081,
            24718549,
            26252395,
            28588497,
            29616674,
            30413154,
            31691323,
            29324049,
            31918428,
            23948895,
            22218435,
            16989512,
            13924259,
            15992434,
            17273034,
            18341937,
            19805515,
            21721637,
            18840599,
            8435216,
            8068020,
            6995346,
            7408956,
            7925742,
            8481272,
            8173516,
            4053198,
            7348428,
            9461070,
            48042252,
            36504064,
            39396486,
            33048676,
            44541516,
            53206632,
            64627310,
            57663428,
            47455246,
            45495628,
            2244330,
            2294848,
            2112677,
            3234614,
            3625563,
            3380914,
            2573133,
            2461438,
            2897353,
            2840033,
            375731982,
            350310522,
            363532283,
            366329228,
            395471963,
            401185523,
            398102748,
            380941614,
            374084231,
            407898417,
            77417228,
            71823725,
            75299748,
            68270858,
            75791880,
            73495127,
            74835874,
            71809240,
            73541046,
            72019128,
            214178,
            303844,
            364583,
            21913359,
            21565052,
            24361281,
            27876590,
            32699683,
            34892707,
            38549732,
            30845404,
            39418324,
            46376827,
            61324829,
            60606277,
            64972118,
            56399791,
            61625819,
            67803458,
            70179634,
            82017689,
            90311784,
            92394982,
            14481273,
            15131746,
            10824297,
            10291097,
            17803947,
            21578861,
            19832678,
            21573680,
            29163585,
            31322877,
            16150929,
            15036596,
            8892498,
            1372114,
            7781151,
            8153601,
            8397096,
            102502,
            9100278,
            6388787,
            104720562,
            100433755,
            104254273,
            98942395,
            101873816,
            107896630,
            113682618,
            116395678,
            118329808,
            113652329,
            134047,
            265945,
            267656,
            444860,
            446997,
            5274297,
            3906317,
            195372,
            2789787,
            6748268,
            6909383,
            7698881,
            6174013,
            7625829,
            5148152,
            21123234,
            16757664,
            22587620,
            19718732,
            22306680,
            24131734,
            26895132,
            27021831,
            20406881,
            20192546,
            53771471,
            48461311,
            48461472,
            43095044,
            40384784,
            38804252,
            34469233,
            39057884,
            42311201,
            43235711,
            2222171,
            1905127,
            1743479,
            1694470,
            1376230,
            1215222,
            1732895,
            1478905,
            1981074,
            2032966,
            162370469,
            169858979,
            153486923,
            132424074,
            125005714,
            143514809,
            140727783,
            151057008,
            168440692,
            158001818,
            188968693,
            186656266,
            177435272,
            182413668,
            205807811,
            184458498,
            189782500,
            180823195,
            182898280,
            189938590,
            302116,
            313867,
            458405,
            308372,
            309874,
            500661,
            689123,
            608373,
            661332,
            1236859,
            64603549,
            58694568,
            59660767,
            49404256,
            52733784,
            63584345,
            67380289,
            66245384,
            64180191,
            78060518,
            132751216,
            133315124,
            137867137,
            143918814,
            157680278,
            161413730,
            171386552,
            160644943,
            172036104,
            172847420,
            20157876,
            22233016,
            19017060,
            18234420,
            17745380,
            19745652,
            18470188,
            25052868,
            28264224,
            29725536,
            31330129,
            32673763,
            31761112,
            35753778,
            37619432,
            35541595,
            45931529,
            49073280,
            51521277,
            53410585,
            104742,
            106296,
            107892,
            352395,
            746544,
            128446223,
            132246746,
            124399117,
            133227812,
            134938191,
            142375690,
            143545331,
            167758666,
            154010686,
            160656402,
            163027800,
            146691591,
            147193508,
            151675863,
            163107227,
            158248000,
            178628407,
            169861565,
            186037182,
            174352910,
            2720773,
            2974565,
            3087770,
            2119127,
            2831598,
            3591983,
            4179732,
            4810496,
            4922058,
            5503083,
            30185791,
            24465844,
            26818491,
            23764835,
            27811633,
            23842483,
            22863904,
            19793708,
            20533826,
            31652114,
            30046548,
            22688863,
            22920981,
            20702515,
            16801899,
            14176402,
            15875433,
            16065901,
            20814409,
            19482578,
            24617025,
            23129537,
            21461037,
            23017508,
            22540267,
            22523572,
            21401003,
            24732427,
            24305137,
            22811040,
            310559971,
            293662225,
            284286852,
            308284558,
            303191070,
            304996022,
            278040847,
            280807940,
            302028811,
            292472867,
            2135680,
            874615,
            1326320,
            1341090,
            2765400,
            2906740,
            4062010,
            4831365,
            4887085
           ]
          }
         ],
         "name": "Training - Institutional"
        },
        {
         "data": [
          {
           "coloraxis": "coloraxis",
           "geo": "geo",
           "hovertemplate": "FUNDING MECHANISM=RPGs - SBIR/STTR<br>CODE=%{location}<br>FUNDING=%{z}<extra></extra>",
           "ids": [
            2015,
            2017,
            2018,
            2019,
            2020,
            2012,
            2013,
            2014,
            2015,
            2016,
            2017,
            2018,
            2019,
            2020,
            2021,
            2012,
            2013,
            2014,
            2015,
            2016,
            2017,
            2018,
            2019,
            2020,
            2021,
            2012,
            2013,
            2014,
            2015,
            2016,
            2017,
            2018,
            2019,
            2020,
            2021,
            2012,
            2013,
            2014,
            2015,
            2016,
            2017,
            2018,
            2019,
            2020,
            2021,
            2012,
            2013,
            2014,
            2015,
            2016,
            2017,
            2018,
            2019,
            2020,
            2021,
            2012,
            2013,
            2014,
            2015,
            2016,
            2017,
            2018,
            2019,
            2020,
            2021,
            2012,
            2013,
            2014,
            2015,
            2016,
            2017,
            2018,
            2019,
            2020,
            2021,
            2012,
            2013,
            2014,
            2015,
            2016,
            2017,
            2018,
            2019,
            2020,
            2021,
            2012,
            2013,
            2014,
            2015,
            2016,
            2017,
            2018,
            2019,
            2020,
            2021,
            2012,
            2013,
            2014,
            2015,
            2016,
            2017,
            2018,
            2019,
            2020,
            2021,
            2012,
            2013,
            2014,
            2015,
            2016,
            2017,
            2018,
            2019,
            2020,
            2021,
            2012,
            2013,
            2014,
            2015,
            2016,
            2017,
            2018,
            2019,
            2020,
            2021,
            2012,
            2013,
            2014,
            2015,
            2016,
            2017,
            2018,
            2019,
            2020,
            2021,
            2012,
            2013,
            2014,
            2015,
            2016,
            2017,
            2018,
            2019,
            2020,
            2021,
            2012,
            2013,
            2014,
            2015,
            2016,
            2017,
            2018,
            2019,
            2020,
            2021,
            2012,
            2013,
            2014,
            2015,
            2016,
            2017,
            2018,
            2019,
            2020,
            2021,
            2012,
            2013,
            2014,
            2016,
            2017,
            2018,
            2019,
            2020,
            2021,
            2012,
            2013,
            2014,
            2015,
            2016,
            2017,
            2018,
            2019,
            2020,
            2021,
            2012,
            2013,
            2014,
            2015,
            2016,
            2017,
            2018,
            2019,
            2020,
            2021,
            2015,
            2016,
            2017,
            2018,
            2019,
            2020,
            2021,
            2012,
            2013,
            2014,
            2015,
            2016,
            2017,
            2018,
            2019,
            2020,
            2021,
            2012,
            2013,
            2014,
            2015,
            2016,
            2017,
            2018,
            2019,
            2020,
            2021,
            2012,
            2013,
            2014,
            2015,
            2016,
            2017,
            2018,
            2019,
            2020,
            2021,
            2013,
            2015,
            2017,
            2018,
            2019,
            2012,
            2013,
            2014,
            2015,
            2016,
            2017,
            2018,
            2019,
            2020,
            2021,
            2012,
            2013,
            2014,
            2015,
            2016,
            2017,
            2018,
            2019,
            2020,
            2021,
            2012,
            2013,
            2012,
            2013,
            2014,
            2015,
            2016,
            2017,
            2018,
            2019,
            2020,
            2021,
            2012,
            2013,
            2014,
            2015,
            2016,
            2017,
            2018,
            2019,
            2020,
            2021,
            2012,
            2013,
            2014,
            2015,
            2016,
            2017,
            2018,
            2019,
            2020,
            2021,
            2012,
            2013,
            2014,
            2015,
            2016,
            2017,
            2018,
            2019,
            2020,
            2021,
            2013,
            2014,
            2015,
            2016,
            2017,
            2018,
            2019,
            2020,
            2021,
            2012,
            2013,
            2014,
            2015,
            2016,
            2017,
            2018,
            2019,
            2020,
            2021,
            2012,
            2013,
            2014,
            2015,
            2016,
            2017,
            2018,
            2019,
            2020,
            2021,
            2012,
            2013,
            2014,
            2015,
            2016,
            2017,
            2018,
            2019,
            2020,
            2021,
            2012,
            2013,
            2014,
            2015,
            2016,
            2017,
            2018,
            2019,
            2020,
            2021,
            2012,
            2013,
            2014,
            2015,
            2016,
            2017,
            2018,
            2019,
            2020,
            2021,
            2012,
            2013,
            2014,
            2015,
            2016,
            2017,
            2018,
            2019,
            2020,
            2021,
            2012,
            2013,
            2014,
            2015,
            2016,
            2017,
            2018,
            2019,
            2020,
            2021,
            2013,
            2015,
            2016,
            2017,
            2018,
            2019,
            2020,
            2012,
            2013,
            2014,
            2015,
            2016,
            2017,
            2018,
            2019,
            2020,
            2021,
            2012,
            2013,
            2014,
            2015,
            2016,
            2017,
            2018,
            2019,
            2020,
            2021,
            2012,
            2013,
            2014,
            2015,
            2016,
            2017,
            2018,
            2019,
            2020,
            2021,
            2012,
            2013,
            2014,
            2015,
            2016,
            2017,
            2018,
            2019,
            2020,
            2021,
            2012,
            2013,
            2014,
            2015,
            2016,
            2017,
            2018,
            2019,
            2020,
            2021,
            2012,
            2013,
            2014,
            2015,
            2016,
            2017,
            2018,
            2019,
            2020,
            2021,
            2012,
            2013,
            2014,
            2015,
            2016,
            2017,
            2018,
            2019,
            2020,
            2021,
            2015,
            2016,
            2017,
            2018,
            2019,
            2020,
            2021,
            2013,
            2014,
            2015,
            2016,
            2017,
            2018,
            2019,
            2020
           ],
           "locationmode": "USA-states",
           "locations": [
            "AK",
            "AK",
            "AK",
            "AK",
            "AK",
            "AL",
            "AL",
            "AL",
            "AL",
            "AL",
            "AL",
            "AL",
            "AL",
            "AL",
            "AL",
            "AR",
            "AR",
            "AR",
            "AR",
            "AR",
            "AR",
            "AR",
            "AR",
            "AR",
            "AR",
            "AZ",
            "AZ",
            "AZ",
            "AZ",
            "AZ",
            "AZ",
            "AZ",
            "AZ",
            "AZ",
            "AZ",
            "CA",
            "CA",
            "CA",
            "CA",
            "CA",
            "CA",
            "CA",
            "CA",
            "CA",
            "CA",
            "CO",
            "CO",
            "CO",
            "CO",
            "CO",
            "CO",
            "CO",
            "CO",
            "CO",
            "CO",
            "CT",
            "CT",
            "CT",
            "CT",
            "CT",
            "CT",
            "CT",
            "CT",
            "CT",
            "CT",
            "DE",
            "DE",
            "DE",
            "DE",
            "DE",
            "DE",
            "DE",
            "DE",
            "DE",
            "DE",
            "FL",
            "FL",
            "FL",
            "FL",
            "FL",
            "FL",
            "FL",
            "FL",
            "FL",
            "FL",
            "GA",
            "GA",
            "GA",
            "GA",
            "GA",
            "GA",
            "GA",
            "GA",
            "GA",
            "GA",
            "HI",
            "HI",
            "HI",
            "HI",
            "HI",
            "HI",
            "HI",
            "HI",
            "HI",
            "HI",
            "IA",
            "IA",
            "IA",
            "IA",
            "IA",
            "IA",
            "IA",
            "IA",
            "IA",
            "IA",
            "ID",
            "ID",
            "ID",
            "ID",
            "ID",
            "ID",
            "ID",
            "ID",
            "ID",
            "ID",
            "IL",
            "IL",
            "IL",
            "IL",
            "IL",
            "IL",
            "IL",
            "IL",
            "IL",
            "IL",
            "IN",
            "IN",
            "IN",
            "IN",
            "IN",
            "IN",
            "IN",
            "IN",
            "IN",
            "IN",
            "KS",
            "KS",
            "KS",
            "KS",
            "KS",
            "KS",
            "KS",
            "KS",
            "KS",
            "KS",
            "KY",
            "KY",
            "KY",
            "KY",
            "KY",
            "KY",
            "KY",
            "KY",
            "KY",
            "KY",
            "LA",
            "LA",
            "LA",
            "LA",
            "LA",
            "LA",
            "LA",
            "LA",
            "LA",
            "MA",
            "MA",
            "MA",
            "MA",
            "MA",
            "MA",
            "MA",
            "MA",
            "MA",
            "MA",
            "MD",
            "MD",
            "MD",
            "MD",
            "MD",
            "MD",
            "MD",
            "MD",
            "MD",
            "MD",
            "ME",
            "ME",
            "ME",
            "ME",
            "ME",
            "ME",
            "ME",
            "MI",
            "MI",
            "MI",
            "MI",
            "MI",
            "MI",
            "MI",
            "MI",
            "MI",
            "MI",
            "MN",
            "MN",
            "MN",
            "MN",
            "MN",
            "MN",
            "MN",
            "MN",
            "MN",
            "MN",
            "MO",
            "MO",
            "MO",
            "MO",
            "MO",
            "MO",
            "MO",
            "MO",
            "MO",
            "MO",
            "MS",
            "MS",
            "MS",
            "MS",
            "MS",
            "MT",
            "MT",
            "MT",
            "MT",
            "MT",
            "MT",
            "MT",
            "MT",
            "MT",
            "MT",
            "NC",
            "NC",
            "NC",
            "NC",
            "NC",
            "NC",
            "NC",
            "NC",
            "NC",
            "NC",
            "ND",
            "ND",
            "NE",
            "NE",
            "NE",
            "NE",
            "NE",
            "NE",
            "NE",
            "NE",
            "NE",
            "NE",
            "NH",
            "NH",
            "NH",
            "NH",
            "NH",
            "NH",
            "NH",
            "NH",
            "NH",
            "NH",
            "NJ",
            "NJ",
            "NJ",
            "NJ",
            "NJ",
            "NJ",
            "NJ",
            "NJ",
            "NJ",
            "NJ",
            "NM",
            "NM",
            "NM",
            "NM",
            "NM",
            "NM",
            "NM",
            "NM",
            "NM",
            "NM",
            "NV",
            "NV",
            "NV",
            "NV",
            "NV",
            "NV",
            "NV",
            "NV",
            "NV",
            "NY",
            "NY",
            "NY",
            "NY",
            "NY",
            "NY",
            "NY",
            "NY",
            "NY",
            "NY",
            "OH",
            "OH",
            "OH",
            "OH",
            "OH",
            "OH",
            "OH",
            "OH",
            "OH",
            "OH",
            "OK",
            "OK",
            "OK",
            "OK",
            "OK",
            "OK",
            "OK",
            "OK",
            "OK",
            "OK",
            "OR",
            "OR",
            "OR",
            "OR",
            "OR",
            "OR",
            "OR",
            "OR",
            "OR",
            "OR",
            "PA",
            "PA",
            "PA",
            "PA",
            "PA",
            "PA",
            "PA",
            "PA",
            "PA",
            "PA",
            "RI",
            "RI",
            "RI",
            "RI",
            "RI",
            "RI",
            "RI",
            "RI",
            "RI",
            "RI",
            "SC",
            "SC",
            "SC",
            "SC",
            "SC",
            "SC",
            "SC",
            "SC",
            "SC",
            "SC",
            "SD",
            "SD",
            "SD",
            "SD",
            "SD",
            "SD",
            "SD",
            "TN",
            "TN",
            "TN",
            "TN",
            "TN",
            "TN",
            "TN",
            "TN",
            "TN",
            "TN",
            "TX",
            "TX",
            "TX",
            "TX",
            "TX",
            "TX",
            "TX",
            "TX",
            "TX",
            "TX",
            "UT",
            "UT",
            "UT",
            "UT",
            "UT",
            "UT",
            "UT",
            "UT",
            "UT",
            "UT",
            "VA",
            "VA",
            "VA",
            "VA",
            "VA",
            "VA",
            "VA",
            "VA",
            "VA",
            "VA",
            "VT",
            "VT",
            "VT",
            "VT",
            "VT",
            "VT",
            "VT",
            "VT",
            "VT",
            "VT",
            "WA",
            "WA",
            "WA",
            "WA",
            "WA",
            "WA",
            "WA",
            "WA",
            "WA",
            "WA",
            "WI",
            "WI",
            "WI",
            "WI",
            "WI",
            "WI",
            "WI",
            "WI",
            "WI",
            "WI",
            "WV",
            "WV",
            "WV",
            "WV",
            "WV",
            "WV",
            "WV",
            "WY",
            "WY",
            "WY",
            "WY",
            "WY",
            "WY",
            "WY",
            "WY"
           ],
           "name": "",
           "type": "choropleth",
           "z": [
            296388,
            843620,
            525028,
            399877,
            55000,
            31516042,
            28420989,
            14817012,
            19461106,
            22267172,
            25018377,
            20493668,
            34594656,
            24645698,
            27131700,
            17916369,
            10043140,
            17215964,
            22455570,
            17433182,
            16604367,
            28684388,
            15991565,
            8842965,
            10693815,
            10033517,
            13844389,
            15825337,
            8153859,
            12374845,
            15806362,
            14971203,
            17069030,
            17097069,
            28857004,
            303726686,
            288763246,
            369960339,
            418153880,
            455877289,
            544127989,
            567279163,
            577703148,
            643195220,
            654600098,
            83733020,
            94281389,
            70127257,
            87800947,
            124706291,
            165982452,
            151943157,
            122161997,
            133022344,
            142987466,
            74001040,
            34585304,
            82038467,
            80499149,
            47454978,
            66650184,
            50294702,
            59160143,
            116276717,
            81734087,
            16120650,
            16207978,
            2805228,
            6856648,
            27036328,
            34948819,
            32268301,
            33389753,
            24459017,
            15782488,
            30300780,
            32691077,
            55231258,
            57977607,
            38825933,
            49916546,
            53975185,
            62511413,
            70415028,
            68244007,
            102750933,
            112669839,
            127098925,
            130682088,
            85361878,
            146207840,
            188631836,
            202606661,
            141962102,
            115277460,
            396989,
            382560,
            341576,
            1505558,
            1602860,
            896861,
            1184835,
            2374981,
            3518197,
            2957449,
            2501302,
            4188298,
            6997841,
            5890752,
            14982239,
            13077717,
            6290638,
            8253802,
            8889831,
            12423578,
            844886,
            1043910,
            872034,
            230730,
            397599,
            940794,
            441001,
            491792,
            799156,
            1049889,
            20878273,
            22956100,
            20346482,
            13148257,
            36293518,
            28943703,
            21712908,
            39197832,
            32319010,
            34231937,
            16525175,
            41081567,
            64591569,
            67434370,
            45628676,
            26390823,
            19266347,
            17185544,
            33366546,
            20652957,
            14603248,
            16506690,
            13332298,
            14321223,
            11276998,
            7453814,
            23836072,
            15900134,
            9408784,
            3469998,
            115607875,
            101559774,
            124155964,
            106238558,
            129157722,
            184184052,
            117838024,
            90856992,
            133105338,
            103826011,
            986774,
            835508,
            995337,
            932815,
            2155657,
            3128056,
            2948714,
            1497783,
            2111403,
            399134688,
            361097908,
            414931142,
            454518232,
            633677644,
            732912332,
            724027968,
            860437918,
            915509419,
            975750143,
            169809412,
            150144952,
            192728966,
            197221337,
            222797215,
            242793587,
            283687639,
            242344172,
            309757641,
            321372367,
            1349994,
            8250693,
            9256832,
            3599989,
            1901542,
            3630000,
            5765364,
            38713567,
            38564617,
            35668187,
            50434276,
            49652553,
            26673094,
            46856594,
            51239211,
            49373738,
            43786650,
            83976567,
            29241358,
            42037869,
            48679231,
            43484350,
            72439488,
            99258685,
            125662454,
            107556325,
            64734352,
            25819279,
            15155484,
            5425946,
            15674101,
            23567102,
            38613032,
            29928738,
            39487542,
            24036952,
            45517128,
            3082710,
            2885655,
            3679293,
            2712450,
            3035405,
            1749359,
            2840664,
            1190003,
            2161915,
            3825388,
            4265380,
            5950220,
            12851074,
            7590448,
            4041728,
            124304865,
            118751594,
            101558258,
            98339668,
            126313959,
            195929069,
            269357075,
            270342998,
            270170317,
            344134933,
            5732420,
            3593888,
            26141070,
            21526244,
            13028620,
            20382206,
            10838400,
            12675822,
            31624770,
            23170868,
            9394020,
            9207312,
            111813856,
            112068660,
            100000547,
            128880493,
            86678111,
            124927595,
            144061331,
            178613458,
            170646517,
            116371276,
            114561574,
            92531103,
            53619974,
            44129889,
            83785869,
            113697027,
            109378402,
            182667782,
            152785826,
            145449872,
            5458343,
            3776161,
            4652130,
            4515344,
            6584155,
            5903005,
            3459034,
            3970637,
            6237588,
            2878492,
            900000,
            4946395,
            4652240,
            5022865,
            4423092,
            1542516,
            4157847,
            9184546,
            6486974,
            119771816,
            116704777,
            115458143,
            130294942,
            140125844,
            116873863,
            227174511,
            142009204,
            194241116,
            199522475,
            252190812,
            200575008,
            252084004,
            209518727,
            143372395,
            149668205,
            182175088,
            164626658,
            211932011,
            300306190,
            7651214,
            7645928,
            7264918,
            10033409,
            8467554,
            1544008,
            1268067,
            2276648,
            3350143,
            6038021,
            137290259,
            78095412,
            139081343,
            119030000,
            135170525,
            106966490,
            125555841,
            124704468,
            112358934,
            144811135,
            61813214,
            74129586,
            91493962,
            108906941,
            108576795,
            126580786,
            150635566,
            175755784,
            204711270,
            156995437,
            9021690,
            27259536,
            22705854,
            1495588,
            13511712,
            5808128,
            8442760,
            10493260,
            5173431,
            9616736,
            36288899,
            18878415,
            59928299,
            93319213,
            76306413,
            142376262,
            144749817,
            133367407,
            132881405,
            203827594,
            270712,
            149261,
            3403844,
            670476,
            225000,
            1199605,
            418106,
            38402436,
            31981523,
            38825236,
            31065212,
            22643572,
            32232890,
            55606520,
            83776206,
            97506120,
            64253156,
            164776082,
            195280970,
            182005264,
            126177800,
            197240726,
            256830630,
            256863244,
            189567939,
            196494063,
            254187607,
            9392113,
            9393502,
            14292310,
            9527748,
            31434416,
            23092402,
            14274126,
            11100226,
            26413537,
            16598400,
            57710375,
            72320862,
            41745247,
            60137705,
            95985047,
            111074527,
            102031648,
            126286428,
            113634906,
            118398413,
            21500903,
            16908658,
            12843284,
            27734181,
            27080557,
            18060054,
            14155502,
            9421254,
            16656486,
            28599501,
            66745377,
            55100686,
            90790240,
            50669802,
            101716401,
            87080084,
            85714953,
            76171558,
            108652489,
            75614485,
            275480388,
            229343548,
            227590907,
            214615675,
            190102089,
            182362375,
            249992245,
            215228532,
            345929543,
            230650881,
            1152000,
            1395000,
            5978058,
            16315109,
            11828465,
            12920610,
            6876275,
            302429,
            835024,
            433111,
            1073417,
            8876983,
            3798953,
            11840720,
            13090553
           ]
          }
         ],
         "name": "RPGs - SBIR/STTR"
        },
        {
         "data": [
          {
           "coloraxis": "coloraxis",
           "geo": "geo",
           "hovertemplate": "FUNDING MECHANISM=Training - Individual<br>CODE=%{location}<br>FUNDING=%{z}<extra></extra>",
           "ids": [
            2012,
            2013,
            2014,
            2015,
            2016,
            2017,
            2018,
            2019,
            2020,
            2021,
            2012,
            2013,
            2014,
            2015,
            2016,
            2018,
            2019,
            2020,
            2012,
            2013,
            2014,
            2015,
            2016,
            2017,
            2018,
            2019,
            2020,
            2021,
            2012,
            2013,
            2014,
            2015,
            2016,
            2017,
            2018,
            2019,
            2020,
            2021,
            2012,
            2013,
            2014,
            2015,
            2016,
            2017,
            2018,
            2019,
            2020,
            2021,
            2012,
            2013,
            2014,
            2015,
            2016,
            2017,
            2018,
            2019,
            2020,
            2021,
            2012,
            2013,
            2014,
            2015,
            2016,
            2017,
            2018,
            2019,
            2020,
            2021,
            2012,
            2013,
            2014,
            2015,
            2016,
            2017,
            2018,
            2019,
            2020,
            2021,
            2012,
            2013,
            2014,
            2015,
            2016,
            2017,
            2018,
            2019,
            2020,
            2021,
            2012,
            2015,
            2016,
            2017,
            2018,
            2019,
            2020,
            2021,
            2012,
            2013,
            2014,
            2015,
            2016,
            2017,
            2018,
            2019,
            2020,
            2021,
            2020,
            2021,
            2012,
            2013,
            2014,
            2015,
            2016,
            2017,
            2018,
            2019,
            2020,
            2021,
            2012,
            2013,
            2014,
            2015,
            2016,
            2017,
            2018,
            2019,
            2020,
            2021,
            2012,
            2013,
            2014,
            2015,
            2016,
            2017,
            2018,
            2019,
            2020,
            2021,
            2012,
            2013,
            2014,
            2015,
            2016,
            2017,
            2018,
            2019,
            2020,
            2021,
            2012,
            2013,
            2014,
            2015,
            2016,
            2017,
            2018,
            2019,
            2020,
            2021,
            2012,
            2013,
            2014,
            2015,
            2016,
            2017,
            2018,
            2019,
            2020,
            2021,
            2012,
            2013,
            2014,
            2015,
            2016,
            2017,
            2018,
            2019,
            2020,
            2021,
            2012,
            2013,
            2014,
            2015,
            2016,
            2017,
            2018,
            2019,
            2020,
            2021,
            2012,
            2013,
            2014,
            2015,
            2016,
            2017,
            2018,
            2019,
            2020,
            2021,
            2012,
            2013,
            2014,
            2015,
            2016,
            2017,
            2018,
            2019,
            2020,
            2021,
            2012,
            2013,
            2014,
            2015,
            2016,
            2017,
            2018,
            2019,
            2020,
            2021,
            2012,
            2013,
            2014,
            2015,
            2016,
            2017,
            2018,
            2019,
            2020,
            2021,
            2012,
            2013,
            2014,
            2015,
            2016,
            2017,
            2018,
            2019,
            2020,
            2021,
            2012,
            2013,
            2014,
            2015,
            2016,
            2017,
            2018,
            2019,
            2020,
            2021,
            2012,
            2013,
            2014,
            2015,
            2016,
            2017,
            2018,
            2019,
            2020,
            2021,
            2012,
            2013,
            2014,
            2015,
            2016,
            2017,
            2018,
            2019,
            2020,
            2021,
            2012,
            2013,
            2014,
            2015,
            2016,
            2017,
            2018,
            2019,
            2020,
            2021,
            2012,
            2013,
            2014,
            2015,
            2016,
            2017,
            2018,
            2019,
            2020,
            2021,
            2012,
            2013,
            2014,
            2015,
            2016,
            2017,
            2012,
            2013,
            2014,
            2015,
            2016,
            2017,
            2018,
            2019,
            2020,
            2021,
            2012,
            2013,
            2014,
            2015,
            2016,
            2017,
            2018,
            2019,
            2020,
            2021,
            2012,
            2013,
            2014,
            2015,
            2016,
            2017,
            2018,
            2019,
            2020,
            2021,
            2012,
            2013,
            2014,
            2015,
            2016,
            2017,
            2018,
            2019,
            2020,
            2021,
            2012,
            2013,
            2014,
            2015,
            2016,
            2017,
            2018,
            2019,
            2020,
            2021,
            2012,
            2013,
            2014,
            2015,
            2016,
            2017,
            2018,
            2019,
            2020,
            2021,
            2012,
            2013,
            2014,
            2015,
            2016,
            2017,
            2018,
            2019,
            2020,
            2021,
            2012,
            2013,
            2014,
            2015,
            2016,
            2018,
            2019,
            2020,
            2021,
            2012,
            2013,
            2014,
            2015,
            2016,
            2017,
            2018,
            2019,
            2020,
            2021,
            2012,
            2013,
            2014,
            2015,
            2016,
            2017,
            2018,
            2019,
            2020,
            2021,
            2012,
            2013,
            2014,
            2015,
            2016,
            2017,
            2018,
            2019,
            2020,
            2021,
            2012,
            2013,
            2014,
            2015,
            2016,
            2017,
            2018,
            2019,
            2020,
            2021,
            2012,
            2013,
            2014,
            2015,
            2016,
            2017,
            2018,
            2019,
            2020,
            2021,
            2012,
            2013,
            2014,
            2015,
            2016,
            2017,
            2018,
            2019,
            2020,
            2021,
            2012,
            2013,
            2014,
            2015,
            2016,
            2017,
            2018,
            2019,
            2020,
            2021,
            2012,
            2013,
            2014,
            2015,
            2016,
            2017,
            2018,
            2019,
            2020,
            2021
           ],
           "locationmode": "USA-states",
           "locations": [
            "AL",
            "AL",
            "AL",
            "AL",
            "AL",
            "AL",
            "AL",
            "AL",
            "AL",
            "AL",
            "AR",
            "AR",
            "AR",
            "AR",
            "AR",
            "AR",
            "AR",
            "AR",
            "AZ",
            "AZ",
            "AZ",
            "AZ",
            "AZ",
            "AZ",
            "AZ",
            "AZ",
            "AZ",
            "AZ",
            "CA",
            "CA",
            "CA",
            "CA",
            "CA",
            "CA",
            "CA",
            "CA",
            "CA",
            "CA",
            "CO",
            "CO",
            "CO",
            "CO",
            "CO",
            "CO",
            "CO",
            "CO",
            "CO",
            "CO",
            "CT",
            "CT",
            "CT",
            "CT",
            "CT",
            "CT",
            "CT",
            "CT",
            "CT",
            "CT",
            "DE",
            "DE",
            "DE",
            "DE",
            "DE",
            "DE",
            "DE",
            "DE",
            "DE",
            "DE",
            "FL",
            "FL",
            "FL",
            "FL",
            "FL",
            "FL",
            "FL",
            "FL",
            "FL",
            "FL",
            "GA",
            "GA",
            "GA",
            "GA",
            "GA",
            "GA",
            "GA",
            "GA",
            "GA",
            "GA",
            "HI",
            "HI",
            "HI",
            "HI",
            "HI",
            "HI",
            "HI",
            "HI",
            "IA",
            "IA",
            "IA",
            "IA",
            "IA",
            "IA",
            "IA",
            "IA",
            "IA",
            "IA",
            "ID",
            "ID",
            "IL",
            "IL",
            "IL",
            "IL",
            "IL",
            "IL",
            "IL",
            "IL",
            "IL",
            "IL",
            "IN",
            "IN",
            "IN",
            "IN",
            "IN",
            "IN",
            "IN",
            "IN",
            "IN",
            "IN",
            "KS",
            "KS",
            "KS",
            "KS",
            "KS",
            "KS",
            "KS",
            "KS",
            "KS",
            "KS",
            "KY",
            "KY",
            "KY",
            "KY",
            "KY",
            "KY",
            "KY",
            "KY",
            "KY",
            "KY",
            "LA",
            "LA",
            "LA",
            "LA",
            "LA",
            "LA",
            "LA",
            "LA",
            "LA",
            "LA",
            "MA",
            "MA",
            "MA",
            "MA",
            "MA",
            "MA",
            "MA",
            "MA",
            "MA",
            "MA",
            "MD",
            "MD",
            "MD",
            "MD",
            "MD",
            "MD",
            "MD",
            "MD",
            "MD",
            "MD",
            "ME",
            "ME",
            "ME",
            "ME",
            "ME",
            "ME",
            "ME",
            "ME",
            "ME",
            "ME",
            "MI",
            "MI",
            "MI",
            "MI",
            "MI",
            "MI",
            "MI",
            "MI",
            "MI",
            "MI",
            "MN",
            "MN",
            "MN",
            "MN",
            "MN",
            "MN",
            "MN",
            "MN",
            "MN",
            "MN",
            "MO",
            "MO",
            "MO",
            "MO",
            "MO",
            "MO",
            "MO",
            "MO",
            "MO",
            "MO",
            "MS",
            "MS",
            "MS",
            "MS",
            "MS",
            "MS",
            "MS",
            "MS",
            "MS",
            "MS",
            "MT",
            "MT",
            "MT",
            "MT",
            "MT",
            "MT",
            "MT",
            "MT",
            "MT",
            "MT",
            "NC",
            "NC",
            "NC",
            "NC",
            "NC",
            "NC",
            "NC",
            "NC",
            "NC",
            "NC",
            "NE",
            "NE",
            "NE",
            "NE",
            "NE",
            "NE",
            "NE",
            "NE",
            "NE",
            "NE",
            "NH",
            "NH",
            "NH",
            "NH",
            "NH",
            "NH",
            "NH",
            "NH",
            "NH",
            "NH",
            "NJ",
            "NJ",
            "NJ",
            "NJ",
            "NJ",
            "NJ",
            "NJ",
            "NJ",
            "NJ",
            "NJ",
            "NM",
            "NM",
            "NM",
            "NM",
            "NM",
            "NM",
            "NM",
            "NM",
            "NM",
            "NM",
            "NV",
            "NV",
            "NV",
            "NV",
            "NV",
            "NV",
            "NY",
            "NY",
            "NY",
            "NY",
            "NY",
            "NY",
            "NY",
            "NY",
            "NY",
            "NY",
            "OH",
            "OH",
            "OH",
            "OH",
            "OH",
            "OH",
            "OH",
            "OH",
            "OH",
            "OH",
            "OK",
            "OK",
            "OK",
            "OK",
            "OK",
            "OK",
            "OK",
            "OK",
            "OK",
            "OK",
            "OR",
            "OR",
            "OR",
            "OR",
            "OR",
            "OR",
            "OR",
            "OR",
            "OR",
            "OR",
            "PA",
            "PA",
            "PA",
            "PA",
            "PA",
            "PA",
            "PA",
            "PA",
            "PA",
            "PA",
            "RI",
            "RI",
            "RI",
            "RI",
            "RI",
            "RI",
            "RI",
            "RI",
            "RI",
            "RI",
            "SC",
            "SC",
            "SC",
            "SC",
            "SC",
            "SC",
            "SC",
            "SC",
            "SC",
            "SC",
            "SD",
            "SD",
            "SD",
            "SD",
            "SD",
            "SD",
            "SD",
            "SD",
            "SD",
            "TN",
            "TN",
            "TN",
            "TN",
            "TN",
            "TN",
            "TN",
            "TN",
            "TN",
            "TN",
            "TX",
            "TX",
            "TX",
            "TX",
            "TX",
            "TX",
            "TX",
            "TX",
            "TX",
            "TX",
            "UT",
            "UT",
            "UT",
            "UT",
            "UT",
            "UT",
            "UT",
            "UT",
            "UT",
            "UT",
            "VA",
            "VA",
            "VA",
            "VA",
            "VA",
            "VA",
            "VA",
            "VA",
            "VA",
            "VA",
            "VT",
            "VT",
            "VT",
            "VT",
            "VT",
            "VT",
            "VT",
            "VT",
            "VT",
            "VT",
            "WA",
            "WA",
            "WA",
            "WA",
            "WA",
            "WA",
            "WA",
            "WA",
            "WA",
            "WA",
            "WI",
            "WI",
            "WI",
            "WI",
            "WI",
            "WI",
            "WI",
            "WI",
            "WI",
            "WI",
            "WV",
            "WV",
            "WV",
            "WV",
            "WV",
            "WV",
            "WV",
            "WV",
            "WV",
            "WV"
           ],
           "name": "",
           "type": "choropleth",
           "z": [
            4682944,
            4379870,
            3545080,
            5601685,
            5880225,
            6504675,
            6794648,
            7752317,
            8016516,
            5932819,
            2180915,
            1134285,
            1689784,
            716067,
            163380,
            345770,
            929596,
            270540,
            914515,
            672713,
            538440,
            442880,
            651366,
            937107,
            906052,
            968604,
            711074,
            1223670,
            45429084,
            46999581,
            46409500,
            52888470,
            54000567,
            55243128,
            56463845,
            55566768,
            55873894,
            57135556,
            21041536,
            21921433,
            27685115,
            22438104,
            30586844,
            25138956,
            23350922,
            33950005,
            48517471,
            55234811,
            32041728,
            30049226,
            28531616,
            30663132,
            32041790,
            29408742,
            32802712,
            34433632,
            41836746,
            44847246,
            1387672,
            239195,
            1486749,
            1526877,
            1284096,
            1184810,
            3215036,
            2790744,
            3060541,
            4964124,
            8822507,
            6279554,
            7401526,
            6266766,
            5970753,
            6957938,
            7776677,
            8956939,
            10305341,
            13347796,
            22921210,
            23007107,
            31864827,
            32706284,
            36259616,
            34370321,
            38491437,
            40723913,
            46410649,
            46414043,
            13545,
            69286,
            124492,
            175057,
            144409,
            155508,
            164136,
            98598,
            627013,
            545411,
            795819,
            612118,
            514223,
            1254185,
            1128413,
            1276747,
            1043788,
            1115453,
            250425,
            254037,
            8513404,
            7775358,
            8511044,
            8570362,
            9504934,
            9846923,
            9810854,
            9758942,
            9478940,
            8540241,
            5017022,
            2805814,
            3192003,
            2156048,
            2888176,
            4700684,
            4782088,
            4411863,
            3560118,
            3341884,
            1374798,
            1107784,
            909823,
            587099,
            1528328,
            1294640,
            861790,
            1973402,
            2257392,
            2305856,
            9839686,
            7344752,
            10318052,
            11710862,
            9708624,
            13711556,
            10696202,
            11906138,
            19631642,
            15112646,
            765059,
            647504,
            576580,
            527647,
            440518,
            536112,
            806652,
            788482,
            556045,
            705076,
            101871996,
            101423393,
            100266847,
            96516117,
            106512514,
            111657811,
            111034640,
            114498253,
            120828218,
            130275605,
            8799192,
            9629938,
            9461394,
            10148995,
            10283470,
            10876488,
            12620156,
            12741954,
            12154878,
            13136780,
            1173623,
            1854666,
            656524,
            1325489,
            701250,
            1820687,
            1111330,
            328922,
            743886,
            1417636,
            5263748,
            4022183,
            4222734,
            3872559,
            4231478,
            5814583,
            6949581,
            7363252,
            8880011,
            8764718,
            7238076,
            11383397,
            10675886,
            8881824,
            13963088,
            12840271,
            9527997,
            8406511,
            11823361,
            12615047,
            6242036,
            5496204,
            4301275,
            2530926,
            2820894,
            1920184,
            4903125,
            7961594,
            3069517,
            5268335,
            1366001,
            2363799,
            937805,
            971609,
            2031976,
            1521772,
            2926380,
            2284307,
            4453181,
            4647192,
            107860,
            169410,
            112528,
            178386,
            88194,
            185539,
            227174,
            134510,
            69815,
            204275,
            20338304,
            19924536,
            22256462,
            19880100,
            27545367,
            29311370,
            28230196,
            25836601,
            29964777,
            33179847,
            2721714,
            2922573,
            3174992,
            2575234,
            2976096,
            2614226,
            2200372,
            3358776,
            3992550,
            5581417,
            4329963,
            2732678,
            2536094,
            5309183,
            5453558,
            6340224,
            6674107,
            7001654,
            4675646,
            2264728,
            22198264,
            21438990,
            25632112,
            20280435,
            24270402,
            31205916,
            28935480,
            36216765,
            35207931,
            33939360,
            205044,
            323367,
            245363,
            167341,
            333046,
            250654,
            294990,
            339418,
            326933,
            186773,
            90537,
            86889,
            88221,
            152070,
            162882,
            176049,
            39143020,
            34767084,
            37664093,
            35207375,
            38537821,
            36442593,
            38271496,
            41372203,
            42741776,
            46077093,
            37774560,
            31071203,
            30487053,
            36961824,
            41942691,
            48700752,
            45516149,
            45771975,
            44322531,
            46883606,
            26232,
            49214,
            240571,
            237092,
            220855,
            193479,
            123780,
            295338,
            777590,
            657950,
            18592052,
            19884109,
            20819677,
            18452030,
            18306299,
            15835044,
            18729394,
            21237503,
            25209092,
            24730715,
            26572311,
            27154517,
            31180450,
            35848243,
            32537043,
            30807408,
            33432813,
            33483452,
            41049099,
            44384591,
            4197804,
            5580788,
            4996648,
            5297644,
            4931556,
            3031332,
            3534984,
            4792260,
            5485204,
            8193560,
            10701684,
            10686637,
            11367839,
            10102074,
            10478928,
            9126916,
            12987787,
            9654024,
            11024063,
            11165365,
            161796,
            98428,
            277498,
            102738,
            104106,
            148572,
            150048,
            151560,
            153108,
            29770400,
            30265938,
            25680110,
            27086171,
            26918990,
            37260062,
            37997075,
            38924455,
            38402781,
            41374289,
            31437434,
            33354464,
            34973814,
            31832608,
            37180649,
            41877698,
            39649396,
            45662496,
            43734636,
            49020786,
            666973,
            863159,
            771980,
            398333,
            586687,
            1095930,
            1573187,
            1788924,
            2022853,
            2432996,
            11770107,
            10155362,
            10491069,
            12311176,
            15089146,
            15772610,
            17857731,
            17073886,
            15748718,
            17080612,
            802944,
            802944,
            725492,
            2321418,
            2278459,
            1121983,
            1560940,
            4643805,
            4693598,
            5380092,
            3084784,
            2780571,
            2607583,
            2770282,
            4064822,
            4243483,
            4532965,
            3920760,
            4221661,
            5270674,
            32687453,
            33854155,
            39793352,
            40247733,
            45755888,
            39152811,
            36447613,
            41978442,
            40072575,
            45314925,
            442120,
            532050,
            652390,
            549430,
            170350,
            660660,
            1283795,
            927840,
            1457285,
            888455
           ]
          }
         ],
         "name": "Training - Individual"
        },
        {
         "data": [
          {
           "coloraxis": "coloraxis",
           "geo": "geo",
           "hovertemplate": "FUNDING MECHANISM=Other<br>CODE=%{location}<br>FUNDING=%{z}<extra></extra>",
           "ids": [
            2016,
            2017,
            2018,
            2019,
            2020,
            2021,
            2018,
            2019,
            2020,
            2021,
            2012,
            2013,
            2014,
            2015,
            2016,
            2017,
            2018,
            2019,
            2020,
            2021,
            2012,
            2013,
            2014,
            2015,
            2016,
            2017,
            2018,
            2019,
            2020,
            2021,
            2012,
            2013,
            2014,
            2015,
            2016,
            2017,
            2018,
            2019,
            2020,
            2021,
            2016,
            2017,
            2018,
            2019,
            2020,
            2021,
            2016,
            2017,
            2018,
            2019,
            2020,
            2021,
            2021,
            2016,
            2017,
            2018,
            2019,
            2020,
            2021,
            2017,
            2018,
            2019,
            2020,
            2021,
            2016,
            2017,
            2018,
            2019,
            2020,
            2021,
            2017,
            2018,
            2019,
            2020,
            2021,
            2016,
            2017,
            2018,
            2019,
            2012,
            2013,
            2014,
            2015,
            2016,
            2017,
            2018,
            2019,
            2020,
            2021,
            2015,
            2016,
            2017,
            2018,
            2019,
            2020,
            2021,
            2015,
            2016,
            2017,
            2018,
            2019,
            2020,
            2021,
            2016,
            2017,
            2018,
            2019,
            2020,
            2021,
            2019,
            2020,
            2016,
            2017,
            2018,
            2019,
            2020,
            2021,
            2021,
            2020,
            2021,
            2020,
            2021,
            2012,
            2013,
            2014,
            2015,
            2016,
            2017,
            2018,
            2019,
            2020,
            2021,
            2012,
            2013,
            2014,
            2015,
            2016,
            2017,
            2018,
            2019,
            2020,
            2021,
            2012,
            2013,
            2014,
            2015,
            2016,
            2017,
            2018,
            2019,
            2020,
            2021,
            2012,
            2013,
            2014,
            2015,
            2016,
            2017,
            2018,
            2019,
            2020,
            2021,
            2021,
            2018,
            2012,
            2013,
            2014,
            2015,
            2016,
            2017,
            2018,
            2019,
            2020,
            2021,
            2012,
            2013,
            2014,
            2015,
            2016,
            2017,
            2018,
            2019,
            2020,
            2021,
            2012,
            2013,
            2014,
            2015,
            2016,
            2017,
            2018,
            2019,
            2020,
            2021,
            2012,
            2018,
            2019,
            2020,
            2021,
            2012,
            2013,
            2014,
            2015,
            2016,
            2017,
            2018,
            2019,
            2020,
            2021,
            2012,
            2013,
            2014,
            2015,
            2016,
            2017,
            2018,
            2019,
            2020,
            2021
           ],
           "locationmode": "USA-states",
           "locations": [
            "AL",
            "AL",
            "AL",
            "AL",
            "AL",
            "AL",
            "AZ",
            "AZ",
            "AZ",
            "AZ",
            "CA",
            "CA",
            "CA",
            "CA",
            "CA",
            "CA",
            "CA",
            "CA",
            "CA",
            "CA",
            "CO",
            "CO",
            "CO",
            "CO",
            "CO",
            "CO",
            "CO",
            "CO",
            "CO",
            "CO",
            "CT",
            "CT",
            "CT",
            "CT",
            "CT",
            "CT",
            "CT",
            "CT",
            "CT",
            "CT",
            "FL",
            "FL",
            "FL",
            "FL",
            "FL",
            "FL",
            "GA",
            "GA",
            "GA",
            "GA",
            "GA",
            "GA",
            "HI",
            "IA",
            "IA",
            "IA",
            "IA",
            "IA",
            "IA",
            "IL",
            "IL",
            "IL",
            "IL",
            "IL",
            "IN",
            "IN",
            "IN",
            "IN",
            "IN",
            "IN",
            "KY",
            "KY",
            "KY",
            "KY",
            "KY",
            "LA",
            "LA",
            "LA",
            "LA",
            "MA",
            "MA",
            "MA",
            "MA",
            "MA",
            "MA",
            "MA",
            "MA",
            "MA",
            "MA",
            "MD",
            "MD",
            "MD",
            "MD",
            "MD",
            "MD",
            "MD",
            "ME",
            "ME",
            "ME",
            "ME",
            "ME",
            "ME",
            "ME",
            "MI",
            "MI",
            "MI",
            "MI",
            "MI",
            "MI",
            "MN",
            "MN",
            "NC",
            "NC",
            "NC",
            "NC",
            "NC",
            "NC",
            "NE",
            "NH",
            "NH",
            "NM",
            "NM",
            "NY",
            "NY",
            "NY",
            "NY",
            "NY",
            "NY",
            "NY",
            "NY",
            "NY",
            "NY",
            "OH",
            "OH",
            "OH",
            "OH",
            "OH",
            "OH",
            "OH",
            "OH",
            "OH",
            "OH",
            "OR",
            "OR",
            "OR",
            "OR",
            "OR",
            "OR",
            "OR",
            "OR",
            "OR",
            "OR",
            "PA",
            "PA",
            "PA",
            "PA",
            "PA",
            "PA",
            "PA",
            "PA",
            "PA",
            "PA",
            "SC",
            "SD",
            "TN",
            "TN",
            "TN",
            "TN",
            "TN",
            "TN",
            "TN",
            "TN",
            "TN",
            "TN",
            "TX",
            "TX",
            "TX",
            "TX",
            "TX",
            "TX",
            "TX",
            "TX",
            "TX",
            "TX",
            "UT",
            "UT",
            "UT",
            "UT",
            "UT",
            "UT",
            "UT",
            "UT",
            "UT",
            "UT",
            "VA",
            "VA",
            "VA",
            "VA",
            "VA",
            "WA",
            "WA",
            "WA",
            "WA",
            "WA",
            "WA",
            "WA",
            "WA",
            "WA",
            "WA",
            "WI",
            "WI",
            "WI",
            "WI",
            "WI",
            "WI",
            "WI",
            "WI",
            "WI",
            "WI"
           ],
           "name": "",
           "type": "choropleth",
           "z": [
            1574710,
            21678425,
            61438790,
            146583057,
            44828355,
            53447780,
            12000000,
            15999175,
            12000000,
            13020910,
            3932866,
            3382004,
            3742632,
            3537132,
            20995770,
            54249761,
            72447129,
            161895638,
            158119762,
            135718880,
            13056945,
            9211320,
            11468160,
            11996760,
            18454080,
            19488105,
            24920685,
            8727720,
            17714775,
            16264320,
            7777660,
            7406830,
            8071290,
            9112740,
            9535850,
            6280170,
            5222470,
            5129950,
            4956300,
            5328100,
            17677662,
            22873751,
            34096614,
            26433146,
            22923617,
            15067963,
            3375000,
            3543750,
            3375000,
            7037865,
            9787293,
            10363626,
            1994927,
            1296758,
            3021698,
            1878016,
            2044953,
            2279507,
            2918087,
            1032562,
            13796933,
            12481860,
            27329899,
            12054004,
            7661596,
            9013347,
            12512462,
            15440768,
            18085704,
            22458298,
            12395910,
            6484820,
            16226750,
            12975720,
            12000000,
            781440,
            1253557,
            779522,
            289562,
            1873506,
            4499706,
            6459624,
            6894030,
            25703442,
            88669388,
            309563659,
            372902239,
            935328216,
            1046106109,
            1859961,
            8782644,
            53459328,
            20073811,
            32989870,
            96395711,
            267366532,
            499440,
            594445,
            526411,
            640451,
            644855,
            1001573,
            1101573,
            11345010,
            20063348,
            72341440,
            73382277,
            73693138,
            72588940,
            215246,
            600000,
            5279357,
            13850576,
            26624219,
            29304054,
            33195761,
            40018444,
            6033880,
            7512219,
            7326693,
            447013,
            745261,
            1030966,
            813746,
            775478,
            1249257,
            2817882,
            5365445,
            22741757,
            17652864,
            17306974,
            499133502,
            1763640,
            3683085,
            4606455,
            15624323,
            50238236,
            83861502,
            88309931,
            46074622,
            56254028,
            7438466,
            12814186,
            11584221,
            10924056,
            10779395,
            13208448,
            10774016,
            13794308,
            13805786,
            16614135,
            16918400,
            1106636,
            1031822,
            1033371,
            2893006,
            21132344,
            16486288,
            30689862,
            32734263,
            42511970,
            39718519,
            10374000,
            1755456,
            4909599,
            8411211,
            9046467,
            8089749,
            44799741,
            23919255,
            53551755,
            13473180,
            10602243,
            16795026,
            4914992,
            6009912,
            5395048,
            6006752,
            8050322,
            7110784,
            73264328,
            119750897,
            362049750,
            432679067,
            836843,
            868311,
            910385,
            879527,
            2713333,
            2990718,
            3316651,
            4631140,
            4765482,
            5701750,
            83803,
            16653424,
            19535210,
            413665078,
            477557538,
            784130,
            766492,
            779719,
            820016,
            3664225,
            4079801,
            10027255,
            14014548,
            28019743,
            19518509,
            23267097,
            19605012,
            19808691,
            21940905,
            22870827,
            32682222,
            66091473,
            48538503,
            72243464,
            102619077
           ]
          }
         ],
         "name": "Other"
        },
        {
         "data": [
          {
           "coloraxis": "coloraxis",
           "geo": "geo",
           "hovertemplate": "FUNDING MECHANISM=Construction<br>CODE=%{location}<br>FUNDING=%{z}<extra></extra>",
           "ids": [
            2019,
            2013,
            2020,
            2021,
            2021,
            2020,
            2013,
            2020,
            2019,
            2019,
            2021,
            2021,
            2019,
            2020,
            2019,
            2021,
            2021,
            2017,
            2020,
            2021,
            2019,
            2014,
            2020,
            2019,
            2019,
            2020,
            2021,
            2021,
            2020,
            2013,
            2019,
            2020
           ],
           "locationmode": "USA-states",
           "locations": [
            "AZ",
            "CA",
            "CA",
            "CA",
            "CO",
            "FL",
            "GA",
            "GA",
            "HI",
            "IL",
            "IL",
            "KS",
            "KY",
            "KY",
            "LA",
            "LA",
            "MI",
            "NC",
            "NC",
            "NC",
            "NM",
            "NY",
            "NY",
            "OK",
            "OR",
            "OR",
            "TN",
            "TX",
            "VT",
            "WA",
            "WI",
            "WI"
           ],
           "name": "",
           "type": "choropleth",
           "z": [
            5045665,
            8952474,
            14564754,
            11980200,
            6748541,
            7600000,
            9000000,
            18000000,
            6478224,
            3269490,
            6749090,
            13723972,
            108000000,
            80000000,
            1803021,
            38571819,
            6721226,
            24500000,
            7335679,
            73580096,
            4000000,
            60836218,
            8000000,
            8000000,
            48999956,
            22000000,
            24922768,
            27213066,
            93039895,
            999082,
            62989710,
            42000000
           ]
          }
         ],
         "name": "Construction"
        }
       ],
       "layout": {
        "coloraxis": {
         "cmax": 15000000000,
         "cmin": 0,
         "colorbar": {
          "title": {
           "text": "FUNDING"
          }
         },
         "colorscale": [
          [
           0,
           "#0d0887"
          ],
          [
           0.1111111111111111,
           "#46039f"
          ],
          [
           0.2222222222222222,
           "#7201a8"
          ],
          [
           0.3333333333333333,
           "#9c179e"
          ],
          [
           0.4444444444444444,
           "#bd3786"
          ],
          [
           0.5555555555555556,
           "#d8576b"
          ],
          [
           0.6666666666666666,
           "#ed7953"
          ],
          [
           0.7777777777777778,
           "#fb9f3a"
          ],
          [
           0.8888888888888888,
           "#fdca26"
          ],
          [
           1,
           "#f0f921"
          ]
         ]
        },
        "geo": {
         "center": {},
         "domain": {
          "x": [
           0,
           1
          ],
          "y": [
           0,
           1
          ]
         },
         "scope": "usa"
        },
        "height": 500,
        "legend": {
         "tracegroupgap": 0
        },
        "margin": {
         "t": 60
        },
        "sliders": [
         {
          "active": 0,
          "currentvalue": {
           "prefix": "FUNDING MECHANISM="
          },
          "len": 0.9,
          "pad": {
           "b": 10,
           "t": 60
          },
          "steps": [
           {
            "args": [
             [
              "Other Research-Related"
             ],
             {
              "frame": {
               "duration": 0,
               "redraw": true
              },
              "fromcurrent": true,
              "mode": "immediate",
              "transition": {
               "duration": 0,
               "easing": "linear"
              }
             }
            ],
            "label": "Other Research-Related",
            "method": "animate"
           },
           {
            "args": [
             [
              "RPGs - Non SBIR/STTR"
             ],
             {
              "frame": {
               "duration": 0,
               "redraw": true
              },
              "fromcurrent": true,
              "mode": "immediate",
              "transition": {
               "duration": 0,
               "easing": "linear"
              }
             }
            ],
            "label": "RPGs - Non SBIR/STTR",
            "method": "animate"
           },
           {
            "args": [
             [
              "Research Centers"
             ],
             {
              "frame": {
               "duration": 0,
               "redraw": true
              },
              "fromcurrent": true,
              "mode": "immediate",
              "transition": {
               "duration": 0,
               "easing": "linear"
              }
             }
            ],
            "label": "Research Centers",
            "method": "animate"
           },
           {
            "args": [
             [
              "Training - Institutional"
             ],
             {
              "frame": {
               "duration": 0,
               "redraw": true
              },
              "fromcurrent": true,
              "mode": "immediate",
              "transition": {
               "duration": 0,
               "easing": "linear"
              }
             }
            ],
            "label": "Training - Institutional",
            "method": "animate"
           },
           {
            "args": [
             [
              "RPGs - SBIR/STTR"
             ],
             {
              "frame": {
               "duration": 0,
               "redraw": true
              },
              "fromcurrent": true,
              "mode": "immediate",
              "transition": {
               "duration": 0,
               "easing": "linear"
              }
             }
            ],
            "label": "RPGs - SBIR/STTR",
            "method": "animate"
           },
           {
            "args": [
             [
              "Training - Individual"
             ],
             {
              "frame": {
               "duration": 0,
               "redraw": true
              },
              "fromcurrent": true,
              "mode": "immediate",
              "transition": {
               "duration": 0,
               "easing": "linear"
              }
             }
            ],
            "label": "Training - Individual",
            "method": "animate"
           },
           {
            "args": [
             [
              "Other"
             ],
             {
              "frame": {
               "duration": 0,
               "redraw": true
              },
              "fromcurrent": true,
              "mode": "immediate",
              "transition": {
               "duration": 0,
               "easing": "linear"
              }
             }
            ],
            "label": "Other",
            "method": "animate"
           },
           {
            "args": [
             [
              "Construction"
             ],
             {
              "frame": {
               "duration": 0,
               "redraw": true
              },
              "fromcurrent": true,
              "mode": "immediate",
              "transition": {
               "duration": 0,
               "easing": "linear"
              }
             }
            ],
            "label": "Construction",
            "method": "animate"
           }
          ],
          "x": 0.1,
          "xanchor": "left",
          "y": 0,
          "yanchor": "top"
         }
        ],
        "template": {
         "data": {
          "bar": [
           {
            "error_x": {
             "color": "#2a3f5f"
            },
            "error_y": {
             "color": "#2a3f5f"
            },
            "marker": {
             "line": {
              "color": "#E5ECF6",
              "width": 0.5
             },
             "pattern": {
              "fillmode": "overlay",
              "size": 10,
              "solidity": 0.2
             }
            },
            "type": "bar"
           }
          ],
          "barpolar": [
           {
            "marker": {
             "line": {
              "color": "#E5ECF6",
              "width": 0.5
             },
             "pattern": {
              "fillmode": "overlay",
              "size": 10,
              "solidity": 0.2
             }
            },
            "type": "barpolar"
           }
          ],
          "carpet": [
           {
            "aaxis": {
             "endlinecolor": "#2a3f5f",
             "gridcolor": "white",
             "linecolor": "white",
             "minorgridcolor": "white",
             "startlinecolor": "#2a3f5f"
            },
            "baxis": {
             "endlinecolor": "#2a3f5f",
             "gridcolor": "white",
             "linecolor": "white",
             "minorgridcolor": "white",
             "startlinecolor": "#2a3f5f"
            },
            "type": "carpet"
           }
          ],
          "choropleth": [
           {
            "colorbar": {
             "outlinewidth": 0,
             "ticks": ""
            },
            "type": "choropleth"
           }
          ],
          "contour": [
           {
            "colorbar": {
             "outlinewidth": 0,
             "ticks": ""
            },
            "colorscale": [
             [
              0,
              "#0d0887"
             ],
             [
              0.1111111111111111,
              "#46039f"
             ],
             [
              0.2222222222222222,
              "#7201a8"
             ],
             [
              0.3333333333333333,
              "#9c179e"
             ],
             [
              0.4444444444444444,
              "#bd3786"
             ],
             [
              0.5555555555555556,
              "#d8576b"
             ],
             [
              0.6666666666666666,
              "#ed7953"
             ],
             [
              0.7777777777777778,
              "#fb9f3a"
             ],
             [
              0.8888888888888888,
              "#fdca26"
             ],
             [
              1,
              "#f0f921"
             ]
            ],
            "type": "contour"
           }
          ],
          "contourcarpet": [
           {
            "colorbar": {
             "outlinewidth": 0,
             "ticks": ""
            },
            "type": "contourcarpet"
           }
          ],
          "heatmap": [
           {
            "colorbar": {
             "outlinewidth": 0,
             "ticks": ""
            },
            "colorscale": [
             [
              0,
              "#0d0887"
             ],
             [
              0.1111111111111111,
              "#46039f"
             ],
             [
              0.2222222222222222,
              "#7201a8"
             ],
             [
              0.3333333333333333,
              "#9c179e"
             ],
             [
              0.4444444444444444,
              "#bd3786"
             ],
             [
              0.5555555555555556,
              "#d8576b"
             ],
             [
              0.6666666666666666,
              "#ed7953"
             ],
             [
              0.7777777777777778,
              "#fb9f3a"
             ],
             [
              0.8888888888888888,
              "#fdca26"
             ],
             [
              1,
              "#f0f921"
             ]
            ],
            "type": "heatmap"
           }
          ],
          "heatmapgl": [
           {
            "colorbar": {
             "outlinewidth": 0,
             "ticks": ""
            },
            "colorscale": [
             [
              0,
              "#0d0887"
             ],
             [
              0.1111111111111111,
              "#46039f"
             ],
             [
              0.2222222222222222,
              "#7201a8"
             ],
             [
              0.3333333333333333,
              "#9c179e"
             ],
             [
              0.4444444444444444,
              "#bd3786"
             ],
             [
              0.5555555555555556,
              "#d8576b"
             ],
             [
              0.6666666666666666,
              "#ed7953"
             ],
             [
              0.7777777777777778,
              "#fb9f3a"
             ],
             [
              0.8888888888888888,
              "#fdca26"
             ],
             [
              1,
              "#f0f921"
             ]
            ],
            "type": "heatmapgl"
           }
          ],
          "histogram": [
           {
            "marker": {
             "pattern": {
              "fillmode": "overlay",
              "size": 10,
              "solidity": 0.2
             }
            },
            "type": "histogram"
           }
          ],
          "histogram2d": [
           {
            "colorbar": {
             "outlinewidth": 0,
             "ticks": ""
            },
            "colorscale": [
             [
              0,
              "#0d0887"
             ],
             [
              0.1111111111111111,
              "#46039f"
             ],
             [
              0.2222222222222222,
              "#7201a8"
             ],
             [
              0.3333333333333333,
              "#9c179e"
             ],
             [
              0.4444444444444444,
              "#bd3786"
             ],
             [
              0.5555555555555556,
              "#d8576b"
             ],
             [
              0.6666666666666666,
              "#ed7953"
             ],
             [
              0.7777777777777778,
              "#fb9f3a"
             ],
             [
              0.8888888888888888,
              "#fdca26"
             ],
             [
              1,
              "#f0f921"
             ]
            ],
            "type": "histogram2d"
           }
          ],
          "histogram2dcontour": [
           {
            "colorbar": {
             "outlinewidth": 0,
             "ticks": ""
            },
            "colorscale": [
             [
              0,
              "#0d0887"
             ],
             [
              0.1111111111111111,
              "#46039f"
             ],
             [
              0.2222222222222222,
              "#7201a8"
             ],
             [
              0.3333333333333333,
              "#9c179e"
             ],
             [
              0.4444444444444444,
              "#bd3786"
             ],
             [
              0.5555555555555556,
              "#d8576b"
             ],
             [
              0.6666666666666666,
              "#ed7953"
             ],
             [
              0.7777777777777778,
              "#fb9f3a"
             ],
             [
              0.8888888888888888,
              "#fdca26"
             ],
             [
              1,
              "#f0f921"
             ]
            ],
            "type": "histogram2dcontour"
           }
          ],
          "mesh3d": [
           {
            "colorbar": {
             "outlinewidth": 0,
             "ticks": ""
            },
            "type": "mesh3d"
           }
          ],
          "parcoords": [
           {
            "line": {
             "colorbar": {
              "outlinewidth": 0,
              "ticks": ""
             }
            },
            "type": "parcoords"
           }
          ],
          "pie": [
           {
            "automargin": true,
            "type": "pie"
           }
          ],
          "scatter": [
           {
            "fillpattern": {
             "fillmode": "overlay",
             "size": 10,
             "solidity": 0.2
            },
            "type": "scatter"
           }
          ],
          "scatter3d": [
           {
            "line": {
             "colorbar": {
              "outlinewidth": 0,
              "ticks": ""
             }
            },
            "marker": {
             "colorbar": {
              "outlinewidth": 0,
              "ticks": ""
             }
            },
            "type": "scatter3d"
           }
          ],
          "scattercarpet": [
           {
            "marker": {
             "colorbar": {
              "outlinewidth": 0,
              "ticks": ""
             }
            },
            "type": "scattercarpet"
           }
          ],
          "scattergeo": [
           {
            "marker": {
             "colorbar": {
              "outlinewidth": 0,
              "ticks": ""
             }
            },
            "type": "scattergeo"
           }
          ],
          "scattergl": [
           {
            "marker": {
             "colorbar": {
              "outlinewidth": 0,
              "ticks": ""
             }
            },
            "type": "scattergl"
           }
          ],
          "scattermapbox": [
           {
            "marker": {
             "colorbar": {
              "outlinewidth": 0,
              "ticks": ""
             }
            },
            "type": "scattermapbox"
           }
          ],
          "scatterpolar": [
           {
            "marker": {
             "colorbar": {
              "outlinewidth": 0,
              "ticks": ""
             }
            },
            "type": "scatterpolar"
           }
          ],
          "scatterpolargl": [
           {
            "marker": {
             "colorbar": {
              "outlinewidth": 0,
              "ticks": ""
             }
            },
            "type": "scatterpolargl"
           }
          ],
          "scatterternary": [
           {
            "marker": {
             "colorbar": {
              "outlinewidth": 0,
              "ticks": ""
             }
            },
            "type": "scatterternary"
           }
          ],
          "surface": [
           {
            "colorbar": {
             "outlinewidth": 0,
             "ticks": ""
            },
            "colorscale": [
             [
              0,
              "#0d0887"
             ],
             [
              0.1111111111111111,
              "#46039f"
             ],
             [
              0.2222222222222222,
              "#7201a8"
             ],
             [
              0.3333333333333333,
              "#9c179e"
             ],
             [
              0.4444444444444444,
              "#bd3786"
             ],
             [
              0.5555555555555556,
              "#d8576b"
             ],
             [
              0.6666666666666666,
              "#ed7953"
             ],
             [
              0.7777777777777778,
              "#fb9f3a"
             ],
             [
              0.8888888888888888,
              "#fdca26"
             ],
             [
              1,
              "#f0f921"
             ]
            ],
            "type": "surface"
           }
          ],
          "table": [
           {
            "cells": {
             "fill": {
              "color": "#EBF0F8"
             },
             "line": {
              "color": "white"
             }
            },
            "header": {
             "fill": {
              "color": "#C8D4E3"
             },
             "line": {
              "color": "white"
             }
            },
            "type": "table"
           }
          ]
         },
         "layout": {
          "annotationdefaults": {
           "arrowcolor": "#2a3f5f",
           "arrowhead": 0,
           "arrowwidth": 1
          },
          "autotypenumbers": "strict",
          "coloraxis": {
           "colorbar": {
            "outlinewidth": 0,
            "ticks": ""
           }
          },
          "colorscale": {
           "diverging": [
            [
             0,
             "#8e0152"
            ],
            [
             0.1,
             "#c51b7d"
            ],
            [
             0.2,
             "#de77ae"
            ],
            [
             0.3,
             "#f1b6da"
            ],
            [
             0.4,
             "#fde0ef"
            ],
            [
             0.5,
             "#f7f7f7"
            ],
            [
             0.6,
             "#e6f5d0"
            ],
            [
             0.7,
             "#b8e186"
            ],
            [
             0.8,
             "#7fbc41"
            ],
            [
             0.9,
             "#4d9221"
            ],
            [
             1,
             "#276419"
            ]
           ],
           "sequential": [
            [
             0,
             "#0d0887"
            ],
            [
             0.1111111111111111,
             "#46039f"
            ],
            [
             0.2222222222222222,
             "#7201a8"
            ],
            [
             0.3333333333333333,
             "#9c179e"
            ],
            [
             0.4444444444444444,
             "#bd3786"
            ],
            [
             0.5555555555555556,
             "#d8576b"
            ],
            [
             0.6666666666666666,
             "#ed7953"
            ],
            [
             0.7777777777777778,
             "#fb9f3a"
            ],
            [
             0.8888888888888888,
             "#fdca26"
            ],
            [
             1,
             "#f0f921"
            ]
           ],
           "sequentialminus": [
            [
             0,
             "#0d0887"
            ],
            [
             0.1111111111111111,
             "#46039f"
            ],
            [
             0.2222222222222222,
             "#7201a8"
            ],
            [
             0.3333333333333333,
             "#9c179e"
            ],
            [
             0.4444444444444444,
             "#bd3786"
            ],
            [
             0.5555555555555556,
             "#d8576b"
            ],
            [
             0.6666666666666666,
             "#ed7953"
            ],
            [
             0.7777777777777778,
             "#fb9f3a"
            ],
            [
             0.8888888888888888,
             "#fdca26"
            ],
            [
             1,
             "#f0f921"
            ]
           ]
          },
          "colorway": [
           "#636efa",
           "#EF553B",
           "#00cc96",
           "#ab63fa",
           "#FFA15A",
           "#19d3f3",
           "#FF6692",
           "#B6E880",
           "#FF97FF",
           "#FECB52"
          ],
          "font": {
           "color": "#2a3f5f"
          },
          "geo": {
           "bgcolor": "white",
           "lakecolor": "white",
           "landcolor": "#E5ECF6",
           "showlakes": true,
           "showland": true,
           "subunitcolor": "white"
          },
          "hoverlabel": {
           "align": "left"
          },
          "hovermode": "closest",
          "mapbox": {
           "style": "light"
          },
          "paper_bgcolor": "white",
          "plot_bgcolor": "#E5ECF6",
          "polar": {
           "angularaxis": {
            "gridcolor": "white",
            "linecolor": "white",
            "ticks": ""
           },
           "bgcolor": "#E5ECF6",
           "radialaxis": {
            "gridcolor": "white",
            "linecolor": "white",
            "ticks": ""
           }
          },
          "scene": {
           "xaxis": {
            "backgroundcolor": "#E5ECF6",
            "gridcolor": "white",
            "gridwidth": 2,
            "linecolor": "white",
            "showbackground": true,
            "ticks": "",
            "zerolinecolor": "white"
           },
           "yaxis": {
            "backgroundcolor": "#E5ECF6",
            "gridcolor": "white",
            "gridwidth": 2,
            "linecolor": "white",
            "showbackground": true,
            "ticks": "",
            "zerolinecolor": "white"
           },
           "zaxis": {
            "backgroundcolor": "#E5ECF6",
            "gridcolor": "white",
            "gridwidth": 2,
            "linecolor": "white",
            "showbackground": true,
            "ticks": "",
            "zerolinecolor": "white"
           }
          },
          "shapedefaults": {
           "line": {
            "color": "#2a3f5f"
           }
          },
          "ternary": {
           "aaxis": {
            "gridcolor": "white",
            "linecolor": "white",
            "ticks": ""
           },
           "baxis": {
            "gridcolor": "white",
            "linecolor": "white",
            "ticks": ""
           },
           "bgcolor": "#E5ECF6",
           "caxis": {
            "gridcolor": "white",
            "linecolor": "white",
            "ticks": ""
           }
          },
          "title": {
           "x": 0.05
          },
          "xaxis": {
           "automargin": true,
           "gridcolor": "white",
           "linecolor": "white",
           "ticks": "",
           "title": {
            "standoff": 15
           },
           "zerolinecolor": "white",
           "zerolinewidth": 2
          },
          "yaxis": {
           "automargin": true,
           "gridcolor": "white",
           "linecolor": "white",
           "ticks": "",
           "title": {
            "standoff": 15
           },
           "zerolinecolor": "white",
           "zerolinewidth": 2
          }
         }
        },
        "updatemenus": [
         {
          "buttons": [
           {
            "args": [
             null,
             {
              "frame": {
               "duration": 500,
               "redraw": true
              },
              "fromcurrent": true,
              "mode": "immediate",
              "transition": {
               "duration": 500,
               "easing": "linear"
              }
             }
            ],
            "label": "&#9654;",
            "method": "animate"
           },
           {
            "args": [
             [
              null
             ],
             {
              "frame": {
               "duration": 0,
               "redraw": true
              },
              "fromcurrent": true,
              "mode": "immediate",
              "transition": {
               "duration": 0,
               "easing": "linear"
              }
             }
            ],
            "label": "&#9724;",
            "method": "animate"
           }
          ],
          "direction": "left",
          "pad": {
           "r": 10,
           "t": 70
          },
          "showactive": false,
          "type": "buttons",
          "x": 0.1,
          "xanchor": "right",
          "y": 0,
          "yanchor": "top"
         }
        ],
        "width": 800
       }
      }
     },
     "metadata": {},
     "output_type": "display_data"
    }
   ],
   "source": [
    "fig = px.choropleth(fs,locations=\"CODE\", locationmode=\"USA-states\", color=\"FUNDING\", scope=\"usa\",animation_group=\"YEAR\", animation_frame=\"FUNDING MECHANISM\",range_color=(0, 1.5*10e9),width=800,height=500)\n",
    "fig.show()\n",
    "\n"
   ]
  },
  {
   "attachments": {},
   "cell_type": "markdown",
   "metadata": {},
   "source": [
    "generate images for each step in animation\n",
    "frames = []\n",
    "for s, fr in enumerate(fig.frames):\n",
    "    # set main traces to appropriate traces within plotly frame\n",
    "    fig.update(data=fr.data)\n",
    "    # move slider to correct place\n",
    "    fig.layout.sliders[0].update(active=s)\n",
    "    # generate image of current state\n",
    "    frames.append(PIL.Image.open(io.BytesIO(fig.to_image(format=\"png\",engine='kaleido'))))\n",
    "    \n",
    "create animated GIF\n",
    "frames[0].save(\n",
    "        \"test.gif\",\n",
    "        save_all=True,\n",
    "        append_images=frames[1:],\n",
    "        optimize=True,\n",
    "        duration=500,\n",
    "        loop=0,\n",
    "    )"
   ]
  },
  {
   "cell_type": "code",
   "execution_count": 166,
   "metadata": {},
   "outputs": [],
   "source": [
    "rcdc = pd.read_excel(\"RCDCFundingSummary_03072023.xlsx\",)\n",
    "rcdc.columns = rcdc.loc[1,:]\n",
    "rcdc = rcdc.loc[2:310,:]\n"
   ]
  },
  {
   "cell_type": "code",
   "execution_count": 308,
   "metadata": {},
   "outputs": [],
   "source": [
    "selected = rcdc[rcdc['2019 US Mortality 19']!='-']\n",
    "selected = selected.applymap(lambda x:str(x).replace('+','-1'))\n",
    "selected = selected.applymap(lambda x:str(x).replace('$',''))\n",
    "\n",
    "selected[2009]=selected[2009].astype(float) + selected['2009 ARRA'].astype(float)\n",
    "selected[2010]=selected[2010].astype(float) + selected['2010 ARRA'].astype(float)\n",
    "selected.drop(['2009 ARRA','2010 ARRA'],axis=1,inplace=True)\n"
   ]
  },
  {
   "cell_type": "code",
   "execution_count": 309,
   "metadata": {},
   "outputs": [
    {
     "data": {
      "text/html": [
       "<div>\n",
       "<style scoped>\n",
       "    .dataframe tbody tr th:only-of-type {\n",
       "        vertical-align: middle;\n",
       "    }\n",
       "\n",
       "    .dataframe tbody tr th {\n",
       "        vertical-align: top;\n",
       "    }\n",
       "\n",
       "    .dataframe thead th {\n",
       "        text-align: right;\n",
       "    }\n",
       "</style>\n",
       "<table border=\"1\" class=\"dataframe\">\n",
       "  <thead>\n",
       "    <tr style=\"text-align: right;\">\n",
       "      <th>1</th>\n",
       "      <th>Research/Disease Areas \\n (Dollars in millions and rounded)</th>\n",
       "      <th>2008</th>\n",
       "      <th>2009</th>\n",
       "      <th>2010</th>\n",
       "      <th>2011</th>\n",
       "      <th>2012</th>\n",
       "      <th>2013</th>\n",
       "      <th>2014</th>\n",
       "      <th>2015</th>\n",
       "      <th>2016</th>\n",
       "      <th>...</th>\n",
       "      <th>2020</th>\n",
       "      <th>2021</th>\n",
       "      <th>2022 Estimated</th>\n",
       "      <th>2023 Estimated</th>\n",
       "      <th>2019 US Mortality 19</th>\n",
       "      <th>2019 US Prevalence SE 19</th>\n",
       "      <th>exist</th>\n",
       "      <th>avg</th>\n",
       "      <th>estimate</th>\n",
       "      <th>pct2023</th>\n",
       "    </tr>\n",
       "  </thead>\n",
       "  <tbody>\n",
       "    <tr>\n",
       "      <th>277</th>\n",
       "      <td>Temporomandibular Muscle/Joint Disorder (TMJD)</td>\n",
       "      <td>19</td>\n",
       "      <td>16.0</td>\n",
       "      <td>17.0</td>\n",
       "      <td>18</td>\n",
       "      <td>21</td>\n",
       "      <td>19</td>\n",
       "      <td>18</td>\n",
       "      <td>16</td>\n",
       "      <td>15</td>\n",
       "      <td>...</td>\n",
       "      <td>17</td>\n",
       "      <td>14</td>\n",
       "      <td>14</td>\n",
       "      <td>14</td>\n",
       "      <td>1.0</td>\n",
       "      <td>-</td>\n",
       "      <td>15</td>\n",
       "      <td>16.3750</td>\n",
       "      <td>0.0</td>\n",
       "      <td>0.000000</td>\n",
       "    </tr>\n",
       "    <tr>\n",
       "      <th>158</th>\n",
       "      <td>Lead Poisoning</td>\n",
       "      <td>9</td>\n",
       "      <td>14.0</td>\n",
       "      <td>12.0</td>\n",
       "      <td>10</td>\n",
       "      <td>8</td>\n",
       "      <td>8</td>\n",
       "      <td>7</td>\n",
       "      <td>7</td>\n",
       "      <td>9</td>\n",
       "      <td>...</td>\n",
       "      <td>11</td>\n",
       "      <td>9</td>\n",
       "      <td>9</td>\n",
       "      <td>10</td>\n",
       "      <td>2.0</td>\n",
       "      <td>-</td>\n",
       "      <td>15</td>\n",
       "      <td>9.6250</td>\n",
       "      <td>1.0</td>\n",
       "      <td>11.111111</td>\n",
       "    </tr>\n",
       "    <tr>\n",
       "      <th>244</th>\n",
       "      <td>Scleroderma</td>\n",
       "      <td>20</td>\n",
       "      <td>23.0</td>\n",
       "      <td>21.0</td>\n",
       "      <td>25</td>\n",
       "      <td>24</td>\n",
       "      <td>21</td>\n",
       "      <td>24</td>\n",
       "      <td>22</td>\n",
       "      <td>18</td>\n",
       "      <td>...</td>\n",
       "      <td>24</td>\n",
       "      <td>21</td>\n",
       "      <td>22</td>\n",
       "      <td>22</td>\n",
       "      <td>8.0</td>\n",
       "      <td>-</td>\n",
       "      <td>15</td>\n",
       "      <td>21.9375</td>\n",
       "      <td>0.0</td>\n",
       "      <td>0.000000</td>\n",
       "    </tr>\n",
       "    <tr>\n",
       "      <th>172</th>\n",
       "      <td>Malaria</td>\n",
       "      <td>132</td>\n",
       "      <td>121.0</td>\n",
       "      <td>148.0</td>\n",
       "      <td>145</td>\n",
       "      <td>152</td>\n",
       "      <td>147</td>\n",
       "      <td>169</td>\n",
       "      <td>163</td>\n",
       "      <td>183</td>\n",
       "      <td>...</td>\n",
       "      <td>211</td>\n",
       "      <td>229</td>\n",
       "      <td>239</td>\n",
       "      <td>236</td>\n",
       "      <td>9.0</td>\n",
       "      <td>-</td>\n",
       "      <td>15</td>\n",
       "      <td>179.0625</td>\n",
       "      <td>-3.0</td>\n",
       "      <td>-1.255230</td>\n",
       "    </tr>\n",
       "    <tr>\n",
       "      <th>23</th>\n",
       "      <td>Ataxia Telangiectasia</td>\n",
       "      <td>13</td>\n",
       "      <td>15.0</td>\n",
       "      <td>13.0</td>\n",
       "      <td>13</td>\n",
       "      <td>11</td>\n",
       "      <td>11</td>\n",
       "      <td>8</td>\n",
       "      <td>7</td>\n",
       "      <td>7</td>\n",
       "      <td>...</td>\n",
       "      <td>10</td>\n",
       "      <td>10</td>\n",
       "      <td>10</td>\n",
       "      <td>10</td>\n",
       "      <td>14.0</td>\n",
       "      <td>-</td>\n",
       "      <td>15</td>\n",
       "      <td>10.3750</td>\n",
       "      <td>0.0</td>\n",
       "      <td>0.000000</td>\n",
       "    </tr>\n",
       "  </tbody>\n",
       "</table>\n",
       "<p>5 rows × 23 columns</p>\n",
       "</div>"
      ],
      "text/plain": [
       "1   Research/Disease Areas \\n (Dollars in millions and rounded) 2008   2009  \\\n",
       "277    Temporomandibular Muscle/Joint Disorder (TMJD)             19   16.0   \n",
       "158                                    Lead Poisoning              9   14.0   \n",
       "244                                       Scleroderma             20   23.0   \n",
       "172                                           Malaria            132  121.0   \n",
       "23                              Ataxia Telangiectasia             13   15.0   \n",
       "\n",
       "1     2010 2011 2012 2013 2014 2015 2016  ... 2020 2021 2022 Estimated  \\\n",
       "277   17.0   18   21   19   18   16   15  ...   17   14             14   \n",
       "158   12.0   10    8    8    7    7    9  ...   11    9              9   \n",
       "244   21.0   25   24   21   24   22   18  ...   24   21             22   \n",
       "172  148.0  145  152  147  169  163  183  ...  211  229            239   \n",
       "23    13.0   13   11   11    8    7    7  ...   10   10             10   \n",
       "\n",
       "1   2023 Estimated 2019 US Mortality 19 2019 US Prevalence SE 19 exist  \\\n",
       "277             14                  1.0                        -    15   \n",
       "158             10                  2.0                        -    15   \n",
       "244             22                  8.0                        -    15   \n",
       "172            236                  9.0                        -    15   \n",
       "23              10                 14.0                        -    15   \n",
       "\n",
       "1         avg estimate    pct2023  \n",
       "277   16.3750      0.0   0.000000  \n",
       "158    9.6250      1.0  11.111111  \n",
       "244   21.9375      0.0   0.000000  \n",
       "172  179.0625     -3.0  -1.255230  \n",
       "23    10.3750      0.0   0.000000  \n",
       "\n",
       "[5 rows x 23 columns]"
      ]
     },
     "execution_count": 309,
     "metadata": {},
     "output_type": "execute_result"
    }
   ],
   "source": [
    "selected['exist'] = selected.apply((lambda row: sum([1 if (row[x] != '-1') else 0 for x in list(selected.columns)[1:-3]])),axis = 1)\n",
    "selected['avg'] = selected.apply((lambda row: np.mean([int(row[x]) if (row[x] != '-1') else 0 for x in list(selected.columns)[1:-3]])),axis = 1)\n",
    "selected['estimate'] = selected['2023 Estimated'].astype(float) - selected['2022 Estimated'].astype(float) \n",
    "selected['2019 US Mortality 19'] = selected['2019 US Mortality 19'].astype('float')\n",
    "selected[\"pct2023\"] = selected.loc[:,['2022 Estimated','2023 Estimated']].astype(float).pct_change(axis=1)['2023 Estimated'].multiply(100)\n",
    "selected =selected.sort_values('2019 US Mortality 19')\n",
    "selected.head()\n",
    "#rate of change with linear regression"
   ]
  },
  {
   "cell_type": "code",
   "execution_count": 293,
   "metadata": {},
   "outputs": [
    {
     "data": {
      "application/vnd.plotly.v1+json": {
       "config": {
        "plotlyServerURL": "https://plot.ly"
       },
       "data": [
        {
         "alignmentgroup": "True",
         "bingroup": "x",
         "hovertemplate": "variable=2019 US Mortality 19<br>value=%{x}<br>count=%{y}<extra></extra>",
         "legendgroup": "2019 US Mortality 19",
         "marker": {
          "color": "#636efa",
          "pattern": {
           "shape": ""
          }
         },
         "name": "2019 US Mortality 19",
         "nbinsx": 500,
         "offsetgroup": "2019 US Mortality 19",
         "orientation": "v",
         "showlegend": true,
         "type": "histogram",
         "x": [
          1,
          2,
          8,
          9,
          14,
          16,
          19,
          20,
          38,
          39,
          40,
          59,
          73,
          85,
          85,
          85,
          90,
          91,
          96,
          98,
          100,
          117,
          124,
          131,
          217,
          225,
          241,
          360,
          362,
          366,
          408,
          451,
          572,
          592,
          658,
          718,
          791,
          801,
          975,
          982,
          1181,
          1208,
          1277,
          1367,
          1410,
          1446,
          1672,
          1820,
          1993,
          2000,
          2182,
          2249,
          2300,
          2477,
          3554,
          3646,
          3822,
          4624,
          4687,
          4854,
          6497,
          6626,
          7114,
          7150,
          7252,
          7611,
          7711,
          9211,
          10313,
          10482,
          10753,
          12030,
          13036,
          13712,
          14242,
          14620,
          17786,
          17862,
          18054,
          27075,
          28625,
          30898,
          44395,
          47466,
          47612,
          48250,
          52359,
          52938,
          61368,
          68126,
          76761,
          87566,
          140661,
          146659,
          148272,
          150790,
          154284,
          201142,
          214334,
          256352,
          283378,
          312688,
          516955,
          542903,
          690509,
          1574518,
          1592187
         ],
         "xaxis": "x",
         "yaxis": "y"
        }
       ],
       "layout": {
        "barmode": "relative",
        "legend": {
         "title": {
          "text": "variable"
         },
         "tracegroupgap": 0
        },
        "margin": {
         "t": 60
        },
        "template": {
         "data": {
          "bar": [
           {
            "error_x": {
             "color": "#2a3f5f"
            },
            "error_y": {
             "color": "#2a3f5f"
            },
            "marker": {
             "line": {
              "color": "#E5ECF6",
              "width": 0.5
             },
             "pattern": {
              "fillmode": "overlay",
              "size": 10,
              "solidity": 0.2
             }
            },
            "type": "bar"
           }
          ],
          "barpolar": [
           {
            "marker": {
             "line": {
              "color": "#E5ECF6",
              "width": 0.5
             },
             "pattern": {
              "fillmode": "overlay",
              "size": 10,
              "solidity": 0.2
             }
            },
            "type": "barpolar"
           }
          ],
          "carpet": [
           {
            "aaxis": {
             "endlinecolor": "#2a3f5f",
             "gridcolor": "white",
             "linecolor": "white",
             "minorgridcolor": "white",
             "startlinecolor": "#2a3f5f"
            },
            "baxis": {
             "endlinecolor": "#2a3f5f",
             "gridcolor": "white",
             "linecolor": "white",
             "minorgridcolor": "white",
             "startlinecolor": "#2a3f5f"
            },
            "type": "carpet"
           }
          ],
          "choropleth": [
           {
            "colorbar": {
             "outlinewidth": 0,
             "ticks": ""
            },
            "type": "choropleth"
           }
          ],
          "contour": [
           {
            "colorbar": {
             "outlinewidth": 0,
             "ticks": ""
            },
            "colorscale": [
             [
              0,
              "#0d0887"
             ],
             [
              0.1111111111111111,
              "#46039f"
             ],
             [
              0.2222222222222222,
              "#7201a8"
             ],
             [
              0.3333333333333333,
              "#9c179e"
             ],
             [
              0.4444444444444444,
              "#bd3786"
             ],
             [
              0.5555555555555556,
              "#d8576b"
             ],
             [
              0.6666666666666666,
              "#ed7953"
             ],
             [
              0.7777777777777778,
              "#fb9f3a"
             ],
             [
              0.8888888888888888,
              "#fdca26"
             ],
             [
              1,
              "#f0f921"
             ]
            ],
            "type": "contour"
           }
          ],
          "contourcarpet": [
           {
            "colorbar": {
             "outlinewidth": 0,
             "ticks": ""
            },
            "type": "contourcarpet"
           }
          ],
          "heatmap": [
           {
            "colorbar": {
             "outlinewidth": 0,
             "ticks": ""
            },
            "colorscale": [
             [
              0,
              "#0d0887"
             ],
             [
              0.1111111111111111,
              "#46039f"
             ],
             [
              0.2222222222222222,
              "#7201a8"
             ],
             [
              0.3333333333333333,
              "#9c179e"
             ],
             [
              0.4444444444444444,
              "#bd3786"
             ],
             [
              0.5555555555555556,
              "#d8576b"
             ],
             [
              0.6666666666666666,
              "#ed7953"
             ],
             [
              0.7777777777777778,
              "#fb9f3a"
             ],
             [
              0.8888888888888888,
              "#fdca26"
             ],
             [
              1,
              "#f0f921"
             ]
            ],
            "type": "heatmap"
           }
          ],
          "heatmapgl": [
           {
            "colorbar": {
             "outlinewidth": 0,
             "ticks": ""
            },
            "colorscale": [
             [
              0,
              "#0d0887"
             ],
             [
              0.1111111111111111,
              "#46039f"
             ],
             [
              0.2222222222222222,
              "#7201a8"
             ],
             [
              0.3333333333333333,
              "#9c179e"
             ],
             [
              0.4444444444444444,
              "#bd3786"
             ],
             [
              0.5555555555555556,
              "#d8576b"
             ],
             [
              0.6666666666666666,
              "#ed7953"
             ],
             [
              0.7777777777777778,
              "#fb9f3a"
             ],
             [
              0.8888888888888888,
              "#fdca26"
             ],
             [
              1,
              "#f0f921"
             ]
            ],
            "type": "heatmapgl"
           }
          ],
          "histogram": [
           {
            "marker": {
             "pattern": {
              "fillmode": "overlay",
              "size": 10,
              "solidity": 0.2
             }
            },
            "type": "histogram"
           }
          ],
          "histogram2d": [
           {
            "colorbar": {
             "outlinewidth": 0,
             "ticks": ""
            },
            "colorscale": [
             [
              0,
              "#0d0887"
             ],
             [
              0.1111111111111111,
              "#46039f"
             ],
             [
              0.2222222222222222,
              "#7201a8"
             ],
             [
              0.3333333333333333,
              "#9c179e"
             ],
             [
              0.4444444444444444,
              "#bd3786"
             ],
             [
              0.5555555555555556,
              "#d8576b"
             ],
             [
              0.6666666666666666,
              "#ed7953"
             ],
             [
              0.7777777777777778,
              "#fb9f3a"
             ],
             [
              0.8888888888888888,
              "#fdca26"
             ],
             [
              1,
              "#f0f921"
             ]
            ],
            "type": "histogram2d"
           }
          ],
          "histogram2dcontour": [
           {
            "colorbar": {
             "outlinewidth": 0,
             "ticks": ""
            },
            "colorscale": [
             [
              0,
              "#0d0887"
             ],
             [
              0.1111111111111111,
              "#46039f"
             ],
             [
              0.2222222222222222,
              "#7201a8"
             ],
             [
              0.3333333333333333,
              "#9c179e"
             ],
             [
              0.4444444444444444,
              "#bd3786"
             ],
             [
              0.5555555555555556,
              "#d8576b"
             ],
             [
              0.6666666666666666,
              "#ed7953"
             ],
             [
              0.7777777777777778,
              "#fb9f3a"
             ],
             [
              0.8888888888888888,
              "#fdca26"
             ],
             [
              1,
              "#f0f921"
             ]
            ],
            "type": "histogram2dcontour"
           }
          ],
          "mesh3d": [
           {
            "colorbar": {
             "outlinewidth": 0,
             "ticks": ""
            },
            "type": "mesh3d"
           }
          ],
          "parcoords": [
           {
            "line": {
             "colorbar": {
              "outlinewidth": 0,
              "ticks": ""
             }
            },
            "type": "parcoords"
           }
          ],
          "pie": [
           {
            "automargin": true,
            "type": "pie"
           }
          ],
          "scatter": [
           {
            "fillpattern": {
             "fillmode": "overlay",
             "size": 10,
             "solidity": 0.2
            },
            "type": "scatter"
           }
          ],
          "scatter3d": [
           {
            "line": {
             "colorbar": {
              "outlinewidth": 0,
              "ticks": ""
             }
            },
            "marker": {
             "colorbar": {
              "outlinewidth": 0,
              "ticks": ""
             }
            },
            "type": "scatter3d"
           }
          ],
          "scattercarpet": [
           {
            "marker": {
             "colorbar": {
              "outlinewidth": 0,
              "ticks": ""
             }
            },
            "type": "scattercarpet"
           }
          ],
          "scattergeo": [
           {
            "marker": {
             "colorbar": {
              "outlinewidth": 0,
              "ticks": ""
             }
            },
            "type": "scattergeo"
           }
          ],
          "scattergl": [
           {
            "marker": {
             "colorbar": {
              "outlinewidth": 0,
              "ticks": ""
             }
            },
            "type": "scattergl"
           }
          ],
          "scattermapbox": [
           {
            "marker": {
             "colorbar": {
              "outlinewidth": 0,
              "ticks": ""
             }
            },
            "type": "scattermapbox"
           }
          ],
          "scatterpolar": [
           {
            "marker": {
             "colorbar": {
              "outlinewidth": 0,
              "ticks": ""
             }
            },
            "type": "scatterpolar"
           }
          ],
          "scatterpolargl": [
           {
            "marker": {
             "colorbar": {
              "outlinewidth": 0,
              "ticks": ""
             }
            },
            "type": "scatterpolargl"
           }
          ],
          "scatterternary": [
           {
            "marker": {
             "colorbar": {
              "outlinewidth": 0,
              "ticks": ""
             }
            },
            "type": "scatterternary"
           }
          ],
          "surface": [
           {
            "colorbar": {
             "outlinewidth": 0,
             "ticks": ""
            },
            "colorscale": [
             [
              0,
              "#0d0887"
             ],
             [
              0.1111111111111111,
              "#46039f"
             ],
             [
              0.2222222222222222,
              "#7201a8"
             ],
             [
              0.3333333333333333,
              "#9c179e"
             ],
             [
              0.4444444444444444,
              "#bd3786"
             ],
             [
              0.5555555555555556,
              "#d8576b"
             ],
             [
              0.6666666666666666,
              "#ed7953"
             ],
             [
              0.7777777777777778,
              "#fb9f3a"
             ],
             [
              0.8888888888888888,
              "#fdca26"
             ],
             [
              1,
              "#f0f921"
             ]
            ],
            "type": "surface"
           }
          ],
          "table": [
           {
            "cells": {
             "fill": {
              "color": "#EBF0F8"
             },
             "line": {
              "color": "white"
             }
            },
            "header": {
             "fill": {
              "color": "#C8D4E3"
             },
             "line": {
              "color": "white"
             }
            },
            "type": "table"
           }
          ]
         },
         "layout": {
          "annotationdefaults": {
           "arrowcolor": "#2a3f5f",
           "arrowhead": 0,
           "arrowwidth": 1
          },
          "autotypenumbers": "strict",
          "coloraxis": {
           "colorbar": {
            "outlinewidth": 0,
            "ticks": ""
           }
          },
          "colorscale": {
           "diverging": [
            [
             0,
             "#8e0152"
            ],
            [
             0.1,
             "#c51b7d"
            ],
            [
             0.2,
             "#de77ae"
            ],
            [
             0.3,
             "#f1b6da"
            ],
            [
             0.4,
             "#fde0ef"
            ],
            [
             0.5,
             "#f7f7f7"
            ],
            [
             0.6,
             "#e6f5d0"
            ],
            [
             0.7,
             "#b8e186"
            ],
            [
             0.8,
             "#7fbc41"
            ],
            [
             0.9,
             "#4d9221"
            ],
            [
             1,
             "#276419"
            ]
           ],
           "sequential": [
            [
             0,
             "#0d0887"
            ],
            [
             0.1111111111111111,
             "#46039f"
            ],
            [
             0.2222222222222222,
             "#7201a8"
            ],
            [
             0.3333333333333333,
             "#9c179e"
            ],
            [
             0.4444444444444444,
             "#bd3786"
            ],
            [
             0.5555555555555556,
             "#d8576b"
            ],
            [
             0.6666666666666666,
             "#ed7953"
            ],
            [
             0.7777777777777778,
             "#fb9f3a"
            ],
            [
             0.8888888888888888,
             "#fdca26"
            ],
            [
             1,
             "#f0f921"
            ]
           ],
           "sequentialminus": [
            [
             0,
             "#0d0887"
            ],
            [
             0.1111111111111111,
             "#46039f"
            ],
            [
             0.2222222222222222,
             "#7201a8"
            ],
            [
             0.3333333333333333,
             "#9c179e"
            ],
            [
             0.4444444444444444,
             "#bd3786"
            ],
            [
             0.5555555555555556,
             "#d8576b"
            ],
            [
             0.6666666666666666,
             "#ed7953"
            ],
            [
             0.7777777777777778,
             "#fb9f3a"
            ],
            [
             0.8888888888888888,
             "#fdca26"
            ],
            [
             1,
             "#f0f921"
            ]
           ]
          },
          "colorway": [
           "#636efa",
           "#EF553B",
           "#00cc96",
           "#ab63fa",
           "#FFA15A",
           "#19d3f3",
           "#FF6692",
           "#B6E880",
           "#FF97FF",
           "#FECB52"
          ],
          "font": {
           "color": "#2a3f5f"
          },
          "geo": {
           "bgcolor": "white",
           "lakecolor": "white",
           "landcolor": "#E5ECF6",
           "showlakes": true,
           "showland": true,
           "subunitcolor": "white"
          },
          "hoverlabel": {
           "align": "left"
          },
          "hovermode": "closest",
          "mapbox": {
           "style": "light"
          },
          "paper_bgcolor": "white",
          "plot_bgcolor": "#E5ECF6",
          "polar": {
           "angularaxis": {
            "gridcolor": "white",
            "linecolor": "white",
            "ticks": ""
           },
           "bgcolor": "#E5ECF6",
           "radialaxis": {
            "gridcolor": "white",
            "linecolor": "white",
            "ticks": ""
           }
          },
          "scene": {
           "xaxis": {
            "backgroundcolor": "#E5ECF6",
            "gridcolor": "white",
            "gridwidth": 2,
            "linecolor": "white",
            "showbackground": true,
            "ticks": "",
            "zerolinecolor": "white"
           },
           "yaxis": {
            "backgroundcolor": "#E5ECF6",
            "gridcolor": "white",
            "gridwidth": 2,
            "linecolor": "white",
            "showbackground": true,
            "ticks": "",
            "zerolinecolor": "white"
           },
           "zaxis": {
            "backgroundcolor": "#E5ECF6",
            "gridcolor": "white",
            "gridwidth": 2,
            "linecolor": "white",
            "showbackground": true,
            "ticks": "",
            "zerolinecolor": "white"
           }
          },
          "shapedefaults": {
           "line": {
            "color": "#2a3f5f"
           }
          },
          "ternary": {
           "aaxis": {
            "gridcolor": "white",
            "linecolor": "white",
            "ticks": ""
           },
           "baxis": {
            "gridcolor": "white",
            "linecolor": "white",
            "ticks": ""
           },
           "bgcolor": "#E5ECF6",
           "caxis": {
            "gridcolor": "white",
            "linecolor": "white",
            "ticks": ""
           }
          },
          "title": {
           "x": 0.05
          },
          "xaxis": {
           "automargin": true,
           "gridcolor": "white",
           "linecolor": "white",
           "ticks": "",
           "title": {
            "standoff": 15
           },
           "zerolinecolor": "white",
           "zerolinewidth": 2
          },
          "yaxis": {
           "automargin": true,
           "gridcolor": "white",
           "linecolor": "white",
           "ticks": "",
           "title": {
            "standoff": 15
           },
           "zerolinecolor": "white",
           "zerolinewidth": 2
          }
         }
        },
        "xaxis": {
         "anchor": "y",
         "domain": [
          0,
          1
         ],
         "title": {
          "text": "value"
         }
        },
        "yaxis": {
         "anchor": "x",
         "domain": [
          0,
          1
         ],
         "title": {
          "text": "count"
         }
        }
       }
      }
     },
     "metadata": {},
     "output_type": "display_data"
    }
   ],
   "source": [
    "px.histogram(selected['2019 US Mortality 19'],nbins=500)"
   ]
  },
  {
   "cell_type": "code",
   "execution_count": 338,
   "metadata": {},
   "outputs": [],
   "source": [
    "\n",
    "mort_bins = pd.IntervalIndex.from_tuples([(0, 50*10e2),(50*10e2, 99*10e2), (99*10e2, 100*10e2),\n",
    "                                        (100*10e2, 150*10e2),\n",
    "                                        (150*10e2, 200*10e2),\n",
    "                                        (200*10e2, 250*10e2),\n",
    "                                        (250*10e2, 300*10e2),\n",
    "                                        (300*10e2, 350*10e2),\n",
    "                                        (350*10e2, 400*10e2),\n",
    "                                        (400*10e2, 1*10e6),\n",
    "                                        (10e6, 2*10e6)])\n",
    "mort_dict = dict(zip([str(i) for i in list(mort_bins)],['<5k','5-10k','10-100k',\n",
    "                                 '100-150k',\n",
    "                                 '150-200k',\n",
    "                                 '200-250k',\n",
    "                                 '250-300k',\n",
    "                                 '300-350k',\n",
    "                                 '350-400k',\n",
    "                                 '400k - 1M',\n",
    "                                 '> 1M']))"
   ]
  },
  {
   "cell_type": "code",
   "execution_count": 343,
   "metadata": {},
   "outputs": [
    {
     "data": {
      "application/vnd.plotly.v1+json": {
       "config": {
        "plotlyServerURL": "https://plot.ly"
       },
       "data": [
        {
         "alignmentgroup": "True",
         "bingroup": "x",
         "hovertemplate": "variable=pct2023<br>value=%{x}<br>count=%{y}<extra></extra>",
         "legendgroup": "pct2023",
         "marker": {
          "color": "#636efa",
          "pattern": {
           "shape": ""
          }
         },
         "name": "pct2023",
         "offsetgroup": "pct2023",
         "orientation": "v",
         "showlegend": true,
         "type": "histogram",
         "x": [
          0,
          11.111111111111116,
          0,
          -1.2552301255230103,
          0,
          0,
          0,
          -9.999999999999998,
          -2.631578947368418,
          0,
          0,
          0,
          0,
          0,
          0,
          -5.263157894736848,
          -4.761904761904767,
          0,
          -13.043478260869568,
          0,
          5.882352941176472,
          0,
          -6.666666666666665,
          0,
          -1.8867924528301883,
          0,
          -4.347826086956519,
          -2.4390243902439046,
          -3.31125827814569,
          0,
          0,
          0,
          0,
          0,
          0,
          0.9433962264151052,
          8.000000000000007,
          0,
          3.9473684210526327,
          -1.1272141706924366,
          -2.083333333333337,
          -1.17647058823529,
          0,
          -4.1666666666666625,
          11.214953271028039,
          -4.347826086956519,
          -5.769230769230771,
          1.8050541516245522,
          -2.684563758389258,
          0,
          0,
          -8.064516129032262,
          -1.1834319526627168,
          5.660377358490565,
          -2.2222222222222254,
          0,
          6.25,
          -6.324110671936756,
          -1.5873015873015928,
          2.7196652719665204,
          -3.053435114503822,
          0,
          0,
          -2.9430181590482163,
          -0.6249999999999978,
          2.3809523809523725,
          -5.286343612334798,
          0,
          -4.1666666666666625,
          -11.32075471698113,
          -3.353658536585369,
          -2.500000000000002,
          0,
          1.2805587892898762,
          5.833333333333335,
          -2.127659574468088,
          0,
          -3.218390804597704,
          -2.5039123630672955,
          -2.7027027027026973,
          0.46511627906977715,
          -2.2222222222222254,
          -1.3377926421404673,
          0.9377664109121886,
          -4.761904761904767,
          -2.7450980392156876,
          -2.281368821292773,
          -1.8158236057068788,
          -1.7045454545454586,
          35.894206549118394,
          -0.7692307692307665,
          -1.3513513513513487,
          -4.6052631578947345,
          -5.973715651135003,
          0,
          -1.6806722689075682,
          -0.8639308855291628,
          -0.5747126436781658,
          -2.580645161290318,
          -1.4506769825918808,
          2.6315789473684292,
          0.6666666666666599,
          1.6393442622950838,
          0.5063291139240533,
          -2.420198848770272,
          0.8289374529012905,
          0.4993757802746579
         ],
         "xaxis": "x",
         "yaxis": "y"
        }
       ],
       "layout": {
        "barmode": "relative",
        "legend": {
         "title": {
          "text": "variable"
         },
         "tracegroupgap": 0
        },
        "margin": {
         "t": 60
        },
        "template": {
         "data": {
          "bar": [
           {
            "error_x": {
             "color": "#2a3f5f"
            },
            "error_y": {
             "color": "#2a3f5f"
            },
            "marker": {
             "line": {
              "color": "#E5ECF6",
              "width": 0.5
             },
             "pattern": {
              "fillmode": "overlay",
              "size": 10,
              "solidity": 0.2
             }
            },
            "type": "bar"
           }
          ],
          "barpolar": [
           {
            "marker": {
             "line": {
              "color": "#E5ECF6",
              "width": 0.5
             },
             "pattern": {
              "fillmode": "overlay",
              "size": 10,
              "solidity": 0.2
             }
            },
            "type": "barpolar"
           }
          ],
          "carpet": [
           {
            "aaxis": {
             "endlinecolor": "#2a3f5f",
             "gridcolor": "white",
             "linecolor": "white",
             "minorgridcolor": "white",
             "startlinecolor": "#2a3f5f"
            },
            "baxis": {
             "endlinecolor": "#2a3f5f",
             "gridcolor": "white",
             "linecolor": "white",
             "minorgridcolor": "white",
             "startlinecolor": "#2a3f5f"
            },
            "type": "carpet"
           }
          ],
          "choropleth": [
           {
            "colorbar": {
             "outlinewidth": 0,
             "ticks": ""
            },
            "type": "choropleth"
           }
          ],
          "contour": [
           {
            "colorbar": {
             "outlinewidth": 0,
             "ticks": ""
            },
            "colorscale": [
             [
              0,
              "#0d0887"
             ],
             [
              0.1111111111111111,
              "#46039f"
             ],
             [
              0.2222222222222222,
              "#7201a8"
             ],
             [
              0.3333333333333333,
              "#9c179e"
             ],
             [
              0.4444444444444444,
              "#bd3786"
             ],
             [
              0.5555555555555556,
              "#d8576b"
             ],
             [
              0.6666666666666666,
              "#ed7953"
             ],
             [
              0.7777777777777778,
              "#fb9f3a"
             ],
             [
              0.8888888888888888,
              "#fdca26"
             ],
             [
              1,
              "#f0f921"
             ]
            ],
            "type": "contour"
           }
          ],
          "contourcarpet": [
           {
            "colorbar": {
             "outlinewidth": 0,
             "ticks": ""
            },
            "type": "contourcarpet"
           }
          ],
          "heatmap": [
           {
            "colorbar": {
             "outlinewidth": 0,
             "ticks": ""
            },
            "colorscale": [
             [
              0,
              "#0d0887"
             ],
             [
              0.1111111111111111,
              "#46039f"
             ],
             [
              0.2222222222222222,
              "#7201a8"
             ],
             [
              0.3333333333333333,
              "#9c179e"
             ],
             [
              0.4444444444444444,
              "#bd3786"
             ],
             [
              0.5555555555555556,
              "#d8576b"
             ],
             [
              0.6666666666666666,
              "#ed7953"
             ],
             [
              0.7777777777777778,
              "#fb9f3a"
             ],
             [
              0.8888888888888888,
              "#fdca26"
             ],
             [
              1,
              "#f0f921"
             ]
            ],
            "type": "heatmap"
           }
          ],
          "heatmapgl": [
           {
            "colorbar": {
             "outlinewidth": 0,
             "ticks": ""
            },
            "colorscale": [
             [
              0,
              "#0d0887"
             ],
             [
              0.1111111111111111,
              "#46039f"
             ],
             [
              0.2222222222222222,
              "#7201a8"
             ],
             [
              0.3333333333333333,
              "#9c179e"
             ],
             [
              0.4444444444444444,
              "#bd3786"
             ],
             [
              0.5555555555555556,
              "#d8576b"
             ],
             [
              0.6666666666666666,
              "#ed7953"
             ],
             [
              0.7777777777777778,
              "#fb9f3a"
             ],
             [
              0.8888888888888888,
              "#fdca26"
             ],
             [
              1,
              "#f0f921"
             ]
            ],
            "type": "heatmapgl"
           }
          ],
          "histogram": [
           {
            "marker": {
             "pattern": {
              "fillmode": "overlay",
              "size": 10,
              "solidity": 0.2
             }
            },
            "type": "histogram"
           }
          ],
          "histogram2d": [
           {
            "colorbar": {
             "outlinewidth": 0,
             "ticks": ""
            },
            "colorscale": [
             [
              0,
              "#0d0887"
             ],
             [
              0.1111111111111111,
              "#46039f"
             ],
             [
              0.2222222222222222,
              "#7201a8"
             ],
             [
              0.3333333333333333,
              "#9c179e"
             ],
             [
              0.4444444444444444,
              "#bd3786"
             ],
             [
              0.5555555555555556,
              "#d8576b"
             ],
             [
              0.6666666666666666,
              "#ed7953"
             ],
             [
              0.7777777777777778,
              "#fb9f3a"
             ],
             [
              0.8888888888888888,
              "#fdca26"
             ],
             [
              1,
              "#f0f921"
             ]
            ],
            "type": "histogram2d"
           }
          ],
          "histogram2dcontour": [
           {
            "colorbar": {
             "outlinewidth": 0,
             "ticks": ""
            },
            "colorscale": [
             [
              0,
              "#0d0887"
             ],
             [
              0.1111111111111111,
              "#46039f"
             ],
             [
              0.2222222222222222,
              "#7201a8"
             ],
             [
              0.3333333333333333,
              "#9c179e"
             ],
             [
              0.4444444444444444,
              "#bd3786"
             ],
             [
              0.5555555555555556,
              "#d8576b"
             ],
             [
              0.6666666666666666,
              "#ed7953"
             ],
             [
              0.7777777777777778,
              "#fb9f3a"
             ],
             [
              0.8888888888888888,
              "#fdca26"
             ],
             [
              1,
              "#f0f921"
             ]
            ],
            "type": "histogram2dcontour"
           }
          ],
          "mesh3d": [
           {
            "colorbar": {
             "outlinewidth": 0,
             "ticks": ""
            },
            "type": "mesh3d"
           }
          ],
          "parcoords": [
           {
            "line": {
             "colorbar": {
              "outlinewidth": 0,
              "ticks": ""
             }
            },
            "type": "parcoords"
           }
          ],
          "pie": [
           {
            "automargin": true,
            "type": "pie"
           }
          ],
          "scatter": [
           {
            "fillpattern": {
             "fillmode": "overlay",
             "size": 10,
             "solidity": 0.2
            },
            "type": "scatter"
           }
          ],
          "scatter3d": [
           {
            "line": {
             "colorbar": {
              "outlinewidth": 0,
              "ticks": ""
             }
            },
            "marker": {
             "colorbar": {
              "outlinewidth": 0,
              "ticks": ""
             }
            },
            "type": "scatter3d"
           }
          ],
          "scattercarpet": [
           {
            "marker": {
             "colorbar": {
              "outlinewidth": 0,
              "ticks": ""
             }
            },
            "type": "scattercarpet"
           }
          ],
          "scattergeo": [
           {
            "marker": {
             "colorbar": {
              "outlinewidth": 0,
              "ticks": ""
             }
            },
            "type": "scattergeo"
           }
          ],
          "scattergl": [
           {
            "marker": {
             "colorbar": {
              "outlinewidth": 0,
              "ticks": ""
             }
            },
            "type": "scattergl"
           }
          ],
          "scattermapbox": [
           {
            "marker": {
             "colorbar": {
              "outlinewidth": 0,
              "ticks": ""
             }
            },
            "type": "scattermapbox"
           }
          ],
          "scatterpolar": [
           {
            "marker": {
             "colorbar": {
              "outlinewidth": 0,
              "ticks": ""
             }
            },
            "type": "scatterpolar"
           }
          ],
          "scatterpolargl": [
           {
            "marker": {
             "colorbar": {
              "outlinewidth": 0,
              "ticks": ""
             }
            },
            "type": "scatterpolargl"
           }
          ],
          "scatterternary": [
           {
            "marker": {
             "colorbar": {
              "outlinewidth": 0,
              "ticks": ""
             }
            },
            "type": "scatterternary"
           }
          ],
          "surface": [
           {
            "colorbar": {
             "outlinewidth": 0,
             "ticks": ""
            },
            "colorscale": [
             [
              0,
              "#0d0887"
             ],
             [
              0.1111111111111111,
              "#46039f"
             ],
             [
              0.2222222222222222,
              "#7201a8"
             ],
             [
              0.3333333333333333,
              "#9c179e"
             ],
             [
              0.4444444444444444,
              "#bd3786"
             ],
             [
              0.5555555555555556,
              "#d8576b"
             ],
             [
              0.6666666666666666,
              "#ed7953"
             ],
             [
              0.7777777777777778,
              "#fb9f3a"
             ],
             [
              0.8888888888888888,
              "#fdca26"
             ],
             [
              1,
              "#f0f921"
             ]
            ],
            "type": "surface"
           }
          ],
          "table": [
           {
            "cells": {
             "fill": {
              "color": "#EBF0F8"
             },
             "line": {
              "color": "white"
             }
            },
            "header": {
             "fill": {
              "color": "#C8D4E3"
             },
             "line": {
              "color": "white"
             }
            },
            "type": "table"
           }
          ]
         },
         "layout": {
          "annotationdefaults": {
           "arrowcolor": "#2a3f5f",
           "arrowhead": 0,
           "arrowwidth": 1
          },
          "autotypenumbers": "strict",
          "coloraxis": {
           "colorbar": {
            "outlinewidth": 0,
            "ticks": ""
           }
          },
          "colorscale": {
           "diverging": [
            [
             0,
             "#8e0152"
            ],
            [
             0.1,
             "#c51b7d"
            ],
            [
             0.2,
             "#de77ae"
            ],
            [
             0.3,
             "#f1b6da"
            ],
            [
             0.4,
             "#fde0ef"
            ],
            [
             0.5,
             "#f7f7f7"
            ],
            [
             0.6,
             "#e6f5d0"
            ],
            [
             0.7,
             "#b8e186"
            ],
            [
             0.8,
             "#7fbc41"
            ],
            [
             0.9,
             "#4d9221"
            ],
            [
             1,
             "#276419"
            ]
           ],
           "sequential": [
            [
             0,
             "#0d0887"
            ],
            [
             0.1111111111111111,
             "#46039f"
            ],
            [
             0.2222222222222222,
             "#7201a8"
            ],
            [
             0.3333333333333333,
             "#9c179e"
            ],
            [
             0.4444444444444444,
             "#bd3786"
            ],
            [
             0.5555555555555556,
             "#d8576b"
            ],
            [
             0.6666666666666666,
             "#ed7953"
            ],
            [
             0.7777777777777778,
             "#fb9f3a"
            ],
            [
             0.8888888888888888,
             "#fdca26"
            ],
            [
             1,
             "#f0f921"
            ]
           ],
           "sequentialminus": [
            [
             0,
             "#0d0887"
            ],
            [
             0.1111111111111111,
             "#46039f"
            ],
            [
             0.2222222222222222,
             "#7201a8"
            ],
            [
             0.3333333333333333,
             "#9c179e"
            ],
            [
             0.4444444444444444,
             "#bd3786"
            ],
            [
             0.5555555555555556,
             "#d8576b"
            ],
            [
             0.6666666666666666,
             "#ed7953"
            ],
            [
             0.7777777777777778,
             "#fb9f3a"
            ],
            [
             0.8888888888888888,
             "#fdca26"
            ],
            [
             1,
             "#f0f921"
            ]
           ]
          },
          "colorway": [
           "#636efa",
           "#EF553B",
           "#00cc96",
           "#ab63fa",
           "#FFA15A",
           "#19d3f3",
           "#FF6692",
           "#B6E880",
           "#FF97FF",
           "#FECB52"
          ],
          "font": {
           "color": "#2a3f5f"
          },
          "geo": {
           "bgcolor": "white",
           "lakecolor": "white",
           "landcolor": "#E5ECF6",
           "showlakes": true,
           "showland": true,
           "subunitcolor": "white"
          },
          "hoverlabel": {
           "align": "left"
          },
          "hovermode": "closest",
          "mapbox": {
           "style": "light"
          },
          "paper_bgcolor": "white",
          "plot_bgcolor": "#E5ECF6",
          "polar": {
           "angularaxis": {
            "gridcolor": "white",
            "linecolor": "white",
            "ticks": ""
           },
           "bgcolor": "#E5ECF6",
           "radialaxis": {
            "gridcolor": "white",
            "linecolor": "white",
            "ticks": ""
           }
          },
          "scene": {
           "xaxis": {
            "backgroundcolor": "#E5ECF6",
            "gridcolor": "white",
            "gridwidth": 2,
            "linecolor": "white",
            "showbackground": true,
            "ticks": "",
            "zerolinecolor": "white"
           },
           "yaxis": {
            "backgroundcolor": "#E5ECF6",
            "gridcolor": "white",
            "gridwidth": 2,
            "linecolor": "white",
            "showbackground": true,
            "ticks": "",
            "zerolinecolor": "white"
           },
           "zaxis": {
            "backgroundcolor": "#E5ECF6",
            "gridcolor": "white",
            "gridwidth": 2,
            "linecolor": "white",
            "showbackground": true,
            "ticks": "",
            "zerolinecolor": "white"
           }
          },
          "shapedefaults": {
           "line": {
            "color": "#2a3f5f"
           }
          },
          "ternary": {
           "aaxis": {
            "gridcolor": "white",
            "linecolor": "white",
            "ticks": ""
           },
           "baxis": {
            "gridcolor": "white",
            "linecolor": "white",
            "ticks": ""
           },
           "bgcolor": "#E5ECF6",
           "caxis": {
            "gridcolor": "white",
            "linecolor": "white",
            "ticks": ""
           }
          },
          "title": {
           "x": 0.05
          },
          "xaxis": {
           "automargin": true,
           "gridcolor": "white",
           "linecolor": "white",
           "ticks": "",
           "title": {
            "standoff": 15
           },
           "zerolinecolor": "white",
           "zerolinewidth": 2
          },
          "yaxis": {
           "automargin": true,
           "gridcolor": "white",
           "linecolor": "white",
           "ticks": "",
           "title": {
            "standoff": 15
           },
           "zerolinecolor": "white",
           "zerolinewidth": 2
          }
         }
        },
        "xaxis": {
         "anchor": "y",
         "domain": [
          0,
          1
         ],
         "title": {
          "text": "value"
         }
        },
        "yaxis": {
         "anchor": "x",
         "domain": [
          0,
          1
         ],
         "title": {
          "text": "count"
         }
        }
       }
      }
     },
     "metadata": {},
     "output_type": "display_data"
    }
   ],
   "source": [
    "px.histogram(selected['pct2023'])"
   ]
  },
  {
   "cell_type": "code",
   "execution_count": 350,
   "metadata": {},
   "outputs": [],
   "source": [
    "pct_bins = pd.IntervalIndex.from_tuples([(-300,-20),(-20, -10),(-10,-5), (-5,0),\n",
    "                                        (0,5),\n",
    "                                        (5,10),\n",
    "                                        (10,15),\n",
    "                                        (15,20),\n",
    "                                        (20,300)])\n",
    "pct_dict = dict(zip([str(i) for i in list(pct_bins)],['< -20','-20 ~ -10','-10 ~ -5', '-5 ~ 0',\n",
    "                                                       '0 ~ 5',\n",
    "                                                       '5 ~ 10',\n",
    "                                                       '10 ~ 15',\n",
    "                                                       '15 ~ 20',\n",
    "                                                       '> 20']))\n",
    "selected['est_bin'] = pd.cut(selected['estimate'], pct_bins).astype(str)\n",
    "selected['mort_bin'] = pd.cut(selected['2019 US Mortality 19'], mort_bins).astype(str)\n",
    "selected['mort_str'] = selected['mort_bin'].astype(str).map(mort_dict)\n",
    "selected['est_str'] = selected['est_bin'].astype(str).map(pct_dict)"
   ]
  },
  {
   "cell_type": "code",
   "execution_count": 381,
   "metadata": {},
   "outputs": [],
   "source": [
    "select = selected.sort_values('2019 US Mortality 19').iloc[-10:,:]"
   ]
  },
  {
   "cell_type": "code",
   "execution_count": 352,
   "metadata": {},
   "outputs": [
    {
     "data": {
      "application/vnd.plotly.v1+json": {
       "config": {
        "plotlyServerURL": "https://plot.ly"
       },
       "data": [
        {
         "dimensions": [
          {
           "categoryorder": "category descending",
           "label": "Category existed time (yr)",
           "values": [
            15,
            15,
            15,
            15,
            15,
            15,
            15,
            15,
            15,
            15,
            15,
            15,
            15,
            15,
            15,
            15,
            15,
            15,
            15,
            15,
            15,
            15,
            15,
            15,
            14,
            15,
            15,
            15,
            15,
            15,
            15,
            15,
            15,
            15,
            15,
            15,
            15,
            15,
            15,
            15,
            5,
            15,
            15,
            15,
            15,
            15,
            15,
            5,
            12,
            15,
            15,
            15,
            15,
            15,
            15,
            15,
            15,
            15,
            15,
            15,
            15,
            15,
            15,
            15,
            15,
            15,
            15,
            10,
            9,
            15,
            15,
            5,
            15,
            15,
            15,
            15,
            15,
            15,
            15,
            15,
            15,
            15,
            15,
            15,
            15,
            14,
            15,
            15,
            15,
            7,
            15,
            15,
            15,
            15,
            15,
            15,
            15,
            15,
            15,
            9,
            15,
            15,
            15,
            15,
            15,
            15,
            15
           ]
          },
          {
           "categoryorder": "category descending",
           "label": "Estimated pct. change",
           "values": [
            "-5 ~ 0",
            "0 ~ 5",
            "-5 ~ 0",
            "-5 ~ 0",
            "-5 ~ 0",
            "-5 ~ 0",
            "-5 ~ 0",
            "-5 ~ 0",
            "-5 ~ 0",
            "-5 ~ 0",
            "-5 ~ 0",
            "-5 ~ 0",
            "-5 ~ 0",
            "-5 ~ 0",
            "-5 ~ 0",
            "-5 ~ 0",
            "-5 ~ 0",
            "-5 ~ 0",
            "-10 ~ -5",
            "-5 ~ 0",
            "0 ~ 5",
            "-5 ~ 0",
            "-5 ~ 0",
            "-5 ~ 0",
            "-5 ~ 0",
            "-5 ~ 0",
            "-5 ~ 0",
            "-5 ~ 0",
            "-20 ~ -10",
            "-5 ~ 0",
            "-5 ~ 0",
            "-5 ~ 0",
            "-5 ~ 0",
            "-5 ~ 0",
            "-5 ~ 0",
            "0 ~ 5",
            "5 ~ 10",
            "-5 ~ 0",
            "5 ~ 10",
            "-10 ~ -5",
            "-5 ~ 0",
            "-5 ~ 0",
            "-5 ~ 0",
            "-5 ~ 0",
            "10 ~ 15",
            "-5 ~ 0",
            "-10 ~ -5",
            "0 ~ 5",
            "-5 ~ 0",
            "-5 ~ 0",
            "-5 ~ 0",
            "-20 ~ -10",
            "-5 ~ 0",
            "0 ~ 5",
            "-5 ~ 0",
            "-5 ~ 0",
            "0 ~ 5",
            "-20 ~ -10",
            "-5 ~ 0",
            "10 ~ 15",
            "-5 ~ 0",
            "-5 ~ 0",
            "-5 ~ 0",
            "< -20",
            "-5 ~ 0",
            "10 ~ 15",
            "-20 ~ -10",
            "-5 ~ 0",
            "-5 ~ 0",
            "-20 ~ -10",
            "-20 ~ -10",
            "-5 ~ 0",
            "-5 ~ 0",
            "10 ~ 15",
            "5 ~ 10",
            "-5 ~ 0",
            "-5 ~ 0",
            "-20 ~ -10",
            "-20 ~ -10",
            "-10 ~ -5",
            "0 ~ 5",
            "-5 ~ 0",
            "-5 ~ 0",
            "10 ~ 15",
            "-10 ~ -5",
            "-10 ~ -5",
            "-10 ~ -5",
            "-20 ~ -10",
            "-10 ~ -5",
            "> 20",
            "-5 ~ 0",
            "-10 ~ -5",
            "-10 ~ -5",
            "< -20",
            "-5 ~ 0",
            "-10 ~ -5",
            "-10 ~ -5",
            "-5 ~ 0",
            "-20 ~ -10",
            "-20 ~ -10",
            "> 20",
            "0 ~ 5",
            "0 ~ 5",
            "0 ~ 5",
            "< -20",
            "> 20",
            "5 ~ 10"
           ]
          },
          {
           "categoryorder": "category descending",
           "label": "Mortality rate (raw ct.)",
           "values": [
            "<5k",
            "<5k",
            "<5k",
            "<5k",
            "<5k",
            "<5k",
            "<5k",
            "<5k",
            "<5k",
            "<5k",
            "<5k",
            "<5k",
            "<5k",
            "<5k",
            "<5k",
            "<5k",
            "<5k",
            "<5k",
            "<5k",
            "<5k",
            "<5k",
            "<5k",
            "<5k",
            "<5k",
            "<5k",
            "<5k",
            "<5k",
            "<5k",
            "<5k",
            "<5k",
            "<5k",
            "<5k",
            "<5k",
            "<5k",
            "<5k",
            "<5k",
            "<5k",
            "<5k",
            "<5k",
            "<5k",
            "<5k",
            "<5k",
            "<5k",
            "<5k",
            "<5k",
            "<5k",
            "<5k",
            "<5k",
            "<5k",
            "<5k",
            "<5k",
            "<5k",
            "<5k",
            "<5k",
            "<5k",
            "<5k",
            "<5k",
            "<5k",
            "<5k",
            "<5k",
            "<5k",
            "<5k",
            "<5k",
            "<5k",
            "<5k",
            "<5k",
            "<5k",
            "<5k",
            "<5k",
            "<5k",
            "<5k",
            "<5k",
            "<5k",
            "<5k",
            "<5k",
            "<5k",
            "<5k",
            "<5k",
            "<5k",
            "<5k",
            "<5k",
            "<5k",
            "<5k",
            "<5k",
            "<5k",
            "<5k",
            "5-10k",
            "5-10k",
            "5-10k",
            "5-10k",
            "5-10k",
            "5-10k",
            "100-150k",
            "100-150k",
            "100-150k",
            "150-200k",
            "150-200k",
            "200-250k",
            "200-250k",
            "250-300k",
            "250-300k",
            "300-350k",
            "400k - 1M",
            "400k - 1M",
            "400k - 1M",
            "400k - 1M",
            "400k - 1M"
           ]
          }
         ],
         "domain": {
          "x": [
           0,
           1
          ],
          "y": [
           0,
           1
          ]
         },
         "line": {
          "color": [
           15,
           15,
           15,
           15,
           15,
           15,
           15,
           15,
           15,
           15,
           15,
           15,
           15,
           15,
           15,
           15,
           15,
           15,
           15,
           15,
           15,
           15,
           15,
           15,
           14,
           15,
           15,
           15,
           15,
           15,
           15,
           15,
           15,
           15,
           15,
           15,
           15,
           15,
           15,
           15,
           5,
           15,
           15,
           15,
           15,
           15,
           15,
           5,
           12,
           15,
           15,
           15,
           15,
           15,
           15,
           15,
           15,
           15,
           15,
           15,
           15,
           15,
           15,
           15,
           15,
           15,
           15,
           10,
           9,
           15,
           15,
           5,
           15,
           15,
           15,
           15,
           15,
           15,
           15,
           15,
           15,
           15,
           15,
           15,
           15,
           14,
           15,
           15,
           15,
           7,
           15,
           15,
           15,
           15,
           15,
           15,
           15,
           15,
           15,
           9,
           15,
           15,
           15,
           15,
           15,
           15,
           15
          ],
          "coloraxis": "coloraxis"
         },
         "name": "",
         "type": "parcats"
        }
       ],
       "layout": {
        "coloraxis": {
         "colorbar": {
          "title": {
           "text": "Category existed time (yr)"
          }
         },
         "colorscale": [
          [
           0,
           "#440154"
          ],
          [
           0.1111111111111111,
           "#482878"
          ],
          [
           0.2222222222222222,
           "#3e4989"
          ],
          [
           0.3333333333333333,
           "#31688e"
          ],
          [
           0.4444444444444444,
           "#26828e"
          ],
          [
           0.5555555555555556,
           "#1f9e89"
          ],
          [
           0.6666666666666666,
           "#35b779"
          ],
          [
           0.7777777777777778,
           "#6ece58"
          ],
          [
           0.8888888888888888,
           "#b5de2b"
          ],
          [
           1,
           "#fde725"
          ]
         ]
        },
        "height": 500,
        "legend": {
         "tracegroupgap": 0
        },
        "margin": {
         "t": 60
        },
        "template": {
         "data": {
          "bar": [
           {
            "error_x": {
             "color": "#2a3f5f"
            },
            "error_y": {
             "color": "#2a3f5f"
            },
            "marker": {
             "line": {
              "color": "#E5ECF6",
              "width": 0.5
             },
             "pattern": {
              "fillmode": "overlay",
              "size": 10,
              "solidity": 0.2
             }
            },
            "type": "bar"
           }
          ],
          "barpolar": [
           {
            "marker": {
             "line": {
              "color": "#E5ECF6",
              "width": 0.5
             },
             "pattern": {
              "fillmode": "overlay",
              "size": 10,
              "solidity": 0.2
             }
            },
            "type": "barpolar"
           }
          ],
          "carpet": [
           {
            "aaxis": {
             "endlinecolor": "#2a3f5f",
             "gridcolor": "white",
             "linecolor": "white",
             "minorgridcolor": "white",
             "startlinecolor": "#2a3f5f"
            },
            "baxis": {
             "endlinecolor": "#2a3f5f",
             "gridcolor": "white",
             "linecolor": "white",
             "minorgridcolor": "white",
             "startlinecolor": "#2a3f5f"
            },
            "type": "carpet"
           }
          ],
          "choropleth": [
           {
            "colorbar": {
             "outlinewidth": 0,
             "ticks": ""
            },
            "type": "choropleth"
           }
          ],
          "contour": [
           {
            "colorbar": {
             "outlinewidth": 0,
             "ticks": ""
            },
            "colorscale": [
             [
              0,
              "#0d0887"
             ],
             [
              0.1111111111111111,
              "#46039f"
             ],
             [
              0.2222222222222222,
              "#7201a8"
             ],
             [
              0.3333333333333333,
              "#9c179e"
             ],
             [
              0.4444444444444444,
              "#bd3786"
             ],
             [
              0.5555555555555556,
              "#d8576b"
             ],
             [
              0.6666666666666666,
              "#ed7953"
             ],
             [
              0.7777777777777778,
              "#fb9f3a"
             ],
             [
              0.8888888888888888,
              "#fdca26"
             ],
             [
              1,
              "#f0f921"
             ]
            ],
            "type": "contour"
           }
          ],
          "contourcarpet": [
           {
            "colorbar": {
             "outlinewidth": 0,
             "ticks": ""
            },
            "type": "contourcarpet"
           }
          ],
          "heatmap": [
           {
            "colorbar": {
             "outlinewidth": 0,
             "ticks": ""
            },
            "colorscale": [
             [
              0,
              "#0d0887"
             ],
             [
              0.1111111111111111,
              "#46039f"
             ],
             [
              0.2222222222222222,
              "#7201a8"
             ],
             [
              0.3333333333333333,
              "#9c179e"
             ],
             [
              0.4444444444444444,
              "#bd3786"
             ],
             [
              0.5555555555555556,
              "#d8576b"
             ],
             [
              0.6666666666666666,
              "#ed7953"
             ],
             [
              0.7777777777777778,
              "#fb9f3a"
             ],
             [
              0.8888888888888888,
              "#fdca26"
             ],
             [
              1,
              "#f0f921"
             ]
            ],
            "type": "heatmap"
           }
          ],
          "heatmapgl": [
           {
            "colorbar": {
             "outlinewidth": 0,
             "ticks": ""
            },
            "colorscale": [
             [
              0,
              "#0d0887"
             ],
             [
              0.1111111111111111,
              "#46039f"
             ],
             [
              0.2222222222222222,
              "#7201a8"
             ],
             [
              0.3333333333333333,
              "#9c179e"
             ],
             [
              0.4444444444444444,
              "#bd3786"
             ],
             [
              0.5555555555555556,
              "#d8576b"
             ],
             [
              0.6666666666666666,
              "#ed7953"
             ],
             [
              0.7777777777777778,
              "#fb9f3a"
             ],
             [
              0.8888888888888888,
              "#fdca26"
             ],
             [
              1,
              "#f0f921"
             ]
            ],
            "type": "heatmapgl"
           }
          ],
          "histogram": [
           {
            "marker": {
             "pattern": {
              "fillmode": "overlay",
              "size": 10,
              "solidity": 0.2
             }
            },
            "type": "histogram"
           }
          ],
          "histogram2d": [
           {
            "colorbar": {
             "outlinewidth": 0,
             "ticks": ""
            },
            "colorscale": [
             [
              0,
              "#0d0887"
             ],
             [
              0.1111111111111111,
              "#46039f"
             ],
             [
              0.2222222222222222,
              "#7201a8"
             ],
             [
              0.3333333333333333,
              "#9c179e"
             ],
             [
              0.4444444444444444,
              "#bd3786"
             ],
             [
              0.5555555555555556,
              "#d8576b"
             ],
             [
              0.6666666666666666,
              "#ed7953"
             ],
             [
              0.7777777777777778,
              "#fb9f3a"
             ],
             [
              0.8888888888888888,
              "#fdca26"
             ],
             [
              1,
              "#f0f921"
             ]
            ],
            "type": "histogram2d"
           }
          ],
          "histogram2dcontour": [
           {
            "colorbar": {
             "outlinewidth": 0,
             "ticks": ""
            },
            "colorscale": [
             [
              0,
              "#0d0887"
             ],
             [
              0.1111111111111111,
              "#46039f"
             ],
             [
              0.2222222222222222,
              "#7201a8"
             ],
             [
              0.3333333333333333,
              "#9c179e"
             ],
             [
              0.4444444444444444,
              "#bd3786"
             ],
             [
              0.5555555555555556,
              "#d8576b"
             ],
             [
              0.6666666666666666,
              "#ed7953"
             ],
             [
              0.7777777777777778,
              "#fb9f3a"
             ],
             [
              0.8888888888888888,
              "#fdca26"
             ],
             [
              1,
              "#f0f921"
             ]
            ],
            "type": "histogram2dcontour"
           }
          ],
          "mesh3d": [
           {
            "colorbar": {
             "outlinewidth": 0,
             "ticks": ""
            },
            "type": "mesh3d"
           }
          ],
          "parcoords": [
           {
            "line": {
             "colorbar": {
              "outlinewidth": 0,
              "ticks": ""
             }
            },
            "type": "parcoords"
           }
          ],
          "pie": [
           {
            "automargin": true,
            "type": "pie"
           }
          ],
          "scatter": [
           {
            "fillpattern": {
             "fillmode": "overlay",
             "size": 10,
             "solidity": 0.2
            },
            "type": "scatter"
           }
          ],
          "scatter3d": [
           {
            "line": {
             "colorbar": {
              "outlinewidth": 0,
              "ticks": ""
             }
            },
            "marker": {
             "colorbar": {
              "outlinewidth": 0,
              "ticks": ""
             }
            },
            "type": "scatter3d"
           }
          ],
          "scattercarpet": [
           {
            "marker": {
             "colorbar": {
              "outlinewidth": 0,
              "ticks": ""
             }
            },
            "type": "scattercarpet"
           }
          ],
          "scattergeo": [
           {
            "marker": {
             "colorbar": {
              "outlinewidth": 0,
              "ticks": ""
             }
            },
            "type": "scattergeo"
           }
          ],
          "scattergl": [
           {
            "marker": {
             "colorbar": {
              "outlinewidth": 0,
              "ticks": ""
             }
            },
            "type": "scattergl"
           }
          ],
          "scattermapbox": [
           {
            "marker": {
             "colorbar": {
              "outlinewidth": 0,
              "ticks": ""
             }
            },
            "type": "scattermapbox"
           }
          ],
          "scatterpolar": [
           {
            "marker": {
             "colorbar": {
              "outlinewidth": 0,
              "ticks": ""
             }
            },
            "type": "scatterpolar"
           }
          ],
          "scatterpolargl": [
           {
            "marker": {
             "colorbar": {
              "outlinewidth": 0,
              "ticks": ""
             }
            },
            "type": "scatterpolargl"
           }
          ],
          "scatterternary": [
           {
            "marker": {
             "colorbar": {
              "outlinewidth": 0,
              "ticks": ""
             }
            },
            "type": "scatterternary"
           }
          ],
          "surface": [
           {
            "colorbar": {
             "outlinewidth": 0,
             "ticks": ""
            },
            "colorscale": [
             [
              0,
              "#0d0887"
             ],
             [
              0.1111111111111111,
              "#46039f"
             ],
             [
              0.2222222222222222,
              "#7201a8"
             ],
             [
              0.3333333333333333,
              "#9c179e"
             ],
             [
              0.4444444444444444,
              "#bd3786"
             ],
             [
              0.5555555555555556,
              "#d8576b"
             ],
             [
              0.6666666666666666,
              "#ed7953"
             ],
             [
              0.7777777777777778,
              "#fb9f3a"
             ],
             [
              0.8888888888888888,
              "#fdca26"
             ],
             [
              1,
              "#f0f921"
             ]
            ],
            "type": "surface"
           }
          ],
          "table": [
           {
            "cells": {
             "fill": {
              "color": "#EBF0F8"
             },
             "line": {
              "color": "white"
             }
            },
            "header": {
             "fill": {
              "color": "#C8D4E3"
             },
             "line": {
              "color": "white"
             }
            },
            "type": "table"
           }
          ]
         },
         "layout": {
          "annotationdefaults": {
           "arrowcolor": "#2a3f5f",
           "arrowhead": 0,
           "arrowwidth": 1
          },
          "autotypenumbers": "strict",
          "coloraxis": {
           "colorbar": {
            "outlinewidth": 0,
            "ticks": ""
           }
          },
          "colorscale": {
           "diverging": [
            [
             0,
             "#8e0152"
            ],
            [
             0.1,
             "#c51b7d"
            ],
            [
             0.2,
             "#de77ae"
            ],
            [
             0.3,
             "#f1b6da"
            ],
            [
             0.4,
             "#fde0ef"
            ],
            [
             0.5,
             "#f7f7f7"
            ],
            [
             0.6,
             "#e6f5d0"
            ],
            [
             0.7,
             "#b8e186"
            ],
            [
             0.8,
             "#7fbc41"
            ],
            [
             0.9,
             "#4d9221"
            ],
            [
             1,
             "#276419"
            ]
           ],
           "sequential": [
            [
             0,
             "#0d0887"
            ],
            [
             0.1111111111111111,
             "#46039f"
            ],
            [
             0.2222222222222222,
             "#7201a8"
            ],
            [
             0.3333333333333333,
             "#9c179e"
            ],
            [
             0.4444444444444444,
             "#bd3786"
            ],
            [
             0.5555555555555556,
             "#d8576b"
            ],
            [
             0.6666666666666666,
             "#ed7953"
            ],
            [
             0.7777777777777778,
             "#fb9f3a"
            ],
            [
             0.8888888888888888,
             "#fdca26"
            ],
            [
             1,
             "#f0f921"
            ]
           ],
           "sequentialminus": [
            [
             0,
             "#0d0887"
            ],
            [
             0.1111111111111111,
             "#46039f"
            ],
            [
             0.2222222222222222,
             "#7201a8"
            ],
            [
             0.3333333333333333,
             "#9c179e"
            ],
            [
             0.4444444444444444,
             "#bd3786"
            ],
            [
             0.5555555555555556,
             "#d8576b"
            ],
            [
             0.6666666666666666,
             "#ed7953"
            ],
            [
             0.7777777777777778,
             "#fb9f3a"
            ],
            [
             0.8888888888888888,
             "#fdca26"
            ],
            [
             1,
             "#f0f921"
            ]
           ]
          },
          "colorway": [
           "#636efa",
           "#EF553B",
           "#00cc96",
           "#ab63fa",
           "#FFA15A",
           "#19d3f3",
           "#FF6692",
           "#B6E880",
           "#FF97FF",
           "#FECB52"
          ],
          "font": {
           "color": "#2a3f5f"
          },
          "geo": {
           "bgcolor": "white",
           "lakecolor": "white",
           "landcolor": "#E5ECF6",
           "showlakes": true,
           "showland": true,
           "subunitcolor": "white"
          },
          "hoverlabel": {
           "align": "left"
          },
          "hovermode": "closest",
          "mapbox": {
           "style": "light"
          },
          "paper_bgcolor": "white",
          "plot_bgcolor": "#E5ECF6",
          "polar": {
           "angularaxis": {
            "gridcolor": "white",
            "linecolor": "white",
            "ticks": ""
           },
           "bgcolor": "#E5ECF6",
           "radialaxis": {
            "gridcolor": "white",
            "linecolor": "white",
            "ticks": ""
           }
          },
          "scene": {
           "xaxis": {
            "backgroundcolor": "#E5ECF6",
            "gridcolor": "white",
            "gridwidth": 2,
            "linecolor": "white",
            "showbackground": true,
            "ticks": "",
            "zerolinecolor": "white"
           },
           "yaxis": {
            "backgroundcolor": "#E5ECF6",
            "gridcolor": "white",
            "gridwidth": 2,
            "linecolor": "white",
            "showbackground": true,
            "ticks": "",
            "zerolinecolor": "white"
           },
           "zaxis": {
            "backgroundcolor": "#E5ECF6",
            "gridcolor": "white",
            "gridwidth": 2,
            "linecolor": "white",
            "showbackground": true,
            "ticks": "",
            "zerolinecolor": "white"
           }
          },
          "shapedefaults": {
           "line": {
            "color": "#2a3f5f"
           }
          },
          "ternary": {
           "aaxis": {
            "gridcolor": "white",
            "linecolor": "white",
            "ticks": ""
           },
           "baxis": {
            "gridcolor": "white",
            "linecolor": "white",
            "ticks": ""
           },
           "bgcolor": "#E5ECF6",
           "caxis": {
            "gridcolor": "white",
            "linecolor": "white",
            "ticks": ""
           }
          },
          "title": {
           "x": 0.05
          },
          "xaxis": {
           "automargin": true,
           "gridcolor": "white",
           "linecolor": "white",
           "ticks": "",
           "title": {
            "standoff": 15
           },
           "zerolinecolor": "white",
           "zerolinewidth": 2
          },
          "yaxis": {
           "automargin": true,
           "gridcolor": "white",
           "linecolor": "white",
           "ticks": "",
           "title": {
            "standoff": 15
           },
           "zerolinecolor": "white",
           "zerolinewidth": 2
          }
         }
        },
        "width": 900
       }
      }
     },
     "metadata": {},
     "output_type": "display_data"
    },
    {
     "data": {
      "text/plain": [
       "<Figure size 432x288 with 0 Axes>"
      ]
     },
     "metadata": {},
     "output_type": "display_data"
    }
   ],
   "source": [
    "#df = px.data.tips()\n",
    "fig = px.parallel_categories(selected, dimensions=['exist','est_str','mort_str'],\n",
    "                color=\"exist\", color_continuous_scale=\"Viridis\",\n",
    "                labels={'exist':'Category existed time (yr)',\n",
    "                        'est_str':'Estimated pct. change',\n",
    "                        'mort_str':'Mortality rate (raw ct.)'},\n",
    "                height = 500,\n",
    "                width = 900\n",
    "                )\n",
    "dimensions=['exist','est_str','mort_bin']\n",
    "fig.update_traces(dimensions=[{\"categoryorder\": \"category descending\"} for _ in dimensions])\n",
    "plt.tight_layout()\n",
    "fig.show()"
   ]
  },
  {
   "cell_type": "code",
   "execution_count": 382,
   "metadata": {},
   "outputs": [],
   "source": [
    "sem = pd.melt(select, id_vars=['Research/Disease Areas \\n (Dollars in millions and rounded)'], \n",
    "        value_vars=selected.columns[1:17],\n",
    "        var_name='year', value_name='value')\n",
    "sem = sem.rename(columns={'2022 Estimated': '2022','2023 Estimated': '2023'})\n",
    "sem['value'] = sem['value'].astype(int)"
   ]
  },
  {
   "cell_type": "code",
   "execution_count": 386,
   "metadata": {},
   "outputs": [
    {
     "data": {
      "application/vnd.plotly.v1+json": {
       "config": {
        "plotlyServerURL": "https://plot.ly"
       },
       "data": [
        {
         "alignmentgroup": "True",
         "hovertemplate": "Research/Disease Areas \n (Dollars in millions and rounded)=%{x}<br>year=2008<br>value=%{y}<extra></extra>",
         "legendgroup": "Sepsis 15",
         "marker": {
          "color": "#636efa",
          "pattern": {
           "shape": ""
          }
         },
         "name": "Sepsis 15",
         "offsetgroup": "Sepsis 15",
         "orientation": "v",
         "showlegend": true,
         "textposition": "auto",
         "type": "bar",
         "x": [
          "Sepsis 15"
         ],
         "xaxis": "x",
         "y": [
          95
         ],
         "yaxis": "y"
        },
        {
         "alignmentgroup": "True",
         "hovertemplate": "Research/Disease Areas \n (Dollars in millions and rounded)=%{x}<br>year=2008<br>value=%{y}<extra></extra>",
         "legendgroup": "Stroke ",
         "marker": {
          "color": "#EF553B",
          "pattern": {
           "shape": ""
          }
         },
         "name": "Stroke ",
         "offsetgroup": "Stroke ",
         "orientation": "v",
         "showlegend": true,
         "textposition": "auto",
         "type": "bar",
         "x": [
          "Stroke "
         ],
         "xaxis": "x",
         "y": [
          296
         ],
         "yaxis": "y"
        },
        {
         "alignmentgroup": "True",
         "hovertemplate": "Research/Disease Areas \n (Dollars in millions and rounded)=%{x}<br>year=2008<br>value=%{y}<extra></extra>",
         "legendgroup": "Cerebrovascular ",
         "marker": {
          "color": "#00cc96",
          "pattern": {
           "shape": ""
          }
         },
         "name": "Cerebrovascular ",
         "offsetgroup": "Cerebrovascular ",
         "orientation": "v",
         "showlegend": true,
         "textposition": "auto",
         "type": "bar",
         "x": [
          "Cerebrovascular "
         ],
         "xaxis": "x",
         "y": [
          -1
         ],
         "yaxis": "y"
        },
        {
         "alignmentgroup": "True",
         "hovertemplate": "Research/Disease Areas \n (Dollars in millions and rounded)=%{x}<br>year=2008<br>value=%{y}<extra></extra>",
         "legendgroup": "Diabetes 4",
         "marker": {
          "color": "#ab63fa",
          "pattern": {
           "shape": ""
          }
         },
         "name": "Diabetes 4",
         "offsetgroup": "Diabetes 4",
         "orientation": "v",
         "showlegend": true,
         "textposition": "auto",
         "type": "bar",
         "x": [
          "Diabetes 4"
         ],
         "xaxis": "x",
         "y": [
          1080
         ],
         "yaxis": "y"
        },
        {
         "alignmentgroup": "True",
         "hovertemplate": "Research/Disease Areas \n (Dollars in millions and rounded)=%{x}<br>year=2008<br>value=%{y}<extra></extra>",
         "legendgroup": "Chronic Obstructive Pulmonary Disease ",
         "marker": {
          "color": "#FFA15A",
          "pattern": {
           "shape": ""
          }
         },
         "name": "Chronic Obstructive Pulmonary Disease ",
         "offsetgroup": "Chronic Obstructive Pulmonary Disease ",
         "orientation": "v",
         "showlegend": true,
         "textposition": "auto",
         "type": "bar",
         "x": [
          "Chronic Obstructive Pulmonary Disease "
         ],
         "xaxis": "x",
         "y": [
          75
         ],
         "yaxis": "y"
        },
        {
         "alignmentgroup": "True",
         "hovertemplate": "Research/Disease Areas \n (Dollars in millions and rounded)=%{x}<br>year=2008<br>value=%{y}<extra></extra>",
         "legendgroup": "Hypertension ",
         "marker": {
          "color": "#19d3f3",
          "pattern": {
           "shape": ""
          }
         },
         "name": "Hypertension ",
         "offsetgroup": "Hypertension ",
         "orientation": "v",
         "showlegend": true,
         "textposition": "auto",
         "type": "bar",
         "x": [
          "Hypertension "
         ],
         "xaxis": "x",
         "y": [
          263
         ],
         "yaxis": "y"
        },
        {
         "alignmentgroup": "True",
         "hovertemplate": "Research/Disease Areas \n (Dollars in millions and rounded)=%{x}<br>year=2008<br>value=%{y}<extra></extra>",
         "legendgroup": "Heart Disease - Coronary Heart Disease ",
         "marker": {
          "color": "#FF6692",
          "pattern": {
           "shape": ""
          }
         },
         "name": "Heart Disease - Coronary Heart Disease ",
         "offsetgroup": "Heart Disease - Coronary Heart Disease ",
         "orientation": "v",
         "showlegend": true,
         "textposition": "auto",
         "type": "bar",
         "x": [
          "Heart Disease - Coronary Heart Disease "
         ],
         "xaxis": "x",
         "y": [
          367
         ],
         "yaxis": "y"
        },
        {
         "alignmentgroup": "True",
         "hovertemplate": "Research/Disease Areas \n (Dollars in millions and rounded)=%{x}<br>year=2008<br>value=%{y}<extra></extra>",
         "legendgroup": "Cancer ",
         "marker": {
          "color": "#B6E880",
          "pattern": {
           "shape": ""
          }
         },
         "name": "Cancer ",
         "offsetgroup": "Cancer ",
         "orientation": "v",
         "showlegend": true,
         "textposition": "auto",
         "type": "bar",
         "x": [
          "Cancer "
         ],
         "xaxis": "x",
         "y": [
          5570
         ],
         "yaxis": "y"
        },
        {
         "alignmentgroup": "True",
         "hovertemplate": "Research/Disease Areas \n (Dollars in millions and rounded)=%{x}<br>year=2008<br>value=%{y}<extra></extra>",
         "legendgroup": "Cardiovascular ",
         "marker": {
          "color": "#FF97FF",
          "pattern": {
           "shape": ""
          }
         },
         "name": "Cardiovascular ",
         "offsetgroup": "Cardiovascular ",
         "orientation": "v",
         "showlegend": true,
         "textposition": "auto",
         "type": "bar",
         "x": [
          "Cardiovascular "
         ],
         "xaxis": "x",
         "y": [
          2027
         ],
         "yaxis": "y"
        },
        {
         "alignmentgroup": "True",
         "hovertemplate": "Research/Disease Areas \n (Dollars in millions and rounded)=%{x}<br>year=2008<br>value=%{y}<extra></extra>",
         "legendgroup": "Heart Disease ",
         "marker": {
          "color": "#FECB52",
          "pattern": {
           "shape": ""
          }
         },
         "name": "Heart Disease ",
         "offsetgroup": "Heart Disease ",
         "orientation": "v",
         "showlegend": true,
         "textposition": "auto",
         "type": "bar",
         "x": [
          "Heart Disease "
         ],
         "xaxis": "x",
         "y": [
          1217
         ],
         "yaxis": "y"
        }
       ],
       "frames": [
        {
         "data": [
          {
           "alignmentgroup": "True",
           "hovertemplate": "Research/Disease Areas \n (Dollars in millions and rounded)=%{x}<br>year=2008<br>value=%{y}<extra></extra>",
           "legendgroup": "Sepsis 15",
           "marker": {
            "color": "#636efa",
            "pattern": {
             "shape": ""
            }
           },
           "name": "Sepsis 15",
           "offsetgroup": "Sepsis 15",
           "orientation": "v",
           "showlegend": true,
           "textposition": "auto",
           "type": "bar",
           "x": [
            "Sepsis 15"
           ],
           "xaxis": "x",
           "y": [
            95
           ],
           "yaxis": "y"
          },
          {
           "alignmentgroup": "True",
           "hovertemplate": "Research/Disease Areas \n (Dollars in millions and rounded)=%{x}<br>year=2008<br>value=%{y}<extra></extra>",
           "legendgroup": "Stroke ",
           "marker": {
            "color": "#EF553B",
            "pattern": {
             "shape": ""
            }
           },
           "name": "Stroke ",
           "offsetgroup": "Stroke ",
           "orientation": "v",
           "showlegend": true,
           "textposition": "auto",
           "type": "bar",
           "x": [
            "Stroke "
           ],
           "xaxis": "x",
           "y": [
            296
           ],
           "yaxis": "y"
          },
          {
           "alignmentgroup": "True",
           "hovertemplate": "Research/Disease Areas \n (Dollars in millions and rounded)=%{x}<br>year=2008<br>value=%{y}<extra></extra>",
           "legendgroup": "Cerebrovascular ",
           "marker": {
            "color": "#00cc96",
            "pattern": {
             "shape": ""
            }
           },
           "name": "Cerebrovascular ",
           "offsetgroup": "Cerebrovascular ",
           "orientation": "v",
           "showlegend": true,
           "textposition": "auto",
           "type": "bar",
           "x": [
            "Cerebrovascular "
           ],
           "xaxis": "x",
           "y": [
            -1
           ],
           "yaxis": "y"
          },
          {
           "alignmentgroup": "True",
           "hovertemplate": "Research/Disease Areas \n (Dollars in millions and rounded)=%{x}<br>year=2008<br>value=%{y}<extra></extra>",
           "legendgroup": "Diabetes 4",
           "marker": {
            "color": "#ab63fa",
            "pattern": {
             "shape": ""
            }
           },
           "name": "Diabetes 4",
           "offsetgroup": "Diabetes 4",
           "orientation": "v",
           "showlegend": true,
           "textposition": "auto",
           "type": "bar",
           "x": [
            "Diabetes 4"
           ],
           "xaxis": "x",
           "y": [
            1080
           ],
           "yaxis": "y"
          },
          {
           "alignmentgroup": "True",
           "hovertemplate": "Research/Disease Areas \n (Dollars in millions and rounded)=%{x}<br>year=2008<br>value=%{y}<extra></extra>",
           "legendgroup": "Chronic Obstructive Pulmonary Disease ",
           "marker": {
            "color": "#FFA15A",
            "pattern": {
             "shape": ""
            }
           },
           "name": "Chronic Obstructive Pulmonary Disease ",
           "offsetgroup": "Chronic Obstructive Pulmonary Disease ",
           "orientation": "v",
           "showlegend": true,
           "textposition": "auto",
           "type": "bar",
           "x": [
            "Chronic Obstructive Pulmonary Disease "
           ],
           "xaxis": "x",
           "y": [
            75
           ],
           "yaxis": "y"
          },
          {
           "alignmentgroup": "True",
           "hovertemplate": "Research/Disease Areas \n (Dollars in millions and rounded)=%{x}<br>year=2008<br>value=%{y}<extra></extra>",
           "legendgroup": "Hypertension ",
           "marker": {
            "color": "#19d3f3",
            "pattern": {
             "shape": ""
            }
           },
           "name": "Hypertension ",
           "offsetgroup": "Hypertension ",
           "orientation": "v",
           "showlegend": true,
           "textposition": "auto",
           "type": "bar",
           "x": [
            "Hypertension "
           ],
           "xaxis": "x",
           "y": [
            263
           ],
           "yaxis": "y"
          },
          {
           "alignmentgroup": "True",
           "hovertemplate": "Research/Disease Areas \n (Dollars in millions and rounded)=%{x}<br>year=2008<br>value=%{y}<extra></extra>",
           "legendgroup": "Heart Disease - Coronary Heart Disease ",
           "marker": {
            "color": "#FF6692",
            "pattern": {
             "shape": ""
            }
           },
           "name": "Heart Disease - Coronary Heart Disease ",
           "offsetgroup": "Heart Disease - Coronary Heart Disease ",
           "orientation": "v",
           "showlegend": true,
           "textposition": "auto",
           "type": "bar",
           "x": [
            "Heart Disease - Coronary Heart Disease "
           ],
           "xaxis": "x",
           "y": [
            367
           ],
           "yaxis": "y"
          },
          {
           "alignmentgroup": "True",
           "hovertemplate": "Research/Disease Areas \n (Dollars in millions and rounded)=%{x}<br>year=2008<br>value=%{y}<extra></extra>",
           "legendgroup": "Cancer ",
           "marker": {
            "color": "#B6E880",
            "pattern": {
             "shape": ""
            }
           },
           "name": "Cancer ",
           "offsetgroup": "Cancer ",
           "orientation": "v",
           "showlegend": true,
           "textposition": "auto",
           "type": "bar",
           "x": [
            "Cancer "
           ],
           "xaxis": "x",
           "y": [
            5570
           ],
           "yaxis": "y"
          },
          {
           "alignmentgroup": "True",
           "hovertemplate": "Research/Disease Areas \n (Dollars in millions and rounded)=%{x}<br>year=2008<br>value=%{y}<extra></extra>",
           "legendgroup": "Cardiovascular ",
           "marker": {
            "color": "#FF97FF",
            "pattern": {
             "shape": ""
            }
           },
           "name": "Cardiovascular ",
           "offsetgroup": "Cardiovascular ",
           "orientation": "v",
           "showlegend": true,
           "textposition": "auto",
           "type": "bar",
           "x": [
            "Cardiovascular "
           ],
           "xaxis": "x",
           "y": [
            2027
           ],
           "yaxis": "y"
          },
          {
           "alignmentgroup": "True",
           "hovertemplate": "Research/Disease Areas \n (Dollars in millions and rounded)=%{x}<br>year=2008<br>value=%{y}<extra></extra>",
           "legendgroup": "Heart Disease ",
           "marker": {
            "color": "#FECB52",
            "pattern": {
             "shape": ""
            }
           },
           "name": "Heart Disease ",
           "offsetgroup": "Heart Disease ",
           "orientation": "v",
           "showlegend": true,
           "textposition": "auto",
           "type": "bar",
           "x": [
            "Heart Disease "
           ],
           "xaxis": "x",
           "y": [
            1217
           ],
           "yaxis": "y"
          }
         ],
         "name": "2008"
        },
        {
         "data": [
          {
           "alignmentgroup": "True",
           "hovertemplate": "Research/Disease Areas \n (Dollars in millions and rounded)=%{x}<br>year=2009<br>value=%{y}<extra></extra>",
           "legendgroup": "Sepsis 15",
           "marker": {
            "color": "#636efa",
            "pattern": {
             "shape": ""
            }
           },
           "name": "Sepsis 15",
           "offsetgroup": "Sepsis 15",
           "orientation": "v",
           "showlegend": true,
           "textposition": "auto",
           "type": "bar",
           "x": [
            "Sepsis 15"
           ],
           "xaxis": "x",
           "y": [
            111
           ],
           "yaxis": "y"
          },
          {
           "alignmentgroup": "True",
           "hovertemplate": "Research/Disease Areas \n (Dollars in millions and rounded)=%{x}<br>year=2009<br>value=%{y}<extra></extra>",
           "legendgroup": "Stroke ",
           "marker": {
            "color": "#EF553B",
            "pattern": {
             "shape": ""
            }
           },
           "name": "Stroke ",
           "offsetgroup": "Stroke ",
           "orientation": "v",
           "showlegend": true,
           "textposition": "auto",
           "type": "bar",
           "x": [
            "Stroke "
           ],
           "xaxis": "x",
           "y": [
            383
           ],
           "yaxis": "y"
          },
          {
           "alignmentgroup": "True",
           "hovertemplate": "Research/Disease Areas \n (Dollars in millions and rounded)=%{x}<br>year=2009<br>value=%{y}<extra></extra>",
           "legendgroup": "Cerebrovascular ",
           "marker": {
            "color": "#00cc96",
            "pattern": {
             "shape": ""
            }
           },
           "name": "Cerebrovascular ",
           "offsetgroup": "Cerebrovascular ",
           "orientation": "v",
           "showlegend": true,
           "textposition": "auto",
           "type": "bar",
           "x": [
            "Cerebrovascular "
           ],
           "xaxis": "x",
           "y": [
            -2
           ],
           "yaxis": "y"
          },
          {
           "alignmentgroup": "True",
           "hovertemplate": "Research/Disease Areas \n (Dollars in millions and rounded)=%{x}<br>year=2009<br>value=%{y}<extra></extra>",
           "legendgroup": "Diabetes 4",
           "marker": {
            "color": "#ab63fa",
            "pattern": {
             "shape": ""
            }
           },
           "name": "Diabetes 4",
           "offsetgroup": "Diabetes 4",
           "orientation": "v",
           "showlegend": true,
           "textposition": "auto",
           "type": "bar",
           "x": [
            "Diabetes 4"
           ],
           "xaxis": "x",
           "y": [
            1151
           ],
           "yaxis": "y"
          },
          {
           "alignmentgroup": "True",
           "hovertemplate": "Research/Disease Areas \n (Dollars in millions and rounded)=%{x}<br>year=2009<br>value=%{y}<extra></extra>",
           "legendgroup": "Chronic Obstructive Pulmonary Disease ",
           "marker": {
            "color": "#FFA15A",
            "pattern": {
             "shape": ""
            }
           },
           "name": "Chronic Obstructive Pulmonary Disease ",
           "offsetgroup": "Chronic Obstructive Pulmonary Disease ",
           "orientation": "v",
           "showlegend": true,
           "textposition": "auto",
           "type": "bar",
           "x": [
            "Chronic Obstructive Pulmonary Disease "
           ],
           "xaxis": "x",
           "y": [
            114
           ],
           "yaxis": "y"
          },
          {
           "alignmentgroup": "True",
           "hovertemplate": "Research/Disease Areas \n (Dollars in millions and rounded)=%{x}<br>year=2009<br>value=%{y}<extra></extra>",
           "legendgroup": "Hypertension ",
           "marker": {
            "color": "#19d3f3",
            "pattern": {
             "shape": ""
            }
           },
           "name": "Hypertension ",
           "offsetgroup": "Hypertension ",
           "orientation": "v",
           "showlegend": true,
           "textposition": "auto",
           "type": "bar",
           "x": [
            "Hypertension "
           ],
           "xaxis": "x",
           "y": [
            307
           ],
           "yaxis": "y"
          },
          {
           "alignmentgroup": "True",
           "hovertemplate": "Research/Disease Areas \n (Dollars in millions and rounded)=%{x}<br>year=2009<br>value=%{y}<extra></extra>",
           "legendgroup": "Heart Disease - Coronary Heart Disease ",
           "marker": {
            "color": "#FF6692",
            "pattern": {
             "shape": ""
            }
           },
           "name": "Heart Disease - Coronary Heart Disease ",
           "offsetgroup": "Heart Disease - Coronary Heart Disease ",
           "orientation": "v",
           "showlegend": true,
           "textposition": "auto",
           "type": "bar",
           "x": [
            "Heart Disease - Coronary Heart Disease "
           ],
           "xaxis": "x",
           "y": [
            524
           ],
           "yaxis": "y"
          },
          {
           "alignmentgroup": "True",
           "hovertemplate": "Research/Disease Areas \n (Dollars in millions and rounded)=%{x}<br>year=2009<br>value=%{y}<extra></extra>",
           "legendgroup": "Cancer ",
           "marker": {
            "color": "#B6E880",
            "pattern": {
             "shape": ""
            }
           },
           "name": "Cancer ",
           "offsetgroup": "Cancer ",
           "orientation": "v",
           "showlegend": true,
           "textposition": "auto",
           "type": "bar",
           "x": [
            "Cancer "
           ],
           "xaxis": "x",
           "y": [
            6749
           ],
           "yaxis": "y"
          },
          {
           "alignmentgroup": "True",
           "hovertemplate": "Research/Disease Areas \n (Dollars in millions and rounded)=%{x}<br>year=2009<br>value=%{y}<extra></extra>",
           "legendgroup": "Cardiovascular ",
           "marker": {
            "color": "#FF97FF",
            "pattern": {
             "shape": ""
            }
           },
           "name": "Cardiovascular ",
           "offsetgroup": "Cardiovascular ",
           "orientation": "v",
           "showlegend": true,
           "textposition": "auto",
           "type": "bar",
           "x": [
            "Cardiovascular "
           ],
           "xaxis": "x",
           "y": [
            2404
           ],
           "yaxis": "y"
          },
          {
           "alignmentgroup": "True",
           "hovertemplate": "Research/Disease Areas \n (Dollars in millions and rounded)=%{x}<br>year=2009<br>value=%{y}<extra></extra>",
           "legendgroup": "Heart Disease ",
           "marker": {
            "color": "#FECB52",
            "pattern": {
             "shape": ""
            }
           },
           "name": "Heart Disease ",
           "offsetgroup": "Heart Disease ",
           "orientation": "v",
           "showlegend": true,
           "textposition": "auto",
           "type": "bar",
           "x": [
            "Heart Disease "
           ],
           "xaxis": "x",
           "y": [
            1429
           ],
           "yaxis": "y"
          }
         ],
         "name": "2009"
        },
        {
         "data": [
          {
           "alignmentgroup": "True",
           "hovertemplate": "Research/Disease Areas \n (Dollars in millions and rounded)=%{x}<br>year=2010<br>value=%{y}<extra></extra>",
           "legendgroup": "Sepsis 15",
           "marker": {
            "color": "#636efa",
            "pattern": {
             "shape": ""
            }
           },
           "name": "Sepsis 15",
           "offsetgroup": "Sepsis 15",
           "orientation": "v",
           "showlegend": true,
           "textposition": "auto",
           "type": "bar",
           "x": [
            "Sepsis 15"
           ],
           "xaxis": "x",
           "y": [
            107
           ],
           "yaxis": "y"
          },
          {
           "alignmentgroup": "True",
           "hovertemplate": "Research/Disease Areas \n (Dollars in millions and rounded)=%{x}<br>year=2010<br>value=%{y}<extra></extra>",
           "legendgroup": "Stroke ",
           "marker": {
            "color": "#EF553B",
            "pattern": {
             "shape": ""
            }
           },
           "name": "Stroke ",
           "offsetgroup": "Stroke ",
           "orientation": "v",
           "showlegend": true,
           "textposition": "auto",
           "type": "bar",
           "x": [
            "Stroke "
           ],
           "xaxis": "x",
           "y": [
            391
           ],
           "yaxis": "y"
          },
          {
           "alignmentgroup": "True",
           "hovertemplate": "Research/Disease Areas \n (Dollars in millions and rounded)=%{x}<br>year=2010<br>value=%{y}<extra></extra>",
           "legendgroup": "Cerebrovascular ",
           "marker": {
            "color": "#00cc96",
            "pattern": {
             "shape": ""
            }
           },
           "name": "Cerebrovascular ",
           "offsetgroup": "Cerebrovascular ",
           "orientation": "v",
           "showlegend": true,
           "textposition": "auto",
           "type": "bar",
           "x": [
            "Cerebrovascular "
           ],
           "xaxis": "x",
           "y": [
            -2
           ],
           "yaxis": "y"
          },
          {
           "alignmentgroup": "True",
           "hovertemplate": "Research/Disease Areas \n (Dollars in millions and rounded)=%{x}<br>year=2010<br>value=%{y}<extra></extra>",
           "legendgroup": "Diabetes 4",
           "marker": {
            "color": "#ab63fa",
            "pattern": {
             "shape": ""
            }
           },
           "name": "Diabetes 4",
           "offsetgroup": "Diabetes 4",
           "orientation": "v",
           "showlegend": true,
           "textposition": "auto",
           "type": "bar",
           "x": [
            "Diabetes 4"
           ],
           "xaxis": "x",
           "y": [
            1199
           ],
           "yaxis": "y"
          },
          {
           "alignmentgroup": "True",
           "hovertemplate": "Research/Disease Areas \n (Dollars in millions and rounded)=%{x}<br>year=2010<br>value=%{y}<extra></extra>",
           "legendgroup": "Chronic Obstructive Pulmonary Disease ",
           "marker": {
            "color": "#FFA15A",
            "pattern": {
             "shape": ""
            }
           },
           "name": "Chronic Obstructive Pulmonary Disease ",
           "offsetgroup": "Chronic Obstructive Pulmonary Disease ",
           "orientation": "v",
           "showlegend": true,
           "textposition": "auto",
           "type": "bar",
           "x": [
            "Chronic Obstructive Pulmonary Disease "
           ],
           "xaxis": "x",
           "y": [
            133
           ],
           "yaxis": "y"
          },
          {
           "alignmentgroup": "True",
           "hovertemplate": "Research/Disease Areas \n (Dollars in millions and rounded)=%{x}<br>year=2010<br>value=%{y}<extra></extra>",
           "legendgroup": "Hypertension ",
           "marker": {
            "color": "#19d3f3",
            "pattern": {
             "shape": ""
            }
           },
           "name": "Hypertension ",
           "offsetgroup": "Hypertension ",
           "orientation": "v",
           "showlegend": true,
           "textposition": "auto",
           "type": "bar",
           "x": [
            "Hypertension "
           ],
           "xaxis": "x",
           "y": [
            301
           ],
           "yaxis": "y"
          },
          {
           "alignmentgroup": "True",
           "hovertemplate": "Research/Disease Areas \n (Dollars in millions and rounded)=%{x}<br>year=2010<br>value=%{y}<extra></extra>",
           "legendgroup": "Heart Disease - Coronary Heart Disease ",
           "marker": {
            "color": "#FF6692",
            "pattern": {
             "shape": ""
            }
           },
           "name": "Heart Disease - Coronary Heart Disease ",
           "offsetgroup": "Heart Disease - Coronary Heart Disease ",
           "orientation": "v",
           "showlegend": true,
           "textposition": "auto",
           "type": "bar",
           "x": [
            "Heart Disease - Coronary Heart Disease "
           ],
           "xaxis": "x",
           "y": [
            537
           ],
           "yaxis": "y"
          },
          {
           "alignmentgroup": "True",
           "hovertemplate": "Research/Disease Areas \n (Dollars in millions and rounded)=%{x}<br>year=2010<br>value=%{y}<extra></extra>",
           "legendgroup": "Cancer ",
           "marker": {
            "color": "#B6E880",
            "pattern": {
             "shape": ""
            }
           },
           "name": "Cancer ",
           "offsetgroup": "Cancer ",
           "orientation": "v",
           "showlegend": true,
           "textposition": "auto",
           "type": "bar",
           "x": [
            "Cancer "
           ],
           "xaxis": "x",
           "y": [
            6626
           ],
           "yaxis": "y"
          },
          {
           "alignmentgroup": "True",
           "hovertemplate": "Research/Disease Areas \n (Dollars in millions and rounded)=%{x}<br>year=2010<br>value=%{y}<extra></extra>",
           "legendgroup": "Cardiovascular ",
           "marker": {
            "color": "#FF97FF",
            "pattern": {
             "shape": ""
            }
           },
           "name": "Cardiovascular ",
           "offsetgroup": "Cardiovascular ",
           "orientation": "v",
           "showlegend": true,
           "textposition": "auto",
           "type": "bar",
           "x": [
            "Cardiovascular "
           ],
           "xaxis": "x",
           "y": [
            2542
           ],
           "yaxis": "y"
          },
          {
           "alignmentgroup": "True",
           "hovertemplate": "Research/Disease Areas \n (Dollars in millions and rounded)=%{x}<br>year=2010<br>value=%{y}<extra></extra>",
           "legendgroup": "Heart Disease ",
           "marker": {
            "color": "#FECB52",
            "pattern": {
             "shape": ""
            }
           },
           "name": "Heart Disease ",
           "offsetgroup": "Heart Disease ",
           "orientation": "v",
           "showlegend": true,
           "textposition": "auto",
           "type": "bar",
           "x": [
            "Heart Disease "
           ],
           "xaxis": "x",
           "y": [
            1564
           ],
           "yaxis": "y"
          }
         ],
         "name": "2010"
        },
        {
         "data": [
          {
           "alignmentgroup": "True",
           "hovertemplate": "Research/Disease Areas \n (Dollars in millions and rounded)=%{x}<br>year=2011<br>value=%{y}<extra></extra>",
           "legendgroup": "Sepsis 15",
           "marker": {
            "color": "#636efa",
            "pattern": {
             "shape": ""
            }
           },
           "name": "Sepsis 15",
           "offsetgroup": "Sepsis 15",
           "orientation": "v",
           "showlegend": true,
           "textposition": "auto",
           "type": "bar",
           "x": [
            "Sepsis 15"
           ],
           "xaxis": "x",
           "y": [
            91
           ],
           "yaxis": "y"
          },
          {
           "alignmentgroup": "True",
           "hovertemplate": "Research/Disease Areas \n (Dollars in millions and rounded)=%{x}<br>year=2011<br>value=%{y}<extra></extra>",
           "legendgroup": "Stroke ",
           "marker": {
            "color": "#EF553B",
            "pattern": {
             "shape": ""
            }
           },
           "name": "Stroke ",
           "offsetgroup": "Stroke ",
           "orientation": "v",
           "showlegend": true,
           "textposition": "auto",
           "type": "bar",
           "x": [
            "Stroke "
           ],
           "xaxis": "x",
           "y": [
            317
           ],
           "yaxis": "y"
          },
          {
           "alignmentgroup": "True",
           "hovertemplate": "Research/Disease Areas \n (Dollars in millions and rounded)=%{x}<br>year=2011<br>value=%{y}<extra></extra>",
           "legendgroup": "Cerebrovascular ",
           "marker": {
            "color": "#00cc96",
            "pattern": {
             "shape": ""
            }
           },
           "name": "Cerebrovascular ",
           "offsetgroup": "Cerebrovascular ",
           "orientation": "v",
           "showlegend": true,
           "textposition": "auto",
           "type": "bar",
           "x": [
            "Cerebrovascular "
           ],
           "xaxis": "x",
           "y": [
            -1
           ],
           "yaxis": "y"
          },
          {
           "alignmentgroup": "True",
           "hovertemplate": "Research/Disease Areas \n (Dollars in millions and rounded)=%{x}<br>year=2011<br>value=%{y}<extra></extra>",
           "legendgroup": "Diabetes 4",
           "marker": {
            "color": "#ab63fa",
            "pattern": {
             "shape": ""
            }
           },
           "name": "Diabetes 4",
           "offsetgroup": "Diabetes 4",
           "orientation": "v",
           "showlegend": true,
           "textposition": "auto",
           "type": "bar",
           "x": [
            "Diabetes 4"
           ],
           "xaxis": "x",
           "y": [
            1076
           ],
           "yaxis": "y"
          },
          {
           "alignmentgroup": "True",
           "hovertemplate": "Research/Disease Areas \n (Dollars in millions and rounded)=%{x}<br>year=2011<br>value=%{y}<extra></extra>",
           "legendgroup": "Chronic Obstructive Pulmonary Disease ",
           "marker": {
            "color": "#FFA15A",
            "pattern": {
             "shape": ""
            }
           },
           "name": "Chronic Obstructive Pulmonary Disease ",
           "offsetgroup": "Chronic Obstructive Pulmonary Disease ",
           "orientation": "v",
           "showlegend": true,
           "textposition": "auto",
           "type": "bar",
           "x": [
            "Chronic Obstructive Pulmonary Disease "
           ],
           "xaxis": "x",
           "y": [
            108
           ],
           "yaxis": "y"
          },
          {
           "alignmentgroup": "True",
           "hovertemplate": "Research/Disease Areas \n (Dollars in millions and rounded)=%{x}<br>year=2011<br>value=%{y}<extra></extra>",
           "legendgroup": "Hypertension ",
           "marker": {
            "color": "#19d3f3",
            "pattern": {
             "shape": ""
            }
           },
           "name": "Hypertension ",
           "offsetgroup": "Hypertension ",
           "orientation": "v",
           "showlegend": true,
           "textposition": "auto",
           "type": "bar",
           "x": [
            "Hypertension "
           ],
           "xaxis": "x",
           "y": [
            240
           ],
           "yaxis": "y"
          },
          {
           "alignmentgroup": "True",
           "hovertemplate": "Research/Disease Areas \n (Dollars in millions and rounded)=%{x}<br>year=2011<br>value=%{y}<extra></extra>",
           "legendgroup": "Heart Disease - Coronary Heart Disease ",
           "marker": {
            "color": "#FF6692",
            "pattern": {
             "shape": ""
            }
           },
           "name": "Heart Disease - Coronary Heart Disease ",
           "offsetgroup": "Heart Disease - Coronary Heart Disease ",
           "orientation": "v",
           "showlegend": true,
           "textposition": "auto",
           "type": "bar",
           "x": [
            "Heart Disease - Coronary Heart Disease "
           ],
           "xaxis": "x",
           "y": [
            437
           ],
           "yaxis": "y"
          },
          {
           "alignmentgroup": "True",
           "hovertemplate": "Research/Disease Areas \n (Dollars in millions and rounded)=%{x}<br>year=2011<br>value=%{y}<extra></extra>",
           "legendgroup": "Cancer ",
           "marker": {
            "color": "#B6E880",
            "pattern": {
             "shape": ""
            }
           },
           "name": "Cancer ",
           "offsetgroup": "Cancer ",
           "orientation": "v",
           "showlegend": true,
           "textposition": "auto",
           "type": "bar",
           "x": [
            "Cancer "
           ],
           "xaxis": "x",
           "y": [
            5448
           ],
           "yaxis": "y"
          },
          {
           "alignmentgroup": "True",
           "hovertemplate": "Research/Disease Areas \n (Dollars in millions and rounded)=%{x}<br>year=2011<br>value=%{y}<extra></extra>",
           "legendgroup": "Cardiovascular ",
           "marker": {
            "color": "#FF97FF",
            "pattern": {
             "shape": ""
            }
           },
           "name": "Cardiovascular ",
           "offsetgroup": "Cardiovascular ",
           "orientation": "v",
           "showlegend": true,
           "textposition": "auto",
           "type": "bar",
           "x": [
            "Cardiovascular "
           ],
           "xaxis": "x",
           "y": [
            2049
           ],
           "yaxis": "y"
          },
          {
           "alignmentgroup": "True",
           "hovertemplate": "Research/Disease Areas \n (Dollars in millions and rounded)=%{x}<br>year=2011<br>value=%{y}<extra></extra>",
           "legendgroup": "Heart Disease ",
           "marker": {
            "color": "#FECB52",
            "pattern": {
             "shape": ""
            }
           },
           "name": "Heart Disease ",
           "offsetgroup": "Heart Disease ",
           "orientation": "v",
           "showlegend": true,
           "textposition": "auto",
           "type": "bar",
           "x": [
            "Heart Disease "
           ],
           "xaxis": "x",
           "y": [
            1236
           ],
           "yaxis": "y"
          }
         ],
         "name": "2011"
        },
        {
         "data": [
          {
           "alignmentgroup": "True",
           "hovertemplate": "Research/Disease Areas \n (Dollars in millions and rounded)=%{x}<br>year=2012<br>value=%{y}<extra></extra>",
           "legendgroup": "Sepsis 15",
           "marker": {
            "color": "#636efa",
            "pattern": {
             "shape": ""
            }
           },
           "name": "Sepsis 15",
           "offsetgroup": "Sepsis 15",
           "orientation": "v",
           "showlegend": true,
           "textposition": "auto",
           "type": "bar",
           "x": [
            "Sepsis 15"
           ],
           "xaxis": "x",
           "y": [
            96
           ],
           "yaxis": "y"
          },
          {
           "alignmentgroup": "True",
           "hovertemplate": "Research/Disease Areas \n (Dollars in millions and rounded)=%{x}<br>year=2012<br>value=%{y}<extra></extra>",
           "legendgroup": "Stroke ",
           "marker": {
            "color": "#EF553B",
            "pattern": {
             "shape": ""
            }
           },
           "name": "Stroke ",
           "offsetgroup": "Stroke ",
           "orientation": "v",
           "showlegend": true,
           "textposition": "auto",
           "type": "bar",
           "x": [
            "Stroke "
           ],
           "xaxis": "x",
           "y": [
            310
           ],
           "yaxis": "y"
          },
          {
           "alignmentgroup": "True",
           "hovertemplate": "Research/Disease Areas \n (Dollars in millions and rounded)=%{x}<br>year=2012<br>value=%{y}<extra></extra>",
           "legendgroup": "Cerebrovascular ",
           "marker": {
            "color": "#00cc96",
            "pattern": {
             "shape": ""
            }
           },
           "name": "Cerebrovascular ",
           "offsetgroup": "Cerebrovascular ",
           "orientation": "v",
           "showlegend": true,
           "textposition": "auto",
           "type": "bar",
           "x": [
            "Cerebrovascular "
           ],
           "xaxis": "x",
           "y": [
            -1
           ],
           "yaxis": "y"
          },
          {
           "alignmentgroup": "True",
           "hovertemplate": "Research/Disease Areas \n (Dollars in millions and rounded)=%{x}<br>year=2012<br>value=%{y}<extra></extra>",
           "legendgroup": "Diabetes 4",
           "marker": {
            "color": "#ab63fa",
            "pattern": {
             "shape": ""
            }
           },
           "name": "Diabetes 4",
           "offsetgroup": "Diabetes 4",
           "orientation": "v",
           "showlegend": true,
           "textposition": "auto",
           "type": "bar",
           "x": [
            "Diabetes 4"
           ],
           "xaxis": "x",
           "y": [
            1061
           ],
           "yaxis": "y"
          },
          {
           "alignmentgroup": "True",
           "hovertemplate": "Research/Disease Areas \n (Dollars in millions and rounded)=%{x}<br>year=2012<br>value=%{y}<extra></extra>",
           "legendgroup": "Chronic Obstructive Pulmonary Disease ",
           "marker": {
            "color": "#FFA15A",
            "pattern": {
             "shape": ""
            }
           },
           "name": "Chronic Obstructive Pulmonary Disease ",
           "offsetgroup": "Chronic Obstructive Pulmonary Disease ",
           "orientation": "v",
           "showlegend": true,
           "textposition": "auto",
           "type": "bar",
           "x": [
            "Chronic Obstructive Pulmonary Disease "
           ],
           "xaxis": "x",
           "y": [
            101
           ],
           "yaxis": "y"
          },
          {
           "alignmentgroup": "True",
           "hovertemplate": "Research/Disease Areas \n (Dollars in millions and rounded)=%{x}<br>year=2012<br>value=%{y}<extra></extra>",
           "legendgroup": "Hypertension ",
           "marker": {
            "color": "#19d3f3",
            "pattern": {
             "shape": ""
            }
           },
           "name": "Hypertension ",
           "offsetgroup": "Hypertension ",
           "orientation": "v",
           "showlegend": true,
           "textposition": "auto",
           "type": "bar",
           "x": [
            "Hypertension "
           ],
           "xaxis": "x",
           "y": [
            215
           ],
           "yaxis": "y"
          },
          {
           "alignmentgroup": "True",
           "hovertemplate": "Research/Disease Areas \n (Dollars in millions and rounded)=%{x}<br>year=2012<br>value=%{y}<extra></extra>",
           "legendgroup": "Heart Disease - Coronary Heart Disease ",
           "marker": {
            "color": "#FF6692",
            "pattern": {
             "shape": ""
            }
           },
           "name": "Heart Disease - Coronary Heart Disease ",
           "offsetgroup": "Heart Disease - Coronary Heart Disease ",
           "orientation": "v",
           "showlegend": true,
           "textposition": "auto",
           "type": "bar",
           "x": [
            "Heart Disease - Coronary Heart Disease "
           ],
           "xaxis": "x",
           "y": [
            468
           ],
           "yaxis": "y"
          },
          {
           "alignmentgroup": "True",
           "hovertemplate": "Research/Disease Areas \n (Dollars in millions and rounded)=%{x}<br>year=2012<br>value=%{y}<extra></extra>",
           "legendgroup": "Cancer ",
           "marker": {
            "color": "#B6E880",
            "pattern": {
             "shape": ""
            }
           },
           "name": "Cancer ",
           "offsetgroup": "Cancer ",
           "orientation": "v",
           "showlegend": true,
           "textposition": "auto",
           "type": "bar",
           "x": [
            "Cancer "
           ],
           "xaxis": "x",
           "y": [
            5621
           ],
           "yaxis": "y"
          },
          {
           "alignmentgroup": "True",
           "hovertemplate": "Research/Disease Areas \n (Dollars in millions and rounded)=%{x}<br>year=2012<br>value=%{y}<extra></extra>",
           "legendgroup": "Cardiovascular ",
           "marker": {
            "color": "#FF97FF",
            "pattern": {
             "shape": ""
            }
           },
           "name": "Cardiovascular ",
           "offsetgroup": "Cardiovascular ",
           "orientation": "v",
           "showlegend": true,
           "textposition": "auto",
           "type": "bar",
           "x": [
            "Cardiovascular "
           ],
           "xaxis": "x",
           "y": [
            2040
           ],
           "yaxis": "y"
          },
          {
           "alignmentgroup": "True",
           "hovertemplate": "Research/Disease Areas \n (Dollars in millions and rounded)=%{x}<br>year=2012<br>value=%{y}<extra></extra>",
           "legendgroup": "Heart Disease ",
           "marker": {
            "color": "#FECB52",
            "pattern": {
             "shape": ""
            }
           },
           "name": "Heart Disease ",
           "offsetgroup": "Heart Disease ",
           "orientation": "v",
           "showlegend": true,
           "textposition": "auto",
           "type": "bar",
           "x": [
            "Heart Disease "
           ],
           "xaxis": "x",
           "y": [
            1278
           ],
           "yaxis": "y"
          }
         ],
         "name": "2012"
        },
        {
         "data": [
          {
           "alignmentgroup": "True",
           "hovertemplate": "Research/Disease Areas \n (Dollars in millions and rounded)=%{x}<br>year=2013<br>value=%{y}<extra></extra>",
           "legendgroup": "Sepsis 15",
           "marker": {
            "color": "#636efa",
            "pattern": {
             "shape": ""
            }
           },
           "name": "Sepsis 15",
           "offsetgroup": "Sepsis 15",
           "orientation": "v",
           "showlegend": true,
           "textposition": "auto",
           "type": "bar",
           "x": [
            "Sepsis 15"
           ],
           "xaxis": "x",
           "y": [
            88
           ],
           "yaxis": "y"
          },
          {
           "alignmentgroup": "True",
           "hovertemplate": "Research/Disease Areas \n (Dollars in millions and rounded)=%{x}<br>year=2013<br>value=%{y}<extra></extra>",
           "legendgroup": "Stroke ",
           "marker": {
            "color": "#EF553B",
            "pattern": {
             "shape": ""
            }
           },
           "name": "Stroke ",
           "offsetgroup": "Stroke ",
           "orientation": "v",
           "showlegend": true,
           "textposition": "auto",
           "type": "bar",
           "x": [
            "Stroke "
           ],
           "xaxis": "x",
           "y": [
            282
           ],
           "yaxis": "y"
          },
          {
           "alignmentgroup": "True",
           "hovertemplate": "Research/Disease Areas \n (Dollars in millions and rounded)=%{x}<br>year=2013<br>value=%{y}<extra></extra>",
           "legendgroup": "Cerebrovascular ",
           "marker": {
            "color": "#00cc96",
            "pattern": {
             "shape": ""
            }
           },
           "name": "Cerebrovascular ",
           "offsetgroup": "Cerebrovascular ",
           "orientation": "v",
           "showlegend": true,
           "textposition": "auto",
           "type": "bar",
           "x": [
            "Cerebrovascular "
           ],
           "xaxis": "x",
           "y": [
            -1
           ],
           "yaxis": "y"
          },
          {
           "alignmentgroup": "True",
           "hovertemplate": "Research/Disease Areas \n (Dollars in millions and rounded)=%{x}<br>year=2013<br>value=%{y}<extra></extra>",
           "legendgroup": "Diabetes 4",
           "marker": {
            "color": "#ab63fa",
            "pattern": {
             "shape": ""
            }
           },
           "name": "Diabetes 4",
           "offsetgroup": "Diabetes 4",
           "orientation": "v",
           "showlegend": true,
           "textposition": "auto",
           "type": "bar",
           "x": [
            "Diabetes 4"
           ],
           "xaxis": "x",
           "y": [
            1007
           ],
           "yaxis": "y"
          },
          {
           "alignmentgroup": "True",
           "hovertemplate": "Research/Disease Areas \n (Dollars in millions and rounded)=%{x}<br>year=2013<br>value=%{y}<extra></extra>",
           "legendgroup": "Chronic Obstructive Pulmonary Disease ",
           "marker": {
            "color": "#FFA15A",
            "pattern": {
             "shape": ""
            }
           },
           "name": "Chronic Obstructive Pulmonary Disease ",
           "offsetgroup": "Chronic Obstructive Pulmonary Disease ",
           "orientation": "v",
           "showlegend": true,
           "textposition": "auto",
           "type": "bar",
           "x": [
            "Chronic Obstructive Pulmonary Disease "
           ],
           "xaxis": "x",
           "y": [
            102
           ],
           "yaxis": "y"
          },
          {
           "alignmentgroup": "True",
           "hovertemplate": "Research/Disease Areas \n (Dollars in millions and rounded)=%{x}<br>year=2013<br>value=%{y}<extra></extra>",
           "legendgroup": "Hypertension ",
           "marker": {
            "color": "#19d3f3",
            "pattern": {
             "shape": ""
            }
           },
           "name": "Hypertension ",
           "offsetgroup": "Hypertension ",
           "orientation": "v",
           "showlegend": true,
           "textposition": "auto",
           "type": "bar",
           "x": [
            "Hypertension "
           ],
           "xaxis": "x",
           "y": [
            222
           ],
           "yaxis": "y"
          },
          {
           "alignmentgroup": "True",
           "hovertemplate": "Research/Disease Areas \n (Dollars in millions and rounded)=%{x}<br>year=2013<br>value=%{y}<extra></extra>",
           "legendgroup": "Heart Disease - Coronary Heart Disease ",
           "marker": {
            "color": "#FF6692",
            "pattern": {
             "shape": ""
            }
           },
           "name": "Heart Disease - Coronary Heart Disease ",
           "offsetgroup": "Heart Disease - Coronary Heart Disease ",
           "orientation": "v",
           "showlegend": true,
           "textposition": "auto",
           "type": "bar",
           "x": [
            "Heart Disease - Coronary Heart Disease "
           ],
           "xaxis": "x",
           "y": [
            404
           ],
           "yaxis": "y"
          },
          {
           "alignmentgroup": "True",
           "hovertemplate": "Research/Disease Areas \n (Dollars in millions and rounded)=%{x}<br>year=2013<br>value=%{y}<extra></extra>",
           "legendgroup": "Cancer ",
           "marker": {
            "color": "#B6E880",
            "pattern": {
             "shape": ""
            }
           },
           "name": "Cancer ",
           "offsetgroup": "Cancer ",
           "orientation": "v",
           "showlegend": true,
           "textposition": "auto",
           "type": "bar",
           "x": [
            "Cancer "
           ],
           "xaxis": "x",
           "y": [
            5274
           ],
           "yaxis": "y"
          },
          {
           "alignmentgroup": "True",
           "hovertemplate": "Research/Disease Areas \n (Dollars in millions and rounded)=%{x}<br>year=2013<br>value=%{y}<extra></extra>",
           "legendgroup": "Cardiovascular ",
           "marker": {
            "color": "#FF97FF",
            "pattern": {
             "shape": ""
            }
           },
           "name": "Cardiovascular ",
           "offsetgroup": "Cardiovascular ",
           "orientation": "v",
           "showlegend": true,
           "textposition": "auto",
           "type": "bar",
           "x": [
            "Cardiovascular "
           ],
           "xaxis": "x",
           "y": [
            1964
           ],
           "yaxis": "y"
          },
          {
           "alignmentgroup": "True",
           "hovertemplate": "Research/Disease Areas \n (Dollars in millions and rounded)=%{x}<br>year=2013<br>value=%{y}<extra></extra>",
           "legendgroup": "Heart Disease ",
           "marker": {
            "color": "#FECB52",
            "pattern": {
             "shape": ""
            }
           },
           "name": "Heart Disease ",
           "offsetgroup": "Heart Disease ",
           "orientation": "v",
           "showlegend": true,
           "textposition": "auto",
           "type": "bar",
           "x": [
            "Heart Disease "
           ],
           "xaxis": "x",
           "y": [
            1230
           ],
           "yaxis": "y"
          }
         ],
         "name": "2013"
        },
        {
         "data": [
          {
           "alignmentgroup": "True",
           "hovertemplate": "Research/Disease Areas \n (Dollars in millions and rounded)=%{x}<br>year=2014<br>value=%{y}<extra></extra>",
           "legendgroup": "Sepsis 15",
           "marker": {
            "color": "#636efa",
            "pattern": {
             "shape": ""
            }
           },
           "name": "Sepsis 15",
           "offsetgroup": "Sepsis 15",
           "orientation": "v",
           "showlegend": true,
           "textposition": "auto",
           "type": "bar",
           "x": [
            "Sepsis 15"
           ],
           "xaxis": "x",
           "y": [
            100
           ],
           "yaxis": "y"
          },
          {
           "alignmentgroup": "True",
           "hovertemplate": "Research/Disease Areas \n (Dollars in millions and rounded)=%{x}<br>year=2014<br>value=%{y}<extra></extra>",
           "legendgroup": "Stroke ",
           "marker": {
            "color": "#EF553B",
            "pattern": {
             "shape": ""
            }
           },
           "name": "Stroke ",
           "offsetgroup": "Stroke ",
           "orientation": "v",
           "showlegend": true,
           "textposition": "auto",
           "type": "bar",
           "x": [
            "Stroke "
           ],
           "xaxis": "x",
           "y": [
            300
           ],
           "yaxis": "y"
          },
          {
           "alignmentgroup": "True",
           "hovertemplate": "Research/Disease Areas \n (Dollars in millions and rounded)=%{x}<br>year=2014<br>value=%{y}<extra></extra>",
           "legendgroup": "Cerebrovascular ",
           "marker": {
            "color": "#00cc96",
            "pattern": {
             "shape": ""
            }
           },
           "name": "Cerebrovascular ",
           "offsetgroup": "Cerebrovascular ",
           "orientation": "v",
           "showlegend": true,
           "textposition": "auto",
           "type": "bar",
           "x": [
            "Cerebrovascular "
           ],
           "xaxis": "x",
           "y": [
            -1
           ],
           "yaxis": "y"
          },
          {
           "alignmentgroup": "True",
           "hovertemplate": "Research/Disease Areas \n (Dollars in millions and rounded)=%{x}<br>year=2014<br>value=%{y}<extra></extra>",
           "legendgroup": "Diabetes 4",
           "marker": {
            "color": "#ab63fa",
            "pattern": {
             "shape": ""
            }
           },
           "name": "Diabetes 4",
           "offsetgroup": "Diabetes 4",
           "orientation": "v",
           "showlegend": true,
           "textposition": "auto",
           "type": "bar",
           "x": [
            "Diabetes 4"
           ],
           "xaxis": "x",
           "y": [
            1011
           ],
           "yaxis": "y"
          },
          {
           "alignmentgroup": "True",
           "hovertemplate": "Research/Disease Areas \n (Dollars in millions and rounded)=%{x}<br>year=2014<br>value=%{y}<extra></extra>",
           "legendgroup": "Chronic Obstructive Pulmonary Disease ",
           "marker": {
            "color": "#FFA15A",
            "pattern": {
             "shape": ""
            }
           },
           "name": "Chronic Obstructive Pulmonary Disease ",
           "offsetgroup": "Chronic Obstructive Pulmonary Disease ",
           "orientation": "v",
           "showlegend": true,
           "textposition": "auto",
           "type": "bar",
           "x": [
            "Chronic Obstructive Pulmonary Disease "
           ],
           "xaxis": "x",
           "y": [
            107
           ],
           "yaxis": "y"
          },
          {
           "alignmentgroup": "True",
           "hovertemplate": "Research/Disease Areas \n (Dollars in millions and rounded)=%{x}<br>year=2014<br>value=%{y}<extra></extra>",
           "legendgroup": "Hypertension ",
           "marker": {
            "color": "#19d3f3",
            "pattern": {
             "shape": ""
            }
           },
           "name": "Hypertension ",
           "offsetgroup": "Hypertension ",
           "orientation": "v",
           "showlegend": true,
           "textposition": "auto",
           "type": "bar",
           "x": [
            "Hypertension "
           ],
           "xaxis": "x",
           "y": [
            216
           ],
           "yaxis": "y"
          },
          {
           "alignmentgroup": "True",
           "hovertemplate": "Research/Disease Areas \n (Dollars in millions and rounded)=%{x}<br>year=2014<br>value=%{y}<extra></extra>",
           "legendgroup": "Heart Disease - Coronary Heart Disease ",
           "marker": {
            "color": "#FF6692",
            "pattern": {
             "shape": ""
            }
           },
           "name": "Heart Disease - Coronary Heart Disease ",
           "offsetgroup": "Heart Disease - Coronary Heart Disease ",
           "orientation": "v",
           "showlegend": true,
           "textposition": "auto",
           "type": "bar",
           "x": [
            "Heart Disease - Coronary Heart Disease "
           ],
           "xaxis": "x",
           "y": [
            421
           ],
           "yaxis": "y"
          },
          {
           "alignmentgroup": "True",
           "hovertemplate": "Research/Disease Areas \n (Dollars in millions and rounded)=%{x}<br>year=2014<br>value=%{y}<extra></extra>",
           "legendgroup": "Cancer ",
           "marker": {
            "color": "#B6E880",
            "pattern": {
             "shape": ""
            }
           },
           "name": "Cancer ",
           "offsetgroup": "Cancer ",
           "orientation": "v",
           "showlegend": true,
           "textposition": "auto",
           "type": "bar",
           "x": [
            "Cancer "
           ],
           "xaxis": "x",
           "y": [
            5392
           ],
           "yaxis": "y"
          },
          {
           "alignmentgroup": "True",
           "hovertemplate": "Research/Disease Areas \n (Dollars in millions and rounded)=%{x}<br>year=2014<br>value=%{y}<extra></extra>",
           "legendgroup": "Cardiovascular ",
           "marker": {
            "color": "#FF97FF",
            "pattern": {
             "shape": ""
            }
           },
           "name": "Cardiovascular ",
           "offsetgroup": "Cardiovascular ",
           "orientation": "v",
           "showlegend": true,
           "textposition": "auto",
           "type": "bar",
           "x": [
            "Cardiovascular "
           ],
           "xaxis": "x",
           "y": [
            1950
           ],
           "yaxis": "y"
          },
          {
           "alignmentgroup": "True",
           "hovertemplate": "Research/Disease Areas \n (Dollars in millions and rounded)=%{x}<br>year=2014<br>value=%{y}<extra></extra>",
           "legendgroup": "Heart Disease ",
           "marker": {
            "color": "#FECB52",
            "pattern": {
             "shape": ""
            }
           },
           "name": "Heart Disease ",
           "offsetgroup": "Heart Disease ",
           "orientation": "v",
           "showlegend": true,
           "textposition": "auto",
           "type": "bar",
           "x": [
            "Heart Disease "
           ],
           "xaxis": "x",
           "y": [
            1224
           ],
           "yaxis": "y"
          }
         ],
         "name": "2014"
        },
        {
         "data": [
          {
           "alignmentgroup": "True",
           "hovertemplate": "Research/Disease Areas \n (Dollars in millions and rounded)=%{x}<br>year=2015<br>value=%{y}<extra></extra>",
           "legendgroup": "Sepsis 15",
           "marker": {
            "color": "#636efa",
            "pattern": {
             "shape": ""
            }
           },
           "name": "Sepsis 15",
           "offsetgroup": "Sepsis 15",
           "orientation": "v",
           "showlegend": true,
           "textposition": "auto",
           "type": "bar",
           "x": [
            "Sepsis 15"
           ],
           "xaxis": "x",
           "y": [
            103
           ],
           "yaxis": "y"
          },
          {
           "alignmentgroup": "True",
           "hovertemplate": "Research/Disease Areas \n (Dollars in millions and rounded)=%{x}<br>year=2015<br>value=%{y}<extra></extra>",
           "legendgroup": "Stroke ",
           "marker": {
            "color": "#EF553B",
            "pattern": {
             "shape": ""
            }
           },
           "name": "Stroke ",
           "offsetgroup": "Stroke ",
           "orientation": "v",
           "showlegend": true,
           "textposition": "auto",
           "type": "bar",
           "x": [
            "Stroke "
           ],
           "xaxis": "x",
           "y": [
            288
           ],
           "yaxis": "y"
          },
          {
           "alignmentgroup": "True",
           "hovertemplate": "Research/Disease Areas \n (Dollars in millions and rounded)=%{x}<br>year=2015<br>value=%{y}<extra></extra>",
           "legendgroup": "Cerebrovascular ",
           "marker": {
            "color": "#00cc96",
            "pattern": {
             "shape": ""
            }
           },
           "name": "Cerebrovascular ",
           "offsetgroup": "Cerebrovascular ",
           "orientation": "v",
           "showlegend": true,
           "textposition": "auto",
           "type": "bar",
           "x": [
            "Cerebrovascular "
           ],
           "xaxis": "x",
           "y": [
            -1
           ],
           "yaxis": "y"
          },
          {
           "alignmentgroup": "True",
           "hovertemplate": "Research/Disease Areas \n (Dollars in millions and rounded)=%{x}<br>year=2015<br>value=%{y}<extra></extra>",
           "legendgroup": "Diabetes 4",
           "marker": {
            "color": "#ab63fa",
            "pattern": {
             "shape": ""
            }
           },
           "name": "Diabetes 4",
           "offsetgroup": "Diabetes 4",
           "orientation": "v",
           "showlegend": true,
           "textposition": "auto",
           "type": "bar",
           "x": [
            "Diabetes 4"
           ],
           "xaxis": "x",
           "y": [
            1010
           ],
           "yaxis": "y"
          },
          {
           "alignmentgroup": "True",
           "hovertemplate": "Research/Disease Areas \n (Dollars in millions and rounded)=%{x}<br>year=2015<br>value=%{y}<extra></extra>",
           "legendgroup": "Chronic Obstructive Pulmonary Disease ",
           "marker": {
            "color": "#FFA15A",
            "pattern": {
             "shape": ""
            }
           },
           "name": "Chronic Obstructive Pulmonary Disease ",
           "offsetgroup": "Chronic Obstructive Pulmonary Disease ",
           "orientation": "v",
           "showlegend": true,
           "textposition": "auto",
           "type": "bar",
           "x": [
            "Chronic Obstructive Pulmonary Disease "
           ],
           "xaxis": "x",
           "y": [
            97
           ],
           "yaxis": "y"
          },
          {
           "alignmentgroup": "True",
           "hovertemplate": "Research/Disease Areas \n (Dollars in millions and rounded)=%{x}<br>year=2015<br>value=%{y}<extra></extra>",
           "legendgroup": "Hypertension ",
           "marker": {
            "color": "#19d3f3",
            "pattern": {
             "shape": ""
            }
           },
           "name": "Hypertension ",
           "offsetgroup": "Hypertension ",
           "orientation": "v",
           "showlegend": true,
           "textposition": "auto",
           "type": "bar",
           "x": [
            "Hypertension "
           ],
           "xaxis": "x",
           "y": [
            214
           ],
           "yaxis": "y"
          },
          {
           "alignmentgroup": "True",
           "hovertemplate": "Research/Disease Areas \n (Dollars in millions and rounded)=%{x}<br>year=2015<br>value=%{y}<extra></extra>",
           "legendgroup": "Heart Disease - Coronary Heart Disease ",
           "marker": {
            "color": "#FF6692",
            "pattern": {
             "shape": ""
            }
           },
           "name": "Heart Disease - Coronary Heart Disease ",
           "offsetgroup": "Heart Disease - Coronary Heart Disease ",
           "orientation": "v",
           "showlegend": true,
           "textposition": "auto",
           "type": "bar",
           "x": [
            "Heart Disease - Coronary Heart Disease "
           ],
           "xaxis": "x",
           "y": [
            426
           ],
           "yaxis": "y"
          },
          {
           "alignmentgroup": "True",
           "hovertemplate": "Research/Disease Areas \n (Dollars in millions and rounded)=%{x}<br>year=2015<br>value=%{y}<extra></extra>",
           "legendgroup": "Cancer ",
           "marker": {
            "color": "#B6E880",
            "pattern": {
             "shape": ""
            }
           },
           "name": "Cancer ",
           "offsetgroup": "Cancer ",
           "orientation": "v",
           "showlegend": true,
           "textposition": "auto",
           "type": "bar",
           "x": [
            "Cancer "
           ],
           "xaxis": "x",
           "y": [
            5389
           ],
           "yaxis": "y"
          },
          {
           "alignmentgroup": "True",
           "hovertemplate": "Research/Disease Areas \n (Dollars in millions and rounded)=%{x}<br>year=2015<br>value=%{y}<extra></extra>",
           "legendgroup": "Cardiovascular ",
           "marker": {
            "color": "#FF97FF",
            "pattern": {
             "shape": ""
            }
           },
           "name": "Cardiovascular ",
           "offsetgroup": "Cardiovascular ",
           "orientation": "v",
           "showlegend": true,
           "textposition": "auto",
           "type": "bar",
           "x": [
            "Cardiovascular "
           ],
           "xaxis": "x",
           "y": [
            1991
           ],
           "yaxis": "y"
          },
          {
           "alignmentgroup": "True",
           "hovertemplate": "Research/Disease Areas \n (Dollars in millions and rounded)=%{x}<br>year=2015<br>value=%{y}<extra></extra>",
           "legendgroup": "Heart Disease ",
           "marker": {
            "color": "#FECB52",
            "pattern": {
             "shape": ""
            }
           },
           "name": "Heart Disease ",
           "offsetgroup": "Heart Disease ",
           "orientation": "v",
           "showlegend": true,
           "textposition": "auto",
           "type": "bar",
           "x": [
            "Heart Disease "
           ],
           "xaxis": "x",
           "y": [
            1262
           ],
           "yaxis": "y"
          }
         ],
         "name": "2015"
        },
        {
         "data": [
          {
           "alignmentgroup": "True",
           "hovertemplate": "Research/Disease Areas \n (Dollars in millions and rounded)=%{x}<br>year=2016<br>value=%{y}<extra></extra>",
           "legendgroup": "Sepsis 15",
           "marker": {
            "color": "#636efa",
            "pattern": {
             "shape": ""
            }
           },
           "name": "Sepsis 15",
           "offsetgroup": "Sepsis 15",
           "orientation": "v",
           "showlegend": true,
           "textposition": "auto",
           "type": "bar",
           "x": [
            "Sepsis 15"
           ],
           "xaxis": "x",
           "y": [
            116
           ],
           "yaxis": "y"
          },
          {
           "alignmentgroup": "True",
           "hovertemplate": "Research/Disease Areas \n (Dollars in millions and rounded)=%{x}<br>year=2016<br>value=%{y}<extra></extra>",
           "legendgroup": "Stroke ",
           "marker": {
            "color": "#EF553B",
            "pattern": {
             "shape": ""
            }
           },
           "name": "Stroke ",
           "offsetgroup": "Stroke ",
           "orientation": "v",
           "showlegend": true,
           "textposition": "auto",
           "type": "bar",
           "x": [
            "Stroke "
           ],
           "xaxis": "x",
           "y": [
            308
           ],
           "yaxis": "y"
          },
          {
           "alignmentgroup": "True",
           "hovertemplate": "Research/Disease Areas \n (Dollars in millions and rounded)=%{x}<br>year=2016<br>value=%{y}<extra></extra>",
           "legendgroup": "Cerebrovascular ",
           "marker": {
            "color": "#00cc96",
            "pattern": {
             "shape": ""
            }
           },
           "name": "Cerebrovascular ",
           "offsetgroup": "Cerebrovascular ",
           "orientation": "v",
           "showlegend": true,
           "textposition": "auto",
           "type": "bar",
           "x": [
            "Cerebrovascular "
           ],
           "xaxis": "x",
           "y": [
            520
           ],
           "yaxis": "y"
          },
          {
           "alignmentgroup": "True",
           "hovertemplate": "Research/Disease Areas \n (Dollars in millions and rounded)=%{x}<br>year=2016<br>value=%{y}<extra></extra>",
           "legendgroup": "Diabetes 4",
           "marker": {
            "color": "#ab63fa",
            "pattern": {
             "shape": ""
            }
           },
           "name": "Diabetes 4",
           "offsetgroup": "Diabetes 4",
           "orientation": "v",
           "showlegend": true,
           "textposition": "auto",
           "type": "bar",
           "x": [
            "Diabetes 4"
           ],
           "xaxis": "x",
           "y": [
            1084
           ],
           "yaxis": "y"
          },
          {
           "alignmentgroup": "True",
           "hovertemplate": "Research/Disease Areas \n (Dollars in millions and rounded)=%{x}<br>year=2016<br>value=%{y}<extra></extra>",
           "legendgroup": "Chronic Obstructive Pulmonary Disease ",
           "marker": {
            "color": "#FFA15A",
            "pattern": {
             "shape": ""
            }
           },
           "name": "Chronic Obstructive Pulmonary Disease ",
           "offsetgroup": "Chronic Obstructive Pulmonary Disease ",
           "orientation": "v",
           "showlegend": true,
           "textposition": "auto",
           "type": "bar",
           "x": [
            "Chronic Obstructive Pulmonary Disease "
           ],
           "xaxis": "x",
           "y": [
            97
           ],
           "yaxis": "y"
          },
          {
           "alignmentgroup": "True",
           "hovertemplate": "Research/Disease Areas \n (Dollars in millions and rounded)=%{x}<br>year=2016<br>value=%{y}<extra></extra>",
           "legendgroup": "Hypertension ",
           "marker": {
            "color": "#19d3f3",
            "pattern": {
             "shape": ""
            }
           },
           "name": "Hypertension ",
           "offsetgroup": "Hypertension ",
           "orientation": "v",
           "showlegend": true,
           "textposition": "auto",
           "type": "bar",
           "x": [
            "Hypertension "
           ],
           "xaxis": "x",
           "y": [
            224
           ],
           "yaxis": "y"
          },
          {
           "alignmentgroup": "True",
           "hovertemplate": "Research/Disease Areas \n (Dollars in millions and rounded)=%{x}<br>year=2016<br>value=%{y}<extra></extra>",
           "legendgroup": "Heart Disease - Coronary Heart Disease ",
           "marker": {
            "color": "#FF6692",
            "pattern": {
             "shape": ""
            }
           },
           "name": "Heart Disease - Coronary Heart Disease ",
           "offsetgroup": "Heart Disease - Coronary Heart Disease ",
           "orientation": "v",
           "showlegend": true,
           "textposition": "auto",
           "type": "bar",
           "x": [
            "Heart Disease - Coronary Heart Disease "
           ],
           "xaxis": "x",
           "y": [
            419
           ],
           "yaxis": "y"
          },
          {
           "alignmentgroup": "True",
           "hovertemplate": "Research/Disease Areas \n (Dollars in millions and rounded)=%{x}<br>year=2016<br>value=%{y}<extra></extra>",
           "legendgroup": "Cancer ",
           "marker": {
            "color": "#B6E880",
            "pattern": {
             "shape": ""
            }
           },
           "name": "Cancer ",
           "offsetgroup": "Cancer ",
           "orientation": "v",
           "showlegend": true,
           "textposition": "auto",
           "type": "bar",
           "x": [
            "Cancer "
           ],
           "xaxis": "x",
           "y": [
            5589
           ],
           "yaxis": "y"
          },
          {
           "alignmentgroup": "True",
           "hovertemplate": "Research/Disease Areas \n (Dollars in millions and rounded)=%{x}<br>year=2016<br>value=%{y}<extra></extra>",
           "legendgroup": "Cardiovascular ",
           "marker": {
            "color": "#FF97FF",
            "pattern": {
             "shape": ""
            }
           },
           "name": "Cardiovascular ",
           "offsetgroup": "Cardiovascular ",
           "orientation": "v",
           "showlegend": true,
           "textposition": "auto",
           "type": "bar",
           "x": [
            "Cardiovascular "
           ],
           "xaxis": "x",
           "y": [
            2108
           ],
           "yaxis": "y"
          },
          {
           "alignmentgroup": "True",
           "hovertemplate": "Research/Disease Areas \n (Dollars in millions and rounded)=%{x}<br>year=2016<br>value=%{y}<extra></extra>",
           "legendgroup": "Heart Disease ",
           "marker": {
            "color": "#FECB52",
            "pattern": {
             "shape": ""
            }
           },
           "name": "Heart Disease ",
           "offsetgroup": "Heart Disease ",
           "orientation": "v",
           "showlegend": true,
           "textposition": "auto",
           "type": "bar",
           "x": [
            "Heart Disease "
           ],
           "xaxis": "x",
           "y": [
            1289
           ],
           "yaxis": "y"
          }
         ],
         "name": "2016"
        },
        {
         "data": [
          {
           "alignmentgroup": "True",
           "hovertemplate": "Research/Disease Areas \n (Dollars in millions and rounded)=%{x}<br>year=2017<br>value=%{y}<extra></extra>",
           "legendgroup": "Sepsis 15",
           "marker": {
            "color": "#636efa",
            "pattern": {
             "shape": ""
            }
           },
           "name": "Sepsis 15",
           "offsetgroup": "Sepsis 15",
           "orientation": "v",
           "showlegend": true,
           "textposition": "auto",
           "type": "bar",
           "x": [
            "Sepsis 15"
           ],
           "xaxis": "x",
           "y": [
            125
           ],
           "yaxis": "y"
          },
          {
           "alignmentgroup": "True",
           "hovertemplate": "Research/Disease Areas \n (Dollars in millions and rounded)=%{x}<br>year=2017<br>value=%{y}<extra></extra>",
           "legendgroup": "Stroke ",
           "marker": {
            "color": "#EF553B",
            "pattern": {
             "shape": ""
            }
           },
           "name": "Stroke ",
           "offsetgroup": "Stroke ",
           "orientation": "v",
           "showlegend": true,
           "textposition": "auto",
           "type": "bar",
           "x": [
            "Stroke "
           ],
           "xaxis": "x",
           "y": [
            331
           ],
           "yaxis": "y"
          },
          {
           "alignmentgroup": "True",
           "hovertemplate": "Research/Disease Areas \n (Dollars in millions and rounded)=%{x}<br>year=2017<br>value=%{y}<extra></extra>",
           "legendgroup": "Cerebrovascular ",
           "marker": {
            "color": "#00cc96",
            "pattern": {
             "shape": ""
            }
           },
           "name": "Cerebrovascular ",
           "offsetgroup": "Cerebrovascular ",
           "orientation": "v",
           "showlegend": true,
           "textposition": "auto",
           "type": "bar",
           "x": [
            "Cerebrovascular "
           ],
           "xaxis": "x",
           "y": [
            610
           ],
           "yaxis": "y"
          },
          {
           "alignmentgroup": "True",
           "hovertemplate": "Research/Disease Areas \n (Dollars in millions and rounded)=%{x}<br>year=2017<br>value=%{y}<extra></extra>",
           "legendgroup": "Diabetes 4",
           "marker": {
            "color": "#ab63fa",
            "pattern": {
             "shape": ""
            }
           },
           "name": "Diabetes 4",
           "offsetgroup": "Diabetes 4",
           "orientation": "v",
           "showlegend": true,
           "textposition": "auto",
           "type": "bar",
           "x": [
            "Diabetes 4"
           ],
           "xaxis": "x",
           "y": [
            1108
           ],
           "yaxis": "y"
          },
          {
           "alignmentgroup": "True",
           "hovertemplate": "Research/Disease Areas \n (Dollars in millions and rounded)=%{x}<br>year=2017<br>value=%{y}<extra></extra>",
           "legendgroup": "Chronic Obstructive Pulmonary Disease ",
           "marker": {
            "color": "#FFA15A",
            "pattern": {
             "shape": ""
            }
           },
           "name": "Chronic Obstructive Pulmonary Disease ",
           "offsetgroup": "Chronic Obstructive Pulmonary Disease ",
           "orientation": "v",
           "showlegend": true,
           "textposition": "auto",
           "type": "bar",
           "x": [
            "Chronic Obstructive Pulmonary Disease "
           ],
           "xaxis": "x",
           "y": [
            100
           ],
           "yaxis": "y"
          },
          {
           "alignmentgroup": "True",
           "hovertemplate": "Research/Disease Areas \n (Dollars in millions and rounded)=%{x}<br>year=2017<br>value=%{y}<extra></extra>",
           "legendgroup": "Hypertension ",
           "marker": {
            "color": "#19d3f3",
            "pattern": {
             "shape": ""
            }
           },
           "name": "Hypertension ",
           "offsetgroup": "Hypertension ",
           "orientation": "v",
           "showlegend": true,
           "textposition": "auto",
           "type": "bar",
           "x": [
            "Hypertension "
           ],
           "xaxis": "x",
           "y": [
            235
           ],
           "yaxis": "y"
          },
          {
           "alignmentgroup": "True",
           "hovertemplate": "Research/Disease Areas \n (Dollars in millions and rounded)=%{x}<br>year=2017<br>value=%{y}<extra></extra>",
           "legendgroup": "Heart Disease - Coronary Heart Disease ",
           "marker": {
            "color": "#FF6692",
            "pattern": {
             "shape": ""
            }
           },
           "name": "Heart Disease - Coronary Heart Disease ",
           "offsetgroup": "Heart Disease - Coronary Heart Disease ",
           "orientation": "v",
           "showlegend": true,
           "textposition": "auto",
           "type": "bar",
           "x": [
            "Heart Disease - Coronary Heart Disease "
           ],
           "xaxis": "x",
           "y": [
            444
           ],
           "yaxis": "y"
          },
          {
           "alignmentgroup": "True",
           "hovertemplate": "Research/Disease Areas \n (Dollars in millions and rounded)=%{x}<br>year=2017<br>value=%{y}<extra></extra>",
           "legendgroup": "Cancer ",
           "marker": {
            "color": "#B6E880",
            "pattern": {
             "shape": ""
            }
           },
           "name": "Cancer ",
           "offsetgroup": "Cancer ",
           "orientation": "v",
           "showlegend": true,
           "textposition": "auto",
           "type": "bar",
           "x": [
            "Cancer "
           ],
           "xaxis": "x",
           "y": [
            5980
           ],
           "yaxis": "y"
          },
          {
           "alignmentgroup": "True",
           "hovertemplate": "Research/Disease Areas \n (Dollars in millions and rounded)=%{x}<br>year=2017<br>value=%{y}<extra></extra>",
           "legendgroup": "Cardiovascular ",
           "marker": {
            "color": "#FF97FF",
            "pattern": {
             "shape": ""
            }
           },
           "name": "Cardiovascular ",
           "offsetgroup": "Cardiovascular ",
           "orientation": "v",
           "showlegend": true,
           "textposition": "auto",
           "type": "bar",
           "x": [
            "Cardiovascular "
           ],
           "xaxis": "x",
           "y": [
            2197
           ],
           "yaxis": "y"
          },
          {
           "alignmentgroup": "True",
           "hovertemplate": "Research/Disease Areas \n (Dollars in millions and rounded)=%{x}<br>year=2017<br>value=%{y}<extra></extra>",
           "legendgroup": "Heart Disease ",
           "marker": {
            "color": "#FECB52",
            "pattern": {
             "shape": ""
            }
           },
           "name": "Heart Disease ",
           "offsetgroup": "Heart Disease ",
           "orientation": "v",
           "showlegend": true,
           "textposition": "auto",
           "type": "bar",
           "x": [
            "Heart Disease "
           ],
           "xaxis": "x",
           "y": [
            1370
           ],
           "yaxis": "y"
          }
         ],
         "name": "2017"
        },
        {
         "data": [
          {
           "alignmentgroup": "True",
           "hovertemplate": "Research/Disease Areas \n (Dollars in millions and rounded)=%{x}<br>year=2018<br>value=%{y}<extra></extra>",
           "legendgroup": "Sepsis 15",
           "marker": {
            "color": "#636efa",
            "pattern": {
             "shape": ""
            }
           },
           "name": "Sepsis 15",
           "offsetgroup": "Sepsis 15",
           "orientation": "v",
           "showlegend": true,
           "textposition": "auto",
           "type": "bar",
           "x": [
            "Sepsis 15"
           ],
           "xaxis": "x",
           "y": [
            135
           ],
           "yaxis": "y"
          },
          {
           "alignmentgroup": "True",
           "hovertemplate": "Research/Disease Areas \n (Dollars in millions and rounded)=%{x}<br>year=2018<br>value=%{y}<extra></extra>",
           "legendgroup": "Stroke ",
           "marker": {
            "color": "#EF553B",
            "pattern": {
             "shape": ""
            }
           },
           "name": "Stroke ",
           "offsetgroup": "Stroke ",
           "orientation": "v",
           "showlegend": true,
           "textposition": "auto",
           "type": "bar",
           "x": [
            "Stroke "
           ],
           "xaxis": "x",
           "y": [
            348
           ],
           "yaxis": "y"
          },
          {
           "alignmentgroup": "True",
           "hovertemplate": "Research/Disease Areas \n (Dollars in millions and rounded)=%{x}<br>year=2018<br>value=%{y}<extra></extra>",
           "legendgroup": "Cerebrovascular ",
           "marker": {
            "color": "#00cc96",
            "pattern": {
             "shape": ""
            }
           },
           "name": "Cerebrovascular ",
           "offsetgroup": "Cerebrovascular ",
           "orientation": "v",
           "showlegend": true,
           "textposition": "auto",
           "type": "bar",
           "x": [
            "Cerebrovascular "
           ],
           "xaxis": "x",
           "y": [
            718
           ],
           "yaxis": "y"
          },
          {
           "alignmentgroup": "True",
           "hovertemplate": "Research/Disease Areas \n (Dollars in millions and rounded)=%{x}<br>year=2018<br>value=%{y}<extra></extra>",
           "legendgroup": "Diabetes 4",
           "marker": {
            "color": "#ab63fa",
            "pattern": {
             "shape": ""
            }
           },
           "name": "Diabetes 4",
           "offsetgroup": "Diabetes 4",
           "orientation": "v",
           "showlegend": true,
           "textposition": "auto",
           "type": "bar",
           "x": [
            "Diabetes 4"
           ],
           "xaxis": "x",
           "y": [
            1039
           ],
           "yaxis": "y"
          },
          {
           "alignmentgroup": "True",
           "hovertemplate": "Research/Disease Areas \n (Dollars in millions and rounded)=%{x}<br>year=2018<br>value=%{y}<extra></extra>",
           "legendgroup": "Chronic Obstructive Pulmonary Disease ",
           "marker": {
            "color": "#FFA15A",
            "pattern": {
             "shape": ""
            }
           },
           "name": "Chronic Obstructive Pulmonary Disease ",
           "offsetgroup": "Chronic Obstructive Pulmonary Disease ",
           "orientation": "v",
           "showlegend": true,
           "textposition": "auto",
           "type": "bar",
           "x": [
            "Chronic Obstructive Pulmonary Disease "
           ],
           "xaxis": "x",
           "y": [
            111
           ],
           "yaxis": "y"
          },
          {
           "alignmentgroup": "True",
           "hovertemplate": "Research/Disease Areas \n (Dollars in millions and rounded)=%{x}<br>year=2018<br>value=%{y}<extra></extra>",
           "legendgroup": "Hypertension ",
           "marker": {
            "color": "#19d3f3",
            "pattern": {
             "shape": ""
            }
           },
           "name": "Hypertension ",
           "offsetgroup": "Hypertension ",
           "orientation": "v",
           "showlegend": true,
           "textposition": "auto",
           "type": "bar",
           "x": [
            "Hypertension "
           ],
           "xaxis": "x",
           "y": [
            260
           ],
           "yaxis": "y"
          },
          {
           "alignmentgroup": "True",
           "hovertemplate": "Research/Disease Areas \n (Dollars in millions and rounded)=%{x}<br>year=2018<br>value=%{y}<extra></extra>",
           "legendgroup": "Heart Disease - Coronary Heart Disease ",
           "marker": {
            "color": "#FF6692",
            "pattern": {
             "shape": ""
            }
           },
           "name": "Heart Disease - Coronary Heart Disease ",
           "offsetgroup": "Heart Disease - Coronary Heart Disease ",
           "orientation": "v",
           "showlegend": true,
           "textposition": "auto",
           "type": "bar",
           "x": [
            "Heart Disease - Coronary Heart Disease "
           ],
           "xaxis": "x",
           "y": [
            444
           ],
           "yaxis": "y"
          },
          {
           "alignmentgroup": "True",
           "hovertemplate": "Research/Disease Areas \n (Dollars in millions and rounded)=%{x}<br>year=2018<br>value=%{y}<extra></extra>",
           "legendgroup": "Cancer ",
           "marker": {
            "color": "#B6E880",
            "pattern": {
             "shape": ""
            }
           },
           "name": "Cancer ",
           "offsetgroup": "Cancer ",
           "orientation": "v",
           "showlegend": true,
           "textposition": "auto",
           "type": "bar",
           "x": [
            "Cancer "
           ],
           "xaxis": "x",
           "y": [
            6335
           ],
           "yaxis": "y"
          },
          {
           "alignmentgroup": "True",
           "hovertemplate": "Research/Disease Areas \n (Dollars in millions and rounded)=%{x}<br>year=2018<br>value=%{y}<extra></extra>",
           "legendgroup": "Cardiovascular ",
           "marker": {
            "color": "#FF97FF",
            "pattern": {
             "shape": ""
            }
           },
           "name": "Cardiovascular ",
           "offsetgroup": "Cardiovascular ",
           "orientation": "v",
           "showlegend": true,
           "textposition": "auto",
           "type": "bar",
           "x": [
            "Cardiovascular "
           ],
           "xaxis": "x",
           "y": [
            2269
           ],
           "yaxis": "y"
          },
          {
           "alignmentgroup": "True",
           "hovertemplate": "Research/Disease Areas \n (Dollars in millions and rounded)=%{x}<br>year=2018<br>value=%{y}<extra></extra>",
           "legendgroup": "Heart Disease ",
           "marker": {
            "color": "#FECB52",
            "pattern": {
             "shape": ""
            }
           },
           "name": "Heart Disease ",
           "offsetgroup": "Heart Disease ",
           "orientation": "v",
           "showlegend": true,
           "textposition": "auto",
           "type": "bar",
           "x": [
            "Heart Disease "
           ],
           "xaxis": "x",
           "y": [
            1403
           ],
           "yaxis": "y"
          }
         ],
         "name": "2018"
        },
        {
         "data": [
          {
           "alignmentgroup": "True",
           "hovertemplate": "Research/Disease Areas \n (Dollars in millions and rounded)=%{x}<br>year=2019<br>value=%{y}<extra></extra>",
           "legendgroup": "Sepsis 15",
           "marker": {
            "color": "#636efa",
            "pattern": {
             "shape": ""
            }
           },
           "name": "Sepsis 15",
           "offsetgroup": "Sepsis 15",
           "orientation": "v",
           "showlegend": true,
           "textposition": "auto",
           "type": "bar",
           "x": [
            "Sepsis 15"
           ],
           "xaxis": "x",
           "y": [
            137
           ],
           "yaxis": "y"
          },
          {
           "alignmentgroup": "True",
           "hovertemplate": "Research/Disease Areas \n (Dollars in millions and rounded)=%{x}<br>year=2019<br>value=%{y}<extra></extra>",
           "legendgroup": "Stroke ",
           "marker": {
            "color": "#EF553B",
            "pattern": {
             "shape": ""
            }
           },
           "name": "Stroke ",
           "offsetgroup": "Stroke ",
           "orientation": "v",
           "showlegend": true,
           "textposition": "auto",
           "type": "bar",
           "x": [
            "Stroke "
           ],
           "xaxis": "x",
           "y": [
            350
           ],
           "yaxis": "y"
          },
          {
           "alignmentgroup": "True",
           "hovertemplate": "Research/Disease Areas \n (Dollars in millions and rounded)=%{x}<br>year=2019<br>value=%{y}<extra></extra>",
           "legendgroup": "Cerebrovascular ",
           "marker": {
            "color": "#00cc96",
            "pattern": {
             "shape": ""
            }
           },
           "name": "Cerebrovascular ",
           "offsetgroup": "Cerebrovascular ",
           "orientation": "v",
           "showlegend": true,
           "textposition": "auto",
           "type": "bar",
           "x": [
            "Cerebrovascular "
           ],
           "xaxis": "x",
           "y": [
            759
           ],
           "yaxis": "y"
          },
          {
           "alignmentgroup": "True",
           "hovertemplate": "Research/Disease Areas \n (Dollars in millions and rounded)=%{x}<br>year=2019<br>value=%{y}<extra></extra>",
           "legendgroup": "Diabetes 4",
           "marker": {
            "color": "#ab63fa",
            "pattern": {
             "shape": ""
            }
           },
           "name": "Diabetes 4",
           "offsetgroup": "Diabetes 4",
           "orientation": "v",
           "showlegend": true,
           "textposition": "auto",
           "type": "bar",
           "x": [
            "Diabetes 4"
           ],
           "xaxis": "x",
           "y": [
            1099
           ],
           "yaxis": "y"
          },
          {
           "alignmentgroup": "True",
           "hovertemplate": "Research/Disease Areas \n (Dollars in millions and rounded)=%{x}<br>year=2019<br>value=%{y}<extra></extra>",
           "legendgroup": "Chronic Obstructive Pulmonary Disease ",
           "marker": {
            "color": "#FFA15A",
            "pattern": {
             "shape": ""
            }
           },
           "name": "Chronic Obstructive Pulmonary Disease ",
           "offsetgroup": "Chronic Obstructive Pulmonary Disease ",
           "orientation": "v",
           "showlegend": true,
           "textposition": "auto",
           "type": "bar",
           "x": [
            "Chronic Obstructive Pulmonary Disease "
           ],
           "xaxis": "x",
           "y": [
            112
           ],
           "yaxis": "y"
          },
          {
           "alignmentgroup": "True",
           "hovertemplate": "Research/Disease Areas \n (Dollars in millions and rounded)=%{x}<br>year=2019<br>value=%{y}<extra></extra>",
           "legendgroup": "Hypertension ",
           "marker": {
            "color": "#19d3f3",
            "pattern": {
             "shape": ""
            }
           },
           "name": "Hypertension ",
           "offsetgroup": "Hypertension ",
           "orientation": "v",
           "showlegend": true,
           "textposition": "auto",
           "type": "bar",
           "x": [
            "Hypertension "
           ],
           "xaxis": "x",
           "y": [
            266
           ],
           "yaxis": "y"
          },
          {
           "alignmentgroup": "True",
           "hovertemplate": "Research/Disease Areas \n (Dollars in millions and rounded)=%{x}<br>year=2019<br>value=%{y}<extra></extra>",
           "legendgroup": "Heart Disease - Coronary Heart Disease ",
           "marker": {
            "color": "#FF6692",
            "pattern": {
             "shape": ""
            }
           },
           "name": "Heart Disease - Coronary Heart Disease ",
           "offsetgroup": "Heart Disease - Coronary Heart Disease ",
           "orientation": "v",
           "showlegend": true,
           "textposition": "auto",
           "type": "bar",
           "x": [
            "Heart Disease - Coronary Heart Disease "
           ],
           "xaxis": "x",
           "y": [
            421
           ],
           "yaxis": "y"
          },
          {
           "alignmentgroup": "True",
           "hovertemplate": "Research/Disease Areas \n (Dollars in millions and rounded)=%{x}<br>year=2019<br>value=%{y}<extra></extra>",
           "legendgroup": "Cancer ",
           "marker": {
            "color": "#B6E880",
            "pattern": {
             "shape": ""
            }
           },
           "name": "Cancer ",
           "offsetgroup": "Cancer ",
           "orientation": "v",
           "showlegend": true,
           "textposition": "auto",
           "type": "bar",
           "x": [
            "Cancer "
           ],
           "xaxis": "x",
           "y": [
            6520
           ],
           "yaxis": "y"
          },
          {
           "alignmentgroup": "True",
           "hovertemplate": "Research/Disease Areas \n (Dollars in millions and rounded)=%{x}<br>year=2019<br>value=%{y}<extra></extra>",
           "legendgroup": "Cardiovascular ",
           "marker": {
            "color": "#FF97FF",
            "pattern": {
             "shape": ""
            }
           },
           "name": "Cardiovascular ",
           "offsetgroup": "Cardiovascular ",
           "orientation": "v",
           "showlegend": true,
           "textposition": "auto",
           "type": "bar",
           "x": [
            "Cardiovascular "
           ],
           "xaxis": "x",
           "y": [
            2394
           ],
           "yaxis": "y"
          },
          {
           "alignmentgroup": "True",
           "hovertemplate": "Research/Disease Areas \n (Dollars in millions and rounded)=%{x}<br>year=2019<br>value=%{y}<extra></extra>",
           "legendgroup": "Heart Disease ",
           "marker": {
            "color": "#FECB52",
            "pattern": {
             "shape": ""
            }
           },
           "name": "Heart Disease ",
           "offsetgroup": "Heart Disease ",
           "orientation": "v",
           "showlegend": true,
           "textposition": "auto",
           "type": "bar",
           "x": [
            "Heart Disease "
           ],
           "xaxis": "x",
           "y": [
            1443
           ],
           "yaxis": "y"
          }
         ],
         "name": "2019"
        },
        {
         "data": [
          {
           "alignmentgroup": "True",
           "hovertemplate": "Research/Disease Areas \n (Dollars in millions and rounded)=%{x}<br>year=2020<br>value=%{y}<extra></extra>",
           "legendgroup": "Sepsis 15",
           "marker": {
            "color": "#636efa",
            "pattern": {
             "shape": ""
            }
           },
           "name": "Sepsis 15",
           "offsetgroup": "Sepsis 15",
           "orientation": "v",
           "showlegend": true,
           "textposition": "auto",
           "type": "bar",
           "x": [
            "Sepsis 15"
           ],
           "xaxis": "x",
           "y": [
            155
           ],
           "yaxis": "y"
          },
          {
           "alignmentgroup": "True",
           "hovertemplate": "Research/Disease Areas \n (Dollars in millions and rounded)=%{x}<br>year=2020<br>value=%{y}<extra></extra>",
           "legendgroup": "Stroke ",
           "marker": {
            "color": "#EF553B",
            "pattern": {
             "shape": ""
            }
           },
           "name": "Stroke ",
           "offsetgroup": "Stroke ",
           "orientation": "v",
           "showlegend": true,
           "textposition": "auto",
           "type": "bar",
           "x": [
            "Stroke "
           ],
           "xaxis": "x",
           "y": [
            441
           ],
           "yaxis": "y"
          },
          {
           "alignmentgroup": "True",
           "hovertemplate": "Research/Disease Areas \n (Dollars in millions and rounded)=%{x}<br>year=2020<br>value=%{y}<extra></extra>",
           "legendgroup": "Cerebrovascular ",
           "marker": {
            "color": "#00cc96",
            "pattern": {
             "shape": ""
            }
           },
           "name": "Cerebrovascular ",
           "offsetgroup": "Cerebrovascular ",
           "orientation": "v",
           "showlegend": true,
           "textposition": "auto",
           "type": "bar",
           "x": [
            "Cerebrovascular "
           ],
           "xaxis": "x",
           "y": [
            888
           ],
           "yaxis": "y"
          },
          {
           "alignmentgroup": "True",
           "hovertemplate": "Research/Disease Areas \n (Dollars in millions and rounded)=%{x}<br>year=2020<br>value=%{y}<extra></extra>",
           "legendgroup": "Diabetes 4",
           "marker": {
            "color": "#ab63fa",
            "pattern": {
             "shape": ""
            }
           },
           "name": "Diabetes 4",
           "offsetgroup": "Diabetes 4",
           "orientation": "v",
           "showlegend": true,
           "textposition": "auto",
           "type": "bar",
           "x": [
            "Diabetes 4"
           ],
           "xaxis": "x",
           "y": [
            1156
           ],
           "yaxis": "y"
          },
          {
           "alignmentgroup": "True",
           "hovertemplate": "Research/Disease Areas \n (Dollars in millions and rounded)=%{x}<br>year=2020<br>value=%{y}<extra></extra>",
           "legendgroup": "Chronic Obstructive Pulmonary Disease ",
           "marker": {
            "color": "#FFA15A",
            "pattern": {
             "shape": ""
            }
           },
           "name": "Chronic Obstructive Pulmonary Disease ",
           "offsetgroup": "Chronic Obstructive Pulmonary Disease ",
           "orientation": "v",
           "showlegend": true,
           "textposition": "auto",
           "type": "bar",
           "x": [
            "Chronic Obstructive Pulmonary Disease "
           ],
           "xaxis": "x",
           "y": [
            121
           ],
           "yaxis": "y"
          },
          {
           "alignmentgroup": "True",
           "hovertemplate": "Research/Disease Areas \n (Dollars in millions and rounded)=%{x}<br>year=2020<br>value=%{y}<extra></extra>",
           "legendgroup": "Hypertension ",
           "marker": {
            "color": "#19d3f3",
            "pattern": {
             "shape": ""
            }
           },
           "name": "Hypertension ",
           "offsetgroup": "Hypertension ",
           "orientation": "v",
           "showlegend": true,
           "textposition": "auto",
           "type": "bar",
           "x": [
            "Hypertension "
           ],
           "xaxis": "x",
           "y": [
            301
           ],
           "yaxis": "y"
          },
          {
           "alignmentgroup": "True",
           "hovertemplate": "Research/Disease Areas \n (Dollars in millions and rounded)=%{x}<br>year=2020<br>value=%{y}<extra></extra>",
           "legendgroup": "Heart Disease - Coronary Heart Disease ",
           "marker": {
            "color": "#FF6692",
            "pattern": {
             "shape": ""
            }
           },
           "name": "Heart Disease - Coronary Heart Disease ",
           "offsetgroup": "Heart Disease - Coronary Heart Disease ",
           "orientation": "v",
           "showlegend": true,
           "textposition": "auto",
           "type": "bar",
           "x": [
            "Heart Disease - Coronary Heart Disease "
           ],
           "xaxis": "x",
           "y": [
            408
           ],
           "yaxis": "y"
          },
          {
           "alignmentgroup": "True",
           "hovertemplate": "Research/Disease Areas \n (Dollars in millions and rounded)=%{x}<br>year=2020<br>value=%{y}<extra></extra>",
           "legendgroup": "Cancer ",
           "marker": {
            "color": "#B6E880",
            "pattern": {
             "shape": ""
            }
           },
           "name": "Cancer ",
           "offsetgroup": "Cancer ",
           "orientation": "v",
           "showlegend": true,
           "textposition": "auto",
           "type": "bar",
           "x": [
            "Cancer "
           ],
           "xaxis": "x",
           "y": [
            7035
           ],
           "yaxis": "y"
          },
          {
           "alignmentgroup": "True",
           "hovertemplate": "Research/Disease Areas \n (Dollars in millions and rounded)=%{x}<br>year=2020<br>value=%{y}<extra></extra>",
           "legendgroup": "Cardiovascular ",
           "marker": {
            "color": "#FF97FF",
            "pattern": {
             "shape": ""
            }
           },
           "name": "Cardiovascular ",
           "offsetgroup": "Cardiovascular ",
           "orientation": "v",
           "showlegend": true,
           "textposition": "auto",
           "type": "bar",
           "x": [
            "Cardiovascular "
           ],
           "xaxis": "x",
           "y": [
            2536
           ],
           "yaxis": "y"
          },
          {
           "alignmentgroup": "True",
           "hovertemplate": "Research/Disease Areas \n (Dollars in millions and rounded)=%{x}<br>year=2020<br>value=%{y}<extra></extra>",
           "legendgroup": "Heart Disease ",
           "marker": {
            "color": "#FECB52",
            "pattern": {
             "shape": ""
            }
           },
           "name": "Heart Disease ",
           "offsetgroup": "Heart Disease ",
           "orientation": "v",
           "showlegend": true,
           "textposition": "auto",
           "type": "bar",
           "x": [
            "Heart Disease "
           ],
           "xaxis": "x",
           "y": [
            1606
           ],
           "yaxis": "y"
          }
         ],
         "name": "2020"
        },
        {
         "data": [
          {
           "alignmentgroup": "True",
           "hovertemplate": "Research/Disease Areas \n (Dollars in millions and rounded)=%{x}<br>year=2021<br>value=%{y}<extra></extra>",
           "legendgroup": "Sepsis 15",
           "marker": {
            "color": "#636efa",
            "pattern": {
             "shape": ""
            }
           },
           "name": "Sepsis 15",
           "offsetgroup": "Sepsis 15",
           "orientation": "v",
           "showlegend": true,
           "textposition": "auto",
           "type": "bar",
           "x": [
            "Sepsis 15"
           ],
           "xaxis": "x",
           "y": [
            167
           ],
           "yaxis": "y"
          },
          {
           "alignmentgroup": "True",
           "hovertemplate": "Research/Disease Areas \n (Dollars in millions and rounded)=%{x}<br>year=2021<br>value=%{y}<extra></extra>",
           "legendgroup": "Stroke ",
           "marker": {
            "color": "#EF553B",
            "pattern": {
             "shape": ""
            }
           },
           "name": "Stroke ",
           "offsetgroup": "Stroke ",
           "orientation": "v",
           "showlegend": true,
           "textposition": "auto",
           "type": "bar",
           "x": [
            "Stroke "
           ],
           "xaxis": "x",
           "y": [
            447
           ],
           "yaxis": "y"
          },
          {
           "alignmentgroup": "True",
           "hovertemplate": "Research/Disease Areas \n (Dollars in millions and rounded)=%{x}<br>year=2021<br>value=%{y}<extra></extra>",
           "legendgroup": "Cerebrovascular ",
           "marker": {
            "color": "#00cc96",
            "pattern": {
             "shape": ""
            }
           },
           "name": "Cerebrovascular ",
           "offsetgroup": "Cerebrovascular ",
           "orientation": "v",
           "showlegend": true,
           "textposition": "auto",
           "type": "bar",
           "x": [
            "Cerebrovascular "
           ],
           "xaxis": "x",
           "y": [
            999
           ],
           "yaxis": "y"
          },
          {
           "alignmentgroup": "True",
           "hovertemplate": "Research/Disease Areas \n (Dollars in millions and rounded)=%{x}<br>year=2021<br>value=%{y}<extra></extra>",
           "legendgroup": "Diabetes 4",
           "marker": {
            "color": "#ab63fa",
            "pattern": {
             "shape": ""
            }
           },
           "name": "Diabetes 4",
           "offsetgroup": "Diabetes 4",
           "orientation": "v",
           "showlegend": true,
           "textposition": "auto",
           "type": "bar",
           "x": [
            "Diabetes 4"
           ],
           "xaxis": "x",
           "y": [
            1124
           ],
           "yaxis": "y"
          },
          {
           "alignmentgroup": "True",
           "hovertemplate": "Research/Disease Areas \n (Dollars in millions and rounded)=%{x}<br>year=2021<br>value=%{y}<extra></extra>",
           "legendgroup": "Chronic Obstructive Pulmonary Disease ",
           "marker": {
            "color": "#FFA15A",
            "pattern": {
             "shape": ""
            }
           },
           "name": "Chronic Obstructive Pulmonary Disease ",
           "offsetgroup": "Chronic Obstructive Pulmonary Disease ",
           "orientation": "v",
           "showlegend": true,
           "textposition": "auto",
           "type": "bar",
           "x": [
            "Chronic Obstructive Pulmonary Disease "
           ],
           "xaxis": "x",
           "y": [
            144
           ],
           "yaxis": "y"
          },
          {
           "alignmentgroup": "True",
           "hovertemplate": "Research/Disease Areas \n (Dollars in millions and rounded)=%{x}<br>year=2021<br>value=%{y}<extra></extra>",
           "legendgroup": "Hypertension ",
           "marker": {
            "color": "#19d3f3",
            "pattern": {
             "shape": ""
            }
           },
           "name": "Hypertension ",
           "offsetgroup": "Hypertension ",
           "orientation": "v",
           "showlegend": true,
           "textposition": "auto",
           "type": "bar",
           "x": [
            "Hypertension "
           ],
           "xaxis": "x",
           "y": [
            292
           ],
           "yaxis": "y"
          },
          {
           "alignmentgroup": "True",
           "hovertemplate": "Research/Disease Areas \n (Dollars in millions and rounded)=%{x}<br>year=2021<br>value=%{y}<extra></extra>",
           "legendgroup": "Heart Disease - Coronary Heart Disease ",
           "marker": {
            "color": "#FF6692",
            "pattern": {
             "shape": ""
            }
           },
           "name": "Heart Disease - Coronary Heart Disease ",
           "offsetgroup": "Heart Disease - Coronary Heart Disease ",
           "orientation": "v",
           "showlegend": true,
           "textposition": "auto",
           "type": "bar",
           "x": [
            "Heart Disease - Coronary Heart Disease "
           ],
           "xaxis": "x",
           "y": [
            380
           ],
           "yaxis": "y"
          },
          {
           "alignmentgroup": "True",
           "hovertemplate": "Research/Disease Areas \n (Dollars in millions and rounded)=%{x}<br>year=2021<br>value=%{y}<extra></extra>",
           "legendgroup": "Cancer ",
           "marker": {
            "color": "#B6E880",
            "pattern": {
             "shape": ""
            }
           },
           "name": "Cancer ",
           "offsetgroup": "Cancer ",
           "orientation": "v",
           "showlegend": true,
           "textposition": "auto",
           "type": "bar",
           "x": [
            "Cancer "
           ],
           "xaxis": "x",
           "y": [
            7362
           ],
           "yaxis": "y"
          },
          {
           "alignmentgroup": "True",
           "hovertemplate": "Research/Disease Areas \n (Dollars in millions and rounded)=%{x}<br>year=2021<br>value=%{y}<extra></extra>",
           "legendgroup": "Cardiovascular ",
           "marker": {
            "color": "#FF97FF",
            "pattern": {
             "shape": ""
            }
           },
           "name": "Cardiovascular ",
           "offsetgroup": "Cardiovascular ",
           "orientation": "v",
           "showlegend": true,
           "textposition": "auto",
           "type": "bar",
           "x": [
            "Cardiovascular "
           ],
           "xaxis": "x",
           "y": [
            2544
           ],
           "yaxis": "y"
          },
          {
           "alignmentgroup": "True",
           "hovertemplate": "Research/Disease Areas \n (Dollars in millions and rounded)=%{x}<br>year=2021<br>value=%{y}<extra></extra>",
           "legendgroup": "Heart Disease ",
           "marker": {
            "color": "#FECB52",
            "pattern": {
             "shape": ""
            }
           },
           "name": "Heart Disease ",
           "offsetgroup": "Heart Disease ",
           "orientation": "v",
           "showlegend": true,
           "textposition": "auto",
           "type": "bar",
           "x": [
            "Heart Disease "
           ],
           "xaxis": "x",
           "y": [
            1536
           ],
           "yaxis": "y"
          }
         ],
         "name": "2021"
        },
        {
         "data": [
          {
           "alignmentgroup": "True",
           "hovertemplate": "Research/Disease Areas \n (Dollars in millions and rounded)=%{x}<br>year=2022 Estimated<br>value=%{y}<extra></extra>",
           "legendgroup": "Sepsis 15",
           "marker": {
            "color": "#636efa",
            "pattern": {
             "shape": ""
            }
           },
           "name": "Sepsis 15",
           "offsetgroup": "Sepsis 15",
           "orientation": "v",
           "showlegend": true,
           "textposition": "auto",
           "type": "bar",
           "x": [
            "Sepsis 15"
           ],
           "xaxis": "x",
           "y": [
            174
           ],
           "yaxis": "y"
          },
          {
           "alignmentgroup": "True",
           "hovertemplate": "Research/Disease Areas \n (Dollars in millions and rounded)=%{x}<br>year=2022 Estimated<br>value=%{y}<extra></extra>",
           "legendgroup": "Stroke ",
           "marker": {
            "color": "#EF553B",
            "pattern": {
             "shape": ""
            }
           },
           "name": "Stroke ",
           "offsetgroup": "Stroke ",
           "orientation": "v",
           "showlegend": true,
           "textposition": "auto",
           "type": "bar",
           "x": [
            "Stroke "
           ],
           "xaxis": "x",
           "y": [
            465
           ],
           "yaxis": "y"
          },
          {
           "alignmentgroup": "True",
           "hovertemplate": "Research/Disease Areas \n (Dollars in millions and rounded)=%{x}<br>year=2022 Estimated<br>value=%{y}<extra></extra>",
           "legendgroup": "Cerebrovascular ",
           "marker": {
            "color": "#00cc96",
            "pattern": {
             "shape": ""
            }
           },
           "name": "Cerebrovascular ",
           "offsetgroup": "Cerebrovascular ",
           "orientation": "v",
           "showlegend": true,
           "textposition": "auto",
           "type": "bar",
           "x": [
            "Cerebrovascular "
           ],
           "xaxis": "x",
           "y": [
            1034
           ],
           "yaxis": "y"
          },
          {
           "alignmentgroup": "True",
           "hovertemplate": "Research/Disease Areas \n (Dollars in millions and rounded)=%{x}<br>year=2022 Estimated<br>value=%{y}<extra></extra>",
           "legendgroup": "Diabetes 4",
           "marker": {
            "color": "#ab63fa",
            "pattern": {
             "shape": ""
            }
           },
           "name": "Diabetes 4",
           "offsetgroup": "Diabetes 4",
           "orientation": "v",
           "showlegend": true,
           "textposition": "auto",
           "type": "bar",
           "x": [
            "Diabetes 4"
           ],
           "xaxis": "x",
           "y": [
            1178
           ],
           "yaxis": "y"
          },
          {
           "alignmentgroup": "True",
           "hovertemplate": "Research/Disease Areas \n (Dollars in millions and rounded)=%{x}<br>year=2022 Estimated<br>value=%{y}<extra></extra>",
           "legendgroup": "Chronic Obstructive Pulmonary Disease ",
           "marker": {
            "color": "#FFA15A",
            "pattern": {
             "shape": ""
            }
           },
           "name": "Chronic Obstructive Pulmonary Disease ",
           "offsetgroup": "Chronic Obstructive Pulmonary Disease ",
           "orientation": "v",
           "showlegend": true,
           "textposition": "auto",
           "type": "bar",
           "x": [
            "Chronic Obstructive Pulmonary Disease "
           ],
           "xaxis": "x",
           "y": [
            150
           ],
           "yaxis": "y"
          },
          {
           "alignmentgroup": "True",
           "hovertemplate": "Research/Disease Areas \n (Dollars in millions and rounded)=%{x}<br>year=2022 Estimated<br>value=%{y}<extra></extra>",
           "legendgroup": "Hypertension ",
           "marker": {
            "color": "#19d3f3",
            "pattern": {
             "shape": ""
            }
           },
           "name": "Hypertension ",
           "offsetgroup": "Hypertension ",
           "orientation": "v",
           "showlegend": true,
           "textposition": "auto",
           "type": "bar",
           "x": [
            "Hypertension "
           ],
           "xaxis": "x",
           "y": [
            305
           ],
           "yaxis": "y"
          },
          {
           "alignmentgroup": "True",
           "hovertemplate": "Research/Disease Areas \n (Dollars in millions and rounded)=%{x}<br>year=2022 Estimated<br>value=%{y}<extra></extra>",
           "legendgroup": "Heart Disease - Coronary Heart Disease ",
           "marker": {
            "color": "#FF6692",
            "pattern": {
             "shape": ""
            }
           },
           "name": "Heart Disease - Coronary Heart Disease ",
           "offsetgroup": "Heart Disease - Coronary Heart Disease ",
           "orientation": "v",
           "showlegend": true,
           "textposition": "auto",
           "type": "bar",
           "x": [
            "Heart Disease - Coronary Heart Disease "
           ],
           "xaxis": "x",
           "y": [
            395
           ],
           "yaxis": "y"
          },
          {
           "alignmentgroup": "True",
           "hovertemplate": "Research/Disease Areas \n (Dollars in millions and rounded)=%{x}<br>year=2022 Estimated<br>value=%{y}<extra></extra>",
           "legendgroup": "Cancer ",
           "marker": {
            "color": "#B6E880",
            "pattern": {
             "shape": ""
            }
           },
           "name": "Cancer ",
           "offsetgroup": "Cancer ",
           "orientation": "v",
           "showlegend": true,
           "textposition": "auto",
           "type": "bar",
           "x": [
            "Cancer "
           ],
           "xaxis": "x",
           "y": [
            7644
           ],
           "yaxis": "y"
          },
          {
           "alignmentgroup": "True",
           "hovertemplate": "Research/Disease Areas \n (Dollars in millions and rounded)=%{x}<br>year=2022 Estimated<br>value=%{y}<extra></extra>",
           "legendgroup": "Cardiovascular ",
           "marker": {
            "color": "#FF97FF",
            "pattern": {
             "shape": ""
            }
           },
           "name": "Cardiovascular ",
           "offsetgroup": "Cardiovascular ",
           "orientation": "v",
           "showlegend": true,
           "textposition": "auto",
           "type": "bar",
           "x": [
            "Cardiovascular "
           ],
           "xaxis": "x",
           "y": [
            2654
           ],
           "yaxis": "y"
          },
          {
           "alignmentgroup": "True",
           "hovertemplate": "Research/Disease Areas \n (Dollars in millions and rounded)=%{x}<br>year=2022 Estimated<br>value=%{y}<extra></extra>",
           "legendgroup": "Heart Disease ",
           "marker": {
            "color": "#FECB52",
            "pattern": {
             "shape": ""
            }
           },
           "name": "Heart Disease ",
           "offsetgroup": "Heart Disease ",
           "orientation": "v",
           "showlegend": true,
           "textposition": "auto",
           "type": "bar",
           "x": [
            "Heart Disease "
           ],
           "xaxis": "x",
           "y": [
            1602
           ],
           "yaxis": "y"
          }
         ],
         "name": "2022 Estimated"
        },
        {
         "data": [
          {
           "alignmentgroup": "True",
           "hovertemplate": "Research/Disease Areas \n (Dollars in millions and rounded)=%{x}<br>year=2023 Estimated<br>value=%{y}<extra></extra>",
           "legendgroup": "Sepsis 15",
           "marker": {
            "color": "#636efa",
            "pattern": {
             "shape": ""
            }
           },
           "name": "Sepsis 15",
           "offsetgroup": "Sepsis 15",
           "orientation": "v",
           "showlegend": true,
           "textposition": "auto",
           "type": "bar",
           "x": [
            "Sepsis 15"
           ],
           "xaxis": "x",
           "y": [
            173
           ],
           "yaxis": "y"
          },
          {
           "alignmentgroup": "True",
           "hovertemplate": "Research/Disease Areas \n (Dollars in millions and rounded)=%{x}<br>year=2023 Estimated<br>value=%{y}<extra></extra>",
           "legendgroup": "Stroke ",
           "marker": {
            "color": "#EF553B",
            "pattern": {
             "shape": ""
            }
           },
           "name": "Stroke ",
           "offsetgroup": "Stroke ",
           "orientation": "v",
           "showlegend": true,
           "textposition": "auto",
           "type": "bar",
           "x": [
            "Stroke "
           ],
           "xaxis": "x",
           "y": [
            453
           ],
           "yaxis": "y"
          },
          {
           "alignmentgroup": "True",
           "hovertemplate": "Research/Disease Areas \n (Dollars in millions and rounded)=%{x}<br>year=2023 Estimated<br>value=%{y}<extra></extra>",
           "legendgroup": "Cerebrovascular ",
           "marker": {
            "color": "#00cc96",
            "pattern": {
             "shape": ""
            }
           },
           "name": "Cerebrovascular ",
           "offsetgroup": "Cerebrovascular ",
           "orientation": "v",
           "showlegend": true,
           "textposition": "auto",
           "type": "bar",
           "x": [
            "Cerebrovascular "
           ],
           "xaxis": "x",
           "y": [
            1019
           ],
           "yaxis": "y"
          },
          {
           "alignmentgroup": "True",
           "hovertemplate": "Research/Disease Areas \n (Dollars in millions and rounded)=%{x}<br>year=2023 Estimated<br>value=%{y}<extra></extra>",
           "legendgroup": "Diabetes 4",
           "marker": {
            "color": "#ab63fa",
            "pattern": {
             "shape": ""
            }
           },
           "name": "Diabetes 4",
           "offsetgroup": "Diabetes 4",
           "orientation": "v",
           "showlegend": true,
           "textposition": "auto",
           "type": "bar",
           "x": [
            "Diabetes 4"
           ],
           "xaxis": "x",
           "y": [
            1209
           ],
           "yaxis": "y"
          },
          {
           "alignmentgroup": "True",
           "hovertemplate": "Research/Disease Areas \n (Dollars in millions and rounded)=%{x}<br>year=2023 Estimated<br>value=%{y}<extra></extra>",
           "legendgroup": "Chronic Obstructive Pulmonary Disease ",
           "marker": {
            "color": "#FFA15A",
            "pattern": {
             "shape": ""
            }
           },
           "name": "Chronic Obstructive Pulmonary Disease ",
           "offsetgroup": "Chronic Obstructive Pulmonary Disease ",
           "orientation": "v",
           "showlegend": true,
           "textposition": "auto",
           "type": "bar",
           "x": [
            "Chronic Obstructive Pulmonary Disease "
           ],
           "xaxis": "x",
           "y": [
            151
           ],
           "yaxis": "y"
          },
          {
           "alignmentgroup": "True",
           "hovertemplate": "Research/Disease Areas \n (Dollars in millions and rounded)=%{x}<br>year=2023 Estimated<br>value=%{y}<extra></extra>",
           "legendgroup": "Hypertension ",
           "marker": {
            "color": "#19d3f3",
            "pattern": {
             "shape": ""
            }
           },
           "name": "Hypertension ",
           "offsetgroup": "Hypertension ",
           "orientation": "v",
           "showlegend": true,
           "textposition": "auto",
           "type": "bar",
           "x": [
            "Hypertension "
           ],
           "xaxis": "x",
           "y": [
            310
           ],
           "yaxis": "y"
          },
          {
           "alignmentgroup": "True",
           "hovertemplate": "Research/Disease Areas \n (Dollars in millions and rounded)=%{x}<br>year=2023 Estimated<br>value=%{y}<extra></extra>",
           "legendgroup": "Heart Disease - Coronary Heart Disease ",
           "marker": {
            "color": "#FF6692",
            "pattern": {
             "shape": ""
            }
           },
           "name": "Heart Disease - Coronary Heart Disease ",
           "offsetgroup": "Heart Disease - Coronary Heart Disease ",
           "orientation": "v",
           "showlegend": true,
           "textposition": "auto",
           "type": "bar",
           "x": [
            "Heart Disease - Coronary Heart Disease "
           ],
           "xaxis": "x",
           "y": [
            397
           ],
           "yaxis": "y"
          },
          {
           "alignmentgroup": "True",
           "hovertemplate": "Research/Disease Areas \n (Dollars in millions and rounded)=%{x}<br>year=2023 Estimated<br>value=%{y}<extra></extra>",
           "legendgroup": "Cancer ",
           "marker": {
            "color": "#B6E880",
            "pattern": {
             "shape": ""
            }
           },
           "name": "Cancer ",
           "offsetgroup": "Cancer ",
           "orientation": "v",
           "showlegend": true,
           "textposition": "auto",
           "type": "bar",
           "x": [
            "Cancer "
           ],
           "xaxis": "x",
           "y": [
            7459
           ],
           "yaxis": "y"
          },
          {
           "alignmentgroup": "True",
           "hovertemplate": "Research/Disease Areas \n (Dollars in millions and rounded)=%{x}<br>year=2023 Estimated<br>value=%{y}<extra></extra>",
           "legendgroup": "Cardiovascular ",
           "marker": {
            "color": "#FF97FF",
            "pattern": {
             "shape": ""
            }
           },
           "name": "Cardiovascular ",
           "offsetgroup": "Cardiovascular ",
           "orientation": "v",
           "showlegend": true,
           "textposition": "auto",
           "type": "bar",
           "x": [
            "Cardiovascular "
           ],
           "xaxis": "x",
           "y": [
            2676
           ],
           "yaxis": "y"
          },
          {
           "alignmentgroup": "True",
           "hovertemplate": "Research/Disease Areas \n (Dollars in millions and rounded)=%{x}<br>year=2023 Estimated<br>value=%{y}<extra></extra>",
           "legendgroup": "Heart Disease ",
           "marker": {
            "color": "#FECB52",
            "pattern": {
             "shape": ""
            }
           },
           "name": "Heart Disease ",
           "offsetgroup": "Heart Disease ",
           "orientation": "v",
           "showlegend": true,
           "textposition": "auto",
           "type": "bar",
           "x": [
            "Heart Disease "
           ],
           "xaxis": "x",
           "y": [
            1610
           ],
           "yaxis": "y"
          }
         ],
         "name": "2023 Estimated"
        }
       ],
       "layout": {
        "barmode": "relative",
        "height": 600,
        "legend": {
         "title": {
          "text": "Research/Disease Areas \n (Dollars in millions and rounded)"
         },
         "tracegroupgap": 0
        },
        "margin": {
         "t": 60
        },
        "sliders": [
         {
          "active": 0,
          "currentvalue": {
           "prefix": "year="
          },
          "len": 0.9,
          "pad": {
           "b": 10,
           "t": 60
          },
          "steps": [
           {
            "args": [
             [
              "2008"
             ],
             {
              "frame": {
               "duration": 0,
               "redraw": true
              },
              "fromcurrent": true,
              "mode": "immediate",
              "transition": {
               "duration": 0,
               "easing": "linear"
              }
             }
            ],
            "label": "2008",
            "method": "animate"
           },
           {
            "args": [
             [
              "2009"
             ],
             {
              "frame": {
               "duration": 0,
               "redraw": true
              },
              "fromcurrent": true,
              "mode": "immediate",
              "transition": {
               "duration": 0,
               "easing": "linear"
              }
             }
            ],
            "label": "2009",
            "method": "animate"
           },
           {
            "args": [
             [
              "2010"
             ],
             {
              "frame": {
               "duration": 0,
               "redraw": true
              },
              "fromcurrent": true,
              "mode": "immediate",
              "transition": {
               "duration": 0,
               "easing": "linear"
              }
             }
            ],
            "label": "2010",
            "method": "animate"
           },
           {
            "args": [
             [
              "2011"
             ],
             {
              "frame": {
               "duration": 0,
               "redraw": true
              },
              "fromcurrent": true,
              "mode": "immediate",
              "transition": {
               "duration": 0,
               "easing": "linear"
              }
             }
            ],
            "label": "2011",
            "method": "animate"
           },
           {
            "args": [
             [
              "2012"
             ],
             {
              "frame": {
               "duration": 0,
               "redraw": true
              },
              "fromcurrent": true,
              "mode": "immediate",
              "transition": {
               "duration": 0,
               "easing": "linear"
              }
             }
            ],
            "label": "2012",
            "method": "animate"
           },
           {
            "args": [
             [
              "2013"
             ],
             {
              "frame": {
               "duration": 0,
               "redraw": true
              },
              "fromcurrent": true,
              "mode": "immediate",
              "transition": {
               "duration": 0,
               "easing": "linear"
              }
             }
            ],
            "label": "2013",
            "method": "animate"
           },
           {
            "args": [
             [
              "2014"
             ],
             {
              "frame": {
               "duration": 0,
               "redraw": true
              },
              "fromcurrent": true,
              "mode": "immediate",
              "transition": {
               "duration": 0,
               "easing": "linear"
              }
             }
            ],
            "label": "2014",
            "method": "animate"
           },
           {
            "args": [
             [
              "2015"
             ],
             {
              "frame": {
               "duration": 0,
               "redraw": true
              },
              "fromcurrent": true,
              "mode": "immediate",
              "transition": {
               "duration": 0,
               "easing": "linear"
              }
             }
            ],
            "label": "2015",
            "method": "animate"
           },
           {
            "args": [
             [
              "2016"
             ],
             {
              "frame": {
               "duration": 0,
               "redraw": true
              },
              "fromcurrent": true,
              "mode": "immediate",
              "transition": {
               "duration": 0,
               "easing": "linear"
              }
             }
            ],
            "label": "2016",
            "method": "animate"
           },
           {
            "args": [
             [
              "2017"
             ],
             {
              "frame": {
               "duration": 0,
               "redraw": true
              },
              "fromcurrent": true,
              "mode": "immediate",
              "transition": {
               "duration": 0,
               "easing": "linear"
              }
             }
            ],
            "label": "2017",
            "method": "animate"
           },
           {
            "args": [
             [
              "2018"
             ],
             {
              "frame": {
               "duration": 0,
               "redraw": true
              },
              "fromcurrent": true,
              "mode": "immediate",
              "transition": {
               "duration": 0,
               "easing": "linear"
              }
             }
            ],
            "label": "2018",
            "method": "animate"
           },
           {
            "args": [
             [
              "2019"
             ],
             {
              "frame": {
               "duration": 0,
               "redraw": true
              },
              "fromcurrent": true,
              "mode": "immediate",
              "transition": {
               "duration": 0,
               "easing": "linear"
              }
             }
            ],
            "label": "2019",
            "method": "animate"
           },
           {
            "args": [
             [
              "2020"
             ],
             {
              "frame": {
               "duration": 0,
               "redraw": true
              },
              "fromcurrent": true,
              "mode": "immediate",
              "transition": {
               "duration": 0,
               "easing": "linear"
              }
             }
            ],
            "label": "2020",
            "method": "animate"
           },
           {
            "args": [
             [
              "2021"
             ],
             {
              "frame": {
               "duration": 0,
               "redraw": true
              },
              "fromcurrent": true,
              "mode": "immediate",
              "transition": {
               "duration": 0,
               "easing": "linear"
              }
             }
            ],
            "label": "2021",
            "method": "animate"
           },
           {
            "args": [
             [
              "2022 Estimated"
             ],
             {
              "frame": {
               "duration": 0,
               "redraw": true
              },
              "fromcurrent": true,
              "mode": "immediate",
              "transition": {
               "duration": 0,
               "easing": "linear"
              }
             }
            ],
            "label": "2022 Estimated",
            "method": "animate"
           },
           {
            "args": [
             [
              "2023 Estimated"
             ],
             {
              "frame": {
               "duration": 0,
               "redraw": true
              },
              "fromcurrent": true,
              "mode": "immediate",
              "transition": {
               "duration": 0,
               "easing": "linear"
              }
             }
            ],
            "label": "2023 Estimated",
            "method": "animate"
           }
          ],
          "x": 0.1,
          "xanchor": "left",
          "y": 0,
          "yanchor": "top"
         }
        ],
        "template": {
         "data": {
          "bar": [
           {
            "error_x": {
             "color": "#2a3f5f"
            },
            "error_y": {
             "color": "#2a3f5f"
            },
            "marker": {
             "line": {
              "color": "#E5ECF6",
              "width": 0.5
             },
             "pattern": {
              "fillmode": "overlay",
              "size": 10,
              "solidity": 0.2
             }
            },
            "type": "bar"
           }
          ],
          "barpolar": [
           {
            "marker": {
             "line": {
              "color": "#E5ECF6",
              "width": 0.5
             },
             "pattern": {
              "fillmode": "overlay",
              "size": 10,
              "solidity": 0.2
             }
            },
            "type": "barpolar"
           }
          ],
          "carpet": [
           {
            "aaxis": {
             "endlinecolor": "#2a3f5f",
             "gridcolor": "white",
             "linecolor": "white",
             "minorgridcolor": "white",
             "startlinecolor": "#2a3f5f"
            },
            "baxis": {
             "endlinecolor": "#2a3f5f",
             "gridcolor": "white",
             "linecolor": "white",
             "minorgridcolor": "white",
             "startlinecolor": "#2a3f5f"
            },
            "type": "carpet"
           }
          ],
          "choropleth": [
           {
            "colorbar": {
             "outlinewidth": 0,
             "ticks": ""
            },
            "type": "choropleth"
           }
          ],
          "contour": [
           {
            "colorbar": {
             "outlinewidth": 0,
             "ticks": ""
            },
            "colorscale": [
             [
              0,
              "#0d0887"
             ],
             [
              0.1111111111111111,
              "#46039f"
             ],
             [
              0.2222222222222222,
              "#7201a8"
             ],
             [
              0.3333333333333333,
              "#9c179e"
             ],
             [
              0.4444444444444444,
              "#bd3786"
             ],
             [
              0.5555555555555556,
              "#d8576b"
             ],
             [
              0.6666666666666666,
              "#ed7953"
             ],
             [
              0.7777777777777778,
              "#fb9f3a"
             ],
             [
              0.8888888888888888,
              "#fdca26"
             ],
             [
              1,
              "#f0f921"
             ]
            ],
            "type": "contour"
           }
          ],
          "contourcarpet": [
           {
            "colorbar": {
             "outlinewidth": 0,
             "ticks": ""
            },
            "type": "contourcarpet"
           }
          ],
          "heatmap": [
           {
            "colorbar": {
             "outlinewidth": 0,
             "ticks": ""
            },
            "colorscale": [
             [
              0,
              "#0d0887"
             ],
             [
              0.1111111111111111,
              "#46039f"
             ],
             [
              0.2222222222222222,
              "#7201a8"
             ],
             [
              0.3333333333333333,
              "#9c179e"
             ],
             [
              0.4444444444444444,
              "#bd3786"
             ],
             [
              0.5555555555555556,
              "#d8576b"
             ],
             [
              0.6666666666666666,
              "#ed7953"
             ],
             [
              0.7777777777777778,
              "#fb9f3a"
             ],
             [
              0.8888888888888888,
              "#fdca26"
             ],
             [
              1,
              "#f0f921"
             ]
            ],
            "type": "heatmap"
           }
          ],
          "heatmapgl": [
           {
            "colorbar": {
             "outlinewidth": 0,
             "ticks": ""
            },
            "colorscale": [
             [
              0,
              "#0d0887"
             ],
             [
              0.1111111111111111,
              "#46039f"
             ],
             [
              0.2222222222222222,
              "#7201a8"
             ],
             [
              0.3333333333333333,
              "#9c179e"
             ],
             [
              0.4444444444444444,
              "#bd3786"
             ],
             [
              0.5555555555555556,
              "#d8576b"
             ],
             [
              0.6666666666666666,
              "#ed7953"
             ],
             [
              0.7777777777777778,
              "#fb9f3a"
             ],
             [
              0.8888888888888888,
              "#fdca26"
             ],
             [
              1,
              "#f0f921"
             ]
            ],
            "type": "heatmapgl"
           }
          ],
          "histogram": [
           {
            "marker": {
             "pattern": {
              "fillmode": "overlay",
              "size": 10,
              "solidity": 0.2
             }
            },
            "type": "histogram"
           }
          ],
          "histogram2d": [
           {
            "colorbar": {
             "outlinewidth": 0,
             "ticks": ""
            },
            "colorscale": [
             [
              0,
              "#0d0887"
             ],
             [
              0.1111111111111111,
              "#46039f"
             ],
             [
              0.2222222222222222,
              "#7201a8"
             ],
             [
              0.3333333333333333,
              "#9c179e"
             ],
             [
              0.4444444444444444,
              "#bd3786"
             ],
             [
              0.5555555555555556,
              "#d8576b"
             ],
             [
              0.6666666666666666,
              "#ed7953"
             ],
             [
              0.7777777777777778,
              "#fb9f3a"
             ],
             [
              0.8888888888888888,
              "#fdca26"
             ],
             [
              1,
              "#f0f921"
             ]
            ],
            "type": "histogram2d"
           }
          ],
          "histogram2dcontour": [
           {
            "colorbar": {
             "outlinewidth": 0,
             "ticks": ""
            },
            "colorscale": [
             [
              0,
              "#0d0887"
             ],
             [
              0.1111111111111111,
              "#46039f"
             ],
             [
              0.2222222222222222,
              "#7201a8"
             ],
             [
              0.3333333333333333,
              "#9c179e"
             ],
             [
              0.4444444444444444,
              "#bd3786"
             ],
             [
              0.5555555555555556,
              "#d8576b"
             ],
             [
              0.6666666666666666,
              "#ed7953"
             ],
             [
              0.7777777777777778,
              "#fb9f3a"
             ],
             [
              0.8888888888888888,
              "#fdca26"
             ],
             [
              1,
              "#f0f921"
             ]
            ],
            "type": "histogram2dcontour"
           }
          ],
          "mesh3d": [
           {
            "colorbar": {
             "outlinewidth": 0,
             "ticks": ""
            },
            "type": "mesh3d"
           }
          ],
          "parcoords": [
           {
            "line": {
             "colorbar": {
              "outlinewidth": 0,
              "ticks": ""
             }
            },
            "type": "parcoords"
           }
          ],
          "pie": [
           {
            "automargin": true,
            "type": "pie"
           }
          ],
          "scatter": [
           {
            "fillpattern": {
             "fillmode": "overlay",
             "size": 10,
             "solidity": 0.2
            },
            "type": "scatter"
           }
          ],
          "scatter3d": [
           {
            "line": {
             "colorbar": {
              "outlinewidth": 0,
              "ticks": ""
             }
            },
            "marker": {
             "colorbar": {
              "outlinewidth": 0,
              "ticks": ""
             }
            },
            "type": "scatter3d"
           }
          ],
          "scattercarpet": [
           {
            "marker": {
             "colorbar": {
              "outlinewidth": 0,
              "ticks": ""
             }
            },
            "type": "scattercarpet"
           }
          ],
          "scattergeo": [
           {
            "marker": {
             "colorbar": {
              "outlinewidth": 0,
              "ticks": ""
             }
            },
            "type": "scattergeo"
           }
          ],
          "scattergl": [
           {
            "marker": {
             "colorbar": {
              "outlinewidth": 0,
              "ticks": ""
             }
            },
            "type": "scattergl"
           }
          ],
          "scattermapbox": [
           {
            "marker": {
             "colorbar": {
              "outlinewidth": 0,
              "ticks": ""
             }
            },
            "type": "scattermapbox"
           }
          ],
          "scatterpolar": [
           {
            "marker": {
             "colorbar": {
              "outlinewidth": 0,
              "ticks": ""
             }
            },
            "type": "scatterpolar"
           }
          ],
          "scatterpolargl": [
           {
            "marker": {
             "colorbar": {
              "outlinewidth": 0,
              "ticks": ""
             }
            },
            "type": "scatterpolargl"
           }
          ],
          "scatterternary": [
           {
            "marker": {
             "colorbar": {
              "outlinewidth": 0,
              "ticks": ""
             }
            },
            "type": "scatterternary"
           }
          ],
          "surface": [
           {
            "colorbar": {
             "outlinewidth": 0,
             "ticks": ""
            },
            "colorscale": [
             [
              0,
              "#0d0887"
             ],
             [
              0.1111111111111111,
              "#46039f"
             ],
             [
              0.2222222222222222,
              "#7201a8"
             ],
             [
              0.3333333333333333,
              "#9c179e"
             ],
             [
              0.4444444444444444,
              "#bd3786"
             ],
             [
              0.5555555555555556,
              "#d8576b"
             ],
             [
              0.6666666666666666,
              "#ed7953"
             ],
             [
              0.7777777777777778,
              "#fb9f3a"
             ],
             [
              0.8888888888888888,
              "#fdca26"
             ],
             [
              1,
              "#f0f921"
             ]
            ],
            "type": "surface"
           }
          ],
          "table": [
           {
            "cells": {
             "fill": {
              "color": "#EBF0F8"
             },
             "line": {
              "color": "white"
             }
            },
            "header": {
             "fill": {
              "color": "#C8D4E3"
             },
             "line": {
              "color": "white"
             }
            },
            "type": "table"
           }
          ]
         },
         "layout": {
          "annotationdefaults": {
           "arrowcolor": "#2a3f5f",
           "arrowhead": 0,
           "arrowwidth": 1
          },
          "autotypenumbers": "strict",
          "coloraxis": {
           "colorbar": {
            "outlinewidth": 0,
            "ticks": ""
           }
          },
          "colorscale": {
           "diverging": [
            [
             0,
             "#8e0152"
            ],
            [
             0.1,
             "#c51b7d"
            ],
            [
             0.2,
             "#de77ae"
            ],
            [
             0.3,
             "#f1b6da"
            ],
            [
             0.4,
             "#fde0ef"
            ],
            [
             0.5,
             "#f7f7f7"
            ],
            [
             0.6,
             "#e6f5d0"
            ],
            [
             0.7,
             "#b8e186"
            ],
            [
             0.8,
             "#7fbc41"
            ],
            [
             0.9,
             "#4d9221"
            ],
            [
             1,
             "#276419"
            ]
           ],
           "sequential": [
            [
             0,
             "#0d0887"
            ],
            [
             0.1111111111111111,
             "#46039f"
            ],
            [
             0.2222222222222222,
             "#7201a8"
            ],
            [
             0.3333333333333333,
             "#9c179e"
            ],
            [
             0.4444444444444444,
             "#bd3786"
            ],
            [
             0.5555555555555556,
             "#d8576b"
            ],
            [
             0.6666666666666666,
             "#ed7953"
            ],
            [
             0.7777777777777778,
             "#fb9f3a"
            ],
            [
             0.8888888888888888,
             "#fdca26"
            ],
            [
             1,
             "#f0f921"
            ]
           ],
           "sequentialminus": [
            [
             0,
             "#0d0887"
            ],
            [
             0.1111111111111111,
             "#46039f"
            ],
            [
             0.2222222222222222,
             "#7201a8"
            ],
            [
             0.3333333333333333,
             "#9c179e"
            ],
            [
             0.4444444444444444,
             "#bd3786"
            ],
            [
             0.5555555555555556,
             "#d8576b"
            ],
            [
             0.6666666666666666,
             "#ed7953"
            ],
            [
             0.7777777777777778,
             "#fb9f3a"
            ],
            [
             0.8888888888888888,
             "#fdca26"
            ],
            [
             1,
             "#f0f921"
            ]
           ]
          },
          "colorway": [
           "#636efa",
           "#EF553B",
           "#00cc96",
           "#ab63fa",
           "#FFA15A",
           "#19d3f3",
           "#FF6692",
           "#B6E880",
           "#FF97FF",
           "#FECB52"
          ],
          "font": {
           "color": "#2a3f5f"
          },
          "geo": {
           "bgcolor": "white",
           "lakecolor": "white",
           "landcolor": "#E5ECF6",
           "showlakes": true,
           "showland": true,
           "subunitcolor": "white"
          },
          "hoverlabel": {
           "align": "left"
          },
          "hovermode": "closest",
          "mapbox": {
           "style": "light"
          },
          "paper_bgcolor": "white",
          "plot_bgcolor": "#E5ECF6",
          "polar": {
           "angularaxis": {
            "gridcolor": "white",
            "linecolor": "white",
            "ticks": ""
           },
           "bgcolor": "#E5ECF6",
           "radialaxis": {
            "gridcolor": "white",
            "linecolor": "white",
            "ticks": ""
           }
          },
          "scene": {
           "xaxis": {
            "backgroundcolor": "#E5ECF6",
            "gridcolor": "white",
            "gridwidth": 2,
            "linecolor": "white",
            "showbackground": true,
            "ticks": "",
            "zerolinecolor": "white"
           },
           "yaxis": {
            "backgroundcolor": "#E5ECF6",
            "gridcolor": "white",
            "gridwidth": 2,
            "linecolor": "white",
            "showbackground": true,
            "ticks": "",
            "zerolinecolor": "white"
           },
           "zaxis": {
            "backgroundcolor": "#E5ECF6",
            "gridcolor": "white",
            "gridwidth": 2,
            "linecolor": "white",
            "showbackground": true,
            "ticks": "",
            "zerolinecolor": "white"
           }
          },
          "shapedefaults": {
           "line": {
            "color": "#2a3f5f"
           }
          },
          "ternary": {
           "aaxis": {
            "gridcolor": "white",
            "linecolor": "white",
            "ticks": ""
           },
           "baxis": {
            "gridcolor": "white",
            "linecolor": "white",
            "ticks": ""
           },
           "bgcolor": "#E5ECF6",
           "caxis": {
            "gridcolor": "white",
            "linecolor": "white",
            "ticks": ""
           }
          },
          "title": {
           "x": 0.05
          },
          "xaxis": {
           "automargin": true,
           "gridcolor": "white",
           "linecolor": "white",
           "ticks": "",
           "title": {
            "standoff": 15
           },
           "zerolinecolor": "white",
           "zerolinewidth": 2
          },
          "yaxis": {
           "automargin": true,
           "gridcolor": "white",
           "linecolor": "white",
           "ticks": "",
           "title": {
            "standoff": 15
           },
           "zerolinecolor": "white",
           "zerolinewidth": 2
          }
         }
        },
        "updatemenus": [
         {
          "buttons": [
           {
            "args": [
             null,
             {
              "frame": {
               "duration": 500,
               "redraw": true
              },
              "fromcurrent": true,
              "mode": "immediate",
              "transition": {
               "duration": 500,
               "easing": "linear"
              }
             }
            ],
            "label": "&#9654;",
            "method": "animate"
           },
           {
            "args": [
             [
              null
             ],
             {
              "frame": {
               "duration": 0,
               "redraw": true
              },
              "fromcurrent": true,
              "mode": "immediate",
              "transition": {
               "duration": 0,
               "easing": "linear"
              }
             }
            ],
            "label": "&#9724;",
            "method": "animate"
           }
          ],
          "direction": "left",
          "pad": {
           "r": 10,
           "t": 70
          },
          "showactive": false,
          "type": "buttons",
          "x": 0.1,
          "xanchor": "right",
          "y": 0,
          "yanchor": "top"
         }
        ],
        "width": 1000,
        "xaxis": {
         "anchor": "y",
         "categoryarray": [
          "Sepsis 15",
          "Stroke ",
          "Cerebrovascular ",
          "Diabetes 4",
          "Chronic Obstructive Pulmonary Disease ",
          "Hypertension ",
          "Heart Disease - Coronary Heart Disease ",
          "Cancer ",
          "Cardiovascular ",
          "Heart Disease "
         ],
         "categoryorder": "array",
         "domain": [
          0,
          1
         ],
         "title": {
          "text": "Research/Disease Areas \n (Dollars in millions and rounded)"
         }
        },
        "yaxis": {
         "anchor": "x",
         "domain": [
          0,
          1
         ],
         "range": [
          0,
          8000
         ],
         "title": {
          "text": "value"
         }
        }
       }
      }
     },
     "metadata": {},
     "output_type": "display_data"
    }
   ],
   "source": [
    "fig = px.bar(sem, x='Research/Disease Areas \\n (Dollars in millions and rounded)', \n",
    "             y=\"value\", color='Research/Disease Areas \\n (Dollars in millions and rounded)',\n",
    "  animation_frame=\"year\",width = 1000,height = 600,range_y=[0,8000])\n",
    "fig.show()"
   ]
  },
  {
   "attachments": {},
   "cell_type": "markdown",
   "metadata": {},
   "source": [
    "3. Activity code: categories of fundigns with titles, descriptions, and activity code \n",
    "NIH uses activity codes (e.g. R01, R43, etc.) to differentiate the wide variety of research-related programs we support. NIH Institutes and Centers (ICs) Link to External Site may vary in the way they use activity codes; not all ICs accept applications for all types of grant programs or they apply specialized eligibility criteria. Look closely at Funding Opportunity Announcements (FOAs) to determine which ICs participate and the specifics of eligibility.\n",
    "https://grants.nih.gov/grants/funding/ac_search_results.htm\n",
    "\n"
   ]
  },
  {
   "cell_type": "code",
   "execution_count": 19,
   "metadata": {},
   "outputs": [],
   "source": [
    "codes = pd.read_excel(\"ActivityCodes.xls\")"
   ]
  },
  {
   "cell_type": "code",
   "execution_count": 20,
   "metadata": {},
   "outputs": [
    {
     "data": {
      "text/html": [
       "<div>\n",
       "<style scoped>\n",
       "    .dataframe tbody tr th:only-of-type {\n",
       "        vertical-align: middle;\n",
       "    }\n",
       "\n",
       "    .dataframe tbody tr th {\n",
       "        vertical-align: top;\n",
       "    }\n",
       "\n",
       "    .dataframe thead th {\n",
       "        text-align: right;\n",
       "    }\n",
       "</style>\n",
       "<table border=\"1\" class=\"dataframe\">\n",
       "  <thead>\n",
       "    <tr style=\"text-align: right;\">\n",
       "      <th></th>\n",
       "      <th>ID</th>\n",
       "      <th>ACT_CATEGORY</th>\n",
       "      <th>ACT_CODE</th>\n",
       "      <th>ACT_TITLE</th>\n",
       "      <th>ACT_DESCRIPTION</th>\n",
       "      <th>ACT_WEB_ADDRESS</th>\n",
       "    </tr>\n",
       "  </thead>\n",
       "  <tbody>\n",
       "    <tr>\n",
       "      <th>0</th>\n",
       "      <td>117</td>\n",
       "      <td>Research Construction Programs</td>\n",
       "      <td>C06</td>\n",
       "      <td>Research Facilities Construction Grant</td>\n",
       "      <td>To provide matching Federal funds, up to 75%, ...</td>\n",
       "      <td>NaN</td>\n",
       "    </tr>\n",
       "    <tr>\n",
       "      <th>1</th>\n",
       "      <td>1</td>\n",
       "      <td>Institutional Training and Director Program Pr...</td>\n",
       "      <td>D43</td>\n",
       "      <td>International Research Training Grants</td>\n",
       "      <td>To support research training programs for US a...</td>\n",
       "      <td>http://grants.nih.gov/training/F_files_non_nrs...</td>\n",
       "    </tr>\n",
       "    <tr>\n",
       "      <th>2</th>\n",
       "      <td>2</td>\n",
       "      <td>Institutional Training and Director Program Pr...</td>\n",
       "      <td>D71</td>\n",
       "      <td>International Research Training Planning Grant</td>\n",
       "      <td>To plan for the preparation of an application ...</td>\n",
       "      <td>http://grants.nih.gov/training/F_files_non_nrs...</td>\n",
       "    </tr>\n",
       "    <tr>\n",
       "      <th>3</th>\n",
       "      <td>3</td>\n",
       "      <td>Institutional Training and Director Program Pr...</td>\n",
       "      <td>DP1</td>\n",
       "      <td>NIH Director’s Pioneer Award (NDPA)</td>\n",
       "      <td>To support individuals who have the potential ...</td>\n",
       "      <td>http://commonfund.nih.gov/pioneer/</td>\n",
       "    </tr>\n",
       "    <tr>\n",
       "      <th>4</th>\n",
       "      <td>4</td>\n",
       "      <td>Institutional Training and Director Program Pr...</td>\n",
       "      <td>DP2</td>\n",
       "      <td>NIH Director’s New Innovator Awards</td>\n",
       "      <td>To support highly innovative research projects...</td>\n",
       "      <td>http://commonfund.nih.gov/newinnovator/</td>\n",
       "    </tr>\n",
       "  </tbody>\n",
       "</table>\n",
       "</div>"
      ],
      "text/plain": [
       "    ID                                       ACT_CATEGORY ACT_CODE  \\\n",
       "0  117                     Research Construction Programs      C06   \n",
       "1    1  Institutional Training and Director Program Pr...      D43   \n",
       "2    2  Institutional Training and Director Program Pr...      D71   \n",
       "3    3  Institutional Training and Director Program Pr...      DP1   \n",
       "4    4  Institutional Training and Director Program Pr...      DP2   \n",
       "\n",
       "                                        ACT_TITLE  \\\n",
       "0          Research Facilities Construction Grant   \n",
       "1          International Research Training Grants   \n",
       "2  International Research Training Planning Grant   \n",
       "3             NIH Director’s Pioneer Award (NDPA)   \n",
       "4             NIH Director’s New Innovator Awards   \n",
       "\n",
       "                                     ACT_DESCRIPTION  \\\n",
       "0  To provide matching Federal funds, up to 75%, ...   \n",
       "1  To support research training programs for US a...   \n",
       "2  To plan for the preparation of an application ...   \n",
       "3  To support individuals who have the potential ...   \n",
       "4  To support highly innovative research projects...   \n",
       "\n",
       "                                     ACT_WEB_ADDRESS  \n",
       "0                                                NaN  \n",
       "1  http://grants.nih.gov/training/F_files_non_nrs...  \n",
       "2  http://grants.nih.gov/training/F_files_non_nrs...  \n",
       "3                 http://commonfund.nih.gov/pioneer/  \n",
       "4            http://commonfund.nih.gov/newinnovator/  "
      ]
     },
     "execution_count": 20,
     "metadata": {},
     "output_type": "execute_result"
    }
   ],
   "source": [
    "codes.head()"
   ]
  },
  {
   "attachments": {},
   "cell_type": "markdown",
   "metadata": {},
   "source": [
    "4. API  \n",
    "https://api.reporter.nih.gov/\n",
    "\n",
    "will get a holistic dataset on projects through API. Submit query and obtain json。\n",
    "However, there is an entry limit of 500 imposed on each query. "
   ]
  },
  {
   "cell_type": "code",
   "execution_count": 31,
   "metadata": {},
   "outputs": [],
   "source": [
    "\n",
    "\n",
    "headers = {\n",
    "    'accept': 'application/json',\n",
    "    # Already added when you pass json=\n",
    "    # 'Content-Type': 'application/json',\n",
    "}\n",
    "\n",
    "json_data = {\n",
    "    'searchId': '*',\n",
    "    'criteria': {\n",
    "        'useRelevance': True,\n",
    "        'includeActiveProjects': True,\n",
    "        'offset': 0,\n",
    "        'limit': 3\n",
    "    },\n",
    "}\n",
    "\n",
    "response = requests.post('https://api.reporter.nih.gov/v2/projects/search', headers=headers, json=json_data)"
   ]
  },
  {
   "cell_type": "code",
   "execution_count": 34,
   "metadata": {},
   "outputs": [
    {
     "data": {
      "text/html": [
       "<div>\n",
       "<style scoped>\n",
       "    .dataframe tbody tr th:only-of-type {\n",
       "        vertical-align: middle;\n",
       "    }\n",
       "\n",
       "    .dataframe tbody tr th {\n",
       "        vertical-align: top;\n",
       "    }\n",
       "\n",
       "    .dataframe thead th {\n",
       "        text-align: right;\n",
       "    }\n",
       "</style>\n",
       "<table border=\"1\" class=\"dataframe\">\n",
       "  <thead>\n",
       "    <tr style=\"text-align: right;\">\n",
       "      <th></th>\n",
       "      <th>appl_id</th>\n",
       "      <th>subproject_id</th>\n",
       "      <th>fiscal_year</th>\n",
       "      <th>project_num</th>\n",
       "      <th>project_serial_num</th>\n",
       "      <th>award_type</th>\n",
       "      <th>activity_code</th>\n",
       "      <th>award_amount</th>\n",
       "      <th>is_active</th>\n",
       "      <th>project_num_split</th>\n",
       "      <th>...</th>\n",
       "      <th>full_study_section.irg_code</th>\n",
       "      <th>full_study_section.srg_code</th>\n",
       "      <th>full_study_section.srg_flex</th>\n",
       "      <th>full_study_section.sra_designator_code</th>\n",
       "      <th>full_study_section.sra_flex_code</th>\n",
       "      <th>full_study_section.group_code</th>\n",
       "      <th>full_study_section.name</th>\n",
       "      <th>full_study_section.url</th>\n",
       "      <th>full_study_section.cmte_id</th>\n",
       "      <th>full_study_section.cluster_irg_code</th>\n",
       "    </tr>\n",
       "  </thead>\n",
       "  <tbody>\n",
       "    <tr>\n",
       "      <th>0</th>\n",
       "      <td>9795459</td>\n",
       "      <td>None</td>\n",
       "      <td>2018</td>\n",
       "      <td>261201500036I-0-26100009-2</td>\n",
       "      <td>None</td>\n",
       "      <td>None</td>\n",
       "      <td>N01</td>\n",
       "      <td>930464.0</td>\n",
       "      <td>False</td>\n",
       "      <td>NaN</td>\n",
       "      <td>...</td>\n",
       "      <td>NaN</td>\n",
       "      <td>NaN</td>\n",
       "      <td>NaN</td>\n",
       "      <td>NaN</td>\n",
       "      <td>NaN</td>\n",
       "      <td>NaN</td>\n",
       "      <td>NaN</td>\n",
       "      <td>NaN</td>\n",
       "      <td>NaN</td>\n",
       "      <td>NaN</td>\n",
       "    </tr>\n",
       "    <tr>\n",
       "      <th>1</th>\n",
       "      <td>10324021</td>\n",
       "      <td>None</td>\n",
       "      <td>2021</td>\n",
       "      <td>1R43OH012283-01</td>\n",
       "      <td>OH012283</td>\n",
       "      <td>1</td>\n",
       "      <td>R43</td>\n",
       "      <td>243241.0</td>\n",
       "      <td>False</td>\n",
       "      <td>NaN</td>\n",
       "      <td>...</td>\n",
       "      <td>ZRG1</td>\n",
       "      <td>ZRG1</td>\n",
       "      <td></td>\n",
       "      <td>AIDC</td>\n",
       "      <td>V</td>\n",
       "      <td>13</td>\n",
       "      <td>Special Emphasis Panel[ZRG1 AIDC-V (13)]</td>\n",
       "      <td>NaN</td>\n",
       "      <td>NaN</td>\n",
       "      <td>NaN</td>\n",
       "    </tr>\n",
       "    <tr>\n",
       "      <th>2</th>\n",
       "      <td>10294664</td>\n",
       "      <td>None</td>\n",
       "      <td>2020</td>\n",
       "      <td>75N92020P00309-0-0-3</td>\n",
       "      <td>None</td>\n",
       "      <td>None</td>\n",
       "      <td>N02</td>\n",
       "      <td>100000.0</td>\n",
       "      <td>False</td>\n",
       "      <td>NaN</td>\n",
       "      <td>...</td>\n",
       "      <td>NaN</td>\n",
       "      <td>NaN</td>\n",
       "      <td>NaN</td>\n",
       "      <td>NaN</td>\n",
       "      <td>NaN</td>\n",
       "      <td>NaN</td>\n",
       "      <td>NaN</td>\n",
       "      <td>NaN</td>\n",
       "      <td>NaN</td>\n",
       "      <td>NaN</td>\n",
       "    </tr>\n",
       "    <tr>\n",
       "      <th>3</th>\n",
       "      <td>10287968</td>\n",
       "      <td>None</td>\n",
       "      <td>2020</td>\n",
       "      <td>75N95019D00013-0-759502000001-1</td>\n",
       "      <td>None</td>\n",
       "      <td>None</td>\n",
       "      <td>N01</td>\n",
       "      <td>2113098.0</td>\n",
       "      <td>False</td>\n",
       "      <td>NaN</td>\n",
       "      <td>...</td>\n",
       "      <td>NaN</td>\n",
       "      <td>NaN</td>\n",
       "      <td>NaN</td>\n",
       "      <td>NaN</td>\n",
       "      <td>NaN</td>\n",
       "      <td>NaN</td>\n",
       "      <td>NaN</td>\n",
       "      <td>NaN</td>\n",
       "      <td>NaN</td>\n",
       "      <td>NaN</td>\n",
       "    </tr>\n",
       "    <tr>\n",
       "      <th>4</th>\n",
       "      <td>10329701</td>\n",
       "      <td>None</td>\n",
       "      <td>2021</td>\n",
       "      <td>75N95019D00013-P00002-759502000001-1</td>\n",
       "      <td>None</td>\n",
       "      <td>None</td>\n",
       "      <td>N01</td>\n",
       "      <td>549285.0</td>\n",
       "      <td>False</td>\n",
       "      <td>NaN</td>\n",
       "      <td>...</td>\n",
       "      <td>NaN</td>\n",
       "      <td>NaN</td>\n",
       "      <td>NaN</td>\n",
       "      <td>NaN</td>\n",
       "      <td>NaN</td>\n",
       "      <td>NaN</td>\n",
       "      <td>NaN</td>\n",
       "      <td>NaN</td>\n",
       "      <td>NaN</td>\n",
       "      <td>NaN</td>\n",
       "    </tr>\n",
       "  </tbody>\n",
       "</table>\n",
       "<p>5 rows × 81 columns</p>\n",
       "</div>"
      ],
      "text/plain": [
       "    appl_id subproject_id  fiscal_year                           project_num  \\\n",
       "0   9795459          None         2018            261201500036I-0-26100009-2   \n",
       "1  10324021          None         2021                       1R43OH012283-01   \n",
       "2  10294664          None         2020                  75N92020P00309-0-0-3   \n",
       "3  10287968          None         2020       75N95019D00013-0-759502000001-1   \n",
       "4  10329701          None         2021  75N95019D00013-P00002-759502000001-1   \n",
       "\n",
       "  project_serial_num award_type activity_code  award_amount  is_active  \\\n",
       "0               None       None           N01      930464.0      False   \n",
       "1           OH012283          1           R43      243241.0      False   \n",
       "2               None       None           N02      100000.0      False   \n",
       "3               None       None           N01     2113098.0      False   \n",
       "4               None       None           N01      549285.0      False   \n",
       "\n",
       "   project_num_split  ... full_study_section.irg_code  \\\n",
       "0                NaN  ...                         NaN   \n",
       "1                NaN  ...                        ZRG1   \n",
       "2                NaN  ...                         NaN   \n",
       "3                NaN  ...                         NaN   \n",
       "4                NaN  ...                         NaN   \n",
       "\n",
       "  full_study_section.srg_code full_study_section.srg_flex  \\\n",
       "0                         NaN                         NaN   \n",
       "1                        ZRG1                               \n",
       "2                         NaN                         NaN   \n",
       "3                         NaN                         NaN   \n",
       "4                         NaN                         NaN   \n",
       "\n",
       "  full_study_section.sra_designator_code full_study_section.sra_flex_code  \\\n",
       "0                                    NaN                              NaN   \n",
       "1                                   AIDC                                V   \n",
       "2                                    NaN                              NaN   \n",
       "3                                    NaN                              NaN   \n",
       "4                                    NaN                              NaN   \n",
       "\n",
       "  full_study_section.group_code                   full_study_section.name  \\\n",
       "0                           NaN                                       NaN   \n",
       "1                            13  Special Emphasis Panel[ZRG1 AIDC-V (13)]   \n",
       "2                           NaN                                       NaN   \n",
       "3                           NaN                                       NaN   \n",
       "4                           NaN                                       NaN   \n",
       "\n",
       "  full_study_section.url full_study_section.cmte_id  \\\n",
       "0                    NaN                        NaN   \n",
       "1                    NaN                        NaN   \n",
       "2                    NaN                        NaN   \n",
       "3                    NaN                        NaN   \n",
       "4                    NaN                        NaN   \n",
       "\n",
       "   full_study_section.cluster_irg_code  \n",
       "0                                  NaN  \n",
       "1                                  NaN  \n",
       "2                                  NaN  \n",
       "3                                  NaN  \n",
       "4                                  NaN  \n",
       "\n",
       "[5 rows x 81 columns]"
      ]
     },
     "execution_count": 34,
     "metadata": {},
     "output_type": "execute_result"
    }
   ],
   "source": [
    "\n",
    "dict = json.loads(response.text)\n",
    "df = pd.json_normalize(dict['results'])\n",
    "df.head()"
   ]
  },
  {
   "cell_type": "code",
   "execution_count": 35,
   "metadata": {},
   "outputs": [
    {
     "ename": "NameError",
     "evalue": "name 'df' is not defined",
     "output_type": "error",
     "traceback": [
      "\u001b[0;31m---------------------------------------------------------------------------\u001b[0m",
      "\u001b[0;31mNameError\u001b[0m                                 Traceback (most recent call last)",
      "\u001b[0;32m<ipython-input-35-b666bf274d0a>\u001b[0m in \u001b[0;36m<module>\u001b[0;34m\u001b[0m\n\u001b[0;32m----> 1\u001b[0;31m \u001b[0mdf\u001b[0m\u001b[0;34m.\u001b[0m\u001b[0mcolumns\u001b[0m\u001b[0;34m\u001b[0m\u001b[0;34m\u001b[0m\u001b[0m\n\u001b[0m",
      "\u001b[0;31mNameError\u001b[0m: name 'df' is not defined"
     ]
    }
   ],
   "source": [
    "df.columns"
   ]
  },
  {
   "cell_type": "code",
   "execution_count": 388,
   "metadata": {},
   "outputs": [],
   "source": [
    "pi = pd.read_csv('pi.csv')"
   ]
  },
  {
   "cell_type": "code",
   "execution_count": 390,
   "metadata": {},
   "outputs": [
    {
     "data": {
      "text/html": [
       "<div>\n",
       "<style scoped>\n",
       "    .dataframe tbody tr th:only-of-type {\n",
       "        vertical-align: middle;\n",
       "    }\n",
       "\n",
       "    .dataframe tbody tr th {\n",
       "        vertical-align: top;\n",
       "    }\n",
       "\n",
       "    .dataframe thead th {\n",
       "        text-align: right;\n",
       "    }\n",
       "</style>\n",
       "<table border=\"1\" class=\"dataframe\">\n",
       "  <thead>\n",
       "    <tr style=\"text-align: right;\">\n",
       "      <th></th>\n",
       "      <th>profile_id</th>\n",
       "      <th>FY</th>\n",
       "      <th>ETHNICITY2</th>\n",
       "      <th>gender</th>\n",
       "      <th>DEGREE</th>\n",
       "      <th>tot_doll</th>\n",
       "      <th>race</th>\n",
       "      <th>age</th>\n",
       "      <th>number_rpg_desc</th>\n",
       "    </tr>\n",
       "  </thead>\n",
       "  <tbody>\n",
       "    <tr>\n",
       "      <th>0</th>\n",
       "      <td>8dcd5fb732c6c400e5f6f821dd07f494</td>\n",
       "      <td>1985</td>\n",
       "      <td>Withheld</td>\n",
       "      <td>Male</td>\n",
       "      <td>PhD</td>\n",
       "      <td>2.858527e+05</td>\n",
       "      <td>White</td>\n",
       "      <td>Early</td>\n",
       "      <td>One</td>\n",
       "    </tr>\n",
       "    <tr>\n",
       "      <th>1</th>\n",
       "      <td>3211e3aac113bb58c7a31d1756aa4d22</td>\n",
       "      <td>1985</td>\n",
       "      <td>Unknown</td>\n",
       "      <td>Female</td>\n",
       "      <td>MD</td>\n",
       "      <td>3.364276e+05</td>\n",
       "      <td>Unknown</td>\n",
       "      <td>Mid</td>\n",
       "      <td>One</td>\n",
       "    </tr>\n",
       "    <tr>\n",
       "      <th>2</th>\n",
       "      <td>cf3b26ce35fbd4519df488f89bab3953</td>\n",
       "      <td>1985</td>\n",
       "      <td>Unknown</td>\n",
       "      <td>Male</td>\n",
       "      <td>PhD</td>\n",
       "      <td>6.722707e+05</td>\n",
       "      <td>White</td>\n",
       "      <td>Mid</td>\n",
       "      <td>Two</td>\n",
       "    </tr>\n",
       "    <tr>\n",
       "      <th>3</th>\n",
       "      <td>d9a01ca480f0b65f62ede6b3a6b80cd5</td>\n",
       "      <td>1985</td>\n",
       "      <td>Not Hispanic</td>\n",
       "      <td>Male</td>\n",
       "      <td>MD</td>\n",
       "      <td>7.244536e+06</td>\n",
       "      <td>White</td>\n",
       "      <td>Mid</td>\n",
       "      <td>Two</td>\n",
       "    </tr>\n",
       "    <tr>\n",
       "      <th>4</th>\n",
       "      <td>dbfeefc788f02e51ab94cce0d056b65c</td>\n",
       "      <td>1985</td>\n",
       "      <td>Not Hispanic</td>\n",
       "      <td>Male</td>\n",
       "      <td>PhD</td>\n",
       "      <td>1.612166e+05</td>\n",
       "      <td>White</td>\n",
       "      <td>Early</td>\n",
       "      <td>One</td>\n",
       "    </tr>\n",
       "  </tbody>\n",
       "</table>\n",
       "</div>"
      ],
      "text/plain": [
       "                         profile_id    FY    ETHNICITY2  gender DEGREE  \\\n",
       "0  8dcd5fb732c6c400e5f6f821dd07f494  1985      Withheld    Male    PhD   \n",
       "1  3211e3aac113bb58c7a31d1756aa4d22  1985       Unknown  Female     MD   \n",
       "2  cf3b26ce35fbd4519df488f89bab3953  1985       Unknown    Male    PhD   \n",
       "3  d9a01ca480f0b65f62ede6b3a6b80cd5  1985  Not Hispanic    Male     MD   \n",
       "4  dbfeefc788f02e51ab94cce0d056b65c  1985  Not Hispanic    Male    PhD   \n",
       "\n",
       "       tot_doll     race    age number_rpg_desc  \n",
       "0  2.858527e+05    White  Early             One  \n",
       "1  3.364276e+05  Unknown    Mid             One  \n",
       "2  6.722707e+05    White    Mid             Two  \n",
       "3  7.244536e+06    White    Mid             Two  \n",
       "4  1.612166e+05    White  Early             One  "
      ]
     },
     "execution_count": 390,
     "metadata": {},
     "output_type": "execute_result"
    }
   ],
   "source": [
    "pi.head()"
   ]
  },
  {
   "cell_type": "code",
   "execution_count": 392,
   "metadata": {},
   "outputs": [
    {
     "data": {
      "text/html": [
       "<div>\n",
       "<style scoped>\n",
       "    .dataframe tbody tr th:only-of-type {\n",
       "        vertical-align: middle;\n",
       "    }\n",
       "\n",
       "    .dataframe tbody tr th {\n",
       "        vertical-align: top;\n",
       "    }\n",
       "\n",
       "    .dataframe thead th {\n",
       "        text-align: right;\n",
       "    }\n",
       "</style>\n",
       "<table border=\"1\" class=\"dataframe\">\n",
       "  <thead>\n",
       "    <tr style=\"text-align: right;\">\n",
       "      <th></th>\n",
       "      <th>IPF</th>\n",
       "      <th>FY</th>\n",
       "      <th>ORG_TYPE</th>\n",
       "      <th>REGION</th>\n",
       "      <th>STATE_CODE</th>\n",
       "      <th>tot_doll</th>\n",
       "    </tr>\n",
       "  </thead>\n",
       "  <tbody>\n",
       "    <tr>\n",
       "      <th>0</th>\n",
       "      <td>8d77e73daef9e18b3c0cf49cfce53deb</td>\n",
       "      <td>1985</td>\n",
       "      <td>Foreign</td>\n",
       "      <td>Foreign</td>\n",
       "      <td>NaN</td>\n",
       "      <td>2.527544e+05</td>\n",
       "    </tr>\n",
       "    <tr>\n",
       "      <th>1</th>\n",
       "      <td>329cf1e21fdbb919ff0edbefecf17593</td>\n",
       "      <td>1985</td>\n",
       "      <td>Foreign</td>\n",
       "      <td>Foreign</td>\n",
       "      <td>NaN</td>\n",
       "      <td>5.020836e+04</td>\n",
       "    </tr>\n",
       "    <tr>\n",
       "      <th>2</th>\n",
       "      <td>cf4c8f5328bc7625a579a48b21782ad7</td>\n",
       "      <td>1985</td>\n",
       "      <td>Other Domestic NonProfit</td>\n",
       "      <td>North East</td>\n",
       "      <td>PA</td>\n",
       "      <td>2.952087e+05</td>\n",
       "    </tr>\n",
       "    <tr>\n",
       "      <th>3</th>\n",
       "      <td>d98e02f89718ab8ea2e487cc6a78d3d3</td>\n",
       "      <td>1985</td>\n",
       "      <td>Other Higher Education</td>\n",
       "      <td>North East</td>\n",
       "      <td>NY</td>\n",
       "      <td>2.386051e+05</td>\n",
       "    </tr>\n",
       "    <tr>\n",
       "      <th>4</th>\n",
       "      <td>db02da514842b5fa45c1ae78b00c9eab</td>\n",
       "      <td>1985</td>\n",
       "      <td>Medical Schools</td>\n",
       "      <td>Mid West</td>\n",
       "      <td>WI</td>\n",
       "      <td>2.987367e+07</td>\n",
       "    </tr>\n",
       "  </tbody>\n",
       "</table>\n",
       "</div>"
      ],
      "text/plain": [
       "                                IPF    FY                  ORG_TYPE  \\\n",
       "0  8d77e73daef9e18b3c0cf49cfce53deb  1985                   Foreign   \n",
       "1  329cf1e21fdbb919ff0edbefecf17593  1985                   Foreign   \n",
       "2  cf4c8f5328bc7625a579a48b21782ad7  1985  Other Domestic NonProfit   \n",
       "3  d98e02f89718ab8ea2e487cc6a78d3d3  1985    Other Higher Education   \n",
       "4  db02da514842b5fa45c1ae78b00c9eab  1985           Medical Schools   \n",
       "\n",
       "       REGION STATE_CODE      tot_doll  \n",
       "0     Foreign        NaN  2.527544e+05  \n",
       "1     Foreign        NaN  5.020836e+04  \n",
       "2  North East         PA  2.952087e+05  \n",
       "3  North East         NY  2.386051e+05  \n",
       "4    Mid West         WI  2.987367e+07  "
      ]
     },
     "execution_count": 392,
     "metadata": {},
     "output_type": "execute_result"
    }
   ],
   "source": [
    "org = pd.read_csv('anon_org.csv')\n",
    "org.head()"
   ]
  },
  {
   "cell_type": "markdown",
   "metadata": {},
   "source": []
  }
 ],
 "metadata": {
  "kernelspec": {
   "display_name": "base",
   "language": "python",
   "name": "python3"
  },
  "language_info": {
   "codemirror_mode": {
    "name": "ipython",
    "version": 3
   },
   "file_extension": ".py",
   "mimetype": "text/x-python",
   "name": "python",
   "nbconvert_exporter": "python",
   "pygments_lexer": "ipython3",
   "version": "3.8.8"
  },
  "orig_nbformat": 4,
  "vscode": {
   "interpreter": {
    "hash": "dea020618c6d75d6a2b362878fa8ffdb3663cdd93010adabd1eb95477499d165"
   }
  }
 },
 "nbformat": 4,
 "nbformat_minor": 2
}
