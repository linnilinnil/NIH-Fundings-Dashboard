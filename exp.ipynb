{
 "cells": [
  {
   "cell_type": "code",
   "execution_count": 4,
   "metadata": {},
   "outputs": [],
   "source": [
    "import pandas as pd\n",
    "dat = pd.read_csv('abl.csv')\n",
    "dat = dat.iloc[2000:3000,:]"
   ]
  },
  {
   "cell_type": "code",
   "execution_count": 5,
   "metadata": {},
   "outputs": [
    {
     "data": {
      "text/plain": [
       "65"
      ]
     },
     "execution_count": 5,
     "metadata": {},
     "output_type": "execute_result"
    }
   ],
   "source": [
    "# retrieving location: longitude and latitude based on city and state\n",
    "from geopy import Nominatim\n",
    "import numpy as np\n",
    "geolocator = Nominatim(user_agent=\"app\")\n",
    "dat[\"FULL_LOC\"] = dat[\"CITY\"] + \" \" + dat[\"STATE OR COUNTRY NAME\"]\n",
    "\n",
    "loc = list(dat[\"FULL_LOC\"].unique())\n",
    "len(loc)"
   ]
  },
  {
   "cell_type": "code",
   "execution_count": 7,
   "metadata": {},
   "outputs": [],
   "source": [
    "geo = [geolocator.geocode(i) for i in loc] "
   ]
  },
  {
   "cell_type": "code",
   "execution_count": 30,
   "metadata": {},
   "outputs": [
    {
     "data": {
      "text/plain": [
       "'WASHINGTON DIST OF COL'"
      ]
     },
     "execution_count": 30,
     "metadata": {},
     "output_type": "execute_result"
    }
   ],
   "source": [
    "loc[geo.index(None)]"
   ]
  },
  {
   "cell_type": "code",
   "execution_count": 27,
   "metadata": {},
   "outputs": [
    {
     "data": {
      "text/plain": [
       "Location(Washington, District of Columbia, United States, (38.8950368, -77.0365427, 0.0))"
      ]
     },
     "execution_count": 27,
     "metadata": {},
     "output_type": "execute_result"
    }
   ],
   "source": [
    "geolocator.geocode(\"WASHINGTON DISTRICT OF COLUMBIA\")"
   ]
  },
  {
   "cell_type": "code",
   "execution_count": 11,
   "metadata": {},
   "outputs": [],
   "source": [
    "import numpy as np\n",
    "lat = [i.latitude if i is not None else np.nan for i in geo ]\n",
    "lon = [i.longitude if i is not None else np.nan for i in geo ]"
   ]
  },
  {
   "cell_type": "code",
   "execution_count": 31,
   "metadata": {},
   "outputs": [],
   "source": [
    "lat_dict = dict(zip(loc,lat))\n",
    "lon_dict = dict(zip(loc,lon))\n",
    "\n",
    "lat_dict.update({'WASHINGTON DIST OF COL':38.8950368})\n",
    "lon_dict.update({'WASHINGTON DIST OF COL': -77.0365427})"
   ]
  },
  {
   "cell_type": "code",
   "execution_count": 93,
   "metadata": {},
   "outputs": [],
   "source": [
    "dat[\"LON\"] = dat[\"FULL_LOC\"].map(lon_dict).astype(int)\n",
    "dat[\"LAT\"] = dat[\"FULL_LOC\"].map(lat_dict).astype(int)"
   ]
  },
  {
   "cell_type": "code",
   "execution_count": 94,
   "metadata": {},
   "outputs": [
    {
     "data": {
      "text/html": [
       "<div>\n",
       "<style scoped>\n",
       "    .dataframe tbody tr th:only-of-type {\n",
       "        vertical-align: middle;\n",
       "    }\n",
       "\n",
       "    .dataframe tbody tr th {\n",
       "        vertical-align: top;\n",
       "    }\n",
       "\n",
       "    .dataframe thead th {\n",
       "        text-align: right;\n",
       "    }\n",
       "</style>\n",
       "<table border=\"1\" class=\"dataframe\">\n",
       "  <thead>\n",
       "    <tr style=\"text-align: right;\">\n",
       "      <th></th>\n",
       "      <th>ORGANIZATION NAME</th>\n",
       "      <th>ORGANIZATION ID (IPF)</th>\n",
       "      <th>PROJECT NUMBER</th>\n",
       "      <th>FUNDING MECHANISM</th>\n",
       "      <th>NIH REFERENCE</th>\n",
       "      <th>PI NAME</th>\n",
       "      <th>PI PERSON ID</th>\n",
       "      <th>PROJECT TITLE</th>\n",
       "      <th>DEPT NAME</th>\n",
       "      <th>NIH DEPT COMBINING NAME</th>\n",
       "      <th>...</th>\n",
       "      <th>ATTRIBUTED TO MEDICAL SCHOOL</th>\n",
       "      <th>MEDICAL SCHOOL LOCATION</th>\n",
       "      <th>INSTITUTION TYPE</th>\n",
       "      <th>AWARD NOTICE DATE</th>\n",
       "      <th>FOA</th>\n",
       "      <th>FULL_LOC</th>\n",
       "      <th>LON</th>\n",
       "      <th>LAT</th>\n",
       "      <th>MONTH</th>\n",
       "      <th>YEAR</th>\n",
       "    </tr>\n",
       "  </thead>\n",
       "  <tbody>\n",
       "  </tbody>\n",
       "</table>\n",
       "<p>0 rows × 28 columns</p>\n",
       "</div>"
      ],
      "text/plain": [
       "Empty DataFrame\n",
       "Columns: [ORGANIZATION NAME, ORGANIZATION ID (IPF), PROJECT NUMBER, FUNDING MECHANISM, NIH REFERENCE, PI NAME, PI PERSON ID, PROJECT TITLE, DEPT NAME, NIH DEPT COMBINING NAME, NIH MC COMBINING NAME, DIRECT COST, INDIRECT COST, FUNDING, CONGRESSIONAL DISTRICT, CITY, STATE OR COUNTRY NAME, ZIP CODE, ATTRIBUTED TO MEDICAL SCHOOL, MEDICAL SCHOOL LOCATION, INSTITUTION TYPE, AWARD NOTICE DATE, FOA, FULL_LOC, LON, LAT, MONTH, YEAR]\n",
       "Index: []\n",
       "\n",
       "[0 rows x 28 columns]"
      ]
     },
     "execution_count": 94,
     "metadata": {},
     "output_type": "execute_result"
    }
   ],
   "source": [
    "dat[dat[\"LON\"].isna()]"
   ]
  },
  {
   "cell_type": "code",
   "execution_count": 38,
   "metadata": {},
   "outputs": [],
   "source": [
    "dat[\"MONTH\"] = pd.to_datetime(dat[\"AWARD NOTICE DATE\"]).dt.month\n",
    "dat[\"YEAR\"] = pd.to_datetime(dat[\"AWARD NOTICE DATE\"]).dt.year"
   ]
  },
  {
   "cell_type": "code",
   "execution_count": 48,
   "metadata": {},
   "outputs": [
    {
     "data": {
      "text/plain": [
       "['RPGs - Non SBIR/STTR',\n",
       " 'Other Research-Related',\n",
       " 'Training - Individual',\n",
       " 'RPGs - SBIR/STTR',\n",
       " 'Training - Institutional',\n",
       " 'Research Centers',\n",
       " 'Other',\n",
       " 'all']"
      ]
     },
     "execution_count": 48,
     "metadata": {},
     "output_type": "execute_result"
    }
   ],
   "source": [
    "dat[\"FUNDING MECHANISM\"].unique() "
   ]
  },
  {
   "cell_type": "code",
   "execution_count": 41,
   "metadata": {},
   "outputs": [
    {
     "data": {
      "text/plain": [
       "array(['Domestic Higher Education', nan, 'Research Institutes',\n",
       "       'Independent Hospitals', 'None'], dtype=object)"
      ]
     },
     "execution_count": 41,
     "metadata": {},
     "output_type": "execute_result"
    }
   ],
   "source": [
    "dat[\"INSTITUTION TYPE\"].unique()"
   ]
  },
  {
   "cell_type": "code",
   "execution_count": 44,
   "metadata": {},
   "outputs": [
    {
     "data": {
      "text/plain": [
       "2000    $249,901 \n",
       "2001    $298,587 \n",
       "2002     $90,914 \n",
       "2003     $77,070 \n",
       "2004    $422,500 \n",
       "Name: FUNDING, dtype: object"
      ]
     },
     "execution_count": 44,
     "metadata": {},
     "output_type": "execute_result"
    }
   ],
   "source": [
    "dat[\"FUNDING\"].head()"
   ]
  },
  {
   "cell_type": "code",
   "execution_count": 97,
   "metadata": {},
   "outputs": [],
   "source": [
    "dat.to_csv(\"abl-short.csv\")"
   ]
  },
  {
   "cell_type": "code",
   "execution_count": 98,
   "metadata": {},
   "outputs": [],
   "source": [
    "\n",
    "# dash\n",
    "import dash\n",
    "from dash import Dash, dcc, html\n",
    "import dash_bootstrap_components as dbc\n",
    "from dash.dependencies import Input, Output, State\n",
    "\n",
    "# plotting and df\n",
    "import plotly.graph_objs as go\n",
    "import plotly.express as px\n",
    "import numpy as np\n",
    "import pandas as pd \n",
    "\n",
    "\n",
    "# load data\n",
    "# for now we just read pre-saved file\n",
    "proj = pd.read_csv(\"abl-short.csv\").dropna()\n",
    "years = list(proj[\"YEAR\"].unique()) \n",
    "minyr = min(years)\n",
    "maxyr = max(years)\n",
    "years = years + [\"all\"]\n",
    "months = list(proj[\"MONTH\"].unique()) + [\"all\"]\n",
    "funds = list(proj[\"FUNDING MECHANISM\"].unique()) + [\"all\"]\n",
    "insts = list(proj[\"INSTITUTION TYPE\"].unique()) + [\"all\"]\n",
    "\n"
   ]
  },
  {
   "cell_type": "code",
   "execution_count": 99,
   "metadata": {},
   "outputs": [],
   "source": [
    "access = \"pk.eyJ1IjoibGlubmlsIiwiYSI6ImNsZW01bW9vaTBhMjIzdm1sb2V1b25qemcifQ.W5w-j8UQOorI_ZbO2ibrzA\"\n",
    "style = \"mapbox://styles/linnil/clem66ou8000w01qus6lbbdm9\"\n"
   ]
  },
  {
   "cell_type": "code",
   "execution_count": 102,
   "metadata": {},
   "outputs": [
    {
     "data": {
      "application/vnd.plotly.v1+json": {
       "config": {
        "plotlyServerURL": "https://plot.ly"
       },
       "data": [
        {
         "hovertemplate": "LAT=%{lat}<br>LON=%{lon}<extra></extra>",
         "lat": [
          38,
          36,
          36,
          36,
          36,
          36,
          36,
          36,
          36,
          36,
          36,
          36,
          36,
          36,
          36,
          36,
          36,
          36,
          36,
          36,
          36,
          36,
          36,
          36,
          36,
          36,
          36,
          36,
          36,
          36,
          36,
          36,
          36,
          36,
          36,
          36,
          36,
          36,
          36,
          36,
          36,
          36,
          36,
          36,
          36,
          36,
          36,
          36,
          36,
          36,
          36,
          36,
          36,
          36,
          36,
          36,
          36,
          36,
          36,
          36,
          36,
          36,
          36,
          36,
          36,
          36,
          36,
          36,
          36,
          36,
          36,
          36,
          36,
          36,
          36,
          36,
          36,
          36,
          36,
          36,
          36,
          36,
          36,
          36,
          36,
          36,
          36,
          36,
          36,
          36,
          36,
          36,
          36,
          36,
          36,
          36,
          36,
          36,
          36,
          36,
          36,
          36,
          36,
          36,
          36,
          36,
          36,
          36,
          36,
          36,
          36,
          36,
          36,
          36,
          36,
          36,
          36,
          36,
          36,
          36,
          36,
          36,
          36,
          36,
          39,
          39,
          39,
          39,
          39,
          39,
          39,
          39,
          39,
          39,
          39,
          39,
          39,
          39,
          39,
          39,
          39,
          39,
          39,
          39,
          39,
          39,
          39,
          39,
          39,
          39,
          39,
          39,
          39,
          39,
          39,
          39,
          39,
          39,
          39,
          39,
          39,
          39,
          39,
          39,
          39,
          39,
          39,
          39,
          39,
          39,
          39,
          39,
          39,
          39,
          39,
          39,
          39,
          39,
          39,
          39,
          39,
          39,
          39,
          39,
          39,
          39,
          39,
          39,
          39,
          39,
          39,
          39,
          39,
          39,
          39,
          39,
          39,
          39,
          39,
          39,
          39,
          39,
          39,
          39,
          39,
          39,
          39,
          39,
          39,
          39,
          39,
          39,
          39,
          39,
          39,
          39,
          39,
          39,
          39,
          39,
          39,
          39,
          39,
          39,
          39,
          39,
          39,
          39,
          39,
          39,
          39,
          39,
          39,
          39,
          39,
          39,
          39,
          39,
          39,
          39,
          39,
          39,
          39,
          39,
          39,
          39,
          39,
          39,
          39,
          39,
          39,
          39,
          39,
          39,
          39,
          39,
          39,
          39,
          39,
          39,
          39,
          39,
          39,
          39,
          39,
          39,
          39,
          39,
          39,
          39,
          39,
          39,
          39,
          39,
          39,
          39,
          39,
          39,
          39,
          39,
          39,
          39,
          39,
          39,
          39,
          39,
          39,
          39,
          39,
          39,
          39,
          39,
          39,
          39,
          39,
          39,
          39,
          39,
          39,
          39,
          39,
          39,
          39,
          39,
          39,
          39,
          39,
          39,
          39,
          39,
          39,
          39,
          39,
          39,
          39,
          39,
          39,
          39,
          39,
          34,
          34,
          34,
          34,
          34,
          32,
          32,
          32,
          32,
          32,
          32,
          41,
          41,
          41,
          41,
          41,
          41,
          41,
          29,
          29,
          29,
          29,
          29,
          29,
          29,
          29,
          29,
          29,
          29,
          29,
          38
         ],
         "legendgroup": "",
         "lon": [
          -77,
          -115,
          -115,
          -115,
          -115,
          -115,
          -115,
          -115,
          -115,
          -115,
          -115,
          -115,
          -115,
          -115,
          -115,
          -115,
          -115,
          -115,
          -115,
          -115,
          -115,
          -115,
          -115,
          -115,
          -115,
          -115,
          -115,
          -115,
          -115,
          -115,
          -115,
          -115,
          -115,
          -115,
          -115,
          -115,
          -115,
          -115,
          -115,
          -115,
          -115,
          -115,
          -115,
          -115,
          -115,
          -115,
          -115,
          -115,
          -115,
          -115,
          -115,
          -115,
          -115,
          -115,
          -115,
          -115,
          -115,
          -115,
          -115,
          -115,
          -115,
          -115,
          -115,
          -115,
          -115,
          -115,
          -115,
          -115,
          -115,
          -115,
          -115,
          -115,
          -115,
          -115,
          -115,
          -115,
          -115,
          -115,
          -115,
          -115,
          -115,
          -115,
          -115,
          -115,
          -115,
          -115,
          -115,
          -115,
          -115,
          -115,
          -115,
          -115,
          -115,
          -115,
          -115,
          -115,
          -115,
          -115,
          -115,
          -115,
          -115,
          -115,
          -115,
          -115,
          -115,
          -115,
          -115,
          -115,
          -115,
          -115,
          -115,
          -115,
          -115,
          -115,
          -115,
          -115,
          -115,
          -115,
          -115,
          -115,
          -115,
          -115,
          -115,
          -115,
          -86,
          -86,
          -86,
          -86,
          -86,
          -86,
          -86,
          -86,
          -86,
          -86,
          -86,
          -86,
          -86,
          -86,
          -86,
          -86,
          -86,
          -86,
          -86,
          -86,
          -86,
          -86,
          -86,
          -86,
          -86,
          -86,
          -86,
          -86,
          -86,
          -86,
          -86,
          -86,
          -86,
          -86,
          -86,
          -86,
          -86,
          -86,
          -86,
          -86,
          -86,
          -86,
          -86,
          -86,
          -86,
          -86,
          -86,
          -86,
          -76,
          -76,
          -76,
          -76,
          -76,
          -76,
          -76,
          -76,
          -76,
          -76,
          -76,
          -76,
          -76,
          -76,
          -76,
          -76,
          -76,
          -76,
          -76,
          -76,
          -76,
          -76,
          -76,
          -76,
          -76,
          -76,
          -76,
          -76,
          -76,
          -76,
          -76,
          -76,
          -76,
          -76,
          -76,
          -76,
          -76,
          -76,
          -76,
          -76,
          -76,
          -76,
          -76,
          -76,
          -76,
          -76,
          -76,
          -76,
          -76,
          -76,
          -76,
          -76,
          -76,
          -76,
          -76,
          -76,
          -76,
          -76,
          -76,
          -76,
          -76,
          -76,
          -76,
          -76,
          -76,
          -76,
          -76,
          -76,
          -76,
          -76,
          -76,
          -76,
          -76,
          -76,
          -76,
          -76,
          -76,
          -76,
          -76,
          -76,
          -76,
          -76,
          -76,
          -76,
          -76,
          -76,
          -76,
          -76,
          -76,
          -76,
          -76,
          -76,
          -76,
          -76,
          -76,
          -76,
          -76,
          -76,
          -76,
          -76,
          -76,
          -76,
          -76,
          -76,
          -76,
          -76,
          -76,
          -76,
          -76,
          -76,
          -76,
          -76,
          -76,
          -76,
          -76,
          -76,
          -76,
          -76,
          -76,
          -76,
          -76,
          -76,
          -76,
          -76,
          -76,
          -76,
          -76,
          -76,
          -76,
          -76,
          -76,
          -76,
          -76,
          -76,
          -76,
          -76,
          -76,
          -76,
          -76,
          -76,
          -76,
          -76,
          -76,
          -76,
          -76,
          -76,
          -76,
          -117,
          -117,
          -117,
          -117,
          -117,
          -93,
          -93,
          -93,
          -93,
          -93,
          -93,
          -87,
          -87,
          -87,
          -87,
          -87,
          -87,
          -87,
          -90,
          -90,
          -90,
          -90,
          -90,
          -90,
          -90,
          -90,
          -90,
          -90,
          -90,
          -90,
          -82
         ],
         "marker": {
          "color": "#636efa"
         },
         "mode": "markers",
         "name": "",
         "showlegend": false,
         "subplot": "mapbox",
         "type": "scattermapbox"
        }
       ],
       "layout": {
        "legend": {
         "tracegroupgap": 0
        },
        "mapbox": {
         "accesstoken": "pk.eyJ1IjoibGlubmlsIiwiYSI6ImNsZW01bW9vaTBhMjIzdm1sb2V1b25qemcifQ.W5w-j8UQOorI_ZbO2ibrzA",
         "center": {
          "lat": 37.44571428571429,
          "lon": -92.67428571428572
         },
         "domain": {
          "x": [
           0,
           1
          ],
          "y": [
           0,
           1
          ]
         },
         "style": "mapbox://styles/linnil/clem66ou8000w01qus6lbbdm9",
         "zoom": 3
        },
        "margin": {
         "t": 60
        },
        "template": {
         "data": {
          "bar": [
           {
            "error_x": {
             "color": "#2a3f5f"
            },
            "error_y": {
             "color": "#2a3f5f"
            },
            "marker": {
             "line": {
              "color": "#E5ECF6",
              "width": 0.5
             },
             "pattern": {
              "fillmode": "overlay",
              "size": 10,
              "solidity": 0.2
             }
            },
            "type": "bar"
           }
          ],
          "barpolar": [
           {
            "marker": {
             "line": {
              "color": "#E5ECF6",
              "width": 0.5
             },
             "pattern": {
              "fillmode": "overlay",
              "size": 10,
              "solidity": 0.2
             }
            },
            "type": "barpolar"
           }
          ],
          "carpet": [
           {
            "aaxis": {
             "endlinecolor": "#2a3f5f",
             "gridcolor": "white",
             "linecolor": "white",
             "minorgridcolor": "white",
             "startlinecolor": "#2a3f5f"
            },
            "baxis": {
             "endlinecolor": "#2a3f5f",
             "gridcolor": "white",
             "linecolor": "white",
             "minorgridcolor": "white",
             "startlinecolor": "#2a3f5f"
            },
            "type": "carpet"
           }
          ],
          "choropleth": [
           {
            "colorbar": {
             "outlinewidth": 0,
             "ticks": ""
            },
            "type": "choropleth"
           }
          ],
          "contour": [
           {
            "colorbar": {
             "outlinewidth": 0,
             "ticks": ""
            },
            "colorscale": [
             [
              0,
              "#0d0887"
             ],
             [
              0.1111111111111111,
              "#46039f"
             ],
             [
              0.2222222222222222,
              "#7201a8"
             ],
             [
              0.3333333333333333,
              "#9c179e"
             ],
             [
              0.4444444444444444,
              "#bd3786"
             ],
             [
              0.5555555555555556,
              "#d8576b"
             ],
             [
              0.6666666666666666,
              "#ed7953"
             ],
             [
              0.7777777777777778,
              "#fb9f3a"
             ],
             [
              0.8888888888888888,
              "#fdca26"
             ],
             [
              1,
              "#f0f921"
             ]
            ],
            "type": "contour"
           }
          ],
          "contourcarpet": [
           {
            "colorbar": {
             "outlinewidth": 0,
             "ticks": ""
            },
            "type": "contourcarpet"
           }
          ],
          "heatmap": [
           {
            "colorbar": {
             "outlinewidth": 0,
             "ticks": ""
            },
            "colorscale": [
             [
              0,
              "#0d0887"
             ],
             [
              0.1111111111111111,
              "#46039f"
             ],
             [
              0.2222222222222222,
              "#7201a8"
             ],
             [
              0.3333333333333333,
              "#9c179e"
             ],
             [
              0.4444444444444444,
              "#bd3786"
             ],
             [
              0.5555555555555556,
              "#d8576b"
             ],
             [
              0.6666666666666666,
              "#ed7953"
             ],
             [
              0.7777777777777778,
              "#fb9f3a"
             ],
             [
              0.8888888888888888,
              "#fdca26"
             ],
             [
              1,
              "#f0f921"
             ]
            ],
            "type": "heatmap"
           }
          ],
          "heatmapgl": [
           {
            "colorbar": {
             "outlinewidth": 0,
             "ticks": ""
            },
            "colorscale": [
             [
              0,
              "#0d0887"
             ],
             [
              0.1111111111111111,
              "#46039f"
             ],
             [
              0.2222222222222222,
              "#7201a8"
             ],
             [
              0.3333333333333333,
              "#9c179e"
             ],
             [
              0.4444444444444444,
              "#bd3786"
             ],
             [
              0.5555555555555556,
              "#d8576b"
             ],
             [
              0.6666666666666666,
              "#ed7953"
             ],
             [
              0.7777777777777778,
              "#fb9f3a"
             ],
             [
              0.8888888888888888,
              "#fdca26"
             ],
             [
              1,
              "#f0f921"
             ]
            ],
            "type": "heatmapgl"
           }
          ],
          "histogram": [
           {
            "marker": {
             "pattern": {
              "fillmode": "overlay",
              "size": 10,
              "solidity": 0.2
             }
            },
            "type": "histogram"
           }
          ],
          "histogram2d": [
           {
            "colorbar": {
             "outlinewidth": 0,
             "ticks": ""
            },
            "colorscale": [
             [
              0,
              "#0d0887"
             ],
             [
              0.1111111111111111,
              "#46039f"
             ],
             [
              0.2222222222222222,
              "#7201a8"
             ],
             [
              0.3333333333333333,
              "#9c179e"
             ],
             [
              0.4444444444444444,
              "#bd3786"
             ],
             [
              0.5555555555555556,
              "#d8576b"
             ],
             [
              0.6666666666666666,
              "#ed7953"
             ],
             [
              0.7777777777777778,
              "#fb9f3a"
             ],
             [
              0.8888888888888888,
              "#fdca26"
             ],
             [
              1,
              "#f0f921"
             ]
            ],
            "type": "histogram2d"
           }
          ],
          "histogram2dcontour": [
           {
            "colorbar": {
             "outlinewidth": 0,
             "ticks": ""
            },
            "colorscale": [
             [
              0,
              "#0d0887"
             ],
             [
              0.1111111111111111,
              "#46039f"
             ],
             [
              0.2222222222222222,
              "#7201a8"
             ],
             [
              0.3333333333333333,
              "#9c179e"
             ],
             [
              0.4444444444444444,
              "#bd3786"
             ],
             [
              0.5555555555555556,
              "#d8576b"
             ],
             [
              0.6666666666666666,
              "#ed7953"
             ],
             [
              0.7777777777777778,
              "#fb9f3a"
             ],
             [
              0.8888888888888888,
              "#fdca26"
             ],
             [
              1,
              "#f0f921"
             ]
            ],
            "type": "histogram2dcontour"
           }
          ],
          "mesh3d": [
           {
            "colorbar": {
             "outlinewidth": 0,
             "ticks": ""
            },
            "type": "mesh3d"
           }
          ],
          "parcoords": [
           {
            "line": {
             "colorbar": {
              "outlinewidth": 0,
              "ticks": ""
             }
            },
            "type": "parcoords"
           }
          ],
          "pie": [
           {
            "automargin": true,
            "type": "pie"
           }
          ],
          "scatter": [
           {
            "fillpattern": {
             "fillmode": "overlay",
             "size": 10,
             "solidity": 0.2
            },
            "type": "scatter"
           }
          ],
          "scatter3d": [
           {
            "line": {
             "colorbar": {
              "outlinewidth": 0,
              "ticks": ""
             }
            },
            "marker": {
             "colorbar": {
              "outlinewidth": 0,
              "ticks": ""
             }
            },
            "type": "scatter3d"
           }
          ],
          "scattercarpet": [
           {
            "marker": {
             "colorbar": {
              "outlinewidth": 0,
              "ticks": ""
             }
            },
            "type": "scattercarpet"
           }
          ],
          "scattergeo": [
           {
            "marker": {
             "colorbar": {
              "outlinewidth": 0,
              "ticks": ""
             }
            },
            "type": "scattergeo"
           }
          ],
          "scattergl": [
           {
            "marker": {
             "colorbar": {
              "outlinewidth": 0,
              "ticks": ""
             }
            },
            "type": "scattergl"
           }
          ],
          "scattermapbox": [
           {
            "marker": {
             "colorbar": {
              "outlinewidth": 0,
              "ticks": ""
             }
            },
            "type": "scattermapbox"
           }
          ],
          "scatterpolar": [
           {
            "marker": {
             "colorbar": {
              "outlinewidth": 0,
              "ticks": ""
             }
            },
            "type": "scatterpolar"
           }
          ],
          "scatterpolargl": [
           {
            "marker": {
             "colorbar": {
              "outlinewidth": 0,
              "ticks": ""
             }
            },
            "type": "scatterpolargl"
           }
          ],
          "scatterternary": [
           {
            "marker": {
             "colorbar": {
              "outlinewidth": 0,
              "ticks": ""
             }
            },
            "type": "scatterternary"
           }
          ],
          "surface": [
           {
            "colorbar": {
             "outlinewidth": 0,
             "ticks": ""
            },
            "colorscale": [
             [
              0,
              "#0d0887"
             ],
             [
              0.1111111111111111,
              "#46039f"
             ],
             [
              0.2222222222222222,
              "#7201a8"
             ],
             [
              0.3333333333333333,
              "#9c179e"
             ],
             [
              0.4444444444444444,
              "#bd3786"
             ],
             [
              0.5555555555555556,
              "#d8576b"
             ],
             [
              0.6666666666666666,
              "#ed7953"
             ],
             [
              0.7777777777777778,
              "#fb9f3a"
             ],
             [
              0.8888888888888888,
              "#fdca26"
             ],
             [
              1,
              "#f0f921"
             ]
            ],
            "type": "surface"
           }
          ],
          "table": [
           {
            "cells": {
             "fill": {
              "color": "#EBF0F8"
             },
             "line": {
              "color": "white"
             }
            },
            "header": {
             "fill": {
              "color": "#C8D4E3"
             },
             "line": {
              "color": "white"
             }
            },
            "type": "table"
           }
          ]
         },
         "layout": {
          "annotationdefaults": {
           "arrowcolor": "#2a3f5f",
           "arrowhead": 0,
           "arrowwidth": 1
          },
          "autotypenumbers": "strict",
          "coloraxis": {
           "colorbar": {
            "outlinewidth": 0,
            "ticks": ""
           }
          },
          "colorscale": {
           "diverging": [
            [
             0,
             "#8e0152"
            ],
            [
             0.1,
             "#c51b7d"
            ],
            [
             0.2,
             "#de77ae"
            ],
            [
             0.3,
             "#f1b6da"
            ],
            [
             0.4,
             "#fde0ef"
            ],
            [
             0.5,
             "#f7f7f7"
            ],
            [
             0.6,
             "#e6f5d0"
            ],
            [
             0.7,
             "#b8e186"
            ],
            [
             0.8,
             "#7fbc41"
            ],
            [
             0.9,
             "#4d9221"
            ],
            [
             1,
             "#276419"
            ]
           ],
           "sequential": [
            [
             0,
             "#0d0887"
            ],
            [
             0.1111111111111111,
             "#46039f"
            ],
            [
             0.2222222222222222,
             "#7201a8"
            ],
            [
             0.3333333333333333,
             "#9c179e"
            ],
            [
             0.4444444444444444,
             "#bd3786"
            ],
            [
             0.5555555555555556,
             "#d8576b"
            ],
            [
             0.6666666666666666,
             "#ed7953"
            ],
            [
             0.7777777777777778,
             "#fb9f3a"
            ],
            [
             0.8888888888888888,
             "#fdca26"
            ],
            [
             1,
             "#f0f921"
            ]
           ],
           "sequentialminus": [
            [
             0,
             "#0d0887"
            ],
            [
             0.1111111111111111,
             "#46039f"
            ],
            [
             0.2222222222222222,
             "#7201a8"
            ],
            [
             0.3333333333333333,
             "#9c179e"
            ],
            [
             0.4444444444444444,
             "#bd3786"
            ],
            [
             0.5555555555555556,
             "#d8576b"
            ],
            [
             0.6666666666666666,
             "#ed7953"
            ],
            [
             0.7777777777777778,
             "#fb9f3a"
            ],
            [
             0.8888888888888888,
             "#fdca26"
            ],
            [
             1,
             "#f0f921"
            ]
           ]
          },
          "colorway": [
           "#636efa",
           "#EF553B",
           "#00cc96",
           "#ab63fa",
           "#FFA15A",
           "#19d3f3",
           "#FF6692",
           "#B6E880",
           "#FF97FF",
           "#FECB52"
          ],
          "font": {
           "color": "#2a3f5f"
          },
          "geo": {
           "bgcolor": "white",
           "lakecolor": "white",
           "landcolor": "#E5ECF6",
           "showlakes": true,
           "showland": true,
           "subunitcolor": "white"
          },
          "hoverlabel": {
           "align": "left"
          },
          "hovermode": "closest",
          "mapbox": {
           "style": "light"
          },
          "paper_bgcolor": "white",
          "plot_bgcolor": "#E5ECF6",
          "polar": {
           "angularaxis": {
            "gridcolor": "white",
            "linecolor": "white",
            "ticks": ""
           },
           "bgcolor": "#E5ECF6",
           "radialaxis": {
            "gridcolor": "white",
            "linecolor": "white",
            "ticks": ""
           }
          },
          "scene": {
           "xaxis": {
            "backgroundcolor": "#E5ECF6",
            "gridcolor": "white",
            "gridwidth": 2,
            "linecolor": "white",
            "showbackground": true,
            "ticks": "",
            "zerolinecolor": "white"
           },
           "yaxis": {
            "backgroundcolor": "#E5ECF6",
            "gridcolor": "white",
            "gridwidth": 2,
            "linecolor": "white",
            "showbackground": true,
            "ticks": "",
            "zerolinecolor": "white"
           },
           "zaxis": {
            "backgroundcolor": "#E5ECF6",
            "gridcolor": "white",
            "gridwidth": 2,
            "linecolor": "white",
            "showbackground": true,
            "ticks": "",
            "zerolinecolor": "white"
           }
          },
          "shapedefaults": {
           "line": {
            "color": "#2a3f5f"
           }
          },
          "ternary": {
           "aaxis": {
            "gridcolor": "white",
            "linecolor": "white",
            "ticks": ""
           },
           "baxis": {
            "gridcolor": "white",
            "linecolor": "white",
            "ticks": ""
           },
           "bgcolor": "#E5ECF6",
           "caxis": {
            "gridcolor": "white",
            "linecolor": "white",
            "ticks": ""
           }
          },
          "title": {
           "x": 0.05
          },
          "xaxis": {
           "automargin": true,
           "gridcolor": "white",
           "linecolor": "white",
           "ticks": "",
           "title": {
            "standoff": 15
           },
           "zerolinecolor": "white",
           "zerolinewidth": 2
          },
          "yaxis": {
           "automargin": true,
           "gridcolor": "white",
           "linecolor": "white",
           "ticks": "",
           "title": {
            "standoff": 15
           },
           "zerolinecolor": "white",
           "zerolinewidth": 2
          }
         }
        }
       }
      }
     },
     "metadata": {},
     "output_type": "display_data"
    }
   ],
   "source": [
    "#https://plotly.com/python-api-reference/generated/plotly.express.scatter_mapbox.html\n",
    "fig = px.scatter_mapbox(\n",
    "            proj,\n",
    "            lat=\"LAT\",\n",
    "            lon=\"LON\",\n",
    "            hover_name=\"FULL_LOC\",\n",
    "            hover_data=[\"INSTITUTION TYPE\",\"FUNDING MECHANISM\",\"FUNDING\"],\n",
    "            #marker=dict(size=5, color=\"white\", opacity=0),\n",
    "            zoom=3\n",
    "        # color = new['count'], color by fund amount\n",
    ")\n",
    "fig.update_mapboxes(\n",
    "    accesstoken = \"pk.eyJ1IjoibGlubmlsIiwiYSI6ImNsZW01bW9vaTBhMjIzdm1sb2V1b25qemcifQ.W5w-j8UQOorI_ZbO2ibrzA\",\n",
    "    style=\"mapbox://styles/linnil/clem66ou8000w01qus6lbbdm9\"\n",
    ")\n",
    "#fig.update_layout(margin={\"r\":0,\"t\":0,\"l\":0,\"b\":0})\n",
    "fig.show()"
   ]
  }
 ],
 "metadata": {
  "kernelspec": {
   "display_name": "base",
   "language": "python",
   "name": "python3"
  },
  "language_info": {
   "codemirror_mode": {
    "name": "ipython",
    "version": 3
   },
   "file_extension": ".py",
   "mimetype": "text/x-python",
   "name": "python",
   "nbconvert_exporter": "python",
   "pygments_lexer": "ipython3",
   "version": "3.8.8"
  },
  "orig_nbformat": 4,
  "vscode": {
   "interpreter": {
    "hash": "dea020618c6d75d6a2b362878fa8ffdb3663cdd93010adabd1eb95477499d165"
   }
  }
 },
 "nbformat": 4,
 "nbformat_minor": 2
}
