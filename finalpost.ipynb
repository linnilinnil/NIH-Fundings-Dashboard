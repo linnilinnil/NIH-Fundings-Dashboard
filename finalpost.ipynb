{
 "cells": [
  {
   "attachments": {},
   "cell_type": "markdown",
   "metadata": {},
   "source": [
    "# NIH Grant & Funding Data Dashboard  \n",
    "\n",
    "## *What do health science researchers want to know about the Grants & Funding from National Institutes of Health?*"
   ]
  },
  {
   "attachments": {},
   "cell_type": "markdown",
   "metadata": {},
   "source": [
    "Insert NIH Graphs Here"
   ]
  },
  {
   "attachments": {},
   "cell_type": "markdown",
   "metadata": {},
   "source": [
    "Begun as a one-room Laboratory of Hygiene in 1887, the National Institutes of Health (NIH) today is one of the world’s foremost medical research centers. It is also the largest public funder of biomedical research in the world, investing more than $32 billion a year to enhance life, and reduce illness and disability. Yet, the devil is in the details. The painstaking process of grant application and review has long been questioned by many researchers that spent more time writing up proposals than doing actual research. With a blogpost on 'the inequality in NIH funding distribution' published last year by the NIH office, more questions regarding how the money was spent were brought up by the researchers. In this project, we attempt to answer some of their key questions through data analysis and visualization using a web-based dashboard. "
   ]
  },
  {
   "attachments": {},
   "cell_type": "markdown",
   "metadata": {},
   "source": [
    "Insert screenshots of Comments Here "
   ]
  },
  {
   "attachments": {},
   "cell_type": "markdown",
   "metadata": {},
   "source": [
    "## Overview "
   ]
  },
  {
   "attachments": {},
   "cell_type": "markdown",
   "metadata": {},
   "source": [
    "Our analysis contains four aspects: "
   ]
  },
  {
   "attachments": {},
   "cell_type": "markdown",
   "metadata": {},
   "source": [
    "INSERT POWERPOINT HERE"
   ]
  },
  {
   "attachments": {},
   "cell_type": "markdown",
   "metadata": {},
   "source": [
    "The technical components involved are: \n",
    "- SQL Database interaction\n",
    "- Complex visualization with Plotly\n",
    "- Web-based application with flask + Dash\n",
    "- Data collection and cleaning (some through API request)"
   ]
  },
  {
   "attachments": {},
   "cell_type": "markdown",
   "metadata": {},
   "source": [
    "We would be using the following packages and libraries: "
   ]
  },
  {
   "cell_type": "code",
   "execution_count": 1,
   "metadata": {},
   "outputs": [
    {
     "name": "stdout",
     "output_type": "stream",
     "text": [
      "5.13.0\n"
     ]
    }
   ],
   "source": [
    "# importing dependencies \n",
    "import os\n",
    "import glob\n",
    "import regex as re\n",
    "import json\n",
    "from urllib.request import urlopen\n",
    "import requests\n",
    "import time\n",
    "from geopy import Nominatim\n",
    "import sqlite3\n",
    "# dash\n",
    "import dash\n",
    "from dash import Dash, dcc, html\n",
    "import dash_bootstrap_components as dbc\n",
    "from dash.dependencies import Input, Output, State\n",
    "\n",
    "# plotting and df\n",
    "import plotly\n",
    "print(plotly.__version__)\n",
    "import plotly.graph_objs as go\n",
    "import plotly.express as px\n",
    "import numpy as np\n",
    "import pandas as pd \n",
    "from matplotlib import pyplot as plt\n",
    "\n",
    "import io\n",
    "import PIL\n",
    "r = np.random.RandomState(42)\n"
   ]
  },
  {
   "attachments": {},
   "cell_type": "markdown",
   "metadata": {},
   "source": [
    "## Geospatial Analysis  "
   ]
  },
  {
   "attachments": {},
   "cell_type": "markdown",
   "metadata": {},
   "source": [
    "We first take a look at this data:  \n",
    "NIH Awards: by project names, prpoject number (Activity code included) Location, Organization, admin IC, funding mechanisms, direct costs, and indirect costs per fiscal year and project number \n",
    "https://report.nih.gov/award/index.cfm?ot=&fy=2023&state=&ic=&fm=&orgid=&distr=&rfa=&om=n&pid=#tab5 \n",
    " "
   ]
  },
  {
   "attachments": {},
   "cell_type": "markdown",
   "metadata": {},
   "source": [
    "To create a map visualization, we would be needing the relevant FIPS code for states and counties.  "
   ]
  },
  {
   "attachments": {},
   "cell_type": "markdown",
   "metadata": {},
   "source": [
    "We import a city FIPS table for geospatial data display. The following dataset maps county (all upper cases) to their FIPs, because county FIPS are needed to visualize the county map in plotly. "
   ]
  },
  {
   "cell_type": "code",
   "execution_count": 2,
   "metadata": {},
   "outputs": [
    {
     "data": {
      "text/plain": [
       "[('BALDWIN COUNTY ALABAMA', 1003),\n",
       " ('BARBOUR COUNTY ALABAMA', 1005),\n",
       " ('BIBB COUNTY ALABAMA', 1007),\n",
       " ('BLOUNT COUNTY ALABAMA', 1009)]"
      ]
     },
     "execution_count": 2,
     "metadata": {},
     "output_type": "execute_result"
    }
   ],
   "source": [
    "cfips = pd.read_csv(\"county-fips.csv\")\n",
    "cfips[\"full_name\"] = (cfips[\"county_name\"]+\" \"+cfips[\"state_name\"]).str.upper()\n",
    "fip_dict = dict(zip(list(cfips[\"full_name\"]),list(cfips[\"fips\"])))\n",
    "list(fip_dict.items())[1:5]\n"
   ]
  },
  {
   "attachments": {},
   "cell_type": "markdown",
   "metadata": {},
   "source": [
    "And the following table is capable of mapping city to their respective county. "
   ]
  },
  {
   "cell_type": "code",
   "execution_count": 23,
   "metadata": {},
   "outputs": [
    {
     "name": "stdout",
     "output_type": "stream",
     "text": [
      "The city table already existed.\n"
     ]
    }
   ],
   "source": [
    "# just downloaded the county and city fips code from us census data and mapped\n",
    "city = pd.read_csv(\"uscities.csv\")\n",
    "city.city = city.city.str.upper()\n",
    "city.county_name = city.county_name.str.upper()\n",
    "city.state_name = city.state_name.str.upper()\n",
    "city = city.dropna()\n",
    "# store data in database data.db table name \"decade\"\n",
    "try:\n",
    "    conn = sqlite3.connect(\"data.db\",if_exists=False)\n",
    "    city.to_sql(\"city\",conn,index=False)\n",
    "except:\n",
    "    print(\"The city table already existed.\")\n",
    "conn.close()\n"
   ]
  },
  {
   "attachments": {},
   "cell_type": "markdown",
   "metadata": {},
   "source": [
    "However, since this table does not contain information on all cities, we make further use of the geolocator module to fill in the missing information. "
   ]
  },
  {
   "cell_type": "code",
   "execution_count": 24,
   "metadata": {},
   "outputs": [],
   "source": [
    "# retrieving location: longitude and latitude based on city and state\n",
    "\n",
    "geolocator = Nominatim(user_agent=\"app\")\n"
   ]
  },
  {
   "attachments": {},
   "cell_type": "markdown",
   "metadata": {},
   "source": [
    "The following would be a dict to map state full name to state two-letter code. Plotly has an option to display state map by state code (two letters). "
   ]
  },
  {
   "cell_type": "code",
   "execution_count": 3,
   "metadata": {},
   "outputs": [],
   "source": [
    "anym = pd.read_csv(\"acronynm.csv\")\n",
    "c_dict = dict(zip(list(anym.state.str.upper()),list(anym.code)))"
   ]
  },
  {
   "attachments": {},
   "cell_type": "markdown",
   "metadata": {},
   "source": [
    "Now we fill in some additional information to make mapping geo codes and future visualization easier:\n",
    "- MONTH: derive from award notice date\n",
    "- YEAR: derive from award notice data also\n",
    "- CITY, STATE: convert to upper\n",
    "- FULL_LOC: combine city and state, make searching with geo_locator easier\n",
    "- CODE: state code"
   ]
  },
  {
   "cell_type": "code",
   "execution_count": 4,
   "metadata": {},
   "outputs": [
    {
     "name": "stdout",
     "output_type": "stream",
     "text": [
      "/Users/linlin/Desktop/2023/16b/dash/awardsbyloc/Worldwide2018.xls\n",
      "/Users/linlin/Desktop/2023/16b/dash/awardsbyloc/Worldwide2019.xls\n",
      "/Users/linlin/Desktop/2023/16b/dash/awardsbyloc/Worldwide2021.xls\n",
      "/Users/linlin/Desktop/2023/16b/dash/awardsbyloc/Worldwide2020.xls\n",
      "/Users/linlin/Desktop/2023/16b/dash/awardsbyloc/Worldwide2022.xls\n",
      "/Users/linlin/Desktop/2023/16b/dash/awardsbyloc/Worldwide2012.xls\n",
      "/Users/linlin/Desktop/2023/16b/dash/awardsbyloc/Worldwide2013.xls\n",
      "/Users/linlin/Desktop/2023/16b/dash/awardsbyloc/Worldwide2014.xls\n",
      "/Users/linlin/Desktop/2023/16b/dash/awardsbyloc/Worldwide2015.xls\n",
      "/Users/linlin/Desktop/2023/16b/dash/awardsbyloc/Worldwide2017.xls\n",
      "/Users/linlin/Desktop/2023/16b/dash/awardsbyloc/Worldwide2016.xls\n"
     ]
    }
   ],
   "source": [
    "\n",
    "data = pd.DataFrame()\n",
    "path = \"/Users/linlin/Desktop/2023/16b/dash/awardsbyloc\"\n",
    "xls_list = os.listdir(path)\n",
    "xlsx = glob.glob(os.path.join(path, \"*.xls\"))\n",
    "for x in xlsx:\n",
    "    if '.DS_Store' not in x:\n",
    "        print(x)\n",
    "        df = pd.read_excel(x)\n",
    "        df.columns = [s.upper() for s in list(df.columns)]\n",
    "        df[\"MONTH\"] = pd.to_datetime(df[\"AWARD NOTICE DATE\"]).dt.month\n",
    "        df[\"YEAR\"] = pd.to_datetime(df[\"AWARD NOTICE DATE\"]).dt.year\n",
    "        df[\"CITY\"] = df[\"CITY\"].str.upper()\n",
    "        df[\"STATE OR COUNTRY NAME\"] = df[\"STATE OR COUNTRY NAME\"].str.upper()\n",
    "        df[\"FULL_LOC\"] = df[\"CITY\"] + \" \" + df[\"STATE OR COUNTRY NAME\"]\n",
    "        df['CODE'] = df[\"STATE OR COUNTRY NAME\"].map(c_dict)\n",
    "        \n",
    "        if len(data) == 0:\n",
    "            data = df\n",
    "        else:\n",
    "            data = pd.concat([data, df],    # Combine vertically\n",
    "                            ignore_index = False,\n",
    "                            sort = False)\n",
    "\n",
    "        "
   ]
  },
  {
   "attachments": {},
   "cell_type": "markdown",
   "metadata": {},
   "source": [
    "We retain only the relevant columns in the dataset."
   ]
  },
  {
   "cell_type": "code",
   "execution_count": 8,
   "metadata": {},
   "outputs": [],
   "source": [
    "data = data[['ORGANIZATION NAME', 'ORGANIZATION ID (IPF)', 'PROJECT NUMBER',\n",
    "       'FUNDING MECHANISM', 'PI NAME', 'PI PERSON ID',\n",
    "       'PROJECT TITLE', 'DIRECT COST', 'INDIRECT COST', 'FUNDING',\n",
    "       'CITY', 'STATE OR COUNTRY NAME',\n",
    "       'INSTITUTION TYPE', 'AWARD NOTICE DATE','MONTH', 'YEAR',\n",
    "       'FULL_LOC', 'CODE']]"
   ]
  },
  {
   "cell_type": "code",
   "execution_count": 17,
   "metadata": {},
   "outputs": [
    {
     "data": {
      "text/plain": [
       "(611898, 18)"
      ]
     },
     "execution_count": 17,
     "metadata": {},
     "output_type": "execute_result"
    }
   ],
   "source": [
    "data = data[data.YEAR.notna()]\n",
    "data.shape"
   ]
  },
  {
   "attachments": {},
   "cell_type": "markdown",
   "metadata": {},
   "source": [
    "The different funding mechanisms and institution types of NIH Project and Funding Grants are: "
   ]
  },
  {
   "cell_type": "code",
   "execution_count": 18,
   "metadata": {},
   "outputs": [
    {
     "name": "stderr",
     "output_type": "stream",
     "text": [
      "<ipython-input-18-9c351738c920>:1: SettingWithCopyWarning: \n",
      "A value is trying to be set on a copy of a slice from a DataFrame.\n",
      "Try using .loc[row_indexer,col_indexer] = value instead\n",
      "\n",
      "See the caveats in the documentation: https://pandas.pydata.org/pandas-docs/stable/user_guide/indexing.html#returning-a-view-versus-a-copy\n",
      "  data['INSTITUTION TYPE']= data['INSTITUTION TYPE'].fillna('None')\n"
     ]
    }
   ],
   "source": [
    "data['INSTITUTION TYPE'] = data['INSTITUTION TYPE'].fillna('None')"
   ]
  },
  {
   "cell_type": "code",
   "execution_count": 19,
   "metadata": {},
   "outputs": [
    {
     "data": {
      "text/plain": [
       "array(['None', 'Research Institutes', 'Domestic Higher Education',\n",
       "       'Independent Hospitals'], dtype=object)"
      ]
     },
     "execution_count": 19,
     "metadata": {},
     "output_type": "execute_result"
    }
   ],
   "source": [
    "data['INSTITUTION TYPE'].unique()"
   ]
  },
  {
   "cell_type": "code",
   "execution_count": 20,
   "metadata": {},
   "outputs": [
    {
     "data": {
      "text/plain": [
       "array(['RPGs - SBIR/STTR', 'RPGs - Non SBIR/STTR',\n",
       "       'Other Research-Related', 'Training - Individual',\n",
       "       'Training - Institutional', 'Research Centers', 'Other',\n",
       "       'Construction'], dtype=object)"
      ]
     },
     "execution_count": 20,
     "metadata": {},
     "output_type": "execute_result"
    }
   ],
   "source": [
    "data['FUNDING MECHANISM'].unique()"
   ]
  },
  {
   "attachments": {},
   "cell_type": "markdown",
   "metadata": {},
   "source": [
    "INSERT EXPLANATION TABLE"
   ]
  },
  {
   "attachments": {},
   "cell_type": "markdown",
   "metadata": {},
   "source": [
    "Since we have a huge amount of data —— over 600k entries, it would be wise to store and query the data using databases. "
   ]
  },
  {
   "cell_type": "code",
   "execution_count": 21,
   "metadata": {},
   "outputs": [
    {
     "data": {
      "text/plain": [
       "611898"
      ]
     },
     "execution_count": 21,
     "metadata": {},
     "output_type": "execute_result"
    }
   ],
   "source": [
    "# store data in database data.db table name \"decade\"\n",
    "\n",
    "conn = sqlite3.connect(\"data.db\")\n",
    "cur = conn.cursor()\n",
    "cur.execute(\"DROP TABLE IF EXISTS decade\")\n",
    "conn.commit()\n",
    "data.to_sql(\"decade\",conn,index=False)"
   ]
  },
  {
   "attachments": {},
   "cell_type": "markdown",
   "metadata": {},
   "source": [
    "Now, it's time to write a query function to select data by fiscal year, funding mechanism, and insitution type. Additionally, we would want to map the data to corresponding geocodes, and fill in anything that is missing with the geolocator module.  (The functions are saved in separate python files as required.)"
   ]
  },
  {
   "attachments": {},
   "cell_type": "markdown",
   "metadata": {},
   "source": [
    "Let's write a small helper function to print all tables in a given database, too."
   ]
  },
  {
   "cell_type": "code",
   "execution_count": 38,
   "metadata": {},
   "outputs": [
    {
     "name": "stdout",
     "output_type": "stream",
     "text": [
      "[('city',), ('decade',)]\n"
     ]
    }
   ],
   "source": [
    "def print_table(db = 'data.db'):\n",
    "    conn = sqlite3.connect(db)\n",
    "    alltbl = \"\"\"SELECT name FROM sqlite_master  \n",
    "    WHERE type='table';\"\"\"\n",
    "    cur = conn.cursor()\n",
    "    print(cur.execute(alltbl).fetchall())\n",
    "    conn.close()\n",
    "print_table()"
   ]
  },
  {
   "cell_type": "code",
   "execution_count": 40,
   "metadata": {},
   "outputs": [
    {
     "name": "stdout",
     "output_type": "stream",
     "text": [
      "\n",
      "        SELECT D.[PROJECT NUMBER], D.[FUNDING MECHANISM],D.[DIRECT COST],D.[INDIRECT COST],\n",
      "        D.FUNDING,D.CITY,D.[STATE OR COUNTRY NAME],D.[INSTITUTION TYPE],D.YEAR,D.MONTH,\n",
      "        D.FULL_LOC,D.CODE,COUNTY_FIPS,C.COUNTY_NAME,C.LAT,C.LNG\n",
      "        FROM \n",
      "                (SELECT LNG,LAT,COUNTY_NAME,CITY,COUNTY_FIPS,STATE_ID\n",
      "                FROM city) AS C\n",
      "        LEFT JOIN decade as D\n",
      "        ON D.CITY = C.CITY\n",
      "        WHERE D.YEAR IN (2012, 2013, 2014, 2015, 2016, 2017, 2018, 2019, 2020, 2021) AND MONTH IN (1, 2, 3, 4, 5, 6, 7, 8, 9, 10, 11) AND D.[FUNDING MECHANISM] IN ('None', 'Research Institutes', 'Domestic Higher Education', 'Independent Hospitals') AND D.[INSTITUTION TYPE] IN ('RPGs - SBIR/STTR', 'RPGs - Non SBIR/STTR', 'R&D Contracts', 'Other Research-Related', 'Training - Individual', 'Training - Institutional', 'Research Centers', 'Other', 'Construction')\n",
      "Empty DataFrame\n",
      "Columns: [PROJECT NUMBER, FUNDING MECHANISM, DIRECT COST, INDIRECT COST, FUNDING, CITY, STATE OR COUNTRY NAME, INSTITUTION TYPE, YEAR, MONTH, FULL_LOC, CODE, COUNTY_FIPS, COUNTY_NAME, LAT, LNG]\n",
      "Index: []\n"
     ]
    }
   ],
   "source": [
    "import numpy as np\n",
    "import sqlite3\n",
    "import pandas as pd\n",
    "FME = ['RPGs - SBIR/STTR',\n",
    " 'RPGs - Non SBIR/STTR',\n",
    " 'Other Research-Related',\n",
    " 'Training - Individual',\n",
    " 'Training - Institutional',\n",
    " 'Research Centers',\n",
    " 'Other',\n",
    " 'Construction']\n",
    "INST = ['None',\n",
    " 'Research Institutes',\n",
    " 'Domestic Higher Education',\n",
    " 'Independent Hospitals']\n",
    "def map_que(year=list(np.arange(2012,2022)),month=list(np.arange(1,12)),\n",
    "            fme = FME,\n",
    "            inst = INST):\n",
    "        cmd = '''\n",
    "        SELECT D.[PROJECT NUMBER], D.[FUNDING MECHANISM],D.[DIRECT COST],D.[INDIRECT COST],\n",
    "        D.FUNDING,D.CITY,D.[STATE OR COUNTRY NAME],D.[INSTITUTION TYPE],D.YEAR,D.MONTH,\n",
    "        D.FULL_LOC,D.CODE,COUNTY_FIPS,C.COUNTY_NAME,C.LAT,C.LNG\n",
    "        FROM \n",
    "                (SELECT LNG,LAT,COUNTY_NAME,CITY,COUNTY_FIPS,STATE_ID\n",
    "                FROM city) AS C\n",
    "        LEFT JOIN decade as D\n",
    "        ON D.CITY = C.CITY\n",
    "        WHERE D.YEAR IN ''' + str(tuple(year))\\\n",
    "        + ''' AND MONTH IN ''' + str(tuple(month))\\\n",
    "        + ''' AND D.[FUNDING MECHANISM] IN ''' + str(tuple(inst))\\\n",
    "        + ''' AND D.[INSTITUTION TYPE] IN ''' + str(tuple(fme))\n",
    "        print(cmd)\n",
    "        conn = sqlite3.connect(\"data.db\")\n",
    "        cursor = conn.cursor()\n",
    "\n",
    "        cursor.execute(cmd)\n",
    "        df = pd.DataFrame(cursor.fetchall(),columns=[\"PROJECT NUMBER\", \"FUNDING MECHANISM\",\"DIRECT COST\",\"INDIRECT COST\",\n",
    "        \"FUNDING\",\"CITY\",\"STATE OR COUNTRY NAME\",\"INSTITUTION TYPE\",\"YEAR\",\"MONTH\",\n",
    "        \"FULL_LOC\",\"CODE\",\"COUNTY_FIPS\",\"COUNTY_NAME\",\"LAT\",\"LNG\"])\n",
    "        print(df.head())\n",
    "        conn.close()\n",
    "        return df\n",
    "df = map_que() \n"
   ]
  },
  {
   "cell_type": "code",
   "execution_count": 54,
   "metadata": {},
   "outputs": [
    {
     "data": {
      "text/plain": [
       "['None',\n",
       " 'Research Institutes',\n",
       " 'Domestic Higher Education',\n",
       " 'Independent Hospitals']"
      ]
     },
     "execution_count": 54,
     "metadata": {},
     "output_type": "execute_result"
    }
   ],
   "source": [
    "list(data['INSTITUTION TYPE'].unique())"
   ]
  },
  {
   "cell_type": "code",
   "execution_count": 49,
   "metadata": {},
   "outputs": [],
   "source": [
    "cmd = \"\"\"\n",
    "SELECT D.[PROJECT NUMBER], D.[FUNDING MECHANISM],D.[DIRECT COST],D.[INDIRECT COST],\n",
    "        D.FUNDING,D.CITY,D.[STATE OR COUNTRY NAME],D.[INSTITUTION TYPE],D.YEAR,D.MONTH,\n",
    "        D.FULL_LOC,D.CODE,COUNTY_FIPS,C.COUNTY_NAME,C.LAT,C.LNG\n",
    "        FROM \n",
    "                (SELECT LNG,LAT,COUNTY_NAME,CITY,COUNTY_FIPS,STATE_ID\n",
    "                FROM city) AS C\n",
    "        LEFT JOIN decade as D\n",
    "        ON D.CITY = C.CITY\n",
    "        WHERE D.YEAR IN (2012, 2013, 2014, 2015, 2016, 2017, 2018, 2019, 2020, 2021) AND MONTH IN (1, 2, 3, 4, 5, 6, 7, 8, 9, 10, 11) AND D.[FUNDING MECHANISM] IN ('None', 'Research Institutes', 'Domestic Higher Education', 'Independent Hospitals') AND D.[INSTITUTION TYPE] IN ('RPGs - SBIR/STTR', 'RPGs - Non SBIR/STTR', 'R&D Contracts', 'Other Research-Related', 'Training - Individual', 'Training - Institutional', 'Research Centers', 'Other', 'Construction')\n",
    "        LIMIT 10\n",
    "\"\"\""
   ]
  },
  {
   "cell_type": "code",
   "execution_count": 50,
   "metadata": {},
   "outputs": [
    {
     "name": "stdout",
     "output_type": "stream",
     "text": [
      "[]\n"
     ]
    }
   ],
   "source": [
    "\n",
    "conn = sqlite3.connect(\"data.db\")\n",
    "cursor = conn.cursor()\n",
    "\n",
    "print(cursor.execute(cmd).fetchall())\n",
    "conn.close()"
   ]
  }
 ],
 "metadata": {
  "kernelspec": {
   "display_name": "base",
   "language": "python",
   "name": "python3"
  },
  "language_info": {
   "codemirror_mode": {
    "name": "ipython",
    "version": 3
   },
   "file_extension": ".py",
   "mimetype": "text/x-python",
   "name": "python",
   "nbconvert_exporter": "python",
   "pygments_lexer": "ipython3",
   "version": "3.8.8"
  },
  "orig_nbformat": 4
 },
 "nbformat": 4,
 "nbformat_minor": 2
}
