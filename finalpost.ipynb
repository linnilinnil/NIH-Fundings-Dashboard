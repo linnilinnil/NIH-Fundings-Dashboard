{
 "cells": [
  {
   "attachments": {},
   "cell_type": "markdown",
   "metadata": {},
   "source": [
    "# NIH Grant & Funding Data Dashboard  \n",
    "\n",
    "## *What do health science researchers want to know about the Grants & Funding from National Institutes of Health?*"
   ]
  },
  {
   "attachments": {},
   "cell_type": "markdown",
   "metadata": {},
   "source": [
    "Insert NIH Graphs Here"
   ]
  },
  {
   "attachments": {},
   "cell_type": "markdown",
   "metadata": {},
   "source": [
    "Begun as a one-room Laboratory of Hygiene in 1887, the National Institutes of Health (NIH) today is one of the world’s foremost medical research centers. It is also the largest public funder of biomedical research in the world, investing more than $32 billion a year to enhance life, and reduce illness and disability. Yet, the devil is in the details. The painstaking process of grant application and review has long been questioned by many researchers that spent more time writing up proposals than doing actual research. With a blogpost on 'the inequality in NIH funding distribution' published last year by the NIH office, more questions regarding how the money was spent were brought up by the researchers. In this project, we attempt to answer some of their key questions through data analysis and visualization using a web-based dashboard. \n",
    "\n",
    "Git: https://github.com/linnilinnil/NIH-Fundings-Dashboard/tree/master "
   ]
  },
  {
   "attachments": {},
   "cell_type": "markdown",
   "metadata": {},
   "source": [
    "Insert screenshots of Comments Here "
   ]
  },
  {
   "attachments": {},
   "cell_type": "markdown",
   "metadata": {},
   "source": [
    "## Overview "
   ]
  },
  {
   "attachments": {},
   "cell_type": "markdown",
   "metadata": {},
   "source": [
    "Our analysis contains four aspects: "
   ]
  },
  {
   "attachments": {},
   "cell_type": "markdown",
   "metadata": {},
   "source": [
    "INSERT POWERPOINT HERE"
   ]
  },
  {
   "cell_type": "markdown",
   "metadata": {},
   "source": [
    "Some of the key achievements and takeaways of our projects include: "
   ]
  },
  {
   "attachments": {},
   "cell_type": "markdown",
   "metadata": {},
   "source": [
    "INSERT POWERPOINT HERE"
   ]
  },
  {
   "attachments": {},
   "cell_type": "markdown",
   "metadata": {},
   "source": [
    "The technical components involved are: \n",
    "- SQL Database interaction\n",
    "- Complex visualization with Plotly\n",
    "- Web-based application with flask + Dash\n",
    "- Data collection and cleaning (some through API request)"
   ]
  },
  {
   "attachments": {},
   "cell_type": "markdown",
   "metadata": {},
   "source": [
    "【INSERT FLOWCHART]"
   ]
  },
  {
   "attachments": {},
   "cell_type": "markdown",
   "metadata": {},
   "source": [
    "We would be using the following packages and libraries: "
   ]
  },
  {
   "cell_type": "code",
   "execution_count": 12,
   "metadata": {},
   "outputs": [
    {
     "name": "stdout",
     "output_type": "stream",
     "text": [
      "5.13.0\n"
     ]
    }
   ],
   "source": [
    "# importing dependencies \n",
    "import os\n",
    "import glob\n",
    "import regex as re\n",
    "import json\n",
    "from urllib.request import urlopen\n",
    "import requests\n",
    "import time\n",
    "from geopy import Nominatim\n",
    "import sqlite3\n",
    "# dash\n",
    "import dash\n",
    "from dash import Dash, dcc, html\n",
    "import dash_bootstrap_components as dbc\n",
    "from dash.dependencies import Input, Output, State\n",
    "\n",
    "# plotting and df\n",
    "import plotly\n",
    "print(plotly.__version__)\n",
    "import plotly.graph_objs as go\n",
    "import plotly.express as px\n",
    "import numpy as np\n",
    "import pandas as pd \n",
    "from matplotlib import pyplot as plt\n",
    "\n",
    "import io\n",
    "import PIL\n",
    "r = np.random.RandomState(42)\n"
   ]
  },
  {
   "attachments": {},
   "cell_type": "markdown",
   "metadata": {},
   "source": [
    "## Data cleaning (TL;DR)"
   ]
  },
  {
   "attachments": {},
   "cell_type": "markdown",
   "metadata": {},
   "source": [
    "We first take a look at this data:  \n",
    "NIH Awards: by project names, prpoject number (Activity code included) Location, Organization, admin IC, funding mechanisms, direct costs, and indirect costs per fiscal year and project number \n",
    "https://report.nih.gov/award/index.cfm?ot=&fy=2023&state=&ic=&fm=&orgid=&distr=&rfa=&om=n&pid=#tab5 \n",
    " "
   ]
  },
  {
   "attachments": {},
   "cell_type": "markdown",
   "metadata": {},
   "source": [
    "To create a map visualization, we would be needing the relevant FIPS code for states and counties.  "
   ]
  },
  {
   "attachments": {},
   "cell_type": "markdown",
   "metadata": {},
   "source": [
    "We import a city FIPS table for geospatial data display. The following dataset maps county (all upper cases) to their FIPs, because county FIPS are needed to visualize the county map in plotly. "
   ]
  },
  {
   "cell_type": "code",
   "execution_count": 9,
   "metadata": {},
   "outputs": [
    {
     "data": {
      "text/plain": [
       "[('BALDWIN COUNTY ALABAMA', 1003),\n",
       " ('BARBOUR COUNTY ALABAMA', 1005),\n",
       " ('BIBB COUNTY ALABAMA', 1007),\n",
       " ('BLOUNT COUNTY ALABAMA', 1009)]"
      ]
     },
     "execution_count": 9,
     "metadata": {},
     "output_type": "execute_result"
    }
   ],
   "source": [
    "cfips = pd.read_csv(\"county-fips.csv\")\n",
    "cfips[\"full_name\"] = (cfips[\"county_name\"]+\" \"+cfips[\"state_name\"]).str.upper()\n",
    "fip_dict = dict(zip(list(cfips[\"full_name\"]),list(cfips[\"fips\"])))\n",
    "list(fip_dict.items())[1:5]\n"
   ]
  },
  {
   "attachments": {},
   "cell_type": "markdown",
   "metadata": {},
   "source": [
    "And the following table is capable of mapping city to their respective county. "
   ]
  },
  {
   "cell_type": "code",
   "execution_count": 22,
   "metadata": {},
   "outputs": [
    {
     "name": "stdout",
     "output_type": "stream",
     "text": [
      "The city table already existed.\n"
     ]
    }
   ],
   "source": [
    "# just downloaded the county and city fips code from us census data and mapped\n",
    "city = pd.read_csv(\"uscities.csv\")\n",
    "city.city = city.city.str.upper()\n",
    "city.county_name = city.county_name.str.upper()\n",
    "city.state_name = city.state_name.str.upper()\n",
    "city = city.dropna()\n",
    "# store data in database data.db table name \"decade\"\n",
    "try:\n",
    "    conn = sqlite3.connect(\"data.db\")\n",
    "    city.to_sql(\"city\",conn,index=False)\n",
    "    conn.close()\n",
    "except:\n",
    "    print(\"The city table already existed.\")\n",
    "\n"
   ]
  },
  {
   "attachments": {},
   "cell_type": "markdown",
   "metadata": {},
   "source": [
    "However, since this table does not contain information on all cities, we make further use of the geolocator module to fill in the missing information. "
   ]
  },
  {
   "cell_type": "code",
   "execution_count": 12,
   "metadata": {},
   "outputs": [],
   "source": [
    "# retrieving location: longitude and latitude based on city and state\n",
    "\n",
    "geolocator = Nominatim(user_agent=\"app\")\n"
   ]
  },
  {
   "attachments": {},
   "cell_type": "markdown",
   "metadata": {},
   "source": [
    "The following would be a dict to map state full name to state two-letter code. Plotly has an option to display state map by state code (two letters). "
   ]
  },
  {
   "cell_type": "code",
   "execution_count": 13,
   "metadata": {},
   "outputs": [],
   "source": [
    "anym = pd.read_csv(\"acronynm.csv\")\n",
    "c_dict = dict(zip(list(anym.state.str.upper()),list(anym.code)))"
   ]
  },
  {
   "attachments": {},
   "cell_type": "markdown",
   "metadata": {},
   "source": [
    "Now we fill in some additional information to make mapping geo codes and future visualization easier:\n",
    "- MONTH: derive from award notice date\n",
    "- YEAR: derive from award notice data also\n",
    "- CITY, STATE: convert to upper\n",
    "- FULL_LOC: combine city and state, make searching with geo_locator easier\n",
    "- CODE: state code"
   ]
  },
  {
   "cell_type": "code",
   "execution_count": null,
   "metadata": {},
   "outputs": [],
   "source": [
    "\n",
    "data = pd.DataFrame()\n",
    "path = \"/Users/linlin/Desktop/2023/16b/dash/awardsbyloc\"\n",
    "xls_list = os.listdir(path)\n",
    "xlsx = glob.glob(os.path.join(path, \"*.xls\"))\n",
    "for x in xlsx:\n",
    "    if '.DS_Store' not in x:\n",
    "        print(x)\n",
    "        df = pd.read_excel(x)\n",
    "        df.columns = [s.upper() for s in list(df.columns)]\n",
    "        df[\"MONTH\"] = pd.to_datetime(df[\"AWARD NOTICE DATE\"]).dt.month\n",
    "        df[\"YEAR\"] = pd.to_datetime(df[\"AWARD NOTICE DATE\"]).dt.year\n",
    "        df[\"CITY\"] = df[\"CITY\"].str.upper()\n",
    "        df[\"STATE OR COUNTRY NAME\"] = df[\"STATE OR COUNTRY NAME\"].str.upper()\n",
    "        df[\"FULL_LOC\"] = df[\"CITY\"] + \" \" + df[\"STATE OR COUNTRY NAME\"]\n",
    "        df['CODE'] = df[\"STATE OR COUNTRY NAME\"].map(c_dict)\n",
    "        \n",
    "        if len(data) == 0:\n",
    "            data = df\n",
    "        else:\n",
    "            data = pd.concat([data, df],    # Combine vertically\n",
    "                            ignore_index = False,\n",
    "                            sort = False)\n",
    "\n",
    "        "
   ]
  },
  {
   "attachments": {},
   "cell_type": "markdown",
   "metadata": {},
   "source": [
    "We retain only the relevant columns in the dataset."
   ]
  },
  {
   "cell_type": "code",
   "execution_count": 27,
   "metadata": {},
   "outputs": [
    {
     "data": {
      "text/plain": [
       "(611898, 18)"
      ]
     },
     "execution_count": 27,
     "metadata": {},
     "output_type": "execute_result"
    }
   ],
   "source": [
    "data = data[['ORGANIZATION NAME', 'ORGANIZATION ID (IPF)', 'PROJECT NUMBER',\n",
    "       'FUNDING MECHANISM', 'PI NAME', 'PI PERSON ID',\n",
    "       'PROJECT TITLE', 'DIRECT COST', 'INDIRECT COST', 'FUNDING',\n",
    "       'CITY', 'STATE OR COUNTRY NAME',\n",
    "       'INSTITUTION TYPE', 'AWARD NOTICE DATE','MONTH', 'YEAR',\n",
    "       'FULL_LOC', 'CODE']]\n",
    "data = data[data.YEAR.notna()]\n",
    "data.shape"
   ]
  },
  {
   "attachments": {},
   "cell_type": "markdown",
   "metadata": {},
   "source": [
    "The different funding mechanisms and institution types of NIH Project and Funding Grants are: "
   ]
  },
  {
   "cell_type": "code",
   "execution_count": 17,
   "metadata": {},
   "outputs": [],
   "source": [
    "data['INSTITUTION TYPE'] = data['INSTITUTION TYPE'].fillna('None')"
   ]
  },
  {
   "cell_type": "code",
   "execution_count": 18,
   "metadata": {},
   "outputs": [
    {
     "data": {
      "text/plain": [
       "array(['None', 'Research Institutes', 'Domestic Higher Education',\n",
       "       'Independent Hospitals'], dtype=object)"
      ]
     },
     "execution_count": 18,
     "metadata": {},
     "output_type": "execute_result"
    }
   ],
   "source": [
    "data['INSTITUTION TYPE'].unique()"
   ]
  },
  {
   "cell_type": "code",
   "execution_count": 19,
   "metadata": {},
   "outputs": [
    {
     "data": {
      "text/plain": [
       "array(['RPGs - SBIR/STTR', 'RPGs - Non SBIR/STTR',\n",
       "       'Other Research-Related', 'Training - Individual',\n",
       "       'Training - Institutional', 'Research Centers', 'Other',\n",
       "       'Construction'], dtype=object)"
      ]
     },
     "execution_count": 19,
     "metadata": {},
     "output_type": "execute_result"
    }
   ],
   "source": [
    "data['FUNDING MECHANISM'].unique()"
   ]
  },
  {
   "attachments": {},
   "cell_type": "markdown",
   "metadata": {},
   "source": [
    "INSERT EXPLANATION TABLE"
   ]
  },
  {
   "attachments": {},
   "cell_type": "markdown",
   "metadata": {},
   "source": [
    "Since we have a huge amount of data —— over 600k entries, it would be wise to store and query the data using databases. "
   ]
  },
  {
   "cell_type": "code",
   "execution_count": 20,
   "metadata": {},
   "outputs": [
    {
     "data": {
      "text/plain": [
       "611898"
      ]
     },
     "execution_count": 20,
     "metadata": {},
     "output_type": "execute_result"
    }
   ],
   "source": [
    "# store data in database data.db table name \"decade\"\n",
    "\n",
    "conn = sqlite3.connect(\"data.db\")\n",
    "cur = conn.cursor()\n",
    "cur.execute(\"DROP TABLE IF EXISTS decade\")\n",
    "conn.commit()\n",
    "data.to_sql(\"decade\",conn,index=False)"
   ]
  },
  {
   "attachments": {},
   "cell_type": "markdown",
   "metadata": {},
   "source": [
    "Now, it's time to write a query function to select data by fiscal year, funding mechanism, and insitution type. Additionally, we would want to map the data to corresponding geocodes, and fill in anything that is missing with the geolocator module.  (The functions are saved in separate python files as required.)"
   ]
  },
  {
   "attachments": {},
   "cell_type": "markdown",
   "metadata": {},
   "source": [
    "Let's write a small helper function to print all tables in a given database, too."
   ]
  },
  {
   "cell_type": "code",
   "execution_count": 28,
   "metadata": {},
   "outputs": [
    {
     "name": "stdout",
     "output_type": "stream",
     "text": [
      "[('decade',), ('city',)]\n"
     ]
    }
   ],
   "source": [
    "def print_table(db = 'data.db'):\n",
    "    conn = sqlite3.connect(db)\n",
    "    alltbl = \"\"\"SELECT name FROM sqlite_master  \n",
    "    WHERE type='table';\"\"\"\n",
    "    cur = conn.cursor()\n",
    "    print(cur.execute(alltbl).fetchall())\n",
    "    conn.close()\n",
    "print_table()"
   ]
  },
  {
   "cell_type": "code",
   "execution_count": 29,
   "metadata": {},
   "outputs": [
    {
     "name": "stdout",
     "output_type": "stream",
     "text": [
      "  ORGANIZATION NAME  ORGANIZATION ID (IPF)   PROJECT NUMBER FUNDING MECHANISM  \\\n",
      "0       5 POINT APP             10052988.0  1R43CA261446-01  RPGs - SBIR/STTR   \n",
      "\n",
      "         PI NAME  PI PERSON ID  \\\n",
      "0  BECK, SUSAN L     6170838.0   \n",
      "\n",
      "                                       PROJECT TITLE  DIRECT COST  \\\n",
      "0  A New Multi-functional and Connected Mobile Ap...          NaN   \n",
      "\n",
      "   INDIRECT COST  FUNDING  ... INSTITUTION TYPE    AWARD NOTICE DATE MONTH  \\\n",
      "0            NaN   397367  ...             None  2021-09-16 00:00:00   9.0   \n",
      "\n",
      "     YEAR           FULL_LOC  CODE COUNTY_FIPS COUNTY_NAME      LAT      LNG  \n",
      "0  2021.0  NEW YORK NEW YORK    NY       36081      QUEENS  40.6943 -73.9249  \n",
      "\n",
      "[1 rows x 22 columns]\n"
     ]
    }
   ],
   "source": [
    "\n",
    "FME = ['RPGs - SBIR/STTR',\n",
    " 'RPGs - Non SBIR/STTR',\n",
    " 'Other Research-Related',\n",
    " 'Training - Individual',\n",
    " 'Training - Institutional',\n",
    " 'Research Centers',\n",
    " 'Other',\n",
    " 'Construction']\n",
    "INST = ['None',\n",
    " 'Research Institutes',\n",
    " 'Domestic Higher Education',\n",
    " 'Independent Hospitals']\n",
    "col = ['ORGANIZATION NAME',\n",
    " 'ORGANIZATION ID (IPF)',\n",
    " 'PROJECT NUMBER',\n",
    " 'FUNDING MECHANISM',\n",
    " 'PI NAME',\n",
    " 'PI PERSON ID',\n",
    " 'PROJECT TITLE',\n",
    " 'DIRECT COST',\n",
    " 'INDIRECT COST',\n",
    " 'FUNDING',\n",
    " 'CITY',\n",
    " 'STATE OR COUNTRY NAME',\n",
    " 'INSTITUTION TYPE',\n",
    " 'AWARD NOTICE DATE',\n",
    " 'MONTH',\n",
    " 'YEAR',\n",
    " 'FULL_LOC',\n",
    " 'CODE']\n",
    "def map_que(year=list(np.arange(2012,2022)),month=list(np.arange(1,12)),\n",
    "            fme = FME,\n",
    "            inst = INST):\n",
    "        cmd = '''\n",
    "        SELECT D.*,C.COUNTY_FIPS,C.COUNTY_NAME,C.LAT,C.LNG\n",
    "        FROM \n",
    "                (SELECT LNG,LAT,COUNTY_NAME,CITY,COUNTY_FIPS,STATE_ID\n",
    "                FROM city) AS C\n",
    "        LEFT JOIN decade as D\n",
    "        ON D.CITY = C.CITY\n",
    "        WHERE D.YEAR IN ''' + str(tuple(year))\\\n",
    "        + ''' AND MONTH IN ''' + str(tuple(month))\\\n",
    "        + ''' AND D.[FUNDING MECHANISM] IN ''' + str(tuple(fme))\\\n",
    "        + ''' AND D.[INSTITUTION TYPE] IN ''' + str(tuple(inst))#+'''LIMIT 1'''\n",
    "        conn = sqlite3.connect(\"data.db\")\n",
    "        cursor = conn.cursor()\n",
    "\n",
    "        cursor.execute(cmd)\n",
    "        df = pd.DataFrame(cursor.fetchall(),columns=col+[\"COUNTY_FIPS\",\"COUNTY_NAME\",\"LAT\",\"LNG\"])\n",
    "        print(df.head(n=1))\n",
    "        conn.close()\n",
    "        return df\n",
    "df = map_que() \n",
    "\n"
   ]
  },
  {
   "attachments": {},
   "cell_type": "markdown",
   "metadata": {},
   "source": [
    "The query took quite long to run on my MAC, some where between 1 to 3 minutes, so ideally we might want to query all of them when we open the web app and subset for different filters."
   ]
  },
  {
   "attachments": {},
   "cell_type": "markdown",
   "metadata": {},
   "source": [
    "Next, we fill in the missing locations with the following function: "
   ]
  },
  {
   "cell_type": "code",
   "execution_count": 30,
   "metadata": {},
   "outputs": [],
   "source": [
    "def geo_encode(dat,fip_dict):\n",
    "    proj = dat.copy()\n",
    "    #BECAUSE THERE ARE DUPLICATED VALUES AND USUALLY THE FIRST OCCURENCES ARE RIGHT\n",
    "    locs = list(dat.FULL_LOC)\n",
    "    lngs =  list(dat.LNG)\n",
    "    lats = list(dat.LAT)\n",
    "    fips = list(dat.COUNTY_FIPS)\n",
    "    countys = list(dat.COUNTY_NAME)\n",
    "    \n",
    "    lon_dict = dict(zip(list(locs),list(lngs)))\n",
    "    lat_dict = dict(zip(list(locs),list(lats)))\n",
    "    ct_dict = dict(zip(list(locs),list(countys)))\n",
    "    fip_dict = dict(zip(list(locs),list(fips)))\n",
    "    notfound = (proj[proj[\"LAT\"].isna()][\"FULL_LOC\"]).unique()\n",
    "    #print(notfound)\n",
    "\n",
    "    geo = [geolocator.geocode(i) for i in notfound] \n",
    "    lat = [i.latitude if i is not None else np.nan for i in geo]\n",
    "    lon = [i.longitude if i is not None else np.nan for i in geo]\n",
    "    county = [i.address.upper().split(\", \")[1] if i is not None else np.nan for i in geo]\n",
    "    fip = [fip_dict.get(i.address.upper().split(\", \")[1] + \" \" +i.address.upper().split(\", \")[2]) \\\n",
    "           if i is not None else np.nan \n",
    "           for i in geo]\n",
    "    \n",
    "    notfoundl = list(notfound)\n",
    "    lat_add = dict(zip(notfoundl,lat))\n",
    "    lon_add = dict(zip(notfoundl,lon))\n",
    "    ct_add = dict(zip(notfoundl,county))\n",
    "    fip_add = dict(zip(notfoundl,fip))\n",
    "\n",
    "    ct_dict.update(ct_add)\n",
    "    fip_dict.update(fip_add)\n",
    "    lat_dict.update(lat_add)\n",
    "    lon_dict.update(lon_add)\n",
    "    \n",
    "    proj[\"COUNTY\"] = proj[\"FULL_LOC\"].map(ct_dict)\n",
    "    proj[\"FIPS\"] = proj[\"FULL_LOC\"].map(fip_dict)\n",
    "    proj[\"LNG\"] = proj[\"FULL_LOC\"].map(lon_dict)\n",
    "    proj[\"LAT\"] = proj[\"FULL_LOC\"].map(lat_dict)\n",
    "    return proj \n",
    "\n"
   ]
  },
  {
   "attachments": {},
   "cell_type": "markdown",
   "metadata": {},
   "source": [
    "As you would see, the geolocator runs on API request so it is going to take a long time as well ( which mde me resave the whole datatable)."
   ]
  },
  {
   "cell_type": "code",
   "execution_count": 31,
   "metadata": {},
   "outputs": [],
   "source": [
    "\n",
    "proj = geo_encode(df,fip_dict)"
   ]
  },
  {
   "cell_type": "code",
   "execution_count": 33,
   "metadata": {},
   "outputs": [],
   "source": [
    "# Let's resave the data, store data in database data.db table name \"decade\" \n",
    "\n",
    "conn = sqlite3.connect(\"data.db\")\n",
    "cur = conn.cursor()\n",
    "cur.execute(\"DROP TABLE IF EXISTS decade\")\n",
    "conn.commit()\n",
    "proj.to_sql(\"decade\",conn,index=False)\n",
    "conn.close()"
   ]
  },
  {
   "attachments": {},
   "cell_type": "markdown",
   "metadata": {},
   "source": [
    "## Geospatial Analysis  "
   ]
  },
  {
   "attachments": {},
   "cell_type": "markdown",
   "metadata": {},
   "source": [
    "Now, let's plot a state choropleth map to visualize the funding distributions. For the sake of time, I will just keep working with the dataframe in the workspace. The choropleth map would be colored by one of the following metrics:\n",
    "- Total fundings/number of organizations \n",
    "- Total fundings/number of projects \n",
    "- Total fundings/number of PI IDs \n",
    "\n",
    "//another way of doing this is to further normalize, if we were to look at the data irregardless of the funding/institute tyoe, we do a basket norm"
   ]
  },
  {
   "cell_type": "code",
   "execution_count": 34,
   "metadata": {},
   "outputs": [
    {
     "data": {
      "text/plain": [
       "Index(['ORGANIZATION NAME', 'ORGANIZATION ID (IPF)', 'PROJECT NUMBER',\n",
       "       'FUNDING MECHANISM', 'PI NAME', 'PI PERSON ID', 'PROJECT TITLE',\n",
       "       'DIRECT COST', 'INDIRECT COST', 'FUNDING', 'CITY',\n",
       "       'STATE OR COUNTRY NAME', 'INSTITUTION TYPE', 'AWARD NOTICE DATE',\n",
       "       'MONTH', 'YEAR', 'FULL_LOC', 'CODE', 'COUNTY_FIPS', 'COUNTY_NAME',\n",
       "       'LAT', 'LNG', 'COUNTY', 'FIPS'],\n",
       "      dtype='object')"
      ]
     },
     "execution_count": 34,
     "metadata": {},
     "output_type": "execute_result"
    }
   ],
   "source": [
    "proj.columns"
   ]
  },
  {
   "cell_type": "code",
   "execution_count": 116,
   "metadata": {},
   "outputs": [
    {
     "data": {
      "text/html": [
       "<div>\n",
       "<style scoped>\n",
       "    .dataframe tbody tr th:only-of-type {\n",
       "        vertical-align: middle;\n",
       "    }\n",
       "\n",
       "    .dataframe tbody tr th {\n",
       "        vertical-align: top;\n",
       "    }\n",
       "\n",
       "    .dataframe thead th {\n",
       "        text-align: right;\n",
       "    }\n",
       "</style>\n",
       "<table border=\"1\" class=\"dataframe\">\n",
       "  <thead>\n",
       "    <tr style=\"text-align: right;\">\n",
       "      <th></th>\n",
       "      <th>INSTITUTION TYPE</th>\n",
       "      <th>FUNDING MECHANISM</th>\n",
       "      <th>YEAR</th>\n",
       "      <th>CODE</th>\n",
       "      <th>FUNDING</th>\n",
       "    </tr>\n",
       "  </thead>\n",
       "  <tbody>\n",
       "    <tr>\n",
       "      <th>0</th>\n",
       "      <td>Domestic Higher Education</td>\n",
       "      <td>Other Research-Related</td>\n",
       "      <td>2012.0</td>\n",
       "      <td>AK</td>\n",
       "      <td>2.869343e+05</td>\n",
       "    </tr>\n",
       "    <tr>\n",
       "      <th>1</th>\n",
       "      <td>Domestic Higher Education</td>\n",
       "      <td>RPGs - Non SBIR/STTR</td>\n",
       "      <td>2012.0</td>\n",
       "      <td>AK</td>\n",
       "      <td>3.684612e+05</td>\n",
       "    </tr>\n",
       "    <tr>\n",
       "      <th>2</th>\n",
       "      <td>None</td>\n",
       "      <td>RPGs - Non SBIR/STTR</td>\n",
       "      <td>2012.0</td>\n",
       "      <td>AK</td>\n",
       "      <td>3.097755e+05</td>\n",
       "    </tr>\n",
       "    <tr>\n",
       "      <th>3</th>\n",
       "      <td>Domestic Higher Education</td>\n",
       "      <td>Research Centers</td>\n",
       "      <td>2012.0</td>\n",
       "      <td>AK</td>\n",
       "      <td>2.311864e+06</td>\n",
       "    </tr>\n",
       "    <tr>\n",
       "      <th>4</th>\n",
       "      <td>Domestic Higher Education</td>\n",
       "      <td>Other Research-Related</td>\n",
       "      <td>2013.0</td>\n",
       "      <td>AK</td>\n",
       "      <td>2.007843e+05</td>\n",
       "    </tr>\n",
       "  </tbody>\n",
       "</table>\n",
       "</div>"
      ],
      "text/plain": [
       "            INSTITUTION TYPE       FUNDING MECHANISM    YEAR CODE  \\\n",
       "0  Domestic Higher Education  Other Research-Related  2012.0   AK   \n",
       "1  Domestic Higher Education    RPGs - Non SBIR/STTR  2012.0   AK   \n",
       "2                       None    RPGs - Non SBIR/STTR  2012.0   AK   \n",
       "3  Domestic Higher Education        Research Centers  2012.0   AK   \n",
       "4  Domestic Higher Education  Other Research-Related  2013.0   AK   \n",
       "\n",
       "        FUNDING  \n",
       "0  2.869343e+05  \n",
       "1  3.684612e+05  \n",
       "2  3.097755e+05  \n",
       "3  2.311864e+06  \n",
       "4  2.007843e+05  "
      ]
     },
     "execution_count": 116,
     "metadata": {},
     "output_type": "execute_result"
    }
   ],
   "source": [
    "# Average funding per organization\n",
    "fund_org_avg = proj.groupby(\n",
    "    ['CODE','YEAR','FUNDING MECHANISM','INSTITUTION TYPE','ORGANIZATION NAME']\n",
    "    )['FUNDING'].agg('mean') \n",
    "fund_org_avg = fund_org_avg.reset_index(0).reset_index(0).reset_index(0).reset_index(0).reset_index(0)\n",
    "fund_org_avg = proj.groupby(\n",
    "    ['CODE','YEAR','FUNDING MECHANISM','INSTITUTION TYPE']\n",
    "    )['FUNDING'].agg('mean') \n",
    "fund_org_avg = fund_org_avg.reset_index(0).reset_index(0).reset_index(0).reset_index(0)\n",
    "#for demo\n",
    "fund_org_avg.to_csv('fund_org_avg.csv')\n",
    "fund_org_avg.head()\n"
   ]
  },
  {
   "cell_type": "code",
   "execution_count": 118,
   "metadata": {},
   "outputs": [
    {
     "data": {
      "text/html": [
       "<div>\n",
       "<style scoped>\n",
       "    .dataframe tbody tr th:only-of-type {\n",
       "        vertical-align: middle;\n",
       "    }\n",
       "\n",
       "    .dataframe tbody tr th {\n",
       "        vertical-align: top;\n",
       "    }\n",
       "\n",
       "    .dataframe thead th {\n",
       "        text-align: right;\n",
       "    }\n",
       "</style>\n",
       "<table border=\"1\" class=\"dataframe\">\n",
       "  <thead>\n",
       "    <tr style=\"text-align: right;\">\n",
       "      <th></th>\n",
       "      <th>INSTITUTION TYPE</th>\n",
       "      <th>FUNDING MECHANISM</th>\n",
       "      <th>YEAR</th>\n",
       "      <th>CODE</th>\n",
       "      <th>FUNDING</th>\n",
       "    </tr>\n",
       "  </thead>\n",
       "  <tbody>\n",
       "    <tr>\n",
       "      <th>0</th>\n",
       "      <td>Domestic Higher Education</td>\n",
       "      <td>Other Research-Related</td>\n",
       "      <td>2012.0</td>\n",
       "      <td>AK</td>\n",
       "      <td>2.869343e+05</td>\n",
       "    </tr>\n",
       "    <tr>\n",
       "      <th>1</th>\n",
       "      <td>Domestic Higher Education</td>\n",
       "      <td>RPGs - Non SBIR/STTR</td>\n",
       "      <td>2012.0</td>\n",
       "      <td>AK</td>\n",
       "      <td>3.684612e+05</td>\n",
       "    </tr>\n",
       "    <tr>\n",
       "      <th>2</th>\n",
       "      <td>None</td>\n",
       "      <td>RPGs - Non SBIR/STTR</td>\n",
       "      <td>2012.0</td>\n",
       "      <td>AK</td>\n",
       "      <td>3.097755e+05</td>\n",
       "    </tr>\n",
       "    <tr>\n",
       "      <th>3</th>\n",
       "      <td>Domestic Higher Education</td>\n",
       "      <td>Research Centers</td>\n",
       "      <td>2012.0</td>\n",
       "      <td>AK</td>\n",
       "      <td>2.311864e+06</td>\n",
       "    </tr>\n",
       "    <tr>\n",
       "      <th>4</th>\n",
       "      <td>Domestic Higher Education</td>\n",
       "      <td>Other Research-Related</td>\n",
       "      <td>2013.0</td>\n",
       "      <td>AK</td>\n",
       "      <td>2.007843e+05</td>\n",
       "    </tr>\n",
       "  </tbody>\n",
       "</table>\n",
       "</div>"
      ],
      "text/plain": [
       "            INSTITUTION TYPE       FUNDING MECHANISM    YEAR CODE  \\\n",
       "0  Domestic Higher Education  Other Research-Related  2012.0   AK   \n",
       "1  Domestic Higher Education    RPGs - Non SBIR/STTR  2012.0   AK   \n",
       "2                       None    RPGs - Non SBIR/STTR  2012.0   AK   \n",
       "3  Domestic Higher Education        Research Centers  2012.0   AK   \n",
       "4  Domestic Higher Education  Other Research-Related  2013.0   AK   \n",
       "\n",
       "        FUNDING  \n",
       "0  2.869343e+05  \n",
       "1  3.684612e+05  \n",
       "2  3.097755e+05  \n",
       "3  2.311864e+06  \n",
       "4  2.007843e+05  "
      ]
     },
     "execution_count": 118,
     "metadata": {},
     "output_type": "execute_result"
    }
   ],
   "source": [
    "# Average funding per pi ~ to a team/lab\n",
    "fund_pi_avg = proj.groupby(\n",
    "    ['CODE','YEAR','FUNDING MECHANISM','INSTITUTION TYPE','PI PERSON ID']\n",
    "    )['FUNDING'].agg('mean') \n",
    "fund_pi_avg = fund_pi_avg.reset_index(0).reset_index(0).reset_index(0).reset_index(0).reset_index(0)\n",
    "fund_pi_avg = proj.groupby(\n",
    "    ['CODE','YEAR','FUNDING MECHANISM','INSTITUTION TYPE']\n",
    "    )['FUNDING'].agg('mean') \n",
    "fund_pi_avg = fund_pi_avg.reset_index(0).reset_index(0).reset_index(0).reset_index(0)\n",
    "\n",
    "fund_pi_avg.to_csv('fund_pi_avg.csv')\n",
    "fund_pi_avg.head()"
   ]
  },
  {
   "cell_type": "code",
   "execution_count": 117,
   "metadata": {},
   "outputs": [
    {
     "data": {
      "text/html": [
       "<div>\n",
       "<style scoped>\n",
       "    .dataframe tbody tr th:only-of-type {\n",
       "        vertical-align: middle;\n",
       "    }\n",
       "\n",
       "    .dataframe tbody tr th {\n",
       "        vertical-align: top;\n",
       "    }\n",
       "\n",
       "    .dataframe thead th {\n",
       "        text-align: right;\n",
       "    }\n",
       "</style>\n",
       "<table border=\"1\" class=\"dataframe\">\n",
       "  <thead>\n",
       "    <tr style=\"text-align: right;\">\n",
       "      <th></th>\n",
       "      <th>INSTITUTION TYPE</th>\n",
       "      <th>FUNDING MECHANISM</th>\n",
       "      <th>YEAR</th>\n",
       "      <th>CODE</th>\n",
       "      <th>FUNDING</th>\n",
       "    </tr>\n",
       "  </thead>\n",
       "  <tbody>\n",
       "    <tr>\n",
       "      <th>0</th>\n",
       "      <td>Domestic Higher Education</td>\n",
       "      <td>Other Research-Related</td>\n",
       "      <td>2012.0</td>\n",
       "      <td>AK</td>\n",
       "      <td>2.869343e+05</td>\n",
       "    </tr>\n",
       "    <tr>\n",
       "      <th>1</th>\n",
       "      <td>Domestic Higher Education</td>\n",
       "      <td>RPGs - Non SBIR/STTR</td>\n",
       "      <td>2012.0</td>\n",
       "      <td>AK</td>\n",
       "      <td>3.684612e+05</td>\n",
       "    </tr>\n",
       "    <tr>\n",
       "      <th>2</th>\n",
       "      <td>None</td>\n",
       "      <td>RPGs - Non SBIR/STTR</td>\n",
       "      <td>2012.0</td>\n",
       "      <td>AK</td>\n",
       "      <td>3.097755e+05</td>\n",
       "    </tr>\n",
       "    <tr>\n",
       "      <th>3</th>\n",
       "      <td>Domestic Higher Education</td>\n",
       "      <td>Research Centers</td>\n",
       "      <td>2012.0</td>\n",
       "      <td>AK</td>\n",
       "      <td>2.311864e+06</td>\n",
       "    </tr>\n",
       "    <tr>\n",
       "      <th>4</th>\n",
       "      <td>Domestic Higher Education</td>\n",
       "      <td>Other Research-Related</td>\n",
       "      <td>2013.0</td>\n",
       "      <td>AK</td>\n",
       "      <td>2.007843e+05</td>\n",
       "    </tr>\n",
       "  </tbody>\n",
       "</table>\n",
       "</div>"
      ],
      "text/plain": [
       "            INSTITUTION TYPE       FUNDING MECHANISM    YEAR CODE  \\\n",
       "0  Domestic Higher Education  Other Research-Related  2012.0   AK   \n",
       "1  Domestic Higher Education    RPGs - Non SBIR/STTR  2012.0   AK   \n",
       "2                       None    RPGs - Non SBIR/STTR  2012.0   AK   \n",
       "3  Domestic Higher Education        Research Centers  2012.0   AK   \n",
       "4  Domestic Higher Education  Other Research-Related  2013.0   AK   \n",
       "\n",
       "        FUNDING  \n",
       "0  2.869343e+05  \n",
       "1  3.684612e+05  \n",
       "2  3.097755e+05  \n",
       "3  2.311864e+06  \n",
       "4  2.007843e+05  "
      ]
     },
     "execution_count": 117,
     "metadata": {},
     "output_type": "execute_result"
    }
   ],
   "source": [
    "# average funding per project\n",
    "fund_proj_avg = proj.groupby(\n",
    "    ['CODE','YEAR','FUNDING MECHANISM','INSTITUTION TYPE']\n",
    "    )['FUNDING'].agg('mean')\n",
    "fund_proj_avg = fund_proj_avg.reset_index(0).reset_index(0).reset_index(0).reset_index(0)\n",
    "\n",
    "fund_proj_avg.to_csv('fund_proj_avg.csv')\n",
    "fund_proj_avg.head()"
   ]
  },
  {
   "attachments": {},
   "cell_type": "markdown",
   "metadata": {},
   "source": [
    "The following is an example animated graph of the average funding per project by state: "
   ]
  },
  {
   "cell_type": "code",
   "execution_count": 27,
   "metadata": {},
   "outputs": [
    {
     "data": {
      "application/vnd.plotly.v1+json": {
       "config": {
        "plotlyServerURL": "https://plot.ly"
       },
       "data": [
        {
         "coloraxis": "coloraxis",
         "geo": "geo",
         "hovertemplate": "YEAR=2012.0<br>CODE=%{location}<br>FUNDING=%{z}<extra></extra>",
         "locationmode": "USA-states",
         "locations": [
          "AK",
          "AL",
          "AR",
          "AZ",
          "CA",
          "CO",
          "CT",
          "DE",
          "FL",
          "GA",
          "HI",
          "IA",
          "ID",
          "IL",
          "IN",
          "KS",
          "KY",
          "LA",
          "MA",
          "MD",
          "ME",
          "MI",
          "MN",
          "MO",
          "MS",
          "MT",
          "NC",
          "ND",
          "NE",
          "NH",
          "NJ",
          "NM",
          "NV",
          "NY",
          "OH",
          "OK",
          "OR",
          "PA",
          "RI",
          "SC",
          "SD",
          "TN",
          "TX",
          "UT",
          "VA",
          "VT",
          "WA",
          "WI",
          "WV",
          "WY"
         ],
         "name": "",
         "type": "choropleth",
         "z": [
          819258.7537878788,
          883231.4352661963,
          450235.5365065434,
          697157.314221263,
          462397.0413963178,
          773634.5606795119,
          473999.1531029692,
          674649.968421127,
          543951.1490512975,
          457878.07555865735,
          407409.0291969037,
          488582.0030446903,
          779845.4875,
          437944.9423218472,
          335869.021900343,
          569073.9356235041,
          532889.7653056155,
          508468.18053190794,
          620348.7658138077,
          489991.0089627051,
          816799.662746806,
          408406.00653996016,
          496748.9759729128,
          362346.1468989507,
          633295.3371533238,
          563645.452953813,
          582093.6196851355,
          482576.04747899156,
          394550.70915131085,
          528123.849589343,
          446324.96672823565,
          605517.2117686196,
          566657.6025498891,
          466842.55298434204,
          446021.91706282203,
          544504.5843632838,
          651500.2075331035,
          551847.7708864245,
          709434.6027604975,
          385033.91984622006,
          719200.128042328,
          518867.0089879149,
          755762.8138398123,
          522374.9604516218,
          372789.99864619965,
          427096.623358864,
          574166.3493828633,
          476714.8009445191,
          1501429.209325397,
          1216359.6944444445
         ]
        }
       ],
       "frames": [
        {
         "data": [
          {
           "coloraxis": "coloraxis",
           "geo": "geo",
           "hovertemplate": "YEAR=2012.0<br>CODE=%{location}<br>FUNDING=%{z}<extra></extra>",
           "locationmode": "USA-states",
           "locations": [
            "AK",
            "AL",
            "AR",
            "AZ",
            "CA",
            "CO",
            "CT",
            "DE",
            "FL",
            "GA",
            "HI",
            "IA",
            "ID",
            "IL",
            "IN",
            "KS",
            "KY",
            "LA",
            "MA",
            "MD",
            "ME",
            "MI",
            "MN",
            "MO",
            "MS",
            "MT",
            "NC",
            "ND",
            "NE",
            "NH",
            "NJ",
            "NM",
            "NV",
            "NY",
            "OH",
            "OK",
            "OR",
            "PA",
            "RI",
            "SC",
            "SD",
            "TN",
            "TX",
            "UT",
            "VA",
            "VT",
            "WA",
            "WI",
            "WV",
            "WY"
           ],
           "name": "",
           "type": "choropleth",
           "z": [
            819258.7537878788,
            883231.4352661963,
            450235.5365065434,
            697157.314221263,
            462397.0413963178,
            773634.5606795119,
            473999.1531029692,
            674649.968421127,
            543951.1490512975,
            457878.07555865735,
            407409.0291969037,
            488582.0030446903,
            779845.4875,
            437944.9423218472,
            335869.021900343,
            569073.9356235041,
            532889.7653056155,
            508468.18053190794,
            620348.7658138077,
            489991.0089627051,
            816799.662746806,
            408406.00653996016,
            496748.9759729128,
            362346.1468989507,
            633295.3371533238,
            563645.452953813,
            582093.6196851355,
            482576.04747899156,
            394550.70915131085,
            528123.849589343,
            446324.96672823565,
            605517.2117686196,
            566657.6025498891,
            466842.55298434204,
            446021.91706282203,
            544504.5843632838,
            651500.2075331035,
            551847.7708864245,
            709434.6027604975,
            385033.91984622006,
            719200.128042328,
            518867.0089879149,
            755762.8138398123,
            522374.9604516218,
            372789.99864619965,
            427096.623358864,
            574166.3493828633,
            476714.8009445191,
            1501429.209325397,
            1216359.6944444445
           ]
          }
         ],
         "name": "2012.0"
        },
        {
         "data": [
          {
           "coloraxis": "coloraxis",
           "geo": "geo",
           "hovertemplate": "YEAR=2013.0<br>CODE=%{location}<br>FUNDING=%{z}<extra></extra>",
           "locationmode": "USA-states",
           "locations": [
            "AK",
            "AL",
            "AR",
            "AZ",
            "CA",
            "CO",
            "CT",
            "DE",
            "FL",
            "GA",
            "HI",
            "IA",
            "ID",
            "IL",
            "IN",
            "KS",
            "KY",
            "LA",
            "MA",
            "MD",
            "ME",
            "MI",
            "MN",
            "MO",
            "MS",
            "MT",
            "NC",
            "ND",
            "NE",
            "NH",
            "NJ",
            "NM",
            "NV",
            "NY",
            "OH",
            "OK",
            "OR",
            "PA",
            "RI",
            "SC",
            "SD",
            "TN",
            "TX",
            "UT",
            "VA",
            "VT",
            "WA",
            "WI",
            "WV",
            "WY"
           ],
           "name": "",
           "type": "choropleth",
           "z": [
            593209.9285714285,
            572495.0481224462,
            419837.0247889589,
            1421384.6385551759,
            464200.0343017361,
            752516.6001423362,
            500918.8061761357,
            726359.2299828301,
            381874.27634657425,
            527754.109582807,
            376065.74515262514,
            448474.29379697255,
            647291.6378378378,
            467526.8619928446,
            333080.76749481424,
            656023.4882997258,
            495329.50568369654,
            372083.0821934055,
            598229.1806327034,
            488665.01549651066,
            688187.6383928572,
            430887.6978483094,
            541452.5203182866,
            396506.2882035944,
            586340.2909561609,
            364211.69010989007,
            439366.1356252793,
            553891.4551066217,
            356255.6362981745,
            464227.48875116155,
            451831.63899361296,
            603216.0362760256,
            522309.04464285716,
            516849.8884002876,
            441614.6147224231,
            596530.7045011208,
            523177.54072070506,
            535987.2837588316,
            692381.709398459,
            419719.48067126906,
            617967.4266666666,
            592982.2182241229,
            723337.4376164294,
            424444.6123693981,
            418870.20494677447,
            511888.1666248956,
            624614.8846824599,
            544455.9375411709,
            777142.5151291875,
            875520.4393939395
           ]
          }
         ],
         "name": "2013.0"
        },
        {
         "data": [
          {
           "coloraxis": "coloraxis",
           "geo": "geo",
           "hovertemplate": "YEAR=2014.0<br>CODE=%{location}<br>FUNDING=%{z}<extra></extra>",
           "locationmode": "USA-states",
           "locations": [
            "AK",
            "AL",
            "AR",
            "AZ",
            "CA",
            "CO",
            "CT",
            "DE",
            "FL",
            "GA",
            "HI",
            "IA",
            "ID",
            "IL",
            "IN",
            "KS",
            "KY",
            "LA",
            "MA",
            "MD",
            "ME",
            "MI",
            "MN",
            "MO",
            "MS",
            "MT",
            "NC",
            "ND",
            "NE",
            "NH",
            "NJ",
            "NM",
            "NV",
            "NY",
            "OH",
            "OK",
            "OR",
            "PA",
            "RI",
            "SC",
            "SD",
            "TN",
            "TX",
            "UT",
            "VA",
            "VT",
            "WA",
            "WI",
            "WV",
            "WY"
           ],
           "name": "",
           "type": "choropleth",
           "z": [
            627296.8333333334,
            803407.0571219291,
            399433.48373522237,
            454135.34280155477,
            572386.126811535,
            502026.92821515613,
            468029.4311421154,
            691019.9264300014,
            411817.158589995,
            512954.7695085968,
            490707.94494192797,
            428534.9831903085,
            651733.6338516746,
            430517.5505332078,
            365470.8735631924,
            433098.8849905604,
            645676.0071543403,
            435345.64237107884,
            769722.5088768444,
            657993.2822868307,
            776716.4190476191,
            514472.8340271732,
            520688.972644208,
            279103.46924385277,
            467294.80260910746,
            501631.28371913586,
            958288.2102533721,
            509578.4385026738,
            535069.339538808,
            520475.0871724368,
            366050.37709315075,
            532556.2960553032,
            573886.7080777027,
            1772779.4379217324,
            428708.5996756708,
            556594.9152915712,
            645080.887371105,
            589239.3213062474,
            741951.702535292,
            380500.4578606142,
            824484.5824712643,
            710831.3082708092,
            787989.391583441,
            403799.619733344,
            387654.2992187211,
            561990.7276475765,
            606614.0543532558,
            532819.6736194149,
            619376.2796390657,
            722116.9393939395
           ]
          }
         ],
         "name": "2014.0"
        },
        {
         "data": [
          {
           "coloraxis": "coloraxis",
           "geo": "geo",
           "hovertemplate": "YEAR=2015.0<br>CODE=%{location}<br>FUNDING=%{z}<extra></extra>",
           "locationmode": "USA-states",
           "locations": [
            "AK",
            "AL",
            "AR",
            "AZ",
            "CA",
            "CO",
            "CT",
            "DE",
            "FL",
            "GA",
            "HI",
            "IA",
            "ID",
            "IL",
            "IN",
            "KS",
            "KY",
            "LA",
            "MA",
            "MD",
            "ME",
            "MI",
            "MN",
            "MO",
            "MS",
            "MT",
            "NC",
            "ND",
            "NE",
            "NH",
            "NJ",
            "NM",
            "NV",
            "NY",
            "OH",
            "OK",
            "OR",
            "PA",
            "RI",
            "SC",
            "SD",
            "TN",
            "TX",
            "UT",
            "VA",
            "VT",
            "WA",
            "WI",
            "WV",
            "WY"
           ],
           "name": "",
           "type": "choropleth",
           "z": [
            707591.9285714285,
            653730.2068420228,
            437462.7433804095,
            554757.4573001836,
            626238.1171565265,
            462397.7471944373,
            488703.30668907455,
            674543.8624946796,
            506345.30151250237,
            526651.0777416449,
            481015.14876033063,
            451580.1714411808,
            574183.2678787879,
            389262.742373297,
            352628.8600378261,
            616728.0314116993,
            410504.7273711885,
            500118.8249836286,
            598636.8840327754,
            783420.734258764,
            705333.4367864693,
            612753.8385008282,
            623018.2211135289,
            312514.62603783014,
            436984.88276214525,
            460940.3470899471,
            871293.3739878125,
            422418.87,
            465111.3689741085,
            660586.6536368547,
            510507.7765100532,
            546557.2303510652,
            612413.5090612002,
            457691.2221278614,
            498833.6724861258,
            463550.7091585498,
            595275.8011598511,
            588307.1786888873,
            617342.8901023238,
            440742.0547530356,
            829521.5255172413,
            616366.3718141427,
            702993.397462471,
            453158.8353574505,
            373777.8961434036,
            568907.8688082616,
            602123.9500769197,
            547983.0559305797,
            493951.59519348526,
            810880.5151515151
           ]
          }
         ],
         "name": "2015.0"
        },
        {
         "data": [
          {
           "coloraxis": "coloraxis",
           "geo": "geo",
           "hovertemplate": "YEAR=2016.0<br>CODE=%{location}<br>FUNDING=%{z}<extra></extra>",
           "locationmode": "USA-states",
           "locations": [
            "AK",
            "AL",
            "AR",
            "AZ",
            "CA",
            "CO",
            "CT",
            "DE",
            "FL",
            "GA",
            "HI",
            "IA",
            "ID",
            "IL",
            "IN",
            "KS",
            "KY",
            "LA",
            "MA",
            "MD",
            "ME",
            "MI",
            "MN",
            "MO",
            "MS",
            "MT",
            "NC",
            "ND",
            "NE",
            "NH",
            "NJ",
            "NM",
            "NV",
            "NY",
            "OH",
            "OK",
            "OR",
            "PA",
            "RI",
            "SC",
            "SD",
            "TN",
            "TX",
            "UT",
            "VA",
            "VT",
            "WA",
            "WI",
            "WV",
            "WY"
           ],
           "name": "",
           "type": "choropleth",
           "z": [
            876723.5992063492,
            746058.0771670546,
            1248020.41691439,
            620404.810459433,
            840760.5234136606,
            436411.25594385504,
            465071.13740706624,
            693301.7289604928,
            650249.2509187101,
            405671.62196183874,
            764824.4664413966,
            593284.1992570307,
            956644.8842236025,
            533599.4188341062,
            355837.5691204808,
            508138.95432710566,
            433446.7471557113,
            482006.88191358437,
            595670.5322651112,
            760733.1317952233,
            627068.3263888889,
            740529.9890763838,
            675854.9576939798,
            328317.96560307505,
            666156.7086516854,
            529325.3801759834,
            1521463.676712026,
            523718.40750000003,
            562233.8349080463,
            599173.4123773377,
            458396.88339509355,
            562508.1196290425,
            582378.0922969187,
            438857.3181135099,
            521204.82184480113,
            473004.9438303697,
            579162.6837078283,
            682009.2168071334,
            650569.6153619724,
            549641.5322643092,
            754409.5316582053,
            574611.3709066022,
            805606.3791429742,
            450871.2960739242,
            391525.0195075966,
            516494.01161425124,
            688147.2769634988,
            467926.96516379196,
            603851.9993146228,
            1434270.0833333333
           ]
          }
         ],
         "name": "2016.0"
        },
        {
         "data": [
          {
           "coloraxis": "coloraxis",
           "geo": "geo",
           "hovertemplate": "YEAR=2017.0<br>CODE=%{location}<br>FUNDING=%{z}<extra></extra>",
           "locationmode": "USA-states",
           "locations": [
            "AK",
            "AL",
            "AR",
            "AZ",
            "CA",
            "CO",
            "CT",
            "DE",
            "FL",
            "GA",
            "HI",
            "IA",
            "ID",
            "IL",
            "IN",
            "KS",
            "KY",
            "LA",
            "MA",
            "MD",
            "ME",
            "MI",
            "MN",
            "MO",
            "MS",
            "MT",
            "NC",
            "ND",
            "NE",
            "NH",
            "NJ",
            "NM",
            "NV",
            "NY",
            "OH",
            "OK",
            "OR",
            "PA",
            "RI",
            "SC",
            "SD",
            "TN",
            "TX",
            "UT",
            "VA",
            "VT",
            "WA",
            "WI",
            "WV",
            "WY"
           ],
           "name": "",
           "type": "choropleth",
           "z": [
            1068390.668831169,
            1080478.0682521546,
            702931.5715855339,
            747061.1741617357,
            672748.3458635997,
            391800.93233331724,
            451392.7615914111,
            666519.2905080453,
            636672.5327550771,
            449796.917660966,
            941343.3305555555,
            537286.8746443618,
            928332.5886363636,
            564419.079330523,
            377970.59774492955,
            669269.9318352364,
            516543.22376155085,
            595568.4803584627,
            639486.6958304292,
            896129.8733317826,
            769436.1619047618,
            736286.5245401144,
            649070.257757249,
            408035.2732457398,
            601384.7523448773,
            653572.7652777777,
            3129331.9741132515,
            663195.3678646935,
            544379.7379448611,
            554890.3570585331,
            436659.2995485647,
            599090.3665381594,
            717943.1479797981,
            464679.5589040602,
            497453.5895998989,
            497569.5307550902,
            498911.1360841447,
            646736.0355534694,
            646270.3217982049,
            550214.1594438155,
            906334.2924369748,
            606050.1641669837,
            821914.8974901973,
            541431.5156863942,
            545174.3504215254,
            565074.9324672692,
            679249.9042566005,
            807159.1037102479,
            734008.2162845492,
            1125257.0784313725
           ]
          }
         ],
         "name": "2017.0"
        },
        {
         "data": [
          {
           "coloraxis": "coloraxis",
           "geo": "geo",
           "hovertemplate": "YEAR=2018.0<br>CODE=%{location}<br>FUNDING=%{z}<extra></extra>",
           "locationmode": "USA-states",
           "locations": [
            "AK",
            "AL",
            "AR",
            "AZ",
            "CA",
            "CO",
            "CT",
            "DE",
            "FL",
            "GA",
            "HI",
            "IA",
            "ID",
            "IL",
            "IN",
            "KS",
            "KY",
            "LA",
            "MA",
            "MD",
            "ME",
            "MI",
            "MN",
            "MO",
            "MS",
            "MT",
            "NC",
            "ND",
            "NE",
            "NH",
            "NJ",
            "NM",
            "NV",
            "NY",
            "OH",
            "OK",
            "OR",
            "PA",
            "RI",
            "SC",
            "SD",
            "TN",
            "TX",
            "UT",
            "VA",
            "VT",
            "WA",
            "WI",
            "WV",
            "WY"
           ],
           "name": "",
           "type": "choropleth",
           "z": [
            1119947.0023809525,
            1097514.50089397,
            679032.3613189824,
            1596078.321251567,
            631604.70902004,
            464206.1192426129,
            421975.42427380197,
            681477.8506901548,
            618384.1277100658,
            472725.19909847045,
            577415.8508641976,
            686659.8966464013,
            919242.8444444444,
            953810.4685667119,
            375388.81740856724,
            615186.7855741712,
            465092.5306571383,
            557343.3194740252,
            835637.5884704198,
            541150.9826856429,
            741472.5231303418,
            1303847.9760081614,
            590739.2852574907,
            416383.752485375,
            671424.8912440263,
            557839.7169125258,
            1999281.89704428,
            648122.9292580982,
            600215.8235991487,
            563005.03802055,
            468866.2825363711,
            591641.0599849425,
            809560.5774991136,
            542913.7473372496,
            643610.9568494491,
            500591.24199931935,
            539858.7320251468,
            896441.7525160481,
            616916.0957202009,
            623015.0710809266,
            791482.8437728938,
            567299.1455430449,
            879476.8463701882,
            474152.98064018163,
            1474494.4307233905,
            674919.6017071041,
            680752.6364969665,
            1399537.9891072954,
            561003.631539135,
            958506.5068330361
           ]
          }
         ],
         "name": "2018.0"
        },
        {
         "data": [
          {
           "coloraxis": "coloraxis",
           "geo": "geo",
           "hovertemplate": "YEAR=2019.0<br>CODE=%{location}<br>FUNDING=%{z}<extra></extra>",
           "locationmode": "USA-states",
           "locations": [
            "AK",
            "AL",
            "AR",
            "AZ",
            "CA",
            "CO",
            "CT",
            "DE",
            "FL",
            "GA",
            "HI",
            "IA",
            "ID",
            "IL",
            "IN",
            "KS",
            "KY",
            "LA",
            "MA",
            "MD",
            "ME",
            "MI",
            "MN",
            "MO",
            "MS",
            "MT",
            "NC",
            "ND",
            "NE",
            "NH",
            "NJ",
            "NM",
            "NV",
            "NY",
            "OH",
            "OK",
            "OR",
            "PA",
            "RI",
            "SC",
            "SD",
            "TN",
            "TX",
            "UT",
            "VA",
            "VT",
            "WA",
            "WI",
            "WV",
            "WY"
           ],
           "name": "",
           "type": "choropleth",
           "z": [
            804920.2976190477,
            1881734.5897822967,
            725089.4278946085,
            1387678.6861165476,
            908097.0997461106,
            475483.13882078725,
            493789.4020304779,
            730936.3734841574,
            678885.117497552,
            437498.0057419138,
            1447410.249095607,
            689367.6586717013,
            838893.9550997782,
            1487195.3280525252,
            350950.5199521482,
            494301.6517145533,
            1168080.097545374,
            595425.3073207017,
            869944.8641921043,
            706541.7840225442,
            594782.1698717949,
            1100051.8290013727,
            597590.1543250281,
            370663.2362977931,
            612161.6235898252,
            936064.3139162562,
            2153082.8660959345,
            611845.892857143,
            609678.2196381886,
            467186.44935565785,
            795936.4897899898,
            871897.6110193321,
            738464.5860042735,
            598810.0244822082,
            669895.9159732898,
            1149555.0447977188,
            774500.136888223,
            849879.329157256,
            529499.6987719889,
            788943.9882120215,
            823503.7460317459,
            550281.9676396213,
            1253415.57601227,
            515471.5294610995,
            1802649.374112965,
            720825.3560466791,
            701552.8928382776,
            1253636.6305481852,
            612946.817831914,
            1060272.575
           ]
          }
         ],
         "name": "2019.0"
        },
        {
         "data": [
          {
           "coloraxis": "coloraxis",
           "geo": "geo",
           "hovertemplate": "YEAR=2020.0<br>CODE=%{location}<br>FUNDING=%{z}<extra></extra>",
           "locationmode": "USA-states",
           "locations": [
            "AK",
            "AL",
            "AR",
            "AZ",
            "CA",
            "CO",
            "CT",
            "DE",
            "FL",
            "GA",
            "HI",
            "IA",
            "ID",
            "IL",
            "IN",
            "KS",
            "KY",
            "LA",
            "MA",
            "MD",
            "ME",
            "MI",
            "MN",
            "MO",
            "MS",
            "MT",
            "NC",
            "ND",
            "NE",
            "NH",
            "NJ",
            "NM",
            "NV",
            "NY",
            "OH",
            "OK",
            "OR",
            "PA",
            "RI",
            "SC",
            "SD",
            "TN",
            "TX",
            "UT",
            "VA",
            "VT",
            "WA",
            "WI",
            "WV",
            "WY"
           ],
           "name": "",
           "type": "choropleth",
           "z": [
            676403.4249999999,
            1003700.9912614863,
            666023.2993019833,
            1369019.7855624994,
            1418869.0852363026,
            495421.22328962624,
            471658.3716494534,
            553193.028556763,
            1051672.5942688354,
            773279.9061395633,
            806289.6711385837,
            780587.3191467897,
            758837.2824074073,
            1773419.8384259164,
            480169.94265812787,
            486356.038339085,
            1231133.7072634115,
            429574.87979377573,
            1430272.258810725,
            1010456.0056262566,
            591497.1774594686,
            1262185.9792404706,
            690273.7458070293,
            355508.7253491828,
            663135.3084683542,
            856975.23793554,
            5177065.5772628095,
            614279.3897142857,
            506084.18816711195,
            430766.4016373538,
            691100.3383727641,
            585677.7624072754,
            934391.8759340659,
            887161.5213348364,
            540985.1362040607,
            569056.0260219023,
            662007.4305257493,
            846479.8174110636,
            622875.7159451076,
            814566.4765496291,
            567626.6015384615,
            571289.7730903652,
            1220107.0897570844,
            545858.009237726,
            1872113.1078630772,
            1325153.4069998318,
            1137030.7264985961,
            1416306.2300196602,
            591302.2222839795,
            670006.2041666667
           ]
          }
         ],
         "name": "2020.0"
        },
        {
         "data": [
          {
           "coloraxis": "coloraxis",
           "geo": "geo",
           "hovertemplate": "YEAR=2021.0<br>CODE=%{location}<br>FUNDING=%{z}<extra></extra>",
           "locationmode": "USA-states",
           "locations": [
            "AK",
            "AL",
            "AR",
            "AZ",
            "CA",
            "CO",
            "CT",
            "DE",
            "FL",
            "GA",
            "HI",
            "IA",
            "ID",
            "IL",
            "IN",
            "KS",
            "KY",
            "LA",
            "MA",
            "MD",
            "ME",
            "MI",
            "MN",
            "MO",
            "MS",
            "MT",
            "NC",
            "ND",
            "NE",
            "NH",
            "NJ",
            "NM",
            "NV",
            "NY",
            "OH",
            "OK",
            "OR",
            "PA",
            "RI",
            "SC",
            "SD",
            "TN",
            "TX",
            "UT",
            "VA",
            "VT",
            "WA",
            "WI",
            "WV",
            "WY"
           ],
           "name": "",
           "type": "choropleth",
           "z": [
            670182.7238095239,
            1044798.457002724,
            795885.9074346661,
            1019251.6887160202,
            1673048.1550741799,
            976907.968744507,
            431005.5455239555,
            1078319.105364545,
            680052.8999143812,
            496598.5647260856,
            911098.6471380471,
            645852.7672449581,
            582297.9349662162,
            1969591.2095979948,
            496237.5673902962,
            813898.8712887848,
            963520.3023345092,
            805109.5450605123,
            1442201.6149788413,
            1229995.348297624,
            833471.0167965367,
            1422761.2563710862,
            650321.0086934915,
            440980.90814502985,
            401931.1253298238,
            499176.1668676561,
            2129763.5403204453,
            967874.5629629629,
            518556.29195801704,
            436175.4061171085,
            848862.4589974104,
            571779.2176376281,
            782165.6818985987,
            1392722.8781721126,
            586949.5417147609,
            451517.09685906954,
            572918.3661026008,
            793379.5187562986,
            560542.0831713327,
            753321.8828195583,
            698390.3970588235,
            670179.0604064355,
            1867774.0392749326,
            616127.7858822155,
            1133970.1159980653,
            579208.1198376553,
            875061.6143250664,
            1548074.2915039998,
            462411.2433116642,
            590557.9494949495
           ]
          }
         ],
         "name": "2021.0"
        }
       ],
       "layout": {
        "coloraxis": {
         "cmax": 2000000,
         "cmin": 0,
         "colorbar": {
          "title": {
           "text": "FUNDING"
          }
         },
         "colorscale": [
          [
           0,
           "#0d0887"
          ],
          [
           0.1111111111111111,
           "#46039f"
          ],
          [
           0.2222222222222222,
           "#7201a8"
          ],
          [
           0.3333333333333333,
           "#9c179e"
          ],
          [
           0.4444444444444444,
           "#bd3786"
          ],
          [
           0.5555555555555556,
           "#d8576b"
          ],
          [
           0.6666666666666666,
           "#ed7953"
          ],
          [
           0.7777777777777778,
           "#fb9f3a"
          ],
          [
           0.8888888888888888,
           "#fdca26"
          ],
          [
           1,
           "#f0f921"
          ]
         ]
        },
        "geo": {
         "center": {},
         "domain": {
          "x": [
           0,
           1
          ],
          "y": [
           0,
           1
          ]
         },
         "scope": "usa"
        },
        "height": 500,
        "legend": {
         "tracegroupgap": 0
        },
        "margin": {
         "t": 60
        },
        "sliders": [
         {
          "active": 0,
          "currentvalue": {
           "prefix": "YEAR="
          },
          "len": 0.9,
          "pad": {
           "b": 10,
           "t": 60
          },
          "steps": [
           {
            "args": [
             [
              "2012.0"
             ],
             {
              "frame": {
               "duration": 0,
               "redraw": true
              },
              "fromcurrent": true,
              "mode": "immediate",
              "transition": {
               "duration": 0,
               "easing": "linear"
              }
             }
            ],
            "label": "2012.0",
            "method": "animate"
           },
           {
            "args": [
             [
              "2013.0"
             ],
             {
              "frame": {
               "duration": 0,
               "redraw": true
              },
              "fromcurrent": true,
              "mode": "immediate",
              "transition": {
               "duration": 0,
               "easing": "linear"
              }
             }
            ],
            "label": "2013.0",
            "method": "animate"
           },
           {
            "args": [
             [
              "2014.0"
             ],
             {
              "frame": {
               "duration": 0,
               "redraw": true
              },
              "fromcurrent": true,
              "mode": "immediate",
              "transition": {
               "duration": 0,
               "easing": "linear"
              }
             }
            ],
            "label": "2014.0",
            "method": "animate"
           },
           {
            "args": [
             [
              "2015.0"
             ],
             {
              "frame": {
               "duration": 0,
               "redraw": true
              },
              "fromcurrent": true,
              "mode": "immediate",
              "transition": {
               "duration": 0,
               "easing": "linear"
              }
             }
            ],
            "label": "2015.0",
            "method": "animate"
           },
           {
            "args": [
             [
              "2016.0"
             ],
             {
              "frame": {
               "duration": 0,
               "redraw": true
              },
              "fromcurrent": true,
              "mode": "immediate",
              "transition": {
               "duration": 0,
               "easing": "linear"
              }
             }
            ],
            "label": "2016.0",
            "method": "animate"
           },
           {
            "args": [
             [
              "2017.0"
             ],
             {
              "frame": {
               "duration": 0,
               "redraw": true
              },
              "fromcurrent": true,
              "mode": "immediate",
              "transition": {
               "duration": 0,
               "easing": "linear"
              }
             }
            ],
            "label": "2017.0",
            "method": "animate"
           },
           {
            "args": [
             [
              "2018.0"
             ],
             {
              "frame": {
               "duration": 0,
               "redraw": true
              },
              "fromcurrent": true,
              "mode": "immediate",
              "transition": {
               "duration": 0,
               "easing": "linear"
              }
             }
            ],
            "label": "2018.0",
            "method": "animate"
           },
           {
            "args": [
             [
              "2019.0"
             ],
             {
              "frame": {
               "duration": 0,
               "redraw": true
              },
              "fromcurrent": true,
              "mode": "immediate",
              "transition": {
               "duration": 0,
               "easing": "linear"
              }
             }
            ],
            "label": "2019.0",
            "method": "animate"
           },
           {
            "args": [
             [
              "2020.0"
             ],
             {
              "frame": {
               "duration": 0,
               "redraw": true
              },
              "fromcurrent": true,
              "mode": "immediate",
              "transition": {
               "duration": 0,
               "easing": "linear"
              }
             }
            ],
            "label": "2020.0",
            "method": "animate"
           },
           {
            "args": [
             [
              "2021.0"
             ],
             {
              "frame": {
               "duration": 0,
               "redraw": true
              },
              "fromcurrent": true,
              "mode": "immediate",
              "transition": {
               "duration": 0,
               "easing": "linear"
              }
             }
            ],
            "label": "2021.0",
            "method": "animate"
           }
          ],
          "x": 0.1,
          "xanchor": "left",
          "y": 0,
          "yanchor": "top"
         }
        ],
        "template": {
         "data": {
          "bar": [
           {
            "error_x": {
             "color": "#2a3f5f"
            },
            "error_y": {
             "color": "#2a3f5f"
            },
            "marker": {
             "line": {
              "color": "#E5ECF6",
              "width": 0.5
             },
             "pattern": {
              "fillmode": "overlay",
              "size": 10,
              "solidity": 0.2
             }
            },
            "type": "bar"
           }
          ],
          "barpolar": [
           {
            "marker": {
             "line": {
              "color": "#E5ECF6",
              "width": 0.5
             },
             "pattern": {
              "fillmode": "overlay",
              "size": 10,
              "solidity": 0.2
             }
            },
            "type": "barpolar"
           }
          ],
          "carpet": [
           {
            "aaxis": {
             "endlinecolor": "#2a3f5f",
             "gridcolor": "white",
             "linecolor": "white",
             "minorgridcolor": "white",
             "startlinecolor": "#2a3f5f"
            },
            "baxis": {
             "endlinecolor": "#2a3f5f",
             "gridcolor": "white",
             "linecolor": "white",
             "minorgridcolor": "white",
             "startlinecolor": "#2a3f5f"
            },
            "type": "carpet"
           }
          ],
          "choropleth": [
           {
            "colorbar": {
             "outlinewidth": 0,
             "ticks": ""
            },
            "type": "choropleth"
           }
          ],
          "contour": [
           {
            "colorbar": {
             "outlinewidth": 0,
             "ticks": ""
            },
            "colorscale": [
             [
              0,
              "#0d0887"
             ],
             [
              0.1111111111111111,
              "#46039f"
             ],
             [
              0.2222222222222222,
              "#7201a8"
             ],
             [
              0.3333333333333333,
              "#9c179e"
             ],
             [
              0.4444444444444444,
              "#bd3786"
             ],
             [
              0.5555555555555556,
              "#d8576b"
             ],
             [
              0.6666666666666666,
              "#ed7953"
             ],
             [
              0.7777777777777778,
              "#fb9f3a"
             ],
             [
              0.8888888888888888,
              "#fdca26"
             ],
             [
              1,
              "#f0f921"
             ]
            ],
            "type": "contour"
           }
          ],
          "contourcarpet": [
           {
            "colorbar": {
             "outlinewidth": 0,
             "ticks": ""
            },
            "type": "contourcarpet"
           }
          ],
          "heatmap": [
           {
            "colorbar": {
             "outlinewidth": 0,
             "ticks": ""
            },
            "colorscale": [
             [
              0,
              "#0d0887"
             ],
             [
              0.1111111111111111,
              "#46039f"
             ],
             [
              0.2222222222222222,
              "#7201a8"
             ],
             [
              0.3333333333333333,
              "#9c179e"
             ],
             [
              0.4444444444444444,
              "#bd3786"
             ],
             [
              0.5555555555555556,
              "#d8576b"
             ],
             [
              0.6666666666666666,
              "#ed7953"
             ],
             [
              0.7777777777777778,
              "#fb9f3a"
             ],
             [
              0.8888888888888888,
              "#fdca26"
             ],
             [
              1,
              "#f0f921"
             ]
            ],
            "type": "heatmap"
           }
          ],
          "heatmapgl": [
           {
            "colorbar": {
             "outlinewidth": 0,
             "ticks": ""
            },
            "colorscale": [
             [
              0,
              "#0d0887"
             ],
             [
              0.1111111111111111,
              "#46039f"
             ],
             [
              0.2222222222222222,
              "#7201a8"
             ],
             [
              0.3333333333333333,
              "#9c179e"
             ],
             [
              0.4444444444444444,
              "#bd3786"
             ],
             [
              0.5555555555555556,
              "#d8576b"
             ],
             [
              0.6666666666666666,
              "#ed7953"
             ],
             [
              0.7777777777777778,
              "#fb9f3a"
             ],
             [
              0.8888888888888888,
              "#fdca26"
             ],
             [
              1,
              "#f0f921"
             ]
            ],
            "type": "heatmapgl"
           }
          ],
          "histogram": [
           {
            "marker": {
             "pattern": {
              "fillmode": "overlay",
              "size": 10,
              "solidity": 0.2
             }
            },
            "type": "histogram"
           }
          ],
          "histogram2d": [
           {
            "colorbar": {
             "outlinewidth": 0,
             "ticks": ""
            },
            "colorscale": [
             [
              0,
              "#0d0887"
             ],
             [
              0.1111111111111111,
              "#46039f"
             ],
             [
              0.2222222222222222,
              "#7201a8"
             ],
             [
              0.3333333333333333,
              "#9c179e"
             ],
             [
              0.4444444444444444,
              "#bd3786"
             ],
             [
              0.5555555555555556,
              "#d8576b"
             ],
             [
              0.6666666666666666,
              "#ed7953"
             ],
             [
              0.7777777777777778,
              "#fb9f3a"
             ],
             [
              0.8888888888888888,
              "#fdca26"
             ],
             [
              1,
              "#f0f921"
             ]
            ],
            "type": "histogram2d"
           }
          ],
          "histogram2dcontour": [
           {
            "colorbar": {
             "outlinewidth": 0,
             "ticks": ""
            },
            "colorscale": [
             [
              0,
              "#0d0887"
             ],
             [
              0.1111111111111111,
              "#46039f"
             ],
             [
              0.2222222222222222,
              "#7201a8"
             ],
             [
              0.3333333333333333,
              "#9c179e"
             ],
             [
              0.4444444444444444,
              "#bd3786"
             ],
             [
              0.5555555555555556,
              "#d8576b"
             ],
             [
              0.6666666666666666,
              "#ed7953"
             ],
             [
              0.7777777777777778,
              "#fb9f3a"
             ],
             [
              0.8888888888888888,
              "#fdca26"
             ],
             [
              1,
              "#f0f921"
             ]
            ],
            "type": "histogram2dcontour"
           }
          ],
          "mesh3d": [
           {
            "colorbar": {
             "outlinewidth": 0,
             "ticks": ""
            },
            "type": "mesh3d"
           }
          ],
          "parcoords": [
           {
            "line": {
             "colorbar": {
              "outlinewidth": 0,
              "ticks": ""
             }
            },
            "type": "parcoords"
           }
          ],
          "pie": [
           {
            "automargin": true,
            "type": "pie"
           }
          ],
          "scatter": [
           {
            "fillpattern": {
             "fillmode": "overlay",
             "size": 10,
             "solidity": 0.2
            },
            "type": "scatter"
           }
          ],
          "scatter3d": [
           {
            "line": {
             "colorbar": {
              "outlinewidth": 0,
              "ticks": ""
             }
            },
            "marker": {
             "colorbar": {
              "outlinewidth": 0,
              "ticks": ""
             }
            },
            "type": "scatter3d"
           }
          ],
          "scattercarpet": [
           {
            "marker": {
             "colorbar": {
              "outlinewidth": 0,
              "ticks": ""
             }
            },
            "type": "scattercarpet"
           }
          ],
          "scattergeo": [
           {
            "marker": {
             "colorbar": {
              "outlinewidth": 0,
              "ticks": ""
             }
            },
            "type": "scattergeo"
           }
          ],
          "scattergl": [
           {
            "marker": {
             "colorbar": {
              "outlinewidth": 0,
              "ticks": ""
             }
            },
            "type": "scattergl"
           }
          ],
          "scattermapbox": [
           {
            "marker": {
             "colorbar": {
              "outlinewidth": 0,
              "ticks": ""
             }
            },
            "type": "scattermapbox"
           }
          ],
          "scatterpolar": [
           {
            "marker": {
             "colorbar": {
              "outlinewidth": 0,
              "ticks": ""
             }
            },
            "type": "scatterpolar"
           }
          ],
          "scatterpolargl": [
           {
            "marker": {
             "colorbar": {
              "outlinewidth": 0,
              "ticks": ""
             }
            },
            "type": "scatterpolargl"
           }
          ],
          "scatterternary": [
           {
            "marker": {
             "colorbar": {
              "outlinewidth": 0,
              "ticks": ""
             }
            },
            "type": "scatterternary"
           }
          ],
          "surface": [
           {
            "colorbar": {
             "outlinewidth": 0,
             "ticks": ""
            },
            "colorscale": [
             [
              0,
              "#0d0887"
             ],
             [
              0.1111111111111111,
              "#46039f"
             ],
             [
              0.2222222222222222,
              "#7201a8"
             ],
             [
              0.3333333333333333,
              "#9c179e"
             ],
             [
              0.4444444444444444,
              "#bd3786"
             ],
             [
              0.5555555555555556,
              "#d8576b"
             ],
             [
              0.6666666666666666,
              "#ed7953"
             ],
             [
              0.7777777777777778,
              "#fb9f3a"
             ],
             [
              0.8888888888888888,
              "#fdca26"
             ],
             [
              1,
              "#f0f921"
             ]
            ],
            "type": "surface"
           }
          ],
          "table": [
           {
            "cells": {
             "fill": {
              "color": "#EBF0F8"
             },
             "line": {
              "color": "white"
             }
            },
            "header": {
             "fill": {
              "color": "#C8D4E3"
             },
             "line": {
              "color": "white"
             }
            },
            "type": "table"
           }
          ]
         },
         "layout": {
          "annotationdefaults": {
           "arrowcolor": "#2a3f5f",
           "arrowhead": 0,
           "arrowwidth": 1
          },
          "autotypenumbers": "strict",
          "coloraxis": {
           "colorbar": {
            "outlinewidth": 0,
            "ticks": ""
           }
          },
          "colorscale": {
           "diverging": [
            [
             0,
             "#8e0152"
            ],
            [
             0.1,
             "#c51b7d"
            ],
            [
             0.2,
             "#de77ae"
            ],
            [
             0.3,
             "#f1b6da"
            ],
            [
             0.4,
             "#fde0ef"
            ],
            [
             0.5,
             "#f7f7f7"
            ],
            [
             0.6,
             "#e6f5d0"
            ],
            [
             0.7,
             "#b8e186"
            ],
            [
             0.8,
             "#7fbc41"
            ],
            [
             0.9,
             "#4d9221"
            ],
            [
             1,
             "#276419"
            ]
           ],
           "sequential": [
            [
             0,
             "#0d0887"
            ],
            [
             0.1111111111111111,
             "#46039f"
            ],
            [
             0.2222222222222222,
             "#7201a8"
            ],
            [
             0.3333333333333333,
             "#9c179e"
            ],
            [
             0.4444444444444444,
             "#bd3786"
            ],
            [
             0.5555555555555556,
             "#d8576b"
            ],
            [
             0.6666666666666666,
             "#ed7953"
            ],
            [
             0.7777777777777778,
             "#fb9f3a"
            ],
            [
             0.8888888888888888,
             "#fdca26"
            ],
            [
             1,
             "#f0f921"
            ]
           ],
           "sequentialminus": [
            [
             0,
             "#0d0887"
            ],
            [
             0.1111111111111111,
             "#46039f"
            ],
            [
             0.2222222222222222,
             "#7201a8"
            ],
            [
             0.3333333333333333,
             "#9c179e"
            ],
            [
             0.4444444444444444,
             "#bd3786"
            ],
            [
             0.5555555555555556,
             "#d8576b"
            ],
            [
             0.6666666666666666,
             "#ed7953"
            ],
            [
             0.7777777777777778,
             "#fb9f3a"
            ],
            [
             0.8888888888888888,
             "#fdca26"
            ],
            [
             1,
             "#f0f921"
            ]
           ]
          },
          "colorway": [
           "#636efa",
           "#EF553B",
           "#00cc96",
           "#ab63fa",
           "#FFA15A",
           "#19d3f3",
           "#FF6692",
           "#B6E880",
           "#FF97FF",
           "#FECB52"
          ],
          "font": {
           "color": "#2a3f5f"
          },
          "geo": {
           "bgcolor": "white",
           "lakecolor": "white",
           "landcolor": "#E5ECF6",
           "showlakes": true,
           "showland": true,
           "subunitcolor": "white"
          },
          "hoverlabel": {
           "align": "left"
          },
          "hovermode": "closest",
          "mapbox": {
           "style": "light"
          },
          "paper_bgcolor": "white",
          "plot_bgcolor": "#E5ECF6",
          "polar": {
           "angularaxis": {
            "gridcolor": "white",
            "linecolor": "white",
            "ticks": ""
           },
           "bgcolor": "#E5ECF6",
           "radialaxis": {
            "gridcolor": "white",
            "linecolor": "white",
            "ticks": ""
           }
          },
          "scene": {
           "xaxis": {
            "backgroundcolor": "#E5ECF6",
            "gridcolor": "white",
            "gridwidth": 2,
            "linecolor": "white",
            "showbackground": true,
            "ticks": "",
            "zerolinecolor": "white"
           },
           "yaxis": {
            "backgroundcolor": "#E5ECF6",
            "gridcolor": "white",
            "gridwidth": 2,
            "linecolor": "white",
            "showbackground": true,
            "ticks": "",
            "zerolinecolor": "white"
           },
           "zaxis": {
            "backgroundcolor": "#E5ECF6",
            "gridcolor": "white",
            "gridwidth": 2,
            "linecolor": "white",
            "showbackground": true,
            "ticks": "",
            "zerolinecolor": "white"
           }
          },
          "shapedefaults": {
           "line": {
            "color": "#2a3f5f"
           }
          },
          "ternary": {
           "aaxis": {
            "gridcolor": "white",
            "linecolor": "white",
            "ticks": ""
           },
           "baxis": {
            "gridcolor": "white",
            "linecolor": "white",
            "ticks": ""
           },
           "bgcolor": "#E5ECF6",
           "caxis": {
            "gridcolor": "white",
            "linecolor": "white",
            "ticks": ""
           }
          },
          "title": {
           "x": 0.05
          },
          "xaxis": {
           "automargin": true,
           "gridcolor": "white",
           "linecolor": "white",
           "ticks": "",
           "title": {
            "standoff": 15
           },
           "zerolinecolor": "white",
           "zerolinewidth": 2
          },
          "yaxis": {
           "automargin": true,
           "gridcolor": "white",
           "linecolor": "white",
           "ticks": "",
           "title": {
            "standoff": 15
           },
           "zerolinecolor": "white",
           "zerolinewidth": 2
          }
         }
        },
        "updatemenus": [
         {
          "buttons": [
           {
            "args": [
             null,
             {
              "frame": {
               "duration": 500,
               "redraw": true
              },
              "fromcurrent": true,
              "mode": "immediate",
              "transition": {
               "duration": 500,
               "easing": "linear"
              }
             }
            ],
            "label": "&#9654;",
            "method": "animate"
           },
           {
            "args": [
             [
              null
             ],
             {
              "frame": {
               "duration": 0,
               "redraw": true
              },
              "fromcurrent": true,
              "mode": "immediate",
              "transition": {
               "duration": 0,
               "easing": "linear"
              }
             }
            ],
            "label": "&#9724;",
            "method": "animate"
           }
          ],
          "direction": "left",
          "pad": {
           "r": 10,
           "t": 70
          },
          "showactive": false,
          "type": "buttons",
          "x": 0.1,
          "xanchor": "right",
          "y": 0,
          "yanchor": "top"
         }
        ],
        "width": 800
       }
      }
     },
     "metadata": {},
     "output_type": "display_data"
    }
   ],
   "source": [
    "by_year = fund_proj_avg.groupby(\n",
    "    ['CODE','YEAR']\n",
    "    )['FUNDING'].agg('mean').reset_index(0).reset_index(0)\n",
    "fig = px.choropleth(by_year,locations=\"CODE\", animation_frame = 'YEAR',locationmode=\"USA-states\", color=\"FUNDING\", scope=\"usa\",range_color=(0, 2*10e5),width=800,height=500)\n",
    "fig.show()\n",
    "\n"
   ]
  },
  {
   "attachments": {},
   "cell_type": "markdown",
   "metadata": {},
   "source": [
    "## Research Trend / Demand "
   ]
  },
  {
   "attachments": {},
   "cell_type": "markdown",
   "metadata": {},
   "source": [
    "In this part, we would be examining a funding history of different categories generated by RCDC —— computerized process the NIH uses to categorize and report the amount it funded in each of the more than 280 reported categories of disease, condition, or research area. \n",
    "\n",
    "The table contains estaimted fundings for 2022,2023, historical fundings from 2008 to 2021, and the disease prevalence/death counts totaled in 2019. In 2008, 2009, extra funding and grants were allocated to NIH projects as a result of the American Recovery and Reinvestment Act, a.k.a. Obama Stimulus. We have combined them with the 2008 and 2009 funding columns. \n",
    "\n"
   ]
  },
  {
   "cell_type": "code",
   "execution_count": 28,
   "metadata": {},
   "outputs": [],
   "source": [
    "rcdc = pd.read_excel(\"RCDCFundingSummary_03072023.xlsx\",)\n",
    "rcdc.columns = rcdc.loc[1,:]\n",
    "rcdc = rcdc.loc[2:310,:]\n"
   ]
  },
  {
   "attachments": {},
   "cell_type": "markdown",
   "metadata": {},
   "source": [
    "The following function is written to clean the RCDC summary data. "
   ]
  },
  {
   "cell_type": "code",
   "execution_count": 35,
   "metadata": {},
   "outputs": [],
   "source": [
    "def RCDC_clean(rcdc):\n",
    "    \n",
    "    selected = rcdc.copy()\n",
    "    #- indicates no death from this category\n",
    "    selected['2019 US Mortality 19'] \\\n",
    "        = selected['2019 US Mortality 19'].apply(lambda x:str(x).replace('-','0'))\n",
    "    #+ indicates the category did not exist in that specific year. \n",
    "    # encode to a numeric indicator\n",
    "    selected = selected.applymap(lambda x:str(x).replace('+','-1'))\n",
    "    #get rid of the dollar signs so as to convert to numeric\n",
    "    selected = selected.applymap(lambda x:str(x).replace('$',''))\n",
    "\n",
    "    #combining ARRA\n",
    "    selected[2009]=selected[2009].astype(float) + selected['2009 ARRA'].astype(float)\n",
    "    selected[2010]=selected[2010].astype(float) + selected['2010 ARRA'].astype(float)\n",
    "    selected.drop(['2009 ARRA','2010 ARRA'],axis=1,inplace=True)\n",
    "\n",
    "    #number of years the category has existed\n",
    "    selected['exist'] = selected.apply((lambda row: sum([1 if (row[x] != '-1') else 0 for x in list(selected.columns)[1:-3]])),axis = 1)\n",
    "    #average fundings over the year\n",
    "    selected['avg'] = selected.apply((lambda row: np.mean([int(row[x]) if (row[x] != '-1') else 0 for x in list(selected.columns)[1:-3]])),axis = 1)\n",
    "    #estimated increase from 2022 to 2023\n",
    "    selected['estimate'] = selected['2023 Estimated'].astype(float) - selected['2022 Estimated'].astype(float) \n",
    "    #type conversion\n",
    "    selected['2019 US Mortality 19'] = selected['2019 US Mortality 19'].astype('float')\n",
    "    #percentage of increase\n",
    "    selected[\"pct2023\"] = selected.loc[:,['2022 Estimated','2023 Estimated']].astype(float).pct_change(axis=1)['2023 Estimated'].multiply(100)\n",
    "    #sorting\n",
    "    selected =selected.sort_values('2019 US Mortality 19')\n",
    "    print(selected.head(n=1))\n",
    "    #We divide the categories into lethal conditions, and non lethal\n",
    "    fatal = selected[selected['2019 US Mortality 19'] > 0]\n",
    "    nonfatal = selected[selected['2019 US Mortality 19'] == 0]\n",
    "    return fatal, nonfatal\n",
    "\n",
    "\n"
   ]
  },
  {
   "cell_type": "code",
   "execution_count": 36,
   "metadata": {},
   "outputs": [
    {
     "name": "stdout",
     "output_type": "stream",
     "text": [
      "1 Research/Disease Areas \\n (Dollars in millions and rounded) 2008  2009  \\\n",
      "2                     Acquired Cognitive Impairment             -1  -2.0   \n",
      "\n",
      "1  2010 2011 2012 2013 2014 2015  2016  ...  2020  2021 2022 Estimated  \\\n",
      "2  -2.0   -1   -1   -1   -1  798  1132  ...  2897  3259           3555   \n",
      "\n",
      "1 2023 Estimated 2019 US Mortality 19 2019 US Prevalence SE 19 exist     avg  \\\n",
      "2           3354                  0.0                        -    10  1309.5   \n",
      "\n",
      "1 estimate   pct2023  \n",
      "2   -201.0 -5.654008  \n",
      "\n",
      "[1 rows x 23 columns]\n"
     ]
    }
   ],
   "source": [
    "fatal, nonfatal = RCDC_clean(rcdc)"
   ]
  },
  {
   "cell_type": "code",
   "execution_count": 57,
   "metadata": {},
   "outputs": [
    {
     "data": {
      "image/png": "[encoded data removed]",
      "text/plain": [
       "<Figure size 432x288 with 1 Axes>"
      ]
     },
     "metadata": {},
     "output_type": "display_data"
    }
   ],
   "source": [
    "plt.pie([len(fatal),len(nonfatal)],labels=['fatal','non-fatal'],autopct='%1.1f%%')\n",
    "plt.title('funding categories')\n",
    "plt.show()\n"
   ]
  },
  {
   "attachments": {},
   "cell_type": "markdown",
   "metadata": {},
   "source": [
    "Our first attempt in investigating the data is to figure out whether there is any association among fatality/prevalence, category existed time, average fundings in the past, and the estimated increase in funding. Since quite a lot of variables are involved, without doing any regression analysis, an (perhaps) intuitive way to show the association is through the parallele category plots. "
   ]
  },
  {
   "cell_type": "markdown",
   "metadata": {},
   "source": [
    "But before that, we should divide the funding and mortality counts into different bins based on their distributions. "
   ]
  },
  {
   "cell_type": "code",
   "execution_count": 59,
   "metadata": {},
   "outputs": [
    {
     "data": {
      "application/vnd.plotly.v1+json": {
       "config": {
        "plotlyServerURL": "https://plot.ly"
       },
       "data": [
        {
         "alignmentgroup": "True",
         "bingroup": "x",
         "hovertemplate": "variable=2019 US Mortality 19<br>value=%{x}<br>count=%{y}<extra></extra>",
         "legendgroup": "2019 US Mortality 19",
         "marker": {
          "color": "#636efa",
          "pattern": {
           "shape": ""
          }
         },
         "name": "2019 US Mortality 19",
         "nbinsx": 500,
         "offsetgroup": "2019 US Mortality 19",
         "orientation": "v",
         "showlegend": true,
         "type": "histogram",
         "x": [
          1,
          2,
          8,
          9,
          14,
          16,
          19,
          20,
          38,
          39,
          40,
          59,
          73,
          85,
          85,
          85,
          90,
          91,
          96,
          98,
          100,
          117,
          124,
          131,
          217,
          225,
          241,
          360,
          362,
          366,
          408,
          451,
          572,
          592,
          658,
          718,
          791,
          801,
          975,
          982,
          1181,
          1208,
          1277,
          1367,
          1410,
          1446,
          1672,
          1820,
          1993,
          2000,
          2182,
          2249,
          2300,
          2477,
          3554,
          3646,
          3822,
          4624,
          4687,
          4854,
          6497,
          6626,
          7114,
          7150,
          7252,
          7611,
          7711,
          9211,
          10313,
          10482,
          10753,
          12030,
          13036,
          13712,
          14242,
          14620,
          17786,
          17862,
          18054,
          27075,
          28625,
          30898,
          44395,
          47466,
          47612,
          48250,
          52359,
          52938,
          61368,
          68126,
          76761,
          87566,
          140661,
          146659,
          148272,
          150790,
          154284,
          201142,
          214334,
          256352,
          283378,
          312688,
          516955,
          542903,
          690509,
          1574518,
          1592187
         ],
         "xaxis": "x",
         "yaxis": "y"
        }
       ],
       "layout": {
        "barmode": "relative",
        "legend": {
         "title": {
          "text": "variable"
         },
         "tracegroupgap": 0
        },
        "margin": {
         "t": 60
        },
        "template": {
         "data": {
          "bar": [
           {
            "error_x": {
             "color": "#2a3f5f"
            },
            "error_y": {
             "color": "#2a3f5f"
            },
            "marker": {
             "line": {
              "color": "#E5ECF6",
              "width": 0.5
             },
             "pattern": {
              "fillmode": "overlay",
              "size": 10,
              "solidity": 0.2
             }
            },
            "type": "bar"
           }
          ],
          "barpolar": [
           {
            "marker": {
             "line": {
              "color": "#E5ECF6",
              "width": 0.5
             },
             "pattern": {
              "fillmode": "overlay",
              "size": 10,
              "solidity": 0.2
             }
            },
            "type": "barpolar"
           }
          ],
          "carpet": [
           {
            "aaxis": {
             "endlinecolor": "#2a3f5f",
             "gridcolor": "white",
             "linecolor": "white",
             "minorgridcolor": "white",
             "startlinecolor": "#2a3f5f"
            },
            "baxis": {
             "endlinecolor": "#2a3f5f",
             "gridcolor": "white",
             "linecolor": "white",
             "minorgridcolor": "white",
             "startlinecolor": "#2a3f5f"
            },
            "type": "carpet"
           }
          ],
          "choropleth": [
           {
            "colorbar": {
             "outlinewidth": 0,
             "ticks": ""
            },
            "type": "choropleth"
           }
          ],
          "contour": [
           {
            "colorbar": {
             "outlinewidth": 0,
             "ticks": ""
            },
            "colorscale": [
             [
              0,
              "#0d0887"
             ],
             [
              0.1111111111111111,
              "#46039f"
             ],
             [
              0.2222222222222222,
              "#7201a8"
             ],
             [
              0.3333333333333333,
              "#9c179e"
             ],
             [
              0.4444444444444444,
              "#bd3786"
             ],
             [
              0.5555555555555556,
              "#d8576b"
             ],
             [
              0.6666666666666666,
              "#ed7953"
             ],
             [
              0.7777777777777778,
              "#fb9f3a"
             ],
             [
              0.8888888888888888,
              "#fdca26"
             ],
             [
              1,
              "#f0f921"
             ]
            ],
            "type": "contour"
           }
          ],
          "contourcarpet": [
           {
            "colorbar": {
             "outlinewidth": 0,
             "ticks": ""
            },
            "type": "contourcarpet"
           }
          ],
          "heatmap": [
           {
            "colorbar": {
             "outlinewidth": 0,
             "ticks": ""
            },
            "colorscale": [
             [
              0,
              "#0d0887"
             ],
             [
              0.1111111111111111,
              "#46039f"
             ],
             [
              0.2222222222222222,
              "#7201a8"
             ],
             [
              0.3333333333333333,
              "#9c179e"
             ],
             [
              0.4444444444444444,
              "#bd3786"
             ],
             [
              0.5555555555555556,
              "#d8576b"
             ],
             [
              0.6666666666666666,
              "#ed7953"
             ],
             [
              0.7777777777777778,
              "#fb9f3a"
             ],
             [
              0.8888888888888888,
              "#fdca26"
             ],
             [
              1,
              "#f0f921"
             ]
            ],
            "type": "heatmap"
           }
          ],
          "heatmapgl": [
           {
            "colorbar": {
             "outlinewidth": 0,
             "ticks": ""
            },
            "colorscale": [
             [
              0,
              "#0d0887"
             ],
             [
              0.1111111111111111,
              "#46039f"
             ],
             [
              0.2222222222222222,
              "#7201a8"
             ],
             [
              0.3333333333333333,
              "#9c179e"
             ],
             [
              0.4444444444444444,
              "#bd3786"
             ],
             [
              0.5555555555555556,
              "#d8576b"
             ],
             [
              0.6666666666666666,
              "#ed7953"
             ],
             [
              0.7777777777777778,
              "#fb9f3a"
             ],
             [
              0.8888888888888888,
              "#fdca26"
             ],
             [
              1,
              "#f0f921"
             ]
            ],
            "type": "heatmapgl"
           }
          ],
          "histogram": [
           {
            "marker": {
             "pattern": {
              "fillmode": "overlay",
              "size": 10,
              "solidity": 0.2
             }
            },
            "type": "histogram"
           }
          ],
          "histogram2d": [
           {
            "colorbar": {
             "outlinewidth": 0,
             "ticks": ""
            },
            "colorscale": [
             [
              0,
              "#0d0887"
             ],
             [
              0.1111111111111111,
              "#46039f"
             ],
             [
              0.2222222222222222,
              "#7201a8"
             ],
             [
              0.3333333333333333,
              "#9c179e"
             ],
             [
              0.4444444444444444,
              "#bd3786"
             ],
             [
              0.5555555555555556,
              "#d8576b"
             ],
             [
              0.6666666666666666,
              "#ed7953"
             ],
             [
              0.7777777777777778,
              "#fb9f3a"
             ],
             [
              0.8888888888888888,
              "#fdca26"
             ],
             [
              1,
              "#f0f921"
             ]
            ],
            "type": "histogram2d"
           }
          ],
          "histogram2dcontour": [
           {
            "colorbar": {
             "outlinewidth": 0,
             "ticks": ""
            },
            "colorscale": [
             [
              0,
              "#0d0887"
             ],
             [
              0.1111111111111111,
              "#46039f"
             ],
             [
              0.2222222222222222,
              "#7201a8"
             ],
             [
              0.3333333333333333,
              "#9c179e"
             ],
             [
              0.4444444444444444,
              "#bd3786"
             ],
             [
              0.5555555555555556,
              "#d8576b"
             ],
             [
              0.6666666666666666,
              "#ed7953"
             ],
             [
              0.7777777777777778,
              "#fb9f3a"
             ],
             [
              0.8888888888888888,
              "#fdca26"
             ],
             [
              1,
              "#f0f921"
             ]
            ],
            "type": "histogram2dcontour"
           }
          ],
          "mesh3d": [
           {
            "colorbar": {
             "outlinewidth": 0,
             "ticks": ""
            },
            "type": "mesh3d"
           }
          ],
          "parcoords": [
           {
            "line": {
             "colorbar": {
              "outlinewidth": 0,
              "ticks": ""
             }
            },
            "type": "parcoords"
           }
          ],
          "pie": [
           {
            "automargin": true,
            "type": "pie"
           }
          ],
          "scatter": [
           {
            "fillpattern": {
             "fillmode": "overlay",
             "size": 10,
             "solidity": 0.2
            },
            "type": "scatter"
           }
          ],
          "scatter3d": [
           {
            "line": {
             "colorbar": {
              "outlinewidth": 0,
              "ticks": ""
             }
            },
            "marker": {
             "colorbar": {
              "outlinewidth": 0,
              "ticks": ""
             }
            },
            "type": "scatter3d"
           }
          ],
          "scattercarpet": [
           {
            "marker": {
             "colorbar": {
              "outlinewidth": 0,
              "ticks": ""
             }
            },
            "type": "scattercarpet"
           }
          ],
          "scattergeo": [
           {
            "marker": {
             "colorbar": {
              "outlinewidth": 0,
              "ticks": ""
             }
            },
            "type": "scattergeo"
           }
          ],
          "scattergl": [
           {
            "marker": {
             "colorbar": {
              "outlinewidth": 0,
              "ticks": ""
             }
            },
            "type": "scattergl"
           }
          ],
          "scattermapbox": [
           {
            "marker": {
             "colorbar": {
              "outlinewidth": 0,
              "ticks": ""
             }
            },
            "type": "scattermapbox"
           }
          ],
          "scatterpolar": [
           {
            "marker": {
             "colorbar": {
              "outlinewidth": 0,
              "ticks": ""
             }
            },
            "type": "scatterpolar"
           }
          ],
          "scatterpolargl": [
           {
            "marker": {
             "colorbar": {
              "outlinewidth": 0,
              "ticks": ""
             }
            },
            "type": "scatterpolargl"
           }
          ],
          "scatterternary": [
           {
            "marker": {
             "colorbar": {
              "outlinewidth": 0,
              "ticks": ""
             }
            },
            "type": "scatterternary"
           }
          ],
          "surface": [
           {
            "colorbar": {
             "outlinewidth": 0,
             "ticks": ""
            },
            "colorscale": [
             [
              0,
              "#0d0887"
             ],
             [
              0.1111111111111111,
              "#46039f"
             ],
             [
              0.2222222222222222,
              "#7201a8"
             ],
             [
              0.3333333333333333,
              "#9c179e"
             ],
             [
              0.4444444444444444,
              "#bd3786"
             ],
             [
              0.5555555555555556,
              "#d8576b"
             ],
             [
              0.6666666666666666,
              "#ed7953"
             ],
             [
              0.7777777777777778,
              "#fb9f3a"
             ],
             [
              0.8888888888888888,
              "#fdca26"
             ],
             [
              1,
              "#f0f921"
             ]
            ],
            "type": "surface"
           }
          ],
          "table": [
           {
            "cells": {
             "fill": {
              "color": "#EBF0F8"
             },
             "line": {
              "color": "white"
             }
            },
            "header": {
             "fill": {
              "color": "#C8D4E3"
             },
             "line": {
              "color": "white"
             }
            },
            "type": "table"
           }
          ]
         },
         "layout": {
          "annotationdefaults": {
           "arrowcolor": "#2a3f5f",
           "arrowhead": 0,
           "arrowwidth": 1
          },
          "autotypenumbers": "strict",
          "coloraxis": {
           "colorbar": {
            "outlinewidth": 0,
            "ticks": ""
           }
          },
          "colorscale": {
           "diverging": [
            [
             0,
             "#8e0152"
            ],
            [
             0.1,
             "#c51b7d"
            ],
            [
             0.2,
             "#de77ae"
            ],
            [
             0.3,
             "#f1b6da"
            ],
            [
             0.4,
             "#fde0ef"
            ],
            [
             0.5,
             "#f7f7f7"
            ],
            [
             0.6,
             "#e6f5d0"
            ],
            [
             0.7,
             "#b8e186"
            ],
            [
             0.8,
             "#7fbc41"
            ],
            [
             0.9,
             "#4d9221"
            ],
            [
             1,
             "#276419"
            ]
           ],
           "sequential": [
            [
             0,
             "#0d0887"
            ],
            [
             0.1111111111111111,
             "#46039f"
            ],
            [
             0.2222222222222222,
             "#7201a8"
            ],
            [
             0.3333333333333333,
             "#9c179e"
            ],
            [
             0.4444444444444444,
             "#bd3786"
            ],
            [
             0.5555555555555556,
             "#d8576b"
            ],
            [
             0.6666666666666666,
             "#ed7953"
            ],
            [
             0.7777777777777778,
             "#fb9f3a"
            ],
            [
             0.8888888888888888,
             "#fdca26"
            ],
            [
             1,
             "#f0f921"
            ]
           ],
           "sequentialminus": [
            [
             0,
             "#0d0887"
            ],
            [
             0.1111111111111111,
             "#46039f"
            ],
            [
             0.2222222222222222,
             "#7201a8"
            ],
            [
             0.3333333333333333,
             "#9c179e"
            ],
            [
             0.4444444444444444,
             "#bd3786"
            ],
            [
             0.5555555555555556,
             "#d8576b"
            ],
            [
             0.6666666666666666,
             "#ed7953"
            ],
            [
             0.7777777777777778,
             "#fb9f3a"
            ],
            [
             0.8888888888888888,
             "#fdca26"
            ],
            [
             1,
             "#f0f921"
            ]
           ]
          },
          "colorway": [
           "#636efa",
           "#EF553B",
           "#00cc96",
           "#ab63fa",
           "#FFA15A",
           "#19d3f3",
           "#FF6692",
           "#B6E880",
           "#FF97FF",
           "#FECB52"
          ],
          "font": {
           "color": "#2a3f5f"
          },
          "geo": {
           "bgcolor": "white",
           "lakecolor": "white",
           "landcolor": "#E5ECF6",
           "showlakes": true,
           "showland": true,
           "subunitcolor": "white"
          },
          "hoverlabel": {
           "align": "left"
          },
          "hovermode": "closest",
          "mapbox": {
           "style": "light"
          },
          "paper_bgcolor": "white",
          "plot_bgcolor": "#E5ECF6",
          "polar": {
           "angularaxis": {
            "gridcolor": "white",
            "linecolor": "white",
            "ticks": ""
           },
           "bgcolor": "#E5ECF6",
           "radialaxis": {
            "gridcolor": "white",
            "linecolor": "white",
            "ticks": ""
           }
          },
          "scene": {
           "xaxis": {
            "backgroundcolor": "#E5ECF6",
            "gridcolor": "white",
            "gridwidth": 2,
            "linecolor": "white",
            "showbackground": true,
            "ticks": "",
            "zerolinecolor": "white"
           },
           "yaxis": {
            "backgroundcolor": "#E5ECF6",
            "gridcolor": "white",
            "gridwidth": 2,
            "linecolor": "white",
            "showbackground": true,
            "ticks": "",
            "zerolinecolor": "white"
           },
           "zaxis": {
            "backgroundcolor": "#E5ECF6",
            "gridcolor": "white",
            "gridwidth": 2,
            "linecolor": "white",
            "showbackground": true,
            "ticks": "",
            "zerolinecolor": "white"
           }
          },
          "shapedefaults": {
           "line": {
            "color": "#2a3f5f"
           }
          },
          "ternary": {
           "aaxis": {
            "gridcolor": "white",
            "linecolor": "white",
            "ticks": ""
           },
           "baxis": {
            "gridcolor": "white",
            "linecolor": "white",
            "ticks": ""
           },
           "bgcolor": "#E5ECF6",
           "caxis": {
            "gridcolor": "white",
            "linecolor": "white",
            "ticks": ""
           }
          },
          "title": {
           "x": 0.05
          },
          "xaxis": {
           "automargin": true,
           "gridcolor": "white",
           "linecolor": "white",
           "ticks": "",
           "title": {
            "standoff": 15
           },
           "zerolinecolor": "white",
           "zerolinewidth": 2
          },
          "yaxis": {
           "automargin": true,
           "gridcolor": "white",
           "linecolor": "white",
           "ticks": "",
           "title": {
            "standoff": 15
           },
           "zerolinecolor": "white",
           "zerolinewidth": 2
          }
         }
        },
        "xaxis": {
         "anchor": "y",
         "domain": [
          0,
          1
         ],
         "title": {
          "text": "value"
         }
        },
        "yaxis": {
         "anchor": "x",
         "domain": [
          0,
          1
         ],
         "title": {
          "text": "count"
         }
        }
       }
      }
     },
     "metadata": {},
     "output_type": "display_data"
    }
   ],
   "source": [
    "px.histogram(fatal['2019 US Mortality 19'],nbins=500)"
   ]
  },
  {
   "cell_type": "code",
   "execution_count": 60,
   "metadata": {},
   "outputs": [],
   "source": [
    "\n",
    "mort_bins = pd.IntervalIndex.from_tuples([(0, 50*10e2),(50*10e2, 99*10e2), (99*10e2, 100*10e2),\n",
    "                                        (100*10e2, 150*10e2),\n",
    "                                        (150*10e2, 200*10e2),\n",
    "                                        (200*10e2, 250*10e2),\n",
    "                                        (250*10e2, 300*10e2),\n",
    "                                        (300*10e2, 350*10e2),\n",
    "                                        (350*10e2, 400*10e2),\n",
    "                                        (400*10e2, 1*10e6),\n",
    "                                        (10e6, 2*10e6)])\n",
    "mort_dict = dict(zip([str(i) for i in list(mort_bins)],['<5k','5-10k','10-100k',\n",
    "                                 '100-150k',\n",
    "                                 '150-200k',\n",
    "                                 '200-250k',\n",
    "                                 '250-300k',\n",
    "                                 '300-350k',\n",
    "                                 '350-400k',\n",
    "                                 '400k - 1M',\n",
    "                                 '> 1M']))"
   ]
  },
  {
   "cell_type": "code",
   "execution_count": 62,
   "metadata": {},
   "outputs": [
    {
     "data": {
      "application/vnd.plotly.v1+json": {
       "config": {
        "plotlyServerURL": "https://plot.ly"
       },
       "data": [
        {
         "alignmentgroup": "True",
         "bingroup": "x",
         "hovertemplate": "variable=pct2023<br>value=%{x}<br>count=%{y}<extra></extra>",
         "legendgroup": "pct2023",
         "marker": {
          "color": "#636efa",
          "pattern": {
           "shape": ""
          }
         },
         "name": "pct2023",
         "offsetgroup": "pct2023",
         "orientation": "v",
         "showlegend": true,
         "type": "histogram",
         "x": [
          0,
          11.111111111111116,
          0,
          -1.2552301255230103,
          0,
          0,
          0,
          -9.999999999999998,
          -2.631578947368418,
          0,
          0,
          0,
          0,
          0,
          -5.263157894736848,
          0,
          -4.761904761904767,
          0,
          -13.043478260869568,
          0,
          5.882352941176472,
          0,
          -6.666666666666665,
          0,
          -1.8867924528301883,
          0,
          -4.347826086956519,
          -2.4390243902439046,
          -3.31125827814569,
          0,
          0,
          0,
          0,
          0,
          0,
          0.9433962264151052,
          8.000000000000007,
          0,
          3.9473684210526327,
          -1.1272141706924366,
          -2.083333333333337,
          -1.17647058823529,
          0,
          -4.1666666666666625,
          11.214953271028039,
          -4.347826086956519,
          -5.769230769230771,
          1.8050541516245522,
          -2.684563758389258,
          0,
          0,
          -8.064516129032262,
          -1.1834319526627168,
          5.660377358490565,
          -2.2222222222222254,
          0,
          6.25,
          -6.324110671936756,
          -1.5873015873015928,
          2.7196652719665204,
          -3.053435114503822,
          0,
          0,
          -2.9430181590482163,
          -0.6249999999999978,
          2.3809523809523725,
          -5.286343612334798,
          0,
          -4.1666666666666625,
          -11.32075471698113,
          -3.353658536585369,
          -2.500000000000002,
          0,
          1.2805587892898762,
          5.833333333333335,
          -2.127659574468088,
          0,
          -3.218390804597704,
          -2.5039123630672955,
          -2.7027027027026973,
          0.46511627906977715,
          -2.2222222222222254,
          -1.3377926421404673,
          0.9377664109121886,
          -4.761904761904767,
          -2.7450980392156876,
          -2.281368821292773,
          -1.8158236057068788,
          -1.7045454545454586,
          35.894206549118394,
          -0.7692307692307665,
          -1.3513513513513487,
          -4.6052631578947345,
          -5.973715651135003,
          0,
          -1.6806722689075682,
          -0.8639308855291628,
          -0.5747126436781658,
          -2.580645161290318,
          -1.4506769825918808,
          2.6315789473684292,
          0.6666666666666599,
          1.6393442622950838,
          0.5063291139240533,
          -2.420198848770272,
          0.8289374529012905,
          0.4993757802746579
         ],
         "xaxis": "x",
         "yaxis": "y"
        }
       ],
       "layout": {
        "barmode": "relative",
        "legend": {
         "title": {
          "text": "variable"
         },
         "tracegroupgap": 0
        },
        "margin": {
         "t": 60
        },
        "template": {
         "data": {
          "bar": [
           {
            "error_x": {
             "color": "#2a3f5f"
            },
            "error_y": {
             "color": "#2a3f5f"
            },
            "marker": {
             "line": {
              "color": "#E5ECF6",
              "width": 0.5
             },
             "pattern": {
              "fillmode": "overlay",
              "size": 10,
              "solidity": 0.2
             }
            },
            "type": "bar"
           }
          ],
          "barpolar": [
           {
            "marker": {
             "line": {
              "color": "#E5ECF6",
              "width": 0.5
             },
             "pattern": {
              "fillmode": "overlay",
              "size": 10,
              "solidity": 0.2
             }
            },
            "type": "barpolar"
           }
          ],
          "carpet": [
           {
            "aaxis": {
             "endlinecolor": "#2a3f5f",
             "gridcolor": "white",
             "linecolor": "white",
             "minorgridcolor": "white",
             "startlinecolor": "#2a3f5f"
            },
            "baxis": {
             "endlinecolor": "#2a3f5f",
             "gridcolor": "white",
             "linecolor": "white",
             "minorgridcolor": "white",
             "startlinecolor": "#2a3f5f"
            },
            "type": "carpet"
           }
          ],
          "choropleth": [
           {
            "colorbar": {
             "outlinewidth": 0,
             "ticks": ""
            },
            "type": "choropleth"
           }
          ],
          "contour": [
           {
            "colorbar": {
             "outlinewidth": 0,
             "ticks": ""
            },
            "colorscale": [
             [
              0,
              "#0d0887"
             ],
             [
              0.1111111111111111,
              "#46039f"
             ],
             [
              0.2222222222222222,
              "#7201a8"
             ],
             [
              0.3333333333333333,
              "#9c179e"
             ],
             [
              0.4444444444444444,
              "#bd3786"
             ],
             [
              0.5555555555555556,
              "#d8576b"
             ],
             [
              0.6666666666666666,
              "#ed7953"
             ],
             [
              0.7777777777777778,
              "#fb9f3a"
             ],
             [
              0.8888888888888888,
              "#fdca26"
             ],
             [
              1,
              "#f0f921"
             ]
            ],
            "type": "contour"
           }
          ],
          "contourcarpet": [
           {
            "colorbar": {
             "outlinewidth": 0,
             "ticks": ""
            },
            "type": "contourcarpet"
           }
          ],
          "heatmap": [
           {
            "colorbar": {
             "outlinewidth": 0,
             "ticks": ""
            },
            "colorscale": [
             [
              0,
              "#0d0887"
             ],
             [
              0.1111111111111111,
              "#46039f"
             ],
             [
              0.2222222222222222,
              "#7201a8"
             ],
             [
              0.3333333333333333,
              "#9c179e"
             ],
             [
              0.4444444444444444,
              "#bd3786"
             ],
             [
              0.5555555555555556,
              "#d8576b"
             ],
             [
              0.6666666666666666,
              "#ed7953"
             ],
             [
              0.7777777777777778,
              "#fb9f3a"
             ],
             [
              0.8888888888888888,
              "#fdca26"
             ],
             [
              1,
              "#f0f921"
             ]
            ],
            "type": "heatmap"
           }
          ],
          "heatmapgl": [
           {
            "colorbar": {
             "outlinewidth": 0,
             "ticks": ""
            },
            "colorscale": [
             [
              0,
              "#0d0887"
             ],
             [
              0.1111111111111111,
              "#46039f"
             ],
             [
              0.2222222222222222,
              "#7201a8"
             ],
             [
              0.3333333333333333,
              "#9c179e"
             ],
             [
              0.4444444444444444,
              "#bd3786"
             ],
             [
              0.5555555555555556,
              "#d8576b"
             ],
             [
              0.6666666666666666,
              "#ed7953"
             ],
             [
              0.7777777777777778,
              "#fb9f3a"
             ],
             [
              0.8888888888888888,
              "#fdca26"
             ],
             [
              1,
              "#f0f921"
             ]
            ],
            "type": "heatmapgl"
           }
          ],
          "histogram": [
           {
            "marker": {
             "pattern": {
              "fillmode": "overlay",
              "size": 10,
              "solidity": 0.2
             }
            },
            "type": "histogram"
           }
          ],
          "histogram2d": [
           {
            "colorbar": {
             "outlinewidth": 0,
             "ticks": ""
            },
            "colorscale": [
             [
              0,
              "#0d0887"
             ],
             [
              0.1111111111111111,
              "#46039f"
             ],
             [
              0.2222222222222222,
              "#7201a8"
             ],
             [
              0.3333333333333333,
              "#9c179e"
             ],
             [
              0.4444444444444444,
              "#bd3786"
             ],
             [
              0.5555555555555556,
              "#d8576b"
             ],
             [
              0.6666666666666666,
              "#ed7953"
             ],
             [
              0.7777777777777778,
              "#fb9f3a"
             ],
             [
              0.8888888888888888,
              "#fdca26"
             ],
             [
              1,
              "#f0f921"
             ]
            ],
            "type": "histogram2d"
           }
          ],
          "histogram2dcontour": [
           {
            "colorbar": {
             "outlinewidth": 0,
             "ticks": ""
            },
            "colorscale": [
             [
              0,
              "#0d0887"
             ],
             [
              0.1111111111111111,
              "#46039f"
             ],
             [
              0.2222222222222222,
              "#7201a8"
             ],
             [
              0.3333333333333333,
              "#9c179e"
             ],
             [
              0.4444444444444444,
              "#bd3786"
             ],
             [
              0.5555555555555556,
              "#d8576b"
             ],
             [
              0.6666666666666666,
              "#ed7953"
             ],
             [
              0.7777777777777778,
              "#fb9f3a"
             ],
             [
              0.8888888888888888,
              "#fdca26"
             ],
             [
              1,
              "#f0f921"
             ]
            ],
            "type": "histogram2dcontour"
           }
          ],
          "mesh3d": [
           {
            "colorbar": {
             "outlinewidth": 0,
             "ticks": ""
            },
            "type": "mesh3d"
           }
          ],
          "parcoords": [
           {
            "line": {
             "colorbar": {
              "outlinewidth": 0,
              "ticks": ""
             }
            },
            "type": "parcoords"
           }
          ],
          "pie": [
           {
            "automargin": true,
            "type": "pie"
           }
          ],
          "scatter": [
           {
            "fillpattern": {
             "fillmode": "overlay",
             "size": 10,
             "solidity": 0.2
            },
            "type": "scatter"
           }
          ],
          "scatter3d": [
           {
            "line": {
             "colorbar": {
              "outlinewidth": 0,
              "ticks": ""
             }
            },
            "marker": {
             "colorbar": {
              "outlinewidth": 0,
              "ticks": ""
             }
            },
            "type": "scatter3d"
           }
          ],
          "scattercarpet": [
           {
            "marker": {
             "colorbar": {
              "outlinewidth": 0,
              "ticks": ""
             }
            },
            "type": "scattercarpet"
           }
          ],
          "scattergeo": [
           {
            "marker": {
             "colorbar": {
              "outlinewidth": 0,
              "ticks": ""
             }
            },
            "type": "scattergeo"
           }
          ],
          "scattergl": [
           {
            "marker": {
             "colorbar": {
              "outlinewidth": 0,
              "ticks": ""
             }
            },
            "type": "scattergl"
           }
          ],
          "scattermapbox": [
           {
            "marker": {
             "colorbar": {
              "outlinewidth": 0,
              "ticks": ""
             }
            },
            "type": "scattermapbox"
           }
          ],
          "scatterpolar": [
           {
            "marker": {
             "colorbar": {
              "outlinewidth": 0,
              "ticks": ""
             }
            },
            "type": "scatterpolar"
           }
          ],
          "scatterpolargl": [
           {
            "marker": {
             "colorbar": {
              "outlinewidth": 0,
              "ticks": ""
             }
            },
            "type": "scatterpolargl"
           }
          ],
          "scatterternary": [
           {
            "marker": {
             "colorbar": {
              "outlinewidth": 0,
              "ticks": ""
             }
            },
            "type": "scatterternary"
           }
          ],
          "surface": [
           {
            "colorbar": {
             "outlinewidth": 0,
             "ticks": ""
            },
            "colorscale": [
             [
              0,
              "#0d0887"
             ],
             [
              0.1111111111111111,
              "#46039f"
             ],
             [
              0.2222222222222222,
              "#7201a8"
             ],
             [
              0.3333333333333333,
              "#9c179e"
             ],
             [
              0.4444444444444444,
              "#bd3786"
             ],
             [
              0.5555555555555556,
              "#d8576b"
             ],
             [
              0.6666666666666666,
              "#ed7953"
             ],
             [
              0.7777777777777778,
              "#fb9f3a"
             ],
             [
              0.8888888888888888,
              "#fdca26"
             ],
             [
              1,
              "#f0f921"
             ]
            ],
            "type": "surface"
           }
          ],
          "table": [
           {
            "cells": {
             "fill": {
              "color": "#EBF0F8"
             },
             "line": {
              "color": "white"
             }
            },
            "header": {
             "fill": {
              "color": "#C8D4E3"
             },
             "line": {
              "color": "white"
             }
            },
            "type": "table"
           }
          ]
         },
         "layout": {
          "annotationdefaults": {
           "arrowcolor": "#2a3f5f",
           "arrowhead": 0,
           "arrowwidth": 1
          },
          "autotypenumbers": "strict",
          "coloraxis": {
           "colorbar": {
            "outlinewidth": 0,
            "ticks": ""
           }
          },
          "colorscale": {
           "diverging": [
            [
             0,
             "#8e0152"
            ],
            [
             0.1,
             "#c51b7d"
            ],
            [
             0.2,
             "#de77ae"
            ],
            [
             0.3,
             "#f1b6da"
            ],
            [
             0.4,
             "#fde0ef"
            ],
            [
             0.5,
             "#f7f7f7"
            ],
            [
             0.6,
             "#e6f5d0"
            ],
            [
             0.7,
             "#b8e186"
            ],
            [
             0.8,
             "#7fbc41"
            ],
            [
             0.9,
             "#4d9221"
            ],
            [
             1,
             "#276419"
            ]
           ],
           "sequential": [
            [
             0,
             "#0d0887"
            ],
            [
             0.1111111111111111,
             "#46039f"
            ],
            [
             0.2222222222222222,
             "#7201a8"
            ],
            [
             0.3333333333333333,
             "#9c179e"
            ],
            [
             0.4444444444444444,
             "#bd3786"
            ],
            [
             0.5555555555555556,
             "#d8576b"
            ],
            [
             0.6666666666666666,
             "#ed7953"
            ],
            [
             0.7777777777777778,
             "#fb9f3a"
            ],
            [
             0.8888888888888888,
             "#fdca26"
            ],
            [
             1,
             "#f0f921"
            ]
           ],
           "sequentialminus": [
            [
             0,
             "#0d0887"
            ],
            [
             0.1111111111111111,
             "#46039f"
            ],
            [
             0.2222222222222222,
             "#7201a8"
            ],
            [
             0.3333333333333333,
             "#9c179e"
            ],
            [
             0.4444444444444444,
             "#bd3786"
            ],
            [
             0.5555555555555556,
             "#d8576b"
            ],
            [
             0.6666666666666666,
             "#ed7953"
            ],
            [
             0.7777777777777778,
             "#fb9f3a"
            ],
            [
             0.8888888888888888,
             "#fdca26"
            ],
            [
             1,
             "#f0f921"
            ]
           ]
          },
          "colorway": [
           "#636efa",
           "#EF553B",
           "#00cc96",
           "#ab63fa",
           "#FFA15A",
           "#19d3f3",
           "#FF6692",
           "#B6E880",
           "#FF97FF",
           "#FECB52"
          ],
          "font": {
           "color": "#2a3f5f"
          },
          "geo": {
           "bgcolor": "white",
           "lakecolor": "white",
           "landcolor": "#E5ECF6",
           "showlakes": true,
           "showland": true,
           "subunitcolor": "white"
          },
          "hoverlabel": {
           "align": "left"
          },
          "hovermode": "closest",
          "mapbox": {
           "style": "light"
          },
          "paper_bgcolor": "white",
          "plot_bgcolor": "#E5ECF6",
          "polar": {
           "angularaxis": {
            "gridcolor": "white",
            "linecolor": "white",
            "ticks": ""
           },
           "bgcolor": "#E5ECF6",
           "radialaxis": {
            "gridcolor": "white",
            "linecolor": "white",
            "ticks": ""
           }
          },
          "scene": {
           "xaxis": {
            "backgroundcolor": "#E5ECF6",
            "gridcolor": "white",
            "gridwidth": 2,
            "linecolor": "white",
            "showbackground": true,
            "ticks": "",
            "zerolinecolor": "white"
           },
           "yaxis": {
            "backgroundcolor": "#E5ECF6",
            "gridcolor": "white",
            "gridwidth": 2,
            "linecolor": "white",
            "showbackground": true,
            "ticks": "",
            "zerolinecolor": "white"
           },
           "zaxis": {
            "backgroundcolor": "#E5ECF6",
            "gridcolor": "white",
            "gridwidth": 2,
            "linecolor": "white",
            "showbackground": true,
            "ticks": "",
            "zerolinecolor": "white"
           }
          },
          "shapedefaults": {
           "line": {
            "color": "#2a3f5f"
           }
          },
          "ternary": {
           "aaxis": {
            "gridcolor": "white",
            "linecolor": "white",
            "ticks": ""
           },
           "baxis": {
            "gridcolor": "white",
            "linecolor": "white",
            "ticks": ""
           },
           "bgcolor": "#E5ECF6",
           "caxis": {
            "gridcolor": "white",
            "linecolor": "white",
            "ticks": ""
           }
          },
          "title": {
           "x": 0.05
          },
          "xaxis": {
           "automargin": true,
           "gridcolor": "white",
           "linecolor": "white",
           "ticks": "",
           "title": {
            "standoff": 15
           },
           "zerolinecolor": "white",
           "zerolinewidth": 2
          },
          "yaxis": {
           "automargin": true,
           "gridcolor": "white",
           "linecolor": "white",
           "ticks": "",
           "title": {
            "standoff": 15
           },
           "zerolinecolor": "white",
           "zerolinewidth": 2
          }
         }
        },
        "xaxis": {
         "anchor": "y",
         "domain": [
          0,
          1
         ],
         "title": {
          "text": "value"
         }
        },
        "yaxis": {
         "anchor": "x",
         "domain": [
          0,
          1
         ],
         "title": {
          "text": "count"
         }
        }
       }
      }
     },
     "metadata": {},
     "output_type": "display_data"
    }
   ],
   "source": [
    "px.histogram(fatal['pct2023'])"
   ]
  },
  {
   "cell_type": "code",
   "execution_count": 63,
   "metadata": {},
   "outputs": [],
   "source": [
    "pct_bins = pd.IntervalIndex.from_tuples([(-300,-20),(-20, -10),(-10,-5), (-5,0),\n",
    "                                        (0,5),\n",
    "                                        (5,10),\n",
    "                                        (10,15),\n",
    "                                        (15,20),\n",
    "                                        (20,300)])\n",
    "pct_dict = dict(zip([str(i) for i in list(pct_bins)],['< -20','-20 ~ -10','-10 ~ -5', '-5 ~ 0',\n",
    "                                                       '0 ~ 5',\n",
    "                                                       '5 ~ 10',\n",
    "                                                       '10 ~ 15',\n",
    "                                                       '15 ~ 20',\n",
    "                                                       '> 20']))\n",
    "fatal['est_bin'] = pd.cut(fatal['estimate'], pct_bins).astype(str)\n",
    "fatal['mort_bin'] = pd.cut(fatal['2019 US Mortality 19'], mort_bins).astype(str)\n",
    "fatal['mort_str'] = fatal['mort_bin'].astype(str).map(mort_dict)\n",
    "fatal['est_str'] = fatal['est_bin'].astype(str).map(pct_dict)"
   ]
  },
  {
   "cell_type": "code",
   "execution_count": 67,
   "metadata": {},
   "outputs": [
    {
     "data": {
      "application/vnd.plotly.v1+json": {
       "config": {
        "plotlyServerURL": "https://plot.ly"
       },
       "data": [
        {
         "dimensions": [
          {
           "categoryorder": "category descending",
           "label": "Category existed time (yr)",
           "values": [
            15,
            15,
            15,
            15,
            15,
            15,
            15,
            15,
            15,
            15,
            15,
            15,
            15,
            15,
            15,
            15,
            15,
            15,
            15,
            15,
            15,
            15,
            15,
            15,
            14,
            15,
            15,
            15,
            15,
            15,
            15,
            15,
            15,
            15,
            15,
            15,
            15,
            15,
            15,
            15,
            5,
            15,
            15,
            15,
            15,
            15,
            15,
            5,
            12,
            15,
            15,
            15,
            15,
            15,
            15,
            15,
            15,
            15,
            15,
            15,
            15,
            15,
            15,
            15,
            15,
            15,
            15,
            10,
            9,
            15,
            15,
            5,
            15,
            15,
            15,
            15,
            15,
            15,
            15,
            15,
            15,
            15,
            15,
            15,
            15,
            14,
            15,
            15,
            15,
            7,
            15,
            15,
            15,
            15,
            15,
            15,
            15,
            15,
            15,
            9,
            15,
            15,
            15,
            15,
            15,
            15,
            15
           ]
          },
          {
           "categoryorder": "category descending",
           "label": "Estimated pct. change",
           "values": [
            "-5 ~ 0",
            "0 ~ 5",
            "-5 ~ 0",
            "-5 ~ 0",
            "-5 ~ 0",
            "-5 ~ 0",
            "-5 ~ 0",
            "-5 ~ 0",
            "-5 ~ 0",
            "-5 ~ 0",
            "-5 ~ 0",
            "-5 ~ 0",
            "-5 ~ 0",
            "-5 ~ 0",
            "-5 ~ 0",
            "-5 ~ 0",
            "-5 ~ 0",
            "-5 ~ 0",
            "-10 ~ -5",
            "-5 ~ 0",
            "0 ~ 5",
            "-5 ~ 0",
            "-5 ~ 0",
            "-5 ~ 0",
            "-5 ~ 0",
            "-5 ~ 0",
            "-5 ~ 0",
            "-5 ~ 0",
            "-20 ~ -10",
            "-5 ~ 0",
            "-5 ~ 0",
            "-5 ~ 0",
            "-5 ~ 0",
            "-5 ~ 0",
            "-5 ~ 0",
            "0 ~ 5",
            "5 ~ 10",
            "-5 ~ 0",
            "5 ~ 10",
            "-10 ~ -5",
            "-5 ~ 0",
            "-5 ~ 0",
            "-5 ~ 0",
            "-5 ~ 0",
            "10 ~ 15",
            "-5 ~ 0",
            "-10 ~ -5",
            "0 ~ 5",
            "-5 ~ 0",
            "-5 ~ 0",
            "-5 ~ 0",
            "-20 ~ -10",
            "-5 ~ 0",
            "0 ~ 5",
            "-5 ~ 0",
            "-5 ~ 0",
            "0 ~ 5",
            "-20 ~ -10",
            "-5 ~ 0",
            "10 ~ 15",
            "-5 ~ 0",
            "-5 ~ 0",
            "-5 ~ 0",
            "< -20",
            "-5 ~ 0",
            "10 ~ 15",
            "-20 ~ -10",
            "-5 ~ 0",
            "-5 ~ 0",
            "-20 ~ -10",
            "-20 ~ -10",
            "-5 ~ 0",
            "-5 ~ 0",
            "10 ~ 15",
            "5 ~ 10",
            "-5 ~ 0",
            "-5 ~ 0",
            "-20 ~ -10",
            "-20 ~ -10",
            "-10 ~ -5",
            "0 ~ 5",
            "-5 ~ 0",
            "-5 ~ 0",
            "10 ~ 15",
            "-10 ~ -5",
            "-10 ~ -5",
            "-10 ~ -5",
            "-20 ~ -10",
            "-10 ~ -5",
            "> 20",
            "-5 ~ 0",
            "-10 ~ -5",
            "-10 ~ -5",
            "< -20",
            "-5 ~ 0",
            "-10 ~ -5",
            "-10 ~ -5",
            "-5 ~ 0",
            "-20 ~ -10",
            "-20 ~ -10",
            "> 20",
            "0 ~ 5",
            "0 ~ 5",
            "0 ~ 5",
            "< -20",
            "> 20",
            "5 ~ 10"
           ]
          },
          {
           "categoryorder": "category descending",
           "label": "Mortality rate (raw ct.)",
           "values": [
            "<5k",
            "<5k",
            "<5k",
            "<5k",
            "<5k",
            "<5k",
            "<5k",
            "<5k",
            "<5k",
            "<5k",
            "<5k",
            "<5k",
            "<5k",
            "<5k",
            "<5k",
            "<5k",
            "<5k",
            "<5k",
            "<5k",
            "<5k",
            "<5k",
            "<5k",
            "<5k",
            "<5k",
            "<5k",
            "<5k",
            "<5k",
            "<5k",
            "<5k",
            "<5k",
            "<5k",
            "<5k",
            "<5k",
            "<5k",
            "<5k",
            "<5k",
            "<5k",
            "<5k",
            "<5k",
            "<5k",
            "<5k",
            "<5k",
            "<5k",
            "<5k",
            "<5k",
            "<5k",
            "<5k",
            "<5k",
            "<5k",
            "<5k",
            "<5k",
            "<5k",
            "<5k",
            "<5k",
            "<5k",
            "<5k",
            "<5k",
            "<5k",
            "<5k",
            "<5k",
            "<5k",
            "<5k",
            "<5k",
            "<5k",
            "<5k",
            "<5k",
            "<5k",
            "<5k",
            "<5k",
            "<5k",
            "<5k",
            "<5k",
            "<5k",
            "<5k",
            "<5k",
            "<5k",
            "<5k",
            "<5k",
            "<5k",
            "<5k",
            "<5k",
            "<5k",
            "<5k",
            "<5k",
            "<5k",
            "<5k",
            "5-10k",
            "5-10k",
            "5-10k",
            "5-10k",
            "5-10k",
            "5-10k",
            "100-150k",
            "100-150k",
            "100-150k",
            "150-200k",
            "150-200k",
            "200-250k",
            "200-250k",
            "250-300k",
            "250-300k",
            "300-350k",
            "400k - 1M",
            "400k - 1M",
            "400k - 1M",
            "400k - 1M",
            "400k - 1M"
           ]
          }
         ],
         "domain": {
          "x": [
           0,
           1
          ],
          "y": [
           0,
           1
          ]
         },
         "line": {
          "color": [
           15,
           15,
           15,
           15,
           15,
           15,
           15,
           15,
           15,
           15,
           15,
           15,
           15,
           15,
           15,
           15,
           15,
           15,
           15,
           15,
           15,
           15,
           15,
           15,
           14,
           15,
           15,
           15,
           15,
           15,
           15,
           15,
           15,
           15,
           15,
           15,
           15,
           15,
           15,
           15,
           5,
           15,
           15,
           15,
           15,
           15,
           15,
           5,
           12,
           15,
           15,
           15,
           15,
           15,
           15,
           15,
           15,
           15,
           15,
           15,
           15,
           15,
           15,
           15,
           15,
           15,
           15,
           10,
           9,
           15,
           15,
           5,
           15,
           15,
           15,
           15,
           15,
           15,
           15,
           15,
           15,
           15,
           15,
           15,
           15,
           14,
           15,
           15,
           15,
           7,
           15,
           15,
           15,
           15,
           15,
           15,
           15,
           15,
           15,
           9,
           15,
           15,
           15,
           15,
           15,
           15,
           15
          ],
          "coloraxis": "coloraxis"
         },
         "name": "",
         "type": "parcats"
        }
       ],
       "layout": {
        "coloraxis": {
         "colorbar": {
          "title": {
           "text": "Category existed time (yr)"
          }
         },
         "colorscale": [
          [
           0,
           "#440154"
          ],
          [
           0.1111111111111111,
           "#482878"
          ],
          [
           0.2222222222222222,
           "#3e4989"
          ],
          [
           0.3333333333333333,
           "#31688e"
          ],
          [
           0.4444444444444444,
           "#26828e"
          ],
          [
           0.5555555555555556,
           "#1f9e89"
          ],
          [
           0.6666666666666666,
           "#35b779"
          ],
          [
           0.7777777777777778,
           "#6ece58"
          ],
          [
           0.8888888888888888,
           "#b5de2b"
          ],
          [
           1,
           "#fde725"
          ]
         ]
        },
        "height": 500,
        "legend": {
         "tracegroupgap": 0
        },
        "margin": {
         "t": 60
        },
        "template": {
         "data": {
          "bar": [
           {
            "error_x": {
             "color": "#2a3f5f"
            },
            "error_y": {
             "color": "#2a3f5f"
            },
            "marker": {
             "line": {
              "color": "#E5ECF6",
              "width": 0.5
             },
             "pattern": {
              "fillmode": "overlay",
              "size": 10,
              "solidity": 0.2
             }
            },
            "type": "bar"
           }
          ],
          "barpolar": [
           {
            "marker": {
             "line": {
              "color": "#E5ECF6",
              "width": 0.5
             },
             "pattern": {
              "fillmode": "overlay",
              "size": 10,
              "solidity": 0.2
             }
            },
            "type": "barpolar"
           }
          ],
          "carpet": [
           {
            "aaxis": {
             "endlinecolor": "#2a3f5f",
             "gridcolor": "white",
             "linecolor": "white",
             "minorgridcolor": "white",
             "startlinecolor": "#2a3f5f"
            },
            "baxis": {
             "endlinecolor": "#2a3f5f",
             "gridcolor": "white",
             "linecolor": "white",
             "minorgridcolor": "white",
             "startlinecolor": "#2a3f5f"
            },
            "type": "carpet"
           }
          ],
          "choropleth": [
           {
            "colorbar": {
             "outlinewidth": 0,
             "ticks": ""
            },
            "type": "choropleth"
           }
          ],
          "contour": [
           {
            "colorbar": {
             "outlinewidth": 0,
             "ticks": ""
            },
            "colorscale": [
             [
              0,
              "#0d0887"
             ],
             [
              0.1111111111111111,
              "#46039f"
             ],
             [
              0.2222222222222222,
              "#7201a8"
             ],
             [
              0.3333333333333333,
              "#9c179e"
             ],
             [
              0.4444444444444444,
              "#bd3786"
             ],
             [
              0.5555555555555556,
              "#d8576b"
             ],
             [
              0.6666666666666666,
              "#ed7953"
             ],
             [
              0.7777777777777778,
              "#fb9f3a"
             ],
             [
              0.8888888888888888,
              "#fdca26"
             ],
             [
              1,
              "#f0f921"
             ]
            ],
            "type": "contour"
           }
          ],
          "contourcarpet": [
           {
            "colorbar": {
             "outlinewidth": 0,
             "ticks": ""
            },
            "type": "contourcarpet"
           }
          ],
          "heatmap": [
           {
            "colorbar": {
             "outlinewidth": 0,
             "ticks": ""
            },
            "colorscale": [
             [
              0,
              "#0d0887"
             ],
             [
              0.1111111111111111,
              "#46039f"
             ],
             [
              0.2222222222222222,
              "#7201a8"
             ],
             [
              0.3333333333333333,
              "#9c179e"
             ],
             [
              0.4444444444444444,
              "#bd3786"
             ],
             [
              0.5555555555555556,
              "#d8576b"
             ],
             [
              0.6666666666666666,
              "#ed7953"
             ],
             [
              0.7777777777777778,
              "#fb9f3a"
             ],
             [
              0.8888888888888888,
              "#fdca26"
             ],
             [
              1,
              "#f0f921"
             ]
            ],
            "type": "heatmap"
           }
          ],
          "heatmapgl": [
           {
            "colorbar": {
             "outlinewidth": 0,
             "ticks": ""
            },
            "colorscale": [
             [
              0,
              "#0d0887"
             ],
             [
              0.1111111111111111,
              "#46039f"
             ],
             [
              0.2222222222222222,
              "#7201a8"
             ],
             [
              0.3333333333333333,
              "#9c179e"
             ],
             [
              0.4444444444444444,
              "#bd3786"
             ],
             [
              0.5555555555555556,
              "#d8576b"
             ],
             [
              0.6666666666666666,
              "#ed7953"
             ],
             [
              0.7777777777777778,
              "#fb9f3a"
             ],
             [
              0.8888888888888888,
              "#fdca26"
             ],
             [
              1,
              "#f0f921"
             ]
            ],
            "type": "heatmapgl"
           }
          ],
          "histogram": [
           {
            "marker": {
             "pattern": {
              "fillmode": "overlay",
              "size": 10,
              "solidity": 0.2
             }
            },
            "type": "histogram"
           }
          ],
          "histogram2d": [
           {
            "colorbar": {
             "outlinewidth": 0,
             "ticks": ""
            },
            "colorscale": [
             [
              0,
              "#0d0887"
             ],
             [
              0.1111111111111111,
              "#46039f"
             ],
             [
              0.2222222222222222,
              "#7201a8"
             ],
             [
              0.3333333333333333,
              "#9c179e"
             ],
             [
              0.4444444444444444,
              "#bd3786"
             ],
             [
              0.5555555555555556,
              "#d8576b"
             ],
             [
              0.6666666666666666,
              "#ed7953"
             ],
             [
              0.7777777777777778,
              "#fb9f3a"
             ],
             [
              0.8888888888888888,
              "#fdca26"
             ],
             [
              1,
              "#f0f921"
             ]
            ],
            "type": "histogram2d"
           }
          ],
          "histogram2dcontour": [
           {
            "colorbar": {
             "outlinewidth": 0,
             "ticks": ""
            },
            "colorscale": [
             [
              0,
              "#0d0887"
             ],
             [
              0.1111111111111111,
              "#46039f"
             ],
             [
              0.2222222222222222,
              "#7201a8"
             ],
             [
              0.3333333333333333,
              "#9c179e"
             ],
             [
              0.4444444444444444,
              "#bd3786"
             ],
             [
              0.5555555555555556,
              "#d8576b"
             ],
             [
              0.6666666666666666,
              "#ed7953"
             ],
             [
              0.7777777777777778,
              "#fb9f3a"
             ],
             [
              0.8888888888888888,
              "#fdca26"
             ],
             [
              1,
              "#f0f921"
             ]
            ],
            "type": "histogram2dcontour"
           }
          ],
          "mesh3d": [
           {
            "colorbar": {
             "outlinewidth": 0,
             "ticks": ""
            },
            "type": "mesh3d"
           }
          ],
          "parcoords": [
           {
            "line": {
             "colorbar": {
              "outlinewidth": 0,
              "ticks": ""
             }
            },
            "type": "parcoords"
           }
          ],
          "pie": [
           {
            "automargin": true,
            "type": "pie"
           }
          ],
          "scatter": [
           {
            "fillpattern": {
             "fillmode": "overlay",
             "size": 10,
             "solidity": 0.2
            },
            "type": "scatter"
           }
          ],
          "scatter3d": [
           {
            "line": {
             "colorbar": {
              "outlinewidth": 0,
              "ticks": ""
             }
            },
            "marker": {
             "colorbar": {
              "outlinewidth": 0,
              "ticks": ""
             }
            },
            "type": "scatter3d"
           }
          ],
          "scattercarpet": [
           {
            "marker": {
             "colorbar": {
              "outlinewidth": 0,
              "ticks": ""
             }
            },
            "type": "scattercarpet"
           }
          ],
          "scattergeo": [
           {
            "marker": {
             "colorbar": {
              "outlinewidth": 0,
              "ticks": ""
             }
            },
            "type": "scattergeo"
           }
          ],
          "scattergl": [
           {
            "marker": {
             "colorbar": {
              "outlinewidth": 0,
              "ticks": ""
             }
            },
            "type": "scattergl"
           }
          ],
          "scattermapbox": [
           {
            "marker": {
             "colorbar": {
              "outlinewidth": 0,
              "ticks": ""
             }
            },
            "type": "scattermapbox"
           }
          ],
          "scatterpolar": [
           {
            "marker": {
             "colorbar": {
              "outlinewidth": 0,
              "ticks": ""
             }
            },
            "type": "scatterpolar"
           }
          ],
          "scatterpolargl": [
           {
            "marker": {
             "colorbar": {
              "outlinewidth": 0,
              "ticks": ""
             }
            },
            "type": "scatterpolargl"
           }
          ],
          "scatterternary": [
           {
            "marker": {
             "colorbar": {
              "outlinewidth": 0,
              "ticks": ""
             }
            },
            "type": "scatterternary"
           }
          ],
          "surface": [
           {
            "colorbar": {
             "outlinewidth": 0,
             "ticks": ""
            },
            "colorscale": [
             [
              0,
              "#0d0887"
             ],
             [
              0.1111111111111111,
              "#46039f"
             ],
             [
              0.2222222222222222,
              "#7201a8"
             ],
             [
              0.3333333333333333,
              "#9c179e"
             ],
             [
              0.4444444444444444,
              "#bd3786"
             ],
             [
              0.5555555555555556,
              "#d8576b"
             ],
             [
              0.6666666666666666,
              "#ed7953"
             ],
             [
              0.7777777777777778,
              "#fb9f3a"
             ],
             [
              0.8888888888888888,
              "#fdca26"
             ],
             [
              1,
              "#f0f921"
             ]
            ],
            "type": "surface"
           }
          ],
          "table": [
           {
            "cells": {
             "fill": {
              "color": "#EBF0F8"
             },
             "line": {
              "color": "white"
             }
            },
            "header": {
             "fill": {
              "color": "#C8D4E3"
             },
             "line": {
              "color": "white"
             }
            },
            "type": "table"
           }
          ]
         },
         "layout": {
          "annotationdefaults": {
           "arrowcolor": "#2a3f5f",
           "arrowhead": 0,
           "arrowwidth": 1
          },
          "autotypenumbers": "strict",
          "coloraxis": {
           "colorbar": {
            "outlinewidth": 0,
            "ticks": ""
           }
          },
          "colorscale": {
           "diverging": [
            [
             0,
             "#8e0152"
            ],
            [
             0.1,
             "#c51b7d"
            ],
            [
             0.2,
             "#de77ae"
            ],
            [
             0.3,
             "#f1b6da"
            ],
            [
             0.4,
             "#fde0ef"
            ],
            [
             0.5,
             "#f7f7f7"
            ],
            [
             0.6,
             "#e6f5d0"
            ],
            [
             0.7,
             "#b8e186"
            ],
            [
             0.8,
             "#7fbc41"
            ],
            [
             0.9,
             "#4d9221"
            ],
            [
             1,
             "#276419"
            ]
           ],
           "sequential": [
            [
             0,
             "#0d0887"
            ],
            [
             0.1111111111111111,
             "#46039f"
            ],
            [
             0.2222222222222222,
             "#7201a8"
            ],
            [
             0.3333333333333333,
             "#9c179e"
            ],
            [
             0.4444444444444444,
             "#bd3786"
            ],
            [
             0.5555555555555556,
             "#d8576b"
            ],
            [
             0.6666666666666666,
             "#ed7953"
            ],
            [
             0.7777777777777778,
             "#fb9f3a"
            ],
            [
             0.8888888888888888,
             "#fdca26"
            ],
            [
             1,
             "#f0f921"
            ]
           ],
           "sequentialminus": [
            [
             0,
             "#0d0887"
            ],
            [
             0.1111111111111111,
             "#46039f"
            ],
            [
             0.2222222222222222,
             "#7201a8"
            ],
            [
             0.3333333333333333,
             "#9c179e"
            ],
            [
             0.4444444444444444,
             "#bd3786"
            ],
            [
             0.5555555555555556,
             "#d8576b"
            ],
            [
             0.6666666666666666,
             "#ed7953"
            ],
            [
             0.7777777777777778,
             "#fb9f3a"
            ],
            [
             0.8888888888888888,
             "#fdca26"
            ],
            [
             1,
             "#f0f921"
            ]
           ]
          },
          "colorway": [
           "#636efa",
           "#EF553B",
           "#00cc96",
           "#ab63fa",
           "#FFA15A",
           "#19d3f3",
           "#FF6692",
           "#B6E880",
           "#FF97FF",
           "#FECB52"
          ],
          "font": {
           "color": "#2a3f5f"
          },
          "geo": {
           "bgcolor": "white",
           "lakecolor": "white",
           "landcolor": "#E5ECF6",
           "showlakes": true,
           "showland": true,
           "subunitcolor": "white"
          },
          "hoverlabel": {
           "align": "left"
          },
          "hovermode": "closest",
          "mapbox": {
           "style": "light"
          },
          "paper_bgcolor": "white",
          "plot_bgcolor": "#E5ECF6",
          "polar": {
           "angularaxis": {
            "gridcolor": "white",
            "linecolor": "white",
            "ticks": ""
           },
           "bgcolor": "#E5ECF6",
           "radialaxis": {
            "gridcolor": "white",
            "linecolor": "white",
            "ticks": ""
           }
          },
          "scene": {
           "xaxis": {
            "backgroundcolor": "#E5ECF6",
            "gridcolor": "white",
            "gridwidth": 2,
            "linecolor": "white",
            "showbackground": true,
            "ticks": "",
            "zerolinecolor": "white"
           },
           "yaxis": {
            "backgroundcolor": "#E5ECF6",
            "gridcolor": "white",
            "gridwidth": 2,
            "linecolor": "white",
            "showbackground": true,
            "ticks": "",
            "zerolinecolor": "white"
           },
           "zaxis": {
            "backgroundcolor": "#E5ECF6",
            "gridcolor": "white",
            "gridwidth": 2,
            "linecolor": "white",
            "showbackground": true,
            "ticks": "",
            "zerolinecolor": "white"
           }
          },
          "shapedefaults": {
           "line": {
            "color": "#2a3f5f"
           }
          },
          "ternary": {
           "aaxis": {
            "gridcolor": "white",
            "linecolor": "white",
            "ticks": ""
           },
           "baxis": {
            "gridcolor": "white",
            "linecolor": "white",
            "ticks": ""
           },
           "bgcolor": "#E5ECF6",
           "caxis": {
            "gridcolor": "white",
            "linecolor": "white",
            "ticks": ""
           }
          },
          "title": {
           "x": 0.05
          },
          "xaxis": {
           "automargin": true,
           "gridcolor": "white",
           "linecolor": "white",
           "ticks": "",
           "title": {
            "standoff": 15
           },
           "zerolinecolor": "white",
           "zerolinewidth": 2
          },
          "yaxis": {
           "automargin": true,
           "gridcolor": "white",
           "linecolor": "white",
           "ticks": "",
           "title": {
            "standoff": 15
           },
           "zerolinecolor": "white",
           "zerolinewidth": 2
          }
         }
        },
        "width": 900
       }
      }
     },
     "metadata": {},
     "output_type": "display_data"
    },
    {
     "data": {
      "text/plain": [
       "<Figure size 432x288 with 0 Axes>"
      ]
     },
     "metadata": {},
     "output_type": "display_data"
    }
   ],
   "source": [
    "#df = px.data.tips()\n",
    "fig = px.parallel_categories(fatal, dimensions=['exist','est_str','mort_str'],\n",
    "                color=\"exist\", color_continuous_scale=\"Viridis\",\n",
    "                labels={'exist':'Category existed time (yr)',\n",
    "                        'est_str':'Estimated pct. change',\n",
    "                        'mort_str':'Mortality rate (raw ct.)'},\n",
    "                height = 500,\n",
    "                width = 900\n",
    "                )\n",
    "dimensions=['exist','est_str','mort_bin']\n",
    "fig.update_traces(dimensions=[{\"categoryorder\": \"category descending\"} for _ in dimensions])\n",
    "plt.tight_layout()\n",
    "fig.show()"
   ]
  },
  {
   "attachments": {},
   "cell_type": "markdown",
   "metadata": {},
   "source": [
    "Let's also take a look at how the top-funded categories have changed in the past decade. "
   ]
  },
  {
   "cell_type": "code",
   "execution_count": 73,
   "metadata": {},
   "outputs": [
    {
     "data": {
      "application/vnd.plotly.v1+json": {
       "config": {
        "plotlyServerURL": "https://plot.ly"
       },
       "data": [
        {
         "alignmentgroup": "True",
         "hovertemplate": "Research/Disease Areas \n (Dollars in millions and rounded)=%{x}<br>year=2008<br>value=%{y}<extra></extra>",
         "legendgroup": "Sepsis 15",
         "marker": {
          "color": "#636efa",
          "pattern": {
           "shape": ""
          }
         },
         "name": "Sepsis 15",
         "offsetgroup": "Sepsis 15",
         "orientation": "v",
         "showlegend": true,
         "textposition": "auto",
         "type": "bar",
         "x": [
          "Sepsis 15"
         ],
         "xaxis": "x",
         "y": [
          95
         ],
         "yaxis": "y"
        },
        {
         "alignmentgroup": "True",
         "hovertemplate": "Research/Disease Areas \n (Dollars in millions and rounded)=%{x}<br>year=2008<br>value=%{y}<extra></extra>",
         "legendgroup": "Stroke ",
         "marker": {
          "color": "#EF553B",
          "pattern": {
           "shape": ""
          }
         },
         "name": "Stroke ",
         "offsetgroup": "Stroke ",
         "orientation": "v",
         "showlegend": true,
         "textposition": "auto",
         "type": "bar",
         "x": [
          "Stroke "
         ],
         "xaxis": "x",
         "y": [
          296
         ],
         "yaxis": "y"
        },
        {
         "alignmentgroup": "True",
         "hovertemplate": "Research/Disease Areas \n (Dollars in millions and rounded)=%{x}<br>year=2008<br>value=%{y}<extra></extra>",
         "legendgroup": "Cerebrovascular ",
         "marker": {
          "color": "#00cc96",
          "pattern": {
           "shape": ""
          }
         },
         "name": "Cerebrovascular ",
         "offsetgroup": "Cerebrovascular ",
         "orientation": "v",
         "showlegend": true,
         "textposition": "auto",
         "type": "bar",
         "x": [
          "Cerebrovascular "
         ],
         "xaxis": "x",
         "y": [
          -1
         ],
         "yaxis": "y"
        },
        {
         "alignmentgroup": "True",
         "hovertemplate": "Research/Disease Areas \n (Dollars in millions and rounded)=%{x}<br>year=2008<br>value=%{y}<extra></extra>",
         "legendgroup": "Diabetes 4",
         "marker": {
          "color": "#ab63fa",
          "pattern": {
           "shape": ""
          }
         },
         "name": "Diabetes 4",
         "offsetgroup": "Diabetes 4",
         "orientation": "v",
         "showlegend": true,
         "textposition": "auto",
         "type": "bar",
         "x": [
          "Diabetes 4"
         ],
         "xaxis": "x",
         "y": [
          1080
         ],
         "yaxis": "y"
        },
        {
         "alignmentgroup": "True",
         "hovertemplate": "Research/Disease Areas \n (Dollars in millions and rounded)=%{x}<br>year=2008<br>value=%{y}<extra></extra>",
         "legendgroup": "Chronic Obstructive Pulmonary Disease ",
         "marker": {
          "color": "#FFA15A",
          "pattern": {
           "shape": ""
          }
         },
         "name": "Chronic Obstructive Pulmonary Disease ",
         "offsetgroup": "Chronic Obstructive Pulmonary Disease ",
         "orientation": "v",
         "showlegend": true,
         "textposition": "auto",
         "type": "bar",
         "x": [
          "Chronic Obstructive Pulmonary Disease "
         ],
         "xaxis": "x",
         "y": [
          75
         ],
         "yaxis": "y"
        },
        {
         "alignmentgroup": "True",
         "hovertemplate": "Research/Disease Areas \n (Dollars in millions and rounded)=%{x}<br>year=2008<br>value=%{y}<extra></extra>",
         "legendgroup": "Hypertension ",
         "marker": {
          "color": "#19d3f3",
          "pattern": {
           "shape": ""
          }
         },
         "name": "Hypertension ",
         "offsetgroup": "Hypertension ",
         "orientation": "v",
         "showlegend": true,
         "textposition": "auto",
         "type": "bar",
         "x": [
          "Hypertension "
         ],
         "xaxis": "x",
         "y": [
          263
         ],
         "yaxis": "y"
        },
        {
         "alignmentgroup": "True",
         "hovertemplate": "Research/Disease Areas \n (Dollars in millions and rounded)=%{x}<br>year=2008<br>value=%{y}<extra></extra>",
         "legendgroup": "Heart Disease - Coronary Heart Disease ",
         "marker": {
          "color": "#FF6692",
          "pattern": {
           "shape": ""
          }
         },
         "name": "Heart Disease - Coronary Heart Disease ",
         "offsetgroup": "Heart Disease - Coronary Heart Disease ",
         "orientation": "v",
         "showlegend": true,
         "textposition": "auto",
         "type": "bar",
         "x": [
          "Heart Disease - Coronary Heart Disease "
         ],
         "xaxis": "x",
         "y": [
          367
         ],
         "yaxis": "y"
        },
        {
         "alignmentgroup": "True",
         "hovertemplate": "Research/Disease Areas \n (Dollars in millions and rounded)=%{x}<br>year=2008<br>value=%{y}<extra></extra>",
         "legendgroup": "Cancer ",
         "marker": {
          "color": "#B6E880",
          "pattern": {
           "shape": ""
          }
         },
         "name": "Cancer ",
         "offsetgroup": "Cancer ",
         "orientation": "v",
         "showlegend": true,
         "textposition": "auto",
         "type": "bar",
         "x": [
          "Cancer "
         ],
         "xaxis": "x",
         "y": [
          5570
         ],
         "yaxis": "y"
        },
        {
         "alignmentgroup": "True",
         "hovertemplate": "Research/Disease Areas \n (Dollars in millions and rounded)=%{x}<br>year=2008<br>value=%{y}<extra></extra>",
         "legendgroup": "Cardiovascular ",
         "marker": {
          "color": "#FF97FF",
          "pattern": {
           "shape": ""
          }
         },
         "name": "Cardiovascular ",
         "offsetgroup": "Cardiovascular ",
         "orientation": "v",
         "showlegend": true,
         "textposition": "auto",
         "type": "bar",
         "x": [
          "Cardiovascular "
         ],
         "xaxis": "x",
         "y": [
          2027
         ],
         "yaxis": "y"
        },
        {
         "alignmentgroup": "True",
         "hovertemplate": "Research/Disease Areas \n (Dollars in millions and rounded)=%{x}<br>year=2008<br>value=%{y}<extra></extra>",
         "legendgroup": "Heart Disease ",
         "marker": {
          "color": "#FECB52",
          "pattern": {
           "shape": ""
          }
         },
         "name": "Heart Disease ",
         "offsetgroup": "Heart Disease ",
         "orientation": "v",
         "showlegend": true,
         "textposition": "auto",
         "type": "bar",
         "x": [
          "Heart Disease "
         ],
         "xaxis": "x",
         "y": [
          1217
         ],
         "yaxis": "y"
        }
       ],
       "frames": [
        {
         "data": [
          {
           "alignmentgroup": "True",
           "hovertemplate": "Research/Disease Areas \n (Dollars in millions and rounded)=%{x}<br>year=2008<br>value=%{y}<extra></extra>",
           "legendgroup": "Sepsis 15",
           "marker": {
            "color": "#636efa",
            "pattern": {
             "shape": ""
            }
           },
           "name": "Sepsis 15",
           "offsetgroup": "Sepsis 15",
           "orientation": "v",
           "showlegend": true,
           "textposition": "auto",
           "type": "bar",
           "x": [
            "Sepsis 15"
           ],
           "xaxis": "x",
           "y": [
            95
           ],
           "yaxis": "y"
          },
          {
           "alignmentgroup": "True",
           "hovertemplate": "Research/Disease Areas \n (Dollars in millions and rounded)=%{x}<br>year=2008<br>value=%{y}<extra></extra>",
           "legendgroup": "Stroke ",
           "marker": {
            "color": "#EF553B",
            "pattern": {
             "shape": ""
            }
           },
           "name": "Stroke ",
           "offsetgroup": "Stroke ",
           "orientation": "v",
           "showlegend": true,
           "textposition": "auto",
           "type": "bar",
           "x": [
            "Stroke "
           ],
           "xaxis": "x",
           "y": [
            296
           ],
           "yaxis": "y"
          },
          {
           "alignmentgroup": "True",
           "hovertemplate": "Research/Disease Areas \n (Dollars in millions and rounded)=%{x}<br>year=2008<br>value=%{y}<extra></extra>",
           "legendgroup": "Cerebrovascular ",
           "marker": {
            "color": "#00cc96",
            "pattern": {
             "shape": ""
            }
           },
           "name": "Cerebrovascular ",
           "offsetgroup": "Cerebrovascular ",
           "orientation": "v",
           "showlegend": true,
           "textposition": "auto",
           "type": "bar",
           "x": [
            "Cerebrovascular "
           ],
           "xaxis": "x",
           "y": [
            -1
           ],
           "yaxis": "y"
          },
          {
           "alignmentgroup": "True",
           "hovertemplate": "Research/Disease Areas \n (Dollars in millions and rounded)=%{x}<br>year=2008<br>value=%{y}<extra></extra>",
           "legendgroup": "Diabetes 4",
           "marker": {
            "color": "#ab63fa",
            "pattern": {
             "shape": ""
            }
           },
           "name": "Diabetes 4",
           "offsetgroup": "Diabetes 4",
           "orientation": "v",
           "showlegend": true,
           "textposition": "auto",
           "type": "bar",
           "x": [
            "Diabetes 4"
           ],
           "xaxis": "x",
           "y": [
            1080
           ],
           "yaxis": "y"
          },
          {
           "alignmentgroup": "True",
           "hovertemplate": "Research/Disease Areas \n (Dollars in millions and rounded)=%{x}<br>year=2008<br>value=%{y}<extra></extra>",
           "legendgroup": "Chronic Obstructive Pulmonary Disease ",
           "marker": {
            "color": "#FFA15A",
            "pattern": {
             "shape": ""
            }
           },
           "name": "Chronic Obstructive Pulmonary Disease ",
           "offsetgroup": "Chronic Obstructive Pulmonary Disease ",
           "orientation": "v",
           "showlegend": true,
           "textposition": "auto",
           "type": "bar",
           "x": [
            "Chronic Obstructive Pulmonary Disease "
           ],
           "xaxis": "x",
           "y": [
            75
           ],
           "yaxis": "y"
          },
          {
           "alignmentgroup": "True",
           "hovertemplate": "Research/Disease Areas \n (Dollars in millions and rounded)=%{x}<br>year=2008<br>value=%{y}<extra></extra>",
           "legendgroup": "Hypertension ",
           "marker": {
            "color": "#19d3f3",
            "pattern": {
             "shape": ""
            }
           },
           "name": "Hypertension ",
           "offsetgroup": "Hypertension ",
           "orientation": "v",
           "showlegend": true,
           "textposition": "auto",
           "type": "bar",
           "x": [
            "Hypertension "
           ],
           "xaxis": "x",
           "y": [
            263
           ],
           "yaxis": "y"
          },
          {
           "alignmentgroup": "True",
           "hovertemplate": "Research/Disease Areas \n (Dollars in millions and rounded)=%{x}<br>year=2008<br>value=%{y}<extra></extra>",
           "legendgroup": "Heart Disease - Coronary Heart Disease ",
           "marker": {
            "color": "#FF6692",
            "pattern": {
             "shape": ""
            }
           },
           "name": "Heart Disease - Coronary Heart Disease ",
           "offsetgroup": "Heart Disease - Coronary Heart Disease ",
           "orientation": "v",
           "showlegend": true,
           "textposition": "auto",
           "type": "bar",
           "x": [
            "Heart Disease - Coronary Heart Disease "
           ],
           "xaxis": "x",
           "y": [
            367
           ],
           "yaxis": "y"
          },
          {
           "alignmentgroup": "True",
           "hovertemplate": "Research/Disease Areas \n (Dollars in millions and rounded)=%{x}<br>year=2008<br>value=%{y}<extra></extra>",
           "legendgroup": "Cancer ",
           "marker": {
            "color": "#B6E880",
            "pattern": {
             "shape": ""
            }
           },
           "name": "Cancer ",
           "offsetgroup": "Cancer ",
           "orientation": "v",
           "showlegend": true,
           "textposition": "auto",
           "type": "bar",
           "x": [
            "Cancer "
           ],
           "xaxis": "x",
           "y": [
            5570
           ],
           "yaxis": "y"
          },
          {
           "alignmentgroup": "True",
           "hovertemplate": "Research/Disease Areas \n (Dollars in millions and rounded)=%{x}<br>year=2008<br>value=%{y}<extra></extra>",
           "legendgroup": "Cardiovascular ",
           "marker": {
            "color": "#FF97FF",
            "pattern": {
             "shape": ""
            }
           },
           "name": "Cardiovascular ",
           "offsetgroup": "Cardiovascular ",
           "orientation": "v",
           "showlegend": true,
           "textposition": "auto",
           "type": "bar",
           "x": [
            "Cardiovascular "
           ],
           "xaxis": "x",
           "y": [
            2027
           ],
           "yaxis": "y"
          },
          {
           "alignmentgroup": "True",
           "hovertemplate": "Research/Disease Areas \n (Dollars in millions and rounded)=%{x}<br>year=2008<br>value=%{y}<extra></extra>",
           "legendgroup": "Heart Disease ",
           "marker": {
            "color": "#FECB52",
            "pattern": {
             "shape": ""
            }
           },
           "name": "Heart Disease ",
           "offsetgroup": "Heart Disease ",
           "orientation": "v",
           "showlegend": true,
           "textposition": "auto",
           "type": "bar",
           "x": [
            "Heart Disease "
           ],
           "xaxis": "x",
           "y": [
            1217
           ],
           "yaxis": "y"
          }
         ],
         "name": "2008"
        },
        {
         "data": [
          {
           "alignmentgroup": "True",
           "hovertemplate": "Research/Disease Areas \n (Dollars in millions and rounded)=%{x}<br>year=2009<br>value=%{y}<extra></extra>",
           "legendgroup": "Sepsis 15",
           "marker": {
            "color": "#636efa",
            "pattern": {
             "shape": ""
            }
           },
           "name": "Sepsis 15",
           "offsetgroup": "Sepsis 15",
           "orientation": "v",
           "showlegend": true,
           "textposition": "auto",
           "type": "bar",
           "x": [
            "Sepsis 15"
           ],
           "xaxis": "x",
           "y": [
            111
           ],
           "yaxis": "y"
          },
          {
           "alignmentgroup": "True",
           "hovertemplate": "Research/Disease Areas \n (Dollars in millions and rounded)=%{x}<br>year=2009<br>value=%{y}<extra></extra>",
           "legendgroup": "Stroke ",
           "marker": {
            "color": "#EF553B",
            "pattern": {
             "shape": ""
            }
           },
           "name": "Stroke ",
           "offsetgroup": "Stroke ",
           "orientation": "v",
           "showlegend": true,
           "textposition": "auto",
           "type": "bar",
           "x": [
            "Stroke "
           ],
           "xaxis": "x",
           "y": [
            383
           ],
           "yaxis": "y"
          },
          {
           "alignmentgroup": "True",
           "hovertemplate": "Research/Disease Areas \n (Dollars in millions and rounded)=%{x}<br>year=2009<br>value=%{y}<extra></extra>",
           "legendgroup": "Cerebrovascular ",
           "marker": {
            "color": "#00cc96",
            "pattern": {
             "shape": ""
            }
           },
           "name": "Cerebrovascular ",
           "offsetgroup": "Cerebrovascular ",
           "orientation": "v",
           "showlegend": true,
           "textposition": "auto",
           "type": "bar",
           "x": [
            "Cerebrovascular "
           ],
           "xaxis": "x",
           "y": [
            -2
           ],
           "yaxis": "y"
          },
          {
           "alignmentgroup": "True",
           "hovertemplate": "Research/Disease Areas \n (Dollars in millions and rounded)=%{x}<br>year=2009<br>value=%{y}<extra></extra>",
           "legendgroup": "Diabetes 4",
           "marker": {
            "color": "#ab63fa",
            "pattern": {
             "shape": ""
            }
           },
           "name": "Diabetes 4",
           "offsetgroup": "Diabetes 4",
           "orientation": "v",
           "showlegend": true,
           "textposition": "auto",
           "type": "bar",
           "x": [
            "Diabetes 4"
           ],
           "xaxis": "x",
           "y": [
            1151
           ],
           "yaxis": "y"
          },
          {
           "alignmentgroup": "True",
           "hovertemplate": "Research/Disease Areas \n (Dollars in millions and rounded)=%{x}<br>year=2009<br>value=%{y}<extra></extra>",
           "legendgroup": "Chronic Obstructive Pulmonary Disease ",
           "marker": {
            "color": "#FFA15A",
            "pattern": {
             "shape": ""
            }
           },
           "name": "Chronic Obstructive Pulmonary Disease ",
           "offsetgroup": "Chronic Obstructive Pulmonary Disease ",
           "orientation": "v",
           "showlegend": true,
           "textposition": "auto",
           "type": "bar",
           "x": [
            "Chronic Obstructive Pulmonary Disease "
           ],
           "xaxis": "x",
           "y": [
            114
           ],
           "yaxis": "y"
          },
          {
           "alignmentgroup": "True",
           "hovertemplate": "Research/Disease Areas \n (Dollars in millions and rounded)=%{x}<br>year=2009<br>value=%{y}<extra></extra>",
           "legendgroup": "Hypertension ",
           "marker": {
            "color": "#19d3f3",
            "pattern": {
             "shape": ""
            }
           },
           "name": "Hypertension ",
           "offsetgroup": "Hypertension ",
           "orientation": "v",
           "showlegend": true,
           "textposition": "auto",
           "type": "bar",
           "x": [
            "Hypertension "
           ],
           "xaxis": "x",
           "y": [
            307
           ],
           "yaxis": "y"
          },
          {
           "alignmentgroup": "True",
           "hovertemplate": "Research/Disease Areas \n (Dollars in millions and rounded)=%{x}<br>year=2009<br>value=%{y}<extra></extra>",
           "legendgroup": "Heart Disease - Coronary Heart Disease ",
           "marker": {
            "color": "#FF6692",
            "pattern": {
             "shape": ""
            }
           },
           "name": "Heart Disease - Coronary Heart Disease ",
           "offsetgroup": "Heart Disease - Coronary Heart Disease ",
           "orientation": "v",
           "showlegend": true,
           "textposition": "auto",
           "type": "bar",
           "x": [
            "Heart Disease - Coronary Heart Disease "
           ],
           "xaxis": "x",
           "y": [
            524
           ],
           "yaxis": "y"
          },
          {
           "alignmentgroup": "True",
           "hovertemplate": "Research/Disease Areas \n (Dollars in millions and rounded)=%{x}<br>year=2009<br>value=%{y}<extra></extra>",
           "legendgroup": "Cancer ",
           "marker": {
            "color": "#B6E880",
            "pattern": {
             "shape": ""
            }
           },
           "name": "Cancer ",
           "offsetgroup": "Cancer ",
           "orientation": "v",
           "showlegend": true,
           "textposition": "auto",
           "type": "bar",
           "x": [
            "Cancer "
           ],
           "xaxis": "x",
           "y": [
            6749
           ],
           "yaxis": "y"
          },
          {
           "alignmentgroup": "True",
           "hovertemplate": "Research/Disease Areas \n (Dollars in millions and rounded)=%{x}<br>year=2009<br>value=%{y}<extra></extra>",
           "legendgroup": "Cardiovascular ",
           "marker": {
            "color": "#FF97FF",
            "pattern": {
             "shape": ""
            }
           },
           "name": "Cardiovascular ",
           "offsetgroup": "Cardiovascular ",
           "orientation": "v",
           "showlegend": true,
           "textposition": "auto",
           "type": "bar",
           "x": [
            "Cardiovascular "
           ],
           "xaxis": "x",
           "y": [
            2404
           ],
           "yaxis": "y"
          },
          {
           "alignmentgroup": "True",
           "hovertemplate": "Research/Disease Areas \n (Dollars in millions and rounded)=%{x}<br>year=2009<br>value=%{y}<extra></extra>",
           "legendgroup": "Heart Disease ",
           "marker": {
            "color": "#FECB52",
            "pattern": {
             "shape": ""
            }
           },
           "name": "Heart Disease ",
           "offsetgroup": "Heart Disease ",
           "orientation": "v",
           "showlegend": true,
           "textposition": "auto",
           "type": "bar",
           "x": [
            "Heart Disease "
           ],
           "xaxis": "x",
           "y": [
            1429
           ],
           "yaxis": "y"
          }
         ],
         "name": "2009"
        },
        {
         "data": [
          {
           "alignmentgroup": "True",
           "hovertemplate": "Research/Disease Areas \n (Dollars in millions and rounded)=%{x}<br>year=2010<br>value=%{y}<extra></extra>",
           "legendgroup": "Sepsis 15",
           "marker": {
            "color": "#636efa",
            "pattern": {
             "shape": ""
            }
           },
           "name": "Sepsis 15",
           "offsetgroup": "Sepsis 15",
           "orientation": "v",
           "showlegend": true,
           "textposition": "auto",
           "type": "bar",
           "x": [
            "Sepsis 15"
           ],
           "xaxis": "x",
           "y": [
            107
           ],
           "yaxis": "y"
          },
          {
           "alignmentgroup": "True",
           "hovertemplate": "Research/Disease Areas \n (Dollars in millions and rounded)=%{x}<br>year=2010<br>value=%{y}<extra></extra>",
           "legendgroup": "Stroke ",
           "marker": {
            "color": "#EF553B",
            "pattern": {
             "shape": ""
            }
           },
           "name": "Stroke ",
           "offsetgroup": "Stroke ",
           "orientation": "v",
           "showlegend": true,
           "textposition": "auto",
           "type": "bar",
           "x": [
            "Stroke "
           ],
           "xaxis": "x",
           "y": [
            391
           ],
           "yaxis": "y"
          },
          {
           "alignmentgroup": "True",
           "hovertemplate": "Research/Disease Areas \n (Dollars in millions and rounded)=%{x}<br>year=2010<br>value=%{y}<extra></extra>",
           "legendgroup": "Cerebrovascular ",
           "marker": {
            "color": "#00cc96",
            "pattern": {
             "shape": ""
            }
           },
           "name": "Cerebrovascular ",
           "offsetgroup": "Cerebrovascular ",
           "orientation": "v",
           "showlegend": true,
           "textposition": "auto",
           "type": "bar",
           "x": [
            "Cerebrovascular "
           ],
           "xaxis": "x",
           "y": [
            -2
           ],
           "yaxis": "y"
          },
          {
           "alignmentgroup": "True",
           "hovertemplate": "Research/Disease Areas \n (Dollars in millions and rounded)=%{x}<br>year=2010<br>value=%{y}<extra></extra>",
           "legendgroup": "Diabetes 4",
           "marker": {
            "color": "#ab63fa",
            "pattern": {
             "shape": ""
            }
           },
           "name": "Diabetes 4",
           "offsetgroup": "Diabetes 4",
           "orientation": "v",
           "showlegend": true,
           "textposition": "auto",
           "type": "bar",
           "x": [
            "Diabetes 4"
           ],
           "xaxis": "x",
           "y": [
            1199
           ],
           "yaxis": "y"
          },
          {
           "alignmentgroup": "True",
           "hovertemplate": "Research/Disease Areas \n (Dollars in millions and rounded)=%{x}<br>year=2010<br>value=%{y}<extra></extra>",
           "legendgroup": "Chronic Obstructive Pulmonary Disease ",
           "marker": {
            "color": "#FFA15A",
            "pattern": {
             "shape": ""
            }
           },
           "name": "Chronic Obstructive Pulmonary Disease ",
           "offsetgroup": "Chronic Obstructive Pulmonary Disease ",
           "orientation": "v",
           "showlegend": true,
           "textposition": "auto",
           "type": "bar",
           "x": [
            "Chronic Obstructive Pulmonary Disease "
           ],
           "xaxis": "x",
           "y": [
            133
           ],
           "yaxis": "y"
          },
          {
           "alignmentgroup": "True",
           "hovertemplate": "Research/Disease Areas \n (Dollars in millions and rounded)=%{x}<br>year=2010<br>value=%{y}<extra></extra>",
           "legendgroup": "Hypertension ",
           "marker": {
            "color": "#19d3f3",
            "pattern": {
             "shape": ""
            }
           },
           "name": "Hypertension ",
           "offsetgroup": "Hypertension ",
           "orientation": "v",
           "showlegend": true,
           "textposition": "auto",
           "type": "bar",
           "x": [
            "Hypertension "
           ],
           "xaxis": "x",
           "y": [
            301
           ],
           "yaxis": "y"
          },
          {
           "alignmentgroup": "True",
           "hovertemplate": "Research/Disease Areas \n (Dollars in millions and rounded)=%{x}<br>year=2010<br>value=%{y}<extra></extra>",
           "legendgroup": "Heart Disease - Coronary Heart Disease ",
           "marker": {
            "color": "#FF6692",
            "pattern": {
             "shape": ""
            }
           },
           "name": "Heart Disease - Coronary Heart Disease ",
           "offsetgroup": "Heart Disease - Coronary Heart Disease ",
           "orientation": "v",
           "showlegend": true,
           "textposition": "auto",
           "type": "bar",
           "x": [
            "Heart Disease - Coronary Heart Disease "
           ],
           "xaxis": "x",
           "y": [
            537
           ],
           "yaxis": "y"
          },
          {
           "alignmentgroup": "True",
           "hovertemplate": "Research/Disease Areas \n (Dollars in millions and rounded)=%{x}<br>year=2010<br>value=%{y}<extra></extra>",
           "legendgroup": "Cancer ",
           "marker": {
            "color": "#B6E880",
            "pattern": {
             "shape": ""
            }
           },
           "name": "Cancer ",
           "offsetgroup": "Cancer ",
           "orientation": "v",
           "showlegend": true,
           "textposition": "auto",
           "type": "bar",
           "x": [
            "Cancer "
           ],
           "xaxis": "x",
           "y": [
            6626
           ],
           "yaxis": "y"
          },
          {
           "alignmentgroup": "True",
           "hovertemplate": "Research/Disease Areas \n (Dollars in millions and rounded)=%{x}<br>year=2010<br>value=%{y}<extra></extra>",
           "legendgroup": "Cardiovascular ",
           "marker": {
            "color": "#FF97FF",
            "pattern": {
             "shape": ""
            }
           },
           "name": "Cardiovascular ",
           "offsetgroup": "Cardiovascular ",
           "orientation": "v",
           "showlegend": true,
           "textposition": "auto",
           "type": "bar",
           "x": [
            "Cardiovascular "
           ],
           "xaxis": "x",
           "y": [
            2542
           ],
           "yaxis": "y"
          },
          {
           "alignmentgroup": "True",
           "hovertemplate": "Research/Disease Areas \n (Dollars in millions and rounded)=%{x}<br>year=2010<br>value=%{y}<extra></extra>",
           "legendgroup": "Heart Disease ",
           "marker": {
            "color": "#FECB52",
            "pattern": {
             "shape": ""
            }
           },
           "name": "Heart Disease ",
           "offsetgroup": "Heart Disease ",
           "orientation": "v",
           "showlegend": true,
           "textposition": "auto",
           "type": "bar",
           "x": [
            "Heart Disease "
           ],
           "xaxis": "x",
           "y": [
            1564
           ],
           "yaxis": "y"
          }
         ],
         "name": "2010"
        },
        {
         "data": [
          {
           "alignmentgroup": "True",
           "hovertemplate": "Research/Disease Areas \n (Dollars in millions and rounded)=%{x}<br>year=2011<br>value=%{y}<extra></extra>",
           "legendgroup": "Sepsis 15",
           "marker": {
            "color": "#636efa",
            "pattern": {
             "shape": ""
            }
           },
           "name": "Sepsis 15",
           "offsetgroup": "Sepsis 15",
           "orientation": "v",
           "showlegend": true,
           "textposition": "auto",
           "type": "bar",
           "x": [
            "Sepsis 15"
           ],
           "xaxis": "x",
           "y": [
            91
           ],
           "yaxis": "y"
          },
          {
           "alignmentgroup": "True",
           "hovertemplate": "Research/Disease Areas \n (Dollars in millions and rounded)=%{x}<br>year=2011<br>value=%{y}<extra></extra>",
           "legendgroup": "Stroke ",
           "marker": {
            "color": "#EF553B",
            "pattern": {
             "shape": ""
            }
           },
           "name": "Stroke ",
           "offsetgroup": "Stroke ",
           "orientation": "v",
           "showlegend": true,
           "textposition": "auto",
           "type": "bar",
           "x": [
            "Stroke "
           ],
           "xaxis": "x",
           "y": [
            317
           ],
           "yaxis": "y"
          },
          {
           "alignmentgroup": "True",
           "hovertemplate": "Research/Disease Areas \n (Dollars in millions and rounded)=%{x}<br>year=2011<br>value=%{y}<extra></extra>",
           "legendgroup": "Cerebrovascular ",
           "marker": {
            "color": "#00cc96",
            "pattern": {
             "shape": ""
            }
           },
           "name": "Cerebrovascular ",
           "offsetgroup": "Cerebrovascular ",
           "orientation": "v",
           "showlegend": true,
           "textposition": "auto",
           "type": "bar",
           "x": [
            "Cerebrovascular "
           ],
           "xaxis": "x",
           "y": [
            -1
           ],
           "yaxis": "y"
          },
          {
           "alignmentgroup": "True",
           "hovertemplate": "Research/Disease Areas \n (Dollars in millions and rounded)=%{x}<br>year=2011<br>value=%{y}<extra></extra>",
           "legendgroup": "Diabetes 4",
           "marker": {
            "color": "#ab63fa",
            "pattern": {
             "shape": ""
            }
           },
           "name": "Diabetes 4",
           "offsetgroup": "Diabetes 4",
           "orientation": "v",
           "showlegend": true,
           "textposition": "auto",
           "type": "bar",
           "x": [
            "Diabetes 4"
           ],
           "xaxis": "x",
           "y": [
            1076
           ],
           "yaxis": "y"
          },
          {
           "alignmentgroup": "True",
           "hovertemplate": "Research/Disease Areas \n (Dollars in millions and rounded)=%{x}<br>year=2011<br>value=%{y}<extra></extra>",
           "legendgroup": "Chronic Obstructive Pulmonary Disease ",
           "marker": {
            "color": "#FFA15A",
            "pattern": {
             "shape": ""
            }
           },
           "name": "Chronic Obstructive Pulmonary Disease ",
           "offsetgroup": "Chronic Obstructive Pulmonary Disease ",
           "orientation": "v",
           "showlegend": true,
           "textposition": "auto",
           "type": "bar",
           "x": [
            "Chronic Obstructive Pulmonary Disease "
           ],
           "xaxis": "x",
           "y": [
            108
           ],
           "yaxis": "y"
          },
          {
           "alignmentgroup": "True",
           "hovertemplate": "Research/Disease Areas \n (Dollars in millions and rounded)=%{x}<br>year=2011<br>value=%{y}<extra></extra>",
           "legendgroup": "Hypertension ",
           "marker": {
            "color": "#19d3f3",
            "pattern": {
             "shape": ""
            }
           },
           "name": "Hypertension ",
           "offsetgroup": "Hypertension ",
           "orientation": "v",
           "showlegend": true,
           "textposition": "auto",
           "type": "bar",
           "x": [
            "Hypertension "
           ],
           "xaxis": "x",
           "y": [
            240
           ],
           "yaxis": "y"
          },
          {
           "alignmentgroup": "True",
           "hovertemplate": "Research/Disease Areas \n (Dollars in millions and rounded)=%{x}<br>year=2011<br>value=%{y}<extra></extra>",
           "legendgroup": "Heart Disease - Coronary Heart Disease ",
           "marker": {
            "color": "#FF6692",
            "pattern": {
             "shape": ""
            }
           },
           "name": "Heart Disease - Coronary Heart Disease ",
           "offsetgroup": "Heart Disease - Coronary Heart Disease ",
           "orientation": "v",
           "showlegend": true,
           "textposition": "auto",
           "type": "bar",
           "x": [
            "Heart Disease - Coronary Heart Disease "
           ],
           "xaxis": "x",
           "y": [
            437
           ],
           "yaxis": "y"
          },
          {
           "alignmentgroup": "True",
           "hovertemplate": "Research/Disease Areas \n (Dollars in millions and rounded)=%{x}<br>year=2011<br>value=%{y}<extra></extra>",
           "legendgroup": "Cancer ",
           "marker": {
            "color": "#B6E880",
            "pattern": {
             "shape": ""
            }
           },
           "name": "Cancer ",
           "offsetgroup": "Cancer ",
           "orientation": "v",
           "showlegend": true,
           "textposition": "auto",
           "type": "bar",
           "x": [
            "Cancer "
           ],
           "xaxis": "x",
           "y": [
            5448
           ],
           "yaxis": "y"
          },
          {
           "alignmentgroup": "True",
           "hovertemplate": "Research/Disease Areas \n (Dollars in millions and rounded)=%{x}<br>year=2011<br>value=%{y}<extra></extra>",
           "legendgroup": "Cardiovascular ",
           "marker": {
            "color": "#FF97FF",
            "pattern": {
             "shape": ""
            }
           },
           "name": "Cardiovascular ",
           "offsetgroup": "Cardiovascular ",
           "orientation": "v",
           "showlegend": true,
           "textposition": "auto",
           "type": "bar",
           "x": [
            "Cardiovascular "
           ],
           "xaxis": "x",
           "y": [
            2049
           ],
           "yaxis": "y"
          },
          {
           "alignmentgroup": "True",
           "hovertemplate": "Research/Disease Areas \n (Dollars in millions and rounded)=%{x}<br>year=2011<br>value=%{y}<extra></extra>",
           "legendgroup": "Heart Disease ",
           "marker": {
            "color": "#FECB52",
            "pattern": {
             "shape": ""
            }
           },
           "name": "Heart Disease ",
           "offsetgroup": "Heart Disease ",
           "orientation": "v",
           "showlegend": true,
           "textposition": "auto",
           "type": "bar",
           "x": [
            "Heart Disease "
           ],
           "xaxis": "x",
           "y": [
            1236
           ],
           "yaxis": "y"
          }
         ],
         "name": "2011"
        },
        {
         "data": [
          {
           "alignmentgroup": "True",
           "hovertemplate": "Research/Disease Areas \n (Dollars in millions and rounded)=%{x}<br>year=2012<br>value=%{y}<extra></extra>",
           "legendgroup": "Sepsis 15",
           "marker": {
            "color": "#636efa",
            "pattern": {
             "shape": ""
            }
           },
           "name": "Sepsis 15",
           "offsetgroup": "Sepsis 15",
           "orientation": "v",
           "showlegend": true,
           "textposition": "auto",
           "type": "bar",
           "x": [
            "Sepsis 15"
           ],
           "xaxis": "x",
           "y": [
            96
           ],
           "yaxis": "y"
          },
          {
           "alignmentgroup": "True",
           "hovertemplate": "Research/Disease Areas \n (Dollars in millions and rounded)=%{x}<br>year=2012<br>value=%{y}<extra></extra>",
           "legendgroup": "Stroke ",
           "marker": {
            "color": "#EF553B",
            "pattern": {
             "shape": ""
            }
           },
           "name": "Stroke ",
           "offsetgroup": "Stroke ",
           "orientation": "v",
           "showlegend": true,
           "textposition": "auto",
           "type": "bar",
           "x": [
            "Stroke "
           ],
           "xaxis": "x",
           "y": [
            310
           ],
           "yaxis": "y"
          },
          {
           "alignmentgroup": "True",
           "hovertemplate": "Research/Disease Areas \n (Dollars in millions and rounded)=%{x}<br>year=2012<br>value=%{y}<extra></extra>",
           "legendgroup": "Cerebrovascular ",
           "marker": {
            "color": "#00cc96",
            "pattern": {
             "shape": ""
            }
           },
           "name": "Cerebrovascular ",
           "offsetgroup": "Cerebrovascular ",
           "orientation": "v",
           "showlegend": true,
           "textposition": "auto",
           "type": "bar",
           "x": [
            "Cerebrovascular "
           ],
           "xaxis": "x",
           "y": [
            -1
           ],
           "yaxis": "y"
          },
          {
           "alignmentgroup": "True",
           "hovertemplate": "Research/Disease Areas \n (Dollars in millions and rounded)=%{x}<br>year=2012<br>value=%{y}<extra></extra>",
           "legendgroup": "Diabetes 4",
           "marker": {
            "color": "#ab63fa",
            "pattern": {
             "shape": ""
            }
           },
           "name": "Diabetes 4",
           "offsetgroup": "Diabetes 4",
           "orientation": "v",
           "showlegend": true,
           "textposition": "auto",
           "type": "bar",
           "x": [
            "Diabetes 4"
           ],
           "xaxis": "x",
           "y": [
            1061
           ],
           "yaxis": "y"
          },
          {
           "alignmentgroup": "True",
           "hovertemplate": "Research/Disease Areas \n (Dollars in millions and rounded)=%{x}<br>year=2012<br>value=%{y}<extra></extra>",
           "legendgroup": "Chronic Obstructive Pulmonary Disease ",
           "marker": {
            "color": "#FFA15A",
            "pattern": {
             "shape": ""
            }
           },
           "name": "Chronic Obstructive Pulmonary Disease ",
           "offsetgroup": "Chronic Obstructive Pulmonary Disease ",
           "orientation": "v",
           "showlegend": true,
           "textposition": "auto",
           "type": "bar",
           "x": [
            "Chronic Obstructive Pulmonary Disease "
           ],
           "xaxis": "x",
           "y": [
            101
           ],
           "yaxis": "y"
          },
          {
           "alignmentgroup": "True",
           "hovertemplate": "Research/Disease Areas \n (Dollars in millions and rounded)=%{x}<br>year=2012<br>value=%{y}<extra></extra>",
           "legendgroup": "Hypertension ",
           "marker": {
            "color": "#19d3f3",
            "pattern": {
             "shape": ""
            }
           },
           "name": "Hypertension ",
           "offsetgroup": "Hypertension ",
           "orientation": "v",
           "showlegend": true,
           "textposition": "auto",
           "type": "bar",
           "x": [
            "Hypertension "
           ],
           "xaxis": "x",
           "y": [
            215
           ],
           "yaxis": "y"
          },
          {
           "alignmentgroup": "True",
           "hovertemplate": "Research/Disease Areas \n (Dollars in millions and rounded)=%{x}<br>year=2012<br>value=%{y}<extra></extra>",
           "legendgroup": "Heart Disease - Coronary Heart Disease ",
           "marker": {
            "color": "#FF6692",
            "pattern": {
             "shape": ""
            }
           },
           "name": "Heart Disease - Coronary Heart Disease ",
           "offsetgroup": "Heart Disease - Coronary Heart Disease ",
           "orientation": "v",
           "showlegend": true,
           "textposition": "auto",
           "type": "bar",
           "x": [
            "Heart Disease - Coronary Heart Disease "
           ],
           "xaxis": "x",
           "y": [
            468
           ],
           "yaxis": "y"
          },
          {
           "alignmentgroup": "True",
           "hovertemplate": "Research/Disease Areas \n (Dollars in millions and rounded)=%{x}<br>year=2012<br>value=%{y}<extra></extra>",
           "legendgroup": "Cancer ",
           "marker": {
            "color": "#B6E880",
            "pattern": {
             "shape": ""
            }
           },
           "name": "Cancer ",
           "offsetgroup": "Cancer ",
           "orientation": "v",
           "showlegend": true,
           "textposition": "auto",
           "type": "bar",
           "x": [
            "Cancer "
           ],
           "xaxis": "x",
           "y": [
            5621
           ],
           "yaxis": "y"
          },
          {
           "alignmentgroup": "True",
           "hovertemplate": "Research/Disease Areas \n (Dollars in millions and rounded)=%{x}<br>year=2012<br>value=%{y}<extra></extra>",
           "legendgroup": "Cardiovascular ",
           "marker": {
            "color": "#FF97FF",
            "pattern": {
             "shape": ""
            }
           },
           "name": "Cardiovascular ",
           "offsetgroup": "Cardiovascular ",
           "orientation": "v",
           "showlegend": true,
           "textposition": "auto",
           "type": "bar",
           "x": [
            "Cardiovascular "
           ],
           "xaxis": "x",
           "y": [
            2040
           ],
           "yaxis": "y"
          },
          {
           "alignmentgroup": "True",
           "hovertemplate": "Research/Disease Areas \n (Dollars in millions and rounded)=%{x}<br>year=2012<br>value=%{y}<extra></extra>",
           "legendgroup": "Heart Disease ",
           "marker": {
            "color": "#FECB52",
            "pattern": {
             "shape": ""
            }
           },
           "name": "Heart Disease ",
           "offsetgroup": "Heart Disease ",
           "orientation": "v",
           "showlegend": true,
           "textposition": "auto",
           "type": "bar",
           "x": [
            "Heart Disease "
           ],
           "xaxis": "x",
           "y": [
            1278
           ],
           "yaxis": "y"
          }
         ],
         "name": "2012"
        },
        {
         "data": [
          {
           "alignmentgroup": "True",
           "hovertemplate": "Research/Disease Areas \n (Dollars in millions and rounded)=%{x}<br>year=2013<br>value=%{y}<extra></extra>",
           "legendgroup": "Sepsis 15",
           "marker": {
            "color": "#636efa",
            "pattern": {
             "shape": ""
            }
           },
           "name": "Sepsis 15",
           "offsetgroup": "Sepsis 15",
           "orientation": "v",
           "showlegend": true,
           "textposition": "auto",
           "type": "bar",
           "x": [
            "Sepsis 15"
           ],
           "xaxis": "x",
           "y": [
            88
           ],
           "yaxis": "y"
          },
          {
           "alignmentgroup": "True",
           "hovertemplate": "Research/Disease Areas \n (Dollars in millions and rounded)=%{x}<br>year=2013<br>value=%{y}<extra></extra>",
           "legendgroup": "Stroke ",
           "marker": {
            "color": "#EF553B",
            "pattern": {
             "shape": ""
            }
           },
           "name": "Stroke ",
           "offsetgroup": "Stroke ",
           "orientation": "v",
           "showlegend": true,
           "textposition": "auto",
           "type": "bar",
           "x": [
            "Stroke "
           ],
           "xaxis": "x",
           "y": [
            282
           ],
           "yaxis": "y"
          },
          {
           "alignmentgroup": "True",
           "hovertemplate": "Research/Disease Areas \n (Dollars in millions and rounded)=%{x}<br>year=2013<br>value=%{y}<extra></extra>",
           "legendgroup": "Cerebrovascular ",
           "marker": {
            "color": "#00cc96",
            "pattern": {
             "shape": ""
            }
           },
           "name": "Cerebrovascular ",
           "offsetgroup": "Cerebrovascular ",
           "orientation": "v",
           "showlegend": true,
           "textposition": "auto",
           "type": "bar",
           "x": [
            "Cerebrovascular "
           ],
           "xaxis": "x",
           "y": [
            -1
           ],
           "yaxis": "y"
          },
          {
           "alignmentgroup": "True",
           "hovertemplate": "Research/Disease Areas \n (Dollars in millions and rounded)=%{x}<br>year=2013<br>value=%{y}<extra></extra>",
           "legendgroup": "Diabetes 4",
           "marker": {
            "color": "#ab63fa",
            "pattern": {
             "shape": ""
            }
           },
           "name": "Diabetes 4",
           "offsetgroup": "Diabetes 4",
           "orientation": "v",
           "showlegend": true,
           "textposition": "auto",
           "type": "bar",
           "x": [
            "Diabetes 4"
           ],
           "xaxis": "x",
           "y": [
            1007
           ],
           "yaxis": "y"
          },
          {
           "alignmentgroup": "True",
           "hovertemplate": "Research/Disease Areas \n (Dollars in millions and rounded)=%{x}<br>year=2013<br>value=%{y}<extra></extra>",
           "legendgroup": "Chronic Obstructive Pulmonary Disease ",
           "marker": {
            "color": "#FFA15A",
            "pattern": {
             "shape": ""
            }
           },
           "name": "Chronic Obstructive Pulmonary Disease ",
           "offsetgroup": "Chronic Obstructive Pulmonary Disease ",
           "orientation": "v",
           "showlegend": true,
           "textposition": "auto",
           "type": "bar",
           "x": [
            "Chronic Obstructive Pulmonary Disease "
           ],
           "xaxis": "x",
           "y": [
            102
           ],
           "yaxis": "y"
          },
          {
           "alignmentgroup": "True",
           "hovertemplate": "Research/Disease Areas \n (Dollars in millions and rounded)=%{x}<br>year=2013<br>value=%{y}<extra></extra>",
           "legendgroup": "Hypertension ",
           "marker": {
            "color": "#19d3f3",
            "pattern": {
             "shape": ""
            }
           },
           "name": "Hypertension ",
           "offsetgroup": "Hypertension ",
           "orientation": "v",
           "showlegend": true,
           "textposition": "auto",
           "type": "bar",
           "x": [
            "Hypertension "
           ],
           "xaxis": "x",
           "y": [
            222
           ],
           "yaxis": "y"
          },
          {
           "alignmentgroup": "True",
           "hovertemplate": "Research/Disease Areas \n (Dollars in millions and rounded)=%{x}<br>year=2013<br>value=%{y}<extra></extra>",
           "legendgroup": "Heart Disease - Coronary Heart Disease ",
           "marker": {
            "color": "#FF6692",
            "pattern": {
             "shape": ""
            }
           },
           "name": "Heart Disease - Coronary Heart Disease ",
           "offsetgroup": "Heart Disease - Coronary Heart Disease ",
           "orientation": "v",
           "showlegend": true,
           "textposition": "auto",
           "type": "bar",
           "x": [
            "Heart Disease - Coronary Heart Disease "
           ],
           "xaxis": "x",
           "y": [
            404
           ],
           "yaxis": "y"
          },
          {
           "alignmentgroup": "True",
           "hovertemplate": "Research/Disease Areas \n (Dollars in millions and rounded)=%{x}<br>year=2013<br>value=%{y}<extra></extra>",
           "legendgroup": "Cancer ",
           "marker": {
            "color": "#B6E880",
            "pattern": {
             "shape": ""
            }
           },
           "name": "Cancer ",
           "offsetgroup": "Cancer ",
           "orientation": "v",
           "showlegend": true,
           "textposition": "auto",
           "type": "bar",
           "x": [
            "Cancer "
           ],
           "xaxis": "x",
           "y": [
            5274
           ],
           "yaxis": "y"
          },
          {
           "alignmentgroup": "True",
           "hovertemplate": "Research/Disease Areas \n (Dollars in millions and rounded)=%{x}<br>year=2013<br>value=%{y}<extra></extra>",
           "legendgroup": "Cardiovascular ",
           "marker": {
            "color": "#FF97FF",
            "pattern": {
             "shape": ""
            }
           },
           "name": "Cardiovascular ",
           "offsetgroup": "Cardiovascular ",
           "orientation": "v",
           "showlegend": true,
           "textposition": "auto",
           "type": "bar",
           "x": [
            "Cardiovascular "
           ],
           "xaxis": "x",
           "y": [
            1964
           ],
           "yaxis": "y"
          },
          {
           "alignmentgroup": "True",
           "hovertemplate": "Research/Disease Areas \n (Dollars in millions and rounded)=%{x}<br>year=2013<br>value=%{y}<extra></extra>",
           "legendgroup": "Heart Disease ",
           "marker": {
            "color": "#FECB52",
            "pattern": {
             "shape": ""
            }
           },
           "name": "Heart Disease ",
           "offsetgroup": "Heart Disease ",
           "orientation": "v",
           "showlegend": true,
           "textposition": "auto",
           "type": "bar",
           "x": [
            "Heart Disease "
           ],
           "xaxis": "x",
           "y": [
            1230
           ],
           "yaxis": "y"
          }
         ],
         "name": "2013"
        },
        {
         "data": [
          {
           "alignmentgroup": "True",
           "hovertemplate": "Research/Disease Areas \n (Dollars in millions and rounded)=%{x}<br>year=2014<br>value=%{y}<extra></extra>",
           "legendgroup": "Sepsis 15",
           "marker": {
            "color": "#636efa",
            "pattern": {
             "shape": ""
            }
           },
           "name": "Sepsis 15",
           "offsetgroup": "Sepsis 15",
           "orientation": "v",
           "showlegend": true,
           "textposition": "auto",
           "type": "bar",
           "x": [
            "Sepsis 15"
           ],
           "xaxis": "x",
           "y": [
            100
           ],
           "yaxis": "y"
          },
          {
           "alignmentgroup": "True",
           "hovertemplate": "Research/Disease Areas \n (Dollars in millions and rounded)=%{x}<br>year=2014<br>value=%{y}<extra></extra>",
           "legendgroup": "Stroke ",
           "marker": {
            "color": "#EF553B",
            "pattern": {
             "shape": ""
            }
           },
           "name": "Stroke ",
           "offsetgroup": "Stroke ",
           "orientation": "v",
           "showlegend": true,
           "textposition": "auto",
           "type": "bar",
           "x": [
            "Stroke "
           ],
           "xaxis": "x",
           "y": [
            300
           ],
           "yaxis": "y"
          },
          {
           "alignmentgroup": "True",
           "hovertemplate": "Research/Disease Areas \n (Dollars in millions and rounded)=%{x}<br>year=2014<br>value=%{y}<extra></extra>",
           "legendgroup": "Cerebrovascular ",
           "marker": {
            "color": "#00cc96",
            "pattern": {
             "shape": ""
            }
           },
           "name": "Cerebrovascular ",
           "offsetgroup": "Cerebrovascular ",
           "orientation": "v",
           "showlegend": true,
           "textposition": "auto",
           "type": "bar",
           "x": [
            "Cerebrovascular "
           ],
           "xaxis": "x",
           "y": [
            -1
           ],
           "yaxis": "y"
          },
          {
           "alignmentgroup": "True",
           "hovertemplate": "Research/Disease Areas \n (Dollars in millions and rounded)=%{x}<br>year=2014<br>value=%{y}<extra></extra>",
           "legendgroup": "Diabetes 4",
           "marker": {
            "color": "#ab63fa",
            "pattern": {
             "shape": ""
            }
           },
           "name": "Diabetes 4",
           "offsetgroup": "Diabetes 4",
           "orientation": "v",
           "showlegend": true,
           "textposition": "auto",
           "type": "bar",
           "x": [
            "Diabetes 4"
           ],
           "xaxis": "x",
           "y": [
            1011
           ],
           "yaxis": "y"
          },
          {
           "alignmentgroup": "True",
           "hovertemplate": "Research/Disease Areas \n (Dollars in millions and rounded)=%{x}<br>year=2014<br>value=%{y}<extra></extra>",
           "legendgroup": "Chronic Obstructive Pulmonary Disease ",
           "marker": {
            "color": "#FFA15A",
            "pattern": {
             "shape": ""
            }
           },
           "name": "Chronic Obstructive Pulmonary Disease ",
           "offsetgroup": "Chronic Obstructive Pulmonary Disease ",
           "orientation": "v",
           "showlegend": true,
           "textposition": "auto",
           "type": "bar",
           "x": [
            "Chronic Obstructive Pulmonary Disease "
           ],
           "xaxis": "x",
           "y": [
            107
           ],
           "yaxis": "y"
          },
          {
           "alignmentgroup": "True",
           "hovertemplate": "Research/Disease Areas \n (Dollars in millions and rounded)=%{x}<br>year=2014<br>value=%{y}<extra></extra>",
           "legendgroup": "Hypertension ",
           "marker": {
            "color": "#19d3f3",
            "pattern": {
             "shape": ""
            }
           },
           "name": "Hypertension ",
           "offsetgroup": "Hypertension ",
           "orientation": "v",
           "showlegend": true,
           "textposition": "auto",
           "type": "bar",
           "x": [
            "Hypertension "
           ],
           "xaxis": "x",
           "y": [
            216
           ],
           "yaxis": "y"
          },
          {
           "alignmentgroup": "True",
           "hovertemplate": "Research/Disease Areas \n (Dollars in millions and rounded)=%{x}<br>year=2014<br>value=%{y}<extra></extra>",
           "legendgroup": "Heart Disease - Coronary Heart Disease ",
           "marker": {
            "color": "#FF6692",
            "pattern": {
             "shape": ""
            }
           },
           "name": "Heart Disease - Coronary Heart Disease ",
           "offsetgroup": "Heart Disease - Coronary Heart Disease ",
           "orientation": "v",
           "showlegend": true,
           "textposition": "auto",
           "type": "bar",
           "x": [
            "Heart Disease - Coronary Heart Disease "
           ],
           "xaxis": "x",
           "y": [
            421
           ],
           "yaxis": "y"
          },
          {
           "alignmentgroup": "True",
           "hovertemplate": "Research/Disease Areas \n (Dollars in millions and rounded)=%{x}<br>year=2014<br>value=%{y}<extra></extra>",
           "legendgroup": "Cancer ",
           "marker": {
            "color": "#B6E880",
            "pattern": {
             "shape": ""
            }
           },
           "name": "Cancer ",
           "offsetgroup": "Cancer ",
           "orientation": "v",
           "showlegend": true,
           "textposition": "auto",
           "type": "bar",
           "x": [
            "Cancer "
           ],
           "xaxis": "x",
           "y": [
            5392
           ],
           "yaxis": "y"
          },
          {
           "alignmentgroup": "True",
           "hovertemplate": "Research/Disease Areas \n (Dollars in millions and rounded)=%{x}<br>year=2014<br>value=%{y}<extra></extra>",
           "legendgroup": "Cardiovascular ",
           "marker": {
            "color": "#FF97FF",
            "pattern": {
             "shape": ""
            }
           },
           "name": "Cardiovascular ",
           "offsetgroup": "Cardiovascular ",
           "orientation": "v",
           "showlegend": true,
           "textposition": "auto",
           "type": "bar",
           "x": [
            "Cardiovascular "
           ],
           "xaxis": "x",
           "y": [
            1950
           ],
           "yaxis": "y"
          },
          {
           "alignmentgroup": "True",
           "hovertemplate": "Research/Disease Areas \n (Dollars in millions and rounded)=%{x}<br>year=2014<br>value=%{y}<extra></extra>",
           "legendgroup": "Heart Disease ",
           "marker": {
            "color": "#FECB52",
            "pattern": {
             "shape": ""
            }
           },
           "name": "Heart Disease ",
           "offsetgroup": "Heart Disease ",
           "orientation": "v",
           "showlegend": true,
           "textposition": "auto",
           "type": "bar",
           "x": [
            "Heart Disease "
           ],
           "xaxis": "x",
           "y": [
            1224
           ],
           "yaxis": "y"
          }
         ],
         "name": "2014"
        },
        {
         "data": [
          {
           "alignmentgroup": "True",
           "hovertemplate": "Research/Disease Areas \n (Dollars in millions and rounded)=%{x}<br>year=2015<br>value=%{y}<extra></extra>",
           "legendgroup": "Sepsis 15",
           "marker": {
            "color": "#636efa",
            "pattern": {
             "shape": ""
            }
           },
           "name": "Sepsis 15",
           "offsetgroup": "Sepsis 15",
           "orientation": "v",
           "showlegend": true,
           "textposition": "auto",
           "type": "bar",
           "x": [
            "Sepsis 15"
           ],
           "xaxis": "x",
           "y": [
            103
           ],
           "yaxis": "y"
          },
          {
           "alignmentgroup": "True",
           "hovertemplate": "Research/Disease Areas \n (Dollars in millions and rounded)=%{x}<br>year=2015<br>value=%{y}<extra></extra>",
           "legendgroup": "Stroke ",
           "marker": {
            "color": "#EF553B",
            "pattern": {
             "shape": ""
            }
           },
           "name": "Stroke ",
           "offsetgroup": "Stroke ",
           "orientation": "v",
           "showlegend": true,
           "textposition": "auto",
           "type": "bar",
           "x": [
            "Stroke "
           ],
           "xaxis": "x",
           "y": [
            288
           ],
           "yaxis": "y"
          },
          {
           "alignmentgroup": "True",
           "hovertemplate": "Research/Disease Areas \n (Dollars in millions and rounded)=%{x}<br>year=2015<br>value=%{y}<extra></extra>",
           "legendgroup": "Cerebrovascular ",
           "marker": {
            "color": "#00cc96",
            "pattern": {
             "shape": ""
            }
           },
           "name": "Cerebrovascular ",
           "offsetgroup": "Cerebrovascular ",
           "orientation": "v",
           "showlegend": true,
           "textposition": "auto",
           "type": "bar",
           "x": [
            "Cerebrovascular "
           ],
           "xaxis": "x",
           "y": [
            -1
           ],
           "yaxis": "y"
          },
          {
           "alignmentgroup": "True",
           "hovertemplate": "Research/Disease Areas \n (Dollars in millions and rounded)=%{x}<br>year=2015<br>value=%{y}<extra></extra>",
           "legendgroup": "Diabetes 4",
           "marker": {
            "color": "#ab63fa",
            "pattern": {
             "shape": ""
            }
           },
           "name": "Diabetes 4",
           "offsetgroup": "Diabetes 4",
           "orientation": "v",
           "showlegend": true,
           "textposition": "auto",
           "type": "bar",
           "x": [
            "Diabetes 4"
           ],
           "xaxis": "x",
           "y": [
            1010
           ],
           "yaxis": "y"
          },
          {
           "alignmentgroup": "True",
           "hovertemplate": "Research/Disease Areas \n (Dollars in millions and rounded)=%{x}<br>year=2015<br>value=%{y}<extra></extra>",
           "legendgroup": "Chronic Obstructive Pulmonary Disease ",
           "marker": {
            "color": "#FFA15A",
            "pattern": {
             "shape": ""
            }
           },
           "name": "Chronic Obstructive Pulmonary Disease ",
           "offsetgroup": "Chronic Obstructive Pulmonary Disease ",
           "orientation": "v",
           "showlegend": true,
           "textposition": "auto",
           "type": "bar",
           "x": [
            "Chronic Obstructive Pulmonary Disease "
           ],
           "xaxis": "x",
           "y": [
            97
           ],
           "yaxis": "y"
          },
          {
           "alignmentgroup": "True",
           "hovertemplate": "Research/Disease Areas \n (Dollars in millions and rounded)=%{x}<br>year=2015<br>value=%{y}<extra></extra>",
           "legendgroup": "Hypertension ",
           "marker": {
            "color": "#19d3f3",
            "pattern": {
             "shape": ""
            }
           },
           "name": "Hypertension ",
           "offsetgroup": "Hypertension ",
           "orientation": "v",
           "showlegend": true,
           "textposition": "auto",
           "type": "bar",
           "x": [
            "Hypertension "
           ],
           "xaxis": "x",
           "y": [
            214
           ],
           "yaxis": "y"
          },
          {
           "alignmentgroup": "True",
           "hovertemplate": "Research/Disease Areas \n (Dollars in millions and rounded)=%{x}<br>year=2015<br>value=%{y}<extra></extra>",
           "legendgroup": "Heart Disease - Coronary Heart Disease ",
           "marker": {
            "color": "#FF6692",
            "pattern": {
             "shape": ""
            }
           },
           "name": "Heart Disease - Coronary Heart Disease ",
           "offsetgroup": "Heart Disease - Coronary Heart Disease ",
           "orientation": "v",
           "showlegend": true,
           "textposition": "auto",
           "type": "bar",
           "x": [
            "Heart Disease - Coronary Heart Disease "
           ],
           "xaxis": "x",
           "y": [
            426
           ],
           "yaxis": "y"
          },
          {
           "alignmentgroup": "True",
           "hovertemplate": "Research/Disease Areas \n (Dollars in millions and rounded)=%{x}<br>year=2015<br>value=%{y}<extra></extra>",
           "legendgroup": "Cancer ",
           "marker": {
            "color": "#B6E880",
            "pattern": {
             "shape": ""
            }
           },
           "name": "Cancer ",
           "offsetgroup": "Cancer ",
           "orientation": "v",
           "showlegend": true,
           "textposition": "auto",
           "type": "bar",
           "x": [
            "Cancer "
           ],
           "xaxis": "x",
           "y": [
            5389
           ],
           "yaxis": "y"
          },
          {
           "alignmentgroup": "True",
           "hovertemplate": "Research/Disease Areas \n (Dollars in millions and rounded)=%{x}<br>year=2015<br>value=%{y}<extra></extra>",
           "legendgroup": "Cardiovascular ",
           "marker": {
            "color": "#FF97FF",
            "pattern": {
             "shape": ""
            }
           },
           "name": "Cardiovascular ",
           "offsetgroup": "Cardiovascular ",
           "orientation": "v",
           "showlegend": true,
           "textposition": "auto",
           "type": "bar",
           "x": [
            "Cardiovascular "
           ],
           "xaxis": "x",
           "y": [
            1991
           ],
           "yaxis": "y"
          },
          {
           "alignmentgroup": "True",
           "hovertemplate": "Research/Disease Areas \n (Dollars in millions and rounded)=%{x}<br>year=2015<br>value=%{y}<extra></extra>",
           "legendgroup": "Heart Disease ",
           "marker": {
            "color": "#FECB52",
            "pattern": {
             "shape": ""
            }
           },
           "name": "Heart Disease ",
           "offsetgroup": "Heart Disease ",
           "orientation": "v",
           "showlegend": true,
           "textposition": "auto",
           "type": "bar",
           "x": [
            "Heart Disease "
           ],
           "xaxis": "x",
           "y": [
            1262
           ],
           "yaxis": "y"
          }
         ],
         "name": "2015"
        },
        {
         "data": [
          {
           "alignmentgroup": "True",
           "hovertemplate": "Research/Disease Areas \n (Dollars in millions and rounded)=%{x}<br>year=2016<br>value=%{y}<extra></extra>",
           "legendgroup": "Sepsis 15",
           "marker": {
            "color": "#636efa",
            "pattern": {
             "shape": ""
            }
           },
           "name": "Sepsis 15",
           "offsetgroup": "Sepsis 15",
           "orientation": "v",
           "showlegend": true,
           "textposition": "auto",
           "type": "bar",
           "x": [
            "Sepsis 15"
           ],
           "xaxis": "x",
           "y": [
            116
           ],
           "yaxis": "y"
          },
          {
           "alignmentgroup": "True",
           "hovertemplate": "Research/Disease Areas \n (Dollars in millions and rounded)=%{x}<br>year=2016<br>value=%{y}<extra></extra>",
           "legendgroup": "Stroke ",
           "marker": {
            "color": "#EF553B",
            "pattern": {
             "shape": ""
            }
           },
           "name": "Stroke ",
           "offsetgroup": "Stroke ",
           "orientation": "v",
           "showlegend": true,
           "textposition": "auto",
           "type": "bar",
           "x": [
            "Stroke "
           ],
           "xaxis": "x",
           "y": [
            308
           ],
           "yaxis": "y"
          },
          {
           "alignmentgroup": "True",
           "hovertemplate": "Research/Disease Areas \n (Dollars in millions and rounded)=%{x}<br>year=2016<br>value=%{y}<extra></extra>",
           "legendgroup": "Cerebrovascular ",
           "marker": {
            "color": "#00cc96",
            "pattern": {
             "shape": ""
            }
           },
           "name": "Cerebrovascular ",
           "offsetgroup": "Cerebrovascular ",
           "orientation": "v",
           "showlegend": true,
           "textposition": "auto",
           "type": "bar",
           "x": [
            "Cerebrovascular "
           ],
           "xaxis": "x",
           "y": [
            520
           ],
           "yaxis": "y"
          },
          {
           "alignmentgroup": "True",
           "hovertemplate": "Research/Disease Areas \n (Dollars in millions and rounded)=%{x}<br>year=2016<br>value=%{y}<extra></extra>",
           "legendgroup": "Diabetes 4",
           "marker": {
            "color": "#ab63fa",
            "pattern": {
             "shape": ""
            }
           },
           "name": "Diabetes 4",
           "offsetgroup": "Diabetes 4",
           "orientation": "v",
           "showlegend": true,
           "textposition": "auto",
           "type": "bar",
           "x": [
            "Diabetes 4"
           ],
           "xaxis": "x",
           "y": [
            1084
           ],
           "yaxis": "y"
          },
          {
           "alignmentgroup": "True",
           "hovertemplate": "Research/Disease Areas \n (Dollars in millions and rounded)=%{x}<br>year=2016<br>value=%{y}<extra></extra>",
           "legendgroup": "Chronic Obstructive Pulmonary Disease ",
           "marker": {
            "color": "#FFA15A",
            "pattern": {
             "shape": ""
            }
           },
           "name": "Chronic Obstructive Pulmonary Disease ",
           "offsetgroup": "Chronic Obstructive Pulmonary Disease ",
           "orientation": "v",
           "showlegend": true,
           "textposition": "auto",
           "type": "bar",
           "x": [
            "Chronic Obstructive Pulmonary Disease "
           ],
           "xaxis": "x",
           "y": [
            97
           ],
           "yaxis": "y"
          },
          {
           "alignmentgroup": "True",
           "hovertemplate": "Research/Disease Areas \n (Dollars in millions and rounded)=%{x}<br>year=2016<br>value=%{y}<extra></extra>",
           "legendgroup": "Hypertension ",
           "marker": {
            "color": "#19d3f3",
            "pattern": {
             "shape": ""
            }
           },
           "name": "Hypertension ",
           "offsetgroup": "Hypertension ",
           "orientation": "v",
           "showlegend": true,
           "textposition": "auto",
           "type": "bar",
           "x": [
            "Hypertension "
           ],
           "xaxis": "x",
           "y": [
            224
           ],
           "yaxis": "y"
          },
          {
           "alignmentgroup": "True",
           "hovertemplate": "Research/Disease Areas \n (Dollars in millions and rounded)=%{x}<br>year=2016<br>value=%{y}<extra></extra>",
           "legendgroup": "Heart Disease - Coronary Heart Disease ",
           "marker": {
            "color": "#FF6692",
            "pattern": {
             "shape": ""
            }
           },
           "name": "Heart Disease - Coronary Heart Disease ",
           "offsetgroup": "Heart Disease - Coronary Heart Disease ",
           "orientation": "v",
           "showlegend": true,
           "textposition": "auto",
           "type": "bar",
           "x": [
            "Heart Disease - Coronary Heart Disease "
           ],
           "xaxis": "x",
           "y": [
            419
           ],
           "yaxis": "y"
          },
          {
           "alignmentgroup": "True",
           "hovertemplate": "Research/Disease Areas \n (Dollars in millions and rounded)=%{x}<br>year=2016<br>value=%{y}<extra></extra>",
           "legendgroup": "Cancer ",
           "marker": {
            "color": "#B6E880",
            "pattern": {
             "shape": ""
            }
           },
           "name": "Cancer ",
           "offsetgroup": "Cancer ",
           "orientation": "v",
           "showlegend": true,
           "textposition": "auto",
           "type": "bar",
           "x": [
            "Cancer "
           ],
           "xaxis": "x",
           "y": [
            5589
           ],
           "yaxis": "y"
          },
          {
           "alignmentgroup": "True",
           "hovertemplate": "Research/Disease Areas \n (Dollars in millions and rounded)=%{x}<br>year=2016<br>value=%{y}<extra></extra>",
           "legendgroup": "Cardiovascular ",
           "marker": {
            "color": "#FF97FF",
            "pattern": {
             "shape": ""
            }
           },
           "name": "Cardiovascular ",
           "offsetgroup": "Cardiovascular ",
           "orientation": "v",
           "showlegend": true,
           "textposition": "auto",
           "type": "bar",
           "x": [
            "Cardiovascular "
           ],
           "xaxis": "x",
           "y": [
            2108
           ],
           "yaxis": "y"
          },
          {
           "alignmentgroup": "True",
           "hovertemplate": "Research/Disease Areas \n (Dollars in millions and rounded)=%{x}<br>year=2016<br>value=%{y}<extra></extra>",
           "legendgroup": "Heart Disease ",
           "marker": {
            "color": "#FECB52",
            "pattern": {
             "shape": ""
            }
           },
           "name": "Heart Disease ",
           "offsetgroup": "Heart Disease ",
           "orientation": "v",
           "showlegend": true,
           "textposition": "auto",
           "type": "bar",
           "x": [
            "Heart Disease "
           ],
           "xaxis": "x",
           "y": [
            1289
           ],
           "yaxis": "y"
          }
         ],
         "name": "2016"
        },
        {
         "data": [
          {
           "alignmentgroup": "True",
           "hovertemplate": "Research/Disease Areas \n (Dollars in millions and rounded)=%{x}<br>year=2017<br>value=%{y}<extra></extra>",
           "legendgroup": "Sepsis 15",
           "marker": {
            "color": "#636efa",
            "pattern": {
             "shape": ""
            }
           },
           "name": "Sepsis 15",
           "offsetgroup": "Sepsis 15",
           "orientation": "v",
           "showlegend": true,
           "textposition": "auto",
           "type": "bar",
           "x": [
            "Sepsis 15"
           ],
           "xaxis": "x",
           "y": [
            125
           ],
           "yaxis": "y"
          },
          {
           "alignmentgroup": "True",
           "hovertemplate": "Research/Disease Areas \n (Dollars in millions and rounded)=%{x}<br>year=2017<br>value=%{y}<extra></extra>",
           "legendgroup": "Stroke ",
           "marker": {
            "color": "#EF553B",
            "pattern": {
             "shape": ""
            }
           },
           "name": "Stroke ",
           "offsetgroup": "Stroke ",
           "orientation": "v",
           "showlegend": true,
           "textposition": "auto",
           "type": "bar",
           "x": [
            "Stroke "
           ],
           "xaxis": "x",
           "y": [
            331
           ],
           "yaxis": "y"
          },
          {
           "alignmentgroup": "True",
           "hovertemplate": "Research/Disease Areas \n (Dollars in millions and rounded)=%{x}<br>year=2017<br>value=%{y}<extra></extra>",
           "legendgroup": "Cerebrovascular ",
           "marker": {
            "color": "#00cc96",
            "pattern": {
             "shape": ""
            }
           },
           "name": "Cerebrovascular ",
           "offsetgroup": "Cerebrovascular ",
           "orientation": "v",
           "showlegend": true,
           "textposition": "auto",
           "type": "bar",
           "x": [
            "Cerebrovascular "
           ],
           "xaxis": "x",
           "y": [
            610
           ],
           "yaxis": "y"
          },
          {
           "alignmentgroup": "True",
           "hovertemplate": "Research/Disease Areas \n (Dollars in millions and rounded)=%{x}<br>year=2017<br>value=%{y}<extra></extra>",
           "legendgroup": "Diabetes 4",
           "marker": {
            "color": "#ab63fa",
            "pattern": {
             "shape": ""
            }
           },
           "name": "Diabetes 4",
           "offsetgroup": "Diabetes 4",
           "orientation": "v",
           "showlegend": true,
           "textposition": "auto",
           "type": "bar",
           "x": [
            "Diabetes 4"
           ],
           "xaxis": "x",
           "y": [
            1108
           ],
           "yaxis": "y"
          },
          {
           "alignmentgroup": "True",
           "hovertemplate": "Research/Disease Areas \n (Dollars in millions and rounded)=%{x}<br>year=2017<br>value=%{y}<extra></extra>",
           "legendgroup": "Chronic Obstructive Pulmonary Disease ",
           "marker": {
            "color": "#FFA15A",
            "pattern": {
             "shape": ""
            }
           },
           "name": "Chronic Obstructive Pulmonary Disease ",
           "offsetgroup": "Chronic Obstructive Pulmonary Disease ",
           "orientation": "v",
           "showlegend": true,
           "textposition": "auto",
           "type": "bar",
           "x": [
            "Chronic Obstructive Pulmonary Disease "
           ],
           "xaxis": "x",
           "y": [
            100
           ],
           "yaxis": "y"
          },
          {
           "alignmentgroup": "True",
           "hovertemplate": "Research/Disease Areas \n (Dollars in millions and rounded)=%{x}<br>year=2017<br>value=%{y}<extra></extra>",
           "legendgroup": "Hypertension ",
           "marker": {
            "color": "#19d3f3",
            "pattern": {
             "shape": ""
            }
           },
           "name": "Hypertension ",
           "offsetgroup": "Hypertension ",
           "orientation": "v",
           "showlegend": true,
           "textposition": "auto",
           "type": "bar",
           "x": [
            "Hypertension "
           ],
           "xaxis": "x",
           "y": [
            235
           ],
           "yaxis": "y"
          },
          {
           "alignmentgroup": "True",
           "hovertemplate": "Research/Disease Areas \n (Dollars in millions and rounded)=%{x}<br>year=2017<br>value=%{y}<extra></extra>",
           "legendgroup": "Heart Disease - Coronary Heart Disease ",
           "marker": {
            "color": "#FF6692",
            "pattern": {
             "shape": ""
            }
           },
           "name": "Heart Disease - Coronary Heart Disease ",
           "offsetgroup": "Heart Disease - Coronary Heart Disease ",
           "orientation": "v",
           "showlegend": true,
           "textposition": "auto",
           "type": "bar",
           "x": [
            "Heart Disease - Coronary Heart Disease "
           ],
           "xaxis": "x",
           "y": [
            444
           ],
           "yaxis": "y"
          },
          {
           "alignmentgroup": "True",
           "hovertemplate": "Research/Disease Areas \n (Dollars in millions and rounded)=%{x}<br>year=2017<br>value=%{y}<extra></extra>",
           "legendgroup": "Cancer ",
           "marker": {
            "color": "#B6E880",
            "pattern": {
             "shape": ""
            }
           },
           "name": "Cancer ",
           "offsetgroup": "Cancer ",
           "orientation": "v",
           "showlegend": true,
           "textposition": "auto",
           "type": "bar",
           "x": [
            "Cancer "
           ],
           "xaxis": "x",
           "y": [
            5980
           ],
           "yaxis": "y"
          },
          {
           "alignmentgroup": "True",
           "hovertemplate": "Research/Disease Areas \n (Dollars in millions and rounded)=%{x}<br>year=2017<br>value=%{y}<extra></extra>",
           "legendgroup": "Cardiovascular ",
           "marker": {
            "color": "#FF97FF",
            "pattern": {
             "shape": ""
            }
           },
           "name": "Cardiovascular ",
           "offsetgroup": "Cardiovascular ",
           "orientation": "v",
           "showlegend": true,
           "textposition": "auto",
           "type": "bar",
           "x": [
            "Cardiovascular "
           ],
           "xaxis": "x",
           "y": [
            2197
           ],
           "yaxis": "y"
          },
          {
           "alignmentgroup": "True",
           "hovertemplate": "Research/Disease Areas \n (Dollars in millions and rounded)=%{x}<br>year=2017<br>value=%{y}<extra></extra>",
           "legendgroup": "Heart Disease ",
           "marker": {
            "color": "#FECB52",
            "pattern": {
             "shape": ""
            }
           },
           "name": "Heart Disease ",
           "offsetgroup": "Heart Disease ",
           "orientation": "v",
           "showlegend": true,
           "textposition": "auto",
           "type": "bar",
           "x": [
            "Heart Disease "
           ],
           "xaxis": "x",
           "y": [
            1370
           ],
           "yaxis": "y"
          }
         ],
         "name": "2017"
        },
        {
         "data": [
          {
           "alignmentgroup": "True",
           "hovertemplate": "Research/Disease Areas \n (Dollars in millions and rounded)=%{x}<br>year=2018<br>value=%{y}<extra></extra>",
           "legendgroup": "Sepsis 15",
           "marker": {
            "color": "#636efa",
            "pattern": {
             "shape": ""
            }
           },
           "name": "Sepsis 15",
           "offsetgroup": "Sepsis 15",
           "orientation": "v",
           "showlegend": true,
           "textposition": "auto",
           "type": "bar",
           "x": [
            "Sepsis 15"
           ],
           "xaxis": "x",
           "y": [
            135
           ],
           "yaxis": "y"
          },
          {
           "alignmentgroup": "True",
           "hovertemplate": "Research/Disease Areas \n (Dollars in millions and rounded)=%{x}<br>year=2018<br>value=%{y}<extra></extra>",
           "legendgroup": "Stroke ",
           "marker": {
            "color": "#EF553B",
            "pattern": {
             "shape": ""
            }
           },
           "name": "Stroke ",
           "offsetgroup": "Stroke ",
           "orientation": "v",
           "showlegend": true,
           "textposition": "auto",
           "type": "bar",
           "x": [
            "Stroke "
           ],
           "xaxis": "x",
           "y": [
            348
           ],
           "yaxis": "y"
          },
          {
           "alignmentgroup": "True",
           "hovertemplate": "Research/Disease Areas \n (Dollars in millions and rounded)=%{x}<br>year=2018<br>value=%{y}<extra></extra>",
           "legendgroup": "Cerebrovascular ",
           "marker": {
            "color": "#00cc96",
            "pattern": {
             "shape": ""
            }
           },
           "name": "Cerebrovascular ",
           "offsetgroup": "Cerebrovascular ",
           "orientation": "v",
           "showlegend": true,
           "textposition": "auto",
           "type": "bar",
           "x": [
            "Cerebrovascular "
           ],
           "xaxis": "x",
           "y": [
            718
           ],
           "yaxis": "y"
          },
          {
           "alignmentgroup": "True",
           "hovertemplate": "Research/Disease Areas \n (Dollars in millions and rounded)=%{x}<br>year=2018<br>value=%{y}<extra></extra>",
           "legendgroup": "Diabetes 4",
           "marker": {
            "color": "#ab63fa",
            "pattern": {
             "shape": ""
            }
           },
           "name": "Diabetes 4",
           "offsetgroup": "Diabetes 4",
           "orientation": "v",
           "showlegend": true,
           "textposition": "auto",
           "type": "bar",
           "x": [
            "Diabetes 4"
           ],
           "xaxis": "x",
           "y": [
            1039
           ],
           "yaxis": "y"
          },
          {
           "alignmentgroup": "True",
           "hovertemplate": "Research/Disease Areas \n (Dollars in millions and rounded)=%{x}<br>year=2018<br>value=%{y}<extra></extra>",
           "legendgroup": "Chronic Obstructive Pulmonary Disease ",
           "marker": {
            "color": "#FFA15A",
            "pattern": {
             "shape": ""
            }
           },
           "name": "Chronic Obstructive Pulmonary Disease ",
           "offsetgroup": "Chronic Obstructive Pulmonary Disease ",
           "orientation": "v",
           "showlegend": true,
           "textposition": "auto",
           "type": "bar",
           "x": [
            "Chronic Obstructive Pulmonary Disease "
           ],
           "xaxis": "x",
           "y": [
            111
           ],
           "yaxis": "y"
          },
          {
           "alignmentgroup": "True",
           "hovertemplate": "Research/Disease Areas \n (Dollars in millions and rounded)=%{x}<br>year=2018<br>value=%{y}<extra></extra>",
           "legendgroup": "Hypertension ",
           "marker": {
            "color": "#19d3f3",
            "pattern": {
             "shape": ""
            }
           },
           "name": "Hypertension ",
           "offsetgroup": "Hypertension ",
           "orientation": "v",
           "showlegend": true,
           "textposition": "auto",
           "type": "bar",
           "x": [
            "Hypertension "
           ],
           "xaxis": "x",
           "y": [
            260
           ],
           "yaxis": "y"
          },
          {
           "alignmentgroup": "True",
           "hovertemplate": "Research/Disease Areas \n (Dollars in millions and rounded)=%{x}<br>year=2018<br>value=%{y}<extra></extra>",
           "legendgroup": "Heart Disease - Coronary Heart Disease ",
           "marker": {
            "color": "#FF6692",
            "pattern": {
             "shape": ""
            }
           },
           "name": "Heart Disease - Coronary Heart Disease ",
           "offsetgroup": "Heart Disease - Coronary Heart Disease ",
           "orientation": "v",
           "showlegend": true,
           "textposition": "auto",
           "type": "bar",
           "x": [
            "Heart Disease - Coronary Heart Disease "
           ],
           "xaxis": "x",
           "y": [
            444
           ],
           "yaxis": "y"
          },
          {
           "alignmentgroup": "True",
           "hovertemplate": "Research/Disease Areas \n (Dollars in millions and rounded)=%{x}<br>year=2018<br>value=%{y}<extra></extra>",
           "legendgroup": "Cancer ",
           "marker": {
            "color": "#B6E880",
            "pattern": {
             "shape": ""
            }
           },
           "name": "Cancer ",
           "offsetgroup": "Cancer ",
           "orientation": "v",
           "showlegend": true,
           "textposition": "auto",
           "type": "bar",
           "x": [
            "Cancer "
           ],
           "xaxis": "x",
           "y": [
            6335
           ],
           "yaxis": "y"
          },
          {
           "alignmentgroup": "True",
           "hovertemplate": "Research/Disease Areas \n (Dollars in millions and rounded)=%{x}<br>year=2018<br>value=%{y}<extra></extra>",
           "legendgroup": "Cardiovascular ",
           "marker": {
            "color": "#FF97FF",
            "pattern": {
             "shape": ""
            }
           },
           "name": "Cardiovascular ",
           "offsetgroup": "Cardiovascular ",
           "orientation": "v",
           "showlegend": true,
           "textposition": "auto",
           "type": "bar",
           "x": [
            "Cardiovascular "
           ],
           "xaxis": "x",
           "y": [
            2269
           ],
           "yaxis": "y"
          },
          {
           "alignmentgroup": "True",
           "hovertemplate": "Research/Disease Areas \n (Dollars in millions and rounded)=%{x}<br>year=2018<br>value=%{y}<extra></extra>",
           "legendgroup": "Heart Disease ",
           "marker": {
            "color": "#FECB52",
            "pattern": {
             "shape": ""
            }
           },
           "name": "Heart Disease ",
           "offsetgroup": "Heart Disease ",
           "orientation": "v",
           "showlegend": true,
           "textposition": "auto",
           "type": "bar",
           "x": [
            "Heart Disease "
           ],
           "xaxis": "x",
           "y": [
            1403
           ],
           "yaxis": "y"
          }
         ],
         "name": "2018"
        },
        {
         "data": [
          {
           "alignmentgroup": "True",
           "hovertemplate": "Research/Disease Areas \n (Dollars in millions and rounded)=%{x}<br>year=2019<br>value=%{y}<extra></extra>",
           "legendgroup": "Sepsis 15",
           "marker": {
            "color": "#636efa",
            "pattern": {
             "shape": ""
            }
           },
           "name": "Sepsis 15",
           "offsetgroup": "Sepsis 15",
           "orientation": "v",
           "showlegend": true,
           "textposition": "auto",
           "type": "bar",
           "x": [
            "Sepsis 15"
           ],
           "xaxis": "x",
           "y": [
            137
           ],
           "yaxis": "y"
          },
          {
           "alignmentgroup": "True",
           "hovertemplate": "Research/Disease Areas \n (Dollars in millions and rounded)=%{x}<br>year=2019<br>value=%{y}<extra></extra>",
           "legendgroup": "Stroke ",
           "marker": {
            "color": "#EF553B",
            "pattern": {
             "shape": ""
            }
           },
           "name": "Stroke ",
           "offsetgroup": "Stroke ",
           "orientation": "v",
           "showlegend": true,
           "textposition": "auto",
           "type": "bar",
           "x": [
            "Stroke "
           ],
           "xaxis": "x",
           "y": [
            350
           ],
           "yaxis": "y"
          },
          {
           "alignmentgroup": "True",
           "hovertemplate": "Research/Disease Areas \n (Dollars in millions and rounded)=%{x}<br>year=2019<br>value=%{y}<extra></extra>",
           "legendgroup": "Cerebrovascular ",
           "marker": {
            "color": "#00cc96",
            "pattern": {
             "shape": ""
            }
           },
           "name": "Cerebrovascular ",
           "offsetgroup": "Cerebrovascular ",
           "orientation": "v",
           "showlegend": true,
           "textposition": "auto",
           "type": "bar",
           "x": [
            "Cerebrovascular "
           ],
           "xaxis": "x",
           "y": [
            759
           ],
           "yaxis": "y"
          },
          {
           "alignmentgroup": "True",
           "hovertemplate": "Research/Disease Areas \n (Dollars in millions and rounded)=%{x}<br>year=2019<br>value=%{y}<extra></extra>",
           "legendgroup": "Diabetes 4",
           "marker": {
            "color": "#ab63fa",
            "pattern": {
             "shape": ""
            }
           },
           "name": "Diabetes 4",
           "offsetgroup": "Diabetes 4",
           "orientation": "v",
           "showlegend": true,
           "textposition": "auto",
           "type": "bar",
           "x": [
            "Diabetes 4"
           ],
           "xaxis": "x",
           "y": [
            1099
           ],
           "yaxis": "y"
          },
          {
           "alignmentgroup": "True",
           "hovertemplate": "Research/Disease Areas \n (Dollars in millions and rounded)=%{x}<br>year=2019<br>value=%{y}<extra></extra>",
           "legendgroup": "Chronic Obstructive Pulmonary Disease ",
           "marker": {
            "color": "#FFA15A",
            "pattern": {
             "shape": ""
            }
           },
           "name": "Chronic Obstructive Pulmonary Disease ",
           "offsetgroup": "Chronic Obstructive Pulmonary Disease ",
           "orientation": "v",
           "showlegend": true,
           "textposition": "auto",
           "type": "bar",
           "x": [
            "Chronic Obstructive Pulmonary Disease "
           ],
           "xaxis": "x",
           "y": [
            112
           ],
           "yaxis": "y"
          },
          {
           "alignmentgroup": "True",
           "hovertemplate": "Research/Disease Areas \n (Dollars in millions and rounded)=%{x}<br>year=2019<br>value=%{y}<extra></extra>",
           "legendgroup": "Hypertension ",
           "marker": {
            "color": "#19d3f3",
            "pattern": {
             "shape": ""
            }
           },
           "name": "Hypertension ",
           "offsetgroup": "Hypertension ",
           "orientation": "v",
           "showlegend": true,
           "textposition": "auto",
           "type": "bar",
           "x": [
            "Hypertension "
           ],
           "xaxis": "x",
           "y": [
            266
           ],
           "yaxis": "y"
          },
          {
           "alignmentgroup": "True",
           "hovertemplate": "Research/Disease Areas \n (Dollars in millions and rounded)=%{x}<br>year=2019<br>value=%{y}<extra></extra>",
           "legendgroup": "Heart Disease - Coronary Heart Disease ",
           "marker": {
            "color": "#FF6692",
            "pattern": {
             "shape": ""
            }
           },
           "name": "Heart Disease - Coronary Heart Disease ",
           "offsetgroup": "Heart Disease - Coronary Heart Disease ",
           "orientation": "v",
           "showlegend": true,
           "textposition": "auto",
           "type": "bar",
           "x": [
            "Heart Disease - Coronary Heart Disease "
           ],
           "xaxis": "x",
           "y": [
            421
           ],
           "yaxis": "y"
          },
          {
           "alignmentgroup": "True",
           "hovertemplate": "Research/Disease Areas \n (Dollars in millions and rounded)=%{x}<br>year=2019<br>value=%{y}<extra></extra>",
           "legendgroup": "Cancer ",
           "marker": {
            "color": "#B6E880",
            "pattern": {
             "shape": ""
            }
           },
           "name": "Cancer ",
           "offsetgroup": "Cancer ",
           "orientation": "v",
           "showlegend": true,
           "textposition": "auto",
           "type": "bar",
           "x": [
            "Cancer "
           ],
           "xaxis": "x",
           "y": [
            6520
           ],
           "yaxis": "y"
          },
          {
           "alignmentgroup": "True",
           "hovertemplate": "Research/Disease Areas \n (Dollars in millions and rounded)=%{x}<br>year=2019<br>value=%{y}<extra></extra>",
           "legendgroup": "Cardiovascular ",
           "marker": {
            "color": "#FF97FF",
            "pattern": {
             "shape": ""
            }
           },
           "name": "Cardiovascular ",
           "offsetgroup": "Cardiovascular ",
           "orientation": "v",
           "showlegend": true,
           "textposition": "auto",
           "type": "bar",
           "x": [
            "Cardiovascular "
           ],
           "xaxis": "x",
           "y": [
            2394
           ],
           "yaxis": "y"
          },
          {
           "alignmentgroup": "True",
           "hovertemplate": "Research/Disease Areas \n (Dollars in millions and rounded)=%{x}<br>year=2019<br>value=%{y}<extra></extra>",
           "legendgroup": "Heart Disease ",
           "marker": {
            "color": "#FECB52",
            "pattern": {
             "shape": ""
            }
           },
           "name": "Heart Disease ",
           "offsetgroup": "Heart Disease ",
           "orientation": "v",
           "showlegend": true,
           "textposition": "auto",
           "type": "bar",
           "x": [
            "Heart Disease "
           ],
           "xaxis": "x",
           "y": [
            1443
           ],
           "yaxis": "y"
          }
         ],
         "name": "2019"
        },
        {
         "data": [
          {
           "alignmentgroup": "True",
           "hovertemplate": "Research/Disease Areas \n (Dollars in millions and rounded)=%{x}<br>year=2020<br>value=%{y}<extra></extra>",
           "legendgroup": "Sepsis 15",
           "marker": {
            "color": "#636efa",
            "pattern": {
             "shape": ""
            }
           },
           "name": "Sepsis 15",
           "offsetgroup": "Sepsis 15",
           "orientation": "v",
           "showlegend": true,
           "textposition": "auto",
           "type": "bar",
           "x": [
            "Sepsis 15"
           ],
           "xaxis": "x",
           "y": [
            155
           ],
           "yaxis": "y"
          },
          {
           "alignmentgroup": "True",
           "hovertemplate": "Research/Disease Areas \n (Dollars in millions and rounded)=%{x}<br>year=2020<br>value=%{y}<extra></extra>",
           "legendgroup": "Stroke ",
           "marker": {
            "color": "#EF553B",
            "pattern": {
             "shape": ""
            }
           },
           "name": "Stroke ",
           "offsetgroup": "Stroke ",
           "orientation": "v",
           "showlegend": true,
           "textposition": "auto",
           "type": "bar",
           "x": [
            "Stroke "
           ],
           "xaxis": "x",
           "y": [
            441
           ],
           "yaxis": "y"
          },
          {
           "alignmentgroup": "True",
           "hovertemplate": "Research/Disease Areas \n (Dollars in millions and rounded)=%{x}<br>year=2020<br>value=%{y}<extra></extra>",
           "legendgroup": "Cerebrovascular ",
           "marker": {
            "color": "#00cc96",
            "pattern": {
             "shape": ""
            }
           },
           "name": "Cerebrovascular ",
           "offsetgroup": "Cerebrovascular ",
           "orientation": "v",
           "showlegend": true,
           "textposition": "auto",
           "type": "bar",
           "x": [
            "Cerebrovascular "
           ],
           "xaxis": "x",
           "y": [
            888
           ],
           "yaxis": "y"
          },
          {
           "alignmentgroup": "True",
           "hovertemplate": "Research/Disease Areas \n (Dollars in millions and rounded)=%{x}<br>year=2020<br>value=%{y}<extra></extra>",
           "legendgroup": "Diabetes 4",
           "marker": {
            "color": "#ab63fa",
            "pattern": {
             "shape": ""
            }
           },
           "name": "Diabetes 4",
           "offsetgroup": "Diabetes 4",
           "orientation": "v",
           "showlegend": true,
           "textposition": "auto",
           "type": "bar",
           "x": [
            "Diabetes 4"
           ],
           "xaxis": "x",
           "y": [
            1156
           ],
           "yaxis": "y"
          },
          {
           "alignmentgroup": "True",
           "hovertemplate": "Research/Disease Areas \n (Dollars in millions and rounded)=%{x}<br>year=2020<br>value=%{y}<extra></extra>",
           "legendgroup": "Chronic Obstructive Pulmonary Disease ",
           "marker": {
            "color": "#FFA15A",
            "pattern": {
             "shape": ""
            }
           },
           "name": "Chronic Obstructive Pulmonary Disease ",
           "offsetgroup": "Chronic Obstructive Pulmonary Disease ",
           "orientation": "v",
           "showlegend": true,
           "textposition": "auto",
           "type": "bar",
           "x": [
            "Chronic Obstructive Pulmonary Disease "
           ],
           "xaxis": "x",
           "y": [
            121
           ],
           "yaxis": "y"
          },
          {
           "alignmentgroup": "True",
           "hovertemplate": "Research/Disease Areas \n (Dollars in millions and rounded)=%{x}<br>year=2020<br>value=%{y}<extra></extra>",
           "legendgroup": "Hypertension ",
           "marker": {
            "color": "#19d3f3",
            "pattern": {
             "shape": ""
            }
           },
           "name": "Hypertension ",
           "offsetgroup": "Hypertension ",
           "orientation": "v",
           "showlegend": true,
           "textposition": "auto",
           "type": "bar",
           "x": [
            "Hypertension "
           ],
           "xaxis": "x",
           "y": [
            301
           ],
           "yaxis": "y"
          },
          {
           "alignmentgroup": "True",
           "hovertemplate": "Research/Disease Areas \n (Dollars in millions and rounded)=%{x}<br>year=2020<br>value=%{y}<extra></extra>",
           "legendgroup": "Heart Disease - Coronary Heart Disease ",
           "marker": {
            "color": "#FF6692",
            "pattern": {
             "shape": ""
            }
           },
           "name": "Heart Disease - Coronary Heart Disease ",
           "offsetgroup": "Heart Disease - Coronary Heart Disease ",
           "orientation": "v",
           "showlegend": true,
           "textposition": "auto",
           "type": "bar",
           "x": [
            "Heart Disease - Coronary Heart Disease "
           ],
           "xaxis": "x",
           "y": [
            408
           ],
           "yaxis": "y"
          },
          {
           "alignmentgroup": "True",
           "hovertemplate": "Research/Disease Areas \n (Dollars in millions and rounded)=%{x}<br>year=2020<br>value=%{y}<extra></extra>",
           "legendgroup": "Cancer ",
           "marker": {
            "color": "#B6E880",
            "pattern": {
             "shape": ""
            }
           },
           "name": "Cancer ",
           "offsetgroup": "Cancer ",
           "orientation": "v",
           "showlegend": true,
           "textposition": "auto",
           "type": "bar",
           "x": [
            "Cancer "
           ],
           "xaxis": "x",
           "y": [
            7035
           ],
           "yaxis": "y"
          },
          {
           "alignmentgroup": "True",
           "hovertemplate": "Research/Disease Areas \n (Dollars in millions and rounded)=%{x}<br>year=2020<br>value=%{y}<extra></extra>",
           "legendgroup": "Cardiovascular ",
           "marker": {
            "color": "#FF97FF",
            "pattern": {
             "shape": ""
            }
           },
           "name": "Cardiovascular ",
           "offsetgroup": "Cardiovascular ",
           "orientation": "v",
           "showlegend": true,
           "textposition": "auto",
           "type": "bar",
           "x": [
            "Cardiovascular "
           ],
           "xaxis": "x",
           "y": [
            2536
           ],
           "yaxis": "y"
          },
          {
           "alignmentgroup": "True",
           "hovertemplate": "Research/Disease Areas \n (Dollars in millions and rounded)=%{x}<br>year=2020<br>value=%{y}<extra></extra>",
           "legendgroup": "Heart Disease ",
           "marker": {
            "color": "#FECB52",
            "pattern": {
             "shape": ""
            }
           },
           "name": "Heart Disease ",
           "offsetgroup": "Heart Disease ",
           "orientation": "v",
           "showlegend": true,
           "textposition": "auto",
           "type": "bar",
           "x": [
            "Heart Disease "
           ],
           "xaxis": "x",
           "y": [
            1606
           ],
           "yaxis": "y"
          }
         ],
         "name": "2020"
        },
        {
         "data": [
          {
           "alignmentgroup": "True",
           "hovertemplate": "Research/Disease Areas \n (Dollars in millions and rounded)=%{x}<br>year=2021<br>value=%{y}<extra></extra>",
           "legendgroup": "Sepsis 15",
           "marker": {
            "color": "#636efa",
            "pattern": {
             "shape": ""
            }
           },
           "name": "Sepsis 15",
           "offsetgroup": "Sepsis 15",
           "orientation": "v",
           "showlegend": true,
           "textposition": "auto",
           "type": "bar",
           "x": [
            "Sepsis 15"
           ],
           "xaxis": "x",
           "y": [
            167
           ],
           "yaxis": "y"
          },
          {
           "alignmentgroup": "True",
           "hovertemplate": "Research/Disease Areas \n (Dollars in millions and rounded)=%{x}<br>year=2021<br>value=%{y}<extra></extra>",
           "legendgroup": "Stroke ",
           "marker": {
            "color": "#EF553B",
            "pattern": {
             "shape": ""
            }
           },
           "name": "Stroke ",
           "offsetgroup": "Stroke ",
           "orientation": "v",
           "showlegend": true,
           "textposition": "auto",
           "type": "bar",
           "x": [
            "Stroke "
           ],
           "xaxis": "x",
           "y": [
            447
           ],
           "yaxis": "y"
          },
          {
           "alignmentgroup": "True",
           "hovertemplate": "Research/Disease Areas \n (Dollars in millions and rounded)=%{x}<br>year=2021<br>value=%{y}<extra></extra>",
           "legendgroup": "Cerebrovascular ",
           "marker": {
            "color": "#00cc96",
            "pattern": {
             "shape": ""
            }
           },
           "name": "Cerebrovascular ",
           "offsetgroup": "Cerebrovascular ",
           "orientation": "v",
           "showlegend": true,
           "textposition": "auto",
           "type": "bar",
           "x": [
            "Cerebrovascular "
           ],
           "xaxis": "x",
           "y": [
            999
           ],
           "yaxis": "y"
          },
          {
           "alignmentgroup": "True",
           "hovertemplate": "Research/Disease Areas \n (Dollars in millions and rounded)=%{x}<br>year=2021<br>value=%{y}<extra></extra>",
           "legendgroup": "Diabetes 4",
           "marker": {
            "color": "#ab63fa",
            "pattern": {
             "shape": ""
            }
           },
           "name": "Diabetes 4",
           "offsetgroup": "Diabetes 4",
           "orientation": "v",
           "showlegend": true,
           "textposition": "auto",
           "type": "bar",
           "x": [
            "Diabetes 4"
           ],
           "xaxis": "x",
           "y": [
            1124
           ],
           "yaxis": "y"
          },
          {
           "alignmentgroup": "True",
           "hovertemplate": "Research/Disease Areas \n (Dollars in millions and rounded)=%{x}<br>year=2021<br>value=%{y}<extra></extra>",
           "legendgroup": "Chronic Obstructive Pulmonary Disease ",
           "marker": {
            "color": "#FFA15A",
            "pattern": {
             "shape": ""
            }
           },
           "name": "Chronic Obstructive Pulmonary Disease ",
           "offsetgroup": "Chronic Obstructive Pulmonary Disease ",
           "orientation": "v",
           "showlegend": true,
           "textposition": "auto",
           "type": "bar",
           "x": [
            "Chronic Obstructive Pulmonary Disease "
           ],
           "xaxis": "x",
           "y": [
            144
           ],
           "yaxis": "y"
          },
          {
           "alignmentgroup": "True",
           "hovertemplate": "Research/Disease Areas \n (Dollars in millions and rounded)=%{x}<br>year=2021<br>value=%{y}<extra></extra>",
           "legendgroup": "Hypertension ",
           "marker": {
            "color": "#19d3f3",
            "pattern": {
             "shape": ""
            }
           },
           "name": "Hypertension ",
           "offsetgroup": "Hypertension ",
           "orientation": "v",
           "showlegend": true,
           "textposition": "auto",
           "type": "bar",
           "x": [
            "Hypertension "
           ],
           "xaxis": "x",
           "y": [
            292
           ],
           "yaxis": "y"
          },
          {
           "alignmentgroup": "True",
           "hovertemplate": "Research/Disease Areas \n (Dollars in millions and rounded)=%{x}<br>year=2021<br>value=%{y}<extra></extra>",
           "legendgroup": "Heart Disease - Coronary Heart Disease ",
           "marker": {
            "color": "#FF6692",
            "pattern": {
             "shape": ""
            }
           },
           "name": "Heart Disease - Coronary Heart Disease ",
           "offsetgroup": "Heart Disease - Coronary Heart Disease ",
           "orientation": "v",
           "showlegend": true,
           "textposition": "auto",
           "type": "bar",
           "x": [
            "Heart Disease - Coronary Heart Disease "
           ],
           "xaxis": "x",
           "y": [
            380
           ],
           "yaxis": "y"
          },
          {
           "alignmentgroup": "True",
           "hovertemplate": "Research/Disease Areas \n (Dollars in millions and rounded)=%{x}<br>year=2021<br>value=%{y}<extra></extra>",
           "legendgroup": "Cancer ",
           "marker": {
            "color": "#B6E880",
            "pattern": {
             "shape": ""
            }
           },
           "name": "Cancer ",
           "offsetgroup": "Cancer ",
           "orientation": "v",
           "showlegend": true,
           "textposition": "auto",
           "type": "bar",
           "x": [
            "Cancer "
           ],
           "xaxis": "x",
           "y": [
            7362
           ],
           "yaxis": "y"
          },
          {
           "alignmentgroup": "True",
           "hovertemplate": "Research/Disease Areas \n (Dollars in millions and rounded)=%{x}<br>year=2021<br>value=%{y}<extra></extra>",
           "legendgroup": "Cardiovascular ",
           "marker": {
            "color": "#FF97FF",
            "pattern": {
             "shape": ""
            }
           },
           "name": "Cardiovascular ",
           "offsetgroup": "Cardiovascular ",
           "orientation": "v",
           "showlegend": true,
           "textposition": "auto",
           "type": "bar",
           "x": [
            "Cardiovascular "
           ],
           "xaxis": "x",
           "y": [
            2544
           ],
           "yaxis": "y"
          },
          {
           "alignmentgroup": "True",
           "hovertemplate": "Research/Disease Areas \n (Dollars in millions and rounded)=%{x}<br>year=2021<br>value=%{y}<extra></extra>",
           "legendgroup": "Heart Disease ",
           "marker": {
            "color": "#FECB52",
            "pattern": {
             "shape": ""
            }
           },
           "name": "Heart Disease ",
           "offsetgroup": "Heart Disease ",
           "orientation": "v",
           "showlegend": true,
           "textposition": "auto",
           "type": "bar",
           "x": [
            "Heart Disease "
           ],
           "xaxis": "x",
           "y": [
            1536
           ],
           "yaxis": "y"
          }
         ],
         "name": "2021"
        },
        {
         "data": [
          {
           "alignmentgroup": "True",
           "hovertemplate": "Research/Disease Areas \n (Dollars in millions and rounded)=%{x}<br>year=2022 Estimated<br>value=%{y}<extra></extra>",
           "legendgroup": "Sepsis 15",
           "marker": {
            "color": "#636efa",
            "pattern": {
             "shape": ""
            }
           },
           "name": "Sepsis 15",
           "offsetgroup": "Sepsis 15",
           "orientation": "v",
           "showlegend": true,
           "textposition": "auto",
           "type": "bar",
           "x": [
            "Sepsis 15"
           ],
           "xaxis": "x",
           "y": [
            174
           ],
           "yaxis": "y"
          },
          {
           "alignmentgroup": "True",
           "hovertemplate": "Research/Disease Areas \n (Dollars in millions and rounded)=%{x}<br>year=2022 Estimated<br>value=%{y}<extra></extra>",
           "legendgroup": "Stroke ",
           "marker": {
            "color": "#EF553B",
            "pattern": {
             "shape": ""
            }
           },
           "name": "Stroke ",
           "offsetgroup": "Stroke ",
           "orientation": "v",
           "showlegend": true,
           "textposition": "auto",
           "type": "bar",
           "x": [
            "Stroke "
           ],
           "xaxis": "x",
           "y": [
            465
           ],
           "yaxis": "y"
          },
          {
           "alignmentgroup": "True",
           "hovertemplate": "Research/Disease Areas \n (Dollars in millions and rounded)=%{x}<br>year=2022 Estimated<br>value=%{y}<extra></extra>",
           "legendgroup": "Cerebrovascular ",
           "marker": {
            "color": "#00cc96",
            "pattern": {
             "shape": ""
            }
           },
           "name": "Cerebrovascular ",
           "offsetgroup": "Cerebrovascular ",
           "orientation": "v",
           "showlegend": true,
           "textposition": "auto",
           "type": "bar",
           "x": [
            "Cerebrovascular "
           ],
           "xaxis": "x",
           "y": [
            1034
           ],
           "yaxis": "y"
          },
          {
           "alignmentgroup": "True",
           "hovertemplate": "Research/Disease Areas \n (Dollars in millions and rounded)=%{x}<br>year=2022 Estimated<br>value=%{y}<extra></extra>",
           "legendgroup": "Diabetes 4",
           "marker": {
            "color": "#ab63fa",
            "pattern": {
             "shape": ""
            }
           },
           "name": "Diabetes 4",
           "offsetgroup": "Diabetes 4",
           "orientation": "v",
           "showlegend": true,
           "textposition": "auto",
           "type": "bar",
           "x": [
            "Diabetes 4"
           ],
           "xaxis": "x",
           "y": [
            1178
           ],
           "yaxis": "y"
          },
          {
           "alignmentgroup": "True",
           "hovertemplate": "Research/Disease Areas \n (Dollars in millions and rounded)=%{x}<br>year=2022 Estimated<br>value=%{y}<extra></extra>",
           "legendgroup": "Chronic Obstructive Pulmonary Disease ",
           "marker": {
            "color": "#FFA15A",
            "pattern": {
             "shape": ""
            }
           },
           "name": "Chronic Obstructive Pulmonary Disease ",
           "offsetgroup": "Chronic Obstructive Pulmonary Disease ",
           "orientation": "v",
           "showlegend": true,
           "textposition": "auto",
           "type": "bar",
           "x": [
            "Chronic Obstructive Pulmonary Disease "
           ],
           "xaxis": "x",
           "y": [
            150
           ],
           "yaxis": "y"
          },
          {
           "alignmentgroup": "True",
           "hovertemplate": "Research/Disease Areas \n (Dollars in millions and rounded)=%{x}<br>year=2022 Estimated<br>value=%{y}<extra></extra>",
           "legendgroup": "Hypertension ",
           "marker": {
            "color": "#19d3f3",
            "pattern": {
             "shape": ""
            }
           },
           "name": "Hypertension ",
           "offsetgroup": "Hypertension ",
           "orientation": "v",
           "showlegend": true,
           "textposition": "auto",
           "type": "bar",
           "x": [
            "Hypertension "
           ],
           "xaxis": "x",
           "y": [
            305
           ],
           "yaxis": "y"
          },
          {
           "alignmentgroup": "True",
           "hovertemplate": "Research/Disease Areas \n (Dollars in millions and rounded)=%{x}<br>year=2022 Estimated<br>value=%{y}<extra></extra>",
           "legendgroup": "Heart Disease - Coronary Heart Disease ",
           "marker": {
            "color": "#FF6692",
            "pattern": {
             "shape": ""
            }
           },
           "name": "Heart Disease - Coronary Heart Disease ",
           "offsetgroup": "Heart Disease - Coronary Heart Disease ",
           "orientation": "v",
           "showlegend": true,
           "textposition": "auto",
           "type": "bar",
           "x": [
            "Heart Disease - Coronary Heart Disease "
           ],
           "xaxis": "x",
           "y": [
            395
           ],
           "yaxis": "y"
          },
          {
           "alignmentgroup": "True",
           "hovertemplate": "Research/Disease Areas \n (Dollars in millions and rounded)=%{x}<br>year=2022 Estimated<br>value=%{y}<extra></extra>",
           "legendgroup": "Cancer ",
           "marker": {
            "color": "#B6E880",
            "pattern": {
             "shape": ""
            }
           },
           "name": "Cancer ",
           "offsetgroup": "Cancer ",
           "orientation": "v",
           "showlegend": true,
           "textposition": "auto",
           "type": "bar",
           "x": [
            "Cancer "
           ],
           "xaxis": "x",
           "y": [
            7644
           ],
           "yaxis": "y"
          },
          {
           "alignmentgroup": "True",
           "hovertemplate": "Research/Disease Areas \n (Dollars in millions and rounded)=%{x}<br>year=2022 Estimated<br>value=%{y}<extra></extra>",
           "legendgroup": "Cardiovascular ",
           "marker": {
            "color": "#FF97FF",
            "pattern": {
             "shape": ""
            }
           },
           "name": "Cardiovascular ",
           "offsetgroup": "Cardiovascular ",
           "orientation": "v",
           "showlegend": true,
           "textposition": "auto",
           "type": "bar",
           "x": [
            "Cardiovascular "
           ],
           "xaxis": "x",
           "y": [
            2654
           ],
           "yaxis": "y"
          },
          {
           "alignmentgroup": "True",
           "hovertemplate": "Research/Disease Areas \n (Dollars in millions and rounded)=%{x}<br>year=2022 Estimated<br>value=%{y}<extra></extra>",
           "legendgroup": "Heart Disease ",
           "marker": {
            "color": "#FECB52",
            "pattern": {
             "shape": ""
            }
           },
           "name": "Heart Disease ",
           "offsetgroup": "Heart Disease ",
           "orientation": "v",
           "showlegend": true,
           "textposition": "auto",
           "type": "bar",
           "x": [
            "Heart Disease "
           ],
           "xaxis": "x",
           "y": [
            1602
           ],
           "yaxis": "y"
          }
         ],
         "name": "2022 Estimated"
        },
        {
         "data": [
          {
           "alignmentgroup": "True",
           "hovertemplate": "Research/Disease Areas \n (Dollars in millions and rounded)=%{x}<br>year=2023 Estimated<br>value=%{y}<extra></extra>",
           "legendgroup": "Sepsis 15",
           "marker": {
            "color": "#636efa",
            "pattern": {
             "shape": ""
            }
           },
           "name": "Sepsis 15",
           "offsetgroup": "Sepsis 15",
           "orientation": "v",
           "showlegend": true,
           "textposition": "auto",
           "type": "bar",
           "x": [
            "Sepsis 15"
           ],
           "xaxis": "x",
           "y": [
            173
           ],
           "yaxis": "y"
          },
          {
           "alignmentgroup": "True",
           "hovertemplate": "Research/Disease Areas \n (Dollars in millions and rounded)=%{x}<br>year=2023 Estimated<br>value=%{y}<extra></extra>",
           "legendgroup": "Stroke ",
           "marker": {
            "color": "#EF553B",
            "pattern": {
             "shape": ""
            }
           },
           "name": "Stroke ",
           "offsetgroup": "Stroke ",
           "orientation": "v",
           "showlegend": true,
           "textposition": "auto",
           "type": "bar",
           "x": [
            "Stroke "
           ],
           "xaxis": "x",
           "y": [
            453
           ],
           "yaxis": "y"
          },
          {
           "alignmentgroup": "True",
           "hovertemplate": "Research/Disease Areas \n (Dollars in millions and rounded)=%{x}<br>year=2023 Estimated<br>value=%{y}<extra></extra>",
           "legendgroup": "Cerebrovascular ",
           "marker": {
            "color": "#00cc96",
            "pattern": {
             "shape": ""
            }
           },
           "name": "Cerebrovascular ",
           "offsetgroup": "Cerebrovascular ",
           "orientation": "v",
           "showlegend": true,
           "textposition": "auto",
           "type": "bar",
           "x": [
            "Cerebrovascular "
           ],
           "xaxis": "x",
           "y": [
            1019
           ],
           "yaxis": "y"
          },
          {
           "alignmentgroup": "True",
           "hovertemplate": "Research/Disease Areas \n (Dollars in millions and rounded)=%{x}<br>year=2023 Estimated<br>value=%{y}<extra></extra>",
           "legendgroup": "Diabetes 4",
           "marker": {
            "color": "#ab63fa",
            "pattern": {
             "shape": ""
            }
           },
           "name": "Diabetes 4",
           "offsetgroup": "Diabetes 4",
           "orientation": "v",
           "showlegend": true,
           "textposition": "auto",
           "type": "bar",
           "x": [
            "Diabetes 4"
           ],
           "xaxis": "x",
           "y": [
            1209
           ],
           "yaxis": "y"
          },
          {
           "alignmentgroup": "True",
           "hovertemplate": "Research/Disease Areas \n (Dollars in millions and rounded)=%{x}<br>year=2023 Estimated<br>value=%{y}<extra></extra>",
           "legendgroup": "Chronic Obstructive Pulmonary Disease ",
           "marker": {
            "color": "#FFA15A",
            "pattern": {
             "shape": ""
            }
           },
           "name": "Chronic Obstructive Pulmonary Disease ",
           "offsetgroup": "Chronic Obstructive Pulmonary Disease ",
           "orientation": "v",
           "showlegend": true,
           "textposition": "auto",
           "type": "bar",
           "x": [
            "Chronic Obstructive Pulmonary Disease "
           ],
           "xaxis": "x",
           "y": [
            151
           ],
           "yaxis": "y"
          },
          {
           "alignmentgroup": "True",
           "hovertemplate": "Research/Disease Areas \n (Dollars in millions and rounded)=%{x}<br>year=2023 Estimated<br>value=%{y}<extra></extra>",
           "legendgroup": "Hypertension ",
           "marker": {
            "color": "#19d3f3",
            "pattern": {
             "shape": ""
            }
           },
           "name": "Hypertension ",
           "offsetgroup": "Hypertension ",
           "orientation": "v",
           "showlegend": true,
           "textposition": "auto",
           "type": "bar",
           "x": [
            "Hypertension "
           ],
           "xaxis": "x",
           "y": [
            310
           ],
           "yaxis": "y"
          },
          {
           "alignmentgroup": "True",
           "hovertemplate": "Research/Disease Areas \n (Dollars in millions and rounded)=%{x}<br>year=2023 Estimated<br>value=%{y}<extra></extra>",
           "legendgroup": "Heart Disease - Coronary Heart Disease ",
           "marker": {
            "color": "#FF6692",
            "pattern": {
             "shape": ""
            }
           },
           "name": "Heart Disease - Coronary Heart Disease ",
           "offsetgroup": "Heart Disease - Coronary Heart Disease ",
           "orientation": "v",
           "showlegend": true,
           "textposition": "auto",
           "type": "bar",
           "x": [
            "Heart Disease - Coronary Heart Disease "
           ],
           "xaxis": "x",
           "y": [
            397
           ],
           "yaxis": "y"
          },
          {
           "alignmentgroup": "True",
           "hovertemplate": "Research/Disease Areas \n (Dollars in millions and rounded)=%{x}<br>year=2023 Estimated<br>value=%{y}<extra></extra>",
           "legendgroup": "Cancer ",
           "marker": {
            "color": "#B6E880",
            "pattern": {
             "shape": ""
            }
           },
           "name": "Cancer ",
           "offsetgroup": "Cancer ",
           "orientation": "v",
           "showlegend": true,
           "textposition": "auto",
           "type": "bar",
           "x": [
            "Cancer "
           ],
           "xaxis": "x",
           "y": [
            7459
           ],
           "yaxis": "y"
          },
          {
           "alignmentgroup": "True",
           "hovertemplate": "Research/Disease Areas \n (Dollars in millions and rounded)=%{x}<br>year=2023 Estimated<br>value=%{y}<extra></extra>",
           "legendgroup": "Cardiovascular ",
           "marker": {
            "color": "#FF97FF",
            "pattern": {
             "shape": ""
            }
           },
           "name": "Cardiovascular ",
           "offsetgroup": "Cardiovascular ",
           "orientation": "v",
           "showlegend": true,
           "textposition": "auto",
           "type": "bar",
           "x": [
            "Cardiovascular "
           ],
           "xaxis": "x",
           "y": [
            2676
           ],
           "yaxis": "y"
          },
          {
           "alignmentgroup": "True",
           "hovertemplate": "Research/Disease Areas \n (Dollars in millions and rounded)=%{x}<br>year=2023 Estimated<br>value=%{y}<extra></extra>",
           "legendgroup": "Heart Disease ",
           "marker": {
            "color": "#FECB52",
            "pattern": {
             "shape": ""
            }
           },
           "name": "Heart Disease ",
           "offsetgroup": "Heart Disease ",
           "orientation": "v",
           "showlegend": true,
           "textposition": "auto",
           "type": "bar",
           "x": [
            "Heart Disease "
           ],
           "xaxis": "x",
           "y": [
            1610
           ],
           "yaxis": "y"
          }
         ],
         "name": "2023 Estimated"
        }
       ],
       "layout": {
        "barmode": "relative",
        "height": 600,
        "legend": {
         "title": {
          "text": "Research/Disease Areas \n (Dollars in millions and rounded)"
         },
         "tracegroupgap": 0
        },
        "sliders": [
         {
          "active": 0,
          "currentvalue": {
           "prefix": "year="
          },
          "len": 0.9,
          "pad": {
           "b": 10,
           "t": 60
          },
          "steps": [
           {
            "args": [
             [
              "2008"
             ],
             {
              "frame": {
               "duration": 0,
               "redraw": true
              },
              "fromcurrent": true,
              "mode": "immediate",
              "transition": {
               "duration": 0,
               "easing": "linear"
              }
             }
            ],
            "label": "2008",
            "method": "animate"
           },
           {
            "args": [
             [
              "2009"
             ],
             {
              "frame": {
               "duration": 0,
               "redraw": true
              },
              "fromcurrent": true,
              "mode": "immediate",
              "transition": {
               "duration": 0,
               "easing": "linear"
              }
             }
            ],
            "label": "2009",
            "method": "animate"
           },
           {
            "args": [
             [
              "2010"
             ],
             {
              "frame": {
               "duration": 0,
               "redraw": true
              },
              "fromcurrent": true,
              "mode": "immediate",
              "transition": {
               "duration": 0,
               "easing": "linear"
              }
             }
            ],
            "label": "2010",
            "method": "animate"
           },
           {
            "args": [
             [
              "2011"
             ],
             {
              "frame": {
               "duration": 0,
               "redraw": true
              },
              "fromcurrent": true,
              "mode": "immediate",
              "transition": {
               "duration": 0,
               "easing": "linear"
              }
             }
            ],
            "label": "2011",
            "method": "animate"
           },
           {
            "args": [
             [
              "2012"
             ],
             {
              "frame": {
               "duration": 0,
               "redraw": true
              },
              "fromcurrent": true,
              "mode": "immediate",
              "transition": {
               "duration": 0,
               "easing": "linear"
              }
             }
            ],
            "label": "2012",
            "method": "animate"
           },
           {
            "args": [
             [
              "2013"
             ],
             {
              "frame": {
               "duration": 0,
               "redraw": true
              },
              "fromcurrent": true,
              "mode": "immediate",
              "transition": {
               "duration": 0,
               "easing": "linear"
              }
             }
            ],
            "label": "2013",
            "method": "animate"
           },
           {
            "args": [
             [
              "2014"
             ],
             {
              "frame": {
               "duration": 0,
               "redraw": true
              },
              "fromcurrent": true,
              "mode": "immediate",
              "transition": {
               "duration": 0,
               "easing": "linear"
              }
             }
            ],
            "label": "2014",
            "method": "animate"
           },
           {
            "args": [
             [
              "2015"
             ],
             {
              "frame": {
               "duration": 0,
               "redraw": true
              },
              "fromcurrent": true,
              "mode": "immediate",
              "transition": {
               "duration": 0,
               "easing": "linear"
              }
             }
            ],
            "label": "2015",
            "method": "animate"
           },
           {
            "args": [
             [
              "2016"
             ],
             {
              "frame": {
               "duration": 0,
               "redraw": true
              },
              "fromcurrent": true,
              "mode": "immediate",
              "transition": {
               "duration": 0,
               "easing": "linear"
              }
             }
            ],
            "label": "2016",
            "method": "animate"
           },
           {
            "args": [
             [
              "2017"
             ],
             {
              "frame": {
               "duration": 0,
               "redraw": true
              },
              "fromcurrent": true,
              "mode": "immediate",
              "transition": {
               "duration": 0,
               "easing": "linear"
              }
             }
            ],
            "label": "2017",
            "method": "animate"
           },
           {
            "args": [
             [
              "2018"
             ],
             {
              "frame": {
               "duration": 0,
               "redraw": true
              },
              "fromcurrent": true,
              "mode": "immediate",
              "transition": {
               "duration": 0,
               "easing": "linear"
              }
             }
            ],
            "label": "2018",
            "method": "animate"
           },
           {
            "args": [
             [
              "2019"
             ],
             {
              "frame": {
               "duration": 0,
               "redraw": true
              },
              "fromcurrent": true,
              "mode": "immediate",
              "transition": {
               "duration": 0,
               "easing": "linear"
              }
             }
            ],
            "label": "2019",
            "method": "animate"
           },
           {
            "args": [
             [
              "2020"
             ],
             {
              "frame": {
               "duration": 0,
               "redraw": true
              },
              "fromcurrent": true,
              "mode": "immediate",
              "transition": {
               "duration": 0,
               "easing": "linear"
              }
             }
            ],
            "label": "2020",
            "method": "animate"
           },
           {
            "args": [
             [
              "2021"
             ],
             {
              "frame": {
               "duration": 0,
               "redraw": true
              },
              "fromcurrent": true,
              "mode": "immediate",
              "transition": {
               "duration": 0,
               "easing": "linear"
              }
             }
            ],
            "label": "2021",
            "method": "animate"
           },
           {
            "args": [
             [
              "2022 Estimated"
             ],
             {
              "frame": {
               "duration": 0,
               "redraw": true
              },
              "fromcurrent": true,
              "mode": "immediate",
              "transition": {
               "duration": 0,
               "easing": "linear"
              }
             }
            ],
            "label": "2022 Estimated",
            "method": "animate"
           },
           {
            "args": [
             [
              "2023 Estimated"
             ],
             {
              "frame": {
               "duration": 0,
               "redraw": true
              },
              "fromcurrent": true,
              "mode": "immediate",
              "transition": {
               "duration": 0,
               "easing": "linear"
              }
             }
            ],
            "label": "2023 Estimated",
            "method": "animate"
           }
          ],
          "x": 0.1,
          "xanchor": "left",
          "y": 0,
          "yanchor": "top"
         }
        ],
        "template": {
         "data": {
          "bar": [
           {
            "error_x": {
             "color": "#2a3f5f"
            },
            "error_y": {
             "color": "#2a3f5f"
            },
            "marker": {
             "line": {
              "color": "#E5ECF6",
              "width": 0.5
             },
             "pattern": {
              "fillmode": "overlay",
              "size": 10,
              "solidity": 0.2
             }
            },
            "type": "bar"
           }
          ],
          "barpolar": [
           {
            "marker": {
             "line": {
              "color": "#E5ECF6",
              "width": 0.5
             },
             "pattern": {
              "fillmode": "overlay",
              "size": 10,
              "solidity": 0.2
             }
            },
            "type": "barpolar"
           }
          ],
          "carpet": [
           {
            "aaxis": {
             "endlinecolor": "#2a3f5f",
             "gridcolor": "white",
             "linecolor": "white",
             "minorgridcolor": "white",
             "startlinecolor": "#2a3f5f"
            },
            "baxis": {
             "endlinecolor": "#2a3f5f",
             "gridcolor": "white",
             "linecolor": "white",
             "minorgridcolor": "white",
             "startlinecolor": "#2a3f5f"
            },
            "type": "carpet"
           }
          ],
          "choropleth": [
           {
            "colorbar": {
             "outlinewidth": 0,
             "ticks": ""
            },
            "type": "choropleth"
           }
          ],
          "contour": [
           {
            "colorbar": {
             "outlinewidth": 0,
             "ticks": ""
            },
            "colorscale": [
             [
              0,
              "#0d0887"
             ],
             [
              0.1111111111111111,
              "#46039f"
             ],
             [
              0.2222222222222222,
              "#7201a8"
             ],
             [
              0.3333333333333333,
              "#9c179e"
             ],
             [
              0.4444444444444444,
              "#bd3786"
             ],
             [
              0.5555555555555556,
              "#d8576b"
             ],
             [
              0.6666666666666666,
              "#ed7953"
             ],
             [
              0.7777777777777778,
              "#fb9f3a"
             ],
             [
              0.8888888888888888,
              "#fdca26"
             ],
             [
              1,
              "#f0f921"
             ]
            ],
            "type": "contour"
           }
          ],
          "contourcarpet": [
           {
            "colorbar": {
             "outlinewidth": 0,
             "ticks": ""
            },
            "type": "contourcarpet"
           }
          ],
          "heatmap": [
           {
            "colorbar": {
             "outlinewidth": 0,
             "ticks": ""
            },
            "colorscale": [
             [
              0,
              "#0d0887"
             ],
             [
              0.1111111111111111,
              "#46039f"
             ],
             [
              0.2222222222222222,
              "#7201a8"
             ],
             [
              0.3333333333333333,
              "#9c179e"
             ],
             [
              0.4444444444444444,
              "#bd3786"
             ],
             [
              0.5555555555555556,
              "#d8576b"
             ],
             [
              0.6666666666666666,
              "#ed7953"
             ],
             [
              0.7777777777777778,
              "#fb9f3a"
             ],
             [
              0.8888888888888888,
              "#fdca26"
             ],
             [
              1,
              "#f0f921"
             ]
            ],
            "type": "heatmap"
           }
          ],
          "heatmapgl": [
           {
            "colorbar": {
             "outlinewidth": 0,
             "ticks": ""
            },
            "colorscale": [
             [
              0,
              "#0d0887"
             ],
             [
              0.1111111111111111,
              "#46039f"
             ],
             [
              0.2222222222222222,
              "#7201a8"
             ],
             [
              0.3333333333333333,
              "#9c179e"
             ],
             [
              0.4444444444444444,
              "#bd3786"
             ],
             [
              0.5555555555555556,
              "#d8576b"
             ],
             [
              0.6666666666666666,
              "#ed7953"
             ],
             [
              0.7777777777777778,
              "#fb9f3a"
             ],
             [
              0.8888888888888888,
              "#fdca26"
             ],
             [
              1,
              "#f0f921"
             ]
            ],
            "type": "heatmapgl"
           }
          ],
          "histogram": [
           {
            "marker": {
             "pattern": {
              "fillmode": "overlay",
              "size": 10,
              "solidity": 0.2
             }
            },
            "type": "histogram"
           }
          ],
          "histogram2d": [
           {
            "colorbar": {
             "outlinewidth": 0,
             "ticks": ""
            },
            "colorscale": [
             [
              0,
              "#0d0887"
             ],
             [
              0.1111111111111111,
              "#46039f"
             ],
             [
              0.2222222222222222,
              "#7201a8"
             ],
             [
              0.3333333333333333,
              "#9c179e"
             ],
             [
              0.4444444444444444,
              "#bd3786"
             ],
             [
              0.5555555555555556,
              "#d8576b"
             ],
             [
              0.6666666666666666,
              "#ed7953"
             ],
             [
              0.7777777777777778,
              "#fb9f3a"
             ],
             [
              0.8888888888888888,
              "#fdca26"
             ],
             [
              1,
              "#f0f921"
             ]
            ],
            "type": "histogram2d"
           }
          ],
          "histogram2dcontour": [
           {
            "colorbar": {
             "outlinewidth": 0,
             "ticks": ""
            },
            "colorscale": [
             [
              0,
              "#0d0887"
             ],
             [
              0.1111111111111111,
              "#46039f"
             ],
             [
              0.2222222222222222,
              "#7201a8"
             ],
             [
              0.3333333333333333,
              "#9c179e"
             ],
             [
              0.4444444444444444,
              "#bd3786"
             ],
             [
              0.5555555555555556,
              "#d8576b"
             ],
             [
              0.6666666666666666,
              "#ed7953"
             ],
             [
              0.7777777777777778,
              "#fb9f3a"
             ],
             [
              0.8888888888888888,
              "#fdca26"
             ],
             [
              1,
              "#f0f921"
             ]
            ],
            "type": "histogram2dcontour"
           }
          ],
          "mesh3d": [
           {
            "colorbar": {
             "outlinewidth": 0,
             "ticks": ""
            },
            "type": "mesh3d"
           }
          ],
          "parcoords": [
           {
            "line": {
             "colorbar": {
              "outlinewidth": 0,
              "ticks": ""
             }
            },
            "type": "parcoords"
           }
          ],
          "pie": [
           {
            "automargin": true,
            "type": "pie"
           }
          ],
          "scatter": [
           {
            "fillpattern": {
             "fillmode": "overlay",
             "size": 10,
             "solidity": 0.2
            },
            "type": "scatter"
           }
          ],
          "scatter3d": [
           {
            "line": {
             "colorbar": {
              "outlinewidth": 0,
              "ticks": ""
             }
            },
            "marker": {
             "colorbar": {
              "outlinewidth": 0,
              "ticks": ""
             }
            },
            "type": "scatter3d"
           }
          ],
          "scattercarpet": [
           {
            "marker": {
             "colorbar": {
              "outlinewidth": 0,
              "ticks": ""
             }
            },
            "type": "scattercarpet"
           }
          ],
          "scattergeo": [
           {
            "marker": {
             "colorbar": {
              "outlinewidth": 0,
              "ticks": ""
             }
            },
            "type": "scattergeo"
           }
          ],
          "scattergl": [
           {
            "marker": {
             "colorbar": {
              "outlinewidth": 0,
              "ticks": ""
             }
            },
            "type": "scattergl"
           }
          ],
          "scattermapbox": [
           {
            "marker": {
             "colorbar": {
              "outlinewidth": 0,
              "ticks": ""
             }
            },
            "type": "scattermapbox"
           }
          ],
          "scatterpolar": [
           {
            "marker": {
             "colorbar": {
              "outlinewidth": 0,
              "ticks": ""
             }
            },
            "type": "scatterpolar"
           }
          ],
          "scatterpolargl": [
           {
            "marker": {
             "colorbar": {
              "outlinewidth": 0,
              "ticks": ""
             }
            },
            "type": "scatterpolargl"
           }
          ],
          "scatterternary": [
           {
            "marker": {
             "colorbar": {
              "outlinewidth": 0,
              "ticks": ""
             }
            },
            "type": "scatterternary"
           }
          ],
          "surface": [
           {
            "colorbar": {
             "outlinewidth": 0,
             "ticks": ""
            },
            "colorscale": [
             [
              0,
              "#0d0887"
             ],
             [
              0.1111111111111111,
              "#46039f"
             ],
             [
              0.2222222222222222,
              "#7201a8"
             ],
             [
              0.3333333333333333,
              "#9c179e"
             ],
             [
              0.4444444444444444,
              "#bd3786"
             ],
             [
              0.5555555555555556,
              "#d8576b"
             ],
             [
              0.6666666666666666,
              "#ed7953"
             ],
             [
              0.7777777777777778,
              "#fb9f3a"
             ],
             [
              0.8888888888888888,
              "#fdca26"
             ],
             [
              1,
              "#f0f921"
             ]
            ],
            "type": "surface"
           }
          ],
          "table": [
           {
            "cells": {
             "fill": {
              "color": "#EBF0F8"
             },
             "line": {
              "color": "white"
             }
            },
            "header": {
             "fill": {
              "color": "#C8D4E3"
             },
             "line": {
              "color": "white"
             }
            },
            "type": "table"
           }
          ]
         },
         "layout": {
          "annotationdefaults": {
           "arrowcolor": "#2a3f5f",
           "arrowhead": 0,
           "arrowwidth": 1
          },
          "autotypenumbers": "strict",
          "coloraxis": {
           "colorbar": {
            "outlinewidth": 0,
            "ticks": ""
           }
          },
          "colorscale": {
           "diverging": [
            [
             0,
             "#8e0152"
            ],
            [
             0.1,
             "#c51b7d"
            ],
            [
             0.2,
             "#de77ae"
            ],
            [
             0.3,
             "#f1b6da"
            ],
            [
             0.4,
             "#fde0ef"
            ],
            [
             0.5,
             "#f7f7f7"
            ],
            [
             0.6,
             "#e6f5d0"
            ],
            [
             0.7,
             "#b8e186"
            ],
            [
             0.8,
             "#7fbc41"
            ],
            [
             0.9,
             "#4d9221"
            ],
            [
             1,
             "#276419"
            ]
           ],
           "sequential": [
            [
             0,
             "#0d0887"
            ],
            [
             0.1111111111111111,
             "#46039f"
            ],
            [
             0.2222222222222222,
             "#7201a8"
            ],
            [
             0.3333333333333333,
             "#9c179e"
            ],
            [
             0.4444444444444444,
             "#bd3786"
            ],
            [
             0.5555555555555556,
             "#d8576b"
            ],
            [
             0.6666666666666666,
             "#ed7953"
            ],
            [
             0.7777777777777778,
             "#fb9f3a"
            ],
            [
             0.8888888888888888,
             "#fdca26"
            ],
            [
             1,
             "#f0f921"
            ]
           ],
           "sequentialminus": [
            [
             0,
             "#0d0887"
            ],
            [
             0.1111111111111111,
             "#46039f"
            ],
            [
             0.2222222222222222,
             "#7201a8"
            ],
            [
             0.3333333333333333,
             "#9c179e"
            ],
            [
             0.4444444444444444,
             "#bd3786"
            ],
            [
             0.5555555555555556,
             "#d8576b"
            ],
            [
             0.6666666666666666,
             "#ed7953"
            ],
            [
             0.7777777777777778,
             "#fb9f3a"
            ],
            [
             0.8888888888888888,
             "#fdca26"
            ],
            [
             1,
             "#f0f921"
            ]
           ]
          },
          "colorway": [
           "#636efa",
           "#EF553B",
           "#00cc96",
           "#ab63fa",
           "#FFA15A",
           "#19d3f3",
           "#FF6692",
           "#B6E880",
           "#FF97FF",
           "#FECB52"
          ],
          "font": {
           "color": "#2a3f5f"
          },
          "geo": {
           "bgcolor": "white",
           "lakecolor": "white",
           "landcolor": "#E5ECF6",
           "showlakes": true,
           "showland": true,
           "subunitcolor": "white"
          },
          "hoverlabel": {
           "align": "left"
          },
          "hovermode": "closest",
          "mapbox": {
           "style": "light"
          },
          "paper_bgcolor": "white",
          "plot_bgcolor": "#E5ECF6",
          "polar": {
           "angularaxis": {
            "gridcolor": "white",
            "linecolor": "white",
            "ticks": ""
           },
           "bgcolor": "#E5ECF6",
           "radialaxis": {
            "gridcolor": "white",
            "linecolor": "white",
            "ticks": ""
           }
          },
          "scene": {
           "xaxis": {
            "backgroundcolor": "#E5ECF6",
            "gridcolor": "white",
            "gridwidth": 2,
            "linecolor": "white",
            "showbackground": true,
            "ticks": "",
            "zerolinecolor": "white"
           },
           "yaxis": {
            "backgroundcolor": "#E5ECF6",
            "gridcolor": "white",
            "gridwidth": 2,
            "linecolor": "white",
            "showbackground": true,
            "ticks": "",
            "zerolinecolor": "white"
           },
           "zaxis": {
            "backgroundcolor": "#E5ECF6",
            "gridcolor": "white",
            "gridwidth": 2,
            "linecolor": "white",
            "showbackground": true,
            "ticks": "",
            "zerolinecolor": "white"
           }
          },
          "shapedefaults": {
           "line": {
            "color": "#2a3f5f"
           }
          },
          "ternary": {
           "aaxis": {
            "gridcolor": "white",
            "linecolor": "white",
            "ticks": ""
           },
           "baxis": {
            "gridcolor": "white",
            "linecolor": "white",
            "ticks": ""
           },
           "bgcolor": "#E5ECF6",
           "caxis": {
            "gridcolor": "white",
            "linecolor": "white",
            "ticks": ""
           }
          },
          "title": {
           "x": 0.05
          },
          "xaxis": {
           "automargin": true,
           "gridcolor": "white",
           "linecolor": "white",
           "ticks": "",
           "title": {
            "standoff": 15
           },
           "zerolinecolor": "white",
           "zerolinewidth": 2
          },
          "yaxis": {
           "automargin": true,
           "gridcolor": "white",
           "linecolor": "white",
           "ticks": "",
           "title": {
            "standoff": 15
           },
           "zerolinecolor": "white",
           "zerolinewidth": 2
          }
         }
        },
        "title": {
         "text": "Top 10 funded fatal diseases"
        },
        "updatemenus": [
         {
          "buttons": [
           {
            "args": [
             null,
             {
              "frame": {
               "duration": 500,
               "redraw": true
              },
              "fromcurrent": true,
              "mode": "immediate",
              "transition": {
               "duration": 500,
               "easing": "linear"
              }
             }
            ],
            "label": "&#9654;",
            "method": "animate"
           },
           {
            "args": [
             [
              null
             ],
             {
              "frame": {
               "duration": 0,
               "redraw": true
              },
              "fromcurrent": true,
              "mode": "immediate",
              "transition": {
               "duration": 0,
               "easing": "linear"
              }
             }
            ],
            "label": "&#9724;",
            "method": "animate"
           }
          ],
          "direction": "left",
          "pad": {
           "r": 10,
           "t": 70
          },
          "showactive": false,
          "type": "buttons",
          "x": 0.1,
          "xanchor": "right",
          "y": 0,
          "yanchor": "top"
         }
        ],
        "width": 1000,
        "xaxis": {
         "anchor": "y",
         "categoryarray": [
          "Sepsis 15",
          "Stroke ",
          "Cerebrovascular ",
          "Diabetes 4",
          "Chronic Obstructive Pulmonary Disease ",
          "Hypertension ",
          "Heart Disease - Coronary Heart Disease ",
          "Cancer ",
          "Cardiovascular ",
          "Heart Disease "
         ],
         "categoryorder": "array",
         "domain": [
          0,
          1
         ],
         "title": {
          "text": "Research/Disease Areas \n (Dollars in millions and rounded)"
         }
        },
        "yaxis": {
         "anchor": "x",
         "domain": [
          0,
          1
         ],
         "range": [
          0,
          8000
         ],
         "title": {
          "text": "value"
         }
        }
       }
      }
     },
     "metadata": {},
     "output_type": "display_data"
    }
   ],
   "source": [
    "fatal10 = fatal.sort_values('2019 US Mortality 19').iloc[-10:,]\n",
    "sem = pd.melt(fatal10, id_vars=['Research/Disease Areas \\n (Dollars in millions and rounded)'], \n",
    "        value_vars=fatal.columns[1:17],\n",
    "        var_name='year', value_name='value')\n",
    "sem = sem.rename(columns={'2022 Estimated': '2022','2023 Estimated': '2023'})\n",
    "sem['value'] = sem['value'].astype(int)\n",
    "fig = px.bar(sem, x='Research/Disease Areas \\n (Dollars in millions and rounded)', \n",
    "             y=\"value\", color='Research/Disease Areas \\n (Dollars in millions and rounded)',\n",
    "             title='Top 10 funded fatal diseases',\n",
    "  animation_frame=\"year\",width = 1000,height = 600,range_y=[0,8000])\n",
    "\n",
    "fig.show()"
   ]
  },
  {
   "cell_type": "code",
   "execution_count": 80,
   "metadata": {},
   "outputs": [
    {
     "data": {
      "application/vnd.plotly.v1+json": {
       "config": {
        "plotlyServerURL": "https://plot.ly"
       },
       "data": [
        {
         "alignmentgroup": "True",
         "hovertemplate": "Research/Disease Areas \n (Dollars in millions and rounded)=%{x}<br>year=2008<br>value=%{y}<extra></extra>",
         "legendgroup": "Tobacco Smoke and Health 25",
         "marker": {
          "color": "#636efa",
          "pattern": {
           "shape": ""
          }
         },
         "name": "Tobacco Smoke and Health 25",
         "offsetgroup": "Tobacco Smoke and Health 25",
         "orientation": "v",
         "showlegend": true,
         "textposition": "auto",
         "type": "bar",
         "x": [
          "Tobacco Smoke and Health 25"
         ],
         "xaxis": "x",
         "y": [
          310
         ],
         "yaxis": "y"
        },
        {
         "alignmentgroup": "True",
         "hovertemplate": "Research/Disease Areas \n (Dollars in millions and rounded)=%{x}<br>year=2008<br>value=%{y}<extra></extra>",
         "legendgroup": "Topical Microbicides ",
         "marker": {
          "color": "#EF553B",
          "pattern": {
           "shape": ""
          }
         },
         "name": "Topical Microbicides ",
         "offsetgroup": "Topical Microbicides ",
         "orientation": "v",
         "showlegend": true,
         "textposition": "auto",
         "type": "bar",
         "x": [
          "Topical Microbicides "
         ],
         "xaxis": "x",
         "y": [
          102
         ],
         "yaxis": "y"
        },
        {
         "alignmentgroup": "True",
         "hovertemplate": "Research/Disease Areas \n (Dollars in millions and rounded)=%{x}<br>year=2008<br>value=%{y}<extra></extra>",
         "legendgroup": "Transplantation ",
         "marker": {
          "color": "#00cc96",
          "pattern": {
           "shape": ""
          }
         },
         "name": "Transplantation ",
         "offsetgroup": "Transplantation ",
         "orientation": "v",
         "showlegend": true,
         "textposition": "auto",
         "type": "bar",
         "x": [
          "Transplantation "
         ],
         "xaxis": "x",
         "y": [
          519
         ],
         "yaxis": "y"
        },
        {
         "alignmentgroup": "True",
         "hovertemplate": "Research/Disease Areas \n (Dollars in millions and rounded)=%{x}<br>year=2008<br>value=%{y}<extra></extra>",
         "legendgroup": "Traumatic Brain Injury (TBI) 32",
         "marker": {
          "color": "#ab63fa",
          "pattern": {
           "shape": ""
          }
         },
         "name": "Traumatic Brain Injury (TBI) 32",
         "offsetgroup": "Traumatic Brain Injury (TBI) 32",
         "orientation": "v",
         "showlegend": true,
         "textposition": "auto",
         "type": "bar",
         "x": [
          "Traumatic Brain Injury (TBI) 32"
         ],
         "xaxis": "x",
         "y": [
          59
         ],
         "yaxis": "y"
        },
        {
         "alignmentgroup": "True",
         "hovertemplate": "Research/Disease Areas \n (Dollars in millions and rounded)=%{x}<br>year=2008<br>value=%{y}<extra></extra>",
         "legendgroup": "Traumatic Head and Spine Injury 33",
         "marker": {
          "color": "#FFA15A",
          "pattern": {
           "shape": ""
          }
         },
         "name": "Traumatic Head and Spine Injury 33",
         "offsetgroup": "Traumatic Head and Spine Injury 33",
         "orientation": "v",
         "showlegend": true,
         "textposition": "auto",
         "type": "bar",
         "x": [
          "Traumatic Head and Spine Injury 33"
         ],
         "xaxis": "x",
         "y": [
          150
         ],
         "yaxis": "y"
        },
        {
         "alignmentgroup": "True",
         "hovertemplate": "Research/Disease Areas \n (Dollars in millions and rounded)=%{x}<br>year=2008<br>value=%{y}<extra></extra>",
         "legendgroup": "Tuberculosis Vaccine ",
         "marker": {
          "color": "#19d3f3",
          "pattern": {
           "shape": ""
          }
         },
         "name": "Tuberculosis Vaccine ",
         "offsetgroup": "Tuberculosis Vaccine ",
         "orientation": "v",
         "showlegend": true,
         "textposition": "auto",
         "type": "bar",
         "x": [
          "Tuberculosis Vaccine "
         ],
         "xaxis": "x",
         "y": [
          18
         ],
         "yaxis": "y"
        },
        {
         "alignmentgroup": "True",
         "hovertemplate": "Research/Disease Areas \n (Dollars in millions and rounded)=%{x}<br>year=2008<br>value=%{y}<extra></extra>",
         "legendgroup": "Underage Drinking ",
         "marker": {
          "color": "#FF6692",
          "pattern": {
           "shape": ""
          }
         },
         "name": "Underage Drinking ",
         "offsetgroup": "Underage Drinking ",
         "orientation": "v",
         "showlegend": true,
         "textposition": "auto",
         "type": "bar",
         "x": [
          "Underage Drinking "
         ],
         "xaxis": "x",
         "y": [
          -1
         ],
         "yaxis": "y"
        },
        {
         "alignmentgroup": "True",
         "hovertemplate": "Research/Disease Areas \n (Dollars in millions and rounded)=%{x}<br>year=2008<br>value=%{y}<extra></extra>",
         "legendgroup": "Underage Drinking - Prevention & Treatment (NIAAA Only) 16",
         "marker": {
          "color": "#B6E880",
          "pattern": {
           "shape": ""
          }
         },
         "name": "Underage Drinking - Prevention & Treatment (NIAAA Only) 16",
         "offsetgroup": "Underage Drinking - Prevention & Treatment (NIAAA Only) 16",
         "orientation": "v",
         "showlegend": true,
         "textposition": "auto",
         "type": "bar",
         "x": [
          "Underage Drinking - Prevention & Treatment (NIAAA Only) 16"
         ],
         "xaxis": "x",
         "y": [
          -1
         ],
         "yaxis": "y"
        },
        {
         "alignmentgroup": "True",
         "hovertemplate": "Research/Disease Areas \n (Dollars in millions and rounded)=%{x}<br>year=2008<br>value=%{y}<extra></extra>",
         "legendgroup": "Therapeutic Cannabinoid Research ",
         "marker": {
          "color": "#FF97FF",
          "pattern": {
           "shape": ""
          }
         },
         "name": "Therapeutic Cannabinoid Research ",
         "offsetgroup": "Therapeutic Cannabinoid Research ",
         "orientation": "v",
         "showlegend": true,
         "textposition": "auto",
         "type": "bar",
         "x": [
          "Therapeutic Cannabinoid Research "
         ],
         "xaxis": "x",
         "y": [
          -1
         ],
         "yaxis": "y"
        },
        {
         "alignmentgroup": "True",
         "hovertemplate": "Research/Disease Areas \n (Dollars in millions and rounded)=%{x}<br>year=2008<br>value=%{y}<extra></extra>",
         "legendgroup": "Back Pain ",
         "marker": {
          "color": "#FECB52",
          "pattern": {
           "shape": ""
          }
         },
         "name": "Back Pain ",
         "offsetgroup": "Back Pain ",
         "orientation": "v",
         "showlegend": true,
         "textposition": "auto",
         "type": "bar",
         "x": [
          "Back Pain "
         ],
         "xaxis": "x",
         "y": [
          -1
         ],
         "yaxis": "y"
        }
       ],
       "frames": [
        {
         "data": [
          {
           "alignmentgroup": "True",
           "hovertemplate": "Research/Disease Areas \n (Dollars in millions and rounded)=%{x}<br>year=2008<br>value=%{y}<extra></extra>",
           "legendgroup": "Tobacco Smoke and Health 25",
           "marker": {
            "color": "#636efa",
            "pattern": {
             "shape": ""
            }
           },
           "name": "Tobacco Smoke and Health 25",
           "offsetgroup": "Tobacco Smoke and Health 25",
           "orientation": "v",
           "showlegend": true,
           "textposition": "auto",
           "type": "bar",
           "x": [
            "Tobacco Smoke and Health 25"
           ],
           "xaxis": "x",
           "y": [
            310
           ],
           "yaxis": "y"
          },
          {
           "alignmentgroup": "True",
           "hovertemplate": "Research/Disease Areas \n (Dollars in millions and rounded)=%{x}<br>year=2008<br>value=%{y}<extra></extra>",
           "legendgroup": "Topical Microbicides ",
           "marker": {
            "color": "#EF553B",
            "pattern": {
             "shape": ""
            }
           },
           "name": "Topical Microbicides ",
           "offsetgroup": "Topical Microbicides ",
           "orientation": "v",
           "showlegend": true,
           "textposition": "auto",
           "type": "bar",
           "x": [
            "Topical Microbicides "
           ],
           "xaxis": "x",
           "y": [
            102
           ],
           "yaxis": "y"
          },
          {
           "alignmentgroup": "True",
           "hovertemplate": "Research/Disease Areas \n (Dollars in millions and rounded)=%{x}<br>year=2008<br>value=%{y}<extra></extra>",
           "legendgroup": "Transplantation ",
           "marker": {
            "color": "#00cc96",
            "pattern": {
             "shape": ""
            }
           },
           "name": "Transplantation ",
           "offsetgroup": "Transplantation ",
           "orientation": "v",
           "showlegend": true,
           "textposition": "auto",
           "type": "bar",
           "x": [
            "Transplantation "
           ],
           "xaxis": "x",
           "y": [
            519
           ],
           "yaxis": "y"
          },
          {
           "alignmentgroup": "True",
           "hovertemplate": "Research/Disease Areas \n (Dollars in millions and rounded)=%{x}<br>year=2008<br>value=%{y}<extra></extra>",
           "legendgroup": "Traumatic Brain Injury (TBI) 32",
           "marker": {
            "color": "#ab63fa",
            "pattern": {
             "shape": ""
            }
           },
           "name": "Traumatic Brain Injury (TBI) 32",
           "offsetgroup": "Traumatic Brain Injury (TBI) 32",
           "orientation": "v",
           "showlegend": true,
           "textposition": "auto",
           "type": "bar",
           "x": [
            "Traumatic Brain Injury (TBI) 32"
           ],
           "xaxis": "x",
           "y": [
            59
           ],
           "yaxis": "y"
          },
          {
           "alignmentgroup": "True",
           "hovertemplate": "Research/Disease Areas \n (Dollars in millions and rounded)=%{x}<br>year=2008<br>value=%{y}<extra></extra>",
           "legendgroup": "Traumatic Head and Spine Injury 33",
           "marker": {
            "color": "#FFA15A",
            "pattern": {
             "shape": ""
            }
           },
           "name": "Traumatic Head and Spine Injury 33",
           "offsetgroup": "Traumatic Head and Spine Injury 33",
           "orientation": "v",
           "showlegend": true,
           "textposition": "auto",
           "type": "bar",
           "x": [
            "Traumatic Head and Spine Injury 33"
           ],
           "xaxis": "x",
           "y": [
            150
           ],
           "yaxis": "y"
          },
          {
           "alignmentgroup": "True",
           "hovertemplate": "Research/Disease Areas \n (Dollars in millions and rounded)=%{x}<br>year=2008<br>value=%{y}<extra></extra>",
           "legendgroup": "Tuberculosis Vaccine ",
           "marker": {
            "color": "#19d3f3",
            "pattern": {
             "shape": ""
            }
           },
           "name": "Tuberculosis Vaccine ",
           "offsetgroup": "Tuberculosis Vaccine ",
           "orientation": "v",
           "showlegend": true,
           "textposition": "auto",
           "type": "bar",
           "x": [
            "Tuberculosis Vaccine "
           ],
           "xaxis": "x",
           "y": [
            18
           ],
           "yaxis": "y"
          },
          {
           "alignmentgroup": "True",
           "hovertemplate": "Research/Disease Areas \n (Dollars in millions and rounded)=%{x}<br>year=2008<br>value=%{y}<extra></extra>",
           "legendgroup": "Underage Drinking ",
           "marker": {
            "color": "#FF6692",
            "pattern": {
             "shape": ""
            }
           },
           "name": "Underage Drinking ",
           "offsetgroup": "Underage Drinking ",
           "orientation": "v",
           "showlegend": true,
           "textposition": "auto",
           "type": "bar",
           "x": [
            "Underage Drinking "
           ],
           "xaxis": "x",
           "y": [
            -1
           ],
           "yaxis": "y"
          },
          {
           "alignmentgroup": "True",
           "hovertemplate": "Research/Disease Areas \n (Dollars in millions and rounded)=%{x}<br>year=2008<br>value=%{y}<extra></extra>",
           "legendgroup": "Underage Drinking - Prevention & Treatment (NIAAA Only) 16",
           "marker": {
            "color": "#B6E880",
            "pattern": {
             "shape": ""
            }
           },
           "name": "Underage Drinking - Prevention & Treatment (NIAAA Only) 16",
           "offsetgroup": "Underage Drinking - Prevention & Treatment (NIAAA Only) 16",
           "orientation": "v",
           "showlegend": true,
           "textposition": "auto",
           "type": "bar",
           "x": [
            "Underage Drinking - Prevention & Treatment (NIAAA Only) 16"
           ],
           "xaxis": "x",
           "y": [
            -1
           ],
           "yaxis": "y"
          },
          {
           "alignmentgroup": "True",
           "hovertemplate": "Research/Disease Areas \n (Dollars in millions and rounded)=%{x}<br>year=2008<br>value=%{y}<extra></extra>",
           "legendgroup": "Therapeutic Cannabinoid Research ",
           "marker": {
            "color": "#FF97FF",
            "pattern": {
             "shape": ""
            }
           },
           "name": "Therapeutic Cannabinoid Research ",
           "offsetgroup": "Therapeutic Cannabinoid Research ",
           "orientation": "v",
           "showlegend": true,
           "textposition": "auto",
           "type": "bar",
           "x": [
            "Therapeutic Cannabinoid Research "
           ],
           "xaxis": "x",
           "y": [
            -1
           ],
           "yaxis": "y"
          },
          {
           "alignmentgroup": "True",
           "hovertemplate": "Research/Disease Areas \n (Dollars in millions and rounded)=%{x}<br>year=2008<br>value=%{y}<extra></extra>",
           "legendgroup": "Back Pain ",
           "marker": {
            "color": "#FECB52",
            "pattern": {
             "shape": ""
            }
           },
           "name": "Back Pain ",
           "offsetgroup": "Back Pain ",
           "orientation": "v",
           "showlegend": true,
           "textposition": "auto",
           "type": "bar",
           "x": [
            "Back Pain "
           ],
           "xaxis": "x",
           "y": [
            -1
           ],
           "yaxis": "y"
          }
         ],
         "name": "2008"
        },
        {
         "data": [
          {
           "alignmentgroup": "True",
           "hovertemplate": "Research/Disease Areas \n (Dollars in millions and rounded)=%{x}<br>year=2009<br>value=%{y}<extra></extra>",
           "legendgroup": "Tobacco Smoke and Health 25",
           "marker": {
            "color": "#636efa",
            "pattern": {
             "shape": ""
            }
           },
           "name": "Tobacco Smoke and Health 25",
           "offsetgroup": "Tobacco Smoke and Health 25",
           "orientation": "v",
           "showlegend": true,
           "textposition": "auto",
           "type": "bar",
           "x": [
            "Tobacco Smoke and Health 25"
           ],
           "xaxis": "x",
           "y": [
            407
           ],
           "yaxis": "y"
          },
          {
           "alignmentgroup": "True",
           "hovertemplate": "Research/Disease Areas \n (Dollars in millions and rounded)=%{x}<br>year=2009<br>value=%{y}<extra></extra>",
           "legendgroup": "Topical Microbicides ",
           "marker": {
            "color": "#EF553B",
            "pattern": {
             "shape": ""
            }
           },
           "name": "Topical Microbicides ",
           "offsetgroup": "Topical Microbicides ",
           "orientation": "v",
           "showlegend": true,
           "textposition": "auto",
           "type": "bar",
           "x": [
            "Topical Microbicides "
           ],
           "xaxis": "x",
           "y": [
            99
           ],
           "yaxis": "y"
          },
          {
           "alignmentgroup": "True",
           "hovertemplate": "Research/Disease Areas \n (Dollars in millions and rounded)=%{x}<br>year=2009<br>value=%{y}<extra></extra>",
           "legendgroup": "Transplantation ",
           "marker": {
            "color": "#00cc96",
            "pattern": {
             "shape": ""
            }
           },
           "name": "Transplantation ",
           "offsetgroup": "Transplantation ",
           "orientation": "v",
           "showlegend": true,
           "textposition": "auto",
           "type": "bar",
           "x": [
            "Transplantation "
           ],
           "xaxis": "x",
           "y": [
            665
           ],
           "yaxis": "y"
          },
          {
           "alignmentgroup": "True",
           "hovertemplate": "Research/Disease Areas \n (Dollars in millions and rounded)=%{x}<br>year=2009<br>value=%{y}<extra></extra>",
           "legendgroup": "Traumatic Brain Injury (TBI) 32",
           "marker": {
            "color": "#ab63fa",
            "pattern": {
             "shape": ""
            }
           },
           "name": "Traumatic Brain Injury (TBI) 32",
           "offsetgroup": "Traumatic Brain Injury (TBI) 32",
           "orientation": "v",
           "showlegend": true,
           "textposition": "auto",
           "type": "bar",
           "x": [
            "Traumatic Brain Injury (TBI) 32"
           ],
           "xaxis": "x",
           "y": [
            86
           ],
           "yaxis": "y"
          },
          {
           "alignmentgroup": "True",
           "hovertemplate": "Research/Disease Areas \n (Dollars in millions and rounded)=%{x}<br>year=2009<br>value=%{y}<extra></extra>",
           "legendgroup": "Traumatic Head and Spine Injury 33",
           "marker": {
            "color": "#FFA15A",
            "pattern": {
             "shape": ""
            }
           },
           "name": "Traumatic Head and Spine Injury 33",
           "offsetgroup": "Traumatic Head and Spine Injury 33",
           "orientation": "v",
           "showlegend": true,
           "textposition": "auto",
           "type": "bar",
           "x": [
            "Traumatic Head and Spine Injury 33"
           ],
           "xaxis": "x",
           "y": [
            194
           ],
           "yaxis": "y"
          },
          {
           "alignmentgroup": "True",
           "hovertemplate": "Research/Disease Areas \n (Dollars in millions and rounded)=%{x}<br>year=2009<br>value=%{y}<extra></extra>",
           "legendgroup": "Tuberculosis Vaccine ",
           "marker": {
            "color": "#19d3f3",
            "pattern": {
             "shape": ""
            }
           },
           "name": "Tuberculosis Vaccine ",
           "offsetgroup": "Tuberculosis Vaccine ",
           "orientation": "v",
           "showlegend": true,
           "textposition": "auto",
           "type": "bar",
           "x": [
            "Tuberculosis Vaccine "
           ],
           "xaxis": "x",
           "y": [
            18
           ],
           "yaxis": "y"
          },
          {
           "alignmentgroup": "True",
           "hovertemplate": "Research/Disease Areas \n (Dollars in millions and rounded)=%{x}<br>year=2009<br>value=%{y}<extra></extra>",
           "legendgroup": "Underage Drinking ",
           "marker": {
            "color": "#FF6692",
            "pattern": {
             "shape": ""
            }
           },
           "name": "Underage Drinking ",
           "offsetgroup": "Underage Drinking ",
           "orientation": "v",
           "showlegend": true,
           "textposition": "auto",
           "type": "bar",
           "x": [
            "Underage Drinking "
           ],
           "xaxis": "x",
           "y": [
            -2
           ],
           "yaxis": "y"
          },
          {
           "alignmentgroup": "True",
           "hovertemplate": "Research/Disease Areas \n (Dollars in millions and rounded)=%{x}<br>year=2009<br>value=%{y}<extra></extra>",
           "legendgroup": "Underage Drinking - Prevention & Treatment (NIAAA Only) 16",
           "marker": {
            "color": "#B6E880",
            "pattern": {
             "shape": ""
            }
           },
           "name": "Underage Drinking - Prevention & Treatment (NIAAA Only) 16",
           "offsetgroup": "Underage Drinking - Prevention & Treatment (NIAAA Only) 16",
           "orientation": "v",
           "showlegend": true,
           "textposition": "auto",
           "type": "bar",
           "x": [
            "Underage Drinking - Prevention & Treatment (NIAAA Only) 16"
           ],
           "xaxis": "x",
           "y": [
            -2
           ],
           "yaxis": "y"
          },
          {
           "alignmentgroup": "True",
           "hovertemplate": "Research/Disease Areas \n (Dollars in millions and rounded)=%{x}<br>year=2009<br>value=%{y}<extra></extra>",
           "legendgroup": "Therapeutic Cannabinoid Research ",
           "marker": {
            "color": "#FF97FF",
            "pattern": {
             "shape": ""
            }
           },
           "name": "Therapeutic Cannabinoid Research ",
           "offsetgroup": "Therapeutic Cannabinoid Research ",
           "orientation": "v",
           "showlegend": true,
           "textposition": "auto",
           "type": "bar",
           "x": [
            "Therapeutic Cannabinoid Research "
           ],
           "xaxis": "x",
           "y": [
            -2
           ],
           "yaxis": "y"
          },
          {
           "alignmentgroup": "True",
           "hovertemplate": "Research/Disease Areas \n (Dollars in millions and rounded)=%{x}<br>year=2009<br>value=%{y}<extra></extra>",
           "legendgroup": "Back Pain ",
           "marker": {
            "color": "#FECB52",
            "pattern": {
             "shape": ""
            }
           },
           "name": "Back Pain ",
           "offsetgroup": "Back Pain ",
           "orientation": "v",
           "showlegend": true,
           "textposition": "auto",
           "type": "bar",
           "x": [
            "Back Pain "
           ],
           "xaxis": "x",
           "y": [
            -2
           ],
           "yaxis": "y"
          }
         ],
         "name": "2009"
        },
        {
         "data": [
          {
           "alignmentgroup": "True",
           "hovertemplate": "Research/Disease Areas \n (Dollars in millions and rounded)=%{x}<br>year=2010<br>value=%{y}<extra></extra>",
           "legendgroup": "Tobacco Smoke and Health 25",
           "marker": {
            "color": "#636efa",
            "pattern": {
             "shape": ""
            }
           },
           "name": "Tobacco Smoke and Health 25",
           "offsetgroup": "Tobacco Smoke and Health 25",
           "orientation": "v",
           "showlegend": true,
           "textposition": "auto",
           "type": "bar",
           "x": [
            "Tobacco Smoke and Health 25"
           ],
           "xaxis": "x",
           "y": [
            391
           ],
           "yaxis": "y"
          },
          {
           "alignmentgroup": "True",
           "hovertemplate": "Research/Disease Areas \n (Dollars in millions and rounded)=%{x}<br>year=2010<br>value=%{y}<extra></extra>",
           "legendgroup": "Topical Microbicides ",
           "marker": {
            "color": "#EF553B",
            "pattern": {
             "shape": ""
            }
           },
           "name": "Topical Microbicides ",
           "offsetgroup": "Topical Microbicides ",
           "orientation": "v",
           "showlegend": true,
           "textposition": "auto",
           "type": "bar",
           "x": [
            "Topical Microbicides "
           ],
           "xaxis": "x",
           "y": [
            89
           ],
           "yaxis": "y"
          },
          {
           "alignmentgroup": "True",
           "hovertemplate": "Research/Disease Areas \n (Dollars in millions and rounded)=%{x}<br>year=2010<br>value=%{y}<extra></extra>",
           "legendgroup": "Transplantation ",
           "marker": {
            "color": "#00cc96",
            "pattern": {
             "shape": ""
            }
           },
           "name": "Transplantation ",
           "offsetgroup": "Transplantation ",
           "orientation": "v",
           "showlegend": true,
           "textposition": "auto",
           "type": "bar",
           "x": [
            "Transplantation "
           ],
           "xaxis": "x",
           "y": [
            683
           ],
           "yaxis": "y"
          },
          {
           "alignmentgroup": "True",
           "hovertemplate": "Research/Disease Areas \n (Dollars in millions and rounded)=%{x}<br>year=2010<br>value=%{y}<extra></extra>",
           "legendgroup": "Traumatic Brain Injury (TBI) 32",
           "marker": {
            "color": "#ab63fa",
            "pattern": {
             "shape": ""
            }
           },
           "name": "Traumatic Brain Injury (TBI) 32",
           "offsetgroup": "Traumatic Brain Injury (TBI) 32",
           "orientation": "v",
           "showlegend": true,
           "textposition": "auto",
           "type": "bar",
           "x": [
            "Traumatic Brain Injury (TBI) 32"
           ],
           "xaxis": "x",
           "y": [
            94
           ],
           "yaxis": "y"
          },
          {
           "alignmentgroup": "True",
           "hovertemplate": "Research/Disease Areas \n (Dollars in millions and rounded)=%{x}<br>year=2010<br>value=%{y}<extra></extra>",
           "legendgroup": "Traumatic Head and Spine Injury 33",
           "marker": {
            "color": "#FFA15A",
            "pattern": {
             "shape": ""
            }
           },
           "name": "Traumatic Head and Spine Injury 33",
           "offsetgroup": "Traumatic Head and Spine Injury 33",
           "orientation": "v",
           "showlegend": true,
           "textposition": "auto",
           "type": "bar",
           "x": [
            "Traumatic Head and Spine Injury 33"
           ],
           "xaxis": "x",
           "y": [
            210
           ],
           "yaxis": "y"
          },
          {
           "alignmentgroup": "True",
           "hovertemplate": "Research/Disease Areas \n (Dollars in millions and rounded)=%{x}<br>year=2010<br>value=%{y}<extra></extra>",
           "legendgroup": "Tuberculosis Vaccine ",
           "marker": {
            "color": "#19d3f3",
            "pattern": {
             "shape": ""
            }
           },
           "name": "Tuberculosis Vaccine ",
           "offsetgroup": "Tuberculosis Vaccine ",
           "orientation": "v",
           "showlegend": true,
           "textposition": "auto",
           "type": "bar",
           "x": [
            "Tuberculosis Vaccine "
           ],
           "xaxis": "x",
           "y": [
            16
           ],
           "yaxis": "y"
          },
          {
           "alignmentgroup": "True",
           "hovertemplate": "Research/Disease Areas \n (Dollars in millions and rounded)=%{x}<br>year=2010<br>value=%{y}<extra></extra>",
           "legendgroup": "Underage Drinking ",
           "marker": {
            "color": "#FF6692",
            "pattern": {
             "shape": ""
            }
           },
           "name": "Underage Drinking ",
           "offsetgroup": "Underage Drinking ",
           "orientation": "v",
           "showlegend": true,
           "textposition": "auto",
           "type": "bar",
           "x": [
            "Underage Drinking "
           ],
           "xaxis": "x",
           "y": [
            80
           ],
           "yaxis": "y"
          },
          {
           "alignmentgroup": "True",
           "hovertemplate": "Research/Disease Areas \n (Dollars in millions and rounded)=%{x}<br>year=2010<br>value=%{y}<extra></extra>",
           "legendgroup": "Underage Drinking - Prevention & Treatment (NIAAA Only) 16",
           "marker": {
            "color": "#B6E880",
            "pattern": {
             "shape": ""
            }
           },
           "name": "Underage Drinking - Prevention & Treatment (NIAAA Only) 16",
           "offsetgroup": "Underage Drinking - Prevention & Treatment (NIAAA Only) 16",
           "orientation": "v",
           "showlegend": true,
           "textposition": "auto",
           "type": "bar",
           "x": [
            "Underage Drinking - Prevention & Treatment (NIAAA Only) 16"
           ],
           "xaxis": "x",
           "y": [
            58
           ],
           "yaxis": "y"
          },
          {
           "alignmentgroup": "True",
           "hovertemplate": "Research/Disease Areas \n (Dollars in millions and rounded)=%{x}<br>year=2010<br>value=%{y}<extra></extra>",
           "legendgroup": "Therapeutic Cannabinoid Research ",
           "marker": {
            "color": "#FF97FF",
            "pattern": {
             "shape": ""
            }
           },
           "name": "Therapeutic Cannabinoid Research ",
           "offsetgroup": "Therapeutic Cannabinoid Research ",
           "orientation": "v",
           "showlegend": true,
           "textposition": "auto",
           "type": "bar",
           "x": [
            "Therapeutic Cannabinoid Research "
           ],
           "xaxis": "x",
           "y": [
            -2
           ],
           "yaxis": "y"
          },
          {
           "alignmentgroup": "True",
           "hovertemplate": "Research/Disease Areas \n (Dollars in millions and rounded)=%{x}<br>year=2010<br>value=%{y}<extra></extra>",
           "legendgroup": "Back Pain ",
           "marker": {
            "color": "#FECB52",
            "pattern": {
             "shape": ""
            }
           },
           "name": "Back Pain ",
           "offsetgroup": "Back Pain ",
           "orientation": "v",
           "showlegend": true,
           "textposition": "auto",
           "type": "bar",
           "x": [
            "Back Pain "
           ],
           "xaxis": "x",
           "y": [
            -2
           ],
           "yaxis": "y"
          }
         ],
         "name": "2010"
        },
        {
         "data": [
          {
           "alignmentgroup": "True",
           "hovertemplate": "Research/Disease Areas \n (Dollars in millions and rounded)=%{x}<br>year=2011<br>value=%{y}<extra></extra>",
           "legendgroup": "Tobacco Smoke and Health 25",
           "marker": {
            "color": "#636efa",
            "pattern": {
             "shape": ""
            }
           },
           "name": "Tobacco Smoke and Health 25",
           "offsetgroup": "Tobacco Smoke and Health 25",
           "orientation": "v",
           "showlegend": true,
           "textposition": "auto",
           "type": "bar",
           "x": [
            "Tobacco Smoke and Health 25"
           ],
           "xaxis": "x",
           "y": [
            360
           ],
           "yaxis": "y"
          },
          {
           "alignmentgroup": "True",
           "hovertemplate": "Research/Disease Areas \n (Dollars in millions and rounded)=%{x}<br>year=2011<br>value=%{y}<extra></extra>",
           "legendgroup": "Topical Microbicides ",
           "marker": {
            "color": "#EF553B",
            "pattern": {
             "shape": ""
            }
           },
           "name": "Topical Microbicides ",
           "offsetgroup": "Topical Microbicides ",
           "orientation": "v",
           "showlegend": true,
           "textposition": "auto",
           "type": "bar",
           "x": [
            "Topical Microbicides "
           ],
           "xaxis": "x",
           "y": [
            104
           ],
           "yaxis": "y"
          },
          {
           "alignmentgroup": "True",
           "hovertemplate": "Research/Disease Areas \n (Dollars in millions and rounded)=%{x}<br>year=2011<br>value=%{y}<extra></extra>",
           "legendgroup": "Transplantation ",
           "marker": {
            "color": "#00cc96",
            "pattern": {
             "shape": ""
            }
           },
           "name": "Transplantation ",
           "offsetgroup": "Transplantation ",
           "orientation": "v",
           "showlegend": true,
           "textposition": "auto",
           "type": "bar",
           "x": [
            "Transplantation "
           ],
           "xaxis": "x",
           "y": [
            592
           ],
           "yaxis": "y"
          },
          {
           "alignmentgroup": "True",
           "hovertemplate": "Research/Disease Areas \n (Dollars in millions and rounded)=%{x}<br>year=2011<br>value=%{y}<extra></extra>",
           "legendgroup": "Traumatic Brain Injury (TBI) 32",
           "marker": {
            "color": "#ab63fa",
            "pattern": {
             "shape": ""
            }
           },
           "name": "Traumatic Brain Injury (TBI) 32",
           "offsetgroup": "Traumatic Brain Injury (TBI) 32",
           "orientation": "v",
           "showlegend": true,
           "textposition": "auto",
           "type": "bar",
           "x": [
            "Traumatic Brain Injury (TBI) 32"
           ],
           "xaxis": "x",
           "y": [
            81
           ],
           "yaxis": "y"
          },
          {
           "alignmentgroup": "True",
           "hovertemplate": "Research/Disease Areas \n (Dollars in millions and rounded)=%{x}<br>year=2011<br>value=%{y}<extra></extra>",
           "legendgroup": "Traumatic Head and Spine Injury 33",
           "marker": {
            "color": "#FFA15A",
            "pattern": {
             "shape": ""
            }
           },
           "name": "Traumatic Head and Spine Injury 33",
           "offsetgroup": "Traumatic Head and Spine Injury 33",
           "orientation": "v",
           "showlegend": true,
           "textposition": "auto",
           "type": "bar",
           "x": [
            "Traumatic Head and Spine Injury 33"
           ],
           "xaxis": "x",
           "y": [
            166
           ],
           "yaxis": "y"
          },
          {
           "alignmentgroup": "True",
           "hovertemplate": "Research/Disease Areas \n (Dollars in millions and rounded)=%{x}<br>year=2011<br>value=%{y}<extra></extra>",
           "legendgroup": "Tuberculosis Vaccine ",
           "marker": {
            "color": "#19d3f3",
            "pattern": {
             "shape": ""
            }
           },
           "name": "Tuberculosis Vaccine ",
           "offsetgroup": "Tuberculosis Vaccine ",
           "orientation": "v",
           "showlegend": true,
           "textposition": "auto",
           "type": "bar",
           "x": [
            "Tuberculosis Vaccine "
           ],
           "xaxis": "x",
           "y": [
            17
           ],
           "yaxis": "y"
          },
          {
           "alignmentgroup": "True",
           "hovertemplate": "Research/Disease Areas \n (Dollars in millions and rounded)=%{x}<br>year=2011<br>value=%{y}<extra></extra>",
           "legendgroup": "Underage Drinking ",
           "marker": {
            "color": "#FF6692",
            "pattern": {
             "shape": ""
            }
           },
           "name": "Underage Drinking ",
           "offsetgroup": "Underage Drinking ",
           "orientation": "v",
           "showlegend": true,
           "textposition": "auto",
           "type": "bar",
           "x": [
            "Underage Drinking "
           ],
           "xaxis": "x",
           "y": [
            77
           ],
           "yaxis": "y"
          },
          {
           "alignmentgroup": "True",
           "hovertemplate": "Research/Disease Areas \n (Dollars in millions and rounded)=%{x}<br>year=2011<br>value=%{y}<extra></extra>",
           "legendgroup": "Underage Drinking - Prevention & Treatment (NIAAA Only) 16",
           "marker": {
            "color": "#B6E880",
            "pattern": {
             "shape": ""
            }
           },
           "name": "Underage Drinking - Prevention & Treatment (NIAAA Only) 16",
           "offsetgroup": "Underage Drinking - Prevention & Treatment (NIAAA Only) 16",
           "orientation": "v",
           "showlegend": true,
           "textposition": "auto",
           "type": "bar",
           "x": [
            "Underage Drinking - Prevention & Treatment (NIAAA Only) 16"
           ],
           "xaxis": "x",
           "y": [
            57
           ],
           "yaxis": "y"
          },
          {
           "alignmentgroup": "True",
           "hovertemplate": "Research/Disease Areas \n (Dollars in millions and rounded)=%{x}<br>year=2011<br>value=%{y}<extra></extra>",
           "legendgroup": "Therapeutic Cannabinoid Research ",
           "marker": {
            "color": "#FF97FF",
            "pattern": {
             "shape": ""
            }
           },
           "name": "Therapeutic Cannabinoid Research ",
           "offsetgroup": "Therapeutic Cannabinoid Research ",
           "orientation": "v",
           "showlegend": true,
           "textposition": "auto",
           "type": "bar",
           "x": [
            "Therapeutic Cannabinoid Research "
           ],
           "xaxis": "x",
           "y": [
            -1
           ],
           "yaxis": "y"
          },
          {
           "alignmentgroup": "True",
           "hovertemplate": "Research/Disease Areas \n (Dollars in millions and rounded)=%{x}<br>year=2011<br>value=%{y}<extra></extra>",
           "legendgroup": "Back Pain ",
           "marker": {
            "color": "#FECB52",
            "pattern": {
             "shape": ""
            }
           },
           "name": "Back Pain ",
           "offsetgroup": "Back Pain ",
           "orientation": "v",
           "showlegend": true,
           "textposition": "auto",
           "type": "bar",
           "x": [
            "Back Pain "
           ],
           "xaxis": "x",
           "y": [
            -1
           ],
           "yaxis": "y"
          }
         ],
         "name": "2011"
        },
        {
         "data": [
          {
           "alignmentgroup": "True",
           "hovertemplate": "Research/Disease Areas \n (Dollars in millions and rounded)=%{x}<br>year=2012<br>value=%{y}<extra></extra>",
           "legendgroup": "Tobacco Smoke and Health 25",
           "marker": {
            "color": "#636efa",
            "pattern": {
             "shape": ""
            }
           },
           "name": "Tobacco Smoke and Health 25",
           "offsetgroup": "Tobacco Smoke and Health 25",
           "orientation": "v",
           "showlegend": true,
           "textposition": "auto",
           "type": "bar",
           "x": [
            "Tobacco Smoke and Health 25"
           ],
           "xaxis": "x",
           "y": [
            353
           ],
           "yaxis": "y"
          },
          {
           "alignmentgroup": "True",
           "hovertemplate": "Research/Disease Areas \n (Dollars in millions and rounded)=%{x}<br>year=2012<br>value=%{y}<extra></extra>",
           "legendgroup": "Topical Microbicides ",
           "marker": {
            "color": "#EF553B",
            "pattern": {
             "shape": ""
            }
           },
           "name": "Topical Microbicides ",
           "offsetgroup": "Topical Microbicides ",
           "orientation": "v",
           "showlegend": true,
           "textposition": "auto",
           "type": "bar",
           "x": [
            "Topical Microbicides "
           ],
           "xaxis": "x",
           "y": [
            99
           ],
           "yaxis": "y"
          },
          {
           "alignmentgroup": "True",
           "hovertemplate": "Research/Disease Areas \n (Dollars in millions and rounded)=%{x}<br>year=2012<br>value=%{y}<extra></extra>",
           "legendgroup": "Transplantation ",
           "marker": {
            "color": "#00cc96",
            "pattern": {
             "shape": ""
            }
           },
           "name": "Transplantation ",
           "offsetgroup": "Transplantation ",
           "orientation": "v",
           "showlegend": true,
           "textposition": "auto",
           "type": "bar",
           "x": [
            "Transplantation "
           ],
           "xaxis": "x",
           "y": [
            552
           ],
           "yaxis": "y"
          },
          {
           "alignmentgroup": "True",
           "hovertemplate": "Research/Disease Areas \n (Dollars in millions and rounded)=%{x}<br>year=2012<br>value=%{y}<extra></extra>",
           "legendgroup": "Traumatic Brain Injury (TBI) 32",
           "marker": {
            "color": "#ab63fa",
            "pattern": {
             "shape": ""
            }
           },
           "name": "Traumatic Brain Injury (TBI) 32",
           "offsetgroup": "Traumatic Brain Injury (TBI) 32",
           "orientation": "v",
           "showlegend": true,
           "textposition": "auto",
           "type": "bar",
           "x": [
            "Traumatic Brain Injury (TBI) 32"
           ],
           "xaxis": "x",
           "y": [
            79
           ],
           "yaxis": "y"
          },
          {
           "alignmentgroup": "True",
           "hovertemplate": "Research/Disease Areas \n (Dollars in millions and rounded)=%{x}<br>year=2012<br>value=%{y}<extra></extra>",
           "legendgroup": "Traumatic Head and Spine Injury 33",
           "marker": {
            "color": "#FFA15A",
            "pattern": {
             "shape": ""
            }
           },
           "name": "Traumatic Head and Spine Injury 33",
           "offsetgroup": "Traumatic Head and Spine Injury 33",
           "orientation": "v",
           "showlegend": true,
           "textposition": "auto",
           "type": "bar",
           "x": [
            "Traumatic Head and Spine Injury 33"
           ],
           "xaxis": "x",
           "y": [
            171
           ],
           "yaxis": "y"
          },
          {
           "alignmentgroup": "True",
           "hovertemplate": "Research/Disease Areas \n (Dollars in millions and rounded)=%{x}<br>year=2012<br>value=%{y}<extra></extra>",
           "legendgroup": "Tuberculosis Vaccine ",
           "marker": {
            "color": "#19d3f3",
            "pattern": {
             "shape": ""
            }
           },
           "name": "Tuberculosis Vaccine ",
           "offsetgroup": "Tuberculosis Vaccine ",
           "orientation": "v",
           "showlegend": true,
           "textposition": "auto",
           "type": "bar",
           "x": [
            "Tuberculosis Vaccine "
           ],
           "xaxis": "x",
           "y": [
            21
           ],
           "yaxis": "y"
          },
          {
           "alignmentgroup": "True",
           "hovertemplate": "Research/Disease Areas \n (Dollars in millions and rounded)=%{x}<br>year=2012<br>value=%{y}<extra></extra>",
           "legendgroup": "Underage Drinking ",
           "marker": {
            "color": "#FF6692",
            "pattern": {
             "shape": ""
            }
           },
           "name": "Underage Drinking ",
           "offsetgroup": "Underage Drinking ",
           "orientation": "v",
           "showlegend": true,
           "textposition": "auto",
           "type": "bar",
           "x": [
            "Underage Drinking "
           ],
           "xaxis": "x",
           "y": [
            80
           ],
           "yaxis": "y"
          },
          {
           "alignmentgroup": "True",
           "hovertemplate": "Research/Disease Areas \n (Dollars in millions and rounded)=%{x}<br>year=2012<br>value=%{y}<extra></extra>",
           "legendgroup": "Underage Drinking - Prevention & Treatment (NIAAA Only) 16",
           "marker": {
            "color": "#B6E880",
            "pattern": {
             "shape": ""
            }
           },
           "name": "Underage Drinking - Prevention & Treatment (NIAAA Only) 16",
           "offsetgroup": "Underage Drinking - Prevention & Treatment (NIAAA Only) 16",
           "orientation": "v",
           "showlegend": true,
           "textposition": "auto",
           "type": "bar",
           "x": [
            "Underage Drinking - Prevention & Treatment (NIAAA Only) 16"
           ],
           "xaxis": "x",
           "y": [
            62
           ],
           "yaxis": "y"
          },
          {
           "alignmentgroup": "True",
           "hovertemplate": "Research/Disease Areas \n (Dollars in millions and rounded)=%{x}<br>year=2012<br>value=%{y}<extra></extra>",
           "legendgroup": "Therapeutic Cannabinoid Research ",
           "marker": {
            "color": "#FF97FF",
            "pattern": {
             "shape": ""
            }
           },
           "name": "Therapeutic Cannabinoid Research ",
           "offsetgroup": "Therapeutic Cannabinoid Research ",
           "orientation": "v",
           "showlegend": true,
           "textposition": "auto",
           "type": "bar",
           "x": [
            "Therapeutic Cannabinoid Research "
           ],
           "xaxis": "x",
           "y": [
            -1
           ],
           "yaxis": "y"
          },
          {
           "alignmentgroup": "True",
           "hovertemplate": "Research/Disease Areas \n (Dollars in millions and rounded)=%{x}<br>year=2012<br>value=%{y}<extra></extra>",
           "legendgroup": "Back Pain ",
           "marker": {
            "color": "#FECB52",
            "pattern": {
             "shape": ""
            }
           },
           "name": "Back Pain ",
           "offsetgroup": "Back Pain ",
           "orientation": "v",
           "showlegend": true,
           "textposition": "auto",
           "type": "bar",
           "x": [
            "Back Pain "
           ],
           "xaxis": "x",
           "y": [
            -1
           ],
           "yaxis": "y"
          }
         ],
         "name": "2012"
        },
        {
         "data": [
          {
           "alignmentgroup": "True",
           "hovertemplate": "Research/Disease Areas \n (Dollars in millions and rounded)=%{x}<br>year=2013<br>value=%{y}<extra></extra>",
           "legendgroup": "Tobacco Smoke and Health 25",
           "marker": {
            "color": "#636efa",
            "pattern": {
             "shape": ""
            }
           },
           "name": "Tobacco Smoke and Health 25",
           "offsetgroup": "Tobacco Smoke and Health 25",
           "orientation": "v",
           "showlegend": true,
           "textposition": "auto",
           "type": "bar",
           "x": [
            "Tobacco Smoke and Health 25"
           ],
           "xaxis": "x",
           "y": [
            321
           ],
           "yaxis": "y"
          },
          {
           "alignmentgroup": "True",
           "hovertemplate": "Research/Disease Areas \n (Dollars in millions and rounded)=%{x}<br>year=2013<br>value=%{y}<extra></extra>",
           "legendgroup": "Topical Microbicides ",
           "marker": {
            "color": "#EF553B",
            "pattern": {
             "shape": ""
            }
           },
           "name": "Topical Microbicides ",
           "offsetgroup": "Topical Microbicides ",
           "orientation": "v",
           "showlegend": true,
           "textposition": "auto",
           "type": "bar",
           "x": [
            "Topical Microbicides "
           ],
           "xaxis": "x",
           "y": [
            93
           ],
           "yaxis": "y"
          },
          {
           "alignmentgroup": "True",
           "hovertemplate": "Research/Disease Areas \n (Dollars in millions and rounded)=%{x}<br>year=2013<br>value=%{y}<extra></extra>",
           "legendgroup": "Transplantation ",
           "marker": {
            "color": "#00cc96",
            "pattern": {
             "shape": ""
            }
           },
           "name": "Transplantation ",
           "offsetgroup": "Transplantation ",
           "orientation": "v",
           "showlegend": true,
           "textposition": "auto",
           "type": "bar",
           "x": [
            "Transplantation "
           ],
           "xaxis": "x",
           "y": [
            538
           ],
           "yaxis": "y"
          },
          {
           "alignmentgroup": "True",
           "hovertemplate": "Research/Disease Areas \n (Dollars in millions and rounded)=%{x}<br>year=2013<br>value=%{y}<extra></extra>",
           "legendgroup": "Traumatic Brain Injury (TBI) 32",
           "marker": {
            "color": "#ab63fa",
            "pattern": {
             "shape": ""
            }
           },
           "name": "Traumatic Brain Injury (TBI) 32",
           "offsetgroup": "Traumatic Brain Injury (TBI) 32",
           "orientation": "v",
           "showlegend": true,
           "textposition": "auto",
           "type": "bar",
           "x": [
            "Traumatic Brain Injury (TBI) 32"
           ],
           "xaxis": "x",
           "y": [
            88
           ],
           "yaxis": "y"
          },
          {
           "alignmentgroup": "True",
           "hovertemplate": "Research/Disease Areas \n (Dollars in millions and rounded)=%{x}<br>year=2013<br>value=%{y}<extra></extra>",
           "legendgroup": "Traumatic Head and Spine Injury 33",
           "marker": {
            "color": "#FFA15A",
            "pattern": {
             "shape": ""
            }
           },
           "name": "Traumatic Head and Spine Injury 33",
           "offsetgroup": "Traumatic Head and Spine Injury 33",
           "orientation": "v",
           "showlegend": true,
           "textposition": "auto",
           "type": "bar",
           "x": [
            "Traumatic Head and Spine Injury 33"
           ],
           "xaxis": "x",
           "y": [
            183
           ],
           "yaxis": "y"
          },
          {
           "alignmentgroup": "True",
           "hovertemplate": "Research/Disease Areas \n (Dollars in millions and rounded)=%{x}<br>year=2013<br>value=%{y}<extra></extra>",
           "legendgroup": "Tuberculosis Vaccine ",
           "marker": {
            "color": "#19d3f3",
            "pattern": {
             "shape": ""
            }
           },
           "name": "Tuberculosis Vaccine ",
           "offsetgroup": "Tuberculosis Vaccine ",
           "orientation": "v",
           "showlegend": true,
           "textposition": "auto",
           "type": "bar",
           "x": [
            "Tuberculosis Vaccine "
           ],
           "xaxis": "x",
           "y": [
            26
           ],
           "yaxis": "y"
          },
          {
           "alignmentgroup": "True",
           "hovertemplate": "Research/Disease Areas \n (Dollars in millions and rounded)=%{x}<br>year=2013<br>value=%{y}<extra></extra>",
           "legendgroup": "Underage Drinking ",
           "marker": {
            "color": "#FF6692",
            "pattern": {
             "shape": ""
            }
           },
           "name": "Underage Drinking ",
           "offsetgroup": "Underage Drinking ",
           "orientation": "v",
           "showlegend": true,
           "textposition": "auto",
           "type": "bar",
           "x": [
            "Underage Drinking "
           ],
           "xaxis": "x",
           "y": [
            75
           ],
           "yaxis": "y"
          },
          {
           "alignmentgroup": "True",
           "hovertemplate": "Research/Disease Areas \n (Dollars in millions and rounded)=%{x}<br>year=2013<br>value=%{y}<extra></extra>",
           "legendgroup": "Underage Drinking - Prevention & Treatment (NIAAA Only) 16",
           "marker": {
            "color": "#B6E880",
            "pattern": {
             "shape": ""
            }
           },
           "name": "Underage Drinking - Prevention & Treatment (NIAAA Only) 16",
           "offsetgroup": "Underage Drinking - Prevention & Treatment (NIAAA Only) 16",
           "orientation": "v",
           "showlegend": true,
           "textposition": "auto",
           "type": "bar",
           "x": [
            "Underage Drinking - Prevention & Treatment (NIAAA Only) 16"
           ],
           "xaxis": "x",
           "y": [
            62
           ],
           "yaxis": "y"
          },
          {
           "alignmentgroup": "True",
           "hovertemplate": "Research/Disease Areas \n (Dollars in millions and rounded)=%{x}<br>year=2013<br>value=%{y}<extra></extra>",
           "legendgroup": "Therapeutic Cannabinoid Research ",
           "marker": {
            "color": "#FF97FF",
            "pattern": {
             "shape": ""
            }
           },
           "name": "Therapeutic Cannabinoid Research ",
           "offsetgroup": "Therapeutic Cannabinoid Research ",
           "orientation": "v",
           "showlegend": true,
           "textposition": "auto",
           "type": "bar",
           "x": [
            "Therapeutic Cannabinoid Research "
           ],
           "xaxis": "x",
           "y": [
            -1
           ],
           "yaxis": "y"
          },
          {
           "alignmentgroup": "True",
           "hovertemplate": "Research/Disease Areas \n (Dollars in millions and rounded)=%{x}<br>year=2013<br>value=%{y}<extra></extra>",
           "legendgroup": "Back Pain ",
           "marker": {
            "color": "#FECB52",
            "pattern": {
             "shape": ""
            }
           },
           "name": "Back Pain ",
           "offsetgroup": "Back Pain ",
           "orientation": "v",
           "showlegend": true,
           "textposition": "auto",
           "type": "bar",
           "x": [
            "Back Pain "
           ],
           "xaxis": "x",
           "y": [
            -1
           ],
           "yaxis": "y"
          }
         ],
         "name": "2013"
        },
        {
         "data": [
          {
           "alignmentgroup": "True",
           "hovertemplate": "Research/Disease Areas \n (Dollars in millions and rounded)=%{x}<br>year=2014<br>value=%{y}<extra></extra>",
           "legendgroup": "Tobacco Smoke and Health 25",
           "marker": {
            "color": "#636efa",
            "pattern": {
             "shape": ""
            }
           },
           "name": "Tobacco Smoke and Health 25",
           "offsetgroup": "Tobacco Smoke and Health 25",
           "orientation": "v",
           "showlegend": true,
           "textposition": "auto",
           "type": "bar",
           "x": [
            "Tobacco Smoke and Health 25"
           ],
           "xaxis": "x",
           "y": [
            320
           ],
           "yaxis": "y"
          },
          {
           "alignmentgroup": "True",
           "hovertemplate": "Research/Disease Areas \n (Dollars in millions and rounded)=%{x}<br>year=2014<br>value=%{y}<extra></extra>",
           "legendgroup": "Topical Microbicides ",
           "marker": {
            "color": "#EF553B",
            "pattern": {
             "shape": ""
            }
           },
           "name": "Topical Microbicides ",
           "offsetgroup": "Topical Microbicides ",
           "orientation": "v",
           "showlegend": true,
           "textposition": "auto",
           "type": "bar",
           "x": [
            "Topical Microbicides "
           ],
           "xaxis": "x",
           "y": [
            103
           ],
           "yaxis": "y"
          },
          {
           "alignmentgroup": "True",
           "hovertemplate": "Research/Disease Areas \n (Dollars in millions and rounded)=%{x}<br>year=2014<br>value=%{y}<extra></extra>",
           "legendgroup": "Transplantation ",
           "marker": {
            "color": "#00cc96",
            "pattern": {
             "shape": ""
            }
           },
           "name": "Transplantation ",
           "offsetgroup": "Transplantation ",
           "orientation": "v",
           "showlegend": true,
           "textposition": "auto",
           "type": "bar",
           "x": [
            "Transplantation "
           ],
           "xaxis": "x",
           "y": [
            561
           ],
           "yaxis": "y"
          },
          {
           "alignmentgroup": "True",
           "hovertemplate": "Research/Disease Areas \n (Dollars in millions and rounded)=%{x}<br>year=2014<br>value=%{y}<extra></extra>",
           "legendgroup": "Traumatic Brain Injury (TBI) 32",
           "marker": {
            "color": "#ab63fa",
            "pattern": {
             "shape": ""
            }
           },
           "name": "Traumatic Brain Injury (TBI) 32",
           "offsetgroup": "Traumatic Brain Injury (TBI) 32",
           "orientation": "v",
           "showlegend": true,
           "textposition": "auto",
           "type": "bar",
           "x": [
            "Traumatic Brain Injury (TBI) 32"
           ],
           "xaxis": "x",
           "y": [
            87
           ],
           "yaxis": "y"
          },
          {
           "alignmentgroup": "True",
           "hovertemplate": "Research/Disease Areas \n (Dollars in millions and rounded)=%{x}<br>year=2014<br>value=%{y}<extra></extra>",
           "legendgroup": "Traumatic Head and Spine Injury 33",
           "marker": {
            "color": "#FFA15A",
            "pattern": {
             "shape": ""
            }
           },
           "name": "Traumatic Head and Spine Injury 33",
           "offsetgroup": "Traumatic Head and Spine Injury 33",
           "orientation": "v",
           "showlegend": true,
           "textposition": "auto",
           "type": "bar",
           "x": [
            "Traumatic Head and Spine Injury 33"
           ],
           "xaxis": "x",
           "y": [
            216
           ],
           "yaxis": "y"
          },
          {
           "alignmentgroup": "True",
           "hovertemplate": "Research/Disease Areas \n (Dollars in millions and rounded)=%{x}<br>year=2014<br>value=%{y}<extra></extra>",
           "legendgroup": "Tuberculosis Vaccine ",
           "marker": {
            "color": "#19d3f3",
            "pattern": {
             "shape": ""
            }
           },
           "name": "Tuberculosis Vaccine ",
           "offsetgroup": "Tuberculosis Vaccine ",
           "orientation": "v",
           "showlegend": true,
           "textposition": "auto",
           "type": "bar",
           "x": [
            "Tuberculosis Vaccine "
           ],
           "xaxis": "x",
           "y": [
            31
           ],
           "yaxis": "y"
          },
          {
           "alignmentgroup": "True",
           "hovertemplate": "Research/Disease Areas \n (Dollars in millions and rounded)=%{x}<br>year=2014<br>value=%{y}<extra></extra>",
           "legendgroup": "Underage Drinking ",
           "marker": {
            "color": "#FF6692",
            "pattern": {
             "shape": ""
            }
           },
           "name": "Underage Drinking ",
           "offsetgroup": "Underage Drinking ",
           "orientation": "v",
           "showlegend": true,
           "textposition": "auto",
           "type": "bar",
           "x": [
            "Underage Drinking "
           ],
           "xaxis": "x",
           "y": [
            83
           ],
           "yaxis": "y"
          },
          {
           "alignmentgroup": "True",
           "hovertemplate": "Research/Disease Areas \n (Dollars in millions and rounded)=%{x}<br>year=2014<br>value=%{y}<extra></extra>",
           "legendgroup": "Underage Drinking - Prevention & Treatment (NIAAA Only) 16",
           "marker": {
            "color": "#B6E880",
            "pattern": {
             "shape": ""
            }
           },
           "name": "Underage Drinking - Prevention & Treatment (NIAAA Only) 16",
           "offsetgroup": "Underage Drinking - Prevention & Treatment (NIAAA Only) 16",
           "orientation": "v",
           "showlegend": true,
           "textposition": "auto",
           "type": "bar",
           "x": [
            "Underage Drinking - Prevention & Treatment (NIAAA Only) 16"
           ],
           "xaxis": "x",
           "y": [
            59
           ],
           "yaxis": "y"
          },
          {
           "alignmentgroup": "True",
           "hovertemplate": "Research/Disease Areas \n (Dollars in millions and rounded)=%{x}<br>year=2014<br>value=%{y}<extra></extra>",
           "legendgroup": "Therapeutic Cannabinoid Research ",
           "marker": {
            "color": "#FF97FF",
            "pattern": {
             "shape": ""
            }
           },
           "name": "Therapeutic Cannabinoid Research ",
           "offsetgroup": "Therapeutic Cannabinoid Research ",
           "orientation": "v",
           "showlegend": true,
           "textposition": "auto",
           "type": "bar",
           "x": [
            "Therapeutic Cannabinoid Research "
           ],
           "xaxis": "x",
           "y": [
            -1
           ],
           "yaxis": "y"
          },
          {
           "alignmentgroup": "True",
           "hovertemplate": "Research/Disease Areas \n (Dollars in millions and rounded)=%{x}<br>year=2014<br>value=%{y}<extra></extra>",
           "legendgroup": "Back Pain ",
           "marker": {
            "color": "#FECB52",
            "pattern": {
             "shape": ""
            }
           },
           "name": "Back Pain ",
           "offsetgroup": "Back Pain ",
           "orientation": "v",
           "showlegend": true,
           "textposition": "auto",
           "type": "bar",
           "x": [
            "Back Pain "
           ],
           "xaxis": "x",
           "y": [
            -1
           ],
           "yaxis": "y"
          }
         ],
         "name": "2014"
        },
        {
         "data": [
          {
           "alignmentgroup": "True",
           "hovertemplate": "Research/Disease Areas \n (Dollars in millions and rounded)=%{x}<br>year=2015<br>value=%{y}<extra></extra>",
           "legendgroup": "Tobacco Smoke and Health 25",
           "marker": {
            "color": "#636efa",
            "pattern": {
             "shape": ""
            }
           },
           "name": "Tobacco Smoke and Health 25",
           "offsetgroup": "Tobacco Smoke and Health 25",
           "orientation": "v",
           "showlegend": true,
           "textposition": "auto",
           "type": "bar",
           "x": [
            "Tobacco Smoke and Health 25"
           ],
           "xaxis": "x",
           "y": [
            298
           ],
           "yaxis": "y"
          },
          {
           "alignmentgroup": "True",
           "hovertemplate": "Research/Disease Areas \n (Dollars in millions and rounded)=%{x}<br>year=2015<br>value=%{y}<extra></extra>",
           "legendgroup": "Topical Microbicides ",
           "marker": {
            "color": "#EF553B",
            "pattern": {
             "shape": ""
            }
           },
           "name": "Topical Microbicides ",
           "offsetgroup": "Topical Microbicides ",
           "orientation": "v",
           "showlegend": true,
           "textposition": "auto",
           "type": "bar",
           "x": [
            "Topical Microbicides "
           ],
           "xaxis": "x",
           "y": [
            107
           ],
           "yaxis": "y"
          },
          {
           "alignmentgroup": "True",
           "hovertemplate": "Research/Disease Areas \n (Dollars in millions and rounded)=%{x}<br>year=2015<br>value=%{y}<extra></extra>",
           "legendgroup": "Transplantation ",
           "marker": {
            "color": "#00cc96",
            "pattern": {
             "shape": ""
            }
           },
           "name": "Transplantation ",
           "offsetgroup": "Transplantation ",
           "orientation": "v",
           "showlegend": true,
           "textposition": "auto",
           "type": "bar",
           "x": [
            "Transplantation "
           ],
           "xaxis": "x",
           "y": [
            582
           ],
           "yaxis": "y"
          },
          {
           "alignmentgroup": "True",
           "hovertemplate": "Research/Disease Areas \n (Dollars in millions and rounded)=%{x}<br>year=2015<br>value=%{y}<extra></extra>",
           "legendgroup": "Traumatic Brain Injury (TBI) 32",
           "marker": {
            "color": "#ab63fa",
            "pattern": {
             "shape": ""
            }
           },
           "name": "Traumatic Brain Injury (TBI) 32",
           "offsetgroup": "Traumatic Brain Injury (TBI) 32",
           "orientation": "v",
           "showlegend": true,
           "textposition": "auto",
           "type": "bar",
           "x": [
            "Traumatic Brain Injury (TBI) 32"
           ],
           "xaxis": "x",
           "y": [
            93
           ],
           "yaxis": "y"
          },
          {
           "alignmentgroup": "True",
           "hovertemplate": "Research/Disease Areas \n (Dollars in millions and rounded)=%{x}<br>year=2015<br>value=%{y}<extra></extra>",
           "legendgroup": "Traumatic Head and Spine Injury 33",
           "marker": {
            "color": "#FFA15A",
            "pattern": {
             "shape": ""
            }
           },
           "name": "Traumatic Head and Spine Injury 33",
           "offsetgroup": "Traumatic Head and Spine Injury 33",
           "orientation": "v",
           "showlegend": true,
           "textposition": "auto",
           "type": "bar",
           "x": [
            "Traumatic Head and Spine Injury 33"
           ],
           "xaxis": "x",
           "y": [
            197
           ],
           "yaxis": "y"
          },
          {
           "alignmentgroup": "True",
           "hovertemplate": "Research/Disease Areas \n (Dollars in millions and rounded)=%{x}<br>year=2015<br>value=%{y}<extra></extra>",
           "legendgroup": "Tuberculosis Vaccine ",
           "marker": {
            "color": "#19d3f3",
            "pattern": {
             "shape": ""
            }
           },
           "name": "Tuberculosis Vaccine ",
           "offsetgroup": "Tuberculosis Vaccine ",
           "orientation": "v",
           "showlegend": true,
           "textposition": "auto",
           "type": "bar",
           "x": [
            "Tuberculosis Vaccine "
           ],
           "xaxis": "x",
           "y": [
            23
           ],
           "yaxis": "y"
          },
          {
           "alignmentgroup": "True",
           "hovertemplate": "Research/Disease Areas \n (Dollars in millions and rounded)=%{x}<br>year=2015<br>value=%{y}<extra></extra>",
           "legendgroup": "Underage Drinking ",
           "marker": {
            "color": "#FF6692",
            "pattern": {
             "shape": ""
            }
           },
           "name": "Underage Drinking ",
           "offsetgroup": "Underage Drinking ",
           "orientation": "v",
           "showlegend": true,
           "textposition": "auto",
           "type": "bar",
           "x": [
            "Underage Drinking "
           ],
           "xaxis": "x",
           "y": [
            74
           ],
           "yaxis": "y"
          },
          {
           "alignmentgroup": "True",
           "hovertemplate": "Research/Disease Areas \n (Dollars in millions and rounded)=%{x}<br>year=2015<br>value=%{y}<extra></extra>",
           "legendgroup": "Underage Drinking - Prevention & Treatment (NIAAA Only) 16",
           "marker": {
            "color": "#B6E880",
            "pattern": {
             "shape": ""
            }
           },
           "name": "Underage Drinking - Prevention & Treatment (NIAAA Only) 16",
           "offsetgroup": "Underage Drinking - Prevention & Treatment (NIAAA Only) 16",
           "orientation": "v",
           "showlegend": true,
           "textposition": "auto",
           "type": "bar",
           "x": [
            "Underage Drinking - Prevention & Treatment (NIAAA Only) 16"
           ],
           "xaxis": "x",
           "y": [
            52
           ],
           "yaxis": "y"
          },
          {
           "alignmentgroup": "True",
           "hovertemplate": "Research/Disease Areas \n (Dollars in millions and rounded)=%{x}<br>year=2015<br>value=%{y}<extra></extra>",
           "legendgroup": "Therapeutic Cannabinoid Research ",
           "marker": {
            "color": "#FF97FF",
            "pattern": {
             "shape": ""
            }
           },
           "name": "Therapeutic Cannabinoid Research ",
           "offsetgroup": "Therapeutic Cannabinoid Research ",
           "orientation": "v",
           "showlegend": true,
           "textposition": "auto",
           "type": "bar",
           "x": [
            "Therapeutic Cannabinoid Research "
           ],
           "xaxis": "x",
           "y": [
            21
           ],
           "yaxis": "y"
          },
          {
           "alignmentgroup": "True",
           "hovertemplate": "Research/Disease Areas \n (Dollars in millions and rounded)=%{x}<br>year=2015<br>value=%{y}<extra></extra>",
           "legendgroup": "Back Pain ",
           "marker": {
            "color": "#FECB52",
            "pattern": {
             "shape": ""
            }
           },
           "name": "Back Pain ",
           "offsetgroup": "Back Pain ",
           "orientation": "v",
           "showlegend": true,
           "textposition": "auto",
           "type": "bar",
           "x": [
            "Back Pain "
           ],
           "xaxis": "x",
           "y": [
            -1
           ],
           "yaxis": "y"
          }
         ],
         "name": "2015"
        },
        {
         "data": [
          {
           "alignmentgroup": "True",
           "hovertemplate": "Research/Disease Areas \n (Dollars in millions and rounded)=%{x}<br>year=2016<br>value=%{y}<extra></extra>",
           "legendgroup": "Tobacco Smoke and Health 25",
           "marker": {
            "color": "#636efa",
            "pattern": {
             "shape": ""
            }
           },
           "name": "Tobacco Smoke and Health 25",
           "offsetgroup": "Tobacco Smoke and Health 25",
           "orientation": "v",
           "showlegend": true,
           "textposition": "auto",
           "type": "bar",
           "x": [
            "Tobacco Smoke and Health 25"
           ],
           "xaxis": "x",
           "y": [
            298
           ],
           "yaxis": "y"
          },
          {
           "alignmentgroup": "True",
           "hovertemplate": "Research/Disease Areas \n (Dollars in millions and rounded)=%{x}<br>year=2016<br>value=%{y}<extra></extra>",
           "legendgroup": "Topical Microbicides ",
           "marker": {
            "color": "#EF553B",
            "pattern": {
             "shape": ""
            }
           },
           "name": "Topical Microbicides ",
           "offsetgroup": "Topical Microbicides ",
           "orientation": "v",
           "showlegend": true,
           "textposition": "auto",
           "type": "bar",
           "x": [
            "Topical Microbicides "
           ],
           "xaxis": "x",
           "y": [
            99
           ],
           "yaxis": "y"
          },
          {
           "alignmentgroup": "True",
           "hovertemplate": "Research/Disease Areas \n (Dollars in millions and rounded)=%{x}<br>year=2016<br>value=%{y}<extra></extra>",
           "legendgroup": "Transplantation ",
           "marker": {
            "color": "#00cc96",
            "pattern": {
             "shape": ""
            }
           },
           "name": "Transplantation ",
           "offsetgroup": "Transplantation ",
           "orientation": "v",
           "showlegend": true,
           "textposition": "auto",
           "type": "bar",
           "x": [
            "Transplantation "
           ],
           "xaxis": "x",
           "y": [
            601
           ],
           "yaxis": "y"
          },
          {
           "alignmentgroup": "True",
           "hovertemplate": "Research/Disease Areas \n (Dollars in millions and rounded)=%{x}<br>year=2016<br>value=%{y}<extra></extra>",
           "legendgroup": "Traumatic Brain Injury (TBI) 32",
           "marker": {
            "color": "#ab63fa",
            "pattern": {
             "shape": ""
            }
           },
           "name": "Traumatic Brain Injury (TBI) 32",
           "offsetgroup": "Traumatic Brain Injury (TBI) 32",
           "orientation": "v",
           "showlegend": true,
           "textposition": "auto",
           "type": "bar",
           "x": [
            "Traumatic Brain Injury (TBI) 32"
           ],
           "xaxis": "x",
           "y": [
            105
           ],
           "yaxis": "y"
          },
          {
           "alignmentgroup": "True",
           "hovertemplate": "Research/Disease Areas \n (Dollars in millions and rounded)=%{x}<br>year=2016<br>value=%{y}<extra></extra>",
           "legendgroup": "Traumatic Head and Spine Injury 33",
           "marker": {
            "color": "#FFA15A",
            "pattern": {
             "shape": ""
            }
           },
           "name": "Traumatic Head and Spine Injury 33",
           "offsetgroup": "Traumatic Head and Spine Injury 33",
           "orientation": "v",
           "showlegend": true,
           "textposition": "auto",
           "type": "bar",
           "x": [
            "Traumatic Head and Spine Injury 33"
           ],
           "xaxis": "x",
           "y": [
            192
           ],
           "yaxis": "y"
          },
          {
           "alignmentgroup": "True",
           "hovertemplate": "Research/Disease Areas \n (Dollars in millions and rounded)=%{x}<br>year=2016<br>value=%{y}<extra></extra>",
           "legendgroup": "Tuberculosis Vaccine ",
           "marker": {
            "color": "#19d3f3",
            "pattern": {
             "shape": ""
            }
           },
           "name": "Tuberculosis Vaccine ",
           "offsetgroup": "Tuberculosis Vaccine ",
           "orientation": "v",
           "showlegend": true,
           "textposition": "auto",
           "type": "bar",
           "x": [
            "Tuberculosis Vaccine "
           ],
           "xaxis": "x",
           "y": [
            27
           ],
           "yaxis": "y"
          },
          {
           "alignmentgroup": "True",
           "hovertemplate": "Research/Disease Areas \n (Dollars in millions and rounded)=%{x}<br>year=2016<br>value=%{y}<extra></extra>",
           "legendgroup": "Underage Drinking ",
           "marker": {
            "color": "#FF6692",
            "pattern": {
             "shape": ""
            }
           },
           "name": "Underage Drinking ",
           "offsetgroup": "Underage Drinking ",
           "orientation": "v",
           "showlegend": true,
           "textposition": "auto",
           "type": "bar",
           "x": [
            "Underage Drinking "
           ],
           "xaxis": "x",
           "y": [
            73
           ],
           "yaxis": "y"
          },
          {
           "alignmentgroup": "True",
           "hovertemplate": "Research/Disease Areas \n (Dollars in millions and rounded)=%{x}<br>year=2016<br>value=%{y}<extra></extra>",
           "legendgroup": "Underage Drinking - Prevention & Treatment (NIAAA Only) 16",
           "marker": {
            "color": "#B6E880",
            "pattern": {
             "shape": ""
            }
           },
           "name": "Underage Drinking - Prevention & Treatment (NIAAA Only) 16",
           "offsetgroup": "Underage Drinking - Prevention & Treatment (NIAAA Only) 16",
           "orientation": "v",
           "showlegend": true,
           "textposition": "auto",
           "type": "bar",
           "x": [
            "Underage Drinking - Prevention & Treatment (NIAAA Only) 16"
           ],
           "xaxis": "x",
           "y": [
            55
           ],
           "yaxis": "y"
          },
          {
           "alignmentgroup": "True",
           "hovertemplate": "Research/Disease Areas \n (Dollars in millions and rounded)=%{x}<br>year=2016<br>value=%{y}<extra></extra>",
           "legendgroup": "Therapeutic Cannabinoid Research ",
           "marker": {
            "color": "#FF97FF",
            "pattern": {
             "shape": ""
            }
           },
           "name": "Therapeutic Cannabinoid Research ",
           "offsetgroup": "Therapeutic Cannabinoid Research ",
           "orientation": "v",
           "showlegend": true,
           "textposition": "auto",
           "type": "bar",
           "x": [
            "Therapeutic Cannabinoid Research "
           ],
           "xaxis": "x",
           "y": [
            28
           ],
           "yaxis": "y"
          },
          {
           "alignmentgroup": "True",
           "hovertemplate": "Research/Disease Areas \n (Dollars in millions and rounded)=%{x}<br>year=2016<br>value=%{y}<extra></extra>",
           "legendgroup": "Back Pain ",
           "marker": {
            "color": "#FECB52",
            "pattern": {
             "shape": ""
            }
           },
           "name": "Back Pain ",
           "offsetgroup": "Back Pain ",
           "orientation": "v",
           "showlegend": true,
           "textposition": "auto",
           "type": "bar",
           "x": [
            "Back Pain "
           ],
           "xaxis": "x",
           "y": [
            23
           ],
           "yaxis": "y"
          }
         ],
         "name": "2016"
        },
        {
         "data": [
          {
           "alignmentgroup": "True",
           "hovertemplate": "Research/Disease Areas \n (Dollars in millions and rounded)=%{x}<br>year=2017<br>value=%{y}<extra></extra>",
           "legendgroup": "Tobacco Smoke and Health 25",
           "marker": {
            "color": "#636efa",
            "pattern": {
             "shape": ""
            }
           },
           "name": "Tobacco Smoke and Health 25",
           "offsetgroup": "Tobacco Smoke and Health 25",
           "orientation": "v",
           "showlegend": true,
           "textposition": "auto",
           "type": "bar",
           "x": [
            "Tobacco Smoke and Health 25"
           ],
           "xaxis": "x",
           "y": [
            293
           ],
           "yaxis": "y"
          },
          {
           "alignmentgroup": "True",
           "hovertemplate": "Research/Disease Areas \n (Dollars in millions and rounded)=%{x}<br>year=2017<br>value=%{y}<extra></extra>",
           "legendgroup": "Topical Microbicides ",
           "marker": {
            "color": "#EF553B",
            "pattern": {
             "shape": ""
            }
           },
           "name": "Topical Microbicides ",
           "offsetgroup": "Topical Microbicides ",
           "orientation": "v",
           "showlegend": true,
           "textposition": "auto",
           "type": "bar",
           "x": [
            "Topical Microbicides "
           ],
           "xaxis": "x",
           "y": [
            91
           ],
           "yaxis": "y"
          },
          {
           "alignmentgroup": "True",
           "hovertemplate": "Research/Disease Areas \n (Dollars in millions and rounded)=%{x}<br>year=2017<br>value=%{y}<extra></extra>",
           "legendgroup": "Transplantation ",
           "marker": {
            "color": "#00cc96",
            "pattern": {
             "shape": ""
            }
           },
           "name": "Transplantation ",
           "offsetgroup": "Transplantation ",
           "orientation": "v",
           "showlegend": true,
           "textposition": "auto",
           "type": "bar",
           "x": [
            "Transplantation "
           ],
           "xaxis": "x",
           "y": [
            606
           ],
           "yaxis": "y"
          },
          {
           "alignmentgroup": "True",
           "hovertemplate": "Research/Disease Areas \n (Dollars in millions and rounded)=%{x}<br>year=2017<br>value=%{y}<extra></extra>",
           "legendgroup": "Traumatic Brain Injury (TBI) 32",
           "marker": {
            "color": "#ab63fa",
            "pattern": {
             "shape": ""
            }
           },
           "name": "Traumatic Brain Injury (TBI) 32",
           "offsetgroup": "Traumatic Brain Injury (TBI) 32",
           "orientation": "v",
           "showlegend": true,
           "textposition": "auto",
           "type": "bar",
           "x": [
            "Traumatic Brain Injury (TBI) 32"
           ],
           "xaxis": "x",
           "y": [
            116
           ],
           "yaxis": "y"
          },
          {
           "alignmentgroup": "True",
           "hovertemplate": "Research/Disease Areas \n (Dollars in millions and rounded)=%{x}<br>year=2017<br>value=%{y}<extra></extra>",
           "legendgroup": "Traumatic Head and Spine Injury 33",
           "marker": {
            "color": "#FFA15A",
            "pattern": {
             "shape": ""
            }
           },
           "name": "Traumatic Head and Spine Injury 33",
           "offsetgroup": "Traumatic Head and Spine Injury 33",
           "orientation": "v",
           "showlegend": true,
           "textposition": "auto",
           "type": "bar",
           "x": [
            "Traumatic Head and Spine Injury 33"
           ],
           "xaxis": "x",
           "y": [
            222
           ],
           "yaxis": "y"
          },
          {
           "alignmentgroup": "True",
           "hovertemplate": "Research/Disease Areas \n (Dollars in millions and rounded)=%{x}<br>year=2017<br>value=%{y}<extra></extra>",
           "legendgroup": "Tuberculosis Vaccine ",
           "marker": {
            "color": "#19d3f3",
            "pattern": {
             "shape": ""
            }
           },
           "name": "Tuberculosis Vaccine ",
           "offsetgroup": "Tuberculosis Vaccine ",
           "orientation": "v",
           "showlegend": true,
           "textposition": "auto",
           "type": "bar",
           "x": [
            "Tuberculosis Vaccine "
           ],
           "xaxis": "x",
           "y": [
            29
           ],
           "yaxis": "y"
          },
          {
           "alignmentgroup": "True",
           "hovertemplate": "Research/Disease Areas \n (Dollars in millions and rounded)=%{x}<br>year=2017<br>value=%{y}<extra></extra>",
           "legendgroup": "Underage Drinking ",
           "marker": {
            "color": "#FF6692",
            "pattern": {
             "shape": ""
            }
           },
           "name": "Underage Drinking ",
           "offsetgroup": "Underage Drinking ",
           "orientation": "v",
           "showlegend": true,
           "textposition": "auto",
           "type": "bar",
           "x": [
            "Underage Drinking "
           ],
           "xaxis": "x",
           "y": [
            66
           ],
           "yaxis": "y"
          },
          {
           "alignmentgroup": "True",
           "hovertemplate": "Research/Disease Areas \n (Dollars in millions and rounded)=%{x}<br>year=2017<br>value=%{y}<extra></extra>",
           "legendgroup": "Underage Drinking - Prevention & Treatment (NIAAA Only) 16",
           "marker": {
            "color": "#B6E880",
            "pattern": {
             "shape": ""
            }
           },
           "name": "Underage Drinking - Prevention & Treatment (NIAAA Only) 16",
           "offsetgroup": "Underage Drinking - Prevention & Treatment (NIAAA Only) 16",
           "orientation": "v",
           "showlegend": true,
           "textposition": "auto",
           "type": "bar",
           "x": [
            "Underage Drinking - Prevention & Treatment (NIAAA Only) 16"
           ],
           "xaxis": "x",
           "y": [
            51
           ],
           "yaxis": "y"
          },
          {
           "alignmentgroup": "True",
           "hovertemplate": "Research/Disease Areas \n (Dollars in millions and rounded)=%{x}<br>year=2017<br>value=%{y}<extra></extra>",
           "legendgroup": "Therapeutic Cannabinoid Research ",
           "marker": {
            "color": "#FF97FF",
            "pattern": {
             "shape": ""
            }
           },
           "name": "Therapeutic Cannabinoid Research ",
           "offsetgroup": "Therapeutic Cannabinoid Research ",
           "orientation": "v",
           "showlegend": true,
           "textposition": "auto",
           "type": "bar",
           "x": [
            "Therapeutic Cannabinoid Research "
           ],
           "xaxis": "x",
           "y": [
            36
           ],
           "yaxis": "y"
          },
          {
           "alignmentgroup": "True",
           "hovertemplate": "Research/Disease Areas \n (Dollars in millions and rounded)=%{x}<br>year=2017<br>value=%{y}<extra></extra>",
           "legendgroup": "Back Pain ",
           "marker": {
            "color": "#FECB52",
            "pattern": {
             "shape": ""
            }
           },
           "name": "Back Pain ",
           "offsetgroup": "Back Pain ",
           "orientation": "v",
           "showlegend": true,
           "textposition": "auto",
           "type": "bar",
           "x": [
            "Back Pain "
           ],
           "xaxis": "x",
           "y": [
            30
           ],
           "yaxis": "y"
          }
         ],
         "name": "2017"
        },
        {
         "data": [
          {
           "alignmentgroup": "True",
           "hovertemplate": "Research/Disease Areas \n (Dollars in millions and rounded)=%{x}<br>year=2018<br>value=%{y}<extra></extra>",
           "legendgroup": "Tobacco Smoke and Health 25",
           "marker": {
            "color": "#636efa",
            "pattern": {
             "shape": ""
            }
           },
           "name": "Tobacco Smoke and Health 25",
           "offsetgroup": "Tobacco Smoke and Health 25",
           "orientation": "v",
           "showlegend": true,
           "textposition": "auto",
           "type": "bar",
           "x": [
            "Tobacco Smoke and Health 25"
           ],
           "xaxis": "x",
           "y": [
            284
           ],
           "yaxis": "y"
          },
          {
           "alignmentgroup": "True",
           "hovertemplate": "Research/Disease Areas \n (Dollars in millions and rounded)=%{x}<br>year=2018<br>value=%{y}<extra></extra>",
           "legendgroup": "Topical Microbicides ",
           "marker": {
            "color": "#EF553B",
            "pattern": {
             "shape": ""
            }
           },
           "name": "Topical Microbicides ",
           "offsetgroup": "Topical Microbicides ",
           "orientation": "v",
           "showlegend": true,
           "textposition": "auto",
           "type": "bar",
           "x": [
            "Topical Microbicides "
           ],
           "xaxis": "x",
           "y": [
            86
           ],
           "yaxis": "y"
          },
          {
           "alignmentgroup": "True",
           "hovertemplate": "Research/Disease Areas \n (Dollars in millions and rounded)=%{x}<br>year=2018<br>value=%{y}<extra></extra>",
           "legendgroup": "Transplantation ",
           "marker": {
            "color": "#00cc96",
            "pattern": {
             "shape": ""
            }
           },
           "name": "Transplantation ",
           "offsetgroup": "Transplantation ",
           "orientation": "v",
           "showlegend": true,
           "textposition": "auto",
           "type": "bar",
           "x": [
            "Transplantation "
           ],
           "xaxis": "x",
           "y": [
            650
           ],
           "yaxis": "y"
          },
          {
           "alignmentgroup": "True",
           "hovertemplate": "Research/Disease Areas \n (Dollars in millions and rounded)=%{x}<br>year=2018<br>value=%{y}<extra></extra>",
           "legendgroup": "Traumatic Brain Injury (TBI) 32",
           "marker": {
            "color": "#ab63fa",
            "pattern": {
             "shape": ""
            }
           },
           "name": "Traumatic Brain Injury (TBI) 32",
           "offsetgroup": "Traumatic Brain Injury (TBI) 32",
           "orientation": "v",
           "showlegend": true,
           "textposition": "auto",
           "type": "bar",
           "x": [
            "Traumatic Brain Injury (TBI) 32"
           ],
           "xaxis": "x",
           "y": [
            133
           ],
           "yaxis": "y"
          },
          {
           "alignmentgroup": "True",
           "hovertemplate": "Research/Disease Areas \n (Dollars in millions and rounded)=%{x}<br>year=2018<br>value=%{y}<extra></extra>",
           "legendgroup": "Traumatic Head and Spine Injury 33",
           "marker": {
            "color": "#FFA15A",
            "pattern": {
             "shape": ""
            }
           },
           "name": "Traumatic Head and Spine Injury 33",
           "offsetgroup": "Traumatic Head and Spine Injury 33",
           "orientation": "v",
           "showlegend": true,
           "textposition": "auto",
           "type": "bar",
           "x": [
            "Traumatic Head and Spine Injury 33"
           ],
           "xaxis": "x",
           "y": [
            236
           ],
           "yaxis": "y"
          },
          {
           "alignmentgroup": "True",
           "hovertemplate": "Research/Disease Areas \n (Dollars in millions and rounded)=%{x}<br>year=2018<br>value=%{y}<extra></extra>",
           "legendgroup": "Tuberculosis Vaccine ",
           "marker": {
            "color": "#19d3f3",
            "pattern": {
             "shape": ""
            }
           },
           "name": "Tuberculosis Vaccine ",
           "offsetgroup": "Tuberculosis Vaccine ",
           "orientation": "v",
           "showlegend": true,
           "textposition": "auto",
           "type": "bar",
           "x": [
            "Tuberculosis Vaccine "
           ],
           "xaxis": "x",
           "y": [
            40
           ],
           "yaxis": "y"
          },
          {
           "alignmentgroup": "True",
           "hovertemplate": "Research/Disease Areas \n (Dollars in millions and rounded)=%{x}<br>year=2018<br>value=%{y}<extra></extra>",
           "legendgroup": "Underage Drinking ",
           "marker": {
            "color": "#FF6692",
            "pattern": {
             "shape": ""
            }
           },
           "name": "Underage Drinking ",
           "offsetgroup": "Underage Drinking ",
           "orientation": "v",
           "showlegend": true,
           "textposition": "auto",
           "type": "bar",
           "x": [
            "Underage Drinking "
           ],
           "xaxis": "x",
           "y": [
            87
           ],
           "yaxis": "y"
          },
          {
           "alignmentgroup": "True",
           "hovertemplate": "Research/Disease Areas \n (Dollars in millions and rounded)=%{x}<br>year=2018<br>value=%{y}<extra></extra>",
           "legendgroup": "Underage Drinking - Prevention & Treatment (NIAAA Only) 16",
           "marker": {
            "color": "#B6E880",
            "pattern": {
             "shape": ""
            }
           },
           "name": "Underage Drinking - Prevention & Treatment (NIAAA Only) 16",
           "offsetgroup": "Underage Drinking - Prevention & Treatment (NIAAA Only) 16",
           "orientation": "v",
           "showlegend": true,
           "textposition": "auto",
           "type": "bar",
           "x": [
            "Underage Drinking - Prevention & Treatment (NIAAA Only) 16"
           ],
           "xaxis": "x",
           "y": [
            56
           ],
           "yaxis": "y"
          },
          {
           "alignmentgroup": "True",
           "hovertemplate": "Research/Disease Areas \n (Dollars in millions and rounded)=%{x}<br>year=2018<br>value=%{y}<extra></extra>",
           "legendgroup": "Therapeutic Cannabinoid Research ",
           "marker": {
            "color": "#FF97FF",
            "pattern": {
             "shape": ""
            }
           },
           "name": "Therapeutic Cannabinoid Research ",
           "offsetgroup": "Therapeutic Cannabinoid Research ",
           "orientation": "v",
           "showlegend": true,
           "textposition": "auto",
           "type": "bar",
           "x": [
            "Therapeutic Cannabinoid Research "
           ],
           "xaxis": "x",
           "y": [
            37
           ],
           "yaxis": "y"
          },
          {
           "alignmentgroup": "True",
           "hovertemplate": "Research/Disease Areas \n (Dollars in millions and rounded)=%{x}<br>year=2018<br>value=%{y}<extra></extra>",
           "legendgroup": "Back Pain ",
           "marker": {
            "color": "#FECB52",
            "pattern": {
             "shape": ""
            }
           },
           "name": "Back Pain ",
           "offsetgroup": "Back Pain ",
           "orientation": "v",
           "showlegend": true,
           "textposition": "auto",
           "type": "bar",
           "x": [
            "Back Pain "
           ],
           "xaxis": "x",
           "y": [
            30
           ],
           "yaxis": "y"
          }
         ],
         "name": "2018"
        },
        {
         "data": [
          {
           "alignmentgroup": "True",
           "hovertemplate": "Research/Disease Areas \n (Dollars in millions and rounded)=%{x}<br>year=2019<br>value=%{y}<extra></extra>",
           "legendgroup": "Tobacco Smoke and Health 25",
           "marker": {
            "color": "#636efa",
            "pattern": {
             "shape": ""
            }
           },
           "name": "Tobacco Smoke and Health 25",
           "offsetgroup": "Tobacco Smoke and Health 25",
           "orientation": "v",
           "showlegend": true,
           "textposition": "auto",
           "type": "bar",
           "x": [
            "Tobacco Smoke and Health 25"
           ],
           "xaxis": "x",
           "y": [
            301
           ],
           "yaxis": "y"
          },
          {
           "alignmentgroup": "True",
           "hovertemplate": "Research/Disease Areas \n (Dollars in millions and rounded)=%{x}<br>year=2019<br>value=%{y}<extra></extra>",
           "legendgroup": "Topical Microbicides ",
           "marker": {
            "color": "#EF553B",
            "pattern": {
             "shape": ""
            }
           },
           "name": "Topical Microbicides ",
           "offsetgroup": "Topical Microbicides ",
           "orientation": "v",
           "showlegend": true,
           "textposition": "auto",
           "type": "bar",
           "x": [
            "Topical Microbicides "
           ],
           "xaxis": "x",
           "y": [
            84
           ],
           "yaxis": "y"
          },
          {
           "alignmentgroup": "True",
           "hovertemplate": "Research/Disease Areas \n (Dollars in millions and rounded)=%{x}<br>year=2019<br>value=%{y}<extra></extra>",
           "legendgroup": "Transplantation ",
           "marker": {
            "color": "#00cc96",
            "pattern": {
             "shape": ""
            }
           },
           "name": "Transplantation ",
           "offsetgroup": "Transplantation ",
           "orientation": "v",
           "showlegend": true,
           "textposition": "auto",
           "type": "bar",
           "x": [
            "Transplantation "
           ],
           "xaxis": "x",
           "y": [
            733
           ],
           "yaxis": "y"
          },
          {
           "alignmentgroup": "True",
           "hovertemplate": "Research/Disease Areas \n (Dollars in millions and rounded)=%{x}<br>year=2019<br>value=%{y}<extra></extra>",
           "legendgroup": "Traumatic Brain Injury (TBI) 32",
           "marker": {
            "color": "#ab63fa",
            "pattern": {
             "shape": ""
            }
           },
           "name": "Traumatic Brain Injury (TBI) 32",
           "offsetgroup": "Traumatic Brain Injury (TBI) 32",
           "orientation": "v",
           "showlegend": true,
           "textposition": "auto",
           "type": "bar",
           "x": [
            "Traumatic Brain Injury (TBI) 32"
           ],
           "xaxis": "x",
           "y": [
            134
           ],
           "yaxis": "y"
          },
          {
           "alignmentgroup": "True",
           "hovertemplate": "Research/Disease Areas \n (Dollars in millions and rounded)=%{x}<br>year=2019<br>value=%{y}<extra></extra>",
           "legendgroup": "Traumatic Head and Spine Injury 33",
           "marker": {
            "color": "#FFA15A",
            "pattern": {
             "shape": ""
            }
           },
           "name": "Traumatic Head and Spine Injury 33",
           "offsetgroup": "Traumatic Head and Spine Injury 33",
           "orientation": "v",
           "showlegend": true,
           "textposition": "auto",
           "type": "bar",
           "x": [
            "Traumatic Head and Spine Injury 33"
           ],
           "xaxis": "x",
           "y": [
            262
           ],
           "yaxis": "y"
          },
          {
           "alignmentgroup": "True",
           "hovertemplate": "Research/Disease Areas \n (Dollars in millions and rounded)=%{x}<br>year=2019<br>value=%{y}<extra></extra>",
           "legendgroup": "Tuberculosis Vaccine ",
           "marker": {
            "color": "#19d3f3",
            "pattern": {
             "shape": ""
            }
           },
           "name": "Tuberculosis Vaccine ",
           "offsetgroup": "Tuberculosis Vaccine ",
           "orientation": "v",
           "showlegend": true,
           "textposition": "auto",
           "type": "bar",
           "x": [
            "Tuberculosis Vaccine "
           ],
           "xaxis": "x",
           "y": [
            61
           ],
           "yaxis": "y"
          },
          {
           "alignmentgroup": "True",
           "hovertemplate": "Research/Disease Areas \n (Dollars in millions and rounded)=%{x}<br>year=2019<br>value=%{y}<extra></extra>",
           "legendgroup": "Underage Drinking ",
           "marker": {
            "color": "#FF6692",
            "pattern": {
             "shape": ""
            }
           },
           "name": "Underage Drinking ",
           "offsetgroup": "Underage Drinking ",
           "orientation": "v",
           "showlegend": true,
           "textposition": "auto",
           "type": "bar",
           "x": [
            "Underage Drinking "
           ],
           "xaxis": "x",
           "y": [
            97
           ],
           "yaxis": "y"
          },
          {
           "alignmentgroup": "True",
           "hovertemplate": "Research/Disease Areas \n (Dollars in millions and rounded)=%{x}<br>year=2019<br>value=%{y}<extra></extra>",
           "legendgroup": "Underage Drinking - Prevention & Treatment (NIAAA Only) 16",
           "marker": {
            "color": "#B6E880",
            "pattern": {
             "shape": ""
            }
           },
           "name": "Underage Drinking - Prevention & Treatment (NIAAA Only) 16",
           "offsetgroup": "Underage Drinking - Prevention & Treatment (NIAAA Only) 16",
           "orientation": "v",
           "showlegend": true,
           "textposition": "auto",
           "type": "bar",
           "x": [
            "Underage Drinking - Prevention & Treatment (NIAAA Only) 16"
           ],
           "xaxis": "x",
           "y": [
            58
           ],
           "yaxis": "y"
          },
          {
           "alignmentgroup": "True",
           "hovertemplate": "Research/Disease Areas \n (Dollars in millions and rounded)=%{x}<br>year=2019<br>value=%{y}<extra></extra>",
           "legendgroup": "Therapeutic Cannabinoid Research ",
           "marker": {
            "color": "#FF97FF",
            "pattern": {
             "shape": ""
            }
           },
           "name": "Therapeutic Cannabinoid Research ",
           "offsetgroup": "Therapeutic Cannabinoid Research ",
           "orientation": "v",
           "showlegend": true,
           "textposition": "auto",
           "type": "bar",
           "x": [
            "Therapeutic Cannabinoid Research "
           ],
           "xaxis": "x",
           "y": [
            46
           ],
           "yaxis": "y"
          },
          {
           "alignmentgroup": "True",
           "hovertemplate": "Research/Disease Areas \n (Dollars in millions and rounded)=%{x}<br>year=2019<br>value=%{y}<extra></extra>",
           "legendgroup": "Back Pain ",
           "marker": {
            "color": "#FECB52",
            "pattern": {
             "shape": ""
            }
           },
           "name": "Back Pain ",
           "offsetgroup": "Back Pain ",
           "orientation": "v",
           "showlegend": true,
           "textposition": "auto",
           "type": "bar",
           "x": [
            "Back Pain "
           ],
           "xaxis": "x",
           "y": [
            170
           ],
           "yaxis": "y"
          }
         ],
         "name": "2019"
        },
        {
         "data": [
          {
           "alignmentgroup": "True",
           "hovertemplate": "Research/Disease Areas \n (Dollars in millions and rounded)=%{x}<br>year=2020<br>value=%{y}<extra></extra>",
           "legendgroup": "Tobacco Smoke and Health 25",
           "marker": {
            "color": "#636efa",
            "pattern": {
             "shape": ""
            }
           },
           "name": "Tobacco Smoke and Health 25",
           "offsetgroup": "Tobacco Smoke and Health 25",
           "orientation": "v",
           "showlegend": true,
           "textposition": "auto",
           "type": "bar",
           "x": [
            "Tobacco Smoke and Health 25"
           ],
           "xaxis": "x",
           "y": [
            285
           ],
           "yaxis": "y"
          },
          {
           "alignmentgroup": "True",
           "hovertemplate": "Research/Disease Areas \n (Dollars in millions and rounded)=%{x}<br>year=2020<br>value=%{y}<extra></extra>",
           "legendgroup": "Topical Microbicides ",
           "marker": {
            "color": "#EF553B",
            "pattern": {
             "shape": ""
            }
           },
           "name": "Topical Microbicides ",
           "offsetgroup": "Topical Microbicides ",
           "orientation": "v",
           "showlegend": true,
           "textposition": "auto",
           "type": "bar",
           "x": [
            "Topical Microbicides "
           ],
           "xaxis": "x",
           "y": [
            75
           ],
           "yaxis": "y"
          },
          {
           "alignmentgroup": "True",
           "hovertemplate": "Research/Disease Areas \n (Dollars in millions and rounded)=%{x}<br>year=2020<br>value=%{y}<extra></extra>",
           "legendgroup": "Transplantation ",
           "marker": {
            "color": "#00cc96",
            "pattern": {
             "shape": ""
            }
           },
           "name": "Transplantation ",
           "offsetgroup": "Transplantation ",
           "orientation": "v",
           "showlegend": true,
           "textposition": "auto",
           "type": "bar",
           "x": [
            "Transplantation "
           ],
           "xaxis": "x",
           "y": [
            721
           ],
           "yaxis": "y"
          },
          {
           "alignmentgroup": "True",
           "hovertemplate": "Research/Disease Areas \n (Dollars in millions and rounded)=%{x}<br>year=2020<br>value=%{y}<extra></extra>",
           "legendgroup": "Traumatic Brain Injury (TBI) 32",
           "marker": {
            "color": "#ab63fa",
            "pattern": {
             "shape": ""
            }
           },
           "name": "Traumatic Brain Injury (TBI) 32",
           "offsetgroup": "Traumatic Brain Injury (TBI) 32",
           "orientation": "v",
           "showlegend": true,
           "textposition": "auto",
           "type": "bar",
           "x": [
            "Traumatic Brain Injury (TBI) 32"
           ],
           "xaxis": "x",
           "y": [
            179
           ],
           "yaxis": "y"
          },
          {
           "alignmentgroup": "True",
           "hovertemplate": "Research/Disease Areas \n (Dollars in millions and rounded)=%{x}<br>year=2020<br>value=%{y}<extra></extra>",
           "legendgroup": "Traumatic Head and Spine Injury 33",
           "marker": {
            "color": "#FFA15A",
            "pattern": {
             "shape": ""
            }
           },
           "name": "Traumatic Head and Spine Injury 33",
           "offsetgroup": "Traumatic Head and Spine Injury 33",
           "orientation": "v",
           "showlegend": true,
           "textposition": "auto",
           "type": "bar",
           "x": [
            "Traumatic Head and Spine Injury 33"
           ],
           "xaxis": "x",
           "y": [
            298
           ],
           "yaxis": "y"
          },
          {
           "alignmentgroup": "True",
           "hovertemplate": "Research/Disease Areas \n (Dollars in millions and rounded)=%{x}<br>year=2020<br>value=%{y}<extra></extra>",
           "legendgroup": "Tuberculosis Vaccine ",
           "marker": {
            "color": "#19d3f3",
            "pattern": {
             "shape": ""
            }
           },
           "name": "Tuberculosis Vaccine ",
           "offsetgroup": "Tuberculosis Vaccine ",
           "orientation": "v",
           "showlegend": true,
           "textposition": "auto",
           "type": "bar",
           "x": [
            "Tuberculosis Vaccine "
           ],
           "xaxis": "x",
           "y": [
            59
           ],
           "yaxis": "y"
          },
          {
           "alignmentgroup": "True",
           "hovertemplate": "Research/Disease Areas \n (Dollars in millions and rounded)=%{x}<br>year=2020<br>value=%{y}<extra></extra>",
           "legendgroup": "Underage Drinking ",
           "marker": {
            "color": "#FF6692",
            "pattern": {
             "shape": ""
            }
           },
           "name": "Underage Drinking ",
           "offsetgroup": "Underage Drinking ",
           "orientation": "v",
           "showlegend": true,
           "textposition": "auto",
           "type": "bar",
           "x": [
            "Underage Drinking "
           ],
           "xaxis": "x",
           "y": [
            101
           ],
           "yaxis": "y"
          },
          {
           "alignmentgroup": "True",
           "hovertemplate": "Research/Disease Areas \n (Dollars in millions and rounded)=%{x}<br>year=2020<br>value=%{y}<extra></extra>",
           "legendgroup": "Underage Drinking - Prevention & Treatment (NIAAA Only) 16",
           "marker": {
            "color": "#B6E880",
            "pattern": {
             "shape": ""
            }
           },
           "name": "Underage Drinking - Prevention & Treatment (NIAAA Only) 16",
           "offsetgroup": "Underage Drinking - Prevention & Treatment (NIAAA Only) 16",
           "orientation": "v",
           "showlegend": true,
           "textposition": "auto",
           "type": "bar",
           "x": [
            "Underage Drinking - Prevention & Treatment (NIAAA Only) 16"
           ],
           "xaxis": "x",
           "y": [
            61
           ],
           "yaxis": "y"
          },
          {
           "alignmentgroup": "True",
           "hovertemplate": "Research/Disease Areas \n (Dollars in millions and rounded)=%{x}<br>year=2020<br>value=%{y}<extra></extra>",
           "legendgroup": "Therapeutic Cannabinoid Research ",
           "marker": {
            "color": "#FF97FF",
            "pattern": {
             "shape": ""
            }
           },
           "name": "Therapeutic Cannabinoid Research ",
           "offsetgroup": "Therapeutic Cannabinoid Research ",
           "orientation": "v",
           "showlegend": true,
           "textposition": "auto",
           "type": "bar",
           "x": [
            "Therapeutic Cannabinoid Research "
           ],
           "xaxis": "x",
           "y": [
            54
           ],
           "yaxis": "y"
          },
          {
           "alignmentgroup": "True",
           "hovertemplate": "Research/Disease Areas \n (Dollars in millions and rounded)=%{x}<br>year=2020<br>value=%{y}<extra></extra>",
           "legendgroup": "Back Pain ",
           "marker": {
            "color": "#FECB52",
            "pattern": {
             "shape": ""
            }
           },
           "name": "Back Pain ",
           "offsetgroup": "Back Pain ",
           "orientation": "v",
           "showlegend": true,
           "textposition": "auto",
           "type": "bar",
           "x": [
            "Back Pain "
           ],
           "xaxis": "x",
           "y": [
            55
           ],
           "yaxis": "y"
          }
         ],
         "name": "2020"
        },
        {
         "data": [
          {
           "alignmentgroup": "True",
           "hovertemplate": "Research/Disease Areas \n (Dollars in millions and rounded)=%{x}<br>year=2021<br>value=%{y}<extra></extra>",
           "legendgroup": "Tobacco Smoke and Health 25",
           "marker": {
            "color": "#636efa",
            "pattern": {
             "shape": ""
            }
           },
           "name": "Tobacco Smoke and Health 25",
           "offsetgroup": "Tobacco Smoke and Health 25",
           "orientation": "v",
           "showlegend": true,
           "textposition": "auto",
           "type": "bar",
           "x": [
            "Tobacco Smoke and Health 25"
           ],
           "xaxis": "x",
           "y": [
            282
           ],
           "yaxis": "y"
          },
          {
           "alignmentgroup": "True",
           "hovertemplate": "Research/Disease Areas \n (Dollars in millions and rounded)=%{x}<br>year=2021<br>value=%{y}<extra></extra>",
           "legendgroup": "Topical Microbicides ",
           "marker": {
            "color": "#EF553B",
            "pattern": {
             "shape": ""
            }
           },
           "name": "Topical Microbicides ",
           "offsetgroup": "Topical Microbicides ",
           "orientation": "v",
           "showlegend": true,
           "textposition": "auto",
           "type": "bar",
           "x": [
            "Topical Microbicides "
           ],
           "xaxis": "x",
           "y": [
            33
           ],
           "yaxis": "y"
          },
          {
           "alignmentgroup": "True",
           "hovertemplate": "Research/Disease Areas \n (Dollars in millions and rounded)=%{x}<br>year=2021<br>value=%{y}<extra></extra>",
           "legendgroup": "Transplantation ",
           "marker": {
            "color": "#00cc96",
            "pattern": {
             "shape": ""
            }
           },
           "name": "Transplantation ",
           "offsetgroup": "Transplantation ",
           "orientation": "v",
           "showlegend": true,
           "textposition": "auto",
           "type": "bar",
           "x": [
            "Transplantation "
           ],
           "xaxis": "x",
           "y": [
            702
           ],
           "yaxis": "y"
          },
          {
           "alignmentgroup": "True",
           "hovertemplate": "Research/Disease Areas \n (Dollars in millions and rounded)=%{x}<br>year=2021<br>value=%{y}<extra></extra>",
           "legendgroup": "Traumatic Brain Injury (TBI) 32",
           "marker": {
            "color": "#ab63fa",
            "pattern": {
             "shape": ""
            }
           },
           "name": "Traumatic Brain Injury (TBI) 32",
           "offsetgroup": "Traumatic Brain Injury (TBI) 32",
           "orientation": "v",
           "showlegend": true,
           "textposition": "auto",
           "type": "bar",
           "x": [
            "Traumatic Brain Injury (TBI) 32"
           ],
           "xaxis": "x",
           "y": [
            185
           ],
           "yaxis": "y"
          },
          {
           "alignmentgroup": "True",
           "hovertemplate": "Research/Disease Areas \n (Dollars in millions and rounded)=%{x}<br>year=2021<br>value=%{y}<extra></extra>",
           "legendgroup": "Traumatic Head and Spine Injury 33",
           "marker": {
            "color": "#FFA15A",
            "pattern": {
             "shape": ""
            }
           },
           "name": "Traumatic Head and Spine Injury 33",
           "offsetgroup": "Traumatic Head and Spine Injury 33",
           "orientation": "v",
           "showlegend": true,
           "textposition": "auto",
           "type": "bar",
           "x": [
            "Traumatic Head and Spine Injury 33"
           ],
           "xaxis": "x",
           "y": [
            310
           ],
           "yaxis": "y"
          },
          {
           "alignmentgroup": "True",
           "hovertemplate": "Research/Disease Areas \n (Dollars in millions and rounded)=%{x}<br>year=2021<br>value=%{y}<extra></extra>",
           "legendgroup": "Tuberculosis Vaccine ",
           "marker": {
            "color": "#19d3f3",
            "pattern": {
             "shape": ""
            }
           },
           "name": "Tuberculosis Vaccine ",
           "offsetgroup": "Tuberculosis Vaccine ",
           "orientation": "v",
           "showlegend": true,
           "textposition": "auto",
           "type": "bar",
           "x": [
            "Tuberculosis Vaccine "
           ],
           "xaxis": "x",
           "y": [
            99
           ],
           "yaxis": "y"
          },
          {
           "alignmentgroup": "True",
           "hovertemplate": "Research/Disease Areas \n (Dollars in millions and rounded)=%{x}<br>year=2021<br>value=%{y}<extra></extra>",
           "legendgroup": "Underage Drinking ",
           "marker": {
            "color": "#FF6692",
            "pattern": {
             "shape": ""
            }
           },
           "name": "Underage Drinking ",
           "offsetgroup": "Underage Drinking ",
           "orientation": "v",
           "showlegend": true,
           "textposition": "auto",
           "type": "bar",
           "x": [
            "Underage Drinking "
           ],
           "xaxis": "x",
           "y": [
            94
           ],
           "yaxis": "y"
          },
          {
           "alignmentgroup": "True",
           "hovertemplate": "Research/Disease Areas \n (Dollars in millions and rounded)=%{x}<br>year=2021<br>value=%{y}<extra></extra>",
           "legendgroup": "Underage Drinking - Prevention & Treatment (NIAAA Only) 16",
           "marker": {
            "color": "#B6E880",
            "pattern": {
             "shape": ""
            }
           },
           "name": "Underage Drinking - Prevention & Treatment (NIAAA Only) 16",
           "offsetgroup": "Underage Drinking - Prevention & Treatment (NIAAA Only) 16",
           "orientation": "v",
           "showlegend": true,
           "textposition": "auto",
           "type": "bar",
           "x": [
            "Underage Drinking - Prevention & Treatment (NIAAA Only) 16"
           ],
           "xaxis": "x",
           "y": [
            65
           ],
           "yaxis": "y"
          },
          {
           "alignmentgroup": "True",
           "hovertemplate": "Research/Disease Areas \n (Dollars in millions and rounded)=%{x}<br>year=2021<br>value=%{y}<extra></extra>",
           "legendgroup": "Therapeutic Cannabinoid Research ",
           "marker": {
            "color": "#FF97FF",
            "pattern": {
             "shape": ""
            }
           },
           "name": "Therapeutic Cannabinoid Research ",
           "offsetgroup": "Therapeutic Cannabinoid Research ",
           "orientation": "v",
           "showlegend": true,
           "textposition": "auto",
           "type": "bar",
           "x": [
            "Therapeutic Cannabinoid Research "
           ],
           "xaxis": "x",
           "y": [
            65
           ],
           "yaxis": "y"
          },
          {
           "alignmentgroup": "True",
           "hovertemplate": "Research/Disease Areas \n (Dollars in millions and rounded)=%{x}<br>year=2021<br>value=%{y}<extra></extra>",
           "legendgroup": "Back Pain ",
           "marker": {
            "color": "#FECB52",
            "pattern": {
             "shape": ""
            }
           },
           "name": "Back Pain ",
           "offsetgroup": "Back Pain ",
           "orientation": "v",
           "showlegend": true,
           "textposition": "auto",
           "type": "bar",
           "x": [
            "Back Pain "
           ],
           "xaxis": "x",
           "y": [
            80
           ],
           "yaxis": "y"
          }
         ],
         "name": "2021"
        },
        {
         "data": [
          {
           "alignmentgroup": "True",
           "hovertemplate": "Research/Disease Areas \n (Dollars in millions and rounded)=%{x}<br>year=2022 Estimated<br>value=%{y}<extra></extra>",
           "legendgroup": "Tobacco Smoke and Health 25",
           "marker": {
            "color": "#636efa",
            "pattern": {
             "shape": ""
            }
           },
           "name": "Tobacco Smoke and Health 25",
           "offsetgroup": "Tobacco Smoke and Health 25",
           "orientation": "v",
           "showlegend": true,
           "textposition": "auto",
           "type": "bar",
           "x": [
            "Tobacco Smoke and Health 25"
           ],
           "xaxis": "x",
           "y": [
            294
           ],
           "yaxis": "y"
          },
          {
           "alignmentgroup": "True",
           "hovertemplate": "Research/Disease Areas \n (Dollars in millions and rounded)=%{x}<br>year=2022 Estimated<br>value=%{y}<extra></extra>",
           "legendgroup": "Topical Microbicides ",
           "marker": {
            "color": "#EF553B",
            "pattern": {
             "shape": ""
            }
           },
           "name": "Topical Microbicides ",
           "offsetgroup": "Topical Microbicides ",
           "orientation": "v",
           "showlegend": true,
           "textposition": "auto",
           "type": "bar",
           "x": [
            "Topical Microbicides "
           ],
           "xaxis": "x",
           "y": [
            34
           ],
           "yaxis": "y"
          },
          {
           "alignmentgroup": "True",
           "hovertemplate": "Research/Disease Areas \n (Dollars in millions and rounded)=%{x}<br>year=2022 Estimated<br>value=%{y}<extra></extra>",
           "legendgroup": "Transplantation ",
           "marker": {
            "color": "#00cc96",
            "pattern": {
             "shape": ""
            }
           },
           "name": "Transplantation ",
           "offsetgroup": "Transplantation ",
           "orientation": "v",
           "showlegend": true,
           "textposition": "auto",
           "type": "bar",
           "x": [
            "Transplantation "
           ],
           "xaxis": "x",
           "y": [
            735
           ],
           "yaxis": "y"
          },
          {
           "alignmentgroup": "True",
           "hovertemplate": "Research/Disease Areas \n (Dollars in millions and rounded)=%{x}<br>year=2022 Estimated<br>value=%{y}<extra></extra>",
           "legendgroup": "Traumatic Brain Injury (TBI) 32",
           "marker": {
            "color": "#ab63fa",
            "pattern": {
             "shape": ""
            }
           },
           "name": "Traumatic Brain Injury (TBI) 32",
           "offsetgroup": "Traumatic Brain Injury (TBI) 32",
           "orientation": "v",
           "showlegend": true,
           "textposition": "auto",
           "type": "bar",
           "x": [
            "Traumatic Brain Injury (TBI) 32"
           ],
           "xaxis": "x",
           "y": [
            193
           ],
           "yaxis": "y"
          },
          {
           "alignmentgroup": "True",
           "hovertemplate": "Research/Disease Areas \n (Dollars in millions and rounded)=%{x}<br>year=2022 Estimated<br>value=%{y}<extra></extra>",
           "legendgroup": "Traumatic Head and Spine Injury 33",
           "marker": {
            "color": "#FFA15A",
            "pattern": {
             "shape": ""
            }
           },
           "name": "Traumatic Head and Spine Injury 33",
           "offsetgroup": "Traumatic Head and Spine Injury 33",
           "orientation": "v",
           "showlegend": true,
           "textposition": "auto",
           "type": "bar",
           "x": [
            "Traumatic Head and Spine Injury 33"
           ],
           "xaxis": "x",
           "y": [
            325
           ],
           "yaxis": "y"
          },
          {
           "alignmentgroup": "True",
           "hovertemplate": "Research/Disease Areas \n (Dollars in millions and rounded)=%{x}<br>year=2022 Estimated<br>value=%{y}<extra></extra>",
           "legendgroup": "Tuberculosis Vaccine ",
           "marker": {
            "color": "#19d3f3",
            "pattern": {
             "shape": ""
            }
           },
           "name": "Tuberculosis Vaccine ",
           "offsetgroup": "Tuberculosis Vaccine ",
           "orientation": "v",
           "showlegend": true,
           "textposition": "auto",
           "type": "bar",
           "x": [
            "Tuberculosis Vaccine "
           ],
           "xaxis": "x",
           "y": [
            104
           ],
           "yaxis": "y"
          },
          {
           "alignmentgroup": "True",
           "hovertemplate": "Research/Disease Areas \n (Dollars in millions and rounded)=%{x}<br>year=2022 Estimated<br>value=%{y}<extra></extra>",
           "legendgroup": "Underage Drinking ",
           "marker": {
            "color": "#FF6692",
            "pattern": {
             "shape": ""
            }
           },
           "name": "Underage Drinking ",
           "offsetgroup": "Underage Drinking ",
           "orientation": "v",
           "showlegend": true,
           "textposition": "auto",
           "type": "bar",
           "x": [
            "Underage Drinking "
           ],
           "xaxis": "x",
           "y": [
            98
           ],
           "yaxis": "y"
          },
          {
           "alignmentgroup": "True",
           "hovertemplate": "Research/Disease Areas \n (Dollars in millions and rounded)=%{x}<br>year=2022 Estimated<br>value=%{y}<extra></extra>",
           "legendgroup": "Underage Drinking - Prevention & Treatment (NIAAA Only) 16",
           "marker": {
            "color": "#B6E880",
            "pattern": {
             "shape": ""
            }
           },
           "name": "Underage Drinking - Prevention & Treatment (NIAAA Only) 16",
           "offsetgroup": "Underage Drinking - Prevention & Treatment (NIAAA Only) 16",
           "orientation": "v",
           "showlegend": true,
           "textposition": "auto",
           "type": "bar",
           "x": [
            "Underage Drinking - Prevention & Treatment (NIAAA Only) 16"
           ],
           "xaxis": "x",
           "y": [
            68
           ],
           "yaxis": "y"
          },
          {
           "alignmentgroup": "True",
           "hovertemplate": "Research/Disease Areas \n (Dollars in millions and rounded)=%{x}<br>year=2022 Estimated<br>value=%{y}<extra></extra>",
           "legendgroup": "Therapeutic Cannabinoid Research ",
           "marker": {
            "color": "#FF97FF",
            "pattern": {
             "shape": ""
            }
           },
           "name": "Therapeutic Cannabinoid Research ",
           "offsetgroup": "Therapeutic Cannabinoid Research ",
           "orientation": "v",
           "showlegend": true,
           "textposition": "auto",
           "type": "bar",
           "x": [
            "Therapeutic Cannabinoid Research "
           ],
           "xaxis": "x",
           "y": [
            68
           ],
           "yaxis": "y"
          },
          {
           "alignmentgroup": "True",
           "hovertemplate": "Research/Disease Areas \n (Dollars in millions and rounded)=%{x}<br>year=2022 Estimated<br>value=%{y}<extra></extra>",
           "legendgroup": "Back Pain ",
           "marker": {
            "color": "#FECB52",
            "pattern": {
             "shape": ""
            }
           },
           "name": "Back Pain ",
           "offsetgroup": "Back Pain ",
           "orientation": "v",
           "showlegend": true,
           "textposition": "auto",
           "type": "bar",
           "x": [
            "Back Pain "
           ],
           "xaxis": "x",
           "y": [
            81
           ],
           "yaxis": "y"
          }
         ],
         "name": "2022 Estimated"
        },
        {
         "data": [
          {
           "alignmentgroup": "True",
           "hovertemplate": "Research/Disease Areas \n (Dollars in millions and rounded)=%{x}<br>year=2023 Estimated<br>value=%{y}<extra></extra>",
           "legendgroup": "Tobacco Smoke and Health 25",
           "marker": {
            "color": "#636efa",
            "pattern": {
             "shape": ""
            }
           },
           "name": "Tobacco Smoke and Health 25",
           "offsetgroup": "Tobacco Smoke and Health 25",
           "orientation": "v",
           "showlegend": true,
           "textposition": "auto",
           "type": "bar",
           "x": [
            "Tobacco Smoke and Health 25"
           ],
           "xaxis": "x",
           "y": [
            308
           ],
           "yaxis": "y"
          },
          {
           "alignmentgroup": "True",
           "hovertemplate": "Research/Disease Areas \n (Dollars in millions and rounded)=%{x}<br>year=2023 Estimated<br>value=%{y}<extra></extra>",
           "legendgroup": "Topical Microbicides ",
           "marker": {
            "color": "#EF553B",
            "pattern": {
             "shape": ""
            }
           },
           "name": "Topical Microbicides ",
           "offsetgroup": "Topical Microbicides ",
           "orientation": "v",
           "showlegend": true,
           "textposition": "auto",
           "type": "bar",
           "x": [
            "Topical Microbicides "
           ],
           "xaxis": "x",
           "y": [
            34
           ],
           "yaxis": "y"
          },
          {
           "alignmentgroup": "True",
           "hovertemplate": "Research/Disease Areas \n (Dollars in millions and rounded)=%{x}<br>year=2023 Estimated<br>value=%{y}<extra></extra>",
           "legendgroup": "Transplantation ",
           "marker": {
            "color": "#00cc96",
            "pattern": {
             "shape": ""
            }
           },
           "name": "Transplantation ",
           "offsetgroup": "Transplantation ",
           "orientation": "v",
           "showlegend": true,
           "textposition": "auto",
           "type": "bar",
           "x": [
            "Transplantation "
           ],
           "xaxis": "x",
           "y": [
            727
           ],
           "yaxis": "y"
          },
          {
           "alignmentgroup": "True",
           "hovertemplate": "Research/Disease Areas \n (Dollars in millions and rounded)=%{x}<br>year=2023 Estimated<br>value=%{y}<extra></extra>",
           "legendgroup": "Traumatic Brain Injury (TBI) 32",
           "marker": {
            "color": "#ab63fa",
            "pattern": {
             "shape": ""
            }
           },
           "name": "Traumatic Brain Injury (TBI) 32",
           "offsetgroup": "Traumatic Brain Injury (TBI) 32",
           "orientation": "v",
           "showlegend": true,
           "textposition": "auto",
           "type": "bar",
           "x": [
            "Traumatic Brain Injury (TBI) 32"
           ],
           "xaxis": "x",
           "y": [
            194
           ],
           "yaxis": "y"
          },
          {
           "alignmentgroup": "True",
           "hovertemplate": "Research/Disease Areas \n (Dollars in millions and rounded)=%{x}<br>year=2023 Estimated<br>value=%{y}<extra></extra>",
           "legendgroup": "Traumatic Head and Spine Injury 33",
           "marker": {
            "color": "#FFA15A",
            "pattern": {
             "shape": ""
            }
           },
           "name": "Traumatic Head and Spine Injury 33",
           "offsetgroup": "Traumatic Head and Spine Injury 33",
           "orientation": "v",
           "showlegend": true,
           "textposition": "auto",
           "type": "bar",
           "x": [
            "Traumatic Head and Spine Injury 33"
           ],
           "xaxis": "x",
           "y": [
            337
           ],
           "yaxis": "y"
          },
          {
           "alignmentgroup": "True",
           "hovertemplate": "Research/Disease Areas \n (Dollars in millions and rounded)=%{x}<br>year=2023 Estimated<br>value=%{y}<extra></extra>",
           "legendgroup": "Tuberculosis Vaccine ",
           "marker": {
            "color": "#19d3f3",
            "pattern": {
             "shape": ""
            }
           },
           "name": "Tuberculosis Vaccine ",
           "offsetgroup": "Tuberculosis Vaccine ",
           "orientation": "v",
           "showlegend": true,
           "textposition": "auto",
           "type": "bar",
           "x": [
            "Tuberculosis Vaccine "
           ],
           "xaxis": "x",
           "y": [
            102
           ],
           "yaxis": "y"
          },
          {
           "alignmentgroup": "True",
           "hovertemplate": "Research/Disease Areas \n (Dollars in millions and rounded)=%{x}<br>year=2023 Estimated<br>value=%{y}<extra></extra>",
           "legendgroup": "Underage Drinking ",
           "marker": {
            "color": "#FF6692",
            "pattern": {
             "shape": ""
            }
           },
           "name": "Underage Drinking ",
           "offsetgroup": "Underage Drinking ",
           "orientation": "v",
           "showlegend": true,
           "textposition": "auto",
           "type": "bar",
           "x": [
            "Underage Drinking "
           ],
           "xaxis": "x",
           "y": [
            96
           ],
           "yaxis": "y"
          },
          {
           "alignmentgroup": "True",
           "hovertemplate": "Research/Disease Areas \n (Dollars in millions and rounded)=%{x}<br>year=2023 Estimated<br>value=%{y}<extra></extra>",
           "legendgroup": "Underage Drinking - Prevention & Treatment (NIAAA Only) 16",
           "marker": {
            "color": "#B6E880",
            "pattern": {
             "shape": ""
            }
           },
           "name": "Underage Drinking - Prevention & Treatment (NIAAA Only) 16",
           "offsetgroup": "Underage Drinking - Prevention & Treatment (NIAAA Only) 16",
           "orientation": "v",
           "showlegend": true,
           "textposition": "auto",
           "type": "bar",
           "x": [
            "Underage Drinking - Prevention & Treatment (NIAAA Only) 16"
           ],
           "xaxis": "x",
           "y": [
            67
           ],
           "yaxis": "y"
          },
          {
           "alignmentgroup": "True",
           "hovertemplate": "Research/Disease Areas \n (Dollars in millions and rounded)=%{x}<br>year=2023 Estimated<br>value=%{y}<extra></extra>",
           "legendgroup": "Therapeutic Cannabinoid Research ",
           "marker": {
            "color": "#FF97FF",
            "pattern": {
             "shape": ""
            }
           },
           "name": "Therapeutic Cannabinoid Research ",
           "offsetgroup": "Therapeutic Cannabinoid Research ",
           "orientation": "v",
           "showlegend": true,
           "textposition": "auto",
           "type": "bar",
           "x": [
            "Therapeutic Cannabinoid Research "
           ],
           "xaxis": "x",
           "y": [
            69
           ],
           "yaxis": "y"
          },
          {
           "alignmentgroup": "True",
           "hovertemplate": "Research/Disease Areas \n (Dollars in millions and rounded)=%{x}<br>year=2023 Estimated<br>value=%{y}<extra></extra>",
           "legendgroup": "Back Pain ",
           "marker": {
            "color": "#FECB52",
            "pattern": {
             "shape": ""
            }
           },
           "name": "Back Pain ",
           "offsetgroup": "Back Pain ",
           "orientation": "v",
           "showlegend": true,
           "textposition": "auto",
           "type": "bar",
           "x": [
            "Back Pain "
           ],
           "xaxis": "x",
           "y": [
            104
           ],
           "yaxis": "y"
          }
         ],
         "name": "2023 Estimated"
        }
       ],
       "layout": {
        "barmode": "relative",
        "height": 600,
        "legend": {
         "title": {
          "text": "Research/Disease Areas \n (Dollars in millions and rounded)"
         },
         "tracegroupgap": 0
        },
        "sliders": [
         {
          "active": 0,
          "currentvalue": {
           "prefix": "year="
          },
          "len": 0.9,
          "pad": {
           "b": 10,
           "t": 60
          },
          "steps": [
           {
            "args": [
             [
              "2008"
             ],
             {
              "frame": {
               "duration": 0,
               "redraw": true
              },
              "fromcurrent": true,
              "mode": "immediate",
              "transition": {
               "duration": 0,
               "easing": "linear"
              }
             }
            ],
            "label": "2008",
            "method": "animate"
           },
           {
            "args": [
             [
              "2009"
             ],
             {
              "frame": {
               "duration": 0,
               "redraw": true
              },
              "fromcurrent": true,
              "mode": "immediate",
              "transition": {
               "duration": 0,
               "easing": "linear"
              }
             }
            ],
            "label": "2009",
            "method": "animate"
           },
           {
            "args": [
             [
              "2010"
             ],
             {
              "frame": {
               "duration": 0,
               "redraw": true
              },
              "fromcurrent": true,
              "mode": "immediate",
              "transition": {
               "duration": 0,
               "easing": "linear"
              }
             }
            ],
            "label": "2010",
            "method": "animate"
           },
           {
            "args": [
             [
              "2011"
             ],
             {
              "frame": {
               "duration": 0,
               "redraw": true
              },
              "fromcurrent": true,
              "mode": "immediate",
              "transition": {
               "duration": 0,
               "easing": "linear"
              }
             }
            ],
            "label": "2011",
            "method": "animate"
           },
           {
            "args": [
             [
              "2012"
             ],
             {
              "frame": {
               "duration": 0,
               "redraw": true
              },
              "fromcurrent": true,
              "mode": "immediate",
              "transition": {
               "duration": 0,
               "easing": "linear"
              }
             }
            ],
            "label": "2012",
            "method": "animate"
           },
           {
            "args": [
             [
              "2013"
             ],
             {
              "frame": {
               "duration": 0,
               "redraw": true
              },
              "fromcurrent": true,
              "mode": "immediate",
              "transition": {
               "duration": 0,
               "easing": "linear"
              }
             }
            ],
            "label": "2013",
            "method": "animate"
           },
           {
            "args": [
             [
              "2014"
             ],
             {
              "frame": {
               "duration": 0,
               "redraw": true
              },
              "fromcurrent": true,
              "mode": "immediate",
              "transition": {
               "duration": 0,
               "easing": "linear"
              }
             }
            ],
            "label": "2014",
            "method": "animate"
           },
           {
            "args": [
             [
              "2015"
             ],
             {
              "frame": {
               "duration": 0,
               "redraw": true
              },
              "fromcurrent": true,
              "mode": "immediate",
              "transition": {
               "duration": 0,
               "easing": "linear"
              }
             }
            ],
            "label": "2015",
            "method": "animate"
           },
           {
            "args": [
             [
              "2016"
             ],
             {
              "frame": {
               "duration": 0,
               "redraw": true
              },
              "fromcurrent": true,
              "mode": "immediate",
              "transition": {
               "duration": 0,
               "easing": "linear"
              }
             }
            ],
            "label": "2016",
            "method": "animate"
           },
           {
            "args": [
             [
              "2017"
             ],
             {
              "frame": {
               "duration": 0,
               "redraw": true
              },
              "fromcurrent": true,
              "mode": "immediate",
              "transition": {
               "duration": 0,
               "easing": "linear"
              }
             }
            ],
            "label": "2017",
            "method": "animate"
           },
           {
            "args": [
             [
              "2018"
             ],
             {
              "frame": {
               "duration": 0,
               "redraw": true
              },
              "fromcurrent": true,
              "mode": "immediate",
              "transition": {
               "duration": 0,
               "easing": "linear"
              }
             }
            ],
            "label": "2018",
            "method": "animate"
           },
           {
            "args": [
             [
              "2019"
             ],
             {
              "frame": {
               "duration": 0,
               "redraw": true
              },
              "fromcurrent": true,
              "mode": "immediate",
              "transition": {
               "duration": 0,
               "easing": "linear"
              }
             }
            ],
            "label": "2019",
            "method": "animate"
           },
           {
            "args": [
             [
              "2020"
             ],
             {
              "frame": {
               "duration": 0,
               "redraw": true
              },
              "fromcurrent": true,
              "mode": "immediate",
              "transition": {
               "duration": 0,
               "easing": "linear"
              }
             }
            ],
            "label": "2020",
            "method": "animate"
           },
           {
            "args": [
             [
              "2021"
             ],
             {
              "frame": {
               "duration": 0,
               "redraw": true
              },
              "fromcurrent": true,
              "mode": "immediate",
              "transition": {
               "duration": 0,
               "easing": "linear"
              }
             }
            ],
            "label": "2021",
            "method": "animate"
           },
           {
            "args": [
             [
              "2022 Estimated"
             ],
             {
              "frame": {
               "duration": 0,
               "redraw": true
              },
              "fromcurrent": true,
              "mode": "immediate",
              "transition": {
               "duration": 0,
               "easing": "linear"
              }
             }
            ],
            "label": "2022 Estimated",
            "method": "animate"
           },
           {
            "args": [
             [
              "2023 Estimated"
             ],
             {
              "frame": {
               "duration": 0,
               "redraw": true
              },
              "fromcurrent": true,
              "mode": "immediate",
              "transition": {
               "duration": 0,
               "easing": "linear"
              }
             }
            ],
            "label": "2023 Estimated",
            "method": "animate"
           }
          ],
          "x": 0.1,
          "xanchor": "left",
          "y": 0,
          "yanchor": "top"
         }
        ],
        "template": {
         "data": {
          "bar": [
           {
            "error_x": {
             "color": "#2a3f5f"
            },
            "error_y": {
             "color": "#2a3f5f"
            },
            "marker": {
             "line": {
              "color": "#E5ECF6",
              "width": 0.5
             },
             "pattern": {
              "fillmode": "overlay",
              "size": 10,
              "solidity": 0.2
             }
            },
            "type": "bar"
           }
          ],
          "barpolar": [
           {
            "marker": {
             "line": {
              "color": "#E5ECF6",
              "width": 0.5
             },
             "pattern": {
              "fillmode": "overlay",
              "size": 10,
              "solidity": 0.2
             }
            },
            "type": "barpolar"
           }
          ],
          "carpet": [
           {
            "aaxis": {
             "endlinecolor": "#2a3f5f",
             "gridcolor": "white",
             "linecolor": "white",
             "minorgridcolor": "white",
             "startlinecolor": "#2a3f5f"
            },
            "baxis": {
             "endlinecolor": "#2a3f5f",
             "gridcolor": "white",
             "linecolor": "white",
             "minorgridcolor": "white",
             "startlinecolor": "#2a3f5f"
            },
            "type": "carpet"
           }
          ],
          "choropleth": [
           {
            "colorbar": {
             "outlinewidth": 0,
             "ticks": ""
            },
            "type": "choropleth"
           }
          ],
          "contour": [
           {
            "colorbar": {
             "outlinewidth": 0,
             "ticks": ""
            },
            "colorscale": [
             [
              0,
              "#0d0887"
             ],
             [
              0.1111111111111111,
              "#46039f"
             ],
             [
              0.2222222222222222,
              "#7201a8"
             ],
             [
              0.3333333333333333,
              "#9c179e"
             ],
             [
              0.4444444444444444,
              "#bd3786"
             ],
             [
              0.5555555555555556,
              "#d8576b"
             ],
             [
              0.6666666666666666,
              "#ed7953"
             ],
             [
              0.7777777777777778,
              "#fb9f3a"
             ],
             [
              0.8888888888888888,
              "#fdca26"
             ],
             [
              1,
              "#f0f921"
             ]
            ],
            "type": "contour"
           }
          ],
          "contourcarpet": [
           {
            "colorbar": {
             "outlinewidth": 0,
             "ticks": ""
            },
            "type": "contourcarpet"
           }
          ],
          "heatmap": [
           {
            "colorbar": {
             "outlinewidth": 0,
             "ticks": ""
            },
            "colorscale": [
             [
              0,
              "#0d0887"
             ],
             [
              0.1111111111111111,
              "#46039f"
             ],
             [
              0.2222222222222222,
              "#7201a8"
             ],
             [
              0.3333333333333333,
              "#9c179e"
             ],
             [
              0.4444444444444444,
              "#bd3786"
             ],
             [
              0.5555555555555556,
              "#d8576b"
             ],
             [
              0.6666666666666666,
              "#ed7953"
             ],
             [
              0.7777777777777778,
              "#fb9f3a"
             ],
             [
              0.8888888888888888,
              "#fdca26"
             ],
             [
              1,
              "#f0f921"
             ]
            ],
            "type": "heatmap"
           }
          ],
          "heatmapgl": [
           {
            "colorbar": {
             "outlinewidth": 0,
             "ticks": ""
            },
            "colorscale": [
             [
              0,
              "#0d0887"
             ],
             [
              0.1111111111111111,
              "#46039f"
             ],
             [
              0.2222222222222222,
              "#7201a8"
             ],
             [
              0.3333333333333333,
              "#9c179e"
             ],
             [
              0.4444444444444444,
              "#bd3786"
             ],
             [
              0.5555555555555556,
              "#d8576b"
             ],
             [
              0.6666666666666666,
              "#ed7953"
             ],
             [
              0.7777777777777778,
              "#fb9f3a"
             ],
             [
              0.8888888888888888,
              "#fdca26"
             ],
             [
              1,
              "#f0f921"
             ]
            ],
            "type": "heatmapgl"
           }
          ],
          "histogram": [
           {
            "marker": {
             "pattern": {
              "fillmode": "overlay",
              "size": 10,
              "solidity": 0.2
             }
            },
            "type": "histogram"
           }
          ],
          "histogram2d": [
           {
            "colorbar": {
             "outlinewidth": 0,
             "ticks": ""
            },
            "colorscale": [
             [
              0,
              "#0d0887"
             ],
             [
              0.1111111111111111,
              "#46039f"
             ],
             [
              0.2222222222222222,
              "#7201a8"
             ],
             [
              0.3333333333333333,
              "#9c179e"
             ],
             [
              0.4444444444444444,
              "#bd3786"
             ],
             [
              0.5555555555555556,
              "#d8576b"
             ],
             [
              0.6666666666666666,
              "#ed7953"
             ],
             [
              0.7777777777777778,
              "#fb9f3a"
             ],
             [
              0.8888888888888888,
              "#fdca26"
             ],
             [
              1,
              "#f0f921"
             ]
            ],
            "type": "histogram2d"
           }
          ],
          "histogram2dcontour": [
           {
            "colorbar": {
             "outlinewidth": 0,
             "ticks": ""
            },
            "colorscale": [
             [
              0,
              "#0d0887"
             ],
             [
              0.1111111111111111,
              "#46039f"
             ],
             [
              0.2222222222222222,
              "#7201a8"
             ],
             [
              0.3333333333333333,
              "#9c179e"
             ],
             [
              0.4444444444444444,
              "#bd3786"
             ],
             [
              0.5555555555555556,
              "#d8576b"
             ],
             [
              0.6666666666666666,
              "#ed7953"
             ],
             [
              0.7777777777777778,
              "#fb9f3a"
             ],
             [
              0.8888888888888888,
              "#fdca26"
             ],
             [
              1,
              "#f0f921"
             ]
            ],
            "type": "histogram2dcontour"
           }
          ],
          "mesh3d": [
           {
            "colorbar": {
             "outlinewidth": 0,
             "ticks": ""
            },
            "type": "mesh3d"
           }
          ],
          "parcoords": [
           {
            "line": {
             "colorbar": {
              "outlinewidth": 0,
              "ticks": ""
             }
            },
            "type": "parcoords"
           }
          ],
          "pie": [
           {
            "automargin": true,
            "type": "pie"
           }
          ],
          "scatter": [
           {
            "fillpattern": {
             "fillmode": "overlay",
             "size": 10,
             "solidity": 0.2
            },
            "type": "scatter"
           }
          ],
          "scatter3d": [
           {
            "line": {
             "colorbar": {
              "outlinewidth": 0,
              "ticks": ""
             }
            },
            "marker": {
             "colorbar": {
              "outlinewidth": 0,
              "ticks": ""
             }
            },
            "type": "scatter3d"
           }
          ],
          "scattercarpet": [
           {
            "marker": {
             "colorbar": {
              "outlinewidth": 0,
              "ticks": ""
             }
            },
            "type": "scattercarpet"
           }
          ],
          "scattergeo": [
           {
            "marker": {
             "colorbar": {
              "outlinewidth": 0,
              "ticks": ""
             }
            },
            "type": "scattergeo"
           }
          ],
          "scattergl": [
           {
            "marker": {
             "colorbar": {
              "outlinewidth": 0,
              "ticks": ""
             }
            },
            "type": "scattergl"
           }
          ],
          "scattermapbox": [
           {
            "marker": {
             "colorbar": {
              "outlinewidth": 0,
              "ticks": ""
             }
            },
            "type": "scattermapbox"
           }
          ],
          "scatterpolar": [
           {
            "marker": {
             "colorbar": {
              "outlinewidth": 0,
              "ticks": ""
             }
            },
            "type": "scatterpolar"
           }
          ],
          "scatterpolargl": [
           {
            "marker": {
             "colorbar": {
              "outlinewidth": 0,
              "ticks": ""
             }
            },
            "type": "scatterpolargl"
           }
          ],
          "scatterternary": [
           {
            "marker": {
             "colorbar": {
              "outlinewidth": 0,
              "ticks": ""
             }
            },
            "type": "scatterternary"
           }
          ],
          "surface": [
           {
            "colorbar": {
             "outlinewidth": 0,
             "ticks": ""
            },
            "colorscale": [
             [
              0,
              "#0d0887"
             ],
             [
              0.1111111111111111,
              "#46039f"
             ],
             [
              0.2222222222222222,
              "#7201a8"
             ],
             [
              0.3333333333333333,
              "#9c179e"
             ],
             [
              0.4444444444444444,
              "#bd3786"
             ],
             [
              0.5555555555555556,
              "#d8576b"
             ],
             [
              0.6666666666666666,
              "#ed7953"
             ],
             [
              0.7777777777777778,
              "#fb9f3a"
             ],
             [
              0.8888888888888888,
              "#fdca26"
             ],
             [
              1,
              "#f0f921"
             ]
            ],
            "type": "surface"
           }
          ],
          "table": [
           {
            "cells": {
             "fill": {
              "color": "#EBF0F8"
             },
             "line": {
              "color": "white"
             }
            },
            "header": {
             "fill": {
              "color": "#C8D4E3"
             },
             "line": {
              "color": "white"
             }
            },
            "type": "table"
           }
          ]
         },
         "layout": {
          "annotationdefaults": {
           "arrowcolor": "#2a3f5f",
           "arrowhead": 0,
           "arrowwidth": 1
          },
          "autotypenumbers": "strict",
          "coloraxis": {
           "colorbar": {
            "outlinewidth": 0,
            "ticks": ""
           }
          },
          "colorscale": {
           "diverging": [
            [
             0,
             "#8e0152"
            ],
            [
             0.1,
             "#c51b7d"
            ],
            [
             0.2,
             "#de77ae"
            ],
            [
             0.3,
             "#f1b6da"
            ],
            [
             0.4,
             "#fde0ef"
            ],
            [
             0.5,
             "#f7f7f7"
            ],
            [
             0.6,
             "#e6f5d0"
            ],
            [
             0.7,
             "#b8e186"
            ],
            [
             0.8,
             "#7fbc41"
            ],
            [
             0.9,
             "#4d9221"
            ],
            [
             1,
             "#276419"
            ]
           ],
           "sequential": [
            [
             0,
             "#0d0887"
            ],
            [
             0.1111111111111111,
             "#46039f"
            ],
            [
             0.2222222222222222,
             "#7201a8"
            ],
            [
             0.3333333333333333,
             "#9c179e"
            ],
            [
             0.4444444444444444,
             "#bd3786"
            ],
            [
             0.5555555555555556,
             "#d8576b"
            ],
            [
             0.6666666666666666,
             "#ed7953"
            ],
            [
             0.7777777777777778,
             "#fb9f3a"
            ],
            [
             0.8888888888888888,
             "#fdca26"
            ],
            [
             1,
             "#f0f921"
            ]
           ],
           "sequentialminus": [
            [
             0,
             "#0d0887"
            ],
            [
             0.1111111111111111,
             "#46039f"
            ],
            [
             0.2222222222222222,
             "#7201a8"
            ],
            [
             0.3333333333333333,
             "#9c179e"
            ],
            [
             0.4444444444444444,
             "#bd3786"
            ],
            [
             0.5555555555555556,
             "#d8576b"
            ],
            [
             0.6666666666666666,
             "#ed7953"
            ],
            [
             0.7777777777777778,
             "#fb9f3a"
            ],
            [
             0.8888888888888888,
             "#fdca26"
            ],
            [
             1,
             "#f0f921"
            ]
           ]
          },
          "colorway": [
           "#636efa",
           "#EF553B",
           "#00cc96",
           "#ab63fa",
           "#FFA15A",
           "#19d3f3",
           "#FF6692",
           "#B6E880",
           "#FF97FF",
           "#FECB52"
          ],
          "font": {
           "color": "#2a3f5f"
          },
          "geo": {
           "bgcolor": "white",
           "lakecolor": "white",
           "landcolor": "#E5ECF6",
           "showlakes": true,
           "showland": true,
           "subunitcolor": "white"
          },
          "hoverlabel": {
           "align": "left"
          },
          "hovermode": "closest",
          "mapbox": {
           "style": "light"
          },
          "paper_bgcolor": "white",
          "plot_bgcolor": "#E5ECF6",
          "polar": {
           "angularaxis": {
            "gridcolor": "white",
            "linecolor": "white",
            "ticks": ""
           },
           "bgcolor": "#E5ECF6",
           "radialaxis": {
            "gridcolor": "white",
            "linecolor": "white",
            "ticks": ""
           }
          },
          "scene": {
           "xaxis": {
            "backgroundcolor": "#E5ECF6",
            "gridcolor": "white",
            "gridwidth": 2,
            "linecolor": "white",
            "showbackground": true,
            "ticks": "",
            "zerolinecolor": "white"
           },
           "yaxis": {
            "backgroundcolor": "#E5ECF6",
            "gridcolor": "white",
            "gridwidth": 2,
            "linecolor": "white",
            "showbackground": true,
            "ticks": "",
            "zerolinecolor": "white"
           },
           "zaxis": {
            "backgroundcolor": "#E5ECF6",
            "gridcolor": "white",
            "gridwidth": 2,
            "linecolor": "white",
            "showbackground": true,
            "ticks": "",
            "zerolinecolor": "white"
           }
          },
          "shapedefaults": {
           "line": {
            "color": "#2a3f5f"
           }
          },
          "ternary": {
           "aaxis": {
            "gridcolor": "white",
            "linecolor": "white",
            "ticks": ""
           },
           "baxis": {
            "gridcolor": "white",
            "linecolor": "white",
            "ticks": ""
           },
           "bgcolor": "#E5ECF6",
           "caxis": {
            "gridcolor": "white",
            "linecolor": "white",
            "ticks": ""
           }
          },
          "title": {
           "x": 0.05
          },
          "xaxis": {
           "automargin": true,
           "gridcolor": "white",
           "linecolor": "white",
           "ticks": "",
           "title": {
            "standoff": 15
           },
           "zerolinecolor": "white",
           "zerolinewidth": 2
          },
          "yaxis": {
           "automargin": true,
           "gridcolor": "white",
           "linecolor": "white",
           "ticks": "",
           "title": {
            "standoff": 15
           },
           "zerolinecolor": "white",
           "zerolinewidth": 2
          }
         }
        },
        "title": {
         "text": "Top 10 funded nonfatal conditions"
        },
        "updatemenus": [
         {
          "buttons": [
           {
            "args": [
             null,
             {
              "frame": {
               "duration": 500,
               "redraw": true
              },
              "fromcurrent": true,
              "mode": "immediate",
              "transition": {
               "duration": 500,
               "easing": "linear"
              }
             }
            ],
            "label": "&#9654;",
            "method": "animate"
           },
           {
            "args": [
             [
              null
             ],
             {
              "frame": {
               "duration": 0,
               "redraw": true
              },
              "fromcurrent": true,
              "mode": "immediate",
              "transition": {
               "duration": 0,
               "easing": "linear"
              }
             }
            ],
            "label": "&#9724;",
            "method": "animate"
           }
          ],
          "direction": "left",
          "pad": {
           "r": 10,
           "t": 70
          },
          "showactive": false,
          "type": "buttons",
          "x": 0.1,
          "xanchor": "right",
          "y": 0,
          "yanchor": "top"
         }
        ],
        "width": 1000,
        "xaxis": {
         "anchor": "y",
         "categoryarray": [
          "Tobacco Smoke and Health 25",
          "Topical Microbicides ",
          "Transplantation ",
          "Traumatic Brain Injury (TBI) 32",
          "Traumatic Head and Spine Injury 33",
          "Tuberculosis Vaccine ",
          "Underage Drinking ",
          "Underage Drinking - Prevention & Treatment (NIAAA Only) 16",
          "Therapeutic Cannabinoid Research ",
          "Back Pain "
         ],
         "categoryorder": "array",
         "domain": [
          0,
          1
         ],
         "title": {
          "text": "Research/Disease Areas \n (Dollars in millions and rounded)"
         }
        },
        "yaxis": {
         "anchor": "x",
         "domain": [
          0,
          1
         ],
         "range": [
          0,
          800
         ],
         "title": {
          "text": "value"
         }
        }
       }
      }
     },
     "metadata": {},
     "output_type": "display_data"
    }
   ],
   "source": [
    "nfatal10 = nonfatal.sort_values('2019 US Mortality 19').iloc[-10:,]\n",
    "sem = pd.melt(nfatal10, id_vars=['Research/Disease Areas \\n (Dollars in millions and rounded)'], \n",
    "        value_vars=fatal.columns[1:17],\n",
    "        var_name='year', value_name='value')\n",
    "sem = sem.rename(columns={'2022 Estimated': '2022','2023 Estimated': '2023'})\n",
    "sem['value'] = sem['value'].astype(int)\n",
    "fig = px.bar(sem, x='Research/Disease Areas \\n (Dollars in millions and rounded)', \n",
    "             y=\"value\", color='Research/Disease Areas \\n (Dollars in millions and rounded)',\n",
    "             title='Top 10 funded nonfatal conditions',\n",
    "  animation_frame=\"year\",width = 1000,height = 600,range_y=[0,800])\n",
    "\n",
    "fig.show()"
   ]
  },
  {
   "attachments": {},
   "cell_type": "markdown",
   "metadata": {},
   "source": [
    "We would be adding more [interactive visualizations[(https://dash.plotly.com/interactive-graphing)] for this part later in the dash app. Mainly, we would be displaying the time-series data for each category based on user selection. Once user hovers over a category, we would display the change in the funding for that category over the past decade on the side:\n"
   ]
  },
  {
   "cell_type": "code",
   "execution_count": 110,
   "metadata": {},
   "outputs": [
    {
     "data": {
      "application/vnd.plotly.v1+json": {
       "config": {
        "plotlyServerURL": "https://plot.ly"
       },
       "data": [
        {
         "hovertemplate": "year=%{x}<br>value=%{y}<extra></extra>",
         "legendgroup": "",
         "line": {
          "color": "#636efa",
          "dash": "solid"
         },
         "marker": {
          "symbol": "circle"
         },
         "mode": "lines",
         "name": "",
         "orientation": "v",
         "showlegend": false,
         "type": "scatter",
         "x": [
          2008,
          2009,
          2010,
          2011,
          2012,
          2013,
          2014,
          2015,
          2016,
          2017,
          2018,
          2019,
          2020,
          2021,
          "2022 Estimated",
          "2023 Estimated"
         ],
         "xaxis": "x",
         "y": [
          5570,
          6749,
          6626,
          5448,
          5621,
          5274,
          5392,
          5389,
          5589,
          5980,
          6335,
          6520,
          7035,
          7362,
          7644,
          7459
         ],
         "yaxis": "y"
        }
       ],
       "layout": {
        "legend": {
         "tracegroupgap": 0
        },
        "template": {
         "data": {
          "bar": [
           {
            "error_x": {
             "color": "#2a3f5f"
            },
            "error_y": {
             "color": "#2a3f5f"
            },
            "marker": {
             "line": {
              "color": "#E5ECF6",
              "width": 0.5
             },
             "pattern": {
              "fillmode": "overlay",
              "size": 10,
              "solidity": 0.2
             }
            },
            "type": "bar"
           }
          ],
          "barpolar": [
           {
            "marker": {
             "line": {
              "color": "#E5ECF6",
              "width": 0.5
             },
             "pattern": {
              "fillmode": "overlay",
              "size": 10,
              "solidity": 0.2
             }
            },
            "type": "barpolar"
           }
          ],
          "carpet": [
           {
            "aaxis": {
             "endlinecolor": "#2a3f5f",
             "gridcolor": "white",
             "linecolor": "white",
             "minorgridcolor": "white",
             "startlinecolor": "#2a3f5f"
            },
            "baxis": {
             "endlinecolor": "#2a3f5f",
             "gridcolor": "white",
             "linecolor": "white",
             "minorgridcolor": "white",
             "startlinecolor": "#2a3f5f"
            },
            "type": "carpet"
           }
          ],
          "choropleth": [
           {
            "colorbar": {
             "outlinewidth": 0,
             "ticks": ""
            },
            "type": "choropleth"
           }
          ],
          "contour": [
           {
            "colorbar": {
             "outlinewidth": 0,
             "ticks": ""
            },
            "colorscale": [
             [
              0,
              "#0d0887"
             ],
             [
              0.1111111111111111,
              "#46039f"
             ],
             [
              0.2222222222222222,
              "#7201a8"
             ],
             [
              0.3333333333333333,
              "#9c179e"
             ],
             [
              0.4444444444444444,
              "#bd3786"
             ],
             [
              0.5555555555555556,
              "#d8576b"
             ],
             [
              0.6666666666666666,
              "#ed7953"
             ],
             [
              0.7777777777777778,
              "#fb9f3a"
             ],
             [
              0.8888888888888888,
              "#fdca26"
             ],
             [
              1,
              "#f0f921"
             ]
            ],
            "type": "contour"
           }
          ],
          "contourcarpet": [
           {
            "colorbar": {
             "outlinewidth": 0,
             "ticks": ""
            },
            "type": "contourcarpet"
           }
          ],
          "heatmap": [
           {
            "colorbar": {
             "outlinewidth": 0,
             "ticks": ""
            },
            "colorscale": [
             [
              0,
              "#0d0887"
             ],
             [
              0.1111111111111111,
              "#46039f"
             ],
             [
              0.2222222222222222,
              "#7201a8"
             ],
             [
              0.3333333333333333,
              "#9c179e"
             ],
             [
              0.4444444444444444,
              "#bd3786"
             ],
             [
              0.5555555555555556,
              "#d8576b"
             ],
             [
              0.6666666666666666,
              "#ed7953"
             ],
             [
              0.7777777777777778,
              "#fb9f3a"
             ],
             [
              0.8888888888888888,
              "#fdca26"
             ],
             [
              1,
              "#f0f921"
             ]
            ],
            "type": "heatmap"
           }
          ],
          "heatmapgl": [
           {
            "colorbar": {
             "outlinewidth": 0,
             "ticks": ""
            },
            "colorscale": [
             [
              0,
              "#0d0887"
             ],
             [
              0.1111111111111111,
              "#46039f"
             ],
             [
              0.2222222222222222,
              "#7201a8"
             ],
             [
              0.3333333333333333,
              "#9c179e"
             ],
             [
              0.4444444444444444,
              "#bd3786"
             ],
             [
              0.5555555555555556,
              "#d8576b"
             ],
             [
              0.6666666666666666,
              "#ed7953"
             ],
             [
              0.7777777777777778,
              "#fb9f3a"
             ],
             [
              0.8888888888888888,
              "#fdca26"
             ],
             [
              1,
              "#f0f921"
             ]
            ],
            "type": "heatmapgl"
           }
          ],
          "histogram": [
           {
            "marker": {
             "pattern": {
              "fillmode": "overlay",
              "size": 10,
              "solidity": 0.2
             }
            },
            "type": "histogram"
           }
          ],
          "histogram2d": [
           {
            "colorbar": {
             "outlinewidth": 0,
             "ticks": ""
            },
            "colorscale": [
             [
              0,
              "#0d0887"
             ],
             [
              0.1111111111111111,
              "#46039f"
             ],
             [
              0.2222222222222222,
              "#7201a8"
             ],
             [
              0.3333333333333333,
              "#9c179e"
             ],
             [
              0.4444444444444444,
              "#bd3786"
             ],
             [
              0.5555555555555556,
              "#d8576b"
             ],
             [
              0.6666666666666666,
              "#ed7953"
             ],
             [
              0.7777777777777778,
              "#fb9f3a"
             ],
             [
              0.8888888888888888,
              "#fdca26"
             ],
             [
              1,
              "#f0f921"
             ]
            ],
            "type": "histogram2d"
           }
          ],
          "histogram2dcontour": [
           {
            "colorbar": {
             "outlinewidth": 0,
             "ticks": ""
            },
            "colorscale": [
             [
              0,
              "#0d0887"
             ],
             [
              0.1111111111111111,
              "#46039f"
             ],
             [
              0.2222222222222222,
              "#7201a8"
             ],
             [
              0.3333333333333333,
              "#9c179e"
             ],
             [
              0.4444444444444444,
              "#bd3786"
             ],
             [
              0.5555555555555556,
              "#d8576b"
             ],
             [
              0.6666666666666666,
              "#ed7953"
             ],
             [
              0.7777777777777778,
              "#fb9f3a"
             ],
             [
              0.8888888888888888,
              "#fdca26"
             ],
             [
              1,
              "#f0f921"
             ]
            ],
            "type": "histogram2dcontour"
           }
          ],
          "mesh3d": [
           {
            "colorbar": {
             "outlinewidth": 0,
             "ticks": ""
            },
            "type": "mesh3d"
           }
          ],
          "parcoords": [
           {
            "line": {
             "colorbar": {
              "outlinewidth": 0,
              "ticks": ""
             }
            },
            "type": "parcoords"
           }
          ],
          "pie": [
           {
            "automargin": true,
            "type": "pie"
           }
          ],
          "scatter": [
           {
            "fillpattern": {
             "fillmode": "overlay",
             "size": 10,
             "solidity": 0.2
            },
            "type": "scatter"
           }
          ],
          "scatter3d": [
           {
            "line": {
             "colorbar": {
              "outlinewidth": 0,
              "ticks": ""
             }
            },
            "marker": {
             "colorbar": {
              "outlinewidth": 0,
              "ticks": ""
             }
            },
            "type": "scatter3d"
           }
          ],
          "scattercarpet": [
           {
            "marker": {
             "colorbar": {
              "outlinewidth": 0,
              "ticks": ""
             }
            },
            "type": "scattercarpet"
           }
          ],
          "scattergeo": [
           {
            "marker": {
             "colorbar": {
              "outlinewidth": 0,
              "ticks": ""
             }
            },
            "type": "scattergeo"
           }
          ],
          "scattergl": [
           {
            "marker": {
             "colorbar": {
              "outlinewidth": 0,
              "ticks": ""
             }
            },
            "type": "scattergl"
           }
          ],
          "scattermapbox": [
           {
            "marker": {
             "colorbar": {
              "outlinewidth": 0,
              "ticks": ""
             }
            },
            "type": "scattermapbox"
           }
          ],
          "scatterpolar": [
           {
            "marker": {
             "colorbar": {
              "outlinewidth": 0,
              "ticks": ""
             }
            },
            "type": "scatterpolar"
           }
          ],
          "scatterpolargl": [
           {
            "marker": {
             "colorbar": {
              "outlinewidth": 0,
              "ticks": ""
             }
            },
            "type": "scatterpolargl"
           }
          ],
          "scatterternary": [
           {
            "marker": {
             "colorbar": {
              "outlinewidth": 0,
              "ticks": ""
             }
            },
            "type": "scatterternary"
           }
          ],
          "surface": [
           {
            "colorbar": {
             "outlinewidth": 0,
             "ticks": ""
            },
            "colorscale": [
             [
              0,
              "#0d0887"
             ],
             [
              0.1111111111111111,
              "#46039f"
             ],
             [
              0.2222222222222222,
              "#7201a8"
             ],
             [
              0.3333333333333333,
              "#9c179e"
             ],
             [
              0.4444444444444444,
              "#bd3786"
             ],
             [
              0.5555555555555556,
              "#d8576b"
             ],
             [
              0.6666666666666666,
              "#ed7953"
             ],
             [
              0.7777777777777778,
              "#fb9f3a"
             ],
             [
              0.8888888888888888,
              "#fdca26"
             ],
             [
              1,
              "#f0f921"
             ]
            ],
            "type": "surface"
           }
          ],
          "table": [
           {
            "cells": {
             "fill": {
              "color": "#EBF0F8"
             },
             "line": {
              "color": "white"
             }
            },
            "header": {
             "fill": {
              "color": "#C8D4E3"
             },
             "line": {
              "color": "white"
             }
            },
            "type": "table"
           }
          ]
         },
         "layout": {
          "annotationdefaults": {
           "arrowcolor": "#2a3f5f",
           "arrowhead": 0,
           "arrowwidth": 1
          },
          "autotypenumbers": "strict",
          "coloraxis": {
           "colorbar": {
            "outlinewidth": 0,
            "ticks": ""
           }
          },
          "colorscale": {
           "diverging": [
            [
             0,
             "#8e0152"
            ],
            [
             0.1,
             "#c51b7d"
            ],
            [
             0.2,
             "#de77ae"
            ],
            [
             0.3,
             "#f1b6da"
            ],
            [
             0.4,
             "#fde0ef"
            ],
            [
             0.5,
             "#f7f7f7"
            ],
            [
             0.6,
             "#e6f5d0"
            ],
            [
             0.7,
             "#b8e186"
            ],
            [
             0.8,
             "#7fbc41"
            ],
            [
             0.9,
             "#4d9221"
            ],
            [
             1,
             "#276419"
            ]
           ],
           "sequential": [
            [
             0,
             "#0d0887"
            ],
            [
             0.1111111111111111,
             "#46039f"
            ],
            [
             0.2222222222222222,
             "#7201a8"
            ],
            [
             0.3333333333333333,
             "#9c179e"
            ],
            [
             0.4444444444444444,
             "#bd3786"
            ],
            [
             0.5555555555555556,
             "#d8576b"
            ],
            [
             0.6666666666666666,
             "#ed7953"
            ],
            [
             0.7777777777777778,
             "#fb9f3a"
            ],
            [
             0.8888888888888888,
             "#fdca26"
            ],
            [
             1,
             "#f0f921"
            ]
           ],
           "sequentialminus": [
            [
             0,
             "#0d0887"
            ],
            [
             0.1111111111111111,
             "#46039f"
            ],
            [
             0.2222222222222222,
             "#7201a8"
            ],
            [
             0.3333333333333333,
             "#9c179e"
            ],
            [
             0.4444444444444444,
             "#bd3786"
            ],
            [
             0.5555555555555556,
             "#d8576b"
            ],
            [
             0.6666666666666666,
             "#ed7953"
            ],
            [
             0.7777777777777778,
             "#fb9f3a"
            ],
            [
             0.8888888888888888,
             "#fdca26"
            ],
            [
             1,
             "#f0f921"
            ]
           ]
          },
          "colorway": [
           "#636efa",
           "#EF553B",
           "#00cc96",
           "#ab63fa",
           "#FFA15A",
           "#19d3f3",
           "#FF6692",
           "#B6E880",
           "#FF97FF",
           "#FECB52"
          ],
          "font": {
           "color": "#2a3f5f"
          },
          "geo": {
           "bgcolor": "white",
           "lakecolor": "white",
           "landcolor": "#E5ECF6",
           "showlakes": true,
           "showland": true,
           "subunitcolor": "white"
          },
          "hoverlabel": {
           "align": "left"
          },
          "hovermode": "closest",
          "mapbox": {
           "style": "light"
          },
          "paper_bgcolor": "white",
          "plot_bgcolor": "#E5ECF6",
          "polar": {
           "angularaxis": {
            "gridcolor": "white",
            "linecolor": "white",
            "ticks": ""
           },
           "bgcolor": "#E5ECF6",
           "radialaxis": {
            "gridcolor": "white",
            "linecolor": "white",
            "ticks": ""
           }
          },
          "scene": {
           "xaxis": {
            "backgroundcolor": "#E5ECF6",
            "gridcolor": "white",
            "gridwidth": 2,
            "linecolor": "white",
            "showbackground": true,
            "ticks": "",
            "zerolinecolor": "white"
           },
           "yaxis": {
            "backgroundcolor": "#E5ECF6",
            "gridcolor": "white",
            "gridwidth": 2,
            "linecolor": "white",
            "showbackground": true,
            "ticks": "",
            "zerolinecolor": "white"
           },
           "zaxis": {
            "backgroundcolor": "#E5ECF6",
            "gridcolor": "white",
            "gridwidth": 2,
            "linecolor": "white",
            "showbackground": true,
            "ticks": "",
            "zerolinecolor": "white"
           }
          },
          "shapedefaults": {
           "line": {
            "color": "#2a3f5f"
           }
          },
          "ternary": {
           "aaxis": {
            "gridcolor": "white",
            "linecolor": "white",
            "ticks": ""
           },
           "baxis": {
            "gridcolor": "white",
            "linecolor": "white",
            "ticks": ""
           },
           "bgcolor": "#E5ECF6",
           "caxis": {
            "gridcolor": "white",
            "linecolor": "white",
            "ticks": ""
           }
          },
          "title": {
           "x": 0.05
          },
          "xaxis": {
           "automargin": true,
           "gridcolor": "white",
           "linecolor": "white",
           "ticks": "",
           "title": {
            "standoff": 15
           },
           "zerolinecolor": "white",
           "zerolinewidth": 2
          },
          "yaxis": {
           "automargin": true,
           "gridcolor": "white",
           "linecolor": "white",
           "ticks": "",
           "title": {
            "standoff": 15
           },
           "zerolinecolor": "white",
           "zerolinewidth": 2
          }
         }
        },
        "title": {
         "text": "change in cancer research funding, Million USD"
        },
        "xaxis": {
         "anchor": "y",
         "domain": [
          0,
          1
         ],
         "dtick": 1,
         "tick0": 1,
         "tickmode": "linear",
         "title": {
          "text": "year"
         }
        },
        "yaxis": {
         "anchor": "x",
         "domain": [
          0,
          1
         ],
         "title": {
          "text": "value"
         }
        }
       }
      }
     },
     "metadata": {},
     "output_type": "display_data"
    }
   ],
   "source": [
    "cancer = fatal[fatal['Research/Disease Areas \\n (Dollars in millions and rounded)'] == 'Cancer ']\n",
    "cancer.rename(columns={'2022 Estimated': '2022','2023 Estimated':'2023'})\n",
    "\n",
    "melted = pd.melt(cancer, id_vars=['Research/Disease Areas \\n (Dollars in millions and rounded)'], \n",
    "        value_vars=fatal.columns[1:17],\n",
    "        var_name='year', value_name='value')\n",
    "melted['value'] = melted['value'].astype(int)\n",
    "fig = px.line(melted,x='year',y='value',title=\"change in cancer research funding, Million USD\")\n",
    "fig.update_layout(\n",
    "    xaxis = dict(\n",
    "        tickmode = 'linear',\n",
    "        tick0 = 1,\n",
    "        dtick = 1\n",
    "    )\n",
    ")"
   ]
  },
  {
   "attachments": {},
   "cell_type": "markdown",
   "metadata": {},
   "source": [
    "## Dashboard component - Example: Map"
   ]
  },
  {
   "attachments": {},
   "cell_type": "markdown",
   "metadata": {},
   "source": [
    "[Dash](https://plotly.com/dash/) is a built upon the plotly library and well-integrated with flask for web app deplotment. From their product description: \"Dash apps give a point-&-click interface to models written in Python, vastly expanding the notion of what's possible in a traditional 'dashboard.'\". Below is a demostration of how to transfer the choropleth maps we've plotted above to a web-based interactive dashboard.  "
   ]
  },
  {
   "attachments": {},
   "cell_type": "markdown",
   "metadata": {},
   "source": [
    "To get started, create a python file name **app.py**, where you would write the html components\n",
    "and callbacks (mainly for updating graphs based on user inputs); also make a new folder under the same directory name **assests**, where you will store your images and CSS (in **style.css**)"
   ]
  },
  {
   "cell_type": "markdown",
   "metadata": {},
   "source": [
    "In **app.py**, the code would look something like this: "
   ]
  },
  {
   "attachments": {},
   "cell_type": "markdown",
   "metadata": {},
   "source": [
    "```python\n",
    "# Run this app with `python app.py` and\n",
    "# visit http://127.0.0.1:8050/ in your web browser.\n",
    "\n",
    "from dash import Dash, html, dcc\n",
    "import plotly.express as px\n",
    "import pandas as pd\n",
    "\n",
    "# Initialize app\n",
    "app = Dash(__name__)\n",
    "\n",
    "# Define, read, or pull your data\n",
    "df = ...\n",
    "\n",
    "fig = px... # Define the graph you want to put on the dashboard\n",
    "\n",
    "app.layout = html.Div(children=[\n",
    "    html.H1(children='Hello Dash'),\n",
    "\n",
    "    html.Div(children='''\n",
    "        Dash: A web application framework for your df.\n",
    "    '''),\n",
    "\n",
    "    dcc.Graph(\n",
    "        id='example-graph',\n",
    "        figure=fig\n",
    "    )\n",
    "]) ## Define HTML layout\n",
    "\n",
    "## Just like flask\n",
    "if __name__ == '__main__':\n",
    "    app.run_server(debug=True) # Setting this to true will allow browser                     auto-refresh on code change\n",
    "```"
   ]
  },
  {
   "attachments": {},
   "cell_type": "markdown",
   "metadata": {},
   "source": [
    "If you want to read more about how this becomes what you will see in the borwser, you could read more [here](https://dash.plotly.com/layout)."
   ]
  },
  {
   "attachments": {},
   "cell_type": "markdown",
   "metadata": {},
   "source": [
    "```python\n",
    "#importing the necessary components\n",
    "import dash\n",
    "from dash import html, dcc\n",
    "from dash.dependencies import Input, Output, State\n",
    "import dash_daq as daq\n",
    "import dash_bootstrap_components as dbc\n",
    "import numpy as np\n",
    "import pandas as pd\n",
    "import plotly.graph_objs as go\n",
    "import plotly.express as px\n",
    "\n",
    "#host files on github\n",
    "path = 'https://raw.githubusercontent.com/linnilinnil/NIH-Fundings-Dashboard/main/'\n",
    "\n",
    "#read in file, for demo purpose they all come from pre-saved csv.\n",
    "fund_org = pd.read_csv(path + \"fund_org_avg.csv\")\n",
    "fund_pi = pd.read_csv(path + \"fund_pi_avg.csv\")\n",
    "fund_proj = pd.read_csv(path + \"fund_proj_avg.csv\")\n",
    "\n",
    "\n",
    "\n",
    "#------------------------------------------------------ APP ------------------------------------------------------ \n",
    "\n",
    "app = dash.Dash(__name__)\n",
    "\n",
    "server = app.server\n",
    "\n",
    "app.layout = html.Div([\n",
    "\n",
    "    html.Div([\n",
    "        html.H1(children='NIH FUNDING\\n& GRANTS DATA'),\n",
    "        html.Label(['We are interested in investigating the distributions and usage of NIH Research Project Grants & Fundings. We based our data analysis and visualization on some of the key questions asked by researchers regarding the NIH funding & grants data in this ',\n",
    "                    html.A('post.',href='https://nexus.od.nih.gov/all/2022/01/18/inequalities-in-the-distribution-of-national-institutes-of-health-research-project-grant-funding/')], \n",
    "                    style={'color':'rgb(33 36 35)'})\n",
    "    ], className='side_bar'),\n",
    "])\n",
    "\n",
    "if __name__ == '__main__':\n",
    "    app.run_server(debug=True)\n",
    "```"
   ]
  },
  {
   "attachments": {},
   "cell_type": "markdown",
   "metadata": {},
   "source": [
    "Which will show you something like this: "
   ]
  },
  {
   "attachments": {},
   "cell_type": "markdown",
   "metadata": {},
   "source": [
    "[INSERT BLANK PAGE HERE]"
   ]
  },
  {
   "attachments": {},
   "cell_type": "markdown",
   "metadata": {},
   "source": [
    "Then, we move on to add the choropleth to the page, and a slider option to choose which year's data to display. "
   ]
  },
  {
   "attachments": {},
   "cell_type": "markdown",
   "metadata": {},
   "source": [
    "To write a slider, we first define it before the app.layout, and create another html.div to store it. \n",
    "\n",
    "```python\n",
    "#define a slider\n",
    "year_slider = daq.Slider(\n",
    "        id = 'year_slider',\n",
    "        handleLabel={\"showCurrentValue\": True,\"label\": \"Year\"},\n",
    "        marks = {str(i):str(i) for i in years},\n",
    "        min = min(years),\n",
    "        max = max(years),\n",
    "        size=450, \n",
    "        color='0c4db4'\n",
    "    )\n",
    "#layout >>\n",
    "    #htmlDiv: for title and descripton\n",
    "    #htmlDiv: for year slider\n",
    "html.Div([year_slider], \n",
    "        style={'margin-left': '15%', 'position':'relative', 'top':'100px'}),\n",
    "\n",
    "```"
   ]
  },
  {
   "attachments": {},
   "cell_type": "markdown",
   "metadata": {},
   "source": [
    "[INSERT SLIDER IMAGE]"
   ]
  },
  {
   "attachments": {},
   "cell_type": "markdown",
   "metadata": {},
   "source": [
    "We now move on to the graph component, which would be hosted under dcc.Graph:\n",
    "\n",
    "```python\n",
    "##after the slider div\n",
    " dcc.Graph(id='map', \n",
    "              figure = dict(\n",
    "              ),\n",
    "              style={'position':'relative', 'top':'200px'})\n",
    "```\n",
    "\n",
    "Don't worry about how empty it looks at the moment, we would add a [**callback**](https://dash.plotly.com/basic-callbacks) function to update the graph content based on the slider selection. Callbacks are functions that are automatically called by Dash whenever an input component's property changes, in order to update some property in another component (the output).\n",
    "\n",
    "(To include other existing user selected components as inputs, that might not necessarily be changed along the specified input, use [State]）"
   ]
  },
  {
   "attachments": {},
   "cell_type": "markdown",
   "metadata": {},
   "source": [
    "In this callback, we return a plotly figure (which consists of the data and layout components) based on the user-selected year and the dataframes that already exsit in the environment. \n",
    "\n",
    "```python\n",
    "\n",
    "@app.callback(\n",
    "    Output(component_id='map', component_property='figure'),\n",
    "    Input(component_id='year_slider', component_property='value')\n",
    ")\n",
    "def update_map(yr):\n",
    "    by_year = fund_proj[fund_proj['YEAR']==int(yr)]\n",
    "    by_year = by_year.groupby(\n",
    "    ['CODE']\n",
    "    )['FUNDING'].agg('mean').reset_index(0)\n",
    "\n",
    "    fig = px.choropleth(by_year,color='FUNDING',\n",
    "                        locations=\"CODE\", \n",
    "                        locationmode=\"USA-states\", \n",
    "                        scope=\"usa\",\n",
    "                        range_color=(0, 2*10e5),\n",
    "                        width=800,\n",
    "                        height=500)\n",
    " \n",
    "    return fig\n",
    "```"
   ]
  },
  {
   "attachments": {},
   "cell_type": "markdown",
   "metadata": {},
   "source": [
    "## Final Dashboard "
   ]
  },
  {
   "attachments": {},
   "cell_type": "markdown",
   "metadata": {},
   "source": [
    "Because there are quite a lot of components on this dashboard, I wouldn't go through the nitty-gritty of integrating every single one of them. Instead, here is a visualization of the dashboard structure: "
   ]
  },
  {
   "attachments": {},
   "cell_type": "markdown",
   "metadata": {},
   "source": [
    "[INSERT DASHBORD STRUCTURE HERE]"
   ]
  },
  {
   "attachments": {},
   "cell_type": "markdown",
   "metadata": {},
   "source": [
    "## Discussion"
   ]
  },
  {
   "attachments": {},
   "cell_type": "markdown",
   "metadata": {},
   "source": [
    "### Risk "
   ]
  },
  {
   "attachments": {},
   "cell_type": "markdown",
   "metadata": {},
   "source": [
    "### Impact"
   ]
  },
  {
   "attachments": {},
   "cell_type": "markdown",
   "metadata": {},
   "source": [
    "### Next step"
   ]
  },
  {
   "cell_type": "markdown",
   "metadata": {},
   "source": []
  }
 ],
 "metadata": {
  "kernelspec": {
   "display_name": "base",
   "language": "python",
   "name": "python3"
  },
  "language_info": {
   "codemirror_mode": {
    "name": "ipython",
    "version": 3
   },
   "file_extension": ".py",
   "mimetype": "text/x-python",
   "name": "python",
   "nbconvert_exporter": "python",
   "pygments_lexer": "ipython3",
   "version": "3.8.8"
  },
  "orig_nbformat": 4
 },
 "nbformat": 4,
 "nbformat_minor": 2
}
